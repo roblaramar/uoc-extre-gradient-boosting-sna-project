{
  "nbformat": 4,
  "nbformat_minor": 0,
  "metadata": {
    "colab": {
      "name": "Chapter 7 - Experimental results.ipynb",
      "provenance": [],
      "collapsed_sections": []
    },
    "kernelspec": {
      "name": "python3",
      "display_name": "Python 3"
    }
  },
  "cells": [
    {
      "cell_type": "markdown",
      "metadata": {
        "id": "THMY-VBTSuoc",
        "colab_type": "text"
      },
      "source": [
        "# Chapter 7: Experimental results\n",
        "\n",
        "## 0. Loading the data and installing libraries\n",
        "\n",
        "First, we are going to install the dependencies. If you do not have XGBoost on your system please run the following cell:"
      ]
    },
    {
      "cell_type": "code",
      "metadata": {
        "id": "vw5BH46ZSqwo",
        "colab_type": "code",
        "colab": {}
      },
      "source": [
        "pip install xgboost"
      ],
      "execution_count": 0,
      "outputs": []
    },
    {
      "cell_type": "markdown",
      "metadata": {
        "id": "2lIsBqpg0Vzf",
        "colab_type": "text"
      },
      "source": [
        "For Google Colab, this cell must be executed each time a notebook is initialized. It will also install ray library."
      ]
    },
    {
      "cell_type": "code",
      "metadata": {
        "id": "hyqR4Py49qke",
        "colab_type": "code",
        "colab": {}
      },
      "source": [
        "!pip uninstall -y -q pyarrow\n",
        "!pip install -q ray"
      ],
      "execution_count": 0,
      "outputs": []
    },
    {
      "cell_type": "markdown",
      "metadata": {
        "id": "cDHrQkvd9vU_",
        "colab_type": "text"
      },
      "source": [
        "Now we can mount our GDrive:"
      ]
    },
    {
      "cell_type": "code",
      "metadata": {
        "id": "sFu5vcidS2wl",
        "colab_type": "code",
        "outputId": "f88195f7-243c-41f0-b0e0-1702798bc128",
        "colab": {
          "base_uri": "https://localhost:8080/",
          "height": 122
        }
      },
      "source": [
        "# Import libraries\n",
        "import pandas as pd\n",
        "from google.colab import drive\n",
        "\n",
        "# Mount GDrive\n",
        "drive.mount('/content/drive/')"
      ],
      "execution_count": 0,
      "outputs": [
        {
          "output_type": "stream",
          "text": [
            "Go to this URL in a browser: https://accounts.google.com/o/oauth2/auth?client_id=947318989803-6bn6qk8qdgf4n4g3pfee6491hc0brc4i.apps.googleusercontent.com&redirect_uri=urn%3aietf%3awg%3aoauth%3a2.0%3aoob&response_type=code&scope=email%20https%3a%2f%2fwww.googleapis.com%2fauth%2fdocs.test%20https%3a%2f%2fwww.googleapis.com%2fauth%2fdrive%20https%3a%2f%2fwww.googleapis.com%2fauth%2fdrive.photos.readonly%20https%3a%2f%2fwww.googleapis.com%2fauth%2fpeopleapi.readonly\n",
            "\n",
            "Enter your authorization code:\n",
            "··········\n",
            "Mounted at /content/drive/\n"
          ],
          "name": "stdout"
        }
      ]
    },
    {
      "cell_type": "markdown",
      "metadata": {
        "id": "rDdR_sxfKLvl",
        "colab_type": "text"
      },
      "source": [
        "After GDrive mounting, we can load the data into a Pandas DataFrame:"
      ]
    },
    {
      "cell_type": "code",
      "metadata": {
        "id": "mq3nsffFS4ql",
        "colab_type": "code",
        "outputId": "77b3a8d1-f999-4ab5-fb69-77d16d25269a",
        "colab": {
          "base_uri": "https://localhost:8080/",
          "height": 204
        }
      },
      "source": [
        "# Import this method to convert string of list into a list\n",
        "from ast import literal_eval\n",
        "\n",
        "# Load the data into a Pandas DataFrame\n",
        "review_df = pd.read_csv(\"/content/drive/My Drive/TFM/yelp_final_data.csv\", converters={\"text\":literal_eval})\n",
        "\n",
        "# Show 5 columns as an example\n",
        "review_df.head()"
      ],
      "execution_count": 0,
      "outputs": [
        {
          "output_type": "execute_result",
          "data": {
            "text/html": [
              "<div>\n",
              "<style scoped>\n",
              "    .dataframe tbody tr th:only-of-type {\n",
              "        vertical-align: middle;\n",
              "    }\n",
              "\n",
              "    .dataframe tbody tr th {\n",
              "        vertical-align: top;\n",
              "    }\n",
              "\n",
              "    .dataframe thead th {\n",
              "        text-align: right;\n",
              "    }\n",
              "</style>\n",
              "<table border=\"1\" class=\"dataframe\">\n",
              "  <thead>\n",
              "    <tr style=\"text-align: right;\">\n",
              "      <th></th>\n",
              "      <th>text</th>\n",
              "      <th>stars</th>\n",
              "    </tr>\n",
              "  </thead>\n",
              "  <tbody>\n",
              "    <tr>\n",
              "      <th>0</th>\n",
              "      <td>[0.15115709602832794, 1.2984539270401, -0.2926...</td>\n",
              "      <td>1</td>\n",
              "    </tr>\n",
              "    <tr>\n",
              "      <th>1</th>\n",
              "      <td>[-0.5212148427963257, -0.585378885269165, -0.7...</td>\n",
              "      <td>1</td>\n",
              "    </tr>\n",
              "    <tr>\n",
              "      <th>2</th>\n",
              "      <td>[-0.6769105792045593, 1.1047179698944092, 1.45...</td>\n",
              "      <td>1</td>\n",
              "    </tr>\n",
              "    <tr>\n",
              "      <th>3</th>\n",
              "      <td>[-1.2831478118896484, 0.6724963784217834, -0.1...</td>\n",
              "      <td>1</td>\n",
              "    </tr>\n",
              "    <tr>\n",
              "      <th>4</th>\n",
              "      <td>[-1.0676878690719604, 0.5427433848381042, 0.44...</td>\n",
              "      <td>1</td>\n",
              "    </tr>\n",
              "  </tbody>\n",
              "</table>\n",
              "</div>"
            ],
            "text/plain": [
              "                                                text  stars\n",
              "0  [0.15115709602832794, 1.2984539270401, -0.2926...      1\n",
              "1  [-0.5212148427963257, -0.585378885269165, -0.7...      1\n",
              "2  [-0.6769105792045593, 1.1047179698944092, 1.45...      1\n",
              "3  [-1.2831478118896484, 0.6724963784217834, -0.1...      1\n",
              "4  [-1.0676878690719604, 0.5427433848381042, 0.44...      1"
            ]
          },
          "metadata": {
            "tags": []
          },
          "execution_count": 5
        }
      ]
    },
    {
      "cell_type": "markdown",
      "metadata": {
        "id": "HfGWjrj0KdQv",
        "colab_type": "text"
      },
      "source": [
        "For the algorithm to work, stars class should start at 0."
      ]
    },
    {
      "cell_type": "code",
      "metadata": {
        "id": "k3plakiguMD3",
        "colab_type": "code",
        "outputId": "09b3cefd-bb18-4cca-bdf7-5a94a3e2f3a6",
        "colab": {
          "base_uri": "https://localhost:8080/",
          "height": 204
        }
      },
      "source": [
        "# Substract one star so stars start from 0\n",
        "review_df['stars'] = review_df['stars']-1\n",
        "\n",
        "# Show 5 rows as an example\n",
        "review_df.head()"
      ],
      "execution_count": 0,
      "outputs": [
        {
          "output_type": "execute_result",
          "data": {
            "text/html": [
              "<div>\n",
              "<style scoped>\n",
              "    .dataframe tbody tr th:only-of-type {\n",
              "        vertical-align: middle;\n",
              "    }\n",
              "\n",
              "    .dataframe tbody tr th {\n",
              "        vertical-align: top;\n",
              "    }\n",
              "\n",
              "    .dataframe thead th {\n",
              "        text-align: right;\n",
              "    }\n",
              "</style>\n",
              "<table border=\"1\" class=\"dataframe\">\n",
              "  <thead>\n",
              "    <tr style=\"text-align: right;\">\n",
              "      <th></th>\n",
              "      <th>text</th>\n",
              "      <th>stars</th>\n",
              "    </tr>\n",
              "  </thead>\n",
              "  <tbody>\n",
              "    <tr>\n",
              "      <th>0</th>\n",
              "      <td>[0.15115709602832794, 1.2984539270401, -0.2926...</td>\n",
              "      <td>0</td>\n",
              "    </tr>\n",
              "    <tr>\n",
              "      <th>1</th>\n",
              "      <td>[-0.5212148427963257, -0.585378885269165, -0.7...</td>\n",
              "      <td>0</td>\n",
              "    </tr>\n",
              "    <tr>\n",
              "      <th>2</th>\n",
              "      <td>[-0.6769105792045593, 1.1047179698944092, 1.45...</td>\n",
              "      <td>0</td>\n",
              "    </tr>\n",
              "    <tr>\n",
              "      <th>3</th>\n",
              "      <td>[-1.2831478118896484, 0.6724963784217834, -0.1...</td>\n",
              "      <td>0</td>\n",
              "    </tr>\n",
              "    <tr>\n",
              "      <th>4</th>\n",
              "      <td>[-1.0676878690719604, 0.5427433848381042, 0.44...</td>\n",
              "      <td>0</td>\n",
              "    </tr>\n",
              "  </tbody>\n",
              "</table>\n",
              "</div>"
            ],
            "text/plain": [
              "                                                text  stars\n",
              "0  [0.15115709602832794, 1.2984539270401, -0.2926...      0\n",
              "1  [-0.5212148427963257, -0.585378885269165, -0.7...      0\n",
              "2  [-0.6769105792045593, 1.1047179698944092, 1.45...      0\n",
              "3  [-1.2831478118896484, 0.6724963784217834, -0.1...      0\n",
              "4  [-1.0676878690719604, 0.5427433848381042, 0.44...      0"
            ]
          },
          "metadata": {
            "tags": []
          },
          "execution_count": 6
        }
      ]
    },
    {
      "cell_type": "markdown",
      "metadata": {
        "id": "0nO2W1UrKv6h",
        "colab_type": "text"
      },
      "source": [
        "Last, we split the dataset into training and test:"
      ]
    },
    {
      "cell_type": "code",
      "metadata": {
        "id": "DV5SfQ-VTfex",
        "colab_type": "code",
        "colab": {}
      },
      "source": [
        "# Import libraries for splitting\n",
        "import numpy as np\n",
        "from sklearn.model_selection import train_test_split\n",
        "\n",
        "# Store input data into an array\n",
        "X = review_df.text.apply(pd.Series).values\n",
        "# Store labels into an array\n",
        "y = review_df.stars.values\n",
        "\n",
        "# Do a stratifyed split of data. Test data will be a 30% of the total \n",
        "X_train, X_test, y_train, y_test = train_test_split(X, y, test_size=0.3, random_state=2020, stratify=y)"
      ],
      "execution_count": 0,
      "outputs": []
    },
    {
      "cell_type": "markdown",
      "metadata": {
        "id": "Z3ucHhUoaHVc",
        "colab_type": "text"
      },
      "source": [
        "## 1. PBT\n",
        "\n",
        "First, we need to import the models and metrics. To store the trained models, we will use the os library."
      ]
    },
    {
      "cell_type": "code",
      "metadata": {
        "id": "3lBbtowlZbRX",
        "colab_type": "code",
        "colab": {}
      },
      "source": [
        "import xgboost as xgb\n",
        "import sklearn.metrics\n",
        "from ray import tune\n",
        "from ray.tune.schedulers import PopulationBasedTraining\n",
        "import os"
      ],
      "execution_count": 0,
      "outputs": []
    },
    {
      "cell_type": "markdown",
      "metadata": {
        "id": "VsAUCS9SPRMm",
        "colab_type": "text"
      },
      "source": [
        "We need to define the trainable class for XGBoost. This class will be used for BOHB too."
      ]
    },
    {
      "cell_type": "code",
      "metadata": {
        "id": "fVhOuVam2T3H",
        "colab_type": "code",
        "colab": {}
      },
      "source": [
        "# We define a trainable class for XGBoost\n",
        "class XGBoost_trainable(tune.Trainable):\n",
        "\n",
        "    # Basic setup. Calls XGBoost sklearn classifier\n",
        "    def _setup(self, config):\n",
        "        self.model = xgb.XGBClassifier()\n",
        "        self.params = config\n",
        "\n",
        "    # Model training    \n",
        "    def _train(self):\n",
        "        # Configure hyperparameters for a model\n",
        "        self.model = self.model.set_params(**self.params)\n",
        "        # Train a model\n",
        "        self.model = self.model.fit(X=X_train,y=y_train)\n",
        "        # Test model's accuracy. Recall that we will use a softprob objective\n",
        "        # Predict class on test data\n",
        "        preds = self.model.predict(X_test)\n",
        "        # Get class of prediction based on its max probability\n",
        "        pred_labels = np.asarray([np.argmax(line) for line in preds])\n",
        "        # Compute mean accuracy\n",
        "        acc = sklearn.metrics.accuracy_score(y_test, pred_labels)\n",
        "        # Return mean accuracy\n",
        "        return {\"mean_accuracy\": acc}\n",
        "\n",
        "    # Save model\n",
        "    def _save(self, checkpoint_dir):\n",
        "        # Create string of directory\n",
        "        checkpoint_path = os.path.join(checkpoint_dir, \"model.pth\")\n",
        "        # Save model using XGBoost method\n",
        "        self.model.save_model(checkpoint_path)\n",
        "        return checkpoint_path\n",
        "\n",
        "    # Restore model\n",
        "    def _restore(self, checkpoint_path):\n",
        "        #Restore using XGBoost method\n",
        "        self.model.load_model(checkpoint_path)\n",
        "\n",
        "    # Restore config of restored model\n",
        "    def reset_config(self, new_config):\n",
        "        self.config = new_config\n",
        "        return True\n"
      ],
      "execution_count": 0,
      "outputs": []
    },
    {
      "cell_type": "markdown",
      "metadata": {
        "id": "Jjv3r4x0ZgrI",
        "colab_type": "text"
      },
      "source": [
        "We can now execute a PBT search:"
      ]
    },
    {
      "cell_type": "code",
      "metadata": {
        "id": "jwIwG1RhoFsh",
        "colab_type": "code",
        "outputId": "14a70d8f-b2ce-4872-d864-b504ded4c78f",
        "colab": {
          "base_uri": "https://localhost:8080/",
          "height": 1000
        }
      },
      "source": [
        "# Define number of threads. For Google Colab, the maximum is 2\n",
        "num_threads = 2\n",
        "# Define parameters for XGBoost (randomly initialize the studied ones)\n",
        "config = {\n",
        "    \"verbosity\": 0,\n",
        "    \"objective\": \"multi:softprob\",\n",
        "    \"num_class\": 5,\n",
        "    \"eval_metric\": \"merror\",\n",
        "    \"max_depth\": tune.randint(1, 9),\n",
        "    \"eta\": tune.loguniform(1e-4, 1e-1),\n",
        "    \"gamma\": tune.loguniform(1e-8, 1.0),\n",
        "    \"grow_policy\": tune.choice([\"depthwise\", \"lossguide\"])\n",
        "}\n",
        "\n",
        "# Create a PBT scheduler\n",
        "pbt = PopulationBasedTraining(\n",
        "    metric = \"mean_accuracy\",\n",
        "    mode = \"max\",\n",
        "    hyperparam_mutations={\n",
        "      \"max_depth\": lambda: np.random.randint(1, 9),\n",
        "      \"eta\": lambda: np.random.uniform(np.log(1e-4)/np.log(10), np.log(1e-1)/np.log(10)),\n",
        "      \"gamma\": lambda: np.random.uniform(np.log(1e-8)/np.log(10), np.log(1)/np.log(10)),\n",
        "      \"grow_policy\": [\"depthwise\", \"lossguide\"]\n",
        "    })\n",
        "\n",
        "# Run PBT and store the outputs to a variable\n",
        "analysis = tune.run(\n",
        "    XGBoost_trainable,\n",
        "    resources_per_trial={\"cpu\": 1},\n",
        "    config=config,\n",
        "    num_samples = 4,\n",
        "    stop={\"training_iteration\": 10},\n",
        "    reuse_actors=True,\n",
        "    scheduler=pbt)"
      ],
      "execution_count": 0,
      "outputs": [
        {
          "output_type": "stream",
          "text": [
            "2020-01-13 13:31:29,625\tWARNING worker.py:673 -- WARNING: Not updating worker name since `setproctitle` is not installed. Install this with `pip install setproctitle` (or ray[debug]) to enable monitoring of worker processes.\n",
            "2020-01-13 13:31:29,629\tWARNING services.py:597 -- setpgrp failed, processes may not be cleaned up properly: [Errno 1] Operation not permitted.\n",
            "2020-01-13 13:31:29,633\tINFO resource_spec.py:216 -- Starting Ray with 6.1 GiB memory available for workers and up to 3.06 GiB for objects. You can adjust these settings with ray.init(memory=<bytes>, object_store_memory=<bytes>).\n"
          ],
          "name": "stderr"
        },
        {
          "output_type": "display_data",
          "data": {
            "text/html": [
              "<p style=\"color: red;\">\n",
              "The default version of TensorFlow in Colab will soon switch to TensorFlow 2.x.<br>\n",
              "We recommend you <a href=\"https://www.tensorflow.org/guide/migrate\" target=\"_blank\">upgrade</a> now \n",
              "or ensure your notebook will continue to use TensorFlow 1.x via the <code>%tensorflow_version 1.x</code> magic:\n",
              "<a href=\"https://colab.research.google.com/notebooks/tensorflow_version.ipynb\" target=\"_blank\">more info</a>.</p>\n"
            ],
            "text/plain": [
              "<IPython.core.display.HTML object>"
            ]
          },
          "metadata": {
            "tags": []
          }
        },
        {
          "output_type": "stream",
          "text": [
            "2020-01-13 13:31:35,063\tINFO ray_trial_executor.py:121 -- Trial XGBoost_trainable_027d3ac0: Setting up new remote runner.\n",
            "2020-01-13 13:31:35,141\tWARNING worker.py:1054 -- Warning: The actor XGBoost_trainable has size 24243515 when pickled. It will be stored in Redis, which could cause memory issues. This may mean that its definition uses a large array or other object.\n"
          ],
          "name": "stderr"
        },
        {
          "output_type": "display_data",
          "data": {
            "text/html": [
              "== Status ==<br>Memory usage on this node: 1.4/12.7 GiB<br>PopulationBasedTraining: 0 checkpoints, 0 perturbs<br>Resources requested: 1/2 CPUs, 0/0 GPUs, 0.0/6.1 GiB heap, 0.0/2.1 GiB objects<br>Result logdir: /root/ray_results/XGBoost_trainable<br>Number of trials: 4 (1 RUNNING, 3 PENDING)<br><table>\n",
              "<thead>\n",
              "<tr><th>Trial name                </th><th>status  </th><th>loc  </th><th>grow_policy  </th><th>eta  </th><th>gamma  </th><th>max_depth  </th></tr>\n",
              "</thead>\n",
              "<tbody>\n",
              "<tr><td>XGBoost_trainable_027d3ac0</td><td>RUNNING </td><td>     </td><td>             </td><td>     </td><td>       </td><td>           </td></tr>\n",
              "<tr><td>XGBoost_trainable_02f9e0c0</td><td>PENDING </td><td>     </td><td>             </td><td>     </td><td>       </td><td>           </td></tr>\n",
              "<tr><td>XGBoost_trainable_0373cc96</td><td>PENDING </td><td>     </td><td>             </td><td>     </td><td>       </td><td>           </td></tr>\n",
              "<tr><td>XGBoost_trainable_03b51f0c</td><td>PENDING </td><td>     </td><td>             </td><td>     </td><td>       </td><td>           </td></tr>\n",
              "</tbody>\n",
              "</table><br><br>"
            ],
            "text/plain": [
              "<IPython.core.display.HTML object>"
            ]
          },
          "metadata": {
            "tags": []
          }
        },
        {
          "output_type": "stream",
          "text": [
            "2020-01-13 13:31:35,450\tINFO ray_trial_executor.py:121 -- Trial XGBoost_trainable_02f9e0c0: Setting up new remote runner.\n",
            "2020-01-13 13:31:35,512\tWARNING worker.py:1054 -- Warning: The actor XGBoost_trainable has size 24243515 when pickled. It will be stored in Redis, which could cause memory issues. This may mean that its definition uses a large array or other object.\n"
          ],
          "name": "stderr"
        },
        {
          "output_type": "stream",
          "text": [
            "Result for XGBoost_trainable_02f9e0c0:\n",
            "  date: 2020-01-13_13-33-04\n",
            "  done: false\n",
            "  experiment_id: d2f64d6ceaa5461594a0197d30013537\n",
            "  experiment_tag: 1_eta=0.00056603,gamma=2.9078e-08,grow_policy=lossguide,max_depth=2\n",
            "  hostname: 9991d65102f3\n",
            "  iterations_since_restore: 1\n",
            "  mean_accuracy: 0.2\n",
            "  node_ip: 172.28.0.2\n",
            "  pid: 388\n",
            "  time_since_restore: 87.33367156982422\n",
            "  time_this_iter_s: 87.33367156982422\n",
            "  time_total_s: 87.33367156982422\n",
            "  timestamp: 1578922384\n",
            "  timesteps_since_restore: 0\n",
            "  training_iteration: 1\n",
            "  trial_id: 02f9e0c0\n",
            "  \n"
          ],
          "name": "stdout"
        },
        {
          "output_type": "display_data",
          "data": {
            "text/html": [
              "== Status ==<br>Memory usage on this node: 1.5/12.7 GiB<br>PopulationBasedTraining: 0 checkpoints, 0 perturbs<br>Resources requested: 1/2 CPUs, 0/0 GPUs, 0.0/6.1 GiB heap, 0.0/2.1 GiB objects<br>Result logdir: /root/ray_results/XGBoost_trainable<br>Number of trials: 4 (1 RUNNING, 1 PAUSED, 2 PENDING)<br><table>\n",
              "<thead>\n",
              "<tr><th>Trial name                </th><th>status  </th><th>loc  </th><th>grow_policy  </th><th style=\"text-align: right;\">        eta</th><th style=\"text-align: right;\">      gamma</th><th style=\"text-align: right;\">  max_depth</th><th style=\"text-align: right;\">  iter</th><th style=\"text-align: right;\">  total time (s)</th><th style=\"text-align: right;\">  acc</th></tr>\n",
              "</thead>\n",
              "<tbody>\n",
              "<tr><td>XGBoost_trainable_027d3ac0</td><td>RUNNING </td><td>     </td><td>             </td><td style=\"text-align: right;\">           </td><td style=\"text-align: right;\">           </td><td style=\"text-align: right;\">           </td><td style=\"text-align: right;\">      </td><td style=\"text-align: right;\">                </td><td style=\"text-align: right;\">     </td></tr>\n",
              "<tr><td>XGBoost_trainable_02f9e0c0</td><td>PAUSED  </td><td>     </td><td>lossguide    </td><td style=\"text-align: right;\">0.000566029</td><td style=\"text-align: right;\">2.90777e-08</td><td style=\"text-align: right;\">          2</td><td style=\"text-align: right;\">     1</td><td style=\"text-align: right;\">         87.3337</td><td style=\"text-align: right;\">  0.2</td></tr>\n",
              "<tr><td>XGBoost_trainable_0373cc96</td><td>PENDING </td><td>     </td><td>             </td><td style=\"text-align: right;\">           </td><td style=\"text-align: right;\">           </td><td style=\"text-align: right;\">           </td><td style=\"text-align: right;\">      </td><td style=\"text-align: right;\">                </td><td style=\"text-align: right;\">     </td></tr>\n",
              "<tr><td>XGBoost_trainable_03b51f0c</td><td>PENDING </td><td>     </td><td>             </td><td style=\"text-align: right;\">           </td><td style=\"text-align: right;\">           </td><td style=\"text-align: right;\">           </td><td style=\"text-align: right;\">      </td><td style=\"text-align: right;\">                </td><td style=\"text-align: right;\">     </td></tr>\n",
              "</tbody>\n",
              "</table><br><br>"
            ],
            "text/plain": [
              "<IPython.core.display.HTML object>"
            ]
          },
          "metadata": {
            "tags": []
          }
        },
        {
          "output_type": "stream",
          "text": [
            "2020-01-13 13:33:04,310\tINFO ray_trial_executor.py:121 -- Trial XGBoost_trainable_0373cc96: Setting up new remote runner.\n",
            "2020-01-13 13:33:04,407\tWARNING worker.py:1054 -- Warning: The actor XGBoost_trainable has size 24243515 when pickled. It will be stored in Redis, which could cause memory issues. This may mean that its definition uses a large array or other object.\n"
          ],
          "name": "stderr"
        },
        {
          "output_type": "stream",
          "text": [
            "Result for XGBoost_trainable_0373cc96:\n",
            "  date: 2020-01-13_13-33-53\n",
            "  done: false\n",
            "  experiment_id: 7f6e26f2963b43d4b6f7c8b25c7e722a\n",
            "  experiment_tag: 2_eta=0.0058732,gamma=2.6895e-07,grow_policy=lossguide,max_depth=1\n",
            "  hostname: 9991d65102f3\n",
            "  iterations_since_restore: 1\n",
            "  mean_accuracy: 0.2\n",
            "  node_ip: 172.28.0.2\n",
            "  pid: 474\n",
            "  time_since_restore: 46.43854308128357\n",
            "  time_this_iter_s: 46.43854308128357\n",
            "  time_total_s: 46.43854308128357\n",
            "  timestamp: 1578922433\n",
            "  timesteps_since_restore: 0\n",
            "  training_iteration: 1\n",
            "  trial_id: 0373cc96\n",
            "  \n"
          ],
          "name": "stdout"
        },
        {
          "output_type": "display_data",
          "data": {
            "text/html": [
              "== Status ==<br>Memory usage on this node: 1.5/12.7 GiB<br>PopulationBasedTraining: 0 checkpoints, 0 perturbs<br>Resources requested: 2/2 CPUs, 0/0 GPUs, 0.0/6.1 GiB heap, 0.0/2.1 GiB objects<br>Result logdir: /root/ray_results/XGBoost_trainable<br>Number of trials: 4 (2 RUNNING, 1 PAUSED, 1 PENDING)<br><table>\n",
              "<thead>\n",
              "<tr><th>Trial name                </th><th>status  </th><th>loc           </th><th>grow_policy  </th><th style=\"text-align: right;\">        eta</th><th style=\"text-align: right;\">      gamma</th><th style=\"text-align: right;\">  max_depth</th><th style=\"text-align: right;\">  iter</th><th style=\"text-align: right;\">  total time (s)</th><th style=\"text-align: right;\">  acc</th></tr>\n",
              "</thead>\n",
              "<tbody>\n",
              "<tr><td>XGBoost_trainable_027d3ac0</td><td>RUNNING </td><td>              </td><td>             </td><td style=\"text-align: right;\">           </td><td style=\"text-align: right;\">           </td><td style=\"text-align: right;\">           </td><td style=\"text-align: right;\">      </td><td style=\"text-align: right;\">                </td><td style=\"text-align: right;\">     </td></tr>\n",
              "<tr><td>XGBoost_trainable_02f9e0c0</td><td>PAUSED  </td><td>              </td><td>lossguide    </td><td style=\"text-align: right;\">0.000566029</td><td style=\"text-align: right;\">2.90777e-08</td><td style=\"text-align: right;\">          2</td><td style=\"text-align: right;\">     1</td><td style=\"text-align: right;\">         87.3337</td><td style=\"text-align: right;\">  0.2</td></tr>\n",
              "<tr><td>XGBoost_trainable_0373cc96</td><td>RUNNING </td><td>172.28.0.2:474</td><td>lossguide    </td><td style=\"text-align: right;\">0.00587324 </td><td style=\"text-align: right;\">2.68948e-07</td><td style=\"text-align: right;\">          1</td><td style=\"text-align: right;\">     1</td><td style=\"text-align: right;\">         46.4385</td><td style=\"text-align: right;\">  0.2</td></tr>\n",
              "<tr><td>XGBoost_trainable_03b51f0c</td><td>PENDING </td><td>              </td><td>             </td><td style=\"text-align: right;\">           </td><td style=\"text-align: right;\">           </td><td style=\"text-align: right;\">           </td><td style=\"text-align: right;\">      </td><td style=\"text-align: right;\">                </td><td style=\"text-align: right;\">     </td></tr>\n",
              "</tbody>\n",
              "</table><br><br>"
            ],
            "text/plain": [
              "<IPython.core.display.HTML object>"
            ]
          },
          "metadata": {
            "tags": []
          }
        },
        {
          "output_type": "stream",
          "text": [
            "Result for XGBoost_trainable_0373cc96:\n",
            "  date: 2020-01-13_13-34-38\n",
            "  done: false\n",
            "  experiment_id: 7f6e26f2963b43d4b6f7c8b25c7e722a\n",
            "  experiment_tag: 2_eta=0.0058732,gamma=2.6895e-07,grow_policy=lossguide,max_depth=1\n",
            "  hostname: 9991d65102f3\n",
            "  iterations_since_restore: 2\n",
            "  mean_accuracy: 0.2\n",
            "  node_ip: 172.28.0.2\n",
            "  pid: 474\n",
            "  time_since_restore: 91.4617555141449\n",
            "  time_this_iter_s: 45.02321243286133\n",
            "  time_total_s: 91.4617555141449\n",
            "  timestamp: 1578922478\n",
            "  timesteps_since_restore: 0\n",
            "  training_iteration: 2\n",
            "  trial_id: 0373cc96\n",
            "  \n"
          ],
          "name": "stdout"
        },
        {
          "output_type": "display_data",
          "data": {
            "text/html": [
              "== Status ==<br>Memory usage on this node: 1.5/12.7 GiB<br>PopulationBasedTraining: 1 checkpoints, 0 perturbs<br>Resources requested: 1/2 CPUs, 0/0 GPUs, 0.0/6.1 GiB heap, 0.0/2.1 GiB objects<br>Result logdir: /root/ray_results/XGBoost_trainable<br>Number of trials: 4 (1 RUNNING, 2 PAUSED, 1 PENDING)<br><table>\n",
              "<thead>\n",
              "<tr><th>Trial name                </th><th>status  </th><th>loc  </th><th>grow_policy  </th><th style=\"text-align: right;\">        eta</th><th style=\"text-align: right;\">      gamma</th><th style=\"text-align: right;\">  max_depth</th><th style=\"text-align: right;\">  iter</th><th style=\"text-align: right;\">  total time (s)</th><th style=\"text-align: right;\">  acc</th></tr>\n",
              "</thead>\n",
              "<tbody>\n",
              "<tr><td>XGBoost_trainable_027d3ac0</td><td>RUNNING </td><td>     </td><td>             </td><td style=\"text-align: right;\">           </td><td style=\"text-align: right;\">           </td><td style=\"text-align: right;\">           </td><td style=\"text-align: right;\">      </td><td style=\"text-align: right;\">                </td><td style=\"text-align: right;\">     </td></tr>\n",
              "<tr><td>XGBoost_trainable_02f9e0c0</td><td>PAUSED  </td><td>     </td><td>lossguide    </td><td style=\"text-align: right;\">0.000566029</td><td style=\"text-align: right;\">2.90777e-08</td><td style=\"text-align: right;\">          2</td><td style=\"text-align: right;\">     1</td><td style=\"text-align: right;\">         87.3337</td><td style=\"text-align: right;\">  0.2</td></tr>\n",
              "<tr><td>XGBoost_trainable_0373cc96</td><td>PAUSED  </td><td>     </td><td>lossguide    </td><td style=\"text-align: right;\">0.00587324 </td><td style=\"text-align: right;\">2.68948e-07</td><td style=\"text-align: right;\">          1</td><td style=\"text-align: right;\">     2</td><td style=\"text-align: right;\">         91.4618</td><td style=\"text-align: right;\">  0.2</td></tr>\n",
              "<tr><td>XGBoost_trainable_03b51f0c</td><td>PENDING </td><td>     </td><td>             </td><td style=\"text-align: right;\">           </td><td style=\"text-align: right;\">           </td><td style=\"text-align: right;\">           </td><td style=\"text-align: right;\">      </td><td style=\"text-align: right;\">                </td><td style=\"text-align: right;\">     </td></tr>\n",
              "</tbody>\n",
              "</table><br><br>"
            ],
            "text/plain": [
              "<IPython.core.display.HTML object>"
            ]
          },
          "metadata": {
            "tags": []
          }
        },
        {
          "output_type": "stream",
          "text": [
            "2020-01-13 13:34:38,658\tINFO ray_trial_executor.py:121 -- Trial XGBoost_trainable_03b51f0c: Setting up new remote runner.\n",
            "2020-01-13 13:34:38,762\tWARNING worker.py:1054 -- Warning: The actor XGBoost_trainable has size 24243515 when pickled. It will be stored in Redis, which could cause memory issues. This may mean that its definition uses a large array or other object.\n",
            "2020-01-13 13:34:38,835\tWARNING util.py:140 -- The `start_trial` operation took 0.5259013175964355 seconds to complete, which may be a performance bottleneck.\n",
            "2020-01-13 13:37:15,482\tINFO pbt.py:83 -- [explore] perturbed config from {'verbosity': 0, 'objective': 'multi:softprob', 'num_class': 5, 'booster': 'gbtree', 'eval_metric': 'merror', 'max_depth': 1, 'eta': 0.00587323670168573, 'gamma': 2.689480236959982e-07, 'grow_policy': 'lossguide'} -> {'verbosity': 0, 'objective': 'multi:softprob', 'num_class': 5, 'booster': 'gbtree', 'eval_metric': 'merror', 'max_depth': 0, 'eta': 0.004698589361348584, 'gamma': 3.227376284351978e-07, 'grow_policy': 'depthwise'}\n",
            "2020-01-13 13:37:15,484\tINFO pbt.py:315 -- [exploit] transferring weights from trial XGBoost_trainable_0373cc96 (score 0.2) -> XGBoost_trainable_027d3ac0 (score 0.2)\n"
          ],
          "name": "stderr"
        },
        {
          "output_type": "stream",
          "text": [
            "Result for XGBoost_trainable_027d3ac0:\n",
            "  date: 2020-01-13_13-37-15\n",
            "  done: false\n",
            "  experiment_id: a23267d384a5442e892aa88404ef4c4b\n",
            "  experiment_tag: 0_eta=0.044127,gamma=0.010735,grow_policy=lossguide,max_depth=7@perturbed[eta=0.0046986,gamma=3.2274e-07,grow_policy=depthwise,max_depth=0]\n",
            "  hostname: 9991d65102f3\n",
            "  iterations_since_restore: 1\n",
            "  mean_accuracy: 0.2\n",
            "  node_ip: 172.28.0.2\n",
            "  pid: 387\n",
            "  time_since_restore: 338.86236000061035\n",
            "  time_this_iter_s: 338.86236000061035\n",
            "  time_total_s: 338.86236000061035\n",
            "  timestamp: 1578922635\n",
            "  timesteps_since_restore: 0\n",
            "  training_iteration: 1\n",
            "  trial_id: 027d3ac0\n",
            "  \n"
          ],
          "name": "stdout"
        },
        {
          "output_type": "display_data",
          "data": {
            "text/html": [
              "== Status ==<br>Memory usage on this node: 1.5/12.7 GiB<br>PopulationBasedTraining: 1 checkpoints, 1 perturbs<br>Resources requested: 1/2 CPUs, 0/0 GPUs, 0.0/6.1 GiB heap, 0.0/2.1 GiB objects<br>Result logdir: /root/ray_results/XGBoost_trainable<br>Number of trials: 4 (3 PAUSED, 1 RUNNING)<br><table>\n",
              "<thead>\n",
              "<tr><th>Trial name                </th><th>status  </th><th>loc  </th><th>grow_policy  </th><th style=\"text-align: right;\">        eta</th><th style=\"text-align: right;\">      gamma</th><th style=\"text-align: right;\">  max_depth</th><th style=\"text-align: right;\">  iter</th><th style=\"text-align: right;\">  total time (s)</th><th style=\"text-align: right;\">  acc</th></tr>\n",
              "</thead>\n",
              "<tbody>\n",
              "<tr><td>XGBoost_trainable_027d3ac0</td><td>PAUSED  </td><td>     </td><td>lossguide    </td><td style=\"text-align: right;\">0.0441273  </td><td style=\"text-align: right;\">0.0107347  </td><td style=\"text-align: right;\">          7</td><td style=\"text-align: right;\">     1</td><td style=\"text-align: right;\">        338.862 </td><td style=\"text-align: right;\">  0.2</td></tr>\n",
              "<tr><td>XGBoost_trainable_02f9e0c0</td><td>PAUSED  </td><td>     </td><td>lossguide    </td><td style=\"text-align: right;\">0.000566029</td><td style=\"text-align: right;\">2.90777e-08</td><td style=\"text-align: right;\">          2</td><td style=\"text-align: right;\">     1</td><td style=\"text-align: right;\">         87.3337</td><td style=\"text-align: right;\">  0.2</td></tr>\n",
              "<tr><td>XGBoost_trainable_0373cc96</td><td>PAUSED  </td><td>     </td><td>lossguide    </td><td style=\"text-align: right;\">0.00587324 </td><td style=\"text-align: right;\">2.68948e-07</td><td style=\"text-align: right;\">          1</td><td style=\"text-align: right;\">     2</td><td style=\"text-align: right;\">         91.4618</td><td style=\"text-align: right;\">  0.2</td></tr>\n",
              "<tr><td>XGBoost_trainable_03b51f0c</td><td>RUNNING </td><td>     </td><td>             </td><td style=\"text-align: right;\">           </td><td style=\"text-align: right;\">           </td><td style=\"text-align: right;\">           </td><td style=\"text-align: right;\">      </td><td style=\"text-align: right;\">                </td><td style=\"text-align: right;\">     </td></tr>\n",
              "</tbody>\n",
              "</table><br><br>"
            ],
            "text/plain": [
              "<IPython.core.display.HTML object>"
            ]
          },
          "metadata": {
            "tags": []
          }
        },
        {
          "output_type": "stream",
          "text": [
            "\u001b[2m\u001b[36m(pid=387)\u001b[0m 2020-01-13 13:37:15,510\tINFO trainable.py:346 -- Restored from checkpoint: /root/ray_results/XGBoost_trainable/XGBoost_trainable_027d3ac0_2020-01-13_13-31-3318o5vqkv/tmp1xx939pgrestore_from_object/checkpoint_2/model.pth\n",
            "\u001b[2m\u001b[36m(pid=387)\u001b[0m 2020-01-13 13:37:15,511\tINFO trainable.py:353 -- Current state after restoring: {'_iteration': 2, '_timesteps_total': None, '_time_total': 91.4617555141449, '_episodes_total': None}\n",
            "\u001b[2m\u001b[36m(pid=387)\u001b[0m 2020-01-13 13:37:15,547\tINFO trainable.py:346 -- Restored from checkpoint: /root/ray_results/XGBoost_trainable/XGBoost_trainable_027d3ac0_2020-01-13_13-31-3318o5vqkv/tmplj_1ekfxrestore_from_object/checkpoint_1/model.pth\n",
            "\u001b[2m\u001b[36m(pid=387)\u001b[0m 2020-01-13 13:37:15,547\tINFO trainable.py:353 -- Current state after restoring: {'_iteration': 1, '_timesteps_total': None, '_time_total': 87.33367156982422, '_episodes_total': None}\n",
            "Result for XGBoost_trainable_03b51f0c:\n",
            "  date: 2020-01-13_13-37-40\n",
            "  done: false\n",
            "  experiment_id: cc8379e9a262436f84ca9a1bf757c9b8\n",
            "  experiment_tag: 3_eta=0.0010636,gamma=0.011669,grow_policy=depthwise,max_depth=4\n",
            "  hostname: 9991d65102f3\n",
            "  iterations_since_restore: 1\n",
            "  mean_accuracy: 0.2\n",
            "  node_ip: 172.28.0.2\n",
            "  pid: 519\n",
            "  time_since_restore: 179.60143184661865\n",
            "  time_this_iter_s: 179.60143184661865\n",
            "  time_total_s: 179.60143184661865\n",
            "  timestamp: 1578922660\n",
            "  timesteps_since_restore: 0\n",
            "  training_iteration: 1\n",
            "  trial_id: 03b51f0c\n",
            "  \n"
          ],
          "name": "stdout"
        },
        {
          "output_type": "display_data",
          "data": {
            "text/html": [
              "== Status ==<br>Memory usage on this node: 1.5/12.7 GiB<br>PopulationBasedTraining: 2 checkpoints, 1 perturbs<br>Resources requested: 1/2 CPUs, 0/0 GPUs, 0.0/6.1 GiB heap, 0.0/2.1 GiB objects<br>Result logdir: /root/ray_results/XGBoost_trainable<br>Number of trials: 4 (3 PAUSED, 1 RUNNING)<br><table>\n",
              "<thead>\n",
              "<tr><th>Trial name                </th><th>status  </th><th>loc  </th><th>grow_policy  </th><th style=\"text-align: right;\">        eta</th><th style=\"text-align: right;\">      gamma</th><th style=\"text-align: right;\">  max_depth</th><th style=\"text-align: right;\">  iter</th><th style=\"text-align: right;\">  total time (s)</th><th style=\"text-align: right;\">  acc</th></tr>\n",
              "</thead>\n",
              "<tbody>\n",
              "<tr><td>XGBoost_trainable_027d3ac0</td><td>PAUSED  </td><td>     </td><td>lossguide    </td><td style=\"text-align: right;\">0.0441273  </td><td style=\"text-align: right;\">0.0107347  </td><td style=\"text-align: right;\">          7</td><td style=\"text-align: right;\">     1</td><td style=\"text-align: right;\">        338.862 </td><td style=\"text-align: right;\">  0.2</td></tr>\n",
              "<tr><td>XGBoost_trainable_02f9e0c0</td><td>RUNNING </td><td>     </td><td>lossguide    </td><td style=\"text-align: right;\">0.000566029</td><td style=\"text-align: right;\">2.90777e-08</td><td style=\"text-align: right;\">          2</td><td style=\"text-align: right;\">     1</td><td style=\"text-align: right;\">         87.3337</td><td style=\"text-align: right;\">  0.2</td></tr>\n",
              "<tr><td>XGBoost_trainable_0373cc96</td><td>PAUSED  </td><td>     </td><td>lossguide    </td><td style=\"text-align: right;\">0.00587324 </td><td style=\"text-align: right;\">2.68948e-07</td><td style=\"text-align: right;\">          1</td><td style=\"text-align: right;\">     2</td><td style=\"text-align: right;\">         91.4618</td><td style=\"text-align: right;\">  0.2</td></tr>\n",
              "<tr><td>XGBoost_trainable_03b51f0c</td><td>PAUSED  </td><td>     </td><td>depthwise    </td><td style=\"text-align: right;\">0.00106361 </td><td style=\"text-align: right;\">0.0116691  </td><td style=\"text-align: right;\">          4</td><td style=\"text-align: right;\">     1</td><td style=\"text-align: right;\">        179.601 </td><td style=\"text-align: right;\">  0.2</td></tr>\n",
              "</tbody>\n",
              "</table><br><br>"
            ],
            "text/plain": [
              "<IPython.core.display.HTML object>"
            ]
          },
          "metadata": {
            "tags": []
          }
        },
        {
          "output_type": "stream",
          "text": [
            "\u001b[2m\u001b[36m(pid=519)\u001b[0m 2020-01-13 13:37:40,734\tINFO trainable.py:346 -- Restored from checkpoint: /root/ray_results/XGBoost_trainable/XGBoost_trainable_03b51f0c_2020-01-13_13-34-38nx0meozj/tmp105eejuorestore_from_object/checkpoint_2/model.pth\n",
            "\u001b[2m\u001b[36m(pid=519)\u001b[0m 2020-01-13 13:37:40,734\tINFO trainable.py:353 -- Current state after restoring: {'_iteration': 2, '_timesteps_total': None, '_time_total': 91.4617555141449, '_episodes_total': None}\n"
          ],
          "name": "stdout"
        },
        {
          "output_type": "stream",
          "text": [
            "2020-01-13 13:40:39,701\tINFO pbt.py:83 -- [explore] perturbed config from {'verbosity': 0, 'objective': 'multi:softprob', 'num_class': 5, 'booster': 'gbtree', 'eval_metric': 'merror', 'max_depth': 1, 'eta': 0.00587323670168573, 'gamma': 2.689480236959982e-07, 'grow_policy': 'lossguide'} -> {'verbosity': 0, 'objective': 'multi:softprob', 'num_class': 5, 'booster': 'gbtree', 'eval_metric': 'merror', 'max_depth': 6, 'eta': 0.004698589361348584, 'gamma': 2.1515841895679858e-07, 'grow_policy': 'depthwise'}\n",
            "2020-01-13 13:40:39,703\tINFO pbt.py:315 -- [exploit] transferring weights from trial XGBoost_trainable_0373cc96 (score 0.2) -> XGBoost_trainable_027d3ac0 (score 0.2)\n"
          ],
          "name": "stderr"
        },
        {
          "output_type": "stream",
          "text": [
            "Result for XGBoost_trainable_027d3ac0:\n",
            "  date: 2020-01-13_13-40-39\n",
            "  done: false\n",
            "  experiment_id: 7f6e26f2963b43d4b6f7c8b25c7e722a\n",
            "  experiment_tag: 0_eta=0.044127,gamma=0.010735,grow_policy=lossguide,max_depth=7@perturbed[eta=0.0046986,gamma=2.1516e-07,grow_policy=depthwise,max_depth=6]\n",
            "  hostname: 9991d65102f3\n",
            "  iterations_since_restore: 1\n",
            "  mean_accuracy: 0.2\n",
            "  node_ip: 172.28.0.2\n",
            "  pid: 519\n",
            "  time_since_restore: 178.96041703224182\n",
            "  time_this_iter_s: 178.96041703224182\n",
            "  time_total_s: 270.4221725463867\n",
            "  timestamp: 1578922839\n",
            "  timesteps_since_restore: 0\n",
            "  training_iteration: 3\n",
            "  trial_id: 027d3ac0\n",
            "  \n"
          ],
          "name": "stdout"
        },
        {
          "output_type": "display_data",
          "data": {
            "text/html": [
              "== Status ==<br>Memory usage on this node: 1.5/12.7 GiB<br>PopulationBasedTraining: 2 checkpoints, 2 perturbs<br>Resources requested: 1/2 CPUs, 0/0 GPUs, 0.0/6.1 GiB heap, 0.0/2.1 GiB objects<br>Result logdir: /root/ray_results/XGBoost_trainable<br>Number of trials: 4 (3 PAUSED, 1 RUNNING)<br><table>\n",
              "<thead>\n",
              "<tr><th>Trial name                </th><th>status  </th><th>loc  </th><th>grow_policy  </th><th style=\"text-align: right;\">        eta</th><th style=\"text-align: right;\">      gamma</th><th style=\"text-align: right;\">  max_depth</th><th style=\"text-align: right;\">  iter</th><th style=\"text-align: right;\">  total time (s)</th><th style=\"text-align: right;\">  acc</th></tr>\n",
              "</thead>\n",
              "<tbody>\n",
              "<tr><td>XGBoost_trainable_027d3ac0</td><td>PAUSED  </td><td>     </td><td>depthwise    </td><td style=\"text-align: right;\">0.00469859 </td><td style=\"text-align: right;\">3.22738e-07</td><td style=\"text-align: right;\">          0</td><td style=\"text-align: right;\">     3</td><td style=\"text-align: right;\">        270.422 </td><td style=\"text-align: right;\">  0.2</td></tr>\n",
              "<tr><td>XGBoost_trainable_02f9e0c0</td><td>RUNNING </td><td>     </td><td>lossguide    </td><td style=\"text-align: right;\">0.000566029</td><td style=\"text-align: right;\">2.90777e-08</td><td style=\"text-align: right;\">          2</td><td style=\"text-align: right;\">     1</td><td style=\"text-align: right;\">         87.3337</td><td style=\"text-align: right;\">  0.2</td></tr>\n",
              "<tr><td>XGBoost_trainable_0373cc96</td><td>PAUSED  </td><td>     </td><td>lossguide    </td><td style=\"text-align: right;\">0.00587324 </td><td style=\"text-align: right;\">2.68948e-07</td><td style=\"text-align: right;\">          1</td><td style=\"text-align: right;\">     2</td><td style=\"text-align: right;\">         91.4618</td><td style=\"text-align: right;\">  0.2</td></tr>\n",
              "<tr><td>XGBoost_trainable_03b51f0c</td><td>PAUSED  </td><td>     </td><td>depthwise    </td><td style=\"text-align: right;\">0.00106361 </td><td style=\"text-align: right;\">0.0116691  </td><td style=\"text-align: right;\">          4</td><td style=\"text-align: right;\">     1</td><td style=\"text-align: right;\">        179.601 </td><td style=\"text-align: right;\">  0.2</td></tr>\n",
              "</tbody>\n",
              "</table><br><br>"
            ],
            "text/plain": [
              "<IPython.core.display.HTML object>"
            ]
          },
          "metadata": {
            "tags": []
          }
        },
        {
          "output_type": "stream",
          "text": [
            "\u001b[2m\u001b[36m(pid=519)\u001b[0m 2020-01-13 13:40:39,724\tINFO trainable.py:346 -- Restored from checkpoint: /root/ray_results/XGBoost_trainable/XGBoost_trainable_03b51f0c_2020-01-13_13-34-38nx0meozj/tmpits4m7v_restore_from_object/checkpoint_2/model.pth\n",
            "\u001b[2m\u001b[36m(pid=519)\u001b[0m 2020-01-13 13:40:39,724\tINFO trainable.py:353 -- Current state after restoring: {'_iteration': 2, '_timesteps_total': None, '_time_total': 91.4617555141449, '_episodes_total': None}\n",
            "\u001b[2m\u001b[36m(pid=519)\u001b[0m 2020-01-13 13:40:39,761\tINFO trainable.py:346 -- Restored from checkpoint: /root/ray_results/XGBoost_trainable/XGBoost_trainable_03b51f0c_2020-01-13_13-34-38nx0meozj/tmpb0434g5qrestore_from_object/checkpoint_2/model.pth\n",
            "\u001b[2m\u001b[36m(pid=519)\u001b[0m 2020-01-13 13:40:39,761\tINFO trainable.py:353 -- Current state after restoring: {'_iteration': 2, '_timesteps_total': None, '_time_total': 91.4617555141449, '_episodes_total': None}\n"
          ],
          "name": "stdout"
        },
        {
          "output_type": "stream",
          "text": [
            "2020-01-13 13:42:54,363\tINFO pbt.py:83 -- [explore] perturbed config from {'verbosity': 0, 'objective': 'multi:softprob', 'num_class': 5, 'booster': 'gbtree', 'eval_metric': 'merror', 'max_depth': 1, 'eta': 0.00587323670168573, 'gamma': 2.689480236959982e-07, 'grow_policy': 'lossguide'} -> {'verbosity': 0, 'objective': 'multi:softprob', 'num_class': 5, 'booster': 'gbtree', 'eval_metric': 'merror', 'max_depth': 0, 'eta': 0.0070478840420228756, 'gamma': 2.1515841895679858e-07, 'grow_policy': 'lossguide'}\n",
            "2020-01-13 13:42:54,365\tINFO pbt.py:315 -- [exploit] transferring weights from trial XGBoost_trainable_0373cc96 (score 0.2) -> XGBoost_trainable_02f9e0c0 (score 0.2)\n"
          ],
          "name": "stderr"
        },
        {
          "output_type": "stream",
          "text": [
            "Result for XGBoost_trainable_02f9e0c0:\n",
            "  date: 2020-01-13_13-42-54\n",
            "  done: false\n",
            "  experiment_id: d2f64d6ceaa5461594a0197d30013537\n",
            "  experiment_tag: 1_eta=0.00056603,gamma=2.9078e-08,grow_policy=lossguide,max_depth=2@perturbed[eta=0.0070479,gamma=2.1516e-07,grow_policy=lossguide,max_depth=0]\n",
            "  hostname: 9991d65102f3\n",
            "  iterations_since_restore: 1\n",
            "  mean_accuracy: 0.2\n",
            "  node_ip: 172.28.0.2\n",
            "  pid: 387\n",
            "  time_since_restore: 338.8137435913086\n",
            "  time_this_iter_s: 338.8137435913086\n",
            "  time_total_s: 426.1474151611328\n",
            "  timestamp: 1578922974\n",
            "  timesteps_since_restore: 0\n",
            "  training_iteration: 2\n",
            "  trial_id: 02f9e0c0\n",
            "  \n"
          ],
          "name": "stdout"
        },
        {
          "output_type": "display_data",
          "data": {
            "text/html": [
              "== Status ==<br>Memory usage on this node: 1.5/12.7 GiB<br>PopulationBasedTraining: 2 checkpoints, 3 perturbs<br>Resources requested: 1/2 CPUs, 0/0 GPUs, 0.0/6.1 GiB heap, 0.0/2.1 GiB objects<br>Result logdir: /root/ray_results/XGBoost_trainable<br>Number of trials: 4 (1 RUNNING, 3 PAUSED)<br><table>\n",
              "<thead>\n",
              "<tr><th>Trial name                </th><th>status  </th><th>loc  </th><th>grow_policy  </th><th style=\"text-align: right;\">        eta</th><th style=\"text-align: right;\">      gamma</th><th style=\"text-align: right;\">  max_depth</th><th style=\"text-align: right;\">  iter</th><th style=\"text-align: right;\">  total time (s)</th><th style=\"text-align: right;\">  acc</th></tr>\n",
              "</thead>\n",
              "<tbody>\n",
              "<tr><td>XGBoost_trainable_027d3ac0</td><td>RUNNING </td><td>     </td><td>depthwise    </td><td style=\"text-align: right;\">0.00469859 </td><td style=\"text-align: right;\">3.22738e-07</td><td style=\"text-align: right;\">          0</td><td style=\"text-align: right;\">     3</td><td style=\"text-align: right;\">        270.422 </td><td style=\"text-align: right;\">  0.2</td></tr>\n",
              "<tr><td>XGBoost_trainable_02f9e0c0</td><td>PAUSED  </td><td>     </td><td>lossguide    </td><td style=\"text-align: right;\">0.000566029</td><td style=\"text-align: right;\">2.90777e-08</td><td style=\"text-align: right;\">          2</td><td style=\"text-align: right;\">     2</td><td style=\"text-align: right;\">        426.147 </td><td style=\"text-align: right;\">  0.2</td></tr>\n",
              "<tr><td>XGBoost_trainable_0373cc96</td><td>PAUSED  </td><td>     </td><td>lossguide    </td><td style=\"text-align: right;\">0.00587324 </td><td style=\"text-align: right;\">2.68948e-07</td><td style=\"text-align: right;\">          1</td><td style=\"text-align: right;\">     2</td><td style=\"text-align: right;\">         91.4618</td><td style=\"text-align: right;\">  0.2</td></tr>\n",
              "<tr><td>XGBoost_trainable_03b51f0c</td><td>PAUSED  </td><td>     </td><td>depthwise    </td><td style=\"text-align: right;\">0.00106361 </td><td style=\"text-align: right;\">0.0116691  </td><td style=\"text-align: right;\">          4</td><td style=\"text-align: right;\">     1</td><td style=\"text-align: right;\">        179.601 </td><td style=\"text-align: right;\">  0.2</td></tr>\n",
              "</tbody>\n",
              "</table><br><br>"
            ],
            "text/plain": [
              "<IPython.core.display.HTML object>"
            ]
          },
          "metadata": {
            "tags": []
          }
        },
        {
          "output_type": "stream",
          "text": [
            "\u001b[2m\u001b[36m(pid=387)\u001b[0m 2020-01-13 13:42:54,389\tINFO trainable.py:346 -- Restored from checkpoint: /root/ray_results/XGBoost_trainable/XGBoost_trainable_027d3ac0_2020-01-13_13-31-3318o5vqkv/tmptves_quarestore_from_object/checkpoint_2/model.pth\n",
            "\u001b[2m\u001b[36m(pid=387)\u001b[0m 2020-01-13 13:42:54,390\tINFO trainable.py:353 -- Current state after restoring: {'_iteration': 2, '_timesteps_total': None, '_time_total': 91.4617555141449, '_episodes_total': None}\n",
            "\u001b[2m\u001b[36m(pid=387)\u001b[0m 2020-01-13 13:42:54,417\tINFO trainable.py:346 -- Restored from checkpoint: /root/ray_results/XGBoost_trainable/XGBoost_trainable_027d3ac0_2020-01-13_13-31-3318o5vqkv/tmp18qy1zdwrestore_from_object/checkpoint_2/model.pth\n",
            "\u001b[2m\u001b[36m(pid=387)\u001b[0m 2020-01-13 13:42:54,417\tINFO trainable.py:353 -- Current state after restoring: {'_iteration': 2, '_timesteps_total': None, '_time_total': 91.4617555141449, '_episodes_total': None}\n"
          ],
          "name": "stdout"
        },
        {
          "output_type": "stream",
          "text": [
            "2020-01-13 13:43:40,643\tINFO pbt.py:83 -- [explore] perturbed config from {'verbosity': 0, 'objective': 'multi:softprob', 'num_class': 5, 'booster': 'gbtree', 'eval_metric': 'merror', 'max_depth': 1, 'eta': 0.00587323670168573, 'gamma': 2.689480236959982e-07, 'grow_policy': 'lossguide'} -> {'verbosity': 0, 'objective': 'multi:softprob', 'num_class': 5, 'booster': 'gbtree', 'eval_metric': 'merror', 'max_depth': 7, 'eta': 0.0070478840420228756, 'gamma': 2.1515841895679858e-07, 'grow_policy': 'depthwise'}\n",
            "2020-01-13 13:43:40,644\tINFO pbt.py:315 -- [exploit] transferring weights from trial XGBoost_trainable_0373cc96 (score 0.2) -> XGBoost_trainable_027d3ac0 (score 0.2)\n"
          ],
          "name": "stderr"
        },
        {
          "output_type": "stream",
          "text": [
            "Result for XGBoost_trainable_027d3ac0:\n",
            "  date: 2020-01-13_13-43-40\n",
            "  done: false\n",
            "  experiment_id: 7f6e26f2963b43d4b6f7c8b25c7e722a\n",
            "  experiment_tag: 0_eta=0.044127,gamma=0.010735,grow_policy=lossguide,max_depth=7@perturbed[eta=0.0070479,gamma=2.1516e-07,grow_policy=depthwise,max_depth=7]\n",
            "  hostname: 9991d65102f3\n",
            "  iterations_since_restore: 1\n",
            "  mean_accuracy: 0.2\n",
            "  node_ip: 172.28.0.2\n",
            "  pid: 519\n",
            "  time_since_restore: 180.87862038612366\n",
            "  time_this_iter_s: 180.87862038612366\n",
            "  time_total_s: 272.34037590026855\n",
            "  timestamp: 1578923020\n",
            "  timesteps_since_restore: 0\n",
            "  training_iteration: 3\n",
            "  trial_id: 027d3ac0\n",
            "  \n"
          ],
          "name": "stdout"
        },
        {
          "output_type": "display_data",
          "data": {
            "text/html": [
              "== Status ==<br>Memory usage on this node: 1.4/12.7 GiB<br>PopulationBasedTraining: 2 checkpoints, 4 perturbs<br>Resources requested: 1/2 CPUs, 0/0 GPUs, 0.0/6.1 GiB heap, 0.0/2.1 GiB objects<br>Result logdir: /root/ray_results/XGBoost_trainable<br>Number of trials: 4 (3 PAUSED, 1 RUNNING)<br><table>\n",
              "<thead>\n",
              "<tr><th>Trial name                </th><th>status  </th><th>loc  </th><th>grow_policy  </th><th style=\"text-align: right;\">        eta</th><th style=\"text-align: right;\">      gamma</th><th style=\"text-align: right;\">  max_depth</th><th style=\"text-align: right;\">  iter</th><th style=\"text-align: right;\">  total time (s)</th><th style=\"text-align: right;\">  acc</th></tr>\n",
              "</thead>\n",
              "<tbody>\n",
              "<tr><td>XGBoost_trainable_027d3ac0</td><td>PAUSED  </td><td>     </td><td>depthwise    </td><td style=\"text-align: right;\">0.00469859 </td><td style=\"text-align: right;\">2.15158e-07</td><td style=\"text-align: right;\">          6</td><td style=\"text-align: right;\">     3</td><td style=\"text-align: right;\">        272.34  </td><td style=\"text-align: right;\">  0.2</td></tr>\n",
              "<tr><td>XGBoost_trainable_02f9e0c0</td><td>RUNNING </td><td>     </td><td>lossguide    </td><td style=\"text-align: right;\">0.000566029</td><td style=\"text-align: right;\">2.90777e-08</td><td style=\"text-align: right;\">          2</td><td style=\"text-align: right;\">     2</td><td style=\"text-align: right;\">        426.147 </td><td style=\"text-align: right;\">  0.2</td></tr>\n",
              "<tr><td>XGBoost_trainable_0373cc96</td><td>PAUSED  </td><td>     </td><td>lossguide    </td><td style=\"text-align: right;\">0.00587324 </td><td style=\"text-align: right;\">2.68948e-07</td><td style=\"text-align: right;\">          1</td><td style=\"text-align: right;\">     2</td><td style=\"text-align: right;\">         91.4618</td><td style=\"text-align: right;\">  0.2</td></tr>\n",
              "<tr><td>XGBoost_trainable_03b51f0c</td><td>PAUSED  </td><td>     </td><td>depthwise    </td><td style=\"text-align: right;\">0.00106361 </td><td style=\"text-align: right;\">0.0116691  </td><td style=\"text-align: right;\">          4</td><td style=\"text-align: right;\">     1</td><td style=\"text-align: right;\">        179.601 </td><td style=\"text-align: right;\">  0.2</td></tr>\n",
              "</tbody>\n",
              "</table><br><br>"
            ],
            "text/plain": [
              "<IPython.core.display.HTML object>"
            ]
          },
          "metadata": {
            "tags": []
          }
        },
        {
          "output_type": "stream",
          "text": [
            "\u001b[2m\u001b[36m(pid=519)\u001b[0m 2020-01-13 13:43:40,660\tINFO trainable.py:346 -- Restored from checkpoint: /root/ray_results/XGBoost_trainable/XGBoost_trainable_03b51f0c_2020-01-13_13-34-38nx0meozj/tmpkkrb8divrestore_from_object/checkpoint_2/model.pth\n",
            "\u001b[2m\u001b[36m(pid=519)\u001b[0m 2020-01-13 13:43:40,660\tINFO trainable.py:353 -- Current state after restoring: {'_iteration': 2, '_timesteps_total': None, '_time_total': 91.4617555141449, '_episodes_total': None}\n",
            "\u001b[2m\u001b[36m(pid=519)\u001b[0m 2020-01-13 13:43:40,689\tINFO trainable.py:346 -- Restored from checkpoint: /root/ray_results/XGBoost_trainable/XGBoost_trainable_03b51f0c_2020-01-13_13-34-38nx0meozj/tmp193q6xkorestore_from_object/checkpoint_2/model.pth\n",
            "\u001b[2m\u001b[36m(pid=519)\u001b[0m 2020-01-13 13:43:40,689\tINFO trainable.py:353 -- Current state after restoring: {'_iteration': 2, '_timesteps_total': None, '_time_total': 91.4617555141449, '_episodes_total': None}\n"
          ],
          "name": "stdout"
        },
        {
          "output_type": "stream",
          "text": [
            "2020-01-13 13:46:44,327\tINFO pbt.py:83 -- [explore] perturbed config from {'verbosity': 0, 'objective': 'multi:softprob', 'num_class': 5, 'booster': 'gbtree', 'eval_metric': 'merror', 'max_depth': 1, 'eta': 0.00587323670168573, 'gamma': 2.689480236959982e-07, 'grow_policy': 'lossguide'} -> {'verbosity': 0, 'objective': 'multi:softprob', 'num_class': 5, 'booster': 'gbtree', 'eval_metric': 'merror', 'max_depth': 1, 'eta': 0.004698589361348584, 'gamma': 2.1515841895679858e-07, 'grow_policy': 'lossguide'}\n",
            "2020-01-13 13:46:44,331\tINFO pbt.py:315 -- [exploit] transferring weights from trial XGBoost_trainable_0373cc96 (score 0.2) -> XGBoost_trainable_027d3ac0 (score 0.2)\n"
          ],
          "name": "stderr"
        },
        {
          "output_type": "stream",
          "text": [
            "Result for XGBoost_trainable_027d3ac0:\n",
            "  date: 2020-01-13_13-46-44\n",
            "  done: false\n",
            "  experiment_id: 7f6e26f2963b43d4b6f7c8b25c7e722a\n",
            "  experiment_tag: 0_eta=0.044127,gamma=0.010735,grow_policy=lossguide,max_depth=7@perturbed[eta=0.0046986,gamma=2.1516e-07,grow_policy=lossguide,max_depth=1]\n",
            "  hostname: 9991d65102f3\n",
            "  iterations_since_restore: 1\n",
            "  mean_accuracy: 0.2\n",
            "  node_ip: 172.28.0.2\n",
            "  pid: 519\n",
            "  time_since_restore: 183.63359332084656\n",
            "  time_this_iter_s: 183.63359332084656\n",
            "  time_total_s: 275.09534883499146\n",
            "  timestamp: 1578923204\n",
            "  timesteps_since_restore: 0\n",
            "  training_iteration: 3\n",
            "  trial_id: 027d3ac0\n",
            "  \n",
            "\u001b[2m\u001b[36m(pid=519)\u001b[0m 2020-01-13 13:46:44,347\tINFO trainable.py:346 -- Restored from checkpoint: /root/ray_results/XGBoost_trainable/XGBoost_trainable_03b51f0c_2020-01-13_13-34-38nx0meozj/tmplbczayysrestore_from_object/checkpoint_2/model.pth\n",
            "\u001b[2m\u001b[36m(pid=519)\u001b[0m 2020-01-13 13:46:44,347\tINFO trainable.py:353 -- Current state after restoring: {'_iteration': 2, '_timesteps_total': None, '_time_total': 91.4617555141449, '_episodes_total': None}\n"
          ],
          "name": "stdout"
        },
        {
          "output_type": "display_data",
          "data": {
            "text/html": [
              "== Status ==<br>Memory usage on this node: 1.4/12.7 GiB<br>PopulationBasedTraining: 2 checkpoints, 5 perturbs<br>Resources requested: 1/2 CPUs, 0/0 GPUs, 0.0/6.1 GiB heap, 0.0/2.1 GiB objects<br>Result logdir: /root/ray_results/XGBoost_trainable<br>Number of trials: 4 (3 PAUSED, 1 RUNNING)<br><table>\n",
              "<thead>\n",
              "<tr><th>Trial name                </th><th>status  </th><th>loc  </th><th>grow_policy  </th><th style=\"text-align: right;\">        eta</th><th style=\"text-align: right;\">      gamma</th><th style=\"text-align: right;\">  max_depth</th><th style=\"text-align: right;\">  iter</th><th style=\"text-align: right;\">  total time (s)</th><th style=\"text-align: right;\">  acc</th></tr>\n",
              "</thead>\n",
              "<tbody>\n",
              "<tr><td>XGBoost_trainable_027d3ac0</td><td>PAUSED  </td><td>     </td><td>depthwise    </td><td style=\"text-align: right;\">0.00704788 </td><td style=\"text-align: right;\">2.15158e-07</td><td style=\"text-align: right;\">          7</td><td style=\"text-align: right;\">     3</td><td style=\"text-align: right;\">        275.095 </td><td style=\"text-align: right;\">  0.2</td></tr>\n",
              "<tr><td>XGBoost_trainable_02f9e0c0</td><td>RUNNING </td><td>     </td><td>lossguide    </td><td style=\"text-align: right;\">0.000566029</td><td style=\"text-align: right;\">2.90777e-08</td><td style=\"text-align: right;\">          2</td><td style=\"text-align: right;\">     2</td><td style=\"text-align: right;\">        426.147 </td><td style=\"text-align: right;\">  0.2</td></tr>\n",
              "<tr><td>XGBoost_trainable_0373cc96</td><td>PAUSED  </td><td>     </td><td>lossguide    </td><td style=\"text-align: right;\">0.00587324 </td><td style=\"text-align: right;\">2.68948e-07</td><td style=\"text-align: right;\">          1</td><td style=\"text-align: right;\">     2</td><td style=\"text-align: right;\">         91.4618</td><td style=\"text-align: right;\">  0.2</td></tr>\n",
              "<tr><td>XGBoost_trainable_03b51f0c</td><td>PAUSED  </td><td>     </td><td>depthwise    </td><td style=\"text-align: right;\">0.00106361 </td><td style=\"text-align: right;\">0.0116691  </td><td style=\"text-align: right;\">          4</td><td style=\"text-align: right;\">     1</td><td style=\"text-align: right;\">        179.601 </td><td style=\"text-align: right;\">  0.2</td></tr>\n",
              "</tbody>\n",
              "</table><br><br>"
            ],
            "text/plain": [
              "<IPython.core.display.HTML object>"
            ]
          },
          "metadata": {
            "tags": []
          }
        },
        {
          "output_type": "stream",
          "text": [
            "\u001b[2m\u001b[36m(pid=519)\u001b[0m 2020-01-13 13:46:44,375\tINFO trainable.py:346 -- Restored from checkpoint: /root/ray_results/XGBoost_trainable/XGBoost_trainable_03b51f0c_2020-01-13_13-34-38nx0meozj/tmprj99er6grestore_from_object/checkpoint_2/model.pth\n",
            "\u001b[2m\u001b[36m(pid=519)\u001b[0m 2020-01-13 13:46:44,375\tINFO trainable.py:353 -- Current state after restoring: {'_iteration': 2, '_timesteps_total': None, '_time_total': 91.4617555141449, '_episodes_total': None}\n"
          ],
          "name": "stdout"
        },
        {
          "output_type": "stream",
          "text": [
            "2020-01-13 13:48:26,348\tINFO pbt.py:83 -- [explore] perturbed config from {'verbosity': 0, 'objective': 'multi:softprob', 'num_class': 5, 'booster': 'gbtree', 'eval_metric': 'merror', 'max_depth': 1, 'eta': 0.00587323670168573, 'gamma': 2.689480236959982e-07, 'grow_policy': 'lossguide'} -> {'verbosity': 0, 'objective': 'multi:softprob', 'num_class': 5, 'booster': 'gbtree', 'eval_metric': 'merror', 'max_depth': 2, 'eta': 0.0070478840420228756, 'gamma': 2.1515841895679858e-07, 'grow_policy': 'depthwise'}\n",
            "2020-01-13 13:48:26,350\tINFO pbt.py:315 -- [exploit] transferring weights from trial XGBoost_trainable_0373cc96 (score 0.2) -> XGBoost_trainable_02f9e0c0 (score 0.2)\n"
          ],
          "name": "stderr"
        },
        {
          "output_type": "stream",
          "text": [
            "Result for XGBoost_trainable_02f9e0c0:\n",
            "  date: 2020-01-13_13-48-26\n",
            "  done: false\n",
            "  experiment_id: 7f6e26f2963b43d4b6f7c8b25c7e722a\n",
            "  experiment_tag: 1_eta=0.00056603,gamma=2.9078e-08,grow_policy=lossguide,max_depth=2@perturbed[eta=0.0070479,gamma=2.1516e-07,grow_policy=depthwise,max_depth=2]\n",
            "  hostname: 9991d65102f3\n",
            "  iterations_since_restore: 1\n",
            "  mean_accuracy: 0.2\n",
            "  node_ip: 172.28.0.2\n",
            "  pid: 387\n",
            "  time_since_restore: 331.9275071620941\n",
            "  time_this_iter_s: 331.9275071620941\n",
            "  time_total_s: 423.389262676239\n",
            "  timestamp: 1578923306\n",
            "  timesteps_since_restore: 0\n",
            "  training_iteration: 3\n",
            "  trial_id: 02f9e0c0\n",
            "  \n"
          ],
          "name": "stdout"
        },
        {
          "output_type": "display_data",
          "data": {
            "text/html": [
              "== Status ==<br>Memory usage on this node: 1.4/12.7 GiB<br>PopulationBasedTraining: 2 checkpoints, 6 perturbs<br>Resources requested: 1/2 CPUs, 0/0 GPUs, 0.0/6.1 GiB heap, 0.0/2.1 GiB objects<br>Result logdir: /root/ray_results/XGBoost_trainable<br>Number of trials: 4 (1 RUNNING, 3 PAUSED)<br><table>\n",
              "<thead>\n",
              "<tr><th>Trial name                </th><th>status  </th><th>loc  </th><th>grow_policy  </th><th style=\"text-align: right;\">       eta</th><th style=\"text-align: right;\">      gamma</th><th style=\"text-align: right;\">  max_depth</th><th style=\"text-align: right;\">  iter</th><th style=\"text-align: right;\">  total time (s)</th><th style=\"text-align: right;\">  acc</th></tr>\n",
              "</thead>\n",
              "<tbody>\n",
              "<tr><td>XGBoost_trainable_027d3ac0</td><td>RUNNING </td><td>     </td><td>depthwise    </td><td style=\"text-align: right;\">0.00704788</td><td style=\"text-align: right;\">2.15158e-07</td><td style=\"text-align: right;\">          7</td><td style=\"text-align: right;\">     3</td><td style=\"text-align: right;\">        275.095 </td><td style=\"text-align: right;\">  0.2</td></tr>\n",
              "<tr><td>XGBoost_trainable_02f9e0c0</td><td>PAUSED  </td><td>     </td><td>lossguide    </td><td style=\"text-align: right;\">0.00704788</td><td style=\"text-align: right;\">2.15158e-07</td><td style=\"text-align: right;\">          0</td><td style=\"text-align: right;\">     3</td><td style=\"text-align: right;\">        423.389 </td><td style=\"text-align: right;\">  0.2</td></tr>\n",
              "<tr><td>XGBoost_trainable_0373cc96</td><td>PAUSED  </td><td>     </td><td>lossguide    </td><td style=\"text-align: right;\">0.00587324</td><td style=\"text-align: right;\">2.68948e-07</td><td style=\"text-align: right;\">          1</td><td style=\"text-align: right;\">     2</td><td style=\"text-align: right;\">         91.4618</td><td style=\"text-align: right;\">  0.2</td></tr>\n",
              "<tr><td>XGBoost_trainable_03b51f0c</td><td>PAUSED  </td><td>     </td><td>depthwise    </td><td style=\"text-align: right;\">0.00106361</td><td style=\"text-align: right;\">0.0116691  </td><td style=\"text-align: right;\">          4</td><td style=\"text-align: right;\">     1</td><td style=\"text-align: right;\">        179.601 </td><td style=\"text-align: right;\">  0.2</td></tr>\n",
              "</tbody>\n",
              "</table><br><br>"
            ],
            "text/plain": [
              "<IPython.core.display.HTML object>"
            ]
          },
          "metadata": {
            "tags": []
          }
        },
        {
          "output_type": "stream",
          "text": [
            "\u001b[2m\u001b[36m(pid=387)\u001b[0m 2020-01-13 13:48:26,369\tINFO trainable.py:346 -- Restored from checkpoint: /root/ray_results/XGBoost_trainable/XGBoost_trainable_027d3ac0_2020-01-13_13-31-3318o5vqkv/tmpz6b8iddjrestore_from_object/checkpoint_2/model.pth\n",
            "\u001b[2m\u001b[36m(pid=387)\u001b[0m 2020-01-13 13:48:26,369\tINFO trainable.py:353 -- Current state after restoring: {'_iteration': 2, '_timesteps_total': None, '_time_total': 91.4617555141449, '_episodes_total': None}\n",
            "\u001b[2m\u001b[36m(pid=387)\u001b[0m 2020-01-13 13:48:26,395\tINFO trainable.py:346 -- Restored from checkpoint: /root/ray_results/XGBoost_trainable/XGBoost_trainable_027d3ac0_2020-01-13_13-31-3318o5vqkv/tmpt2r24mrprestore_from_object/checkpoint_2/model.pth\n",
            "\u001b[2m\u001b[36m(pid=387)\u001b[0m 2020-01-13 13:48:26,395\tINFO trainable.py:353 -- Current state after restoring: {'_iteration': 2, '_timesteps_total': None, '_time_total': 91.4617555141449, '_episodes_total': None}\n"
          ],
          "name": "stdout"
        },
        {
          "output_type": "stream",
          "text": [
            "2020-01-13 13:49:46,822\tINFO pbt.py:83 -- [explore] perturbed config from {'verbosity': 0, 'objective': 'multi:softprob', 'num_class': 5, 'booster': 'gbtree', 'eval_metric': 'merror', 'max_depth': 1, 'eta': 0.00587323670168573, 'gamma': 2.689480236959982e-07, 'grow_policy': 'lossguide'} -> {'verbosity': 0, 'objective': 'multi:softprob', 'num_class': 5, 'booster': 'gbtree', 'eval_metric': 'merror', 'max_depth': 3, 'eta': -2.139854815999647, 'gamma': 2.1515841895679858e-07, 'grow_policy': 'depthwise'}\n",
            "2020-01-13 13:49:46,829\tINFO pbt.py:315 -- [exploit] transferring weights from trial XGBoost_trainable_0373cc96 (score 0.2) -> XGBoost_trainable_027d3ac0 (score 0.2)\n"
          ],
          "name": "stderr"
        },
        {
          "output_type": "stream",
          "text": [
            "Result for XGBoost_trainable_027d3ac0:\n",
            "  date: 2020-01-13_13-49-46\n",
            "  done: false\n",
            "  experiment_id: 7f6e26f2963b43d4b6f7c8b25c7e722a\n",
            "  experiment_tag: 0_eta=0.044127,gamma=0.010735,grow_policy=lossguide,max_depth=7@perturbed[eta=-2.1399,gamma=2.1516e-07,grow_policy=depthwise,max_depth=3]\n",
            "  hostname: 9991d65102f3\n",
            "  iterations_since_restore: 1\n",
            "  mean_accuracy: 0.2\n",
            "  node_ip: 172.28.0.2\n",
            "  pid: 519\n",
            "  time_since_restore: 182.44385409355164\n",
            "  time_this_iter_s: 182.44385409355164\n",
            "  time_total_s: 273.90560960769653\n",
            "  timestamp: 1578923386\n",
            "  timesteps_since_restore: 0\n",
            "  training_iteration: 3\n",
            "  trial_id: 027d3ac0\n",
            "  \n"
          ],
          "name": "stdout"
        },
        {
          "output_type": "display_data",
          "data": {
            "text/html": [
              "== Status ==<br>Memory usage on this node: 1.4/12.7 GiB<br>PopulationBasedTraining: 2 checkpoints, 7 perturbs<br>Resources requested: 1/2 CPUs, 0/0 GPUs, 0.0/6.1 GiB heap, 0.0/2.1 GiB objects<br>Result logdir: /root/ray_results/XGBoost_trainable<br>Number of trials: 4 (3 PAUSED, 1 RUNNING)<br><table>\n",
              "<thead>\n",
              "<tr><th>Trial name                </th><th>status  </th><th>loc  </th><th>grow_policy  </th><th style=\"text-align: right;\">       eta</th><th style=\"text-align: right;\">      gamma</th><th style=\"text-align: right;\">  max_depth</th><th style=\"text-align: right;\">  iter</th><th style=\"text-align: right;\">  total time (s)</th><th style=\"text-align: right;\">  acc</th></tr>\n",
              "</thead>\n",
              "<tbody>\n",
              "<tr><td>XGBoost_trainable_027d3ac0</td><td>PAUSED  </td><td>     </td><td>lossguide    </td><td style=\"text-align: right;\">0.00469859</td><td style=\"text-align: right;\">2.15158e-07</td><td style=\"text-align: right;\">          1</td><td style=\"text-align: right;\">     3</td><td style=\"text-align: right;\">        273.906 </td><td style=\"text-align: right;\">  0.2</td></tr>\n",
              "<tr><td>XGBoost_trainable_02f9e0c0</td><td>RUNNING </td><td>     </td><td>lossguide    </td><td style=\"text-align: right;\">0.00704788</td><td style=\"text-align: right;\">2.15158e-07</td><td style=\"text-align: right;\">          0</td><td style=\"text-align: right;\">     3</td><td style=\"text-align: right;\">        423.389 </td><td style=\"text-align: right;\">  0.2</td></tr>\n",
              "<tr><td>XGBoost_trainable_0373cc96</td><td>PAUSED  </td><td>     </td><td>lossguide    </td><td style=\"text-align: right;\">0.00587324</td><td style=\"text-align: right;\">2.68948e-07</td><td style=\"text-align: right;\">          1</td><td style=\"text-align: right;\">     2</td><td style=\"text-align: right;\">         91.4618</td><td style=\"text-align: right;\">  0.2</td></tr>\n",
              "<tr><td>XGBoost_trainable_03b51f0c</td><td>PAUSED  </td><td>     </td><td>depthwise    </td><td style=\"text-align: right;\">0.00106361</td><td style=\"text-align: right;\">0.0116691  </td><td style=\"text-align: right;\">          4</td><td style=\"text-align: right;\">     1</td><td style=\"text-align: right;\">        179.601 </td><td style=\"text-align: right;\">  0.2</td></tr>\n",
              "</tbody>\n",
              "</table><br><br>"
            ],
            "text/plain": [
              "<IPython.core.display.HTML object>"
            ]
          },
          "metadata": {
            "tags": []
          }
        },
        {
          "output_type": "stream",
          "text": [
            "\u001b[2m\u001b[36m(pid=519)\u001b[0m 2020-01-13 13:49:46,840\tINFO trainable.py:346 -- Restored from checkpoint: /root/ray_results/XGBoost_trainable/XGBoost_trainable_03b51f0c_2020-01-13_13-34-38nx0meozj/tmp36h28zuerestore_from_object/checkpoint_2/model.pth\n",
            "\u001b[2m\u001b[36m(pid=519)\u001b[0m 2020-01-13 13:49:46,840\tINFO trainable.py:353 -- Current state after restoring: {'_iteration': 2, '_timesteps_total': None, '_time_total': 91.4617555141449, '_episodes_total': None}\n",
            "\u001b[2m\u001b[36m(pid=519)\u001b[0m 2020-01-13 13:49:46,872\tINFO trainable.py:346 -- Restored from checkpoint: /root/ray_results/XGBoost_trainable/XGBoost_trainable_03b51f0c_2020-01-13_13-34-38nx0meozj/tmphx62bnorrestore_from_object/checkpoint_2/model.pth\n",
            "\u001b[2m\u001b[36m(pid=519)\u001b[0m 2020-01-13 13:49:46,872\tINFO trainable.py:353 -- Current state after restoring: {'_iteration': 2, '_timesteps_total': None, '_time_total': 91.4617555141449, '_episodes_total': None}\n"
          ],
          "name": "stdout"
        },
        {
          "output_type": "stream",
          "text": [
            "2020-01-13 13:52:45,949\tINFO pbt.py:83 -- [explore] perturbed config from {'verbosity': 0, 'objective': 'multi:softprob', 'num_class': 5, 'booster': 'gbtree', 'eval_metric': 'merror', 'max_depth': 4, 'eta': 0.0010636121226518637, 'gamma': 0.011669058550942432, 'grow_policy': 'depthwise'} -> {'verbosity': 0, 'objective': 'multi:softprob', 'num_class': 5, 'booster': 'gbtree', 'eval_metric': 'merror', 'max_depth': 4, 'eta': 0.0012763345471822364, 'gamma': -6.499598074464726, 'grow_policy': 'lossguide'}\n",
            "2020-01-13 13:52:45,951\tINFO pbt.py:315 -- [exploit] transferring weights from trial XGBoost_trainable_03b51f0c (score 0.2) -> XGBoost_trainable_027d3ac0 (score 0.2)\n"
          ],
          "name": "stderr"
        },
        {
          "output_type": "stream",
          "text": [
            "Result for XGBoost_trainable_027d3ac0:\n",
            "  date: 2020-01-13_13-52-45\n",
            "  done: false\n",
            "  experiment_id: 7f6e26f2963b43d4b6f7c8b25c7e722a\n",
            "  experiment_tag: 0_eta=0.044127,gamma=0.010735,grow_policy=lossguide,max_depth=7@perturbed[eta=0.0012763,gamma=-6.4996,grow_policy=lossguide,max_depth=4]\n",
            "  hostname: 9991d65102f3\n",
            "  iterations_since_restore: 1\n",
            "  mean_accuracy: 0.2\n",
            "  node_ip: 172.28.0.2\n",
            "  pid: 519\n",
            "  time_since_restore: 179.07354712486267\n",
            "  time_this_iter_s: 179.07354712486267\n",
            "  time_total_s: 270.53530263900757\n",
            "  timestamp: 1578923565\n",
            "  timesteps_since_restore: 0\n",
            "  training_iteration: 3\n",
            "  trial_id: 027d3ac0\n",
            "  \n"
          ],
          "name": "stdout"
        },
        {
          "output_type": "display_data",
          "data": {
            "text/html": [
              "== Status ==<br>Memory usage on this node: 1.4/12.7 GiB<br>PopulationBasedTraining: 2 checkpoints, 8 perturbs<br>Resources requested: 1/2 CPUs, 0/0 GPUs, 0.0/6.1 GiB heap, 0.0/2.1 GiB objects<br>Result logdir: /root/ray_results/XGBoost_trainable<br>Number of trials: 4 (3 PAUSED, 1 RUNNING)<br><table>\n",
              "<thead>\n",
              "<tr><th>Trial name                </th><th>status  </th><th>loc  </th><th>grow_policy  </th><th style=\"text-align: right;\">        eta</th><th style=\"text-align: right;\">      gamma</th><th style=\"text-align: right;\">  max_depth</th><th style=\"text-align: right;\">  iter</th><th style=\"text-align: right;\">  total time (s)</th><th style=\"text-align: right;\">  acc</th></tr>\n",
              "</thead>\n",
              "<tbody>\n",
              "<tr><td>XGBoost_trainable_027d3ac0</td><td>PAUSED  </td><td>     </td><td>depthwise    </td><td style=\"text-align: right;\">-2.13985   </td><td style=\"text-align: right;\">2.15158e-07</td><td style=\"text-align: right;\">          3</td><td style=\"text-align: right;\">     3</td><td style=\"text-align: right;\">        270.535 </td><td style=\"text-align: right;\">  0.2</td></tr>\n",
              "<tr><td>XGBoost_trainable_02f9e0c0</td><td>RUNNING </td><td>     </td><td>lossguide    </td><td style=\"text-align: right;\"> 0.00704788</td><td style=\"text-align: right;\">2.15158e-07</td><td style=\"text-align: right;\">          0</td><td style=\"text-align: right;\">     3</td><td style=\"text-align: right;\">        423.389 </td><td style=\"text-align: right;\">  0.2</td></tr>\n",
              "<tr><td>XGBoost_trainable_0373cc96</td><td>PAUSED  </td><td>     </td><td>lossguide    </td><td style=\"text-align: right;\"> 0.00587324</td><td style=\"text-align: right;\">2.68948e-07</td><td style=\"text-align: right;\">          1</td><td style=\"text-align: right;\">     2</td><td style=\"text-align: right;\">         91.4618</td><td style=\"text-align: right;\">  0.2</td></tr>\n",
              "<tr><td>XGBoost_trainable_03b51f0c</td><td>PAUSED  </td><td>     </td><td>depthwise    </td><td style=\"text-align: right;\"> 0.00106361</td><td style=\"text-align: right;\">0.0116691  </td><td style=\"text-align: right;\">          4</td><td style=\"text-align: right;\">     1</td><td style=\"text-align: right;\">        179.601 </td><td style=\"text-align: right;\">  0.2</td></tr>\n",
              "</tbody>\n",
              "</table><br><br>"
            ],
            "text/plain": [
              "<IPython.core.display.HTML object>"
            ]
          },
          "metadata": {
            "tags": []
          }
        },
        {
          "output_type": "stream",
          "text": [
            "\u001b[2m\u001b[36m(pid=519)\u001b[0m 2020-01-13 13:52:45,974\tINFO trainable.py:346 -- Restored from checkpoint: /root/ray_results/XGBoost_trainable/XGBoost_trainable_03b51f0c_2020-01-13_13-34-38nx0meozj/tmpl3z1cpnprestore_from_object/checkpoint_1/model.pth\n",
            "\u001b[2m\u001b[36m(pid=519)\u001b[0m 2020-01-13 13:52:45,975\tINFO trainable.py:353 -- Current state after restoring: {'_iteration': 1, '_timesteps_total': None, '_time_total': 179.60143184661865, '_episodes_total': None}\n",
            "\u001b[2m\u001b[36m(pid=519)\u001b[0m 2020-01-13 13:52:46,000\tINFO trainable.py:346 -- Restored from checkpoint: /root/ray_results/XGBoost_trainable/XGBoost_trainable_03b51f0c_2020-01-13_13-34-38nx0meozj/tmp6dwvllurrestore_from_object/checkpoint_2/model.pth\n",
            "\u001b[2m\u001b[36m(pid=519)\u001b[0m 2020-01-13 13:52:46,001\tINFO trainable.py:353 -- Current state after restoring: {'_iteration': 2, '_timesteps_total': None, '_time_total': 91.4617555141449, '_episodes_total': None}\n"
          ],
          "name": "stdout"
        },
        {
          "output_type": "stream",
          "text": [
            "2020-01-13 13:54:03,312\tINFO pbt.py:83 -- [explore] perturbed config from {'verbosity': 0, 'objective': 'multi:softprob', 'num_class': 5, 'booster': 'gbtree', 'eval_metric': 'merror', 'max_depth': 4, 'eta': 0.0010636121226518637, 'gamma': 0.011669058550942432, 'grow_policy': 'depthwise'} -> {'verbosity': 0, 'objective': 'multi:softprob', 'num_class': 5, 'booster': 'gbtree', 'eval_metric': 'merror', 'max_depth': 3, 'eta': 0.0012763345471822364, 'gamma': -1.3494487409836786, 'grow_policy': 'lossguide'}\n",
            "2020-01-13 13:54:03,314\tINFO pbt.py:315 -- [exploit] transferring weights from trial XGBoost_trainable_03b51f0c (score 0.2) -> XGBoost_trainable_02f9e0c0 (score 0.2)\n"
          ],
          "name": "stderr"
        },
        {
          "output_type": "stream",
          "text": [
            "Result for XGBoost_trainable_02f9e0c0:\n",
            "  date: 2020-01-13_13-54-03\n",
            "  done: false\n",
            "  experiment_id: 7f6e26f2963b43d4b6f7c8b25c7e722a\n",
            "  experiment_tag: 1_eta=0.00056603,gamma=2.9078e-08,grow_policy=lossguide,max_depth=2@perturbed[eta=0.0012763,gamma=-1.3494,grow_policy=lossguide,max_depth=3]\n",
            "  hostname: 9991d65102f3\n",
            "  iterations_since_restore: 1\n",
            "  mean_accuracy: 0.2\n",
            "  node_ip: 172.28.0.2\n",
            "  pid: 387\n",
            "  time_since_restore: 336.9141263961792\n",
            "  time_this_iter_s: 336.9141263961792\n",
            "  time_total_s: 428.3758819103241\n",
            "  timestamp: 1578923643\n",
            "  timesteps_since_restore: 0\n",
            "  training_iteration: 3\n",
            "  trial_id: 02f9e0c0\n",
            "  \n"
          ],
          "name": "stdout"
        },
        {
          "output_type": "display_data",
          "data": {
            "text/html": [
              "== Status ==<br>Memory usage on this node: 1.4/12.7 GiB<br>PopulationBasedTraining: 2 checkpoints, 9 perturbs<br>Resources requested: 1/2 CPUs, 0/0 GPUs, 0.0/6.1 GiB heap, 0.0/2.1 GiB objects<br>Result logdir: /root/ray_results/XGBoost_trainable<br>Number of trials: 4 (3 PAUSED, 1 RUNNING)<br><table>\n",
              "<thead>\n",
              "<tr><th>Trial name                </th><th>status  </th><th>loc  </th><th>grow_policy  </th><th style=\"text-align: right;\">        eta</th><th style=\"text-align: right;\">      gamma</th><th style=\"text-align: right;\">  max_depth</th><th style=\"text-align: right;\">  iter</th><th style=\"text-align: right;\">  total time (s)</th><th style=\"text-align: right;\">  acc</th></tr>\n",
              "</thead>\n",
              "<tbody>\n",
              "<tr><td>XGBoost_trainable_027d3ac0</td><td>PAUSED  </td><td>     </td><td>depthwise    </td><td style=\"text-align: right;\">-2.13985   </td><td style=\"text-align: right;\">2.15158e-07</td><td style=\"text-align: right;\">          3</td><td style=\"text-align: right;\">     3</td><td style=\"text-align: right;\">        270.535 </td><td style=\"text-align: right;\">  0.2</td></tr>\n",
              "<tr><td>XGBoost_trainable_02f9e0c0</td><td>PAUSED  </td><td>     </td><td>depthwise    </td><td style=\"text-align: right;\"> 0.00704788</td><td style=\"text-align: right;\">2.15158e-07</td><td style=\"text-align: right;\">          2</td><td style=\"text-align: right;\">     3</td><td style=\"text-align: right;\">        428.376 </td><td style=\"text-align: right;\">  0.2</td></tr>\n",
              "<tr><td>XGBoost_trainable_0373cc96</td><td>RUNNING </td><td>     </td><td>lossguide    </td><td style=\"text-align: right;\"> 0.00587324</td><td style=\"text-align: right;\">2.68948e-07</td><td style=\"text-align: right;\">          1</td><td style=\"text-align: right;\">     2</td><td style=\"text-align: right;\">         91.4618</td><td style=\"text-align: right;\">  0.2</td></tr>\n",
              "<tr><td>XGBoost_trainable_03b51f0c</td><td>PAUSED  </td><td>     </td><td>depthwise    </td><td style=\"text-align: right;\"> 0.00106361</td><td style=\"text-align: right;\">0.0116691  </td><td style=\"text-align: right;\">          4</td><td style=\"text-align: right;\">     1</td><td style=\"text-align: right;\">        179.601 </td><td style=\"text-align: right;\">  0.2</td></tr>\n",
              "</tbody>\n",
              "</table><br><br>"
            ],
            "text/plain": [
              "<IPython.core.display.HTML object>"
            ]
          },
          "metadata": {
            "tags": []
          }
        },
        {
          "output_type": "stream",
          "text": [
            "\u001b[2m\u001b[36m(pid=387)\u001b[0m 2020-01-13 13:54:03,329\tINFO trainable.py:346 -- Restored from checkpoint: /root/ray_results/XGBoost_trainable/XGBoost_trainable_027d3ac0_2020-01-13_13-31-3318o5vqkv/tmpy5x00jaurestore_from_object/checkpoint_1/model.pth\n",
            "\u001b[2m\u001b[36m(pid=387)\u001b[0m 2020-01-13 13:54:03,330\tINFO trainable.py:353 -- Current state after restoring: {'_iteration': 1, '_timesteps_total': None, '_time_total': 179.60143184661865, '_episodes_total': None}\n",
            "\u001b[2m\u001b[36m(pid=387)\u001b[0m 2020-01-13 13:54:03,360\tINFO trainable.py:346 -- Restored from checkpoint: /root/ray_results/XGBoost_trainable/XGBoost_trainable_027d3ac0_2020-01-13_13-31-3318o5vqkv/tmpxiz1wfa4restore_from_object/checkpoint_1/model.pth\n",
            "\u001b[2m\u001b[36m(pid=387)\u001b[0m 2020-01-13 13:54:03,360\tINFO trainable.py:353 -- Current state after restoring: {'_iteration': 1, '_timesteps_total': None, '_time_total': 179.60143184661865, '_episodes_total': None}\n",
            "Result for XGBoost_trainable_0373cc96:\n",
            "  date: 2020-01-13_13-55-44\n",
            "  done: false\n",
            "  experiment_id: 7f6e26f2963b43d4b6f7c8b25c7e722a\n",
            "  experiment_tag: 2_eta=0.0058732,gamma=2.6895e-07,grow_policy=lossguide,max_depth=1\n",
            "  hostname: 9991d65102f3\n",
            "  iterations_since_restore: 1\n",
            "  mean_accuracy: 0.2\n",
            "  node_ip: 172.28.0.2\n",
            "  pid: 519\n",
            "  time_since_restore: 178.71007537841797\n",
            "  time_this_iter_s: 178.71007537841797\n",
            "  time_total_s: 270.17183089256287\n",
            "  timestamp: 1578923744\n",
            "  timesteps_since_restore: 0\n",
            "  training_iteration: 3\n",
            "  trial_id: 0373cc96\n",
            "  \n"
          ],
          "name": "stdout"
        },
        {
          "output_type": "display_data",
          "data": {
            "text/html": [
              "== Status ==<br>Memory usage on this node: 1.4/12.7 GiB<br>PopulationBasedTraining: 3 checkpoints, 9 perturbs<br>Resources requested: 1/2 CPUs, 0/0 GPUs, 0.0/6.1 GiB heap, 0.0/2.1 GiB objects<br>Result logdir: /root/ray_results/XGBoost_trainable<br>Number of trials: 4 (1 RUNNING, 3 PAUSED)<br><table>\n",
              "<thead>\n",
              "<tr><th>Trial name                </th><th>status  </th><th>loc  </th><th>grow_policy  </th><th style=\"text-align: right;\">        eta</th><th style=\"text-align: right;\">      gamma</th><th style=\"text-align: right;\">  max_depth</th><th style=\"text-align: right;\">  iter</th><th style=\"text-align: right;\">  total time (s)</th><th style=\"text-align: right;\">  acc</th></tr>\n",
              "</thead>\n",
              "<tbody>\n",
              "<tr><td>XGBoost_trainable_027d3ac0</td><td>RUNNING </td><td>     </td><td>depthwise    </td><td style=\"text-align: right;\">-2.13985   </td><td style=\"text-align: right;\">2.15158e-07</td><td style=\"text-align: right;\">          3</td><td style=\"text-align: right;\">     3</td><td style=\"text-align: right;\">         270.535</td><td style=\"text-align: right;\">  0.2</td></tr>\n",
              "<tr><td>XGBoost_trainable_02f9e0c0</td><td>PAUSED  </td><td>     </td><td>depthwise    </td><td style=\"text-align: right;\"> 0.00704788</td><td style=\"text-align: right;\">2.15158e-07</td><td style=\"text-align: right;\">          2</td><td style=\"text-align: right;\">     3</td><td style=\"text-align: right;\">         428.376</td><td style=\"text-align: right;\">  0.2</td></tr>\n",
              "<tr><td>XGBoost_trainable_0373cc96</td><td>PAUSED  </td><td>     </td><td>lossguide    </td><td style=\"text-align: right;\"> 0.00587324</td><td style=\"text-align: right;\">2.68948e-07</td><td style=\"text-align: right;\">          1</td><td style=\"text-align: right;\">     3</td><td style=\"text-align: right;\">         270.172</td><td style=\"text-align: right;\">  0.2</td></tr>\n",
              "<tr><td>XGBoost_trainable_03b51f0c</td><td>PAUSED  </td><td>     </td><td>depthwise    </td><td style=\"text-align: right;\"> 0.00106361</td><td style=\"text-align: right;\">0.0116691  </td><td style=\"text-align: right;\">          4</td><td style=\"text-align: right;\">     1</td><td style=\"text-align: right;\">         179.601</td><td style=\"text-align: right;\">  0.2</td></tr>\n",
              "</tbody>\n",
              "</table><br><br>"
            ],
            "text/plain": [
              "<IPython.core.display.HTML object>"
            ]
          },
          "metadata": {
            "tags": []
          }
        },
        {
          "output_type": "stream",
          "text": [
            "\u001b[2m\u001b[36m(pid=519)\u001b[0m 2020-01-13 13:55:44,754\tINFO trainable.py:346 -- Restored from checkpoint: /root/ray_results/XGBoost_trainable/XGBoost_trainable_03b51f0c_2020-01-13_13-34-38nx0meozj/tmp8j2ao0xbrestore_from_object/checkpoint_1/model.pth\n",
            "\u001b[2m\u001b[36m(pid=519)\u001b[0m 2020-01-13 13:55:44,754\tINFO trainable.py:353 -- Current state after restoring: {'_iteration': 1, '_timesteps_total': None, '_time_total': 179.60143184661865, '_episodes_total': None}\n"
          ],
          "name": "stdout"
        },
        {
          "output_type": "stream",
          "text": [
            "2020-01-13 13:58:39,345\tINFO pbt.py:83 -- [explore] perturbed config from {'verbosity': 0, 'objective': 'multi:softprob', 'num_class': 5, 'booster': 'gbtree', 'eval_metric': 'merror', 'max_depth': 4, 'eta': 0.0010636121226518637, 'gamma': 0.011669058550942432, 'grow_policy': 'depthwise'} -> {'verbosity': 0, 'objective': 'multi:softprob', 'num_class': 5, 'booster': 'gbtree', 'eval_metric': 'merror', 'max_depth': 3, 'eta': 0.0012763345471822364, 'gamma': 0.014002870261130918, 'grow_policy': 'depthwise'}\n",
            "2020-01-13 13:58:39,351\tINFO pbt.py:315 -- [exploit] transferring weights from trial XGBoost_trainable_03b51f0c (score 0.2) -> XGBoost_trainable_02f9e0c0 (score 0.2)\n"
          ],
          "name": "stderr"
        },
        {
          "output_type": "stream",
          "text": [
            "Result for XGBoost_trainable_02f9e0c0:\n",
            "  date: 2020-01-13_13-58-39\n",
            "  done: false\n",
            "  experiment_id: cc8379e9a262436f84ca9a1bf757c9b8\n",
            "  experiment_tag: 1_eta=0.00056603,gamma=2.9078e-08,grow_policy=lossguide,max_depth=2@perturbed[eta=0.0012763,gamma=0.014003,grow_policy=depthwise,max_depth=3]\n",
            "  hostname: 9991d65102f3\n",
            "  iterations_since_restore: 1\n",
            "  mean_accuracy: 0.2\n",
            "  node_ip: 172.28.0.2\n",
            "  pid: 519\n",
            "  time_since_restore: 174.58719062805176\n",
            "  time_this_iter_s: 174.58719062805176\n",
            "  time_total_s: 354.1886224746704\n",
            "  timestamp: 1578923919\n",
            "  timesteps_since_restore: 0\n",
            "  training_iteration: 2\n",
            "  trial_id: 02f9e0c0\n",
            "  \n"
          ],
          "name": "stdout"
        },
        {
          "output_type": "display_data",
          "data": {
            "text/html": [
              "== Status ==<br>Memory usage on this node: 1.4/12.7 GiB<br>PopulationBasedTraining: 3 checkpoints, 10 perturbs<br>Resources requested: 1/2 CPUs, 0/0 GPUs, 0.0/6.1 GiB heap, 0.0/2.1 GiB objects<br>Result logdir: /root/ray_results/XGBoost_trainable<br>Number of trials: 4 (1 RUNNING, 3 PAUSED)<br><table>\n",
              "<thead>\n",
              "<tr><th>Trial name                </th><th>status  </th><th>loc  </th><th>grow_policy  </th><th style=\"text-align: right;\">        eta</th><th style=\"text-align: right;\">       gamma</th><th style=\"text-align: right;\">  max_depth</th><th style=\"text-align: right;\">  iter</th><th style=\"text-align: right;\">  total time (s)</th><th style=\"text-align: right;\">  acc</th></tr>\n",
              "</thead>\n",
              "<tbody>\n",
              "<tr><td>XGBoost_trainable_027d3ac0</td><td>RUNNING </td><td>     </td><td>depthwise    </td><td style=\"text-align: right;\">-2.13985   </td><td style=\"text-align: right;\"> 2.15158e-07</td><td style=\"text-align: right;\">          3</td><td style=\"text-align: right;\">     3</td><td style=\"text-align: right;\">         270.535</td><td style=\"text-align: right;\">  0.2</td></tr>\n",
              "<tr><td>XGBoost_trainable_02f9e0c0</td><td>PAUSED  </td><td>     </td><td>lossguide    </td><td style=\"text-align: right;\"> 0.00127633</td><td style=\"text-align: right;\">-1.34945    </td><td style=\"text-align: right;\">          3</td><td style=\"text-align: right;\">     2</td><td style=\"text-align: right;\">         354.189</td><td style=\"text-align: right;\">  0.2</td></tr>\n",
              "<tr><td>XGBoost_trainable_0373cc96</td><td>PAUSED  </td><td>     </td><td>lossguide    </td><td style=\"text-align: right;\"> 0.00587324</td><td style=\"text-align: right;\"> 2.68948e-07</td><td style=\"text-align: right;\">          1</td><td style=\"text-align: right;\">     3</td><td style=\"text-align: right;\">         270.172</td><td style=\"text-align: right;\">  0.2</td></tr>\n",
              "<tr><td>XGBoost_trainable_03b51f0c</td><td>PAUSED  </td><td>     </td><td>depthwise    </td><td style=\"text-align: right;\"> 0.00106361</td><td style=\"text-align: right;\"> 0.0116691  </td><td style=\"text-align: right;\">          4</td><td style=\"text-align: right;\">     1</td><td style=\"text-align: right;\">         179.601</td><td style=\"text-align: right;\">  0.2</td></tr>\n",
              "</tbody>\n",
              "</table><br><br>"
            ],
            "text/plain": [
              "<IPython.core.display.HTML object>"
            ]
          },
          "metadata": {
            "tags": []
          }
        },
        {
          "output_type": "stream",
          "text": [
            "\u001b[2m\u001b[36m(pid=519)\u001b[0m 2020-01-13 13:58:39,376\tINFO trainable.py:346 -- Restored from checkpoint: /root/ray_results/XGBoost_trainable/XGBoost_trainable_03b51f0c_2020-01-13_13-34-38nx0meozj/tmplhfyfgy2restore_from_object/checkpoint_1/model.pth\n",
            "\u001b[2m\u001b[36m(pid=519)\u001b[0m 2020-01-13 13:58:39,376\tINFO trainable.py:353 -- Current state after restoring: {'_iteration': 1, '_timesteps_total': None, '_time_total': 179.60143184661865, '_episodes_total': None}\n",
            "\u001b[2m\u001b[36m(pid=519)\u001b[0m 2020-01-13 13:58:39,410\tINFO trainable.py:346 -- Restored from checkpoint: /root/ray_results/XGBoost_trainable/XGBoost_trainable_03b51f0c_2020-01-13_13-34-38nx0meozj/tmpglr8jx3trestore_from_object/checkpoint_1/model.pth\n",
            "\u001b[2m\u001b[36m(pid=519)\u001b[0m 2020-01-13 13:58:39,411\tINFO trainable.py:353 -- Current state after restoring: {'_iteration': 1, '_timesteps_total': None, '_time_total': 179.60143184661865, '_episodes_total': None}\n"
          ],
          "name": "stdout"
        },
        {
          "output_type": "stream",
          "text": [
            "2020-01-13 13:59:41,129\tINFO pbt.py:83 -- [explore] perturbed config from {'verbosity': 0, 'objective': 'multi:softprob', 'num_class': 5, 'booster': 'gbtree', 'eval_metric': 'merror', 'max_depth': 4, 'eta': 0.0010636121226518637, 'gamma': 0.011669058550942432, 'grow_policy': 'depthwise'} -> {'verbosity': 0, 'objective': 'multi:softprob', 'num_class': 5, 'booster': 'gbtree', 'eval_metric': 'merror', 'max_depth': 3, 'eta': 0.0012763345471822364, 'gamma': 0.009335246840753946, 'grow_policy': 'depthwise'}\n",
            "2020-01-13 13:59:41,137\tINFO pbt.py:315 -- [exploit] transferring weights from trial XGBoost_trainable_03b51f0c (score 0.2) -> XGBoost_trainable_027d3ac0 (score 0.2)\n"
          ],
          "name": "stderr"
        },
        {
          "output_type": "stream",
          "text": [
            "Result for XGBoost_trainable_027d3ac0:\n",
            "  date: 2020-01-13_13-59-41\n",
            "  done: false\n",
            "  experiment_id: cc8379e9a262436f84ca9a1bf757c9b8\n",
            "  experiment_tag: 0_eta=0.044127,gamma=0.010735,grow_policy=lossguide,max_depth=7@perturbed[eta=0.0012763,gamma=0.0093352,grow_policy=depthwise,max_depth=3]\n",
            "  hostname: 9991d65102f3\n",
            "  iterations_since_restore: 1\n",
            "  mean_accuracy: 0.2\n",
            "  node_ip: 172.28.0.2\n",
            "  pid: 387\n",
            "  time_since_restore: 337.76426553726196\n",
            "  time_this_iter_s: 337.76426553726196\n",
            "  time_total_s: 517.3656973838806\n",
            "  timestamp: 1578923981\n",
            "  timesteps_since_restore: 0\n",
            "  training_iteration: 2\n",
            "  trial_id: 027d3ac0\n",
            "  \n"
          ],
          "name": "stdout"
        },
        {
          "output_type": "display_data",
          "data": {
            "text/html": [
              "== Status ==<br>Memory usage on this node: 1.4/12.7 GiB<br>PopulationBasedTraining: 3 checkpoints, 11 perturbs<br>Resources requested: 1/2 CPUs, 0/0 GPUs, 0.0/6.1 GiB heap, 0.0/2.1 GiB objects<br>Result logdir: /root/ray_results/XGBoost_trainable<br>Number of trials: 4 (3 PAUSED, 1 RUNNING)<br><table>\n",
              "<thead>\n",
              "<tr><th>Trial name                </th><th>status  </th><th>loc  </th><th>grow_policy  </th><th style=\"text-align: right;\">       eta</th><th style=\"text-align: right;\">       gamma</th><th style=\"text-align: right;\">  max_depth</th><th style=\"text-align: right;\">  iter</th><th style=\"text-align: right;\">  total time (s)</th><th style=\"text-align: right;\">  acc</th></tr>\n",
              "</thead>\n",
              "<tbody>\n",
              "<tr><td>XGBoost_trainable_027d3ac0</td><td>PAUSED  </td><td>     </td><td>lossguide    </td><td style=\"text-align: right;\">0.00127633</td><td style=\"text-align: right;\">-6.4996     </td><td style=\"text-align: right;\">          4</td><td style=\"text-align: right;\">     2</td><td style=\"text-align: right;\">         517.366</td><td style=\"text-align: right;\">  0.2</td></tr>\n",
              "<tr><td>XGBoost_trainable_02f9e0c0</td><td>RUNNING </td><td>     </td><td>lossguide    </td><td style=\"text-align: right;\">0.00127633</td><td style=\"text-align: right;\">-1.34945    </td><td style=\"text-align: right;\">          3</td><td style=\"text-align: right;\">     2</td><td style=\"text-align: right;\">         354.189</td><td style=\"text-align: right;\">  0.2</td></tr>\n",
              "<tr><td>XGBoost_trainable_0373cc96</td><td>PAUSED  </td><td>     </td><td>lossguide    </td><td style=\"text-align: right;\">0.00587324</td><td style=\"text-align: right;\"> 2.68948e-07</td><td style=\"text-align: right;\">          1</td><td style=\"text-align: right;\">     3</td><td style=\"text-align: right;\">         270.172</td><td style=\"text-align: right;\">  0.2</td></tr>\n",
              "<tr><td>XGBoost_trainable_03b51f0c</td><td>PAUSED  </td><td>     </td><td>depthwise    </td><td style=\"text-align: right;\">0.00106361</td><td style=\"text-align: right;\"> 0.0116691  </td><td style=\"text-align: right;\">          4</td><td style=\"text-align: right;\">     1</td><td style=\"text-align: right;\">         179.601</td><td style=\"text-align: right;\">  0.2</td></tr>\n",
              "</tbody>\n",
              "</table><br><br>"
            ],
            "text/plain": [
              "<IPython.core.display.HTML object>"
            ]
          },
          "metadata": {
            "tags": []
          }
        },
        {
          "output_type": "stream",
          "text": [
            "\u001b[2m\u001b[36m(pid=387)\u001b[0m 2020-01-13 13:59:41,150\tINFO trainable.py:346 -- Restored from checkpoint: /root/ray_results/XGBoost_trainable/XGBoost_trainable_027d3ac0_2020-01-13_13-31-3318o5vqkv/tmpjuycy4o3restore_from_object/checkpoint_1/model.pth\n",
            "\u001b[2m\u001b[36m(pid=387)\u001b[0m 2020-01-13 13:59:41,150\tINFO trainable.py:353 -- Current state after restoring: {'_iteration': 1, '_timesteps_total': None, '_time_total': 179.60143184661865, '_episodes_total': None}\n",
            "\u001b[2m\u001b[36m(pid=387)\u001b[0m 2020-01-13 13:59:41,184\tINFO trainable.py:346 -- Restored from checkpoint: /root/ray_results/XGBoost_trainable/XGBoost_trainable_027d3ac0_2020-01-13_13-31-3318o5vqkv/tmp097z2xu7restore_from_object/checkpoint_1/model.pth\n",
            "\u001b[2m\u001b[36m(pid=387)\u001b[0m 2020-01-13 13:59:41,184\tINFO trainable.py:353 -- Current state after restoring: {'_iteration': 1, '_timesteps_total': None, '_time_total': 179.60143184661865, '_episodes_total': None}\n"
          ],
          "name": "stdout"
        },
        {
          "output_type": "stream",
          "text": [
            "2020-01-13 14:01:35,187\tINFO pbt.py:83 -- [explore] perturbed config from {'verbosity': 0, 'objective': 'multi:softprob', 'num_class': 5, 'booster': 'gbtree', 'eval_metric': 'merror', 'max_depth': 1, 'eta': 0.00587323670168573, 'gamma': 2.689480236959982e-07, 'grow_policy': 'lossguide'} -> {'verbosity': 0, 'objective': 'multi:softprob', 'num_class': 5, 'booster': 'gbtree', 'eval_metric': 'merror', 'max_depth': 0, 'eta': 0.004698589361348584, 'gamma': -4.88804681400582, 'grow_policy': 'lossguide'}\n",
            "2020-01-13 14:01:35,192\tINFO pbt.py:315 -- [exploit] transferring weights from trial XGBoost_trainable_0373cc96 (score 0.2) -> XGBoost_trainable_02f9e0c0 (score 0.2)\n"
          ],
          "name": "stderr"
        },
        {
          "output_type": "stream",
          "text": [
            "Result for XGBoost_trainable_02f9e0c0:\n",
            "  date: 2020-01-13_14-01-35\n",
            "  done: false\n",
            "  experiment_id: cc8379e9a262436f84ca9a1bf757c9b8\n",
            "  experiment_tag: 1_eta=0.00056603,gamma=2.9078e-08,grow_policy=lossguide,max_depth=2@perturbed[eta=0.0046986,gamma=-4.888,grow_policy=lossguide,max_depth=0]\n",
            "  hostname: 9991d65102f3\n",
            "  iterations_since_restore: 1\n",
            "  mean_accuracy: 0.2\n",
            "  node_ip: 172.28.0.2\n",
            "  pid: 519\n",
            "  time_since_restore: 175.77298521995544\n",
            "  time_this_iter_s: 175.77298521995544\n",
            "  time_total_s: 355.3744170665741\n",
            "  timestamp: 1578924095\n",
            "  timesteps_since_restore: 0\n",
            "  training_iteration: 2\n",
            "  trial_id: 02f9e0c0\n",
            "  \n"
          ],
          "name": "stdout"
        },
        {
          "output_type": "display_data",
          "data": {
            "text/html": [
              "== Status ==<br>Memory usage on this node: 1.4/12.7 GiB<br>PopulationBasedTraining: 3 checkpoints, 12 perturbs<br>Resources requested: 1/2 CPUs, 0/0 GPUs, 0.0/6.1 GiB heap, 0.0/2.1 GiB objects<br>Result logdir: /root/ray_results/XGBoost_trainable<br>Number of trials: 4 (1 RUNNING, 3 PAUSED)<br><table>\n",
              "<thead>\n",
              "<tr><th>Trial name                </th><th>status  </th><th>loc  </th><th>grow_policy  </th><th style=\"text-align: right;\">       eta</th><th style=\"text-align: right;\">       gamma</th><th style=\"text-align: right;\">  max_depth</th><th style=\"text-align: right;\">  iter</th><th style=\"text-align: right;\">  total time (s)</th><th style=\"text-align: right;\">  acc</th></tr>\n",
              "</thead>\n",
              "<tbody>\n",
              "<tr><td>XGBoost_trainable_027d3ac0</td><td>RUNNING </td><td>     </td><td>lossguide    </td><td style=\"text-align: right;\">0.00127633</td><td style=\"text-align: right;\">-6.4996     </td><td style=\"text-align: right;\">          4</td><td style=\"text-align: right;\">     2</td><td style=\"text-align: right;\">         517.366</td><td style=\"text-align: right;\">  0.2</td></tr>\n",
              "<tr><td>XGBoost_trainable_02f9e0c0</td><td>PAUSED  </td><td>     </td><td>depthwise    </td><td style=\"text-align: right;\">0.00127633</td><td style=\"text-align: right;\"> 0.0140029  </td><td style=\"text-align: right;\">          3</td><td style=\"text-align: right;\">     2</td><td style=\"text-align: right;\">         355.374</td><td style=\"text-align: right;\">  0.2</td></tr>\n",
              "<tr><td>XGBoost_trainable_0373cc96</td><td>PAUSED  </td><td>     </td><td>lossguide    </td><td style=\"text-align: right;\">0.00587324</td><td style=\"text-align: right;\"> 2.68948e-07</td><td style=\"text-align: right;\">          1</td><td style=\"text-align: right;\">     3</td><td style=\"text-align: right;\">         270.172</td><td style=\"text-align: right;\">  0.2</td></tr>\n",
              "<tr><td>XGBoost_trainable_03b51f0c</td><td>PAUSED  </td><td>     </td><td>depthwise    </td><td style=\"text-align: right;\">0.00106361</td><td style=\"text-align: right;\"> 0.0116691  </td><td style=\"text-align: right;\">          4</td><td style=\"text-align: right;\">     1</td><td style=\"text-align: right;\">         179.601</td><td style=\"text-align: right;\">  0.2</td></tr>\n",
              "</tbody>\n",
              "</table><br><br>"
            ],
            "text/plain": [
              "<IPython.core.display.HTML object>"
            ]
          },
          "metadata": {
            "tags": []
          }
        },
        {
          "output_type": "stream",
          "text": [
            "\u001b[2m\u001b[36m(pid=519)\u001b[0m 2020-01-13 14:01:35,216\tINFO trainable.py:346 -- Restored from checkpoint: /root/ray_results/XGBoost_trainable/XGBoost_trainable_03b51f0c_2020-01-13_13-34-38nx0meozj/tmp9_ctn98zrestore_from_object/checkpoint_3/model.pth\n",
            "\u001b[2m\u001b[36m(pid=519)\u001b[0m 2020-01-13 14:01:35,216\tINFO trainable.py:353 -- Current state after restoring: {'_iteration': 3, '_timesteps_total': None, '_time_total': 270.17183089256287, '_episodes_total': None}\n",
            "\u001b[2m\u001b[36m(pid=519)\u001b[0m 2020-01-13 14:01:35,253\tINFO trainable.py:346 -- Restored from checkpoint: /root/ray_results/XGBoost_trainable/XGBoost_trainable_03b51f0c_2020-01-13_13-34-38nx0meozj/tmp903e6cf5restore_from_object/checkpoint_1/model.pth\n",
            "\u001b[2m\u001b[36m(pid=519)\u001b[0m 2020-01-13 14:01:35,254\tINFO trainable.py:353 -- Current state after restoring: {'_iteration': 1, '_timesteps_total': None, '_time_total': 179.60143184661865, '_episodes_total': None}\n",
            "Result for XGBoost_trainable_03b51f0c:\n",
            "  date: 2020-01-13_14-04-37\n",
            "  done: false\n",
            "  experiment_id: cc8379e9a262436f84ca9a1bf757c9b8\n",
            "  experiment_tag: 3_eta=0.0010636,gamma=0.011669,grow_policy=depthwise,max_depth=4\n",
            "  hostname: 9991d65102f3\n",
            "  iterations_since_restore: 1\n",
            "  mean_accuracy: 0.2\n",
            "  node_ip: 172.28.0.2\n",
            "  pid: 519\n",
            "  time_since_restore: 181.8086941242218\n",
            "  time_this_iter_s: 181.8086941242218\n",
            "  time_total_s: 361.41012597084045\n",
            "  timestamp: 1578924277\n",
            "  timesteps_since_restore: 0\n",
            "  training_iteration: 2\n",
            "  trial_id: 03b51f0c\n",
            "  \n"
          ],
          "name": "stdout"
        },
        {
          "output_type": "display_data",
          "data": {
            "text/html": [
              "== Status ==<br>Memory usage on this node: 1.4/12.7 GiB<br>PopulationBasedTraining: 4 checkpoints, 12 perturbs<br>Resources requested: 1/2 CPUs, 0/0 GPUs, 0.0/6.1 GiB heap, 0.0/2.1 GiB objects<br>Result logdir: /root/ray_results/XGBoost_trainable<br>Number of trials: 4 (1 RUNNING, 3 PAUSED)<br><table>\n",
              "<thead>\n",
              "<tr><th>Trial name                </th><th>status  </th><th>loc  </th><th>grow_policy  </th><th style=\"text-align: right;\">       eta</th><th style=\"text-align: right;\">       gamma</th><th style=\"text-align: right;\">  max_depth</th><th style=\"text-align: right;\">  iter</th><th style=\"text-align: right;\">  total time (s)</th><th style=\"text-align: right;\">  acc</th></tr>\n",
              "</thead>\n",
              "<tbody>\n",
              "<tr><td>XGBoost_trainable_027d3ac0</td><td>RUNNING </td><td>     </td><td>lossguide    </td><td style=\"text-align: right;\">0.00127633</td><td style=\"text-align: right;\">-6.4996     </td><td style=\"text-align: right;\">          4</td><td style=\"text-align: right;\">     2</td><td style=\"text-align: right;\">         517.366</td><td style=\"text-align: right;\">  0.2</td></tr>\n",
              "<tr><td>XGBoost_trainable_02f9e0c0</td><td>PAUSED  </td><td>     </td><td>depthwise    </td><td style=\"text-align: right;\">0.00127633</td><td style=\"text-align: right;\"> 0.0140029  </td><td style=\"text-align: right;\">          3</td><td style=\"text-align: right;\">     2</td><td style=\"text-align: right;\">         355.374</td><td style=\"text-align: right;\">  0.2</td></tr>\n",
              "<tr><td>XGBoost_trainable_0373cc96</td><td>PAUSED  </td><td>     </td><td>lossguide    </td><td style=\"text-align: right;\">0.00587324</td><td style=\"text-align: right;\"> 2.68948e-07</td><td style=\"text-align: right;\">          1</td><td style=\"text-align: right;\">     3</td><td style=\"text-align: right;\">         270.172</td><td style=\"text-align: right;\">  0.2</td></tr>\n",
              "<tr><td>XGBoost_trainable_03b51f0c</td><td>PAUSED  </td><td>     </td><td>depthwise    </td><td style=\"text-align: right;\">0.00106361</td><td style=\"text-align: right;\"> 0.0116691  </td><td style=\"text-align: right;\">          4</td><td style=\"text-align: right;\">     2</td><td style=\"text-align: right;\">         361.41 </td><td style=\"text-align: right;\">  0.2</td></tr>\n",
              "</tbody>\n",
              "</table><br><br>"
            ],
            "text/plain": [
              "<IPython.core.display.HTML object>"
            ]
          },
          "metadata": {
            "tags": []
          }
        },
        {
          "output_type": "stream",
          "text": [
            "\u001b[2m\u001b[36m(pid=519)\u001b[0m 2020-01-13 14:04:37,104\tINFO trainable.py:346 -- Restored from checkpoint: /root/ray_results/XGBoost_trainable/XGBoost_trainable_03b51f0c_2020-01-13_13-34-38nx0meozj/tmps3edh19brestore_from_object/checkpoint_3/model.pth\n",
            "\u001b[2m\u001b[36m(pid=519)\u001b[0m 2020-01-13 14:04:37,104\tINFO trainable.py:353 -- Current state after restoring: {'_iteration': 3, '_timesteps_total': None, '_time_total': 270.17183089256287, '_episodes_total': None}\n"
          ],
          "name": "stdout"
        },
        {
          "output_type": "stream",
          "text": [
            "2020-01-13 14:05:14,164\tINFO pbt.py:83 -- [explore] perturbed config from {'verbosity': 0, 'objective': 'multi:softprob', 'num_class': 5, 'booster': 'gbtree', 'eval_metric': 'merror', 'max_depth': 1, 'eta': 0.00587323670168573, 'gamma': 2.689480236959982e-07, 'grow_policy': 'lossguide'} -> {'verbosity': 0, 'objective': 'multi:softprob', 'num_class': 5, 'booster': 'gbtree', 'eval_metric': 'merror', 'max_depth': 0, 'eta': 0.0070478840420228756, 'gamma': 3.227376284351978e-07, 'grow_policy': 'depthwise'}\n",
            "2020-01-13 14:05:14,169\tINFO pbt.py:315 -- [exploit] transferring weights from trial XGBoost_trainable_0373cc96 (score 0.2) -> XGBoost_trainable_027d3ac0 (score 0.2)\n"
          ],
          "name": "stderr"
        },
        {
          "output_type": "stream",
          "text": [
            "Result for XGBoost_trainable_027d3ac0:\n",
            "  date: 2020-01-13_14-05-14\n",
            "  done: false\n",
            "  experiment_id: cc8379e9a262436f84ca9a1bf757c9b8\n",
            "  experiment_tag: 0_eta=0.044127,gamma=0.010735,grow_policy=lossguide,max_depth=7@perturbed[eta=0.0070479,gamma=3.2274e-07,grow_policy=depthwise,max_depth=0]\n",
            "  hostname: 9991d65102f3\n",
            "  iterations_since_restore: 1\n",
            "  mean_accuracy: 0.2\n",
            "  node_ip: 172.28.0.2\n",
            "  pid: 387\n",
            "  time_since_restore: 332.97634053230286\n",
            "  time_this_iter_s: 332.97634053230286\n",
            "  time_total_s: 512.5777723789215\n",
            "  timestamp: 1578924314\n",
            "  timesteps_since_restore: 0\n",
            "  training_iteration: 2\n",
            "  trial_id: 027d3ac0\n",
            "  \n"
          ],
          "name": "stdout"
        },
        {
          "output_type": "display_data",
          "data": {
            "text/html": [
              "== Status ==<br>Memory usage on this node: 1.4/12.7 GiB<br>PopulationBasedTraining: 4 checkpoints, 13 perturbs<br>Resources requested: 1/2 CPUs, 0/0 GPUs, 0.0/6.1 GiB heap, 0.0/2.1 GiB objects<br>Result logdir: /root/ray_results/XGBoost_trainable<br>Number of trials: 4 (3 PAUSED, 1 RUNNING)<br><table>\n",
              "<thead>\n",
              "<tr><th>Trial name                </th><th>status  </th><th>loc  </th><th>grow_policy  </th><th style=\"text-align: right;\">       eta</th><th style=\"text-align: right;\">      gamma</th><th style=\"text-align: right;\">  max_depth</th><th style=\"text-align: right;\">  iter</th><th style=\"text-align: right;\">  total time (s)</th><th style=\"text-align: right;\">  acc</th></tr>\n",
              "</thead>\n",
              "<tbody>\n",
              "<tr><td>XGBoost_trainable_027d3ac0</td><td>PAUSED  </td><td>     </td><td>depthwise    </td><td style=\"text-align: right;\">0.00127633</td><td style=\"text-align: right;\">0.00933525 </td><td style=\"text-align: right;\">          3</td><td style=\"text-align: right;\">     2</td><td style=\"text-align: right;\">         512.578</td><td style=\"text-align: right;\">  0.2</td></tr>\n",
              "<tr><td>XGBoost_trainable_02f9e0c0</td><td>RUNNING </td><td>     </td><td>depthwise    </td><td style=\"text-align: right;\">0.00127633</td><td style=\"text-align: right;\">0.0140029  </td><td style=\"text-align: right;\">          3</td><td style=\"text-align: right;\">     2</td><td style=\"text-align: right;\">         355.374</td><td style=\"text-align: right;\">  0.2</td></tr>\n",
              "<tr><td>XGBoost_trainable_0373cc96</td><td>PAUSED  </td><td>     </td><td>lossguide    </td><td style=\"text-align: right;\">0.00587324</td><td style=\"text-align: right;\">2.68948e-07</td><td style=\"text-align: right;\">          1</td><td style=\"text-align: right;\">     3</td><td style=\"text-align: right;\">         270.172</td><td style=\"text-align: right;\">  0.2</td></tr>\n",
              "<tr><td>XGBoost_trainable_03b51f0c</td><td>PAUSED  </td><td>     </td><td>depthwise    </td><td style=\"text-align: right;\">0.00106361</td><td style=\"text-align: right;\">0.0116691  </td><td style=\"text-align: right;\">          4</td><td style=\"text-align: right;\">     2</td><td style=\"text-align: right;\">         361.41 </td><td style=\"text-align: right;\">  0.2</td></tr>\n",
              "</tbody>\n",
              "</table><br><br>"
            ],
            "text/plain": [
              "<IPython.core.display.HTML object>"
            ]
          },
          "metadata": {
            "tags": []
          }
        },
        {
          "output_type": "stream",
          "text": [
            "\u001b[2m\u001b[36m(pid=387)\u001b[0m 2020-01-13 14:05:14,190\tINFO trainable.py:346 -- Restored from checkpoint: /root/ray_results/XGBoost_trainable/XGBoost_trainable_027d3ac0_2020-01-13_13-31-3318o5vqkv/tmptofktvkdrestore_from_object/checkpoint_3/model.pth\n",
            "\u001b[2m\u001b[36m(pid=387)\u001b[0m 2020-01-13 14:05:14,190\tINFO trainable.py:353 -- Current state after restoring: {'_iteration': 3, '_timesteps_total': None, '_time_total': 270.17183089256287, '_episodes_total': None}\n",
            "\u001b[2m\u001b[36m(pid=387)\u001b[0m 2020-01-13 14:05:14,225\tINFO trainable.py:346 -- Restored from checkpoint: /root/ray_results/XGBoost_trainable/XGBoost_trainable_027d3ac0_2020-01-13_13-31-3318o5vqkv/tmp16k0tzy_restore_from_object/checkpoint_3/model.pth\n",
            "\u001b[2m\u001b[36m(pid=387)\u001b[0m 2020-01-13 14:05:14,225\tINFO trainable.py:353 -- Current state after restoring: {'_iteration': 3, '_timesteps_total': None, '_time_total': 270.17183089256287, '_episodes_total': None}\n"
          ],
          "name": "stdout"
        },
        {
          "output_type": "stream",
          "text": [
            "2020-01-13 14:07:37,158\tINFO pbt.py:83 -- [explore] perturbed config from {'verbosity': 0, 'objective': 'multi:softprob', 'num_class': 5, 'booster': 'gbtree', 'eval_metric': 'merror', 'max_depth': 1, 'eta': 0.00587323670168573, 'gamma': 2.689480236959982e-07, 'grow_policy': 'lossguide'} -> {'verbosity': 0, 'objective': 'multi:softprob', 'num_class': 5, 'booster': 'gbtree', 'eval_metric': 'merror', 'max_depth': 1, 'eta': 0.0070478840420228756, 'gamma': 3.227376284351978e-07, 'grow_policy': 'lossguide'}\n",
            "2020-01-13 14:07:37,162\tINFO pbt.py:315 -- [exploit] transferring weights from trial XGBoost_trainable_0373cc96 (score 0.2) -> XGBoost_trainable_02f9e0c0 (score 0.2)\n"
          ],
          "name": "stderr"
        },
        {
          "output_type": "stream",
          "text": [
            "Result for XGBoost_trainable_02f9e0c0:\n",
            "  date: 2020-01-13_14-07-37\n",
            "  done: false\n",
            "  experiment_id: 7f6e26f2963b43d4b6f7c8b25c7e722a\n",
            "  experiment_tag: 1_eta=0.00056603,gamma=2.9078e-08,grow_policy=lossguide,max_depth=2@perturbed[eta=0.0070479,gamma=3.2274e-07,grow_policy=lossguide,max_depth=1]\n",
            "  hostname: 9991d65102f3\n",
            "  iterations_since_restore: 1\n",
            "  mean_accuracy: 0.2\n",
            "  node_ip: 172.28.0.2\n",
            "  pid: 519\n",
            "  time_since_restore: 180.05069780349731\n",
            "  time_this_iter_s: 180.05069780349731\n",
            "  time_total_s: 450.2225286960602\n",
            "  timestamp: 1578924457\n",
            "  timesteps_since_restore: 0\n",
            "  training_iteration: 4\n",
            "  trial_id: 02f9e0c0\n",
            "  \n"
          ],
          "name": "stdout"
        },
        {
          "output_type": "display_data",
          "data": {
            "text/html": [
              "== Status ==<br>Memory usage on this node: 1.4/12.7 GiB<br>PopulationBasedTraining: 4 checkpoints, 14 perturbs<br>Resources requested: 1/2 CPUs, 0/0 GPUs, 0.0/6.1 GiB heap, 0.0/2.1 GiB objects<br>Result logdir: /root/ray_results/XGBoost_trainable<br>Number of trials: 4 (1 RUNNING, 3 PAUSED)<br><table>\n",
              "<thead>\n",
              "<tr><th>Trial name                </th><th>status  </th><th>loc  </th><th>grow_policy  </th><th style=\"text-align: right;\">       eta</th><th style=\"text-align: right;\">       gamma</th><th style=\"text-align: right;\">  max_depth</th><th style=\"text-align: right;\">  iter</th><th style=\"text-align: right;\">  total time (s)</th><th style=\"text-align: right;\">  acc</th></tr>\n",
              "</thead>\n",
              "<tbody>\n",
              "<tr><td>XGBoost_trainable_027d3ac0</td><td>RUNNING </td><td>     </td><td>depthwise    </td><td style=\"text-align: right;\">0.00127633</td><td style=\"text-align: right;\"> 0.00933525 </td><td style=\"text-align: right;\">          3</td><td style=\"text-align: right;\">     2</td><td style=\"text-align: right;\">         512.578</td><td style=\"text-align: right;\">  0.2</td></tr>\n",
              "<tr><td>XGBoost_trainable_02f9e0c0</td><td>PAUSED  </td><td>     </td><td>lossguide    </td><td style=\"text-align: right;\">0.00469859</td><td style=\"text-align: right;\">-4.88805    </td><td style=\"text-align: right;\">          0</td><td style=\"text-align: right;\">     4</td><td style=\"text-align: right;\">         450.223</td><td style=\"text-align: right;\">  0.2</td></tr>\n",
              "<tr><td>XGBoost_trainable_0373cc96</td><td>PAUSED  </td><td>     </td><td>lossguide    </td><td style=\"text-align: right;\">0.00587324</td><td style=\"text-align: right;\"> 2.68948e-07</td><td style=\"text-align: right;\">          1</td><td style=\"text-align: right;\">     3</td><td style=\"text-align: right;\">         270.172</td><td style=\"text-align: right;\">  0.2</td></tr>\n",
              "<tr><td>XGBoost_trainable_03b51f0c</td><td>PAUSED  </td><td>     </td><td>depthwise    </td><td style=\"text-align: right;\">0.00106361</td><td style=\"text-align: right;\"> 0.0116691  </td><td style=\"text-align: right;\">          4</td><td style=\"text-align: right;\">     2</td><td style=\"text-align: right;\">         361.41 </td><td style=\"text-align: right;\">  0.2</td></tr>\n",
              "</tbody>\n",
              "</table><br><br>"
            ],
            "text/plain": [
              "<IPython.core.display.HTML object>"
            ]
          },
          "metadata": {
            "tags": []
          }
        },
        {
          "output_type": "stream",
          "text": [
            "\u001b[2m\u001b[36m(pid=519)\u001b[0m 2020-01-13 14:07:37,176\tINFO trainable.py:346 -- Restored from checkpoint: /root/ray_results/XGBoost_trainable/XGBoost_trainable_03b51f0c_2020-01-13_13-34-38nx0meozj/tmpvrx8x9yrrestore_from_object/checkpoint_3/model.pth\n",
            "\u001b[2m\u001b[36m(pid=519)\u001b[0m 2020-01-13 14:07:37,176\tINFO trainable.py:353 -- Current state after restoring: {'_iteration': 3, '_timesteps_total': None, '_time_total': 270.17183089256287, '_episodes_total': None}\n",
            "\u001b[2m\u001b[36m(pid=519)\u001b[0m 2020-01-13 14:07:37,212\tINFO trainable.py:346 -- Restored from checkpoint: /root/ray_results/XGBoost_trainable/XGBoost_trainable_03b51f0c_2020-01-13_13-34-38nx0meozj/tmpn1ij9y_crestore_from_object/checkpoint_3/model.pth\n",
            "\u001b[2m\u001b[36m(pid=519)\u001b[0m 2020-01-13 14:07:37,212\tINFO trainable.py:353 -- Current state after restoring: {'_iteration': 3, '_timesteps_total': None, '_time_total': 270.17183089256287, '_episodes_total': None}\n"
          ],
          "name": "stdout"
        },
        {
          "output_type": "stream",
          "text": [
            "2020-01-13 14:10:39,596\tINFO pbt.py:83 -- [explore] perturbed config from {'verbosity': 0, 'objective': 'multi:softprob', 'num_class': 5, 'booster': 'gbtree', 'eval_metric': 'merror', 'max_depth': 1, 'eta': 0.00587323670168573, 'gamma': 2.689480236959982e-07, 'grow_policy': 'lossguide'} -> {'verbosity': 0, 'objective': 'multi:softprob', 'num_class': 5, 'booster': 'gbtree', 'eval_metric': 'merror', 'max_depth': 0, 'eta': 0.0070478840420228756, 'gamma': 2.1515841895679858e-07, 'grow_policy': 'lossguide'}\n",
            "2020-01-13 14:10:39,599\tINFO pbt.py:315 -- [exploit] transferring weights from trial XGBoost_trainable_0373cc96 (score 0.2) -> XGBoost_trainable_02f9e0c0 (score 0.2)\n"
          ],
          "name": "stderr"
        },
        {
          "output_type": "stream",
          "text": [
            "Result for XGBoost_trainable_02f9e0c0:\n",
            "  date: 2020-01-13_14-10-39\n",
            "  done: false\n",
            "  experiment_id: 7f6e26f2963b43d4b6f7c8b25c7e722a\n",
            "  experiment_tag: 1_eta=0.00056603,gamma=2.9078e-08,grow_policy=lossguide,max_depth=2@perturbed[eta=0.0070479,gamma=2.1516e-07,grow_policy=lossguide,max_depth=0]\n",
            "  hostname: 9991d65102f3\n",
            "  iterations_since_restore: 1\n",
            "  mean_accuracy: 0.2\n",
            "  node_ip: 172.28.0.2\n",
            "  pid: 519\n",
            "  time_since_restore: 182.3796215057373\n",
            "  time_this_iter_s: 182.3796215057373\n",
            "  time_total_s: 452.55145239830017\n",
            "  timestamp: 1578924639\n",
            "  timesteps_since_restore: 0\n",
            "  training_iteration: 4\n",
            "  trial_id: 02f9e0c0\n",
            "  \n"
          ],
          "name": "stdout"
        },
        {
          "output_type": "display_data",
          "data": {
            "text/html": [
              "== Status ==<br>Memory usage on this node: 1.4/12.7 GiB<br>PopulationBasedTraining: 4 checkpoints, 15 perturbs<br>Resources requested: 1/2 CPUs, 0/0 GPUs, 0.0/6.1 GiB heap, 0.0/2.1 GiB objects<br>Result logdir: /root/ray_results/XGBoost_trainable<br>Number of trials: 4 (1 RUNNING, 3 PAUSED)<br><table>\n",
              "<thead>\n",
              "<tr><th>Trial name                </th><th>status  </th><th>loc  </th><th>grow_policy  </th><th style=\"text-align: right;\">       eta</th><th style=\"text-align: right;\">      gamma</th><th style=\"text-align: right;\">  max_depth</th><th style=\"text-align: right;\">  iter</th><th style=\"text-align: right;\">  total time (s)</th><th style=\"text-align: right;\">  acc</th></tr>\n",
              "</thead>\n",
              "<tbody>\n",
              "<tr><td>XGBoost_trainable_027d3ac0</td><td>RUNNING </td><td>     </td><td>depthwise    </td><td style=\"text-align: right;\">0.00127633</td><td style=\"text-align: right;\">0.00933525 </td><td style=\"text-align: right;\">          3</td><td style=\"text-align: right;\">     2</td><td style=\"text-align: right;\">         512.578</td><td style=\"text-align: right;\">  0.2</td></tr>\n",
              "<tr><td>XGBoost_trainable_02f9e0c0</td><td>PAUSED  </td><td>     </td><td>lossguide    </td><td style=\"text-align: right;\">0.00704788</td><td style=\"text-align: right;\">3.22738e-07</td><td style=\"text-align: right;\">          1</td><td style=\"text-align: right;\">     4</td><td style=\"text-align: right;\">         452.551</td><td style=\"text-align: right;\">  0.2</td></tr>\n",
              "<tr><td>XGBoost_trainable_0373cc96</td><td>PAUSED  </td><td>     </td><td>lossguide    </td><td style=\"text-align: right;\">0.00587324</td><td style=\"text-align: right;\">2.68948e-07</td><td style=\"text-align: right;\">          1</td><td style=\"text-align: right;\">     3</td><td style=\"text-align: right;\">         270.172</td><td style=\"text-align: right;\">  0.2</td></tr>\n",
              "<tr><td>XGBoost_trainable_03b51f0c</td><td>PAUSED  </td><td>     </td><td>depthwise    </td><td style=\"text-align: right;\">0.00106361</td><td style=\"text-align: right;\">0.0116691  </td><td style=\"text-align: right;\">          4</td><td style=\"text-align: right;\">     2</td><td style=\"text-align: right;\">         361.41 </td><td style=\"text-align: right;\">  0.2</td></tr>\n",
              "</tbody>\n",
              "</table><br><br>"
            ],
            "text/plain": [
              "<IPython.core.display.HTML object>"
            ]
          },
          "metadata": {
            "tags": []
          }
        },
        {
          "output_type": "stream",
          "text": [
            "\u001b[2m\u001b[36m(pid=519)\u001b[0m 2020-01-13 14:10:39,617\tINFO trainable.py:346 -- Restored from checkpoint: /root/ray_results/XGBoost_trainable/XGBoost_trainable_03b51f0c_2020-01-13_13-34-38nx0meozj/tmp35nb8djzrestore_from_object/checkpoint_3/model.pth\n",
            "\u001b[2m\u001b[36m(pid=519)\u001b[0m 2020-01-13 14:10:39,617\tINFO trainable.py:353 -- Current state after restoring: {'_iteration': 3, '_timesteps_total': None, '_time_total': 270.17183089256287, '_episodes_total': None}\n",
            "\u001b[2m\u001b[36m(pid=519)\u001b[0m 2020-01-13 14:10:39,646\tINFO trainable.py:346 -- Restored from checkpoint: /root/ray_results/XGBoost_trainable/XGBoost_trainable_03b51f0c_2020-01-13_13-34-38nx0meozj/tmpifuml3vvrestore_from_object/checkpoint_3/model.pth\n",
            "\u001b[2m\u001b[36m(pid=519)\u001b[0m 2020-01-13 14:10:39,646\tINFO trainable.py:353 -- Current state after restoring: {'_iteration': 3, '_timesteps_total': None, '_time_total': 270.17183089256287, '_episodes_total': None}\n"
          ],
          "name": "stdout"
        },
        {
          "output_type": "stream",
          "text": [
            "2020-01-13 14:10:41,701\tINFO pbt.py:83 -- [explore] perturbed config from {'verbosity': 0, 'objective': 'multi:softprob', 'num_class': 5, 'booster': 'gbtree', 'eval_metric': 'merror', 'max_depth': 1, 'eta': 0.00587323670168573, 'gamma': 2.689480236959982e-07, 'grow_policy': 'lossguide'} -> {'verbosity': 0, 'objective': 'multi:softprob', 'num_class': 5, 'booster': 'gbtree', 'eval_metric': 'merror', 'max_depth': 1, 'eta': 0.0070478840420228756, 'gamma': 3.227376284351978e-07, 'grow_policy': 'depthwise'}\n",
            "2020-01-13 14:10:41,704\tINFO pbt.py:315 -- [exploit] transferring weights from trial XGBoost_trainable_0373cc96 (score 0.2) -> XGBoost_trainable_027d3ac0 (score 0.2)\n"
          ],
          "name": "stderr"
        },
        {
          "output_type": "stream",
          "text": [
            "Result for XGBoost_trainable_027d3ac0:\n",
            "  date: 2020-01-13_14-10-41\n",
            "  done: false\n",
            "  experiment_id: 7f6e26f2963b43d4b6f7c8b25c7e722a\n",
            "  experiment_tag: 0_eta=0.044127,gamma=0.010735,grow_policy=lossguide,max_depth=7@perturbed[eta=0.0070479,gamma=3.2274e-07,grow_policy=depthwise,max_depth=1]\n",
            "  hostname: 9991d65102f3\n",
            "  iterations_since_restore: 1\n",
            "  mean_accuracy: 0.2\n",
            "  node_ip: 172.28.0.2\n",
            "  pid: 387\n",
            "  time_since_restore: 327.47391629219055\n",
            "  time_this_iter_s: 327.47391629219055\n",
            "  time_total_s: 597.6457471847534\n",
            "  timestamp: 1578924641\n",
            "  timesteps_since_restore: 0\n",
            "  training_iteration: 4\n",
            "  trial_id: 027d3ac0\n",
            "  \n",
            "\u001b[2m\u001b[36m(pid=387)\u001b[0m 2020-01-13 14:10:41,730\tINFO trainable.py:346 -- Restored from checkpoint: /root/ray_results/XGBoost_trainable/XGBoost_trainable_027d3ac0_2020-01-13_13-31-3318o5vqkv/tmpp2xe11dqrestore_from_object/checkpoint_3/model.pth\n",
            "\u001b[2m\u001b[36m(pid=387)\u001b[0m 2020-01-13 14:10:41,730\tINFO trainable.py:353 -- Current state after restoring: {'_iteration': 3, '_timesteps_total': None, '_time_total': 270.17183089256287, '_episodes_total': None}\n",
            "\u001b[2m\u001b[36m(pid=387)\u001b[0m 2020-01-13 14:10:41,744\tINFO trainable.py:346 -- Restored from checkpoint: /root/ray_results/XGBoost_trainable/XGBoost_trainable_027d3ac0_2020-01-13_13-31-3318o5vqkv/tmp4o4u7holrestore_from_object/checkpoint_3/model.pth\n",
            "\u001b[2m\u001b[36m(pid=387)\u001b[0m 2020-01-13 14:10:41,745\tINFO trainable.py:353 -- Current state after restoring: {'_iteration': 3, '_timesteps_total': None, '_time_total': 270.17183089256287, '_episodes_total': None}\n"
          ],
          "name": "stdout"
        },
        {
          "output_type": "stream",
          "text": [
            "2020-01-13 14:13:37,441\tINFO pbt.py:83 -- [explore] perturbed config from {'verbosity': 0, 'objective': 'multi:softprob', 'num_class': 5, 'booster': 'gbtree', 'eval_metric': 'merror', 'max_depth': 4, 'eta': 0.0010636121226518637, 'gamma': 0.011669058550942432, 'grow_policy': 'depthwise'} -> {'verbosity': 0, 'objective': 'multi:softprob', 'num_class': 5, 'booster': 'gbtree', 'eval_metric': 'merror', 'max_depth': 6, 'eta': -3.4691673907802585, 'gamma': 0.014002870261130918, 'grow_policy': 'depthwise'}\n",
            "2020-01-13 14:13:37,443\tINFO pbt.py:315 -- [exploit] transferring weights from trial XGBoost_trainable_03b51f0c (score 0.2) -> XGBoost_trainable_02f9e0c0 (score 0.2)\n"
          ],
          "name": "stderr"
        },
        {
          "output_type": "stream",
          "text": [
            "Result for XGBoost_trainable_02f9e0c0:\n",
            "  date: 2020-01-13_14-13-37\n",
            "  done: false\n",
            "  experiment_id: 7f6e26f2963b43d4b6f7c8b25c7e722a\n",
            "  experiment_tag: 1_eta=0.00056603,gamma=2.9078e-08,grow_policy=lossguide,max_depth=2@perturbed[eta=-3.4692,gamma=0.014003,grow_policy=depthwise,max_depth=6]\n",
            "  hostname: 9991d65102f3\n",
            "  iterations_since_restore: 1\n",
            "  mean_accuracy: 0.2\n",
            "  node_ip: 172.28.0.2\n",
            "  pid: 519\n",
            "  time_since_restore: 177.79070401191711\n",
            "  time_this_iter_s: 177.79070401191711\n",
            "  time_total_s: 447.96253490448\n",
            "  timestamp: 1578924817\n",
            "  timesteps_since_restore: 0\n",
            "  training_iteration: 4\n",
            "  trial_id: 02f9e0c0\n",
            "  \n"
          ],
          "name": "stdout"
        },
        {
          "output_type": "display_data",
          "data": {
            "text/html": [
              "== Status ==<br>Memory usage on this node: 1.4/12.7 GiB<br>PopulationBasedTraining: 4 checkpoints, 17 perturbs<br>Resources requested: 1/2 CPUs, 0/0 GPUs, 0.0/6.1 GiB heap, 0.0/2.1 GiB objects<br>Result logdir: /root/ray_results/XGBoost_trainable<br>Number of trials: 4 (1 RUNNING, 3 PAUSED)<br><table>\n",
              "<thead>\n",
              "<tr><th>Trial name                </th><th>status  </th><th>loc  </th><th>grow_policy  </th><th style=\"text-align: right;\">       eta</th><th style=\"text-align: right;\">      gamma</th><th style=\"text-align: right;\">  max_depth</th><th style=\"text-align: right;\">  iter</th><th style=\"text-align: right;\">  total time (s)</th><th style=\"text-align: right;\">  acc</th></tr>\n",
              "</thead>\n",
              "<tbody>\n",
              "<tr><td>XGBoost_trainable_027d3ac0</td><td>RUNNING </td><td>     </td><td>depthwise    </td><td style=\"text-align: right;\">0.00704788</td><td style=\"text-align: right;\">3.22738e-07</td><td style=\"text-align: right;\">          0</td><td style=\"text-align: right;\">     4</td><td style=\"text-align: right;\">         597.646</td><td style=\"text-align: right;\">  0.2</td></tr>\n",
              "<tr><td>XGBoost_trainable_02f9e0c0</td><td>PAUSED  </td><td>     </td><td>lossguide    </td><td style=\"text-align: right;\">0.00704788</td><td style=\"text-align: right;\">2.15158e-07</td><td style=\"text-align: right;\">          0</td><td style=\"text-align: right;\">     4</td><td style=\"text-align: right;\">         447.963</td><td style=\"text-align: right;\">  0.2</td></tr>\n",
              "<tr><td>XGBoost_trainable_0373cc96</td><td>PAUSED  </td><td>     </td><td>lossguide    </td><td style=\"text-align: right;\">0.00587324</td><td style=\"text-align: right;\">2.68948e-07</td><td style=\"text-align: right;\">          1</td><td style=\"text-align: right;\">     3</td><td style=\"text-align: right;\">         270.172</td><td style=\"text-align: right;\">  0.2</td></tr>\n",
              "<tr><td>XGBoost_trainable_03b51f0c</td><td>PAUSED  </td><td>     </td><td>depthwise    </td><td style=\"text-align: right;\">0.00106361</td><td style=\"text-align: right;\">0.0116691  </td><td style=\"text-align: right;\">          4</td><td style=\"text-align: right;\">     2</td><td style=\"text-align: right;\">         361.41 </td><td style=\"text-align: right;\">  0.2</td></tr>\n",
              "</tbody>\n",
              "</table><br><br>"
            ],
            "text/plain": [
              "<IPython.core.display.HTML object>"
            ]
          },
          "metadata": {
            "tags": []
          }
        },
        {
          "output_type": "stream",
          "text": [
            "\u001b[2m\u001b[36m(pid=519)\u001b[0m 2020-01-13 14:13:37,459\tINFO trainable.py:346 -- Restored from checkpoint: /root/ray_results/XGBoost_trainable/XGBoost_trainable_03b51f0c_2020-01-13_13-34-38nx0meozj/tmp5q7syobgrestore_from_object/checkpoint_2/model.pth\n",
            "\u001b[2m\u001b[36m(pid=519)\u001b[0m 2020-01-13 14:13:37,470\tINFO trainable.py:353 -- Current state after restoring: {'_iteration': 2, '_timesteps_total': None, '_time_total': 361.41012597084045, '_episodes_total': None}\n",
            "\u001b[2m\u001b[36m(pid=519)\u001b[0m 2020-01-13 14:13:37,491\tINFO trainable.py:346 -- Restored from checkpoint: /root/ray_results/XGBoost_trainable/XGBoost_trainable_03b51f0c_2020-01-13_13-34-38nx0meozj/tmpyq1jndbxrestore_from_object/checkpoint_3/model.pth\n",
            "\u001b[2m\u001b[36m(pid=519)\u001b[0m 2020-01-13 14:13:37,491\tINFO trainable.py:353 -- Current state after restoring: {'_iteration': 3, '_timesteps_total': None, '_time_total': 270.17183089256287, '_episodes_total': None}\n"
          ],
          "name": "stdout"
        },
        {
          "output_type": "stream",
          "text": [
            "2020-01-13 14:16:18,050\tINFO pbt.py:83 -- [explore] perturbed config from {'verbosity': 0, 'objective': 'multi:softprob', 'num_class': 5, 'booster': 'gbtree', 'eval_metric': 'merror', 'max_depth': 1, 'eta': 0.00587323670168573, 'gamma': 2.689480236959982e-07, 'grow_policy': 'lossguide'} -> {'verbosity': 0, 'objective': 'multi:softprob', 'num_class': 5, 'booster': 'gbtree', 'eval_metric': 'merror', 'max_depth': 0, 'eta': 0.0070478840420228756, 'gamma': -3.4790630720598292, 'grow_policy': 'lossguide'}\n",
            "2020-01-13 14:16:18,052\tINFO pbt.py:315 -- [exploit] transferring weights from trial XGBoost_trainable_0373cc96 (score 0.2) -> XGBoost_trainable_027d3ac0 (score 0.2)\n"
          ],
          "name": "stderr"
        },
        {
          "output_type": "stream",
          "text": [
            "Result for XGBoost_trainable_027d3ac0:\n",
            "  date: 2020-01-13_14-16-18\n",
            "  done: false\n",
            "  experiment_id: 7f6e26f2963b43d4b6f7c8b25c7e722a\n",
            "  experiment_tag: 0_eta=0.044127,gamma=0.010735,grow_policy=lossguide,max_depth=7@perturbed[eta=0.0070479,gamma=-3.4791,grow_policy=lossguide,max_depth=0]\n",
            "  hostname: 9991d65102f3\n",
            "  iterations_since_restore: 1\n",
            "  mean_accuracy: 0.2\n",
            "  node_ip: 172.28.0.2\n",
            "  pid: 387\n",
            "  time_since_restore: 336.3025588989258\n",
            "  time_this_iter_s: 336.3025588989258\n",
            "  time_total_s: 606.4743897914886\n",
            "  timestamp: 1578924978\n",
            "  timesteps_since_restore: 0\n",
            "  training_iteration: 4\n",
            "  trial_id: 027d3ac0\n",
            "  \n"
          ],
          "name": "stdout"
        },
        {
          "output_type": "display_data",
          "data": {
            "text/html": [
              "== Status ==<br>Memory usage on this node: 1.4/12.7 GiB<br>PopulationBasedTraining: 4 checkpoints, 18 perturbs<br>Resources requested: 1/2 CPUs, 0/0 GPUs, 0.0/6.1 GiB heap, 0.0/2.1 GiB objects<br>Result logdir: /root/ray_results/XGBoost_trainable<br>Number of trials: 4 (3 PAUSED, 1 RUNNING)<br><table>\n",
              "<thead>\n",
              "<tr><th>Trial name                </th><th>status  </th><th>loc  </th><th>grow_policy  </th><th style=\"text-align: right;\">       eta</th><th style=\"text-align: right;\">      gamma</th><th style=\"text-align: right;\">  max_depth</th><th style=\"text-align: right;\">  iter</th><th style=\"text-align: right;\">  total time (s)</th><th style=\"text-align: right;\">  acc</th></tr>\n",
              "</thead>\n",
              "<tbody>\n",
              "<tr><td>XGBoost_trainable_027d3ac0</td><td>PAUSED  </td><td>     </td><td>depthwise    </td><td style=\"text-align: right;\">0.00704788</td><td style=\"text-align: right;\">3.22738e-07</td><td style=\"text-align: right;\">          1</td><td style=\"text-align: right;\">     4</td><td style=\"text-align: right;\">         606.474</td><td style=\"text-align: right;\">  0.2</td></tr>\n",
              "<tr><td>XGBoost_trainable_02f9e0c0</td><td>PAUSED  </td><td>     </td><td>lossguide    </td><td style=\"text-align: right;\">0.00704788</td><td style=\"text-align: right;\">2.15158e-07</td><td style=\"text-align: right;\">          0</td><td style=\"text-align: right;\">     4</td><td style=\"text-align: right;\">         447.963</td><td style=\"text-align: right;\">  0.2</td></tr>\n",
              "<tr><td>XGBoost_trainable_0373cc96</td><td>RUNNING </td><td>     </td><td>lossguide    </td><td style=\"text-align: right;\">0.00587324</td><td style=\"text-align: right;\">2.68948e-07</td><td style=\"text-align: right;\">          1</td><td style=\"text-align: right;\">     3</td><td style=\"text-align: right;\">         270.172</td><td style=\"text-align: right;\">  0.2</td></tr>\n",
              "<tr><td>XGBoost_trainable_03b51f0c</td><td>PAUSED  </td><td>     </td><td>depthwise    </td><td style=\"text-align: right;\">0.00106361</td><td style=\"text-align: right;\">0.0116691  </td><td style=\"text-align: right;\">          4</td><td style=\"text-align: right;\">     2</td><td style=\"text-align: right;\">         361.41 </td><td style=\"text-align: right;\">  0.2</td></tr>\n",
              "</tbody>\n",
              "</table><br><br>"
            ],
            "text/plain": [
              "<IPython.core.display.HTML object>"
            ]
          },
          "metadata": {
            "tags": []
          }
        },
        {
          "output_type": "stream",
          "text": [
            "\u001b[2m\u001b[36m(pid=387)\u001b[0m 2020-01-13 14:16:18,081\tINFO trainable.py:346 -- Restored from checkpoint: /root/ray_results/XGBoost_trainable/XGBoost_trainable_027d3ac0_2020-01-13_13-31-3318o5vqkv/tmpx9odfoy2restore_from_object/checkpoint_3/model.pth\n",
            "\u001b[2m\u001b[36m(pid=387)\u001b[0m 2020-01-13 14:16:18,081\tINFO trainable.py:353 -- Current state after restoring: {'_iteration': 3, '_timesteps_total': None, '_time_total': 270.17183089256287, '_episodes_total': None}\n",
            "\u001b[2m\u001b[36m(pid=387)\u001b[0m 2020-01-13 14:16:18,109\tINFO trainable.py:346 -- Restored from checkpoint: /root/ray_results/XGBoost_trainable/XGBoost_trainable_027d3ac0_2020-01-13_13-31-3318o5vqkv/tmprbbtkfw_restore_from_object/checkpoint_3/model.pth\n",
            "\u001b[2m\u001b[36m(pid=387)\u001b[0m 2020-01-13 14:16:18,109\tINFO trainable.py:353 -- Current state after restoring: {'_iteration': 3, '_timesteps_total': None, '_time_total': 270.17183089256287, '_episodes_total': None}\n",
            "Result for XGBoost_trainable_0373cc96:\n",
            "  date: 2020-01-13_14-16-34\n",
            "  done: false\n",
            "  experiment_id: 7f6e26f2963b43d4b6f7c8b25c7e722a\n",
            "  experiment_tag: 2_eta=0.0058732,gamma=2.6895e-07,grow_policy=lossguide,max_depth=1\n",
            "  hostname: 9991d65102f3\n",
            "  iterations_since_restore: 1\n",
            "  mean_accuracy: 0.2\n",
            "  node_ip: 172.28.0.2\n",
            "  pid: 519\n",
            "  time_since_restore: 177.2863655090332\n",
            "  time_this_iter_s: 177.2863655090332\n",
            "  time_total_s: 447.45819640159607\n",
            "  timestamp: 1578924994\n",
            "  timesteps_since_restore: 0\n",
            "  training_iteration: 4\n",
            "  trial_id: 0373cc96\n",
            "  \n"
          ],
          "name": "stdout"
        },
        {
          "output_type": "display_data",
          "data": {
            "text/html": [
              "== Status ==<br>Memory usage on this node: 1.4/12.7 GiB<br>PopulationBasedTraining: 5 checkpoints, 18 perturbs<br>Resources requested: 1/2 CPUs, 0/0 GPUs, 0.0/6.1 GiB heap, 0.0/2.1 GiB objects<br>Result logdir: /root/ray_results/XGBoost_trainable<br>Number of trials: 4 (1 RUNNING, 3 PAUSED)<br><table>\n",
              "<thead>\n",
              "<tr><th>Trial name                </th><th>status  </th><th>loc  </th><th>grow_policy  </th><th style=\"text-align: right;\">       eta</th><th style=\"text-align: right;\">      gamma</th><th style=\"text-align: right;\">  max_depth</th><th style=\"text-align: right;\">  iter</th><th style=\"text-align: right;\">  total time (s)</th><th style=\"text-align: right;\">  acc</th></tr>\n",
              "</thead>\n",
              "<tbody>\n",
              "<tr><td>XGBoost_trainable_027d3ac0</td><td>RUNNING </td><td>     </td><td>depthwise    </td><td style=\"text-align: right;\">0.00704788</td><td style=\"text-align: right;\">3.22738e-07</td><td style=\"text-align: right;\">          1</td><td style=\"text-align: right;\">     4</td><td style=\"text-align: right;\">         606.474</td><td style=\"text-align: right;\">  0.2</td></tr>\n",
              "<tr><td>XGBoost_trainable_02f9e0c0</td><td>PAUSED  </td><td>     </td><td>lossguide    </td><td style=\"text-align: right;\">0.00704788</td><td style=\"text-align: right;\">2.15158e-07</td><td style=\"text-align: right;\">          0</td><td style=\"text-align: right;\">     4</td><td style=\"text-align: right;\">         447.963</td><td style=\"text-align: right;\">  0.2</td></tr>\n",
              "<tr><td>XGBoost_trainable_0373cc96</td><td>PAUSED  </td><td>     </td><td>lossguide    </td><td style=\"text-align: right;\">0.00587324</td><td style=\"text-align: right;\">2.68948e-07</td><td style=\"text-align: right;\">          1</td><td style=\"text-align: right;\">     4</td><td style=\"text-align: right;\">         447.458</td><td style=\"text-align: right;\">  0.2</td></tr>\n",
              "<tr><td>XGBoost_trainable_03b51f0c</td><td>PAUSED  </td><td>     </td><td>depthwise    </td><td style=\"text-align: right;\">0.00106361</td><td style=\"text-align: right;\">0.0116691  </td><td style=\"text-align: right;\">          4</td><td style=\"text-align: right;\">     2</td><td style=\"text-align: right;\">         361.41 </td><td style=\"text-align: right;\">  0.2</td></tr>\n",
              "</tbody>\n",
              "</table><br><br>"
            ],
            "text/plain": [
              "<IPython.core.display.HTML object>"
            ]
          },
          "metadata": {
            "tags": []
          }
        },
        {
          "output_type": "stream",
          "text": [
            "\u001b[2m\u001b[36m(pid=519)\u001b[0m 2020-01-13 14:16:34,827\tINFO trainable.py:346 -- Restored from checkpoint: /root/ray_results/XGBoost_trainable/XGBoost_trainable_03b51f0c_2020-01-13_13-34-38nx0meozj/tmpz8476ms9restore_from_object/checkpoint_2/model.pth\n",
            "\u001b[2m\u001b[36m(pid=519)\u001b[0m 2020-01-13 14:16:34,827\tINFO trainable.py:353 -- Current state after restoring: {'_iteration': 2, '_timesteps_total': None, '_time_total': 361.41012597084045, '_episodes_total': None}\n"
          ],
          "name": "stdout"
        },
        {
          "output_type": "stream",
          "text": [
            "2020-01-13 14:19:32,024\tINFO pbt.py:83 -- [explore] perturbed config from {'verbosity': 0, 'objective': 'multi:softprob', 'num_class': 5, 'booster': 'gbtree', 'eval_metric': 'merror', 'max_depth': 1, 'eta': 0.00587323670168573, 'gamma': 2.689480236959982e-07, 'grow_policy': 'lossguide'} -> {'verbosity': 0, 'objective': 'multi:softprob', 'num_class': 5, 'booster': 'gbtree', 'eval_metric': 'merror', 'max_depth': 2, 'eta': 0.0070478840420228756, 'gamma': 2.1515841895679858e-07, 'grow_policy': 'depthwise'}\n",
            "2020-01-13 14:19:32,026\tINFO pbt.py:315 -- [exploit] transferring weights from trial XGBoost_trainable_0373cc96 (score 0.2) -> XGBoost_trainable_02f9e0c0 (score 0.2)\n"
          ],
          "name": "stderr"
        },
        {
          "output_type": "stream",
          "text": [
            "Result for XGBoost_trainable_02f9e0c0:\n",
            "  date: 2020-01-13_14-19-32\n",
            "  done: false\n",
            "  experiment_id: cc8379e9a262436f84ca9a1bf757c9b8\n",
            "  experiment_tag: 1_eta=0.00056603,gamma=2.9078e-08,grow_policy=lossguide,max_depth=2@perturbed[eta=0.0070479,gamma=2.1516e-07,grow_policy=depthwise,max_depth=2]\n",
            "  hostname: 9991d65102f3\n",
            "  iterations_since_restore: 1\n",
            "  mean_accuracy: 0.2\n",
            "  node_ip: 172.28.0.2\n",
            "  pid: 519\n",
            "  time_since_restore: 177.1939549446106\n",
            "  time_this_iter_s: 177.1939549446106\n",
            "  time_total_s: 538.604080915451\n",
            "  timestamp: 1578925172\n",
            "  timesteps_since_restore: 0\n",
            "  training_iteration: 3\n",
            "  trial_id: 02f9e0c0\n",
            "  \n"
          ],
          "name": "stdout"
        },
        {
          "output_type": "display_data",
          "data": {
            "text/html": [
              "== Status ==<br>Memory usage on this node: 1.4/12.7 GiB<br>PopulationBasedTraining: 5 checkpoints, 19 perturbs<br>Resources requested: 1/2 CPUs, 0/0 GPUs, 0.0/6.1 GiB heap, 0.0/2.1 GiB objects<br>Result logdir: /root/ray_results/XGBoost_trainable<br>Number of trials: 4 (1 RUNNING, 3 PAUSED)<br><table>\n",
              "<thead>\n",
              "<tr><th>Trial name                </th><th>status  </th><th>loc  </th><th>grow_policy  </th><th style=\"text-align: right;\">        eta</th><th style=\"text-align: right;\">      gamma</th><th style=\"text-align: right;\">  max_depth</th><th style=\"text-align: right;\">  iter</th><th style=\"text-align: right;\">  total time (s)</th><th style=\"text-align: right;\">  acc</th></tr>\n",
              "</thead>\n",
              "<tbody>\n",
              "<tr><td>XGBoost_trainable_027d3ac0</td><td>RUNNING </td><td>     </td><td>depthwise    </td><td style=\"text-align: right;\"> 0.00704788</td><td style=\"text-align: right;\">3.22738e-07</td><td style=\"text-align: right;\">          1</td><td style=\"text-align: right;\">     4</td><td style=\"text-align: right;\">         606.474</td><td style=\"text-align: right;\">  0.2</td></tr>\n",
              "<tr><td>XGBoost_trainable_02f9e0c0</td><td>PAUSED  </td><td>     </td><td>depthwise    </td><td style=\"text-align: right;\">-3.46917   </td><td style=\"text-align: right;\">0.0140029  </td><td style=\"text-align: right;\">          6</td><td style=\"text-align: right;\">     3</td><td style=\"text-align: right;\">         538.604</td><td style=\"text-align: right;\">  0.2</td></tr>\n",
              "<tr><td>XGBoost_trainable_0373cc96</td><td>PAUSED  </td><td>     </td><td>lossguide    </td><td style=\"text-align: right;\"> 0.00587324</td><td style=\"text-align: right;\">2.68948e-07</td><td style=\"text-align: right;\">          1</td><td style=\"text-align: right;\">     4</td><td style=\"text-align: right;\">         447.458</td><td style=\"text-align: right;\">  0.2</td></tr>\n",
              "<tr><td>XGBoost_trainable_03b51f0c</td><td>PAUSED  </td><td>     </td><td>depthwise    </td><td style=\"text-align: right;\"> 0.00106361</td><td style=\"text-align: right;\">0.0116691  </td><td style=\"text-align: right;\">          4</td><td style=\"text-align: right;\">     2</td><td style=\"text-align: right;\">         361.41 </td><td style=\"text-align: right;\">  0.2</td></tr>\n",
              "</tbody>\n",
              "</table><br><br>"
            ],
            "text/plain": [
              "<IPython.core.display.HTML object>"
            ]
          },
          "metadata": {
            "tags": []
          }
        },
        {
          "output_type": "stream",
          "text": [
            "\u001b[2m\u001b[36m(pid=519)\u001b[0m 2020-01-13 14:19:32,050\tINFO trainable.py:346 -- Restored from checkpoint: /root/ray_results/XGBoost_trainable/XGBoost_trainable_03b51f0c_2020-01-13_13-34-38nx0meozj/tmpi_122izqrestore_from_object/checkpoint_4/model.pth\n",
            "\u001b[2m\u001b[36m(pid=519)\u001b[0m 2020-01-13 14:19:32,051\tINFO trainable.py:353 -- Current state after restoring: {'_iteration': 4, '_timesteps_total': None, '_time_total': 447.45819640159607, '_episodes_total': None}\n",
            "\u001b[2m\u001b[36m(pid=519)\u001b[0m 2020-01-13 14:19:32,084\tINFO trainable.py:346 -- Restored from checkpoint: /root/ray_results/XGBoost_trainable/XGBoost_trainable_03b51f0c_2020-01-13_13-34-38nx0meozj/tmpz6g2d5udrestore_from_object/checkpoint_2/model.pth\n",
            "\u001b[2m\u001b[36m(pid=519)\u001b[0m 2020-01-13 14:19:32,084\tINFO trainable.py:353 -- Current state after restoring: {'_iteration': 2, '_timesteps_total': None, '_time_total': 361.41012597084045, '_episodes_total': None}\n"
          ],
          "name": "stdout"
        },
        {
          "output_type": "stream",
          "text": [
            "2020-01-13 14:21:55,344\tINFO pbt.py:83 -- [explore] perturbed config from {'verbosity': 0, 'objective': 'multi:softprob', 'num_class': 5, 'booster': 'gbtree', 'eval_metric': 'merror', 'max_depth': 4, 'eta': 0.0010636121226518637, 'gamma': 0.011669058550942432, 'grow_policy': 'depthwise'} -> {'verbosity': 0, 'objective': 'multi:softprob', 'num_class': 5, 'booster': 'gbtree', 'eval_metric': 'merror', 'max_depth': 3, 'eta': 0.0012763345471822364, 'gamma': 0.014002870261130918, 'grow_policy': 'depthwise'}\n",
            "2020-01-13 14:21:55,346\tINFO pbt.py:315 -- [exploit] transferring weights from trial XGBoost_trainable_03b51f0c (score 0.2) -> XGBoost_trainable_027d3ac0 (score 0.2)\n"
          ],
          "name": "stderr"
        },
        {
          "output_type": "stream",
          "text": [
            "Result for XGBoost_trainable_027d3ac0:\n",
            "  date: 2020-01-13_14-21-55\n",
            "  done: false\n",
            "  experiment_id: 7f6e26f2963b43d4b6f7c8b25c7e722a\n",
            "  experiment_tag: 0_eta=0.044127,gamma=0.010735,grow_policy=lossguide,max_depth=7@perturbed[eta=0.0012763,gamma=0.014003,grow_policy=depthwise,max_depth=3]\n",
            "  hostname: 9991d65102f3\n",
            "  iterations_since_restore: 1\n",
            "  mean_accuracy: 0.2\n",
            "  node_ip: 172.28.0.2\n",
            "  pid: 387\n",
            "  time_since_restore: 337.22896122932434\n",
            "  time_this_iter_s: 337.22896122932434\n",
            "  time_total_s: 607.4007921218872\n",
            "  timestamp: 1578925315\n",
            "  timesteps_since_restore: 0\n",
            "  training_iteration: 4\n",
            "  trial_id: 027d3ac0\n",
            "  \n"
          ],
          "name": "stdout"
        },
        {
          "output_type": "display_data",
          "data": {
            "text/html": [
              "== Status ==<br>Memory usage on this node: 1.4/12.7 GiB<br>PopulationBasedTraining: 5 checkpoints, 20 perturbs<br>Resources requested: 1/2 CPUs, 0/0 GPUs, 0.0/6.1 GiB heap, 0.0/2.1 GiB objects<br>Result logdir: /root/ray_results/XGBoost_trainable<br>Number of trials: 4 (3 PAUSED, 1 RUNNING)<br><table>\n",
              "<thead>\n",
              "<tr><th>Trial name                </th><th>status  </th><th>loc  </th><th>grow_policy  </th><th style=\"text-align: right;\">        eta</th><th style=\"text-align: right;\">       gamma</th><th style=\"text-align: right;\">  max_depth</th><th style=\"text-align: right;\">  iter</th><th style=\"text-align: right;\">  total time (s)</th><th style=\"text-align: right;\">  acc</th></tr>\n",
              "</thead>\n",
              "<tbody>\n",
              "<tr><td>XGBoost_trainable_027d3ac0</td><td>PAUSED  </td><td>     </td><td>lossguide    </td><td style=\"text-align: right;\"> 0.00704788</td><td style=\"text-align: right;\">-3.47906    </td><td style=\"text-align: right;\">          0</td><td style=\"text-align: right;\">     4</td><td style=\"text-align: right;\">         607.401</td><td style=\"text-align: right;\">  0.2</td></tr>\n",
              "<tr><td>XGBoost_trainable_02f9e0c0</td><td>PAUSED  </td><td>     </td><td>depthwise    </td><td style=\"text-align: right;\">-3.46917   </td><td style=\"text-align: right;\"> 0.0140029  </td><td style=\"text-align: right;\">          6</td><td style=\"text-align: right;\">     3</td><td style=\"text-align: right;\">         538.604</td><td style=\"text-align: right;\">  0.2</td></tr>\n",
              "<tr><td>XGBoost_trainable_0373cc96</td><td>PAUSED  </td><td>     </td><td>lossguide    </td><td style=\"text-align: right;\"> 0.00587324</td><td style=\"text-align: right;\"> 2.68948e-07</td><td style=\"text-align: right;\">          1</td><td style=\"text-align: right;\">     4</td><td style=\"text-align: right;\">         447.458</td><td style=\"text-align: right;\">  0.2</td></tr>\n",
              "<tr><td>XGBoost_trainable_03b51f0c</td><td>RUNNING </td><td>     </td><td>depthwise    </td><td style=\"text-align: right;\"> 0.00106361</td><td style=\"text-align: right;\"> 0.0116691  </td><td style=\"text-align: right;\">          4</td><td style=\"text-align: right;\">     2</td><td style=\"text-align: right;\">         361.41 </td><td style=\"text-align: right;\">  0.2</td></tr>\n",
              "</tbody>\n",
              "</table><br><br>"
            ],
            "text/plain": [
              "<IPython.core.display.HTML object>"
            ]
          },
          "metadata": {
            "tags": []
          }
        },
        {
          "output_type": "stream",
          "text": [
            "\u001b[2m\u001b[36m(pid=387)\u001b[0m 2020-01-13 14:21:55,374\tINFO trainable.py:346 -- Restored from checkpoint: /root/ray_results/XGBoost_trainable/XGBoost_trainable_027d3ac0_2020-01-13_13-31-3318o5vqkv/tmpm_ja2_c1restore_from_object/checkpoint_2/model.pth\n",
            "\u001b[2m\u001b[36m(pid=387)\u001b[0m 2020-01-13 14:21:55,374\tINFO trainable.py:353 -- Current state after restoring: {'_iteration': 2, '_timesteps_total': None, '_time_total': 361.41012597084045, '_episodes_total': None}\n",
            "\u001b[2m\u001b[36m(pid=387)\u001b[0m 2020-01-13 14:21:55,410\tINFO trainable.py:346 -- Restored from checkpoint: /root/ray_results/XGBoost_trainable/XGBoost_trainable_027d3ac0_2020-01-13_13-31-3318o5vqkv/tmppf3eqjyarestore_from_object/checkpoint_2/model.pth\n",
            "\u001b[2m\u001b[36m(pid=387)\u001b[0m 2020-01-13 14:21:55,410\tINFO trainable.py:353 -- Current state after restoring: {'_iteration': 2, '_timesteps_total': None, '_time_total': 361.41012597084045, '_episodes_total': None}\n",
            "Result for XGBoost_trainable_03b51f0c:\n",
            "  date: 2020-01-13_14-22-31\n",
            "  done: false\n",
            "  experiment_id: cc8379e9a262436f84ca9a1bf757c9b8\n",
            "  experiment_tag: 3_eta=0.0010636,gamma=0.011669,grow_policy=depthwise,max_depth=4\n",
            "  hostname: 9991d65102f3\n",
            "  iterations_since_restore: 1\n",
            "  mean_accuracy: 0.2\n",
            "  node_ip: 172.28.0.2\n",
            "  pid: 519\n",
            "  time_since_restore: 179.81579661369324\n",
            "  time_this_iter_s: 179.81579661369324\n",
            "  time_total_s: 541.2259225845337\n",
            "  timestamp: 1578925351\n",
            "  timesteps_since_restore: 0\n",
            "  training_iteration: 3\n",
            "  trial_id: 03b51f0c\n",
            "  \n"
          ],
          "name": "stdout"
        },
        {
          "output_type": "display_data",
          "data": {
            "text/html": [
              "== Status ==<br>Memory usage on this node: 1.4/12.7 GiB<br>PopulationBasedTraining: 6 checkpoints, 20 perturbs<br>Resources requested: 1/2 CPUs, 0/0 GPUs, 0.0/6.1 GiB heap, 0.0/2.1 GiB objects<br>Result logdir: /root/ray_results/XGBoost_trainable<br>Number of trials: 4 (1 RUNNING, 3 PAUSED)<br><table>\n",
              "<thead>\n",
              "<tr><th>Trial name                </th><th>status  </th><th>loc  </th><th>grow_policy  </th><th style=\"text-align: right;\">        eta</th><th style=\"text-align: right;\">       gamma</th><th style=\"text-align: right;\">  max_depth</th><th style=\"text-align: right;\">  iter</th><th style=\"text-align: right;\">  total time (s)</th><th style=\"text-align: right;\">  acc</th></tr>\n",
              "</thead>\n",
              "<tbody>\n",
              "<tr><td>XGBoost_trainable_027d3ac0</td><td>RUNNING </td><td>     </td><td>lossguide    </td><td style=\"text-align: right;\"> 0.00704788</td><td style=\"text-align: right;\">-3.47906    </td><td style=\"text-align: right;\">          0</td><td style=\"text-align: right;\">     4</td><td style=\"text-align: right;\">         607.401</td><td style=\"text-align: right;\">  0.2</td></tr>\n",
              "<tr><td>XGBoost_trainable_02f9e0c0</td><td>PAUSED  </td><td>     </td><td>depthwise    </td><td style=\"text-align: right;\">-3.46917   </td><td style=\"text-align: right;\"> 0.0140029  </td><td style=\"text-align: right;\">          6</td><td style=\"text-align: right;\">     3</td><td style=\"text-align: right;\">         538.604</td><td style=\"text-align: right;\">  0.2</td></tr>\n",
              "<tr><td>XGBoost_trainable_0373cc96</td><td>PAUSED  </td><td>     </td><td>lossguide    </td><td style=\"text-align: right;\"> 0.00587324</td><td style=\"text-align: right;\"> 2.68948e-07</td><td style=\"text-align: right;\">          1</td><td style=\"text-align: right;\">     4</td><td style=\"text-align: right;\">         447.458</td><td style=\"text-align: right;\">  0.2</td></tr>\n",
              "<tr><td>XGBoost_trainable_03b51f0c</td><td>PAUSED  </td><td>     </td><td>depthwise    </td><td style=\"text-align: right;\"> 0.00106361</td><td style=\"text-align: right;\"> 0.0116691  </td><td style=\"text-align: right;\">          4</td><td style=\"text-align: right;\">     3</td><td style=\"text-align: right;\">         541.226</td><td style=\"text-align: right;\">  0.2</td></tr>\n",
              "</tbody>\n",
              "</table><br><br>"
            ],
            "text/plain": [
              "<IPython.core.display.HTML object>"
            ]
          },
          "metadata": {
            "tags": []
          }
        },
        {
          "output_type": "stream",
          "text": [
            "\u001b[2m\u001b[36m(pid=519)\u001b[0m 2020-01-13 14:22:31,942\tINFO trainable.py:346 -- Restored from checkpoint: /root/ray_results/XGBoost_trainable/XGBoost_trainable_03b51f0c_2020-01-13_13-34-38nx0meozj/tmplr1vmuymrestore_from_object/checkpoint_4/model.pth\n",
            "\u001b[2m\u001b[36m(pid=519)\u001b[0m 2020-01-13 14:22:31,942\tINFO trainable.py:353 -- Current state after restoring: {'_iteration': 4, '_timesteps_total': None, '_time_total': 447.45819640159607, '_episodes_total': None}\n"
          ],
          "name": "stdout"
        },
        {
          "output_type": "stream",
          "text": [
            "2020-01-13 14:25:34,040\tINFO pbt.py:83 -- [explore] perturbed config from {'verbosity': 0, 'objective': 'multi:softprob', 'num_class': 5, 'booster': 'gbtree', 'eval_metric': 'merror', 'max_depth': 4, 'eta': 0.0010636121226518637, 'gamma': 0.011669058550942432, 'grow_policy': 'depthwise'} -> {'verbosity': 0, 'objective': 'multi:softprob', 'num_class': 5, 'booster': 'gbtree', 'eval_metric': 'merror', 'max_depth': 3, 'eta': 0.0012763345471822364, 'gamma': 0.014002870261130918, 'grow_policy': 'depthwise'}\n",
            "2020-01-13 14:25:34,043\tINFO pbt.py:315 -- [exploit] transferring weights from trial XGBoost_trainable_03b51f0c (score 0.2) -> XGBoost_trainable_02f9e0c0 (score 0.2)\n"
          ],
          "name": "stderr"
        },
        {
          "output_type": "stream",
          "text": [
            "Result for XGBoost_trainable_02f9e0c0:\n",
            "  date: 2020-01-13_14-25-34\n",
            "  done: false\n",
            "  experiment_id: 7f6e26f2963b43d4b6f7c8b25c7e722a\n",
            "  experiment_tag: 1_eta=0.00056603,gamma=2.9078e-08,grow_policy=lossguide,max_depth=2@perturbed[eta=0.0012763,gamma=0.014003,grow_policy=depthwise,max_depth=3]\n",
            "  hostname: 9991d65102f3\n",
            "  iterations_since_restore: 1\n",
            "  mean_accuracy: 0.2\n",
            "  node_ip: 172.28.0.2\n",
            "  pid: 519\n",
            "  time_since_restore: 182.09424567222595\n",
            "  time_this_iter_s: 182.09424567222595\n",
            "  time_total_s: 629.552442073822\n",
            "  timestamp: 1578925534\n",
            "  timesteps_since_restore: 0\n",
            "  training_iteration: 5\n",
            "  trial_id: 02f9e0c0\n",
            "  \n"
          ],
          "name": "stdout"
        },
        {
          "output_type": "display_data",
          "data": {
            "text/html": [
              "== Status ==<br>Memory usage on this node: 1.4/12.7 GiB<br>PopulationBasedTraining: 6 checkpoints, 21 perturbs<br>Resources requested: 1/2 CPUs, 0/0 GPUs, 0.0/6.1 GiB heap, 0.0/2.1 GiB objects<br>Result logdir: /root/ray_results/XGBoost_trainable<br>Number of trials: 4 (1 RUNNING, 3 PAUSED)<br><table>\n",
              "<thead>\n",
              "<tr><th>Trial name                </th><th>status  </th><th>loc  </th><th>grow_policy  </th><th style=\"text-align: right;\">       eta</th><th style=\"text-align: right;\">       gamma</th><th style=\"text-align: right;\">  max_depth</th><th style=\"text-align: right;\">  iter</th><th style=\"text-align: right;\">  total time (s)</th><th style=\"text-align: right;\">  acc</th></tr>\n",
              "</thead>\n",
              "<tbody>\n",
              "<tr><td>XGBoost_trainable_027d3ac0</td><td>RUNNING </td><td>     </td><td>lossguide    </td><td style=\"text-align: right;\">0.00704788</td><td style=\"text-align: right;\">-3.47906    </td><td style=\"text-align: right;\">          0</td><td style=\"text-align: right;\">     4</td><td style=\"text-align: right;\">         607.401</td><td style=\"text-align: right;\">  0.2</td></tr>\n",
              "<tr><td>XGBoost_trainable_02f9e0c0</td><td>PAUSED  </td><td>     </td><td>depthwise    </td><td style=\"text-align: right;\">0.00704788</td><td style=\"text-align: right;\"> 2.15158e-07</td><td style=\"text-align: right;\">          2</td><td style=\"text-align: right;\">     5</td><td style=\"text-align: right;\">         629.552</td><td style=\"text-align: right;\">  0.2</td></tr>\n",
              "<tr><td>XGBoost_trainable_0373cc96</td><td>PAUSED  </td><td>     </td><td>lossguide    </td><td style=\"text-align: right;\">0.00587324</td><td style=\"text-align: right;\"> 2.68948e-07</td><td style=\"text-align: right;\">          1</td><td style=\"text-align: right;\">     4</td><td style=\"text-align: right;\">         447.458</td><td style=\"text-align: right;\">  0.2</td></tr>\n",
              "<tr><td>XGBoost_trainable_03b51f0c</td><td>PAUSED  </td><td>     </td><td>depthwise    </td><td style=\"text-align: right;\">0.00106361</td><td style=\"text-align: right;\"> 0.0116691  </td><td style=\"text-align: right;\">          4</td><td style=\"text-align: right;\">     3</td><td style=\"text-align: right;\">         541.226</td><td style=\"text-align: right;\">  0.2</td></tr>\n",
              "</tbody>\n",
              "</table><br><br>"
            ],
            "text/plain": [
              "<IPython.core.display.HTML object>"
            ]
          },
          "metadata": {
            "tags": []
          }
        },
        {
          "output_type": "stream",
          "text": [
            "\u001b[2m\u001b[36m(pid=519)\u001b[0m 2020-01-13 14:25:34,062\tINFO trainable.py:346 -- Restored from checkpoint: /root/ray_results/XGBoost_trainable/XGBoost_trainable_03b51f0c_2020-01-13_13-34-38nx0meozj/tmpt82ei5drrestore_from_object/checkpoint_3/model.pth\n",
            "\u001b[2m\u001b[36m(pid=519)\u001b[0m 2020-01-13 14:25:34,063\tINFO trainable.py:353 -- Current state after restoring: {'_iteration': 3, '_timesteps_total': None, '_time_total': 541.2259225845337, '_episodes_total': None}\n",
            "\u001b[2m\u001b[36m(pid=519)\u001b[0m 2020-01-13 14:25:34,102\tINFO trainable.py:346 -- Restored from checkpoint: /root/ray_results/XGBoost_trainable/XGBoost_trainable_03b51f0c_2020-01-13_13-34-38nx0meozj/tmpub096ww6restore_from_object/checkpoint_4/model.pth\n",
            "\u001b[2m\u001b[36m(pid=519)\u001b[0m 2020-01-13 14:25:34,102\tINFO trainable.py:353 -- Current state after restoring: {'_iteration': 4, '_timesteps_total': None, '_time_total': 447.45819640159607, '_episodes_total': None}\n"
          ],
          "name": "stdout"
        },
        {
          "output_type": "stream",
          "text": [
            "2020-01-13 14:27:30,763\tINFO pbt.py:83 -- [explore] perturbed config from {'verbosity': 0, 'objective': 'multi:softprob', 'num_class': 5, 'booster': 'gbtree', 'eval_metric': 'merror', 'max_depth': 4, 'eta': 0.0010636121226518637, 'gamma': 0.011669058550942432, 'grow_policy': 'depthwise'} -> {'verbosity': 0, 'objective': 'multi:softprob', 'num_class': 5, 'booster': 'gbtree', 'eval_metric': 'merror', 'max_depth': 3, 'eta': -2.5364201194561993, 'gamma': -1.3072772388614577, 'grow_policy': 'lossguide'}\n",
            "2020-01-13 14:27:30,781\tINFO pbt.py:315 -- [exploit] transferring weights from trial XGBoost_trainable_03b51f0c (score 0.2) -> XGBoost_trainable_027d3ac0 (score 0.2)\n"
          ],
          "name": "stderr"
        },
        {
          "output_type": "stream",
          "text": [
            "Result for XGBoost_trainable_027d3ac0:\n",
            "  date: 2020-01-13_14-27-30\n",
            "  done: false\n",
            "  experiment_id: cc8379e9a262436f84ca9a1bf757c9b8\n",
            "  experiment_tag: 0_eta=0.044127,gamma=0.010735,grow_policy=lossguide,max_depth=7@perturbed[eta=-2.5364,gamma=-1.3073,grow_policy=lossguide,max_depth=3]\n",
            "  hostname: 9991d65102f3\n",
            "  iterations_since_restore: 1\n",
            "  mean_accuracy: 0.2\n",
            "  node_ip: 172.28.0.2\n",
            "  pid: 387\n",
            "  time_since_restore: 335.34615683555603\n",
            "  time_this_iter_s: 335.34615683555603\n",
            "  time_total_s: 696.7562828063965\n",
            "  timestamp: 1578925650\n",
            "  timesteps_since_restore: 0\n",
            "  training_iteration: 3\n",
            "  trial_id: 027d3ac0\n",
            "  \n",
            "\u001b[2m\u001b[36m(pid=387)\u001b[0m 2020-01-13 14:27:30,825\tINFO trainable.py:346 -- Restored from checkpoint: /root/ray_results/XGBoost_trainable/XGBoost_trainable_027d3ac0_2020-01-13_13-31-3318o5vqkv/tmponzedi_jrestore_from_object/checkpoint_3/model.pth\n"
          ],
          "name": "stdout"
        },
        {
          "output_type": "display_data",
          "data": {
            "text/html": [
              "== Status ==<br>Memory usage on this node: 1.4/12.7 GiB<br>PopulationBasedTraining: 6 checkpoints, 22 perturbs<br>Resources requested: 1/2 CPUs, 0/0 GPUs, 0.0/6.1 GiB heap, 0.0/2.1 GiB objects<br>Result logdir: /root/ray_results/XGBoost_trainable<br>Number of trials: 4 (3 PAUSED, 1 RUNNING)<br><table>\n",
              "<thead>\n",
              "<tr><th>Trial name                </th><th>status  </th><th>loc  </th><th>grow_policy  </th><th style=\"text-align: right;\">       eta</th><th style=\"text-align: right;\">      gamma</th><th style=\"text-align: right;\">  max_depth</th><th style=\"text-align: right;\">  iter</th><th style=\"text-align: right;\">  total time (s)</th><th style=\"text-align: right;\">  acc</th></tr>\n",
              "</thead>\n",
              "<tbody>\n",
              "<tr><td>XGBoost_trainable_027d3ac0</td><td>PAUSED  </td><td>     </td><td>depthwise    </td><td style=\"text-align: right;\">0.00127633</td><td style=\"text-align: right;\">0.0140029  </td><td style=\"text-align: right;\">          3</td><td style=\"text-align: right;\">     3</td><td style=\"text-align: right;\">         696.756</td><td style=\"text-align: right;\">  0.2</td></tr>\n",
              "<tr><td>XGBoost_trainable_02f9e0c0</td><td>PAUSED  </td><td>     </td><td>depthwise    </td><td style=\"text-align: right;\">0.00704788</td><td style=\"text-align: right;\">2.15158e-07</td><td style=\"text-align: right;\">          2</td><td style=\"text-align: right;\">     5</td><td style=\"text-align: right;\">         629.552</td><td style=\"text-align: right;\">  0.2</td></tr>\n",
              "<tr><td>XGBoost_trainable_0373cc96</td><td>RUNNING </td><td>     </td><td>lossguide    </td><td style=\"text-align: right;\">0.00587324</td><td style=\"text-align: right;\">2.68948e-07</td><td style=\"text-align: right;\">          1</td><td style=\"text-align: right;\">     4</td><td style=\"text-align: right;\">         447.458</td><td style=\"text-align: right;\">  0.2</td></tr>\n",
              "<tr><td>XGBoost_trainable_03b51f0c</td><td>PAUSED  </td><td>     </td><td>depthwise    </td><td style=\"text-align: right;\">0.00106361</td><td style=\"text-align: right;\">0.0116691  </td><td style=\"text-align: right;\">          4</td><td style=\"text-align: right;\">     3</td><td style=\"text-align: right;\">         541.226</td><td style=\"text-align: right;\">  0.2</td></tr>\n",
              "</tbody>\n",
              "</table><br><br>"
            ],
            "text/plain": [
              "<IPython.core.display.HTML object>"
            ]
          },
          "metadata": {
            "tags": []
          }
        },
        {
          "output_type": "stream",
          "text": [
            "\u001b[2m\u001b[36m(pid=387)\u001b[0m 2020-01-13 14:27:30,825\tINFO trainable.py:353 -- Current state after restoring: {'_iteration': 3, '_timesteps_total': None, '_time_total': 541.2259225845337, '_episodes_total': None}\n",
            "\u001b[2m\u001b[36m(pid=387)\u001b[0m 2020-01-13 14:27:30,865\tINFO trainable.py:346 -- Restored from checkpoint: /root/ray_results/XGBoost_trainable/XGBoost_trainable_027d3ac0_2020-01-13_13-31-3318o5vqkv/tmpusb4idu5restore_from_object/checkpoint_3/model.pth\n",
            "\u001b[2m\u001b[36m(pid=387)\u001b[0m 2020-01-13 14:27:30,865\tINFO trainable.py:353 -- Current state after restoring: {'_iteration': 3, '_timesteps_total': None, '_time_total': 541.2259225845337, '_episodes_total': None}\n",
            "Result for XGBoost_trainable_0373cc96:\n",
            "  date: 2020-01-13_14-28-37\n",
            "  done: false\n",
            "  experiment_id: 7f6e26f2963b43d4b6f7c8b25c7e722a\n",
            "  experiment_tag: 2_eta=0.0058732,gamma=2.6895e-07,grow_policy=lossguide,max_depth=1\n",
            "  hostname: 9991d65102f3\n",
            "  iterations_since_restore: 1\n",
            "  mean_accuracy: 0.2\n",
            "  node_ip: 172.28.0.2\n",
            "  pid: 519\n",
            "  time_since_restore: 183.08070635795593\n",
            "  time_this_iter_s: 183.08070635795593\n",
            "  time_total_s: 630.538902759552\n",
            "  timestamp: 1578925717\n",
            "  timesteps_since_restore: 0\n",
            "  training_iteration: 5\n",
            "  trial_id: 0373cc96\n",
            "  \n"
          ],
          "name": "stdout"
        },
        {
          "output_type": "display_data",
          "data": {
            "text/html": [
              "== Status ==<br>Memory usage on this node: 1.4/12.7 GiB<br>PopulationBasedTraining: 7 checkpoints, 22 perturbs<br>Resources requested: 1/2 CPUs, 0/0 GPUs, 0.0/6.1 GiB heap, 0.0/2.1 GiB objects<br>Result logdir: /root/ray_results/XGBoost_trainable<br>Number of trials: 4 (1 RUNNING, 3 PAUSED)<br><table>\n",
              "<thead>\n",
              "<tr><th>Trial name                </th><th>status  </th><th>loc  </th><th>grow_policy  </th><th style=\"text-align: right;\">       eta</th><th style=\"text-align: right;\">      gamma</th><th style=\"text-align: right;\">  max_depth</th><th style=\"text-align: right;\">  iter</th><th style=\"text-align: right;\">  total time (s)</th><th style=\"text-align: right;\">  acc</th></tr>\n",
              "</thead>\n",
              "<tbody>\n",
              "<tr><td>XGBoost_trainable_027d3ac0</td><td>RUNNING </td><td>     </td><td>depthwise    </td><td style=\"text-align: right;\">0.00127633</td><td style=\"text-align: right;\">0.0140029  </td><td style=\"text-align: right;\">          3</td><td style=\"text-align: right;\">     3</td><td style=\"text-align: right;\">         696.756</td><td style=\"text-align: right;\">  0.2</td></tr>\n",
              "<tr><td>XGBoost_trainable_02f9e0c0</td><td>PAUSED  </td><td>     </td><td>depthwise    </td><td style=\"text-align: right;\">0.00704788</td><td style=\"text-align: right;\">2.15158e-07</td><td style=\"text-align: right;\">          2</td><td style=\"text-align: right;\">     5</td><td style=\"text-align: right;\">         629.552</td><td style=\"text-align: right;\">  0.2</td></tr>\n",
              "<tr><td>XGBoost_trainable_0373cc96</td><td>PAUSED  </td><td>     </td><td>lossguide    </td><td style=\"text-align: right;\">0.00587324</td><td style=\"text-align: right;\">2.68948e-07</td><td style=\"text-align: right;\">          1</td><td style=\"text-align: right;\">     5</td><td style=\"text-align: right;\">         630.539</td><td style=\"text-align: right;\">  0.2</td></tr>\n",
              "<tr><td>XGBoost_trainable_03b51f0c</td><td>PAUSED  </td><td>     </td><td>depthwise    </td><td style=\"text-align: right;\">0.00106361</td><td style=\"text-align: right;\">0.0116691  </td><td style=\"text-align: right;\">          4</td><td style=\"text-align: right;\">     3</td><td style=\"text-align: right;\">         541.226</td><td style=\"text-align: right;\">  0.2</td></tr>\n",
              "</tbody>\n",
              "</table><br><br>"
            ],
            "text/plain": [
              "<IPython.core.display.HTML object>"
            ]
          },
          "metadata": {
            "tags": []
          }
        },
        {
          "output_type": "stream",
          "text": [
            "\u001b[2m\u001b[36m(pid=519)\u001b[0m 2020-01-13 14:28:37,232\tINFO trainable.py:346 -- Restored from checkpoint: /root/ray_results/XGBoost_trainable/XGBoost_trainable_03b51f0c_2020-01-13_13-34-38nx0meozj/tmpd_eigd98restore_from_object/checkpoint_3/model.pth\n",
            "\u001b[2m\u001b[36m(pid=519)\u001b[0m 2020-01-13 14:28:37,233\tINFO trainable.py:353 -- Current state after restoring: {'_iteration': 3, '_timesteps_total': None, '_time_total': 541.2259225845337, '_episodes_total': None}\n"
          ],
          "name": "stdout"
        },
        {
          "output_type": "stream",
          "text": [
            "2020-01-13 14:31:37,128\tINFO pbt.py:83 -- [explore] perturbed config from {'verbosity': 0, 'objective': 'multi:softprob', 'num_class': 5, 'booster': 'gbtree', 'eval_metric': 'merror', 'max_depth': 1, 'eta': 0.00587323670168573, 'gamma': 2.689480236959982e-07, 'grow_policy': 'lossguide'} -> {'verbosity': 0, 'objective': 'multi:softprob', 'num_class': 5, 'booster': 'gbtree', 'eval_metric': 'merror', 'max_depth': 0, 'eta': -3.553600917496942, 'gamma': 2.1515841895679858e-07, 'grow_policy': 'depthwise'}\n",
            "2020-01-13 14:31:37,131\tINFO pbt.py:315 -- [exploit] transferring weights from trial XGBoost_trainable_0373cc96 (score 0.2) -> XGBoost_trainable_02f9e0c0 (score 0.2)\n"
          ],
          "name": "stderr"
        },
        {
          "output_type": "stream",
          "text": [
            "Result for XGBoost_trainable_02f9e0c0:\n",
            "  date: 2020-01-13_14-31-37\n",
            "  done: false\n",
            "  experiment_id: cc8379e9a262436f84ca9a1bf757c9b8\n",
            "  experiment_tag: 1_eta=0.00056603,gamma=2.9078e-08,grow_policy=lossguide,max_depth=2@perturbed[eta=-3.5536,gamma=2.1516e-07,grow_policy=depthwise,max_depth=0]\n",
            "  hostname: 9991d65102f3\n",
            "  iterations_since_restore: 1\n",
            "  mean_accuracy: 0.2\n",
            "  node_ip: 172.28.0.2\n",
            "  pid: 519\n",
            "  time_since_restore: 179.89003348350525\n",
            "  time_this_iter_s: 179.89003348350525\n",
            "  time_total_s: 721.1159560680389\n",
            "  timestamp: 1578925897\n",
            "  timesteps_since_restore: 0\n",
            "  training_iteration: 4\n",
            "  trial_id: 02f9e0c0\n",
            "  \n"
          ],
          "name": "stdout"
        },
        {
          "output_type": "display_data",
          "data": {
            "text/html": [
              "== Status ==<br>Memory usage on this node: 1.4/12.7 GiB<br>PopulationBasedTraining: 7 checkpoints, 23 perturbs<br>Resources requested: 1/2 CPUs, 0/0 GPUs, 0.0/6.1 GiB heap, 0.0/2.1 GiB objects<br>Result logdir: /root/ray_results/XGBoost_trainable<br>Number of trials: 4 (1 RUNNING, 3 PAUSED)<br><table>\n",
              "<thead>\n",
              "<tr><th>Trial name                </th><th>status  </th><th>loc  </th><th>grow_policy  </th><th style=\"text-align: right;\">       eta</th><th style=\"text-align: right;\">      gamma</th><th style=\"text-align: right;\">  max_depth</th><th style=\"text-align: right;\">  iter</th><th style=\"text-align: right;\">  total time (s)</th><th style=\"text-align: right;\">  acc</th></tr>\n",
              "</thead>\n",
              "<tbody>\n",
              "<tr><td>XGBoost_trainable_027d3ac0</td><td>RUNNING </td><td>     </td><td>depthwise    </td><td style=\"text-align: right;\">0.00127633</td><td style=\"text-align: right;\">0.0140029  </td><td style=\"text-align: right;\">          3</td><td style=\"text-align: right;\">     3</td><td style=\"text-align: right;\">         696.756</td><td style=\"text-align: right;\">  0.2</td></tr>\n",
              "<tr><td>XGBoost_trainable_02f9e0c0</td><td>PAUSED  </td><td>     </td><td>depthwise    </td><td style=\"text-align: right;\">0.00127633</td><td style=\"text-align: right;\">0.0140029  </td><td style=\"text-align: right;\">          3</td><td style=\"text-align: right;\">     4</td><td style=\"text-align: right;\">         721.116</td><td style=\"text-align: right;\">  0.2</td></tr>\n",
              "<tr><td>XGBoost_trainable_0373cc96</td><td>PAUSED  </td><td>     </td><td>lossguide    </td><td style=\"text-align: right;\">0.00587324</td><td style=\"text-align: right;\">2.68948e-07</td><td style=\"text-align: right;\">          1</td><td style=\"text-align: right;\">     5</td><td style=\"text-align: right;\">         630.539</td><td style=\"text-align: right;\">  0.2</td></tr>\n",
              "<tr><td>XGBoost_trainable_03b51f0c</td><td>PAUSED  </td><td>     </td><td>depthwise    </td><td style=\"text-align: right;\">0.00106361</td><td style=\"text-align: right;\">0.0116691  </td><td style=\"text-align: right;\">          4</td><td style=\"text-align: right;\">     3</td><td style=\"text-align: right;\">         541.226</td><td style=\"text-align: right;\">  0.2</td></tr>\n",
              "</tbody>\n",
              "</table><br><br>"
            ],
            "text/plain": [
              "<IPython.core.display.HTML object>"
            ]
          },
          "metadata": {
            "tags": []
          }
        },
        {
          "output_type": "stream",
          "text": [
            "\u001b[2m\u001b[36m(pid=519)\u001b[0m 2020-01-13 14:31:37,155\tINFO trainable.py:346 -- Restored from checkpoint: /root/ray_results/XGBoost_trainable/XGBoost_trainable_03b51f0c_2020-01-13_13-34-38nx0meozj/tmpcuizy4zorestore_from_object/checkpoint_5/model.pth\n",
            "\u001b[2m\u001b[36m(pid=519)\u001b[0m 2020-01-13 14:31:37,155\tINFO trainable.py:353 -- Current state after restoring: {'_iteration': 5, '_timesteps_total': None, '_time_total': 630.538902759552, '_episodes_total': None}\n",
            "\u001b[2m\u001b[36m(pid=519)\u001b[0m 2020-01-13 14:31:37,187\tINFO trainable.py:346 -- Restored from checkpoint: /root/ray_results/XGBoost_trainable/XGBoost_trainable_03b51f0c_2020-01-13_13-34-38nx0meozj/tmp_7p1w7vprestore_from_object/checkpoint_3/model.pth\n",
            "\u001b[2m\u001b[36m(pid=519)\u001b[0m 2020-01-13 14:31:37,187\tINFO trainable.py:353 -- Current state after restoring: {'_iteration': 3, '_timesteps_total': None, '_time_total': 541.2259225845337, '_episodes_total': None}\n"
          ],
          "name": "stdout"
        },
        {
          "output_type": "stream",
          "text": [
            "2020-01-13 14:33:07,013\tINFO pbt.py:83 -- [explore] perturbed config from {'verbosity': 0, 'objective': 'multi:softprob', 'num_class': 5, 'booster': 'gbtree', 'eval_metric': 'merror', 'max_depth': 1, 'eta': 0.00587323670168573, 'gamma': 2.689480236959982e-07, 'grow_policy': 'lossguide'} -> {'verbosity': 0, 'objective': 'multi:softprob', 'num_class': 5, 'booster': 'gbtree', 'eval_metric': 'merror', 'max_depth': 1, 'eta': 0.004698589361348584, 'gamma': 2.1515841895679858e-07, 'grow_policy': 'depthwise'}\n",
            "2020-01-13 14:33:07,015\tINFO pbt.py:315 -- [exploit] transferring weights from trial XGBoost_trainable_0373cc96 (score 0.2) -> XGBoost_trainable_027d3ac0 (score 0.2)\n"
          ],
          "name": "stderr"
        },
        {
          "output_type": "stream",
          "text": [
            "Result for XGBoost_trainable_027d3ac0:\n",
            "  date: 2020-01-13_14-33-07\n",
            "  done: false\n",
            "  experiment_id: cc8379e9a262436f84ca9a1bf757c9b8\n",
            "  experiment_tag: 0_eta=0.044127,gamma=0.010735,grow_policy=lossguide,max_depth=7@perturbed[eta=0.0046986,gamma=2.1516e-07,grow_policy=depthwise,max_depth=1]\n",
            "  hostname: 9991d65102f3\n",
            "  iterations_since_restore: 1\n",
            "  mean_accuracy: 0.2\n",
            "  node_ip: 172.28.0.2\n",
            "  pid: 387\n",
            "  time_since_restore: 336.1428360939026\n",
            "  time_this_iter_s: 336.1428360939026\n",
            "  time_total_s: 877.3687586784363\n",
            "  timestamp: 1578925987\n",
            "  timesteps_since_restore: 0\n",
            "  training_iteration: 4\n",
            "  trial_id: 027d3ac0\n",
            "  \n"
          ],
          "name": "stdout"
        },
        {
          "output_type": "display_data",
          "data": {
            "text/html": [
              "== Status ==<br>Memory usage on this node: 1.4/12.7 GiB<br>PopulationBasedTraining: 7 checkpoints, 24 perturbs<br>Resources requested: 1/2 CPUs, 0/0 GPUs, 0.0/6.1 GiB heap, 0.0/2.1 GiB objects<br>Result logdir: /root/ray_results/XGBoost_trainable<br>Number of trials: 4 (3 PAUSED, 1 RUNNING)<br><table>\n",
              "<thead>\n",
              "<tr><th>Trial name                </th><th>status  </th><th>loc  </th><th>grow_policy  </th><th style=\"text-align: right;\">        eta</th><th style=\"text-align: right;\">       gamma</th><th style=\"text-align: right;\">  max_depth</th><th style=\"text-align: right;\">  iter</th><th style=\"text-align: right;\">  total time (s)</th><th style=\"text-align: right;\">  acc</th></tr>\n",
              "</thead>\n",
              "<tbody>\n",
              "<tr><td>XGBoost_trainable_027d3ac0</td><td>PAUSED  </td><td>     </td><td>lossguide    </td><td style=\"text-align: right;\">-2.53642   </td><td style=\"text-align: right;\">-1.30728    </td><td style=\"text-align: right;\">          3</td><td style=\"text-align: right;\">     4</td><td style=\"text-align: right;\">         877.369</td><td style=\"text-align: right;\">  0.2</td></tr>\n",
              "<tr><td>XGBoost_trainable_02f9e0c0</td><td>PAUSED  </td><td>     </td><td>depthwise    </td><td style=\"text-align: right;\"> 0.00127633</td><td style=\"text-align: right;\"> 0.0140029  </td><td style=\"text-align: right;\">          3</td><td style=\"text-align: right;\">     4</td><td style=\"text-align: right;\">         721.116</td><td style=\"text-align: right;\">  0.2</td></tr>\n",
              "<tr><td>XGBoost_trainable_0373cc96</td><td>PAUSED  </td><td>     </td><td>lossguide    </td><td style=\"text-align: right;\"> 0.00587324</td><td style=\"text-align: right;\"> 2.68948e-07</td><td style=\"text-align: right;\">          1</td><td style=\"text-align: right;\">     5</td><td style=\"text-align: right;\">         630.539</td><td style=\"text-align: right;\">  0.2</td></tr>\n",
              "<tr><td>XGBoost_trainable_03b51f0c</td><td>RUNNING </td><td>     </td><td>depthwise    </td><td style=\"text-align: right;\"> 0.00106361</td><td style=\"text-align: right;\"> 0.0116691  </td><td style=\"text-align: right;\">          4</td><td style=\"text-align: right;\">     3</td><td style=\"text-align: right;\">         541.226</td><td style=\"text-align: right;\">  0.2</td></tr>\n",
              "</tbody>\n",
              "</table><br><br>"
            ],
            "text/plain": [
              "<IPython.core.display.HTML object>"
            ]
          },
          "metadata": {
            "tags": []
          }
        },
        {
          "output_type": "stream",
          "text": [
            "\u001b[2m\u001b[36m(pid=387)\u001b[0m 2020-01-13 14:33:07,031\tINFO trainable.py:346 -- Restored from checkpoint: /root/ray_results/XGBoost_trainable/XGBoost_trainable_027d3ac0_2020-01-13_13-31-3318o5vqkv/tmpm_omgdkorestore_from_object/checkpoint_5/model.pth\n",
            "\u001b[2m\u001b[36m(pid=387)\u001b[0m 2020-01-13 14:33:07,031\tINFO trainable.py:353 -- Current state after restoring: {'_iteration': 5, '_timesteps_total': None, '_time_total': 630.538902759552, '_episodes_total': None}\n",
            "\u001b[2m\u001b[36m(pid=387)\u001b[0m 2020-01-13 14:33:07,064\tINFO trainable.py:346 -- Restored from checkpoint: /root/ray_results/XGBoost_trainable/XGBoost_trainable_027d3ac0_2020-01-13_13-31-3318o5vqkv/tmp_h4t0m8brestore_from_object/checkpoint_5/model.pth\n",
            "\u001b[2m\u001b[36m(pid=387)\u001b[0m 2020-01-13 14:33:07,064\tINFO trainable.py:353 -- Current state after restoring: {'_iteration': 5, '_timesteps_total': None, '_time_total': 630.538902759552, '_episodes_total': None}\n",
            "Result for XGBoost_trainable_03b51f0c:\n",
            "  date: 2020-01-13_14-34-38\n",
            "  done: false\n",
            "  experiment_id: cc8379e9a262436f84ca9a1bf757c9b8\n",
            "  experiment_tag: 3_eta=0.0010636,gamma=0.011669,grow_policy=depthwise,max_depth=4\n",
            "  hostname: 9991d65102f3\n",
            "  iterations_since_restore: 1\n",
            "  mean_accuracy: 0.2\n",
            "  node_ip: 172.28.0.2\n",
            "  pid: 519\n",
            "  time_since_restore: 181.0034999847412\n",
            "  time_this_iter_s: 181.0034999847412\n",
            "  time_total_s: 722.2294225692749\n",
            "  timestamp: 1578926078\n",
            "  timesteps_since_restore: 0\n",
            "  training_iteration: 4\n",
            "  trial_id: 03b51f0c\n",
            "  \n"
          ],
          "name": "stdout"
        },
        {
          "output_type": "display_data",
          "data": {
            "text/html": [
              "== Status ==<br>Memory usage on this node: 1.4/12.7 GiB<br>PopulationBasedTraining: 8 checkpoints, 24 perturbs<br>Resources requested: 1/2 CPUs, 0/0 GPUs, 0.0/6.1 GiB heap, 0.0/2.1 GiB objects<br>Result logdir: /root/ray_results/XGBoost_trainable<br>Number of trials: 4 (1 RUNNING, 3 PAUSED)<br><table>\n",
              "<thead>\n",
              "<tr><th>Trial name                </th><th>status  </th><th>loc  </th><th>grow_policy  </th><th style=\"text-align: right;\">        eta</th><th style=\"text-align: right;\">       gamma</th><th style=\"text-align: right;\">  max_depth</th><th style=\"text-align: right;\">  iter</th><th style=\"text-align: right;\">  total time (s)</th><th style=\"text-align: right;\">  acc</th></tr>\n",
              "</thead>\n",
              "<tbody>\n",
              "<tr><td>XGBoost_trainable_027d3ac0</td><td>RUNNING </td><td>     </td><td>lossguide    </td><td style=\"text-align: right;\">-2.53642   </td><td style=\"text-align: right;\">-1.30728    </td><td style=\"text-align: right;\">          3</td><td style=\"text-align: right;\">     4</td><td style=\"text-align: right;\">         877.369</td><td style=\"text-align: right;\">  0.2</td></tr>\n",
              "<tr><td>XGBoost_trainable_02f9e0c0</td><td>PAUSED  </td><td>     </td><td>depthwise    </td><td style=\"text-align: right;\"> 0.00127633</td><td style=\"text-align: right;\"> 0.0140029  </td><td style=\"text-align: right;\">          3</td><td style=\"text-align: right;\">     4</td><td style=\"text-align: right;\">         721.116</td><td style=\"text-align: right;\">  0.2</td></tr>\n",
              "<tr><td>XGBoost_trainable_0373cc96</td><td>PAUSED  </td><td>     </td><td>lossguide    </td><td style=\"text-align: right;\"> 0.00587324</td><td style=\"text-align: right;\"> 2.68948e-07</td><td style=\"text-align: right;\">          1</td><td style=\"text-align: right;\">     5</td><td style=\"text-align: right;\">         630.539</td><td style=\"text-align: right;\">  0.2</td></tr>\n",
              "<tr><td>XGBoost_trainable_03b51f0c</td><td>PAUSED  </td><td>     </td><td>depthwise    </td><td style=\"text-align: right;\"> 0.00106361</td><td style=\"text-align: right;\"> 0.0116691  </td><td style=\"text-align: right;\">          4</td><td style=\"text-align: right;\">     4</td><td style=\"text-align: right;\">         722.229</td><td style=\"text-align: right;\">  0.2</td></tr>\n",
              "</tbody>\n",
              "</table><br><br>"
            ],
            "text/plain": [
              "<IPython.core.display.HTML object>"
            ]
          },
          "metadata": {
            "tags": []
          }
        },
        {
          "output_type": "stream",
          "text": [
            "\u001b[2m\u001b[36m(pid=519)\u001b[0m 2020-01-13 14:34:38,238\tINFO trainable.py:346 -- Restored from checkpoint: /root/ray_results/XGBoost_trainable/XGBoost_trainable_03b51f0c_2020-01-13_13-34-38nx0meozj/tmp1z98zgc9restore_from_object/checkpoint_5/model.pth\n",
            "\u001b[2m\u001b[36m(pid=519)\u001b[0m 2020-01-13 14:34:38,238\tINFO trainable.py:353 -- Current state after restoring: {'_iteration': 5, '_timesteps_total': None, '_time_total': 630.538902759552, '_episodes_total': None}\n"
          ],
          "name": "stdout"
        },
        {
          "output_type": "stream",
          "text": [
            "2020-01-13 14:37:38,155\tINFO pbt.py:83 -- [explore] perturbed config from {'verbosity': 0, 'objective': 'multi:softprob', 'num_class': 5, 'booster': 'gbtree', 'eval_metric': 'merror', 'max_depth': 4, 'eta': 0.0010636121226518637, 'gamma': 0.011669058550942432, 'grow_policy': 'depthwise'} -> {'verbosity': 0, 'objective': 'multi:softprob', 'num_class': 5, 'booster': 'gbtree', 'eval_metric': 'merror', 'max_depth': 3, 'eta': 0.0012763345471822364, 'gamma': 0.014002870261130918, 'grow_policy': 'lossguide'}\n",
            "2020-01-13 14:37:38,156\tINFO pbt.py:315 -- [exploit] transferring weights from trial XGBoost_trainable_03b51f0c (score 0.2) -> XGBoost_trainable_02f9e0c0 (score 0.2)\n"
          ],
          "name": "stderr"
        },
        {
          "output_type": "stream",
          "text": [
            "Result for XGBoost_trainable_02f9e0c0:\n",
            "  date: 2020-01-13_14-37-38\n",
            "  done: false\n",
            "  experiment_id: 7f6e26f2963b43d4b6f7c8b25c7e722a\n",
            "  experiment_tag: 1_eta=0.00056603,gamma=2.9078e-08,grow_policy=lossguide,max_depth=2@perturbed[eta=0.0012763,gamma=0.014003,grow_policy=lossguide,max_depth=3]\n",
            "  hostname: 9991d65102f3\n",
            "  iterations_since_restore: 1\n",
            "  mean_accuracy: 0.2\n",
            "  node_ip: 172.28.0.2\n",
            "  pid: 519\n",
            "  time_since_restore: 179.90882396697998\n",
            "  time_this_iter_s: 179.90882396697998\n",
            "  time_total_s: 810.447726726532\n",
            "  timestamp: 1578926258\n",
            "  timesteps_since_restore: 0\n",
            "  training_iteration: 6\n",
            "  trial_id: 02f9e0c0\n",
            "  \n"
          ],
          "name": "stdout"
        },
        {
          "output_type": "display_data",
          "data": {
            "text/html": [
              "== Status ==<br>Memory usage on this node: 1.4/12.7 GiB<br>PopulationBasedTraining: 8 checkpoints, 25 perturbs<br>Resources requested: 1/2 CPUs, 0/0 GPUs, 0.0/6.1 GiB heap, 0.0/2.1 GiB objects<br>Result logdir: /root/ray_results/XGBoost_trainable<br>Number of trials: 4 (1 RUNNING, 3 PAUSED)<br><table>\n",
              "<thead>\n",
              "<tr><th>Trial name                </th><th>status  </th><th>loc  </th><th>grow_policy  </th><th style=\"text-align: right;\">        eta</th><th style=\"text-align: right;\">       gamma</th><th style=\"text-align: right;\">  max_depth</th><th style=\"text-align: right;\">  iter</th><th style=\"text-align: right;\">  total time (s)</th><th style=\"text-align: right;\">  acc</th></tr>\n",
              "</thead>\n",
              "<tbody>\n",
              "<tr><td>XGBoost_trainable_027d3ac0</td><td>RUNNING </td><td>     </td><td>lossguide    </td><td style=\"text-align: right;\">-2.53642   </td><td style=\"text-align: right;\">-1.30728    </td><td style=\"text-align: right;\">          3</td><td style=\"text-align: right;\">     4</td><td style=\"text-align: right;\">         877.369</td><td style=\"text-align: right;\">  0.2</td></tr>\n",
              "<tr><td>XGBoost_trainable_02f9e0c0</td><td>PAUSED  </td><td>     </td><td>depthwise    </td><td style=\"text-align: right;\">-3.5536    </td><td style=\"text-align: right;\"> 2.15158e-07</td><td style=\"text-align: right;\">          0</td><td style=\"text-align: right;\">     6</td><td style=\"text-align: right;\">         810.448</td><td style=\"text-align: right;\">  0.2</td></tr>\n",
              "<tr><td>XGBoost_trainable_0373cc96</td><td>PAUSED  </td><td>     </td><td>lossguide    </td><td style=\"text-align: right;\"> 0.00587324</td><td style=\"text-align: right;\"> 2.68948e-07</td><td style=\"text-align: right;\">          1</td><td style=\"text-align: right;\">     5</td><td style=\"text-align: right;\">         630.539</td><td style=\"text-align: right;\">  0.2</td></tr>\n",
              "<tr><td>XGBoost_trainable_03b51f0c</td><td>PAUSED  </td><td>     </td><td>depthwise    </td><td style=\"text-align: right;\"> 0.00106361</td><td style=\"text-align: right;\"> 0.0116691  </td><td style=\"text-align: right;\">          4</td><td style=\"text-align: right;\">     4</td><td style=\"text-align: right;\">         722.229</td><td style=\"text-align: right;\">  0.2</td></tr>\n",
              "</tbody>\n",
              "</table><br><br>"
            ],
            "text/plain": [
              "<IPython.core.display.HTML object>"
            ]
          },
          "metadata": {
            "tags": []
          }
        },
        {
          "output_type": "stream",
          "text": [
            "\u001b[2m\u001b[36m(pid=519)\u001b[0m 2020-01-13 14:37:38,176\tINFO trainable.py:346 -- Restored from checkpoint: /root/ray_results/XGBoost_trainable/XGBoost_trainable_03b51f0c_2020-01-13_13-34-38nx0meozj/tmpn8nbzz07restore_from_object/checkpoint_4/model.pth\n",
            "\u001b[2m\u001b[36m(pid=519)\u001b[0m 2020-01-13 14:37:38,176\tINFO trainable.py:353 -- Current state after restoring: {'_iteration': 4, '_timesteps_total': None, '_time_total': 722.2294225692749, '_episodes_total': None}\n",
            "\u001b[2m\u001b[36m(pid=519)\u001b[0m 2020-01-13 14:37:38,206\tINFO trainable.py:346 -- Restored from checkpoint: /root/ray_results/XGBoost_trainable/XGBoost_trainable_03b51f0c_2020-01-13_13-34-38nx0meozj/tmphs99vh2drestore_from_object/checkpoint_5/model.pth\n",
            "\u001b[2m\u001b[36m(pid=519)\u001b[0m 2020-01-13 14:37:38,206\tINFO trainable.py:353 -- Current state after restoring: {'_iteration': 5, '_timesteps_total': None, '_time_total': 630.538902759552, '_episodes_total': None}\n"
          ],
          "name": "stdout"
        },
        {
          "output_type": "stream",
          "text": [
            "2020-01-13 14:38:46,576\tINFO pbt.py:83 -- [explore] perturbed config from {'verbosity': 0, 'objective': 'multi:softprob', 'num_class': 5, 'booster': 'gbtree', 'eval_metric': 'merror', 'max_depth': 4, 'eta': 0.0010636121226518637, 'gamma': 0.011669058550942432, 'grow_policy': 'depthwise'} -> {'verbosity': 0, 'objective': 'multi:softprob', 'num_class': 5, 'booster': 'gbtree', 'eval_metric': 'merror', 'max_depth': 4, 'eta': 0.0012763345471822364, 'gamma': 0.014002870261130918, 'grow_policy': 'depthwise'}\n",
            "2020-01-13 14:38:46,577\tINFO pbt.py:315 -- [exploit] transferring weights from trial XGBoost_trainable_03b51f0c (score 0.2) -> XGBoost_trainable_027d3ac0 (score 0.2)\n"
          ],
          "name": "stderr"
        },
        {
          "output_type": "stream",
          "text": [
            "Result for XGBoost_trainable_027d3ac0:\n",
            "  date: 2020-01-13_14-38-46\n",
            "  done: false\n",
            "  experiment_id: 7f6e26f2963b43d4b6f7c8b25c7e722a\n",
            "  experiment_tag: 0_eta=0.044127,gamma=0.010735,grow_policy=lossguide,max_depth=7@perturbed[eta=0.0012763,gamma=0.014003,grow_policy=depthwise,max_depth=4]\n",
            "  hostname: 9991d65102f3\n",
            "  iterations_since_restore: 1\n",
            "  mean_accuracy: 0.2\n",
            "  node_ip: 172.28.0.2\n",
            "  pid: 387\n",
            "  time_since_restore: 339.50827193260193\n",
            "  time_this_iter_s: 339.50827193260193\n",
            "  time_total_s: 970.0471746921539\n",
            "  timestamp: 1578926326\n",
            "  timesteps_since_restore: 0\n",
            "  training_iteration: 6\n",
            "  trial_id: 027d3ac0\n",
            "  \n"
          ],
          "name": "stdout"
        },
        {
          "output_type": "display_data",
          "data": {
            "text/html": [
              "== Status ==<br>Memory usage on this node: 1.4/12.7 GiB<br>PopulationBasedTraining: 8 checkpoints, 26 perturbs<br>Resources requested: 1/2 CPUs, 0/0 GPUs, 0.0/6.1 GiB heap, 0.0/2.1 GiB objects<br>Result logdir: /root/ray_results/XGBoost_trainable<br>Number of trials: 4 (3 PAUSED, 1 RUNNING)<br><table>\n",
              "<thead>\n",
              "<tr><th>Trial name                </th><th>status  </th><th>loc  </th><th>grow_policy  </th><th style=\"text-align: right;\">        eta</th><th style=\"text-align: right;\">      gamma</th><th style=\"text-align: right;\">  max_depth</th><th style=\"text-align: right;\">  iter</th><th style=\"text-align: right;\">  total time (s)</th><th style=\"text-align: right;\">  acc</th></tr>\n",
              "</thead>\n",
              "<tbody>\n",
              "<tr><td>XGBoost_trainable_027d3ac0</td><td>PAUSED  </td><td>     </td><td>depthwise    </td><td style=\"text-align: right;\"> 0.00469859</td><td style=\"text-align: right;\">2.15158e-07</td><td style=\"text-align: right;\">          1</td><td style=\"text-align: right;\">     6</td><td style=\"text-align: right;\">         970.047</td><td style=\"text-align: right;\">  0.2</td></tr>\n",
              "<tr><td>XGBoost_trainable_02f9e0c0</td><td>PAUSED  </td><td>     </td><td>depthwise    </td><td style=\"text-align: right;\">-3.5536    </td><td style=\"text-align: right;\">2.15158e-07</td><td style=\"text-align: right;\">          0</td><td style=\"text-align: right;\">     6</td><td style=\"text-align: right;\">         810.448</td><td style=\"text-align: right;\">  0.2</td></tr>\n",
              "<tr><td>XGBoost_trainable_0373cc96</td><td>RUNNING </td><td>     </td><td>lossguide    </td><td style=\"text-align: right;\"> 0.00587324</td><td style=\"text-align: right;\">2.68948e-07</td><td style=\"text-align: right;\">          1</td><td style=\"text-align: right;\">     5</td><td style=\"text-align: right;\">         630.539</td><td style=\"text-align: right;\">  0.2</td></tr>\n",
              "<tr><td>XGBoost_trainable_03b51f0c</td><td>PAUSED  </td><td>     </td><td>depthwise    </td><td style=\"text-align: right;\"> 0.00106361</td><td style=\"text-align: right;\">0.0116691  </td><td style=\"text-align: right;\">          4</td><td style=\"text-align: right;\">     4</td><td style=\"text-align: right;\">         722.229</td><td style=\"text-align: right;\">  0.2</td></tr>\n",
              "</tbody>\n",
              "</table><br><br>"
            ],
            "text/plain": [
              "<IPython.core.display.HTML object>"
            ]
          },
          "metadata": {
            "tags": []
          }
        },
        {
          "output_type": "stream",
          "text": [
            "\u001b[2m\u001b[36m(pid=387)\u001b[0m 2020-01-13 14:38:46,593\tINFO trainable.py:346 -- Restored from checkpoint: /root/ray_results/XGBoost_trainable/XGBoost_trainable_027d3ac0_2020-01-13_13-31-3318o5vqkv/tmpqf42d0errestore_from_object/checkpoint_4/model.pth\n",
            "\u001b[2m\u001b[36m(pid=387)\u001b[0m 2020-01-13 14:38:46,593\tINFO trainable.py:353 -- Current state after restoring: {'_iteration': 4, '_timesteps_total': None, '_time_total': 722.2294225692749, '_episodes_total': None}\n",
            "\u001b[2m\u001b[36m(pid=387)\u001b[0m 2020-01-13 14:38:46,620\tINFO trainable.py:346 -- Restored from checkpoint: /root/ray_results/XGBoost_trainable/XGBoost_trainable_027d3ac0_2020-01-13_13-31-3318o5vqkv/tmph4jzo4udrestore_from_object/checkpoint_4/model.pth\n",
            "\u001b[2m\u001b[36m(pid=387)\u001b[0m 2020-01-13 14:38:46,620\tINFO trainable.py:353 -- Current state after restoring: {'_iteration': 4, '_timesteps_total': None, '_time_total': 722.2294225692749, '_episodes_total': None}\n",
            "Result for XGBoost_trainable_0373cc96:\n",
            "  date: 2020-01-13_14-40-36\n",
            "  done: false\n",
            "  experiment_id: 7f6e26f2963b43d4b6f7c8b25c7e722a\n",
            "  experiment_tag: 2_eta=0.0058732,gamma=2.6895e-07,grow_policy=lossguide,max_depth=1\n",
            "  hostname: 9991d65102f3\n",
            "  iterations_since_restore: 1\n",
            "  mean_accuracy: 0.2\n",
            "  node_ip: 172.28.0.2\n",
            "  pid: 519\n",
            "  time_since_restore: 177.92392992973328\n",
            "  time_this_iter_s: 177.92392992973328\n",
            "  time_total_s: 808.4628326892853\n",
            "  timestamp: 1578926436\n",
            "  timesteps_since_restore: 0\n",
            "  training_iteration: 6\n",
            "  trial_id: 0373cc96\n",
            "  \n"
          ],
          "name": "stdout"
        },
        {
          "output_type": "display_data",
          "data": {
            "text/html": [
              "== Status ==<br>Memory usage on this node: 1.4/12.7 GiB<br>PopulationBasedTraining: 9 checkpoints, 26 perturbs<br>Resources requested: 1/2 CPUs, 0/0 GPUs, 0.0/6.1 GiB heap, 0.0/2.1 GiB objects<br>Result logdir: /root/ray_results/XGBoost_trainable<br>Number of trials: 4 (1 RUNNING, 3 PAUSED)<br><table>\n",
              "<thead>\n",
              "<tr><th>Trial name                </th><th>status  </th><th>loc  </th><th>grow_policy  </th><th style=\"text-align: right;\">        eta</th><th style=\"text-align: right;\">      gamma</th><th style=\"text-align: right;\">  max_depth</th><th style=\"text-align: right;\">  iter</th><th style=\"text-align: right;\">  total time (s)</th><th style=\"text-align: right;\">  acc</th></tr>\n",
              "</thead>\n",
              "<tbody>\n",
              "<tr><td>XGBoost_trainable_027d3ac0</td><td>RUNNING </td><td>     </td><td>depthwise    </td><td style=\"text-align: right;\"> 0.00469859</td><td style=\"text-align: right;\">2.15158e-07</td><td style=\"text-align: right;\">          1</td><td style=\"text-align: right;\">     6</td><td style=\"text-align: right;\">         970.047</td><td style=\"text-align: right;\">  0.2</td></tr>\n",
              "<tr><td>XGBoost_trainable_02f9e0c0</td><td>PAUSED  </td><td>     </td><td>depthwise    </td><td style=\"text-align: right;\">-3.5536    </td><td style=\"text-align: right;\">2.15158e-07</td><td style=\"text-align: right;\">          0</td><td style=\"text-align: right;\">     6</td><td style=\"text-align: right;\">         810.448</td><td style=\"text-align: right;\">  0.2</td></tr>\n",
              "<tr><td>XGBoost_trainable_0373cc96</td><td>PAUSED  </td><td>     </td><td>lossguide    </td><td style=\"text-align: right;\"> 0.00587324</td><td style=\"text-align: right;\">2.68948e-07</td><td style=\"text-align: right;\">          1</td><td style=\"text-align: right;\">     6</td><td style=\"text-align: right;\">         808.463</td><td style=\"text-align: right;\">  0.2</td></tr>\n",
              "<tr><td>XGBoost_trainable_03b51f0c</td><td>PAUSED  </td><td>     </td><td>depthwise    </td><td style=\"text-align: right;\"> 0.00106361</td><td style=\"text-align: right;\">0.0116691  </td><td style=\"text-align: right;\">          4</td><td style=\"text-align: right;\">     4</td><td style=\"text-align: right;\">         722.229</td><td style=\"text-align: right;\">  0.2</td></tr>\n",
              "</tbody>\n",
              "</table><br><br>"
            ],
            "text/plain": [
              "<IPython.core.display.HTML object>"
            ]
          },
          "metadata": {
            "tags": []
          }
        },
        {
          "output_type": "stream",
          "text": [
            "\u001b[2m\u001b[36m(pid=519)\u001b[0m 2020-01-13 14:40:36,171\tINFO trainable.py:346 -- Restored from checkpoint: /root/ray_results/XGBoost_trainable/XGBoost_trainable_03b51f0c_2020-01-13_13-34-38nx0meozj/tmpkpi45wjdrestore_from_object/checkpoint_4/model.pth\n",
            "\u001b[2m\u001b[36m(pid=519)\u001b[0m 2020-01-13 14:40:36,171\tINFO trainable.py:353 -- Current state after restoring: {'_iteration': 4, '_timesteps_total': None, '_time_total': 722.2294225692749, '_episodes_total': None}\n"
          ],
          "name": "stdout"
        },
        {
          "output_type": "stream",
          "text": [
            "2020-01-13 14:43:34,279\tINFO pbt.py:83 -- [explore] perturbed config from {'verbosity': 0, 'objective': 'multi:softprob', 'num_class': 5, 'booster': 'gbtree', 'eval_metric': 'merror', 'max_depth': 1, 'eta': 0.00587323670168573, 'gamma': 2.689480236959982e-07, 'grow_policy': 'lossguide'} -> {'verbosity': 0, 'objective': 'multi:softprob', 'num_class': 5, 'booster': 'gbtree', 'eval_metric': 'merror', 'max_depth': 7, 'eta': 0.004698589361348584, 'gamma': 3.227376284351978e-07, 'grow_policy': 'lossguide'}\n",
            "2020-01-13 14:43:34,285\tINFO pbt.py:315 -- [exploit] transferring weights from trial XGBoost_trainable_0373cc96 (score 0.2) -> XGBoost_trainable_02f9e0c0 (score 0.2)\n"
          ],
          "name": "stderr"
        },
        {
          "output_type": "stream",
          "text": [
            "Result for XGBoost_trainable_02f9e0c0:\n",
            "  date: 2020-01-13_14-43-34\n",
            "  done: false\n",
            "  experiment_id: cc8379e9a262436f84ca9a1bf757c9b8\n",
            "  experiment_tag: 1_eta=0.00056603,gamma=2.9078e-08,grow_policy=lossguide,max_depth=2@perturbed[eta=0.0046986,gamma=3.2274e-07,grow_policy=lossguide,max_depth=7]\n",
            "  hostname: 9991d65102f3\n",
            "  iterations_since_restore: 1\n",
            "  mean_accuracy: 0.2\n",
            "  node_ip: 172.28.0.2\n",
            "  pid: 519\n",
            "  time_since_restore: 178.10429096221924\n",
            "  time_this_iter_s: 178.10429096221924\n",
            "  time_total_s: 900.3337135314941\n",
            "  timestamp: 1578926614\n",
            "  timesteps_since_restore: 0\n",
            "  training_iteration: 5\n",
            "  trial_id: 02f9e0c0\n",
            "  \n"
          ],
          "name": "stdout"
        },
        {
          "output_type": "display_data",
          "data": {
            "text/html": [
              "== Status ==<br>Memory usage on this node: 1.4/12.7 GiB<br>PopulationBasedTraining: 9 checkpoints, 27 perturbs<br>Resources requested: 1/2 CPUs, 0/0 GPUs, 0.0/6.1 GiB heap, 0.0/2.1 GiB objects<br>Result logdir: /root/ray_results/XGBoost_trainable<br>Number of trials: 4 (1 RUNNING, 3 PAUSED)<br><table>\n",
              "<thead>\n",
              "<tr><th>Trial name                </th><th>status  </th><th>loc  </th><th>grow_policy  </th><th style=\"text-align: right;\">       eta</th><th style=\"text-align: right;\">      gamma</th><th style=\"text-align: right;\">  max_depth</th><th style=\"text-align: right;\">  iter</th><th style=\"text-align: right;\">  total time (s)</th><th style=\"text-align: right;\">  acc</th></tr>\n",
              "</thead>\n",
              "<tbody>\n",
              "<tr><td>XGBoost_trainable_027d3ac0</td><td>RUNNING </td><td>     </td><td>depthwise    </td><td style=\"text-align: right;\">0.00469859</td><td style=\"text-align: right;\">2.15158e-07</td><td style=\"text-align: right;\">          1</td><td style=\"text-align: right;\">     6</td><td style=\"text-align: right;\">         970.047</td><td style=\"text-align: right;\">  0.2</td></tr>\n",
              "<tr><td>XGBoost_trainable_02f9e0c0</td><td>PAUSED  </td><td>     </td><td>lossguide    </td><td style=\"text-align: right;\">0.00127633</td><td style=\"text-align: right;\">0.0140029  </td><td style=\"text-align: right;\">          3</td><td style=\"text-align: right;\">     5</td><td style=\"text-align: right;\">         900.334</td><td style=\"text-align: right;\">  0.2</td></tr>\n",
              "<tr><td>XGBoost_trainable_0373cc96</td><td>PAUSED  </td><td>     </td><td>lossguide    </td><td style=\"text-align: right;\">0.00587324</td><td style=\"text-align: right;\">2.68948e-07</td><td style=\"text-align: right;\">          1</td><td style=\"text-align: right;\">     6</td><td style=\"text-align: right;\">         808.463</td><td style=\"text-align: right;\">  0.2</td></tr>\n",
              "<tr><td>XGBoost_trainable_03b51f0c</td><td>PAUSED  </td><td>     </td><td>depthwise    </td><td style=\"text-align: right;\">0.00106361</td><td style=\"text-align: right;\">0.0116691  </td><td style=\"text-align: right;\">          4</td><td style=\"text-align: right;\">     4</td><td style=\"text-align: right;\">         722.229</td><td style=\"text-align: right;\">  0.2</td></tr>\n",
              "</tbody>\n",
              "</table><br><br>"
            ],
            "text/plain": [
              "<IPython.core.display.HTML object>"
            ]
          },
          "metadata": {
            "tags": []
          }
        },
        {
          "output_type": "stream",
          "text": [
            "\u001b[2m\u001b[36m(pid=519)\u001b[0m 2020-01-13 14:43:34,309\tINFO trainable.py:346 -- Restored from checkpoint: /root/ray_results/XGBoost_trainable/XGBoost_trainable_03b51f0c_2020-01-13_13-34-38nx0meozj/tmplhbw_cnvrestore_from_object/checkpoint_6/model.pth\n",
            "\u001b[2m\u001b[36m(pid=519)\u001b[0m 2020-01-13 14:43:34,311\tINFO trainable.py:353 -- Current state after restoring: {'_iteration': 6, '_timesteps_total': None, '_time_total': 808.4628326892853, '_episodes_total': None}\n",
            "\u001b[2m\u001b[36m(pid=519)\u001b[0m 2020-01-13 14:43:34,349\tINFO trainable.py:346 -- Restored from checkpoint: /root/ray_results/XGBoost_trainable/XGBoost_trainable_03b51f0c_2020-01-13_13-34-38nx0meozj/tmpqc7dcw5vrestore_from_object/checkpoint_4/model.pth\n",
            "\u001b[2m\u001b[36m(pid=519)\u001b[0m 2020-01-13 14:43:34,349\tINFO trainable.py:353 -- Current state after restoring: {'_iteration': 4, '_timesteps_total': None, '_time_total': 722.2294225692749, '_episodes_total': None}\n"
          ],
          "name": "stdout"
        },
        {
          "output_type": "stream",
          "text": [
            "2020-01-13 14:44:28,937\tINFO pbt.py:83 -- [explore] perturbed config from {'verbosity': 0, 'objective': 'multi:softprob', 'num_class': 5, 'booster': 'gbtree', 'eval_metric': 'merror', 'max_depth': 1, 'eta': 0.00587323670168573, 'gamma': 2.689480236959982e-07, 'grow_policy': 'lossguide'} -> {'verbosity': 0, 'objective': 'multi:softprob', 'num_class': 5, 'booster': 'gbtree', 'eval_metric': 'merror', 'max_depth': 1, 'eta': 0.004698589361348584, 'gamma': 3.227376284351978e-07, 'grow_policy': 'lossguide'}\n",
            "2020-01-13 14:44:28,938\tINFO pbt.py:315 -- [exploit] transferring weights from trial XGBoost_trainable_0373cc96 (score 0.2) -> XGBoost_trainable_027d3ac0 (score 0.2)\n"
          ],
          "name": "stderr"
        },
        {
          "output_type": "stream",
          "text": [
            "Result for XGBoost_trainable_027d3ac0:\n",
            "  date: 2020-01-13_14-44-28\n",
            "  done: false\n",
            "  experiment_id: cc8379e9a262436f84ca9a1bf757c9b8\n",
            "  experiment_tag: 0_eta=0.044127,gamma=0.010735,grow_policy=lossguide,max_depth=7@perturbed[eta=0.0046986,gamma=3.2274e-07,grow_policy=lossguide,max_depth=1]\n",
            "  hostname: 9991d65102f3\n",
            "  iterations_since_restore: 1\n",
            "  mean_accuracy: 0.2\n",
            "  node_ip: 172.28.0.2\n",
            "  pid: 387\n",
            "  time_since_restore: 342.3140354156494\n",
            "  time_this_iter_s: 342.3140354156494\n",
            "  time_total_s: 1064.5434579849243\n",
            "  timestamp: 1578926668\n",
            "  timesteps_since_restore: 0\n",
            "  training_iteration: 5\n",
            "  trial_id: 027d3ac0\n",
            "  \n"
          ],
          "name": "stdout"
        },
        {
          "output_type": "display_data",
          "data": {
            "text/html": [
              "== Status ==<br>Memory usage on this node: 1.4/12.7 GiB<br>PopulationBasedTraining: 9 checkpoints, 28 perturbs<br>Resources requested: 1/2 CPUs, 0/0 GPUs, 0.0/6.1 GiB heap, 0.0/2.1 GiB objects<br>Result logdir: /root/ray_results/XGBoost_trainable<br>Number of trials: 4 (3 PAUSED, 1 RUNNING)<br><table>\n",
              "<thead>\n",
              "<tr><th>Trial name                </th><th>status  </th><th>loc  </th><th>grow_policy  </th><th style=\"text-align: right;\">       eta</th><th style=\"text-align: right;\">      gamma</th><th style=\"text-align: right;\">  max_depth</th><th style=\"text-align: right;\">  iter</th><th style=\"text-align: right;\">  total time (s)</th><th style=\"text-align: right;\">  acc</th></tr>\n",
              "</thead>\n",
              "<tbody>\n",
              "<tr><td>XGBoost_trainable_027d3ac0</td><td>PAUSED  </td><td>     </td><td>depthwise    </td><td style=\"text-align: right;\">0.00127633</td><td style=\"text-align: right;\">0.0140029  </td><td style=\"text-align: right;\">          4</td><td style=\"text-align: right;\">     5</td><td style=\"text-align: right;\">        1064.54 </td><td style=\"text-align: right;\">  0.2</td></tr>\n",
              "<tr><td>XGBoost_trainable_02f9e0c0</td><td>PAUSED  </td><td>     </td><td>lossguide    </td><td style=\"text-align: right;\">0.00127633</td><td style=\"text-align: right;\">0.0140029  </td><td style=\"text-align: right;\">          3</td><td style=\"text-align: right;\">     5</td><td style=\"text-align: right;\">         900.334</td><td style=\"text-align: right;\">  0.2</td></tr>\n",
              "<tr><td>XGBoost_trainable_0373cc96</td><td>PAUSED  </td><td>     </td><td>lossguide    </td><td style=\"text-align: right;\">0.00587324</td><td style=\"text-align: right;\">2.68948e-07</td><td style=\"text-align: right;\">          1</td><td style=\"text-align: right;\">     6</td><td style=\"text-align: right;\">         808.463</td><td style=\"text-align: right;\">  0.2</td></tr>\n",
              "<tr><td>XGBoost_trainable_03b51f0c</td><td>RUNNING </td><td>     </td><td>depthwise    </td><td style=\"text-align: right;\">0.00106361</td><td style=\"text-align: right;\">0.0116691  </td><td style=\"text-align: right;\">          4</td><td style=\"text-align: right;\">     4</td><td style=\"text-align: right;\">         722.229</td><td style=\"text-align: right;\">  0.2</td></tr>\n",
              "</tbody>\n",
              "</table><br><br>"
            ],
            "text/plain": [
              "<IPython.core.display.HTML object>"
            ]
          },
          "metadata": {
            "tags": []
          }
        },
        {
          "output_type": "stream",
          "text": [
            "\u001b[2m\u001b[36m(pid=387)\u001b[0m 2020-01-13 14:44:28,960\tINFO trainable.py:346 -- Restored from checkpoint: /root/ray_results/XGBoost_trainable/XGBoost_trainable_027d3ac0_2020-01-13_13-31-3318o5vqkv/tmpao_igt0srestore_from_object/checkpoint_6/model.pth\n",
            "\u001b[2m\u001b[36m(pid=387)\u001b[0m 2020-01-13 14:44:28,960\tINFO trainable.py:353 -- Current state after restoring: {'_iteration': 6, '_timesteps_total': None, '_time_total': 808.4628326892853, '_episodes_total': None}\n",
            "\u001b[2m\u001b[36m(pid=387)\u001b[0m 2020-01-13 14:44:28,985\tINFO trainable.py:346 -- Restored from checkpoint: /root/ray_results/XGBoost_trainable/XGBoost_trainable_027d3ac0_2020-01-13_13-31-3318o5vqkv/tmptv2_5nb3restore_from_object/checkpoint_6/model.pth\n",
            "\u001b[2m\u001b[36m(pid=387)\u001b[0m 2020-01-13 14:44:28,985\tINFO trainable.py:353 -- Current state after restoring: {'_iteration': 6, '_timesteps_total': None, '_time_total': 808.4628326892853, '_episodes_total': None}\n",
            "Result for XGBoost_trainable_03b51f0c:\n",
            "  date: 2020-01-13_14-46-33\n",
            "  done: false\n",
            "  experiment_id: cc8379e9a262436f84ca9a1bf757c9b8\n",
            "  experiment_tag: 3_eta=0.0010636,gamma=0.011669,grow_policy=depthwise,max_depth=4\n",
            "  hostname: 9991d65102f3\n",
            "  iterations_since_restore: 1\n",
            "  mean_accuracy: 0.2\n",
            "  node_ip: 172.28.0.2\n",
            "  pid: 519\n",
            "  time_since_restore: 179.56974482536316\n",
            "  time_this_iter_s: 179.56974482536316\n",
            "  time_total_s: 901.7991673946381\n",
            "  timestamp: 1578926793\n",
            "  timesteps_since_restore: 0\n",
            "  training_iteration: 5\n",
            "  trial_id: 03b51f0c\n",
            "  \n"
          ],
          "name": "stdout"
        },
        {
          "output_type": "display_data",
          "data": {
            "text/html": [
              "== Status ==<br>Memory usage on this node: 1.4/12.7 GiB<br>PopulationBasedTraining: 10 checkpoints, 28 perturbs<br>Resources requested: 1/2 CPUs, 0/0 GPUs, 0.0/6.1 GiB heap, 0.0/2.1 GiB objects<br>Result logdir: /root/ray_results/XGBoost_trainable<br>Number of trials: 4 (1 RUNNING, 3 PAUSED)<br><table>\n",
              "<thead>\n",
              "<tr><th>Trial name                </th><th>status  </th><th>loc  </th><th>grow_policy  </th><th style=\"text-align: right;\">       eta</th><th style=\"text-align: right;\">      gamma</th><th style=\"text-align: right;\">  max_depth</th><th style=\"text-align: right;\">  iter</th><th style=\"text-align: right;\">  total time (s)</th><th style=\"text-align: right;\">  acc</th></tr>\n",
              "</thead>\n",
              "<tbody>\n",
              "<tr><td>XGBoost_trainable_027d3ac0</td><td>RUNNING </td><td>     </td><td>depthwise    </td><td style=\"text-align: right;\">0.00127633</td><td style=\"text-align: right;\">0.0140029  </td><td style=\"text-align: right;\">          4</td><td style=\"text-align: right;\">     5</td><td style=\"text-align: right;\">        1064.54 </td><td style=\"text-align: right;\">  0.2</td></tr>\n",
              "<tr><td>XGBoost_trainable_02f9e0c0</td><td>PAUSED  </td><td>     </td><td>lossguide    </td><td style=\"text-align: right;\">0.00127633</td><td style=\"text-align: right;\">0.0140029  </td><td style=\"text-align: right;\">          3</td><td style=\"text-align: right;\">     5</td><td style=\"text-align: right;\">         900.334</td><td style=\"text-align: right;\">  0.2</td></tr>\n",
              "<tr><td>XGBoost_trainable_0373cc96</td><td>PAUSED  </td><td>     </td><td>lossguide    </td><td style=\"text-align: right;\">0.00587324</td><td style=\"text-align: right;\">2.68948e-07</td><td style=\"text-align: right;\">          1</td><td style=\"text-align: right;\">     6</td><td style=\"text-align: right;\">         808.463</td><td style=\"text-align: right;\">  0.2</td></tr>\n",
              "<tr><td>XGBoost_trainable_03b51f0c</td><td>PAUSED  </td><td>     </td><td>depthwise    </td><td style=\"text-align: right;\">0.00106361</td><td style=\"text-align: right;\">0.0116691  </td><td style=\"text-align: right;\">          4</td><td style=\"text-align: right;\">     5</td><td style=\"text-align: right;\">         901.799</td><td style=\"text-align: right;\">  0.2</td></tr>\n",
              "</tbody>\n",
              "</table><br><br>"
            ],
            "text/plain": [
              "<IPython.core.display.HTML object>"
            ]
          },
          "metadata": {
            "tags": []
          }
        },
        {
          "output_type": "stream",
          "text": [
            "\u001b[2m\u001b[36m(pid=519)\u001b[0m 2020-01-13 14:46:33,970\tINFO trainable.py:346 -- Restored from checkpoint: /root/ray_results/XGBoost_trainable/XGBoost_trainable_03b51f0c_2020-01-13_13-34-38nx0meozj/tmp_jna_kmgrestore_from_object/checkpoint_6/model.pth\n",
            "\u001b[2m\u001b[36m(pid=519)\u001b[0m 2020-01-13 14:46:33,970\tINFO trainable.py:353 -- Current state after restoring: {'_iteration': 6, '_timesteps_total': None, '_time_total': 808.4628326892853, '_episodes_total': None}\n"
          ],
          "name": "stdout"
        },
        {
          "output_type": "stream",
          "text": [
            "2020-01-13 14:49:32,812\tINFO pbt.py:83 -- [explore] perturbed config from {'verbosity': 0, 'objective': 'multi:softprob', 'num_class': 5, 'booster': 'gbtree', 'eval_metric': 'merror', 'max_depth': 1, 'eta': 0.00587323670168573, 'gamma': 2.689480236959982e-07, 'grow_policy': 'lossguide'} -> {'verbosity': 0, 'objective': 'multi:softprob', 'num_class': 5, 'booster': 'gbtree', 'eval_metric': 'merror', 'max_depth': 1, 'eta': -2.622335982451137, 'gamma': 2.1515841895679858e-07, 'grow_policy': 'depthwise'}\n",
            "2020-01-13 14:49:32,819\tINFO pbt.py:315 -- [exploit] transferring weights from trial XGBoost_trainable_0373cc96 (score 0.2) -> XGBoost_trainable_02f9e0c0 (score 0.2)\n"
          ],
          "name": "stderr"
        },
        {
          "output_type": "stream",
          "text": [
            "Result for XGBoost_trainable_02f9e0c0:\n",
            "  date: 2020-01-13_14-49-32\n",
            "  done: false\n",
            "  experiment_id: 7f6e26f2963b43d4b6f7c8b25c7e722a\n",
            "  experiment_tag: 1_eta=0.00056603,gamma=2.9078e-08,grow_policy=lossguide,max_depth=2@perturbed[eta=-2.6223,gamma=2.1516e-07,grow_policy=depthwise,max_depth=1]\n",
            "  hostname: 9991d65102f3\n",
            "  iterations_since_restore: 1\n",
            "  mean_accuracy: 0.2\n",
            "  node_ip: 172.28.0.2\n",
            "  pid: 519\n",
            "  time_since_restore: 178.8374102115631\n",
            "  time_this_iter_s: 178.8374102115631\n",
            "  time_total_s: 987.3002429008484\n",
            "  timestamp: 1578926972\n",
            "  timesteps_since_restore: 0\n",
            "  training_iteration: 7\n",
            "  trial_id: 02f9e0c0\n",
            "  \n"
          ],
          "name": "stdout"
        },
        {
          "output_type": "display_data",
          "data": {
            "text/html": [
              "== Status ==<br>Memory usage on this node: 1.4/12.7 GiB<br>PopulationBasedTraining: 10 checkpoints, 29 perturbs<br>Resources requested: 1/2 CPUs, 0/0 GPUs, 0.0/6.1 GiB heap, 0.0/2.1 GiB objects<br>Result logdir: /root/ray_results/XGBoost_trainable<br>Number of trials: 4 (1 RUNNING, 3 PAUSED)<br><table>\n",
              "<thead>\n",
              "<tr><th>Trial name                </th><th>status  </th><th>loc  </th><th>grow_policy  </th><th style=\"text-align: right;\">       eta</th><th style=\"text-align: right;\">      gamma</th><th style=\"text-align: right;\">  max_depth</th><th style=\"text-align: right;\">  iter</th><th style=\"text-align: right;\">  total time (s)</th><th style=\"text-align: right;\">  acc</th></tr>\n",
              "</thead>\n",
              "<tbody>\n",
              "<tr><td>XGBoost_trainable_027d3ac0</td><td>RUNNING </td><td>     </td><td>depthwise    </td><td style=\"text-align: right;\">0.00127633</td><td style=\"text-align: right;\">0.0140029  </td><td style=\"text-align: right;\">          4</td><td style=\"text-align: right;\">     5</td><td style=\"text-align: right;\">        1064.54 </td><td style=\"text-align: right;\">  0.2</td></tr>\n",
              "<tr><td>XGBoost_trainable_02f9e0c0</td><td>PAUSED  </td><td>     </td><td>lossguide    </td><td style=\"text-align: right;\">0.00469859</td><td style=\"text-align: right;\">3.22738e-07</td><td style=\"text-align: right;\">          7</td><td style=\"text-align: right;\">     7</td><td style=\"text-align: right;\">         987.3  </td><td style=\"text-align: right;\">  0.2</td></tr>\n",
              "<tr><td>XGBoost_trainable_0373cc96</td><td>PAUSED  </td><td>     </td><td>lossguide    </td><td style=\"text-align: right;\">0.00587324</td><td style=\"text-align: right;\">2.68948e-07</td><td style=\"text-align: right;\">          1</td><td style=\"text-align: right;\">     6</td><td style=\"text-align: right;\">         808.463</td><td style=\"text-align: right;\">  0.2</td></tr>\n",
              "<tr><td>XGBoost_trainable_03b51f0c</td><td>PAUSED  </td><td>     </td><td>depthwise    </td><td style=\"text-align: right;\">0.00106361</td><td style=\"text-align: right;\">0.0116691  </td><td style=\"text-align: right;\">          4</td><td style=\"text-align: right;\">     5</td><td style=\"text-align: right;\">         901.799</td><td style=\"text-align: right;\">  0.2</td></tr>\n",
              "</tbody>\n",
              "</table><br><br>"
            ],
            "text/plain": [
              "<IPython.core.display.HTML object>"
            ]
          },
          "metadata": {
            "tags": []
          }
        },
        {
          "output_type": "stream",
          "text": [
            "\u001b[2m\u001b[36m(pid=519)\u001b[0m 2020-01-13 14:49:32,835\tINFO trainable.py:346 -- Restored from checkpoint: /root/ray_results/XGBoost_trainable/XGBoost_trainable_03b51f0c_2020-01-13_13-34-38nx0meozj/tmpbayt9m3orestore_from_object/checkpoint_6/model.pth\n",
            "\u001b[2m\u001b[36m(pid=519)\u001b[0m 2020-01-13 14:49:32,835\tINFO trainable.py:353 -- Current state after restoring: {'_iteration': 6, '_timesteps_total': None, '_time_total': 808.4628326892853, '_episodes_total': None}\n",
            "\u001b[2m\u001b[36m(pid=519)\u001b[0m 2020-01-13 14:49:32,872\tINFO trainable.py:346 -- Restored from checkpoint: /root/ray_results/XGBoost_trainable/XGBoost_trainable_03b51f0c_2020-01-13_13-34-38nx0meozj/tmpk9__zq8zrestore_from_object/checkpoint_6/model.pth\n",
            "\u001b[2m\u001b[36m(pid=519)\u001b[0m 2020-01-13 14:49:32,872\tINFO trainable.py:353 -- Current state after restoring: {'_iteration': 6, '_timesteps_total': None, '_time_total': 808.4628326892853, '_episodes_total': None}\n"
          ],
          "name": "stdout"
        },
        {
          "output_type": "stream",
          "text": [
            "2020-01-13 14:50:07,501\tINFO pbt.py:83 -- [explore] perturbed config from {'verbosity': 0, 'objective': 'multi:softprob', 'num_class': 5, 'booster': 'gbtree', 'eval_metric': 'merror', 'max_depth': 1, 'eta': 0.00587323670168573, 'gamma': 2.689480236959982e-07, 'grow_policy': 'lossguide'} -> {'verbosity': 0, 'objective': 'multi:softprob', 'num_class': 5, 'booster': 'gbtree', 'eval_metric': 'merror', 'max_depth': 0, 'eta': 0.0070478840420228756, 'gamma': 2.1515841895679858e-07, 'grow_policy': 'lossguide'}\n",
            "2020-01-13 14:50:07,506\tINFO pbt.py:315 -- [exploit] transferring weights from trial XGBoost_trainable_0373cc96 (score 0.2) -> XGBoost_trainable_027d3ac0 (score 0.2)\n"
          ],
          "name": "stderr"
        },
        {
          "output_type": "stream",
          "text": [
            "Result for XGBoost_trainable_027d3ac0:\n",
            "  date: 2020-01-13_14-50-07\n",
            "  done: false\n",
            "  experiment_id: 7f6e26f2963b43d4b6f7c8b25c7e722a\n",
            "  experiment_tag: 0_eta=0.044127,gamma=0.010735,grow_policy=lossguide,max_depth=7@perturbed[eta=0.0070479,gamma=2.1516e-07,grow_policy=lossguide,max_depth=0]\n",
            "  hostname: 9991d65102f3\n",
            "  iterations_since_restore: 1\n",
            "  mean_accuracy: 0.2\n",
            "  node_ip: 172.28.0.2\n",
            "  pid: 387\n",
            "  time_since_restore: 338.51029753685\n",
            "  time_this_iter_s: 338.51029753685\n",
            "  time_total_s: 1146.9731302261353\n",
            "  timestamp: 1578927007\n",
            "  timesteps_since_restore: 0\n",
            "  training_iteration: 7\n",
            "  trial_id: 027d3ac0\n",
            "  \n"
          ],
          "name": "stdout"
        },
        {
          "output_type": "display_data",
          "data": {
            "text/html": [
              "== Status ==<br>Memory usage on this node: 1.4/12.7 GiB<br>PopulationBasedTraining: 10 checkpoints, 30 perturbs<br>Resources requested: 1/2 CPUs, 0/0 GPUs, 0.0/6.1 GiB heap, 0.0/2.1 GiB objects<br>Result logdir: /root/ray_results/XGBoost_trainable<br>Number of trials: 4 (3 PAUSED, 1 RUNNING)<br><table>\n",
              "<thead>\n",
              "<tr><th>Trial name                </th><th>status  </th><th>loc  </th><th>grow_policy  </th><th style=\"text-align: right;\">       eta</th><th style=\"text-align: right;\">      gamma</th><th style=\"text-align: right;\">  max_depth</th><th style=\"text-align: right;\">  iter</th><th style=\"text-align: right;\">  total time (s)</th><th style=\"text-align: right;\">  acc</th></tr>\n",
              "</thead>\n",
              "<tbody>\n",
              "<tr><td>XGBoost_trainable_027d3ac0</td><td>PAUSED  </td><td>     </td><td>lossguide    </td><td style=\"text-align: right;\">0.00469859</td><td style=\"text-align: right;\">3.22738e-07</td><td style=\"text-align: right;\">          1</td><td style=\"text-align: right;\">     7</td><td style=\"text-align: right;\">        1146.97 </td><td style=\"text-align: right;\">  0.2</td></tr>\n",
              "<tr><td>XGBoost_trainable_02f9e0c0</td><td>RUNNING </td><td>     </td><td>lossguide    </td><td style=\"text-align: right;\">0.00469859</td><td style=\"text-align: right;\">3.22738e-07</td><td style=\"text-align: right;\">          7</td><td style=\"text-align: right;\">     7</td><td style=\"text-align: right;\">         987.3  </td><td style=\"text-align: right;\">  0.2</td></tr>\n",
              "<tr><td>XGBoost_trainable_0373cc96</td><td>PAUSED  </td><td>     </td><td>lossguide    </td><td style=\"text-align: right;\">0.00587324</td><td style=\"text-align: right;\">2.68948e-07</td><td style=\"text-align: right;\">          1</td><td style=\"text-align: right;\">     6</td><td style=\"text-align: right;\">         808.463</td><td style=\"text-align: right;\">  0.2</td></tr>\n",
              "<tr><td>XGBoost_trainable_03b51f0c</td><td>PAUSED  </td><td>     </td><td>depthwise    </td><td style=\"text-align: right;\">0.00106361</td><td style=\"text-align: right;\">0.0116691  </td><td style=\"text-align: right;\">          4</td><td style=\"text-align: right;\">     5</td><td style=\"text-align: right;\">         901.799</td><td style=\"text-align: right;\">  0.2</td></tr>\n",
              "</tbody>\n",
              "</table><br><br>"
            ],
            "text/plain": [
              "<IPython.core.display.HTML object>"
            ]
          },
          "metadata": {
            "tags": []
          }
        },
        {
          "output_type": "stream",
          "text": [
            "\u001b[2m\u001b[36m(pid=387)\u001b[0m 2020-01-13 14:50:07,531\tINFO trainable.py:346 -- Restored from checkpoint: /root/ray_results/XGBoost_trainable/XGBoost_trainable_027d3ac0_2020-01-13_13-31-3318o5vqkv/tmpos5jxptcrestore_from_object/checkpoint_6/model.pth\n",
            "\u001b[2m\u001b[36m(pid=387)\u001b[0m 2020-01-13 14:50:07,532\tINFO trainable.py:353 -- Current state after restoring: {'_iteration': 6, '_timesteps_total': None, '_time_total': 808.4628326892853, '_episodes_total': None}\n",
            "\u001b[2m\u001b[36m(pid=387)\u001b[0m 2020-01-13 14:50:07,566\tINFO trainable.py:346 -- Restored from checkpoint: /root/ray_results/XGBoost_trainable/XGBoost_trainable_027d3ac0_2020-01-13_13-31-3318o5vqkv/tmpjsm2twkkrestore_from_object/checkpoint_6/model.pth\n",
            "\u001b[2m\u001b[36m(pid=387)\u001b[0m 2020-01-13 14:50:07,566\tINFO trainable.py:353 -- Current state after restoring: {'_iteration': 6, '_timesteps_total': None, '_time_total': 808.4628326892853, '_episodes_total': None}\n"
          ],
          "name": "stdout"
        },
        {
          "output_type": "stream",
          "text": [
            "2020-01-13 14:52:31,867\tINFO pbt.py:83 -- [explore] perturbed config from {'verbosity': 0, 'objective': 'multi:softprob', 'num_class': 5, 'booster': 'gbtree', 'eval_metric': 'merror', 'max_depth': 4, 'eta': 0.0010636121226518637, 'gamma': 0.011669058550942432, 'grow_policy': 'depthwise'} -> {'verbosity': 0, 'objective': 'multi:softprob', 'num_class': 5, 'booster': 'gbtree', 'eval_metric': 'merror', 'max_depth': 2, 'eta': 0.0012763345471822364, 'gamma': 0.009335246840753946, 'grow_policy': 'depthwise'}\n",
            "2020-01-13 14:52:31,875\tINFO pbt.py:315 -- [exploit] transferring weights from trial XGBoost_trainable_03b51f0c (score 0.2) -> XGBoost_trainable_02f9e0c0 (score 0.2)\n"
          ],
          "name": "stderr"
        },
        {
          "output_type": "stream",
          "text": [
            "Result for XGBoost_trainable_02f9e0c0:\n",
            "  date: 2020-01-13_14-52-31\n",
            "  done: false\n",
            "  experiment_id: 7f6e26f2963b43d4b6f7c8b25c7e722a\n",
            "  experiment_tag: 1_eta=0.00056603,gamma=2.9078e-08,grow_policy=lossguide,max_depth=2@perturbed[eta=0.0012763,gamma=0.0093352,grow_policy=depthwise,max_depth=2]\n",
            "  hostname: 9991d65102f3\n",
            "  iterations_since_restore: 1\n",
            "  mean_accuracy: 0.2\n",
            "  node_ip: 172.28.0.2\n",
            "  pid: 519\n",
            "  time_since_restore: 178.99157166481018\n",
            "  time_this_iter_s: 178.99157166481018\n",
            "  time_total_s: 987.4544043540955\n",
            "  timestamp: 1578927151\n",
            "  timesteps_since_restore: 0\n",
            "  training_iteration: 7\n",
            "  trial_id: 02f9e0c0\n",
            "  \n"
          ],
          "name": "stdout"
        },
        {
          "output_type": "display_data",
          "data": {
            "text/html": [
              "== Status ==<br>Memory usage on this node: 1.4/12.7 GiB<br>PopulationBasedTraining: 10 checkpoints, 31 perturbs<br>Resources requested: 1/2 CPUs, 0/0 GPUs, 0.0/6.1 GiB heap, 0.0/2.1 GiB objects<br>Result logdir: /root/ray_results/XGBoost_trainable<br>Number of trials: 4 (1 RUNNING, 3 PAUSED)<br><table>\n",
              "<thead>\n",
              "<tr><th>Trial name                </th><th>status  </th><th>loc  </th><th>grow_policy  </th><th style=\"text-align: right;\">        eta</th><th style=\"text-align: right;\">      gamma</th><th style=\"text-align: right;\">  max_depth</th><th style=\"text-align: right;\">  iter</th><th style=\"text-align: right;\">  total time (s)</th><th style=\"text-align: right;\">  acc</th></tr>\n",
              "</thead>\n",
              "<tbody>\n",
              "<tr><td>XGBoost_trainable_027d3ac0</td><td>RUNNING </td><td>     </td><td>lossguide    </td><td style=\"text-align: right;\"> 0.00469859</td><td style=\"text-align: right;\">3.22738e-07</td><td style=\"text-align: right;\">          1</td><td style=\"text-align: right;\">     7</td><td style=\"text-align: right;\">        1146.97 </td><td style=\"text-align: right;\">  0.2</td></tr>\n",
              "<tr><td>XGBoost_trainable_02f9e0c0</td><td>PAUSED  </td><td>     </td><td>depthwise    </td><td style=\"text-align: right;\">-2.62234   </td><td style=\"text-align: right;\">2.15158e-07</td><td style=\"text-align: right;\">          1</td><td style=\"text-align: right;\">     7</td><td style=\"text-align: right;\">         987.454</td><td style=\"text-align: right;\">  0.2</td></tr>\n",
              "<tr><td>XGBoost_trainable_0373cc96</td><td>PAUSED  </td><td>     </td><td>lossguide    </td><td style=\"text-align: right;\"> 0.00587324</td><td style=\"text-align: right;\">2.68948e-07</td><td style=\"text-align: right;\">          1</td><td style=\"text-align: right;\">     6</td><td style=\"text-align: right;\">         808.463</td><td style=\"text-align: right;\">  0.2</td></tr>\n",
              "<tr><td>XGBoost_trainable_03b51f0c</td><td>PAUSED  </td><td>     </td><td>depthwise    </td><td style=\"text-align: right;\"> 0.00106361</td><td style=\"text-align: right;\">0.0116691  </td><td style=\"text-align: right;\">          4</td><td style=\"text-align: right;\">     5</td><td style=\"text-align: right;\">         901.799</td><td style=\"text-align: right;\">  0.2</td></tr>\n",
              "</tbody>\n",
              "</table><br><br>"
            ],
            "text/plain": [
              "<IPython.core.display.HTML object>"
            ]
          },
          "metadata": {
            "tags": []
          }
        },
        {
          "output_type": "stream",
          "text": [
            "\u001b[2m\u001b[36m(pid=519)\u001b[0m 2020-01-13 14:52:31,888\tINFO trainable.py:346 -- Restored from checkpoint: /root/ray_results/XGBoost_trainable/XGBoost_trainable_03b51f0c_2020-01-13_13-34-38nx0meozj/tmp_sw2c9mgrestore_from_object/checkpoint_5/model.pth\n",
            "\u001b[2m\u001b[36m(pid=519)\u001b[0m 2020-01-13 14:52:31,888\tINFO trainable.py:353 -- Current state after restoring: {'_iteration': 5, '_timesteps_total': None, '_time_total': 901.7991673946381, '_episodes_total': None}\n",
            "\u001b[2m\u001b[36m(pid=519)\u001b[0m 2020-01-13 14:52:31,927\tINFO trainable.py:346 -- Restored from checkpoint: /root/ray_results/XGBoost_trainable/XGBoost_trainable_03b51f0c_2020-01-13_13-34-38nx0meozj/tmpihfsph86restore_from_object/checkpoint_6/model.pth\n",
            "\u001b[2m\u001b[36m(pid=519)\u001b[0m 2020-01-13 14:52:31,927\tINFO trainable.py:353 -- Current state after restoring: {'_iteration': 6, '_timesteps_total': None, '_time_total': 808.4628326892853, '_episodes_total': None}\n",
            "Result for XGBoost_trainable_0373cc96:\n",
            "  date: 2020-01-13_14-55-31\n",
            "  done: false\n",
            "  experiment_id: 7f6e26f2963b43d4b6f7c8b25c7e722a\n",
            "  experiment_tag: 2_eta=0.0058732,gamma=2.6895e-07,grow_policy=lossguide,max_depth=1\n",
            "  hostname: 9991d65102f3\n",
            "  iterations_since_restore: 1\n",
            "  mean_accuracy: 0.2\n",
            "  node_ip: 172.28.0.2\n",
            "  pid: 519\n",
            "  time_since_restore: 179.36189603805542\n",
            "  time_this_iter_s: 179.36189603805542\n",
            "  time_total_s: 987.8247287273407\n",
            "  timestamp: 1578927331\n",
            "  timesteps_since_restore: 0\n",
            "  training_iteration: 7\n",
            "  trial_id: 0373cc96\n",
            "  \n"
          ],
          "name": "stdout"
        },
        {
          "output_type": "display_data",
          "data": {
            "text/html": [
              "== Status ==<br>Memory usage on this node: 1.5/12.7 GiB<br>PopulationBasedTraining: 11 checkpoints, 31 perturbs<br>Resources requested: 1/2 CPUs, 0/0 GPUs, 0.0/6.1 GiB heap, 0.0/2.1 GiB objects<br>Result logdir: /root/ray_results/XGBoost_trainable<br>Number of trials: 4 (1 RUNNING, 3 PAUSED)<br><table>\n",
              "<thead>\n",
              "<tr><th>Trial name                </th><th>status  </th><th>loc  </th><th>grow_policy  </th><th style=\"text-align: right;\">        eta</th><th style=\"text-align: right;\">      gamma</th><th style=\"text-align: right;\">  max_depth</th><th style=\"text-align: right;\">  iter</th><th style=\"text-align: right;\">  total time (s)</th><th style=\"text-align: right;\">  acc</th></tr>\n",
              "</thead>\n",
              "<tbody>\n",
              "<tr><td>XGBoost_trainable_027d3ac0</td><td>RUNNING </td><td>     </td><td>lossguide    </td><td style=\"text-align: right;\"> 0.00469859</td><td style=\"text-align: right;\">3.22738e-07</td><td style=\"text-align: right;\">          1</td><td style=\"text-align: right;\">     7</td><td style=\"text-align: right;\">        1146.97 </td><td style=\"text-align: right;\">  0.2</td></tr>\n",
              "<tr><td>XGBoost_trainable_02f9e0c0</td><td>PAUSED  </td><td>     </td><td>depthwise    </td><td style=\"text-align: right;\">-2.62234   </td><td style=\"text-align: right;\">2.15158e-07</td><td style=\"text-align: right;\">          1</td><td style=\"text-align: right;\">     7</td><td style=\"text-align: right;\">         987.454</td><td style=\"text-align: right;\">  0.2</td></tr>\n",
              "<tr><td>XGBoost_trainable_0373cc96</td><td>PAUSED  </td><td>     </td><td>lossguide    </td><td style=\"text-align: right;\"> 0.00587324</td><td style=\"text-align: right;\">2.68948e-07</td><td style=\"text-align: right;\">          1</td><td style=\"text-align: right;\">     7</td><td style=\"text-align: right;\">         987.825</td><td style=\"text-align: right;\">  0.2</td></tr>\n",
              "<tr><td>XGBoost_trainable_03b51f0c</td><td>PAUSED  </td><td>     </td><td>depthwise    </td><td style=\"text-align: right;\"> 0.00106361</td><td style=\"text-align: right;\">0.0116691  </td><td style=\"text-align: right;\">          4</td><td style=\"text-align: right;\">     5</td><td style=\"text-align: right;\">         901.799</td><td style=\"text-align: right;\">  0.2</td></tr>\n",
              "</tbody>\n",
              "</table><br><br>"
            ],
            "text/plain": [
              "<IPython.core.display.HTML object>"
            ]
          },
          "metadata": {
            "tags": []
          }
        },
        {
          "output_type": "stream",
          "text": [
            "\u001b[2m\u001b[36m(pid=519)\u001b[0m 2020-01-13 14:55:31,337\tINFO trainable.py:346 -- Restored from checkpoint: /root/ray_results/XGBoost_trainable/XGBoost_trainable_03b51f0c_2020-01-13_13-34-38nx0meozj/tmpkmo_7la9restore_from_object/checkpoint_5/model.pth\n",
            "\u001b[2m\u001b[36m(pid=519)\u001b[0m 2020-01-13 14:55:31,338\tINFO trainable.py:353 -- Current state after restoring: {'_iteration': 5, '_timesteps_total': None, '_time_total': 901.7991673946381, '_episodes_total': None}\n"
          ],
          "name": "stdout"
        },
        {
          "output_type": "stream",
          "text": [
            "2020-01-13 14:55:43,604\tINFO pbt.py:83 -- [explore] perturbed config from {'verbosity': 0, 'objective': 'multi:softprob', 'num_class': 5, 'booster': 'gbtree', 'eval_metric': 'merror', 'max_depth': 1, 'eta': 0.00587323670168573, 'gamma': 2.689480236959982e-07, 'grow_policy': 'lossguide'} -> {'verbosity': 0, 'objective': 'multi:softprob', 'num_class': 5, 'booster': 'gbtree', 'eval_metric': 'merror', 'max_depth': 0, 'eta': 0.004698589361348584, 'gamma': -3.4352059676988604, 'grow_policy': 'depthwise'}\n",
            "2020-01-13 14:55:43,606\tINFO pbt.py:315 -- [exploit] transferring weights from trial XGBoost_trainable_0373cc96 (score 0.2) -> XGBoost_trainable_027d3ac0 (score 0.2)\n"
          ],
          "name": "stderr"
        },
        {
          "output_type": "stream",
          "text": [
            "Result for XGBoost_trainable_027d3ac0:\n",
            "  date: 2020-01-13_14-55-43\n",
            "  done: false\n",
            "  experiment_id: 7f6e26f2963b43d4b6f7c8b25c7e722a\n",
            "  experiment_tag: 0_eta=0.044127,gamma=0.010735,grow_policy=lossguide,max_depth=7@perturbed[eta=0.0046986,gamma=-3.4352,grow_policy=depthwise,max_depth=0]\n",
            "  hostname: 9991d65102f3\n",
            "  iterations_since_restore: 1\n",
            "  mean_accuracy: 0.2\n",
            "  node_ip: 172.28.0.2\n",
            "  pid: 387\n",
            "  time_since_restore: 336.0346245765686\n",
            "  time_this_iter_s: 336.0346245765686\n",
            "  time_total_s: 1144.4974572658539\n",
            "  timestamp: 1578927343\n",
            "  timesteps_since_restore: 0\n",
            "  training_iteration: 7\n",
            "  trial_id: 027d3ac0\n",
            "  \n"
          ],
          "name": "stdout"
        },
        {
          "output_type": "display_data",
          "data": {
            "text/html": [
              "== Status ==<br>Memory usage on this node: 1.4/12.7 GiB<br>PopulationBasedTraining: 11 checkpoints, 32 perturbs<br>Resources requested: 1/2 CPUs, 0/0 GPUs, 0.0/6.1 GiB heap, 0.0/2.1 GiB objects<br>Result logdir: /root/ray_results/XGBoost_trainable<br>Number of trials: 4 (3 PAUSED, 1 RUNNING)<br><table>\n",
              "<thead>\n",
              "<tr><th>Trial name                </th><th>status  </th><th>loc  </th><th>grow_policy  </th><th style=\"text-align: right;\">        eta</th><th style=\"text-align: right;\">      gamma</th><th style=\"text-align: right;\">  max_depth</th><th style=\"text-align: right;\">  iter</th><th style=\"text-align: right;\">  total time (s)</th><th style=\"text-align: right;\">  acc</th></tr>\n",
              "</thead>\n",
              "<tbody>\n",
              "<tr><td>XGBoost_trainable_027d3ac0</td><td>PAUSED  </td><td>     </td><td>lossguide    </td><td style=\"text-align: right;\"> 0.00704788</td><td style=\"text-align: right;\">2.15158e-07</td><td style=\"text-align: right;\">          0</td><td style=\"text-align: right;\">     7</td><td style=\"text-align: right;\">        1144.5  </td><td style=\"text-align: right;\">  0.2</td></tr>\n",
              "<tr><td>XGBoost_trainable_02f9e0c0</td><td>RUNNING </td><td>     </td><td>depthwise    </td><td style=\"text-align: right;\">-2.62234   </td><td style=\"text-align: right;\">2.15158e-07</td><td style=\"text-align: right;\">          1</td><td style=\"text-align: right;\">     7</td><td style=\"text-align: right;\">         987.454</td><td style=\"text-align: right;\">  0.2</td></tr>\n",
              "<tr><td>XGBoost_trainable_0373cc96</td><td>PAUSED  </td><td>     </td><td>lossguide    </td><td style=\"text-align: right;\"> 0.00587324</td><td style=\"text-align: right;\">2.68948e-07</td><td style=\"text-align: right;\">          1</td><td style=\"text-align: right;\">     7</td><td style=\"text-align: right;\">         987.825</td><td style=\"text-align: right;\">  0.2</td></tr>\n",
              "<tr><td>XGBoost_trainable_03b51f0c</td><td>PAUSED  </td><td>     </td><td>depthwise    </td><td style=\"text-align: right;\"> 0.00106361</td><td style=\"text-align: right;\">0.0116691  </td><td style=\"text-align: right;\">          4</td><td style=\"text-align: right;\">     5</td><td style=\"text-align: right;\">         901.799</td><td style=\"text-align: right;\">  0.2</td></tr>\n",
              "</tbody>\n",
              "</table><br><br>"
            ],
            "text/plain": [
              "<IPython.core.display.HTML object>"
            ]
          },
          "metadata": {
            "tags": []
          }
        },
        {
          "output_type": "stream",
          "text": [
            "\u001b[2m\u001b[36m(pid=387)\u001b[0m 2020-01-13 14:55:43,635\tINFO trainable.py:346 -- Restored from checkpoint: /root/ray_results/XGBoost_trainable/XGBoost_trainable_027d3ac0_2020-01-13_13-31-3318o5vqkv/tmpw3eri1iirestore_from_object/checkpoint_7/model.pth\n",
            "\u001b[2m\u001b[36m(pid=387)\u001b[0m 2020-01-13 14:55:43,635\tINFO trainable.py:353 -- Current state after restoring: {'_iteration': 7, '_timesteps_total': None, '_time_total': 987.8247287273407, '_episodes_total': None}\n",
            "\u001b[2m\u001b[36m(pid=387)\u001b[0m 2020-01-13 14:55:43,669\tINFO trainable.py:346 -- Restored from checkpoint: /root/ray_results/XGBoost_trainable/XGBoost_trainable_027d3ac0_2020-01-13_13-31-3318o5vqkv/tmpfvvigdj5restore_from_object/checkpoint_5/model.pth\n",
            "\u001b[2m\u001b[36m(pid=387)\u001b[0m 2020-01-13 14:55:43,669\tINFO trainable.py:353 -- Current state after restoring: {'_iteration': 5, '_timesteps_total': None, '_time_total': 901.7991673946381, '_episodes_total': None}\n"
          ],
          "name": "stdout"
        },
        {
          "output_type": "stream",
          "text": [
            "2020-01-13 14:58:32,284\tINFO pbt.py:83 -- [explore] perturbed config from {'verbosity': 0, 'objective': 'multi:softprob', 'num_class': 5, 'booster': 'gbtree', 'eval_metric': 'merror', 'max_depth': 4, 'eta': 0.0010636121226518637, 'gamma': 0.011669058550942432, 'grow_policy': 'depthwise'} -> {'verbosity': 0, 'objective': 'multi:softprob', 'num_class': 5, 'booster': 'gbtree', 'eval_metric': 'merror', 'max_depth': 4, 'eta': -2.4310311568801843, 'gamma': 0.009335246840753946, 'grow_policy': 'depthwise'}\n",
            "2020-01-13 14:58:32,290\tINFO pbt.py:315 -- [exploit] transferring weights from trial XGBoost_trainable_03b51f0c (score 0.2) -> XGBoost_trainable_02f9e0c0 (score 0.2)\n"
          ],
          "name": "stderr"
        },
        {
          "output_type": "stream",
          "text": [
            "Result for XGBoost_trainable_02f9e0c0:\u001b[2m\u001b[36m(pid=519)\u001b[0m 2020-01-13 14:58:32,301\tINFO trainable.py:346 -- Restored from checkpoint: /root/ray_results/XGBoost_trainable/XGBoost_trainable_03b51f0c_2020-01-13_13-34-38nx0meozj/tmpallfky_xrestore_from_object/checkpoint_5/model.pth\n",
            "\n",
            "\u001b[2m\u001b[36m(pid=519)\u001b[0m 2020-01-13 14:58:32,302\tINFO trainable.py:353 -- Current state after restoring: {'_iteration': 5, '_timesteps_total': None, '_time_total': 901.7991673946381, '_episodes_total': None}\n",
            "  date: 2020-01-13_14-58-32\n",
            "  done: false\n",
            "  experiment_id: cc8379e9a262436f84ca9a1bf757c9b8\n",
            "  experiment_tag: 1_eta=0.00056603,gamma=2.9078e-08,grow_policy=lossguide,max_depth=2@perturbed[eta=-2.431,gamma=0.0093352,grow_policy=depthwise,max_depth=4]\n",
            "  hostname: 9991d65102f3\n",
            "  iterations_since_restore: 1\n",
            "  mean_accuracy: 0.2\n",
            "  node_ip: 172.28.0.2\n",
            "  pid: 519\n",
            "  time_since_restore: 180.94262552261353\n",
            "  time_this_iter_s: 180.94262552261353\n",
            "  time_total_s: 1082.7417929172516\n",
            "  timestamp: 1578927512\n",
            "  timesteps_since_restore: 0\n",
            "  training_iteration: 6\n",
            "  trial_id: 02f9e0c0\n",
            "  \n"
          ],
          "name": "stdout"
        },
        {
          "output_type": "display_data",
          "data": {
            "text/html": [
              "== Status ==<br>Memory usage on this node: 1.5/12.7 GiB<br>PopulationBasedTraining: 11 checkpoints, 33 perturbs<br>Resources requested: 1/2 CPUs, 0/0 GPUs, 0.0/6.1 GiB heap, 0.0/2.1 GiB objects<br>Result logdir: /root/ray_results/XGBoost_trainable<br>Number of trials: 4 (3 PAUSED, 1 RUNNING)<br><table>\n",
              "<thead>\n",
              "<tr><th>Trial name                </th><th>status  </th><th>loc  </th><th>grow_policy  </th><th style=\"text-align: right;\">       eta</th><th style=\"text-align: right;\">      gamma</th><th style=\"text-align: right;\">  max_depth</th><th style=\"text-align: right;\">  iter</th><th style=\"text-align: right;\">  total time (s)</th><th style=\"text-align: right;\">  acc</th></tr>\n",
              "</thead>\n",
              "<tbody>\n",
              "<tr><td>XGBoost_trainable_027d3ac0</td><td>PAUSED  </td><td>     </td><td>lossguide    </td><td style=\"text-align: right;\">0.00704788</td><td style=\"text-align: right;\">2.15158e-07</td><td style=\"text-align: right;\">          0</td><td style=\"text-align: right;\">     7</td><td style=\"text-align: right;\">        1144.5  </td><td style=\"text-align: right;\">  0.2</td></tr>\n",
              "<tr><td>XGBoost_trainable_02f9e0c0</td><td>PAUSED  </td><td>     </td><td>depthwise    </td><td style=\"text-align: right;\">0.00127633</td><td style=\"text-align: right;\">0.00933525 </td><td style=\"text-align: right;\">          2</td><td style=\"text-align: right;\">     6</td><td style=\"text-align: right;\">        1082.74 </td><td style=\"text-align: right;\">  0.2</td></tr>\n",
              "<tr><td>XGBoost_trainable_0373cc96</td><td>PAUSED  </td><td>     </td><td>lossguide    </td><td style=\"text-align: right;\">0.00587324</td><td style=\"text-align: right;\">2.68948e-07</td><td style=\"text-align: right;\">          1</td><td style=\"text-align: right;\">     7</td><td style=\"text-align: right;\">         987.825</td><td style=\"text-align: right;\">  0.2</td></tr>\n",
              "<tr><td>XGBoost_trainable_03b51f0c</td><td>RUNNING </td><td>     </td><td>depthwise    </td><td style=\"text-align: right;\">0.00106361</td><td style=\"text-align: right;\">0.0116691  </td><td style=\"text-align: right;\">          4</td><td style=\"text-align: right;\">     5</td><td style=\"text-align: right;\">         901.799</td><td style=\"text-align: right;\">  0.2</td></tr>\n",
              "</tbody>\n",
              "</table><br><br>"
            ],
            "text/plain": [
              "<IPython.core.display.HTML object>"
            ]
          },
          "metadata": {
            "tags": []
          }
        },
        {
          "output_type": "stream",
          "text": [
            "\u001b[2m\u001b[36m(pid=519)\u001b[0m 2020-01-13 14:58:32,340\tINFO trainable.py:346 -- Restored from checkpoint: /root/ray_results/XGBoost_trainable/XGBoost_trainable_03b51f0c_2020-01-13_13-34-38nx0meozj/tmpr7ae0n2mrestore_from_object/checkpoint_5/model.pth\n",
            "\u001b[2m\u001b[36m(pid=519)\u001b[0m 2020-01-13 14:58:32,340\tINFO trainable.py:353 -- Current state after restoring: {'_iteration': 5, '_timesteps_total': None, '_time_total': 901.7991673946381, '_episodes_total': None}\n",
            "Result for XGBoost_trainable_03b51f0c:\n",
            "  date: 2020-01-13_15-01-23\n",
            "  done: false\n",
            "  experiment_id: cc8379e9a262436f84ca9a1bf757c9b8\n",
            "  experiment_tag: 3_eta=0.0010636,gamma=0.011669,grow_policy=depthwise,max_depth=4\n",
            "  hostname: 9991d65102f3\n",
            "  iterations_since_restore: 1\n",
            "  mean_accuracy: 0.2\n",
            "  node_ip: 172.28.0.2\n",
            "  pid: 387\n",
            "  time_since_restore: 339.78272247314453\n",
            "  time_this_iter_s: 339.78272247314453\n",
            "  time_total_s: 1241.5818898677826\n",
            "  timestamp: 1578927683\n",
            "  timesteps_since_restore: 0\n",
            "  training_iteration: 6\n",
            "  trial_id: 03b51f0c\n",
            "  \n"
          ],
          "name": "stdout"
        },
        {
          "output_type": "display_data",
          "data": {
            "text/html": [
              "== Status ==<br>Memory usage on this node: 1.5/12.7 GiB<br>PopulationBasedTraining: 12 checkpoints, 33 perturbs<br>Resources requested: 1/2 CPUs, 0/0 GPUs, 0.0/6.1 GiB heap, 0.0/2.1 GiB objects<br>Result logdir: /root/ray_results/XGBoost_trainable<br>Number of trials: 4 (3 PAUSED, 1 RUNNING)<br><table>\n",
              "<thead>\n",
              "<tr><th>Trial name                </th><th>status  </th><th>loc  </th><th>grow_policy  </th><th style=\"text-align: right;\">       eta</th><th style=\"text-align: right;\">      gamma</th><th style=\"text-align: right;\">  max_depth</th><th style=\"text-align: right;\">  iter</th><th style=\"text-align: right;\">  total time (s)</th><th style=\"text-align: right;\">  acc</th></tr>\n",
              "</thead>\n",
              "<tbody>\n",
              "<tr><td>XGBoost_trainable_027d3ac0</td><td>PAUSED  </td><td>     </td><td>lossguide    </td><td style=\"text-align: right;\">0.00704788</td><td style=\"text-align: right;\">2.15158e-07</td><td style=\"text-align: right;\">          0</td><td style=\"text-align: right;\">     7</td><td style=\"text-align: right;\">        1144.5  </td><td style=\"text-align: right;\">  0.2</td></tr>\n",
              "<tr><td>XGBoost_trainable_02f9e0c0</td><td>RUNNING </td><td>     </td><td>depthwise    </td><td style=\"text-align: right;\">0.00127633</td><td style=\"text-align: right;\">0.00933525 </td><td style=\"text-align: right;\">          2</td><td style=\"text-align: right;\">     6</td><td style=\"text-align: right;\">        1082.74 </td><td style=\"text-align: right;\">  0.2</td></tr>\n",
              "<tr><td>XGBoost_trainable_0373cc96</td><td>PAUSED  </td><td>     </td><td>lossguide    </td><td style=\"text-align: right;\">0.00587324</td><td style=\"text-align: right;\">2.68948e-07</td><td style=\"text-align: right;\">          1</td><td style=\"text-align: right;\">     7</td><td style=\"text-align: right;\">         987.825</td><td style=\"text-align: right;\">  0.2</td></tr>\n",
              "<tr><td>XGBoost_trainable_03b51f0c</td><td>PAUSED  </td><td>     </td><td>depthwise    </td><td style=\"text-align: right;\">0.00106361</td><td style=\"text-align: right;\">0.0116691  </td><td style=\"text-align: right;\">          4</td><td style=\"text-align: right;\">     6</td><td style=\"text-align: right;\">        1241.58 </td><td style=\"text-align: right;\">  0.2</td></tr>\n",
              "</tbody>\n",
              "</table><br><br>"
            ],
            "text/plain": [
              "<IPython.core.display.HTML object>"
            ]
          },
          "metadata": {
            "tags": []
          }
        },
        {
          "output_type": "stream",
          "text": [
            "\u001b[2m\u001b[36m(pid=387)\u001b[0m 2020-01-13 15:01:23,510\tINFO trainable.py:346 -- Restored from checkpoint: /root/ray_results/XGBoost_trainable/XGBoost_trainable_027d3ac0_2020-01-13_13-31-3318o5vqkv/tmpu5wjojmbrestore_from_object/checkpoint_7/model.pth\n",
            "\u001b[2m\u001b[36m(pid=387)\u001b[0m 2020-01-13 15:01:23,510\tINFO trainable.py:353 -- Current state after restoring: {'_iteration': 7, '_timesteps_total': None, '_time_total': 987.8247287273407, '_episodes_total': None}\n"
          ],
          "name": "stdout"
        },
        {
          "output_type": "stream",
          "text": [
            "2020-01-13 15:01:28,700\tINFO pbt.py:83 -- [explore] perturbed config from {'verbosity': 0, 'objective': 'multi:softprob', 'num_class': 5, 'booster': 'gbtree', 'eval_metric': 'merror', 'max_depth': 1, 'eta': 0.00587323670168573, 'gamma': 2.689480236959982e-07, 'grow_policy': 'lossguide'} -> {'verbosity': 0, 'objective': 'multi:softprob', 'num_class': 5, 'booster': 'gbtree', 'eval_metric': 'merror', 'max_depth': 0, 'eta': -1.7702362108142022, 'gamma': 3.227376284351978e-07, 'grow_policy': 'lossguide'}\n",
            "2020-01-13 15:01:28,706\tINFO pbt.py:315 -- [exploit] transferring weights from trial XGBoost_trainable_0373cc96 (score 0.2) -> XGBoost_trainable_02f9e0c0 (score 0.2)\n"
          ],
          "name": "stderr"
        },
        {
          "output_type": "stream",
          "text": [
            "Result for XGBoost_trainable_02f9e0c0:\n",
            "  date: 2020-01-13_15-01-28\n",
            "  done: false\n",
            "  experiment_id: cc8379e9a262436f84ca9a1bf757c9b8\n",
            "  experiment_tag: 1_eta=0.00056603,gamma=2.9078e-08,grow_policy=lossguide,max_depth=2@perturbed[eta=-1.7702,gamma=3.2274e-07,grow_policy=lossguide,max_depth=0]\n",
            "  hostname: 9991d65102f3\n",
            "  iterations_since_restore: 1\n",
            "  mean_accuracy: 0.2\n",
            "  node_ip: 172.28.0.2\n",
            "  pid: 519\n",
            "  time_since_restore: 176.3572998046875\n",
            "  time_this_iter_s: 176.3572998046875\n",
            "  time_total_s: 1078.1564671993256\n",
            "  timestamp: 1578927688\n",
            "  timesteps_since_restore: 0\n",
            "  training_iteration: 6\n",
            "  trial_id: 02f9e0c0\n",
            "  \n"
          ],
          "name": "stdout"
        },
        {
          "output_type": "display_data",
          "data": {
            "text/html": [
              "== Status ==<br>Memory usage on this node: 1.5/12.7 GiB<br>PopulationBasedTraining: 12 checkpoints, 34 perturbs<br>Resources requested: 1/2 CPUs, 0/0 GPUs, 0.0/6.1 GiB heap, 0.0/2.1 GiB objects<br>Result logdir: /root/ray_results/XGBoost_trainable<br>Number of trials: 4 (1 RUNNING, 3 PAUSED)<br><table>\n",
              "<thead>\n",
              "<tr><th>Trial name                </th><th>status  </th><th>loc  </th><th>grow_policy  </th><th style=\"text-align: right;\">        eta</th><th style=\"text-align: right;\">      gamma</th><th style=\"text-align: right;\">  max_depth</th><th style=\"text-align: right;\">  iter</th><th style=\"text-align: right;\">  total time (s)</th><th style=\"text-align: right;\">  acc</th></tr>\n",
              "</thead>\n",
              "<tbody>\n",
              "<tr><td>XGBoost_trainable_027d3ac0</td><td>RUNNING </td><td>     </td><td>lossguide    </td><td style=\"text-align: right;\"> 0.00704788</td><td style=\"text-align: right;\">2.15158e-07</td><td style=\"text-align: right;\">          0</td><td style=\"text-align: right;\">     7</td><td style=\"text-align: right;\">        1144.5  </td><td style=\"text-align: right;\">  0.2</td></tr>\n",
              "<tr><td>XGBoost_trainable_02f9e0c0</td><td>PAUSED  </td><td>     </td><td>depthwise    </td><td style=\"text-align: right;\">-2.43103   </td><td style=\"text-align: right;\">0.00933525 </td><td style=\"text-align: right;\">          4</td><td style=\"text-align: right;\">     6</td><td style=\"text-align: right;\">        1078.16 </td><td style=\"text-align: right;\">  0.2</td></tr>\n",
              "<tr><td>XGBoost_trainable_0373cc96</td><td>PAUSED  </td><td>     </td><td>lossguide    </td><td style=\"text-align: right;\"> 0.00587324</td><td style=\"text-align: right;\">2.68948e-07</td><td style=\"text-align: right;\">          1</td><td style=\"text-align: right;\">     7</td><td style=\"text-align: right;\">         987.825</td><td style=\"text-align: right;\">  0.2</td></tr>\n",
              "<tr><td>XGBoost_trainable_03b51f0c</td><td>PAUSED  </td><td>     </td><td>depthwise    </td><td style=\"text-align: right;\"> 0.00106361</td><td style=\"text-align: right;\">0.0116691  </td><td style=\"text-align: right;\">          4</td><td style=\"text-align: right;\">     6</td><td style=\"text-align: right;\">        1241.58 </td><td style=\"text-align: right;\">  0.2</td></tr>\n",
              "</tbody>\n",
              "</table><br><br>"
            ],
            "text/plain": [
              "<IPython.core.display.HTML object>"
            ]
          },
          "metadata": {
            "tags": []
          }
        },
        {
          "output_type": "stream",
          "text": [
            "\u001b[2m\u001b[36m(pid=519)\u001b[0m 2020-01-13 15:01:28,733\tINFO trainable.py:346 -- Restored from checkpoint: /root/ray_results/XGBoost_trainable/XGBoost_trainable_03b51f0c_2020-01-13_13-34-38nx0meozj/tmpcu_8hnc3restore_from_object/checkpoint_7/model.pth\n",
            "\u001b[2m\u001b[36m(pid=519)\u001b[0m 2020-01-13 15:01:28,733\tINFO trainable.py:353 -- Current state after restoring: {'_iteration': 7, '_timesteps_total': None, '_time_total': 987.8247287273407, '_episodes_total': None}\n",
            "\u001b[2m\u001b[36m(pid=519)\u001b[0m 2020-01-13 15:01:28,766\tINFO trainable.py:346 -- Restored from checkpoint: /root/ray_results/XGBoost_trainable/XGBoost_trainable_03b51f0c_2020-01-13_13-34-38nx0meozj/tmptu_z355rrestore_from_object/checkpoint_7/model.pth\n",
            "\u001b[2m\u001b[36m(pid=519)\u001b[0m 2020-01-13 15:01:28,766\tINFO trainable.py:353 -- Current state after restoring: {'_iteration': 7, '_timesteps_total': None, '_time_total': 987.8247287273407, '_episodes_total': None}\n"
          ],
          "name": "stdout"
        },
        {
          "output_type": "stream",
          "text": [
            "2020-01-13 15:04:28,565\tINFO pbt.py:83 -- [explore] perturbed config from {'verbosity': 0, 'objective': 'multi:softprob', 'num_class': 5, 'booster': 'gbtree', 'eval_metric': 'merror', 'max_depth': 1, 'eta': 0.00587323670168573, 'gamma': 2.689480236959982e-07, 'grow_policy': 'lossguide'} -> {'verbosity': 0, 'objective': 'multi:softprob', 'num_class': 5, 'booster': 'gbtree', 'eval_metric': 'merror', 'max_depth': 0, 'eta': 0.0070478840420228756, 'gamma': -2.757434283815818, 'grow_policy': 'depthwise'}\n",
            "2020-01-13 15:04:28,567\tINFO pbt.py:315 -- [exploit] transferring weights from trial XGBoost_trainable_0373cc96 (score 0.2) -> XGBoost_trainable_02f9e0c0 (score 0.2)\n"
          ],
          "name": "stderr"
        },
        {
          "output_type": "stream",
          "text": [
            "Result for XGBoost_trainable_02f9e0c0:\n",
            "  date: 2020-01-13_15-04-28\n",
            "  done: false\n",
            "  experiment_id: 7f6e26f2963b43d4b6f7c8b25c7e722a\n",
            "  experiment_tag: 1_eta=0.00056603,gamma=2.9078e-08,grow_policy=lossguide,max_depth=2@perturbed[eta=0.0070479,gamma=-2.7574,grow_policy=depthwise,max_depth=0]\n",
            "  hostname: 9991d65102f3\n",
            "  iterations_since_restore: 1\n",
            "  mean_accuracy: 0.2\n",
            "  node_ip: 172.28.0.2\n",
            "  pid: 519\n",
            "  time_since_restore: 179.7956862449646\n",
            "  time_this_iter_s: 179.7956862449646\n",
            "  time_total_s: 1167.6204149723053\n",
            "  timestamp: 1578927868\n",
            "  timesteps_since_restore: 0\n",
            "  training_iteration: 8\n",
            "  trial_id: 02f9e0c0\n",
            "  \n"
          ],
          "name": "stdout"
        },
        {
          "output_type": "display_data",
          "data": {
            "text/html": [
              "== Status ==<br>Memory usage on this node: 1.5/12.7 GiB<br>PopulationBasedTraining: 12 checkpoints, 35 perturbs<br>Resources requested: 1/2 CPUs, 0/0 GPUs, 0.0/6.1 GiB heap, 0.0/2.1 GiB objects<br>Result logdir: /root/ray_results/XGBoost_trainable<br>Number of trials: 4 (1 RUNNING, 3 PAUSED)<br><table>\n",
              "<thead>\n",
              "<tr><th>Trial name                </th><th>status  </th><th>loc  </th><th>grow_policy  </th><th style=\"text-align: right;\">        eta</th><th style=\"text-align: right;\">      gamma</th><th style=\"text-align: right;\">  max_depth</th><th style=\"text-align: right;\">  iter</th><th style=\"text-align: right;\">  total time (s)</th><th style=\"text-align: right;\">  acc</th></tr>\n",
              "</thead>\n",
              "<tbody>\n",
              "<tr><td>XGBoost_trainable_027d3ac0</td><td>RUNNING </td><td>     </td><td>lossguide    </td><td style=\"text-align: right;\"> 0.00704788</td><td style=\"text-align: right;\">2.15158e-07</td><td style=\"text-align: right;\">          0</td><td style=\"text-align: right;\">     7</td><td style=\"text-align: right;\">        1144.5  </td><td style=\"text-align: right;\">  0.2</td></tr>\n",
              "<tr><td>XGBoost_trainable_02f9e0c0</td><td>PAUSED  </td><td>     </td><td>lossguide    </td><td style=\"text-align: right;\">-1.77024   </td><td style=\"text-align: right;\">3.22738e-07</td><td style=\"text-align: right;\">          0</td><td style=\"text-align: right;\">     8</td><td style=\"text-align: right;\">        1167.62 </td><td style=\"text-align: right;\">  0.2</td></tr>\n",
              "<tr><td>XGBoost_trainable_0373cc96</td><td>PAUSED  </td><td>     </td><td>lossguide    </td><td style=\"text-align: right;\"> 0.00587324</td><td style=\"text-align: right;\">2.68948e-07</td><td style=\"text-align: right;\">          1</td><td style=\"text-align: right;\">     7</td><td style=\"text-align: right;\">         987.825</td><td style=\"text-align: right;\">  0.2</td></tr>\n",
              "<tr><td>XGBoost_trainable_03b51f0c</td><td>PAUSED  </td><td>     </td><td>depthwise    </td><td style=\"text-align: right;\"> 0.00106361</td><td style=\"text-align: right;\">0.0116691  </td><td style=\"text-align: right;\">          4</td><td style=\"text-align: right;\">     6</td><td style=\"text-align: right;\">        1241.58 </td><td style=\"text-align: right;\">  0.2</td></tr>\n",
              "</tbody>\n",
              "</table><br><br>"
            ],
            "text/plain": [
              "<IPython.core.display.HTML object>"
            ]
          },
          "metadata": {
            "tags": []
          }
        },
        {
          "output_type": "stream",
          "text": [
            "\u001b[2m\u001b[36m(pid=519)\u001b[0m 2020-01-13 15:04:28,579\tINFO trainable.py:346 -- Restored from checkpoint: /root/ray_results/XGBoost_trainable/XGBoost_trainable_03b51f0c_2020-01-13_13-34-38nx0meozj/tmpe0qjxcykrestore_from_object/checkpoint_7/model.pth\n",
            "\u001b[2m\u001b[36m(pid=519)\u001b[0m 2020-01-13 15:04:28,580\tINFO trainable.py:353 -- Current state after restoring: {'_iteration': 7, '_timesteps_total': None, '_time_total': 987.8247287273407, '_episodes_total': None}\n",
            "\u001b[2m\u001b[36m(pid=519)\u001b[0m 2020-01-13 15:04:28,621\tINFO trainable.py:346 -- Restored from checkpoint: /root/ray_results/XGBoost_trainable/XGBoost_trainable_03b51f0c_2020-01-13_13-34-38nx0meozj/tmp2ls_3z54restore_from_object/checkpoint_7/model.pth\n",
            "\u001b[2m\u001b[36m(pid=519)\u001b[0m 2020-01-13 15:04:28,622\tINFO trainable.py:353 -- Current state after restoring: {'_iteration': 7, '_timesteps_total': None, '_time_total': 987.8247287273407, '_episodes_total': None}\n"
          ],
          "name": "stdout"
        },
        {
          "output_type": "stream",
          "text": [
            "2020-01-13 15:07:03,129\tINFO pbt.py:83 -- [explore] perturbed config from {'verbosity': 0, 'objective': 'multi:softprob', 'num_class': 5, 'booster': 'gbtree', 'eval_metric': 'merror', 'max_depth': 1, 'eta': 0.00587323670168573, 'gamma': 2.689480236959982e-07, 'grow_policy': 'lossguide'} -> {'verbosity': 0, 'objective': 'multi:softprob', 'num_class': 5, 'booster': 'gbtree', 'eval_metric': 'merror', 'max_depth': 1, 'eta': 0.004698589361348584, 'gamma': 3.227376284351978e-07, 'grow_policy': 'lossguide'}\n",
            "2020-01-13 15:07:03,133\tINFO pbt.py:315 -- [exploit] transferring weights from trial XGBoost_trainable_0373cc96 (score 0.2) -> XGBoost_trainable_027d3ac0 (score 0.2)\n"
          ],
          "name": "stderr"
        },
        {
          "output_type": "stream",
          "text": [
            "Result for XGBoost_trainable_027d3ac0:\n",
            "  date: 2020-01-13_15-07-03\n",
            "  done: false\n",
            "  experiment_id: 7f6e26f2963b43d4b6f7c8b25c7e722a\n",
            "  experiment_tag: 0_eta=0.044127,gamma=0.010735,grow_policy=lossguide,max_depth=7@perturbed[eta=0.0046986,gamma=3.2274e-07,grow_policy=lossguide,max_depth=1]\n",
            "  hostname: 9991d65102f3\n",
            "  iterations_since_restore: 1\n",
            "  mean_accuracy: 0.2\n",
            "  node_ip: 172.28.0.2\n",
            "  pid: 387\n",
            "  time_since_restore: 339.61553955078125\n",
            "  time_this_iter_s: 339.61553955078125\n",
            "  time_total_s: 1327.440268278122\n",
            "  timestamp: 1578928023\n",
            "  timesteps_since_restore: 0\n",
            "  training_iteration: 8\n",
            "  trial_id: 027d3ac0\n",
            "  \n"
          ],
          "name": "stdout"
        },
        {
          "output_type": "display_data",
          "data": {
            "text/html": [
              "== Status ==<br>Memory usage on this node: 1.5/12.7 GiB<br>PopulationBasedTraining: 12 checkpoints, 36 perturbs<br>Resources requested: 1/2 CPUs, 0/0 GPUs, 0.0/6.1 GiB heap, 0.0/2.1 GiB objects<br>Result logdir: /root/ray_results/XGBoost_trainable<br>Number of trials: 4 (3 PAUSED, 1 RUNNING)<br><table>\n",
              "<thead>\n",
              "<tr><th>Trial name                </th><th>status  </th><th>loc  </th><th>grow_policy  </th><th style=\"text-align: right;\">        eta</th><th style=\"text-align: right;\">       gamma</th><th style=\"text-align: right;\">  max_depth</th><th style=\"text-align: right;\">  iter</th><th style=\"text-align: right;\">  total time (s)</th><th style=\"text-align: right;\">  acc</th></tr>\n",
              "</thead>\n",
              "<tbody>\n",
              "<tr><td>XGBoost_trainable_027d3ac0</td><td>PAUSED  </td><td>     </td><td>depthwise    </td><td style=\"text-align: right;\"> 0.00469859</td><td style=\"text-align: right;\">-3.43521    </td><td style=\"text-align: right;\">          0</td><td style=\"text-align: right;\">     8</td><td style=\"text-align: right;\">        1327.44 </td><td style=\"text-align: right;\">  0.2</td></tr>\n",
              "<tr><td>XGBoost_trainable_02f9e0c0</td><td>RUNNING </td><td>     </td><td>lossguide    </td><td style=\"text-align: right;\">-1.77024   </td><td style=\"text-align: right;\"> 3.22738e-07</td><td style=\"text-align: right;\">          0</td><td style=\"text-align: right;\">     8</td><td style=\"text-align: right;\">        1167.62 </td><td style=\"text-align: right;\">  0.2</td></tr>\n",
              "<tr><td>XGBoost_trainable_0373cc96</td><td>PAUSED  </td><td>     </td><td>lossguide    </td><td style=\"text-align: right;\"> 0.00587324</td><td style=\"text-align: right;\"> 2.68948e-07</td><td style=\"text-align: right;\">          1</td><td style=\"text-align: right;\">     7</td><td style=\"text-align: right;\">         987.825</td><td style=\"text-align: right;\">  0.2</td></tr>\n",
              "<tr><td>XGBoost_trainable_03b51f0c</td><td>PAUSED  </td><td>     </td><td>depthwise    </td><td style=\"text-align: right;\"> 0.00106361</td><td style=\"text-align: right;\"> 0.0116691  </td><td style=\"text-align: right;\">          4</td><td style=\"text-align: right;\">     6</td><td style=\"text-align: right;\">        1241.58 </td><td style=\"text-align: right;\">  0.2</td></tr>\n",
              "</tbody>\n",
              "</table><br><br>"
            ],
            "text/plain": [
              "<IPython.core.display.HTML object>"
            ]
          },
          "metadata": {
            "tags": []
          }
        },
        {
          "output_type": "stream",
          "text": [
            "\u001b[2m\u001b[36m(pid=387)\u001b[0m 2020-01-13 15:07:03,144\tINFO trainable.py:346 -- Restored from checkpoint: /root/ray_results/XGBoost_trainable/XGBoost_trainable_027d3ac0_2020-01-13_13-31-3318o5vqkv/tmpner6c6rprestore_from_object/checkpoint_7/model.pth\n",
            "\u001b[2m\u001b[36m(pid=387)\u001b[0m 2020-01-13 15:07:03,144\tINFO trainable.py:353 -- Current state after restoring: {'_iteration': 7, '_timesteps_total': None, '_time_total': 987.8247287273407, '_episodes_total': None}\n",
            "\u001b[2m\u001b[36m(pid=387)\u001b[0m 2020-01-13 15:07:03,173\tINFO trainable.py:346 -- Restored from checkpoint: /root/ray_results/XGBoost_trainable/XGBoost_trainable_027d3ac0_2020-01-13_13-31-3318o5vqkv/tmpew4e0ll4restore_from_object/checkpoint_7/model.pth\n",
            "\u001b[2m\u001b[36m(pid=387)\u001b[0m 2020-01-13 15:07:03,174\tINFO trainable.py:353 -- Current state after restoring: {'_iteration': 7, '_timesteps_total': None, '_time_total': 987.8247287273407, '_episodes_total': None}\n"
          ],
          "name": "stdout"
        },
        {
          "output_type": "stream",
          "text": [
            "2020-01-13 15:07:27,650\tINFO pbt.py:83 -- [explore] perturbed config from {'verbosity': 0, 'objective': 'multi:softprob', 'num_class': 5, 'booster': 'gbtree', 'eval_metric': 'merror', 'max_depth': 4, 'eta': 0.0010636121226518637, 'gamma': 0.011669058550942432, 'grow_policy': 'depthwise'} -> {'verbosity': 0, 'objective': 'multi:softprob', 'num_class': 5, 'booster': 'gbtree', 'eval_metric': 'merror', 'max_depth': 3, 'eta': 0.0012763345471822364, 'gamma': 0.009335246840753946, 'grow_policy': 'lossguide'}\n",
            "2020-01-13 15:07:27,654\tINFO pbt.py:315 -- [exploit] transferring weights from trial XGBoost_trainable_03b51f0c (score 0.2) -> XGBoost_trainable_02f9e0c0 (score 0.2)\n"
          ],
          "name": "stderr"
        },
        {
          "output_type": "stream",
          "text": [
            "Result for XGBoost_trainable_02f9e0c0:\n",
            "  date: 2020-01-13_15-07-27\n",
            "  done: false\n",
            "  experiment_id: 7f6e26f2963b43d4b6f7c8b25c7e722a\n",
            "  experiment_tag: 1_eta=0.00056603,gamma=2.9078e-08,grow_policy=lossguide,max_depth=2@perturbed[eta=0.0012763,gamma=0.0093352,grow_policy=lossguide,max_depth=3]\n",
            "  hostname: 9991d65102f3\n",
            "  iterations_since_restore: 1\n",
            "  mean_accuracy: 0.2\n",
            "  node_ip: 172.28.0.2\n",
            "  pid: 519\n",
            "  time_since_restore: 179.02554607391357\n",
            "  time_this_iter_s: 179.02554607391357\n",
            "  time_total_s: 1166.8502748012543\n",
            "  timestamp: 1578928047\n",
            "  timesteps_since_restore: 0\n",
            "  training_iteration: 8\n",
            "  trial_id: 02f9e0c0\n",
            "  \n"
          ],
          "name": "stdout"
        },
        {
          "output_type": "display_data",
          "data": {
            "text/html": [
              "== Status ==<br>Memory usage on this node: 1.5/12.7 GiB<br>PopulationBasedTraining: 12 checkpoints, 37 perturbs<br>Resources requested: 1/2 CPUs, 0/0 GPUs, 0.0/6.1 GiB heap, 0.0/2.1 GiB objects<br>Result logdir: /root/ray_results/XGBoost_trainable<br>Number of trials: 4 (1 RUNNING, 3 PAUSED)<br><table>\n",
              "<thead>\n",
              "<tr><th>Trial name                </th><th>status  </th><th>loc  </th><th>grow_policy  </th><th style=\"text-align: right;\">       eta</th><th style=\"text-align: right;\">       gamma</th><th style=\"text-align: right;\">  max_depth</th><th style=\"text-align: right;\">  iter</th><th style=\"text-align: right;\">  total time (s)</th><th style=\"text-align: right;\">  acc</th></tr>\n",
              "</thead>\n",
              "<tbody>\n",
              "<tr><td>XGBoost_trainable_027d3ac0</td><td>RUNNING </td><td>     </td><td>depthwise    </td><td style=\"text-align: right;\">0.00469859</td><td style=\"text-align: right;\">-3.43521    </td><td style=\"text-align: right;\">          0</td><td style=\"text-align: right;\">     8</td><td style=\"text-align: right;\">        1327.44 </td><td style=\"text-align: right;\">  0.2</td></tr>\n",
              "<tr><td>XGBoost_trainable_02f9e0c0</td><td>PAUSED  </td><td>     </td><td>depthwise    </td><td style=\"text-align: right;\">0.00704788</td><td style=\"text-align: right;\">-2.75743    </td><td style=\"text-align: right;\">          0</td><td style=\"text-align: right;\">     8</td><td style=\"text-align: right;\">        1166.85 </td><td style=\"text-align: right;\">  0.2</td></tr>\n",
              "<tr><td>XGBoost_trainable_0373cc96</td><td>PAUSED  </td><td>     </td><td>lossguide    </td><td style=\"text-align: right;\">0.00587324</td><td style=\"text-align: right;\"> 2.68948e-07</td><td style=\"text-align: right;\">          1</td><td style=\"text-align: right;\">     7</td><td style=\"text-align: right;\">         987.825</td><td style=\"text-align: right;\">  0.2</td></tr>\n",
              "<tr><td>XGBoost_trainable_03b51f0c</td><td>PAUSED  </td><td>     </td><td>depthwise    </td><td style=\"text-align: right;\">0.00106361</td><td style=\"text-align: right;\"> 0.0116691  </td><td style=\"text-align: right;\">          4</td><td style=\"text-align: right;\">     6</td><td style=\"text-align: right;\">        1241.58 </td><td style=\"text-align: right;\">  0.2</td></tr>\n",
              "</tbody>\n",
              "</table><br><br>"
            ],
            "text/plain": [
              "<IPython.core.display.HTML object>"
            ]
          },
          "metadata": {
            "tags": []
          }
        },
        {
          "output_type": "stream",
          "text": [
            "\u001b[2m\u001b[36m(pid=519)\u001b[0m 2020-01-13 15:07:27,701\tINFO trainable.py:346 -- Restored from checkpoint: /root/ray_results/XGBoost_trainable/XGBoost_trainable_03b51f0c_2020-01-13_13-34-38nx0meozj/tmpl07_cw4urestore_from_object/checkpoint_6/model.pth\n",
            "\u001b[2m\u001b[36m(pid=519)\u001b[0m 2020-01-13 15:07:27,702\tINFO trainable.py:353 -- Current state after restoring: {'_iteration': 6, '_timesteps_total': None, '_time_total': 1241.5818898677826, '_episodes_total': None}\n",
            "\u001b[2m\u001b[36m(pid=519)\u001b[0m 2020-01-13 15:07:27,737\tINFO trainable.py:346 -- Restored from checkpoint: /root/ray_results/XGBoost_trainable/XGBoost_trainable_03b51f0c_2020-01-13_13-34-38nx0meozj/tmpoiuinm8arestore_from_object/checkpoint_7/model.pth\n",
            "\u001b[2m\u001b[36m(pid=519)\u001b[0m 2020-01-13 15:07:27,737\tINFO trainable.py:353 -- Current state after restoring: {'_iteration': 7, '_timesteps_total': None, '_time_total': 987.8247287273407, '_episodes_total': None}\n",
            "Result for XGBoost_trainable_0373cc96:\n",
            "  date: 2020-01-13_15-10-27\n",
            "  done: false\n",
            "  experiment_id: 7f6e26f2963b43d4b6f7c8b25c7e722a\n",
            "  experiment_tag: 2_eta=0.0058732,gamma=2.6895e-07,grow_policy=lossguide,max_depth=1\n",
            "  hostname: 9991d65102f3\n",
            "  iterations_since_restore: 1\n",
            "  mean_accuracy: 0.2\n",
            "  node_ip: 172.28.0.2\n",
            "  pid: 519\n",
            "  time_since_restore: 180.04879760742188\n",
            "  time_this_iter_s: 180.04879760742188\n",
            "  time_total_s: 1167.8735263347626\n",
            "  timestamp: 1578928227\n",
            "  timesteps_since_restore: 0\n",
            "  training_iteration: 8\n",
            "  trial_id: 0373cc96\n",
            "  \n"
          ],
          "name": "stdout"
        },
        {
          "output_type": "display_data",
          "data": {
            "text/html": [
              "== Status ==<br>Memory usage on this node: 1.5/12.7 GiB<br>PopulationBasedTraining: 13 checkpoints, 37 perturbs<br>Resources requested: 1/2 CPUs, 0/0 GPUs, 0.0/6.1 GiB heap, 0.0/2.1 GiB objects<br>Result logdir: /root/ray_results/XGBoost_trainable<br>Number of trials: 4 (1 RUNNING, 3 PAUSED)<br><table>\n",
              "<thead>\n",
              "<tr><th>Trial name                </th><th>status  </th><th>loc  </th><th>grow_policy  </th><th style=\"text-align: right;\">       eta</th><th style=\"text-align: right;\">       gamma</th><th style=\"text-align: right;\">  max_depth</th><th style=\"text-align: right;\">  iter</th><th style=\"text-align: right;\">  total time (s)</th><th style=\"text-align: right;\">  acc</th></tr>\n",
              "</thead>\n",
              "<tbody>\n",
              "<tr><td>XGBoost_trainable_027d3ac0</td><td>RUNNING </td><td>     </td><td>depthwise    </td><td style=\"text-align: right;\">0.00469859</td><td style=\"text-align: right;\">-3.43521    </td><td style=\"text-align: right;\">          0</td><td style=\"text-align: right;\">     8</td><td style=\"text-align: right;\">         1327.44</td><td style=\"text-align: right;\">  0.2</td></tr>\n",
              "<tr><td>XGBoost_trainable_02f9e0c0</td><td>PAUSED  </td><td>     </td><td>depthwise    </td><td style=\"text-align: right;\">0.00704788</td><td style=\"text-align: right;\">-2.75743    </td><td style=\"text-align: right;\">          0</td><td style=\"text-align: right;\">     8</td><td style=\"text-align: right;\">         1166.85</td><td style=\"text-align: right;\">  0.2</td></tr>\n",
              "<tr><td>XGBoost_trainable_0373cc96</td><td>PAUSED  </td><td>     </td><td>lossguide    </td><td style=\"text-align: right;\">0.00587324</td><td style=\"text-align: right;\"> 2.68948e-07</td><td style=\"text-align: right;\">          1</td><td style=\"text-align: right;\">     8</td><td style=\"text-align: right;\">         1167.87</td><td style=\"text-align: right;\">  0.2</td></tr>\n",
              "<tr><td>XGBoost_trainable_03b51f0c</td><td>PAUSED  </td><td>     </td><td>depthwise    </td><td style=\"text-align: right;\">0.00106361</td><td style=\"text-align: right;\"> 0.0116691  </td><td style=\"text-align: right;\">          4</td><td style=\"text-align: right;\">     6</td><td style=\"text-align: right;\">         1241.58</td><td style=\"text-align: right;\">  0.2</td></tr>\n",
              "</tbody>\n",
              "</table><br><br>"
            ],
            "text/plain": [
              "<IPython.core.display.HTML object>"
            ]
          },
          "metadata": {
            "tags": []
          }
        },
        {
          "output_type": "stream",
          "text": [
            "\u001b[2m\u001b[36m(pid=519)\u001b[0m 2020-01-13 15:10:27,835\tINFO trainable.py:346 -- Restored from checkpoint: /root/ray_results/XGBoost_trainable/XGBoost_trainable_03b51f0c_2020-01-13_13-34-38nx0meozj/tmpubvfh87brestore_from_object/checkpoint_8/model.pth\n",
            "\u001b[2m\u001b[36m(pid=519)\u001b[0m 2020-01-13 15:10:27,835\tINFO trainable.py:353 -- Current state after restoring: {'_iteration': 8, '_timesteps_total': None, '_time_total': 1167.8735263347626, '_episodes_total': None}\n"
          ],
          "name": "stdout"
        },
        {
          "output_type": "stream",
          "text": [
            "2020-01-13 15:12:41,584\tINFO pbt.py:83 -- [explore] perturbed config from {'verbosity': 0, 'objective': 'multi:softprob', 'num_class': 5, 'booster': 'gbtree', 'eval_metric': 'merror', 'max_depth': 1, 'eta': 0.00587323670168573, 'gamma': 2.689480236959982e-07, 'grow_policy': 'lossguide'} -> {'verbosity': 0, 'objective': 'multi:softprob', 'num_class': 5, 'booster': 'gbtree', 'eval_metric': 'merror', 'max_depth': 0, 'eta': 0.0070478840420228756, 'gamma': -6.97204932417225, 'grow_policy': 'depthwise'}\n",
            "2020-01-13 15:12:41,587\tINFO pbt.py:315 -- [exploit] transferring weights from trial XGBoost_trainable_0373cc96 (score 0.2) -> XGBoost_trainable_027d3ac0 (score 0.2)\n"
          ],
          "name": "stderr"
        },
        {
          "output_type": "stream",
          "text": [
            "Result for XGBoost_trainable_027d3ac0:\n",
            "  date: 2020-01-13_15-12-41\n",
            "  done: false\n",
            "  experiment_id: 7f6e26f2963b43d4b6f7c8b25c7e722a\n",
            "  experiment_tag: 0_eta=0.044127,gamma=0.010735,grow_policy=lossguide,max_depth=7@perturbed[eta=0.0070479,gamma=-6.972,grow_policy=depthwise,max_depth=0]\n",
            "  hostname: 9991d65102f3\n",
            "  iterations_since_restore: 1\n",
            "  mean_accuracy: 0.2\n",
            "  node_ip: 172.28.0.2\n",
            "  pid: 387\n",
            "  time_since_restore: 338.4074728488922\n",
            "  time_this_iter_s: 338.4074728488922\n",
            "  time_total_s: 1326.232201576233\n",
            "  timestamp: 1578928361\n",
            "  timesteps_since_restore: 0\n",
            "  training_iteration: 8\n",
            "  trial_id: 027d3ac0\n",
            "  \n",
            "\u001b[2m\u001b[36m(pid=387)\u001b[0m 2020-01-13 15:12:41,604\tINFO trainable.py:346 -- Restored from checkpoint: /root/ray_results/XGBoost_trainable/XGBoost_trainable_027d3ac0_2020-01-13_13-31-3318o5vqkv/tmphgpixwusrestore_from_object/checkpoint_8/model.pth\n",
            "\u001b[2m\u001b[36m(pid=387)\u001b[0m 2020-01-13 15:12:41,604\tINFO trainable.py:353 -- Current state after restoring: {'_iteration': 8, '_timesteps_total': None, '_time_total': 1167.8735263347626, '_episodes_total': None}\n"
          ],
          "name": "stdout"
        },
        {
          "output_type": "display_data",
          "data": {
            "text/html": [
              "== Status ==<br>Memory usage on this node: 1.5/12.7 GiB<br>PopulationBasedTraining: 13 checkpoints, 38 perturbs<br>Resources requested: 1/2 CPUs, 0/0 GPUs, 0.0/6.1 GiB heap, 0.0/2.1 GiB objects<br>Result logdir: /root/ray_results/XGBoost_trainable<br>Number of trials: 4 (3 PAUSED, 1 RUNNING)<br><table>\n",
              "<thead>\n",
              "<tr><th>Trial name                </th><th>status  </th><th>loc  </th><th>grow_policy  </th><th style=\"text-align: right;\">       eta</th><th style=\"text-align: right;\">       gamma</th><th style=\"text-align: right;\">  max_depth</th><th style=\"text-align: right;\">  iter</th><th style=\"text-align: right;\">  total time (s)</th><th style=\"text-align: right;\">  acc</th></tr>\n",
              "</thead>\n",
              "<tbody>\n",
              "<tr><td>XGBoost_trainable_027d3ac0</td><td>PAUSED  </td><td>     </td><td>lossguide    </td><td style=\"text-align: right;\">0.00469859</td><td style=\"text-align: right;\"> 3.22738e-07</td><td style=\"text-align: right;\">          1</td><td style=\"text-align: right;\">     8</td><td style=\"text-align: right;\">         1326.23</td><td style=\"text-align: right;\">  0.2</td></tr>\n",
              "<tr><td>XGBoost_trainable_02f9e0c0</td><td>PAUSED  </td><td>     </td><td>depthwise    </td><td style=\"text-align: right;\">0.00704788</td><td style=\"text-align: right;\">-2.75743    </td><td style=\"text-align: right;\">          0</td><td style=\"text-align: right;\">     8</td><td style=\"text-align: right;\">         1166.85</td><td style=\"text-align: right;\">  0.2</td></tr>\n",
              "<tr><td>XGBoost_trainable_0373cc96</td><td>RUNNING </td><td>     </td><td>lossguide    </td><td style=\"text-align: right;\">0.00587324</td><td style=\"text-align: right;\"> 2.68948e-07</td><td style=\"text-align: right;\">          1</td><td style=\"text-align: right;\">     8</td><td style=\"text-align: right;\">         1167.87</td><td style=\"text-align: right;\">  0.2</td></tr>\n",
              "<tr><td>XGBoost_trainable_03b51f0c</td><td>PAUSED  </td><td>     </td><td>depthwise    </td><td style=\"text-align: right;\">0.00106361</td><td style=\"text-align: right;\"> 0.0116691  </td><td style=\"text-align: right;\">          4</td><td style=\"text-align: right;\">     6</td><td style=\"text-align: right;\">         1241.58</td><td style=\"text-align: right;\">  0.2</td></tr>\n",
              "</tbody>\n",
              "</table><br><br>"
            ],
            "text/plain": [
              "<IPython.core.display.HTML object>"
            ]
          },
          "metadata": {
            "tags": []
          }
        },
        {
          "output_type": "stream",
          "text": [
            "\u001b[2m\u001b[36m(pid=387)\u001b[0m 2020-01-13 15:12:41,640\tINFO trainable.py:346 -- Restored from checkpoint: /root/ray_results/XGBoost_trainable/XGBoost_trainable_027d3ac0_2020-01-13_13-31-3318o5vqkv/tmpsc58cdkmrestore_from_object/checkpoint_8/model.pth\n",
            "\u001b[2m\u001b[36m(pid=387)\u001b[0m 2020-01-13 15:12:41,641\tINFO trainable.py:353 -- Current state after restoring: {'_iteration': 8, '_timesteps_total': None, '_time_total': 1167.8735263347626, '_episodes_total': None}\n",
            "Result for XGBoost_trainable_0373cc96:\n",
            "  date: 2020-01-13_15-13-29\n",
            "  done: false\n",
            "  experiment_id: 7f6e26f2963b43d4b6f7c8b25c7e722a\n",
            "  experiment_tag: 2_eta=0.0058732,gamma=2.6895e-07,grow_policy=lossguide,max_depth=1\n",
            "  hostname: 9991d65102f3\n",
            "  iterations_since_restore: 1\n",
            "  mean_accuracy: 0.2\n",
            "  node_ip: 172.28.0.2\n",
            "  pid: 519\n",
            "  time_since_restore: 181.2055275440216\n",
            "  time_this_iter_s: 181.2055275440216\n",
            "  time_total_s: 1349.0790538787842\n",
            "  timestamp: 1578928409\n",
            "  timesteps_since_restore: 0\n",
            "  training_iteration: 9\n",
            "  trial_id: 0373cc96\n",
            "  \n"
          ],
          "name": "stdout"
        },
        {
          "output_type": "display_data",
          "data": {
            "text/html": [
              "== Status ==<br>Memory usage on this node: 1.5/12.7 GiB<br>PopulationBasedTraining: 14 checkpoints, 38 perturbs<br>Resources requested: 1/2 CPUs, 0/0 GPUs, 0.0/6.1 GiB heap, 0.0/2.1 GiB objects<br>Result logdir: /root/ray_results/XGBoost_trainable<br>Number of trials: 4 (1 RUNNING, 3 PAUSED)<br><table>\n",
              "<thead>\n",
              "<tr><th>Trial name                </th><th>status  </th><th>loc  </th><th>grow_policy  </th><th style=\"text-align: right;\">       eta</th><th style=\"text-align: right;\">       gamma</th><th style=\"text-align: right;\">  max_depth</th><th style=\"text-align: right;\">  iter</th><th style=\"text-align: right;\">  total time (s)</th><th style=\"text-align: right;\">  acc</th></tr>\n",
              "</thead>\n",
              "<tbody>\n",
              "<tr><td>XGBoost_trainable_027d3ac0</td><td>RUNNING </td><td>     </td><td>lossguide    </td><td style=\"text-align: right;\">0.00469859</td><td style=\"text-align: right;\"> 3.22738e-07</td><td style=\"text-align: right;\">          1</td><td style=\"text-align: right;\">     8</td><td style=\"text-align: right;\">         1326.23</td><td style=\"text-align: right;\">  0.2</td></tr>\n",
              "<tr><td>XGBoost_trainable_02f9e0c0</td><td>PAUSED  </td><td>     </td><td>depthwise    </td><td style=\"text-align: right;\">0.00704788</td><td style=\"text-align: right;\">-2.75743    </td><td style=\"text-align: right;\">          0</td><td style=\"text-align: right;\">     8</td><td style=\"text-align: right;\">         1166.85</td><td style=\"text-align: right;\">  0.2</td></tr>\n",
              "<tr><td>XGBoost_trainable_0373cc96</td><td>PAUSED  </td><td>     </td><td>lossguide    </td><td style=\"text-align: right;\">0.00587324</td><td style=\"text-align: right;\"> 2.68948e-07</td><td style=\"text-align: right;\">          1</td><td style=\"text-align: right;\">     9</td><td style=\"text-align: right;\">         1349.08</td><td style=\"text-align: right;\">  0.2</td></tr>\n",
              "<tr><td>XGBoost_trainable_03b51f0c</td><td>PAUSED  </td><td>     </td><td>depthwise    </td><td style=\"text-align: right;\">0.00106361</td><td style=\"text-align: right;\"> 0.0116691  </td><td style=\"text-align: right;\">          4</td><td style=\"text-align: right;\">     6</td><td style=\"text-align: right;\">         1241.58</td><td style=\"text-align: right;\">  0.2</td></tr>\n",
              "</tbody>\n",
              "</table><br><br>"
            ],
            "text/plain": [
              "<IPython.core.display.HTML object>"
            ]
          },
          "metadata": {
            "tags": []
          }
        },
        {
          "output_type": "stream",
          "text": [
            "\u001b[2m\u001b[36m(pid=519)\u001b[0m 2020-01-13 15:13:29,099\tINFO trainable.py:346 -- Restored from checkpoint: /root/ray_results/XGBoost_trainable/XGBoost_trainable_03b51f0c_2020-01-13_13-34-38nx0meozj/tmpanjw506srestore_from_object/checkpoint_6/model.pth\n",
            "\u001b[2m\u001b[36m(pid=519)\u001b[0m 2020-01-13 15:13:29,099\tINFO trainable.py:353 -- Current state after restoring: {'_iteration': 6, '_timesteps_total': None, '_time_total': 1241.5818898677826, '_episodes_total': None}\n"
          ],
          "name": "stdout"
        },
        {
          "output_type": "stream",
          "text": [
            "2020-01-13 15:16:29,432\tINFO pbt.py:83 -- [explore] perturbed config from {'verbosity': 0, 'objective': 'multi:softprob', 'num_class': 5, 'booster': 'gbtree', 'eval_metric': 'merror', 'max_depth': 4, 'eta': 0.0010636121226518637, 'gamma': 0.011669058550942432, 'grow_policy': 'depthwise'} -> {'verbosity': 0, 'objective': 'multi:softprob', 'num_class': 5, 'booster': 'gbtree', 'eval_metric': 'merror', 'max_depth': 4, 'eta': 0.000850889698121491, 'gamma': 0.014002870261130918, 'grow_policy': 'depthwise'}\n",
            "2020-01-13 15:16:29,439\tINFO pbt.py:315 -- [exploit] transferring weights from trial XGBoost_trainable_03b51f0c (score 0.2) -> XGBoost_trainable_02f9e0c0 (score 0.2)\n"
          ],
          "name": "stderr"
        },
        {
          "output_type": "stream",
          "text": [
            "Result for XGBoost_trainable_02f9e0c0:\n",
            "  date: 2020-01-13_15-16-29\n",
            "  done: false\n",
            "  experiment_id: cc8379e9a262436f84ca9a1bf757c9b8\n",
            "  experiment_tag: 1_eta=0.00056603,gamma=2.9078e-08,grow_policy=lossguide,max_depth=2@perturbed[eta=0.00085089,gamma=0.014003,grow_policy=depthwise,max_depth=4]\n",
            "  hostname: 9991d65102f3\n",
            "  iterations_since_restore: 1\n",
            "  mean_accuracy: 0.2\n",
            "  node_ip: 172.28.0.2\n",
            "  pid: 519\n",
            "  time_since_restore: 180.3283553123474\n",
            "  time_this_iter_s: 180.3283553123474\n",
            "  time_total_s: 1421.91024518013\n",
            "  timestamp: 1578928589\n",
            "  timesteps_since_restore: 0\n",
            "  training_iteration: 7\n",
            "  trial_id: 02f9e0c0\n",
            "  \n"
          ],
          "name": "stdout"
        },
        {
          "output_type": "display_data",
          "data": {
            "text/html": [
              "== Status ==<br>Memory usage on this node: 1.5/12.7 GiB<br>PopulationBasedTraining: 14 checkpoints, 39 perturbs<br>Resources requested: 1/2 CPUs, 0/0 GPUs, 0.0/6.1 GiB heap, 0.0/2.1 GiB objects<br>Result logdir: /root/ray_results/XGBoost_trainable<br>Number of trials: 4 (1 RUNNING, 3 PAUSED)<br><table>\n",
              "<thead>\n",
              "<tr><th>Trial name                </th><th>status  </th><th>loc  </th><th>grow_policy  </th><th style=\"text-align: right;\">       eta</th><th style=\"text-align: right;\">      gamma</th><th style=\"text-align: right;\">  max_depth</th><th style=\"text-align: right;\">  iter</th><th style=\"text-align: right;\">  total time (s)</th><th style=\"text-align: right;\">  acc</th></tr>\n",
              "</thead>\n",
              "<tbody>\n",
              "<tr><td>XGBoost_trainable_027d3ac0</td><td>RUNNING </td><td>     </td><td>lossguide    </td><td style=\"text-align: right;\">0.00469859</td><td style=\"text-align: right;\">3.22738e-07</td><td style=\"text-align: right;\">          1</td><td style=\"text-align: right;\">     8</td><td style=\"text-align: right;\">         1326.23</td><td style=\"text-align: right;\">  0.2</td></tr>\n",
              "<tr><td>XGBoost_trainable_02f9e0c0</td><td>PAUSED  </td><td>     </td><td>lossguide    </td><td style=\"text-align: right;\">0.00127633</td><td style=\"text-align: right;\">0.00933525 </td><td style=\"text-align: right;\">          3</td><td style=\"text-align: right;\">     7</td><td style=\"text-align: right;\">         1421.91</td><td style=\"text-align: right;\">  0.2</td></tr>\n",
              "<tr><td>XGBoost_trainable_0373cc96</td><td>PAUSED  </td><td>     </td><td>lossguide    </td><td style=\"text-align: right;\">0.00587324</td><td style=\"text-align: right;\">2.68948e-07</td><td style=\"text-align: right;\">          1</td><td style=\"text-align: right;\">     9</td><td style=\"text-align: right;\">         1349.08</td><td style=\"text-align: right;\">  0.2</td></tr>\n",
              "<tr><td>XGBoost_trainable_03b51f0c</td><td>PAUSED  </td><td>     </td><td>depthwise    </td><td style=\"text-align: right;\">0.00106361</td><td style=\"text-align: right;\">0.0116691  </td><td style=\"text-align: right;\">          4</td><td style=\"text-align: right;\">     6</td><td style=\"text-align: right;\">         1241.58</td><td style=\"text-align: right;\">  0.2</td></tr>\n",
              "</tbody>\n",
              "</table><br><br>"
            ],
            "text/plain": [
              "<IPython.core.display.HTML object>"
            ]
          },
          "metadata": {
            "tags": []
          }
        },
        {
          "output_type": "stream",
          "text": [
            "\u001b[2m\u001b[36m(pid=519)\u001b[0m 2020-01-13 15:16:29,484\tINFO trainable.py:346 -- Restored from checkpoint: /root/ray_results/XGBoost_trainable/XGBoost_trainable_03b51f0c_2020-01-13_13-34-38nx0meozj/tmpri6mufelrestore_from_object/checkpoint_6/model.pth\n",
            "\u001b[2m\u001b[36m(pid=519)\u001b[0m 2020-01-13 15:16:29,484\tINFO trainable.py:353 -- Current state after restoring: {'_iteration': 6, '_timesteps_total': None, '_time_total': 1241.5818898677826, '_episodes_total': None}\n",
            "\u001b[2m\u001b[36m(pid=519)\u001b[0m 2020-01-13 15:16:29,524\tINFO trainable.py:346 -- Restored from checkpoint: /root/ray_results/XGBoost_trainable/XGBoost_trainable_03b51f0c_2020-01-13_13-34-38nx0meozj/tmpgd_vc1qmrestore_from_object/checkpoint_6/model.pth\n",
            "\u001b[2m\u001b[36m(pid=519)\u001b[0m 2020-01-13 15:16:29,524\tINFO trainable.py:353 -- Current state after restoring: {'_iteration': 6, '_timesteps_total': None, '_time_total': 1241.5818898677826, '_episodes_total': None}\n"
          ],
          "name": "stdout"
        },
        {
          "output_type": "stream",
          "text": [
            "2020-01-13 15:18:20,645\tINFO pbt.py:83 -- [explore] perturbed config from {'verbosity': 0, 'objective': 'multi:softprob', 'num_class': 5, 'booster': 'gbtree', 'eval_metric': 'merror', 'max_depth': 1, 'eta': 0.00587323670168573, 'gamma': 2.689480236959982e-07, 'grow_policy': 'lossguide'} -> {'verbosity': 0, 'objective': 'multi:softprob', 'num_class': 5, 'booster': 'gbtree', 'eval_metric': 'merror', 'max_depth': 0, 'eta': 0.0070478840420228756, 'gamma': -1.4617833215538054, 'grow_policy': 'lossguide'}\n",
            "2020-01-13 15:18:20,648\tINFO pbt.py:315 -- [exploit] transferring weights from trial XGBoost_trainable_0373cc96 (score 0.2) -> XGBoost_trainable_027d3ac0 (score 0.2)\n"
          ],
          "name": "stderr"
        },
        {
          "output_type": "stream",
          "text": [
            "Result for XGBoost_trainable_027d3ac0:\n",
            "  date: 2020-01-13_15-18-20\n",
            "  done: false\n",
            "  experiment_id: 7f6e26f2963b43d4b6f7c8b25c7e722a\n",
            "  experiment_tag: 0_eta=0.044127,gamma=0.010735,grow_policy=lossguide,max_depth=7@perturbed[eta=0.0070479,gamma=-1.4618,grow_policy=lossguide,max_depth=0]\n",
            "  hostname: 9991d65102f3\n",
            "  iterations_since_restore: 1\n",
            "  mean_accuracy: 0.2\n",
            "  node_ip: 172.28.0.2\n",
            "  pid: 387\n",
            "  time_since_restore: 339.0014452934265\n",
            "  time_this_iter_s: 339.0014452934265\n",
            "  time_total_s: 1506.874971628189\n",
            "  timestamp: 1578928700\n",
            "  timesteps_since_restore: 0\n",
            "  training_iteration: 9\n",
            "  trial_id: 027d3ac0\n",
            "  \n"
          ],
          "name": "stdout"
        },
        {
          "output_type": "display_data",
          "data": {
            "text/html": [
              "== Status ==<br>Memory usage on this node: 1.5/12.7 GiB<br>PopulationBasedTraining: 14 checkpoints, 40 perturbs<br>Resources requested: 1/2 CPUs, 0/0 GPUs, 0.0/6.1 GiB heap, 0.0/2.1 GiB objects<br>Result logdir: /root/ray_results/XGBoost_trainable<br>Number of trials: 4 (3 PAUSED, 1 RUNNING)<br><table>\n",
              "<thead>\n",
              "<tr><th>Trial name                </th><th>status  </th><th>loc  </th><th>grow_policy  </th><th style=\"text-align: right;\">       eta</th><th style=\"text-align: right;\">       gamma</th><th style=\"text-align: right;\">  max_depth</th><th style=\"text-align: right;\">  iter</th><th style=\"text-align: right;\">  total time (s)</th><th style=\"text-align: right;\">  acc</th></tr>\n",
              "</thead>\n",
              "<tbody>\n",
              "<tr><td>XGBoost_trainable_027d3ac0</td><td>PAUSED  </td><td>     </td><td>depthwise    </td><td style=\"text-align: right;\">0.00704788</td><td style=\"text-align: right;\">-6.97205    </td><td style=\"text-align: right;\">          0</td><td style=\"text-align: right;\">     9</td><td style=\"text-align: right;\">         1506.87</td><td style=\"text-align: right;\">  0.2</td></tr>\n",
              "<tr><td>XGBoost_trainable_02f9e0c0</td><td>RUNNING </td><td>     </td><td>lossguide    </td><td style=\"text-align: right;\">0.00127633</td><td style=\"text-align: right;\"> 0.00933525 </td><td style=\"text-align: right;\">          3</td><td style=\"text-align: right;\">     7</td><td style=\"text-align: right;\">         1421.91</td><td style=\"text-align: right;\">  0.2</td></tr>\n",
              "<tr><td>XGBoost_trainable_0373cc96</td><td>PAUSED  </td><td>     </td><td>lossguide    </td><td style=\"text-align: right;\">0.00587324</td><td style=\"text-align: right;\"> 2.68948e-07</td><td style=\"text-align: right;\">          1</td><td style=\"text-align: right;\">     9</td><td style=\"text-align: right;\">         1349.08</td><td style=\"text-align: right;\">  0.2</td></tr>\n",
              "<tr><td>XGBoost_trainable_03b51f0c</td><td>PAUSED  </td><td>     </td><td>depthwise    </td><td style=\"text-align: right;\">0.00106361</td><td style=\"text-align: right;\"> 0.0116691  </td><td style=\"text-align: right;\">          4</td><td style=\"text-align: right;\">     6</td><td style=\"text-align: right;\">         1241.58</td><td style=\"text-align: right;\">  0.2</td></tr>\n",
              "</tbody>\n",
              "</table><br><br>"
            ],
            "text/plain": [
              "<IPython.core.display.HTML object>"
            ]
          },
          "metadata": {
            "tags": []
          }
        },
        {
          "output_type": "stream",
          "text": [
            "\u001b[2m\u001b[36m(pid=387)\u001b[0m 2020-01-13 15:18:20,669\tINFO trainable.py:346 -- Restored from checkpoint: /root/ray_results/XGBoost_trainable/XGBoost_trainable_027d3ac0_2020-01-13_13-31-3318o5vqkv/tmp9ui159jxrestore_from_object/checkpoint_9/model.pth\n",
            "\u001b[2m\u001b[36m(pid=387)\u001b[0m 2020-01-13 15:18:20,683\tINFO trainable.py:353 -- Current state after restoring: {'_iteration': 9, '_timesteps_total': None, '_time_total': 1349.0790538787842, '_episodes_total': None}\n",
            "\u001b[2m\u001b[36m(pid=387)\u001b[0m 2020-01-13 15:18:20,719\tINFO trainable.py:346 -- Restored from checkpoint: /root/ray_results/XGBoost_trainable/XGBoost_trainable_027d3ac0_2020-01-13_13-31-3318o5vqkv/tmpq76trobkrestore_from_object/checkpoint_6/model.pth\n",
            "\u001b[2m\u001b[36m(pid=387)\u001b[0m 2020-01-13 15:18:20,719\tINFO trainable.py:353 -- Current state after restoring: {'_iteration': 6, '_timesteps_total': None, '_time_total': 1241.5818898677826, '_episodes_total': None}\n"
          ],
          "name": "stdout"
        },
        {
          "output_type": "stream",
          "text": [
            "2020-01-13 15:19:26,862\tINFO pbt.py:83 -- [explore] perturbed config from {'verbosity': 0, 'objective': 'multi:softprob', 'num_class': 5, 'booster': 'gbtree', 'eval_metric': 'merror', 'max_depth': 4, 'eta': 0.0010636121226518637, 'gamma': 0.011669058550942432, 'grow_policy': 'depthwise'} -> {'verbosity': 0, 'objective': 'multi:softprob', 'num_class': 5, 'booster': 'gbtree', 'eval_metric': 'merror', 'max_depth': 6, 'eta': 0.000850889698121491, 'gamma': 0.009335246840753946, 'grow_policy': 'lossguide'}\n",
            "2020-01-13 15:19:26,865\tINFO pbt.py:315 -- [exploit] transferring weights from trial XGBoost_trainable_03b51f0c (score 0.2) -> XGBoost_trainable_02f9e0c0 (score 0.2)\n"
          ],
          "name": "stderr"
        },
        {
          "output_type": "stream",
          "text": [
            "Result for XGBoost_trainable_02f9e0c0:\n",
            "  date: 2020-01-13_15-19-26\n",
            "  done: false\n",
            "  experiment_id: cc8379e9a262436f84ca9a1bf757c9b8\n",
            "  experiment_tag: 1_eta=0.00056603,gamma=2.9078e-08,grow_policy=lossguide,max_depth=2@perturbed[eta=0.00085089,gamma=0.0093352,grow_policy=lossguide,max_depth=6]\n",
            "  hostname: 9991d65102f3\n",
            "  iterations_since_restore: 1\n",
            "  mean_accuracy: 0.2\n",
            "  node_ip: 172.28.0.2\n",
            "  pid: 519\n",
            "  time_since_restore: 177.3329508304596\n",
            "  time_this_iter_s: 177.3329508304596\n",
            "  time_total_s: 1418.9148406982422\n",
            "  timestamp: 1578928766\n",
            "  timesteps_since_restore: 0\n",
            "  training_iteration: 7\n",
            "  trial_id: 02f9e0c0\n",
            "  \n"
          ],
          "name": "stdout"
        },
        {
          "output_type": "display_data",
          "data": {
            "text/html": [
              "== Status ==<br>Memory usage on this node: 1.5/12.7 GiB<br>PopulationBasedTraining: 14 checkpoints, 41 perturbs<br>Resources requested: 1/2 CPUs, 0/0 GPUs, 0.0/6.1 GiB heap, 0.0/2.1 GiB objects<br>Result logdir: /root/ray_results/XGBoost_trainable<br>Number of trials: 4 (3 PAUSED, 1 RUNNING)<br><table>\n",
              "<thead>\n",
              "<tr><th>Trial name                </th><th>status  </th><th>loc  </th><th>grow_policy  </th><th style=\"text-align: right;\">       eta</th><th style=\"text-align: right;\">       gamma</th><th style=\"text-align: right;\">  max_depth</th><th style=\"text-align: right;\">  iter</th><th style=\"text-align: right;\">  total time (s)</th><th style=\"text-align: right;\">  acc</th></tr>\n",
              "</thead>\n",
              "<tbody>\n",
              "<tr><td>XGBoost_trainable_027d3ac0</td><td>PAUSED  </td><td>     </td><td>depthwise    </td><td style=\"text-align: right;\">0.00704788</td><td style=\"text-align: right;\">-6.97205    </td><td style=\"text-align: right;\">          0</td><td style=\"text-align: right;\">     9</td><td style=\"text-align: right;\">         1506.87</td><td style=\"text-align: right;\">  0.2</td></tr>\n",
              "<tr><td>XGBoost_trainable_02f9e0c0</td><td>PAUSED  </td><td>     </td><td>depthwise    </td><td style=\"text-align: right;\">0.00085089</td><td style=\"text-align: right;\"> 0.0140029  </td><td style=\"text-align: right;\">          4</td><td style=\"text-align: right;\">     7</td><td style=\"text-align: right;\">         1418.91</td><td style=\"text-align: right;\">  0.2</td></tr>\n",
              "<tr><td>XGBoost_trainable_0373cc96</td><td>PAUSED  </td><td>     </td><td>lossguide    </td><td style=\"text-align: right;\">0.00587324</td><td style=\"text-align: right;\"> 2.68948e-07</td><td style=\"text-align: right;\">          1</td><td style=\"text-align: right;\">     9</td><td style=\"text-align: right;\">         1349.08</td><td style=\"text-align: right;\">  0.2</td></tr>\n",
              "<tr><td>XGBoost_trainable_03b51f0c</td><td>RUNNING </td><td>     </td><td>depthwise    </td><td style=\"text-align: right;\">0.00106361</td><td style=\"text-align: right;\"> 0.0116691  </td><td style=\"text-align: right;\">          4</td><td style=\"text-align: right;\">     6</td><td style=\"text-align: right;\">         1241.58</td><td style=\"text-align: right;\">  0.2</td></tr>\n",
              "</tbody>\n",
              "</table><br><br>"
            ],
            "text/plain": [
              "<IPython.core.display.HTML object>"
            ]
          },
          "metadata": {
            "tags": []
          }
        },
        {
          "output_type": "stream",
          "text": [
            "\u001b[2m\u001b[36m(pid=519)\u001b[0m 2020-01-13 15:19:26,900\tINFO trainable.py:346 -- Restored from checkpoint: /root/ray_results/XGBoost_trainable/XGBoost_trainable_03b51f0c_2020-01-13_13-34-38nx0meozj/tmpr2tw8xt6restore_from_object/checkpoint_6/model.pth\n",
            "\u001b[2m\u001b[36m(pid=519)\u001b[0m 2020-01-13 15:19:26,900\tINFO trainable.py:353 -- Current state after restoring: {'_iteration': 6, '_timesteps_total': None, '_time_total': 1241.5818898677826, '_episodes_total': None}\n",
            "\u001b[2m\u001b[36m(pid=519)\u001b[0m 2020-01-13 15:19:26,946\tINFO trainable.py:346 -- Restored from checkpoint: /root/ray_results/XGBoost_trainable/XGBoost_trainable_03b51f0c_2020-01-13_13-34-38nx0meozj/tmpx32fqmmkrestore_from_object/checkpoint_6/model.pth\n",
            "\u001b[2m\u001b[36m(pid=519)\u001b[0m 2020-01-13 15:19:26,947\tINFO trainable.py:353 -- Current state after restoring: {'_iteration': 6, '_timesteps_total': None, '_time_total': 1241.5818898677826, '_episodes_total': None}\n"
          ],
          "name": "stdout"
        },
        {
          "output_type": "stream",
          "text": [
            "2020-01-13 15:22:25,837\tINFO pbt.py:83 -- [explore] perturbed config from {'verbosity': 0, 'objective': 'multi:softprob', 'num_class': 5, 'booster': 'gbtree', 'eval_metric': 'merror', 'max_depth': 4, 'eta': 0.0010636121226518637, 'gamma': 0.011669058550942432, 'grow_policy': 'depthwise'} -> {'verbosity': 0, 'objective': 'multi:softprob', 'num_class': 5, 'booster': 'gbtree', 'eval_metric': 'merror', 'max_depth': 4, 'eta': 0.000850889698121491, 'gamma': 0.014002870261130918, 'grow_policy': 'depthwise'}\n",
            "2020-01-13 15:22:25,839\tINFO pbt.py:315 -- [exploit] transferring weights from trial XGBoost_trainable_03b51f0c (score 0.2) -> XGBoost_trainable_02f9e0c0 (score 0.2)\n"
          ],
          "name": "stderr"
        },
        {
          "output_type": "stream",
          "text": [
            "Result for XGBoost_trainable_02f9e0c0:\n",
            "  date: 2020-01-13_15-22-25\n",
            "  done: false\n",
            "  experiment_id: cc8379e9a262436f84ca9a1bf757c9b8\n",
            "  experiment_tag: 1_eta=0.00056603,gamma=2.9078e-08,grow_policy=lossguide,max_depth=2@perturbed[eta=0.00085089,gamma=0.014003,grow_policy=depthwise,max_depth=4]\n",
            "  hostname: 9991d65102f3\n",
            "  iterations_since_restore: 1\n",
            "  mean_accuracy: 0.2\n",
            "  node_ip: 172.28.0.2\n",
            "  pid: 519\n",
            "  time_since_restore: 178.88637137413025\n",
            "  time_this_iter_s: 178.88637137413025\n",
            "  time_total_s: 1420.4682612419128\n",
            "  timestamp: 1578928945\n",
            "  timesteps_since_restore: 0\n",
            "  training_iteration: 7\n",
            "  trial_id: 02f9e0c0\n",
            "  \n"
          ],
          "name": "stdout"
        },
        {
          "output_type": "display_data",
          "data": {
            "text/html": [
              "== Status ==<br>Memory usage on this node: 1.5/12.7 GiB<br>PopulationBasedTraining: 14 checkpoints, 42 perturbs<br>Resources requested: 1/2 CPUs, 0/0 GPUs, 0.0/6.1 GiB heap, 0.0/2.1 GiB objects<br>Result logdir: /root/ray_results/XGBoost_trainable<br>Number of trials: 4 (3 PAUSED, 1 RUNNING)<br><table>\n",
              "<thead>\n",
              "<tr><th>Trial name                </th><th>status  </th><th>loc  </th><th>grow_policy  </th><th style=\"text-align: right;\">       eta</th><th style=\"text-align: right;\">       gamma</th><th style=\"text-align: right;\">  max_depth</th><th style=\"text-align: right;\">  iter</th><th style=\"text-align: right;\">  total time (s)</th><th style=\"text-align: right;\">  acc</th></tr>\n",
              "</thead>\n",
              "<tbody>\n",
              "<tr><td>XGBoost_trainable_027d3ac0</td><td>PAUSED  </td><td>     </td><td>depthwise    </td><td style=\"text-align: right;\">0.00704788</td><td style=\"text-align: right;\">-6.97205    </td><td style=\"text-align: right;\">          0</td><td style=\"text-align: right;\">     9</td><td style=\"text-align: right;\">         1506.87</td><td style=\"text-align: right;\">  0.2</td></tr>\n",
              "<tr><td>XGBoost_trainable_02f9e0c0</td><td>PAUSED  </td><td>     </td><td>lossguide    </td><td style=\"text-align: right;\">0.00085089</td><td style=\"text-align: right;\"> 0.00933525 </td><td style=\"text-align: right;\">          6</td><td style=\"text-align: right;\">     7</td><td style=\"text-align: right;\">         1420.47</td><td style=\"text-align: right;\">  0.2</td></tr>\n",
              "<tr><td>XGBoost_trainable_0373cc96</td><td>PAUSED  </td><td>     </td><td>lossguide    </td><td style=\"text-align: right;\">0.00587324</td><td style=\"text-align: right;\"> 2.68948e-07</td><td style=\"text-align: right;\">          1</td><td style=\"text-align: right;\">     9</td><td style=\"text-align: right;\">         1349.08</td><td style=\"text-align: right;\">  0.2</td></tr>\n",
              "<tr><td>XGBoost_trainable_03b51f0c</td><td>RUNNING </td><td>     </td><td>depthwise    </td><td style=\"text-align: right;\">0.00106361</td><td style=\"text-align: right;\"> 0.0116691  </td><td style=\"text-align: right;\">          4</td><td style=\"text-align: right;\">     6</td><td style=\"text-align: right;\">         1241.58</td><td style=\"text-align: right;\">  0.2</td></tr>\n",
              "</tbody>\n",
              "</table><br><br>"
            ],
            "text/plain": [
              "<IPython.core.display.HTML object>"
            ]
          },
          "metadata": {
            "tags": []
          }
        },
        {
          "output_type": "stream",
          "text": [
            "\u001b[2m\u001b[36m(pid=519)\u001b[0m 2020-01-13 15:22:25,884\tINFO trainable.py:346 -- Restored from checkpoint: /root/ray_results/XGBoost_trainable/XGBoost_trainable_03b51f0c_2020-01-13_13-34-38nx0meozj/tmpsptuxm49restore_from_object/checkpoint_6/model.pth\n",
            "\u001b[2m\u001b[36m(pid=519)\u001b[0m 2020-01-13 15:22:25,885\tINFO trainable.py:353 -- Current state after restoring: {'_iteration': 6, '_timesteps_total': None, '_time_total': 1241.5818898677826, '_episodes_total': None}\n",
            "\u001b[2m\u001b[36m(pid=519)\u001b[0m 2020-01-13 15:22:25,918\tINFO trainable.py:346 -- Restored from checkpoint: /root/ray_results/XGBoost_trainable/XGBoost_trainable_03b51f0c_2020-01-13_13-34-38nx0meozj/tmp5pbsopc_restore_from_object/checkpoint_6/model.pth\n",
            "\u001b[2m\u001b[36m(pid=519)\u001b[0m 2020-01-13 15:22:25,918\tINFO trainable.py:353 -- Current state after restoring: {'_iteration': 6, '_timesteps_total': None, '_time_total': 1241.5818898677826, '_episodes_total': None}\n",
            "Result for XGBoost_trainable_03b51f0c:\n",
            "  date: 2020-01-13_15-23-55\n",
            "  done: false\n",
            "  experiment_id: cc8379e9a262436f84ca9a1bf757c9b8\n",
            "  experiment_tag: 3_eta=0.0010636,gamma=0.011669,grow_policy=depthwise,max_depth=4\n",
            "  hostname: 9991d65102f3\n",
            "  iterations_since_restore: 1\n",
            "  mean_accuracy: 0.2\n",
            "  node_ip: 172.28.0.2\n",
            "  pid: 387\n",
            "  time_since_restore: 334.6137490272522\n",
            "  time_this_iter_s: 334.6137490272522\n",
            "  time_total_s: 1576.1956388950348\n",
            "  timestamp: 1578929035\n",
            "  timesteps_since_restore: 0\n",
            "  training_iteration: 7\n",
            "  trial_id: 03b51f0c\n",
            "  \n"
          ],
          "name": "stdout"
        },
        {
          "output_type": "display_data",
          "data": {
            "text/html": [
              "== Status ==<br>Memory usage on this node: 1.5/12.7 GiB<br>PopulationBasedTraining: 15 checkpoints, 42 perturbs<br>Resources requested: 1/2 CPUs, 0/0 GPUs, 0.0/6.1 GiB heap, 0.0/2.1 GiB objects<br>Result logdir: /root/ray_results/XGBoost_trainable<br>Number of trials: 4 (3 PAUSED, 1 RUNNING)<br><table>\n",
              "<thead>\n",
              "<tr><th>Trial name                </th><th>status  </th><th>loc  </th><th>grow_policy  </th><th style=\"text-align: right;\">       eta</th><th style=\"text-align: right;\">       gamma</th><th style=\"text-align: right;\">  max_depth</th><th style=\"text-align: right;\">  iter</th><th style=\"text-align: right;\">  total time (s)</th><th style=\"text-align: right;\">  acc</th></tr>\n",
              "</thead>\n",
              "<tbody>\n",
              "<tr><td>XGBoost_trainable_027d3ac0</td><td>PAUSED  </td><td>     </td><td>depthwise    </td><td style=\"text-align: right;\">0.00704788</td><td style=\"text-align: right;\">-6.97205    </td><td style=\"text-align: right;\">          0</td><td style=\"text-align: right;\">     9</td><td style=\"text-align: right;\">         1506.87</td><td style=\"text-align: right;\">  0.2</td></tr>\n",
              "<tr><td>XGBoost_trainable_02f9e0c0</td><td>RUNNING </td><td>     </td><td>lossguide    </td><td style=\"text-align: right;\">0.00085089</td><td style=\"text-align: right;\"> 0.00933525 </td><td style=\"text-align: right;\">          6</td><td style=\"text-align: right;\">     7</td><td style=\"text-align: right;\">         1420.47</td><td style=\"text-align: right;\">  0.2</td></tr>\n",
              "<tr><td>XGBoost_trainable_0373cc96</td><td>PAUSED  </td><td>     </td><td>lossguide    </td><td style=\"text-align: right;\">0.00587324</td><td style=\"text-align: right;\"> 2.68948e-07</td><td style=\"text-align: right;\">          1</td><td style=\"text-align: right;\">     9</td><td style=\"text-align: right;\">         1349.08</td><td style=\"text-align: right;\">  0.2</td></tr>\n",
              "<tr><td>XGBoost_trainable_03b51f0c</td><td>PAUSED  </td><td>     </td><td>depthwise    </td><td style=\"text-align: right;\">0.00106361</td><td style=\"text-align: right;\"> 0.0116691  </td><td style=\"text-align: right;\">          4</td><td style=\"text-align: right;\">     7</td><td style=\"text-align: right;\">         1576.2 </td><td style=\"text-align: right;\">  0.2</td></tr>\n",
              "</tbody>\n",
              "</table><br><br>"
            ],
            "text/plain": [
              "<IPython.core.display.HTML object>"
            ]
          },
          "metadata": {
            "tags": []
          }
        },
        {
          "output_type": "stream",
          "text": [
            "\u001b[2m\u001b[36m(pid=387)\u001b[0m 2020-01-13 15:23:55,402\tINFO trainable.py:346 -- Restored from checkpoint: /root/ray_results/XGBoost_trainable/XGBoost_trainable_027d3ac0_2020-01-13_13-31-3318o5vqkv/tmpw86me_t1restore_from_object/checkpoint_9/model.pth\n",
            "\u001b[2m\u001b[36m(pid=387)\u001b[0m 2020-01-13 15:23:55,402\tINFO trainable.py:353 -- Current state after restoring: {'_iteration': 9, '_timesteps_total': None, '_time_total': 1349.0790538787842, '_episodes_total': None}\n"
          ],
          "name": "stdout"
        },
        {
          "output_type": "stream",
          "text": [
            "2020-01-13 15:25:26,024\tINFO pbt.py:83 -- [explore] perturbed config from {'verbosity': 0, 'objective': 'multi:softprob', 'num_class': 5, 'booster': 'gbtree', 'eval_metric': 'merror', 'max_depth': 1, 'eta': 0.00587323670168573, 'gamma': 2.689480236959982e-07, 'grow_policy': 'lossguide'} -> {'verbosity': 0, 'objective': 'multi:softprob', 'num_class': 5, 'booster': 'gbtree', 'eval_metric': 'merror', 'max_depth': 1, 'eta': 0.0070478840420228756, 'gamma': 3.227376284351978e-07, 'grow_policy': 'lossguide'}\n",
            "2020-01-13 15:25:26,029\tINFO pbt.py:315 -- [exploit] transferring weights from trial XGBoost_trainable_0373cc96 (score 0.2) -> XGBoost_trainable_02f9e0c0 (score 0.2)\n"
          ],
          "name": "stderr"
        },
        {
          "output_type": "stream",
          "text": [
            "Result for XGBoost_trainable_02f9e0c0:\n",
            "  date: 2020-01-13_15-25-26\n",
            "  done: false\n",
            "  experiment_id: cc8379e9a262436f84ca9a1bf757c9b8\n",
            "  experiment_tag: 1_eta=0.00056603,gamma=2.9078e-08,grow_policy=lossguide,max_depth=2@perturbed[eta=0.0070479,gamma=3.2274e-07,grow_policy=lossguide,max_depth=1]\n",
            "  hostname: 9991d65102f3\n",
            "  iterations_since_restore: 1\n",
            "  mean_accuracy: 0.2\n",
            "  node_ip: 172.28.0.2\n",
            "  pid: 519\n",
            "  time_since_restore: 180.10157370567322\n",
            "  time_this_iter_s: 180.10157370567322\n",
            "  time_total_s: 1421.6834635734558\n",
            "  timestamp: 1578929126\n",
            "  timesteps_since_restore: 0\n",
            "  training_iteration: 7\n",
            "  trial_id: 02f9e0c0\n",
            "  \n"
          ],
          "name": "stdout"
        },
        {
          "output_type": "display_data",
          "data": {
            "text/html": [
              "== Status ==<br>Memory usage on this node: 1.5/12.7 GiB<br>PopulationBasedTraining: 15 checkpoints, 43 perturbs<br>Resources requested: 1/2 CPUs, 0/0 GPUs, 0.0/6.1 GiB heap, 0.0/2.1 GiB objects<br>Result logdir: /root/ray_results/XGBoost_trainable<br>Number of trials: 4 (1 RUNNING, 3 PAUSED)<br><table>\n",
              "<thead>\n",
              "<tr><th>Trial name                </th><th>status  </th><th>loc  </th><th>grow_policy  </th><th style=\"text-align: right;\">       eta</th><th style=\"text-align: right;\">       gamma</th><th style=\"text-align: right;\">  max_depth</th><th style=\"text-align: right;\">  iter</th><th style=\"text-align: right;\">  total time (s)</th><th style=\"text-align: right;\">  acc</th></tr>\n",
              "</thead>\n",
              "<tbody>\n",
              "<tr><td>XGBoost_trainable_027d3ac0</td><td>RUNNING </td><td>     </td><td>depthwise    </td><td style=\"text-align: right;\">0.00704788</td><td style=\"text-align: right;\">-6.97205    </td><td style=\"text-align: right;\">          0</td><td style=\"text-align: right;\">     9</td><td style=\"text-align: right;\">         1506.87</td><td style=\"text-align: right;\">  0.2</td></tr>\n",
              "<tr><td>XGBoost_trainable_02f9e0c0</td><td>PAUSED  </td><td>     </td><td>depthwise    </td><td style=\"text-align: right;\">0.00085089</td><td style=\"text-align: right;\"> 0.0140029  </td><td style=\"text-align: right;\">          4</td><td style=\"text-align: right;\">     7</td><td style=\"text-align: right;\">         1421.68</td><td style=\"text-align: right;\">  0.2</td></tr>\n",
              "<tr><td>XGBoost_trainable_0373cc96</td><td>PAUSED  </td><td>     </td><td>lossguide    </td><td style=\"text-align: right;\">0.00587324</td><td style=\"text-align: right;\"> 2.68948e-07</td><td style=\"text-align: right;\">          1</td><td style=\"text-align: right;\">     9</td><td style=\"text-align: right;\">         1349.08</td><td style=\"text-align: right;\">  0.2</td></tr>\n",
              "<tr><td>XGBoost_trainable_03b51f0c</td><td>PAUSED  </td><td>     </td><td>depthwise    </td><td style=\"text-align: right;\">0.00106361</td><td style=\"text-align: right;\"> 0.0116691  </td><td style=\"text-align: right;\">          4</td><td style=\"text-align: right;\">     7</td><td style=\"text-align: right;\">         1576.2 </td><td style=\"text-align: right;\">  0.2</td></tr>\n",
              "</tbody>\n",
              "</table><br><br>"
            ],
            "text/plain": [
              "<IPython.core.display.HTML object>"
            ]
          },
          "metadata": {
            "tags": []
          }
        },
        {
          "output_type": "stream",
          "text": [
            "\u001b[2m\u001b[36m(pid=519)\u001b[0m 2020-01-13 15:25:26,049\tINFO trainable.py:346 -- Restored from checkpoint: /root/ray_results/XGBoost_trainable/XGBoost_trainable_03b51f0c_2020-01-13_13-34-38nx0meozj/tmp5_qo4x6mrestore_from_object/checkpoint_9/model.pth\n",
            "\u001b[2m\u001b[36m(pid=519)\u001b[0m 2020-01-13 15:25:26,052\tINFO trainable.py:353 -- Current state after restoring: {'_iteration': 9, '_timesteps_total': None, '_time_total': 1349.0790538787842, '_episodes_total': None}\n",
            "\u001b[2m\u001b[36m(pid=519)\u001b[0m 2020-01-13 15:25:26,078\tINFO trainable.py:346 -- Restored from checkpoint: /root/ray_results/XGBoost_trainable/XGBoost_trainable_03b51f0c_2020-01-13_13-34-38nx0meozj/tmp1w1gldcdrestore_from_object/checkpoint_9/model.pth\n",
            "\u001b[2m\u001b[36m(pid=519)\u001b[0m 2020-01-13 15:25:26,078\tINFO trainable.py:353 -- Current state after restoring: {'_iteration': 9, '_timesteps_total': None, '_time_total': 1349.0790538787842, '_episodes_total': None}\n",
            "Result for XGBoost_trainable_02f9e0c0:\n",
            "  date: 2020-01-13_15-28-26\n",
            "  done: true\n",
            "  experiment_id: 7f6e26f2963b43d4b6f7c8b25c7e722a\n",
            "  experiment_tag: 1_eta=0.00056603,gamma=2.9078e-08,grow_policy=lossguide,max_depth=2@perturbed[eta=0.0070479,gamma=3.2274e-07,grow_policy=lossguide,max_depth=1]\n",
            "  hostname: 9991d65102f3\n",
            "  iterations_since_restore: 1\n",
            "  mean_accuracy: 0.2\n",
            "  node_ip: 172.28.0.2\n",
            "  pid: 519\n",
            "  time_since_restore: 180.05706214904785\n",
            "  time_this_iter_s: 180.05706214904785\n",
            "  time_total_s: 1529.136116027832\n",
            "  timestamp: 1578929306\n",
            "  timesteps_since_restore: 0\n",
            "  training_iteration: 10\n",
            "  trial_id: 02f9e0c0\n",
            "  \n"
          ],
          "name": "stdout"
        },
        {
          "output_type": "display_data",
          "data": {
            "text/html": [
              "== Status ==<br>Memory usage on this node: 1.5/12.7 GiB<br>PopulationBasedTraining: 15 checkpoints, 43 perturbs<br>Resources requested: 1/2 CPUs, 0/0 GPUs, 0.0/6.1 GiB heap, 0.0/2.1 GiB objects<br>Result logdir: /root/ray_results/XGBoost_trainable<br>Number of trials: 4 (1 RUNNING, 1 TERMINATED, 2 PAUSED)<br><table>\n",
              "<thead>\n",
              "<tr><th>Trial name                </th><th>status    </th><th>loc  </th><th>grow_policy  </th><th style=\"text-align: right;\">       eta</th><th style=\"text-align: right;\">       gamma</th><th style=\"text-align: right;\">  max_depth</th><th style=\"text-align: right;\">  iter</th><th style=\"text-align: right;\">  total time (s)</th><th style=\"text-align: right;\">  acc</th></tr>\n",
              "</thead>\n",
              "<tbody>\n",
              "<tr><td>XGBoost_trainable_027d3ac0</td><td>RUNNING   </td><td>     </td><td>depthwise    </td><td style=\"text-align: right;\">0.00704788</td><td style=\"text-align: right;\">-6.97205    </td><td style=\"text-align: right;\">          0</td><td style=\"text-align: right;\">     9</td><td style=\"text-align: right;\">         1506.87</td><td style=\"text-align: right;\">  0.2</td></tr>\n",
              "<tr><td>XGBoost_trainable_02f9e0c0</td><td>TERMINATED</td><td>     </td><td>lossguide    </td><td style=\"text-align: right;\">0.00704788</td><td style=\"text-align: right;\"> 3.22738e-07</td><td style=\"text-align: right;\">          1</td><td style=\"text-align: right;\">    10</td><td style=\"text-align: right;\">         1529.14</td><td style=\"text-align: right;\">  0.2</td></tr>\n",
              "<tr><td>XGBoost_trainable_0373cc96</td><td>PAUSED    </td><td>     </td><td>lossguide    </td><td style=\"text-align: right;\">0.00587324</td><td style=\"text-align: right;\"> 2.68948e-07</td><td style=\"text-align: right;\">          1</td><td style=\"text-align: right;\">     9</td><td style=\"text-align: right;\">         1349.08</td><td style=\"text-align: right;\">  0.2</td></tr>\n",
              "<tr><td>XGBoost_trainable_03b51f0c</td><td>PAUSED    </td><td>     </td><td>depthwise    </td><td style=\"text-align: right;\">0.00106361</td><td style=\"text-align: right;\"> 0.0116691  </td><td style=\"text-align: right;\">          4</td><td style=\"text-align: right;\">     7</td><td style=\"text-align: right;\">         1576.2 </td><td style=\"text-align: right;\">  0.2</td></tr>\n",
              "</tbody>\n",
              "</table><br><br>"
            ],
            "text/plain": [
              "<IPython.core.display.HTML object>"
            ]
          },
          "metadata": {
            "tags": []
          }
        },
        {
          "output_type": "stream",
          "text": [
            "\u001b[2m\u001b[36m(pid=519)\u001b[0m 2020-01-13 15:28:26,171\tINFO trainable.py:346 -- Restored from checkpoint: /root/ray_results/XGBoost_trainable/XGBoost_trainable_03b51f0c_2020-01-13_13-34-38nx0meozj/tmppc8_xloyrestore_from_object/checkpoint_9/model.pth\n",
            "\u001b[2m\u001b[36m(pid=519)\u001b[0m 2020-01-13 15:28:26,171\tINFO trainable.py:353 -- Current state after restoring: {'_iteration': 9, '_timesteps_total': None, '_time_total': 1349.0790538787842, '_episodes_total': None}\n",
            "Result for XGBoost_trainable_027d3ac0:\n",
            "  date: 2020-01-13_15-29-31\n",
            "  done: true\n",
            "  experiment_id: 7f6e26f2963b43d4b6f7c8b25c7e722a\n",
            "  experiment_tag: 0_eta=0.044127,gamma=0.010735,grow_policy=lossguide,max_depth=7@perturbed[eta=0.0070479,gamma=-1.4618,grow_policy=lossguide,max_depth=0]\n",
            "  hostname: 9991d65102f3\n",
            "  iterations_since_restore: 1\n",
            "  mean_accuracy: 0.2\n",
            "  node_ip: 172.28.0.2\n",
            "  pid: 387\n",
            "  time_since_restore: 335.86155700683594\n",
            "  time_this_iter_s: 335.86155700683594\n",
            "  time_total_s: 1684.9406108856201\n",
            "  timestamp: 1578929371\n",
            "  timesteps_since_restore: 0\n",
            "  training_iteration: 10\n",
            "  trial_id: 027d3ac0\n",
            "  \n"
          ],
          "name": "stdout"
        },
        {
          "output_type": "display_data",
          "data": {
            "text/html": [
              "== Status ==<br>Memory usage on this node: 1.5/12.7 GiB<br>PopulationBasedTraining: 15 checkpoints, 43 perturbs<br>Resources requested: 1/2 CPUs, 0/0 GPUs, 0.0/6.1 GiB heap, 0.0/2.1 GiB objects<br>Result logdir: /root/ray_results/XGBoost_trainable<br>Number of trials: 4 (2 TERMINATED, 1 RUNNING, 1 PAUSED)<br><table>\n",
              "<thead>\n",
              "<tr><th>Trial name                </th><th>status    </th><th>loc  </th><th>grow_policy  </th><th style=\"text-align: right;\">       eta</th><th style=\"text-align: right;\">       gamma</th><th style=\"text-align: right;\">  max_depth</th><th style=\"text-align: right;\">  iter</th><th style=\"text-align: right;\">  total time (s)</th><th style=\"text-align: right;\">  acc</th></tr>\n",
              "</thead>\n",
              "<tbody>\n",
              "<tr><td>XGBoost_trainable_027d3ac0</td><td>TERMINATED</td><td>     </td><td>lossguide    </td><td style=\"text-align: right;\">0.00704788</td><td style=\"text-align: right;\">-1.46178    </td><td style=\"text-align: right;\">          0</td><td style=\"text-align: right;\">    10</td><td style=\"text-align: right;\">         1684.94</td><td style=\"text-align: right;\">  0.2</td></tr>\n",
              "<tr><td>XGBoost_trainable_02f9e0c0</td><td>TERMINATED</td><td>     </td><td>lossguide    </td><td style=\"text-align: right;\">0.00704788</td><td style=\"text-align: right;\"> 3.22738e-07</td><td style=\"text-align: right;\">          1</td><td style=\"text-align: right;\">    10</td><td style=\"text-align: right;\">         1529.14</td><td style=\"text-align: right;\">  0.2</td></tr>\n",
              "<tr><td>XGBoost_trainable_0373cc96</td><td>RUNNING   </td><td>     </td><td>lossguide    </td><td style=\"text-align: right;\">0.00587324</td><td style=\"text-align: right;\"> 2.68948e-07</td><td style=\"text-align: right;\">          1</td><td style=\"text-align: right;\">     9</td><td style=\"text-align: right;\">         1349.08</td><td style=\"text-align: right;\">  0.2</td></tr>\n",
              "<tr><td>XGBoost_trainable_03b51f0c</td><td>PAUSED    </td><td>     </td><td>depthwise    </td><td style=\"text-align: right;\">0.00106361</td><td style=\"text-align: right;\"> 0.0116691  </td><td style=\"text-align: right;\">          4</td><td style=\"text-align: right;\">     7</td><td style=\"text-align: right;\">         1576.2 </td><td style=\"text-align: right;\">  0.2</td></tr>\n",
              "</tbody>\n",
              "</table><br><br>"
            ],
            "text/plain": [
              "<IPython.core.display.HTML object>"
            ]
          },
          "metadata": {
            "tags": []
          }
        },
        {
          "output_type": "stream",
          "text": [
            "\u001b[2m\u001b[36m(pid=387)\u001b[0m 2020-01-13 15:29:31,309\tINFO trainable.py:346 -- Restored from checkpoint: /root/ray_results/XGBoost_trainable/XGBoost_trainable_027d3ac0_2020-01-13_13-31-3318o5vqkv/tmplsx8o0xmrestore_from_object/checkpoint_7/model.pth\n",
            "\u001b[2m\u001b[36m(pid=387)\u001b[0m 2020-01-13 15:29:31,310\tINFO trainable.py:353 -- Current state after restoring: {'_iteration': 7, '_timesteps_total': None, '_time_total': 1576.1956388950348, '_episodes_total': None}\n",
            "Result for XGBoost_trainable_0373cc96:\n",
            "  date: 2020-01-13_15-31-25\n",
            "  done: true\n",
            "  experiment_id: 7f6e26f2963b43d4b6f7c8b25c7e722a\n",
            "  experiment_tag: 2_eta=0.0058732,gamma=2.6895e-07,grow_policy=lossguide,max_depth=1\n",
            "  hostname: 9991d65102f3\n",
            "  iterations_since_restore: 1\n",
            "  mean_accuracy: 0.2\n",
            "  node_ip: 172.28.0.2\n",
            "  pid: 519\n",
            "  time_since_restore: 179.4935541152954\n",
            "  time_this_iter_s: 179.4935541152954\n",
            "  time_total_s: 1528.5726079940796\n",
            "  timestamp: 1578929485\n",
            "  timesteps_since_restore: 0\n",
            "  training_iteration: 10\n",
            "  trial_id: 0373cc96\n",
            "  \n"
          ],
          "name": "stdout"
        },
        {
          "output_type": "display_data",
          "data": {
            "text/html": [
              "== Status ==<br>Memory usage on this node: 1.5/12.7 GiB<br>PopulationBasedTraining: 15 checkpoints, 43 perturbs<br>Resources requested: 1/2 CPUs, 0/0 GPUs, 0.0/6.1 GiB heap, 0.0/2.1 GiB objects<br>Result logdir: /root/ray_results/XGBoost_trainable<br>Number of trials: 4 (3 TERMINATED, 1 RUNNING)<br><table>\n",
              "<thead>\n",
              "<tr><th>Trial name                </th><th>status    </th><th>loc  </th><th>grow_policy  </th><th style=\"text-align: right;\">       eta</th><th style=\"text-align: right;\">       gamma</th><th style=\"text-align: right;\">  max_depth</th><th style=\"text-align: right;\">  iter</th><th style=\"text-align: right;\">  total time (s)</th><th style=\"text-align: right;\">  acc</th></tr>\n",
              "</thead>\n",
              "<tbody>\n",
              "<tr><td>XGBoost_trainable_027d3ac0</td><td>TERMINATED</td><td>     </td><td>lossguide    </td><td style=\"text-align: right;\">0.00704788</td><td style=\"text-align: right;\">-1.46178    </td><td style=\"text-align: right;\">          0</td><td style=\"text-align: right;\">    10</td><td style=\"text-align: right;\">         1684.94</td><td style=\"text-align: right;\">  0.2</td></tr>\n",
              "<tr><td>XGBoost_trainable_02f9e0c0</td><td>TERMINATED</td><td>     </td><td>lossguide    </td><td style=\"text-align: right;\">0.00704788</td><td style=\"text-align: right;\"> 3.22738e-07</td><td style=\"text-align: right;\">          1</td><td style=\"text-align: right;\">    10</td><td style=\"text-align: right;\">         1529.14</td><td style=\"text-align: right;\">  0.2</td></tr>\n",
              "<tr><td>XGBoost_trainable_0373cc96</td><td>TERMINATED</td><td>     </td><td>lossguide    </td><td style=\"text-align: right;\">0.00587324</td><td style=\"text-align: right;\"> 2.68948e-07</td><td style=\"text-align: right;\">          1</td><td style=\"text-align: right;\">    10</td><td style=\"text-align: right;\">         1528.57</td><td style=\"text-align: right;\">  0.2</td></tr>\n",
              "<tr><td>XGBoost_trainable_03b51f0c</td><td>RUNNING   </td><td>     </td><td>depthwise    </td><td style=\"text-align: right;\">0.00106361</td><td style=\"text-align: right;\"> 0.0116691  </td><td style=\"text-align: right;\">          4</td><td style=\"text-align: right;\">     7</td><td style=\"text-align: right;\">         1576.2 </td><td style=\"text-align: right;\">  0.2</td></tr>\n",
              "</tbody>\n",
              "</table><br><br>"
            ],
            "text/plain": [
              "<IPython.core.display.HTML object>"
            ]
          },
          "metadata": {
            "tags": []
          }
        },
        {
          "output_type": "stream",
          "text": [
            "Result for XGBoost_trainable_03b51f0c:\n",
            "  date: 2020-01-13_15-33-38\n",
            "  done: false\n",
            "  experiment_id: cc8379e9a262436f84ca9a1bf757c9b8\n",
            "  experiment_tag: 3_eta=0.0010636,gamma=0.011669,grow_policy=depthwise,max_depth=4\n",
            "  hostname: 9991d65102f3\n",
            "  iterations_since_restore: 1\n",
            "  mean_accuracy: 0.2\n",
            "  node_ip: 172.28.0.2\n",
            "  pid: 387\n",
            "  time_since_restore: 247.1844162940979\n",
            "  time_this_iter_s: 247.1844162940979\n",
            "  time_total_s: 1823.3800551891327\n",
            "  timestamp: 1578929618\n",
            "  timesteps_since_restore: 0\n",
            "  training_iteration: 8\n",
            "  trial_id: 03b51f0c\n",
            "  \n"
          ],
          "name": "stdout"
        },
        {
          "output_type": "display_data",
          "data": {
            "text/html": [
              "== Status ==<br>Memory usage on this node: 1.5/12.7 GiB<br>PopulationBasedTraining: 15 checkpoints, 43 perturbs<br>Resources requested: 1/2 CPUs, 0/0 GPUs, 0.0/6.1 GiB heap, 0.0/2.1 GiB objects<br>Result logdir: /root/ray_results/XGBoost_trainable<br>Number of trials: 4 (3 TERMINATED, 1 RUNNING)<br><table>\n",
              "<thead>\n",
              "<tr><th>Trial name                </th><th>status    </th><th>loc           </th><th>grow_policy  </th><th style=\"text-align: right;\">       eta</th><th style=\"text-align: right;\">       gamma</th><th style=\"text-align: right;\">  max_depth</th><th style=\"text-align: right;\">  iter</th><th style=\"text-align: right;\">  total time (s)</th><th style=\"text-align: right;\">  acc</th></tr>\n",
              "</thead>\n",
              "<tbody>\n",
              "<tr><td>XGBoost_trainable_027d3ac0</td><td>TERMINATED</td><td>              </td><td>lossguide    </td><td style=\"text-align: right;\">0.00704788</td><td style=\"text-align: right;\">-1.46178    </td><td style=\"text-align: right;\">          0</td><td style=\"text-align: right;\">    10</td><td style=\"text-align: right;\">         1684.94</td><td style=\"text-align: right;\">  0.2</td></tr>\n",
              "<tr><td>XGBoost_trainable_02f9e0c0</td><td>TERMINATED</td><td>              </td><td>lossguide    </td><td style=\"text-align: right;\">0.00704788</td><td style=\"text-align: right;\"> 3.22738e-07</td><td style=\"text-align: right;\">          1</td><td style=\"text-align: right;\">    10</td><td style=\"text-align: right;\">         1529.14</td><td style=\"text-align: right;\">  0.2</td></tr>\n",
              "<tr><td>XGBoost_trainable_0373cc96</td><td>TERMINATED</td><td>              </td><td>lossguide    </td><td style=\"text-align: right;\">0.00587324</td><td style=\"text-align: right;\"> 2.68948e-07</td><td style=\"text-align: right;\">          1</td><td style=\"text-align: right;\">    10</td><td style=\"text-align: right;\">         1528.57</td><td style=\"text-align: right;\">  0.2</td></tr>\n",
              "<tr><td>XGBoost_trainable_03b51f0c</td><td>RUNNING   </td><td>172.28.0.2:387</td><td>depthwise    </td><td style=\"text-align: right;\">0.00106361</td><td style=\"text-align: right;\"> 0.0116691  </td><td style=\"text-align: right;\">          4</td><td style=\"text-align: right;\">     8</td><td style=\"text-align: right;\">         1823.38</td><td style=\"text-align: right;\">  0.2</td></tr>\n",
              "</tbody>\n",
              "</table><br><br>"
            ],
            "text/plain": [
              "<IPython.core.display.HTML object>"
            ]
          },
          "metadata": {
            "tags": []
          }
        },
        {
          "output_type": "stream",
          "text": [
            "Result for XGBoost_trainable_03b51f0c:\n",
            "  date: 2020-01-13_15-36-57\n",
            "  done: false\n",
            "  experiment_id: cc8379e9a262436f84ca9a1bf757c9b8\n",
            "  experiment_tag: 3_eta=0.0010636,gamma=0.011669,grow_policy=depthwise,max_depth=4\n",
            "  hostname: 9991d65102f3\n",
            "  iterations_since_restore: 2\n",
            "  mean_accuracy: 0.2\n",
            "  node_ip: 172.28.0.2\n",
            "  pid: 387\n",
            "  time_since_restore: 445.71663093566895\n",
            "  time_this_iter_s: 198.53221464157104\n",
            "  time_total_s: 2021.9122698307037\n",
            "  timestamp: 1578929817\n",
            "  timesteps_since_restore: 0\n",
            "  training_iteration: 9\n",
            "  trial_id: 03b51f0c\n",
            "  \n"
          ],
          "name": "stdout"
        },
        {
          "output_type": "display_data",
          "data": {
            "text/html": [
              "== Status ==<br>Memory usage on this node: 1.5/12.7 GiB<br>PopulationBasedTraining: 15 checkpoints, 43 perturbs<br>Resources requested: 1/2 CPUs, 0/0 GPUs, 0.0/6.1 GiB heap, 0.0/2.1 GiB objects<br>Result logdir: /root/ray_results/XGBoost_trainable<br>Number of trials: 4 (3 TERMINATED, 1 RUNNING)<br><table>\n",
              "<thead>\n",
              "<tr><th>Trial name                </th><th>status    </th><th>loc           </th><th>grow_policy  </th><th style=\"text-align: right;\">       eta</th><th style=\"text-align: right;\">       gamma</th><th style=\"text-align: right;\">  max_depth</th><th style=\"text-align: right;\">  iter</th><th style=\"text-align: right;\">  total time (s)</th><th style=\"text-align: right;\">  acc</th></tr>\n",
              "</thead>\n",
              "<tbody>\n",
              "<tr><td>XGBoost_trainable_027d3ac0</td><td>TERMINATED</td><td>              </td><td>lossguide    </td><td style=\"text-align: right;\">0.00704788</td><td style=\"text-align: right;\">-1.46178    </td><td style=\"text-align: right;\">          0</td><td style=\"text-align: right;\">    10</td><td style=\"text-align: right;\">         1684.94</td><td style=\"text-align: right;\">  0.2</td></tr>\n",
              "<tr><td>XGBoost_trainable_02f9e0c0</td><td>TERMINATED</td><td>              </td><td>lossguide    </td><td style=\"text-align: right;\">0.00704788</td><td style=\"text-align: right;\"> 3.22738e-07</td><td style=\"text-align: right;\">          1</td><td style=\"text-align: right;\">    10</td><td style=\"text-align: right;\">         1529.14</td><td style=\"text-align: right;\">  0.2</td></tr>\n",
              "<tr><td>XGBoost_trainable_0373cc96</td><td>TERMINATED</td><td>              </td><td>lossguide    </td><td style=\"text-align: right;\">0.00587324</td><td style=\"text-align: right;\"> 2.68948e-07</td><td style=\"text-align: right;\">          1</td><td style=\"text-align: right;\">    10</td><td style=\"text-align: right;\">         1528.57</td><td style=\"text-align: right;\">  0.2</td></tr>\n",
              "<tr><td>XGBoost_trainable_03b51f0c</td><td>RUNNING   </td><td>172.28.0.2:387</td><td>depthwise    </td><td style=\"text-align: right;\">0.00106361</td><td style=\"text-align: right;\"> 0.0116691  </td><td style=\"text-align: right;\">          4</td><td style=\"text-align: right;\">     9</td><td style=\"text-align: right;\">         2021.91</td><td style=\"text-align: right;\">  0.2</td></tr>\n",
              "</tbody>\n",
              "</table><br><br>"
            ],
            "text/plain": [
              "<IPython.core.display.HTML object>"
            ]
          },
          "metadata": {
            "tags": []
          }
        },
        {
          "output_type": "stream",
          "text": [
            "Result for XGBoost_trainable_03b51f0c:\n",
            "  date: 2020-01-13_15-40-19\n",
            "  done: true\n",
            "  experiment_id: cc8379e9a262436f84ca9a1bf757c9b8\n",
            "  experiment_tag: 3_eta=0.0010636,gamma=0.011669,grow_policy=depthwise,max_depth=4\n",
            "  hostname: 9991d65102f3\n",
            "  iterations_since_restore: 3\n",
            "  mean_accuracy: 0.2\n",
            "  node_ip: 172.28.0.2\n",
            "  pid: 387\n",
            "  time_since_restore: 647.9568338394165\n",
            "  time_this_iter_s: 202.24020290374756\n",
            "  time_total_s: 2224.1524727344513\n",
            "  timestamp: 1578930019\n",
            "  timesteps_since_restore: 0\n",
            "  training_iteration: 10\n",
            "  trial_id: 03b51f0c\n",
            "  \n"
          ],
          "name": "stdout"
        },
        {
          "output_type": "display_data",
          "data": {
            "text/html": [
              "== Status ==<br>Memory usage on this node: 1.5/12.7 GiB<br>PopulationBasedTraining: 15 checkpoints, 43 perturbs<br>Resources requested: 0/2 CPUs, 0/0 GPUs, 0.0/6.1 GiB heap, 0.0/2.1 GiB objects<br>Result logdir: /root/ray_results/XGBoost_trainable<br>Number of trials: 4 (4 TERMINATED)<br><table>\n",
              "<thead>\n",
              "<tr><th>Trial name                </th><th>status    </th><th>loc  </th><th>grow_policy  </th><th style=\"text-align: right;\">       eta</th><th style=\"text-align: right;\">       gamma</th><th style=\"text-align: right;\">  max_depth</th><th style=\"text-align: right;\">  iter</th><th style=\"text-align: right;\">  total time (s)</th><th style=\"text-align: right;\">  acc</th></tr>\n",
              "</thead>\n",
              "<tbody>\n",
              "<tr><td>XGBoost_trainable_027d3ac0</td><td>TERMINATED</td><td>     </td><td>lossguide    </td><td style=\"text-align: right;\">0.00704788</td><td style=\"text-align: right;\">-1.46178    </td><td style=\"text-align: right;\">          0</td><td style=\"text-align: right;\">    10</td><td style=\"text-align: right;\">         1684.94</td><td style=\"text-align: right;\">  0.2</td></tr>\n",
              "<tr><td>XGBoost_trainable_02f9e0c0</td><td>TERMINATED</td><td>     </td><td>lossguide    </td><td style=\"text-align: right;\">0.00704788</td><td style=\"text-align: right;\"> 3.22738e-07</td><td style=\"text-align: right;\">          1</td><td style=\"text-align: right;\">    10</td><td style=\"text-align: right;\">         1529.14</td><td style=\"text-align: right;\">  0.2</td></tr>\n",
              "<tr><td>XGBoost_trainable_0373cc96</td><td>TERMINATED</td><td>     </td><td>lossguide    </td><td style=\"text-align: right;\">0.00587324</td><td style=\"text-align: right;\"> 2.68948e-07</td><td style=\"text-align: right;\">          1</td><td style=\"text-align: right;\">    10</td><td style=\"text-align: right;\">         1528.57</td><td style=\"text-align: right;\">  0.2</td></tr>\n",
              "<tr><td>XGBoost_trainable_03b51f0c</td><td>TERMINATED</td><td>     </td><td>depthwise    </td><td style=\"text-align: right;\">0.00106361</td><td style=\"text-align: right;\"> 0.0116691  </td><td style=\"text-align: right;\">          4</td><td style=\"text-align: right;\">    10</td><td style=\"text-align: right;\">         2224.15</td><td style=\"text-align: right;\">  0.2</td></tr>\n",
              "</tbody>\n",
              "</table><br><br>"
            ],
            "text/plain": [
              "<IPython.core.display.HTML object>"
            ]
          },
          "metadata": {
            "tags": []
          }
        },
        {
          "output_type": "display_data",
          "data": {
            "text/html": [
              "== Status ==<br>Memory usage on this node: 1.5/12.7 GiB<br>PopulationBasedTraining: 15 checkpoints, 43 perturbs<br>Resources requested: 0/2 CPUs, 0/0 GPUs, 0.0/6.1 GiB heap, 0.0/2.1 GiB objects<br>Result logdir: /root/ray_results/XGBoost_trainable<br>Number of trials: 4 (4 TERMINATED)<br><table>\n",
              "<thead>\n",
              "<tr><th>Trial name                </th><th>status    </th><th>loc  </th><th>grow_policy  </th><th style=\"text-align: right;\">       eta</th><th style=\"text-align: right;\">       gamma</th><th style=\"text-align: right;\">  max_depth</th><th style=\"text-align: right;\">  iter</th><th style=\"text-align: right;\">  total time (s)</th><th style=\"text-align: right;\">  acc</th></tr>\n",
              "</thead>\n",
              "<tbody>\n",
              "<tr><td>XGBoost_trainable_027d3ac0</td><td>TERMINATED</td><td>     </td><td>lossguide    </td><td style=\"text-align: right;\">0.00704788</td><td style=\"text-align: right;\">-1.46178    </td><td style=\"text-align: right;\">          0</td><td style=\"text-align: right;\">    10</td><td style=\"text-align: right;\">         1684.94</td><td style=\"text-align: right;\">  0.2</td></tr>\n",
              "<tr><td>XGBoost_trainable_02f9e0c0</td><td>TERMINATED</td><td>     </td><td>lossguide    </td><td style=\"text-align: right;\">0.00704788</td><td style=\"text-align: right;\"> 3.22738e-07</td><td style=\"text-align: right;\">          1</td><td style=\"text-align: right;\">    10</td><td style=\"text-align: right;\">         1529.14</td><td style=\"text-align: right;\">  0.2</td></tr>\n",
              "<tr><td>XGBoost_trainable_0373cc96</td><td>TERMINATED</td><td>     </td><td>lossguide    </td><td style=\"text-align: right;\">0.00587324</td><td style=\"text-align: right;\"> 2.68948e-07</td><td style=\"text-align: right;\">          1</td><td style=\"text-align: right;\">    10</td><td style=\"text-align: right;\">         1528.57</td><td style=\"text-align: right;\">  0.2</td></tr>\n",
              "<tr><td>XGBoost_trainable_03b51f0c</td><td>TERMINATED</td><td>     </td><td>depthwise    </td><td style=\"text-align: right;\">0.00106361</td><td style=\"text-align: right;\"> 0.0116691  </td><td style=\"text-align: right;\">          4</td><td style=\"text-align: right;\">    10</td><td style=\"text-align: right;\">         2224.15</td><td style=\"text-align: right;\">  0.2</td></tr>\n",
              "</tbody>\n",
              "</table><br><br>"
            ],
            "text/plain": [
              "<IPython.core.display.HTML object>"
            ]
          },
          "metadata": {
            "tags": []
          }
        },
        {
          "output_type": "stream",
          "text": [
            "2020-01-13 15:40:19,328\tINFO tune.py:334 -- Returning an analysis object by default. You can call `analysis.trials` to retrieve a list of trials. This message will be removed in future versions of Tune.\n"
          ],
          "name": "stderr"
        }
      ]
    },
    {
      "cell_type": "markdown",
      "metadata": {
        "id": "cbpryPOrbj7C",
        "colab_type": "text"
      },
      "source": [
        "As we stored the output of our search, we can get some information about PBT's run. For example, we can get best configuration:"
      ]
    },
    {
      "cell_type": "code",
      "metadata": {
        "id": "ORpeen_7u4GQ",
        "colab_type": "code",
        "outputId": "5480362e-8b25-452a-cbed-36000fefe531",
        "colab": {
          "base_uri": "https://localhost:8080/",
          "height": 34
        }
      },
      "source": [
        "print(\"Best config is\", analysis.get_best_config(metric=\"mean_accuracy\"))"
      ],
      "execution_count": 0,
      "outputs": [
        {
          "output_type": "stream",
          "text": [
            "Best config is {'verbosity': 0, 'objective': 'multi:softprob', 'num_class': 5, 'booster': 'gbtree', 'eval_metric': 'merror', 'max_depth': 0, 'eta': 0.0070478840420228756, 'gamma': -1.4617833215538054, 'grow_policy': 'lossguide'}\n"
          ],
          "name": "stdout"
        }
      ]
    },
    {
      "cell_type": "markdown",
      "metadata": {
        "id": "aQCyzY0lbuuw",
        "colab_type": "text"
      },
      "source": [
        "We can also get general data about PBT's run:"
      ]
    },
    {
      "cell_type": "code",
      "metadata": {
        "id": "oEDsKAmDx9Yj",
        "colab_type": "code",
        "outputId": "708c6aa3-9e32-4838-89d4-065fdc83b232",
        "colab": {
          "base_uri": "https://localhost:8080/",
          "height": 397
        }
      },
      "source": [
        "analysis.dataframe()"
      ],
      "execution_count": 0,
      "outputs": [
        {
          "output_type": "execute_result",
          "data": {
            "text/html": [
              "<div>\n",
              "<style scoped>\n",
              "    .dataframe tbody tr th:only-of-type {\n",
              "        vertical-align: middle;\n",
              "    }\n",
              "\n",
              "    .dataframe tbody tr th {\n",
              "        vertical-align: top;\n",
              "    }\n",
              "\n",
              "    .dataframe thead th {\n",
              "        text-align: right;\n",
              "    }\n",
              "</style>\n",
              "<table border=\"1\" class=\"dataframe\">\n",
              "  <thead>\n",
              "    <tr style=\"text-align: right;\">\n",
              "      <th></th>\n",
              "      <th>mean_accuracy</th>\n",
              "      <th>done</th>\n",
              "      <th>timesteps_total</th>\n",
              "      <th>episodes_total</th>\n",
              "      <th>training_iteration</th>\n",
              "      <th>experiment_id</th>\n",
              "      <th>date</th>\n",
              "      <th>timestamp</th>\n",
              "      <th>time_this_iter_s</th>\n",
              "      <th>time_total_s</th>\n",
              "      <th>pid</th>\n",
              "      <th>hostname</th>\n",
              "      <th>node_ip</th>\n",
              "      <th>time_since_restore</th>\n",
              "      <th>timesteps_since_restore</th>\n",
              "      <th>iterations_since_restore</th>\n",
              "      <th>trial_id</th>\n",
              "      <th>experiment_tag</th>\n",
              "      <th>config/booster</th>\n",
              "      <th>config/eta</th>\n",
              "      <th>config/eval_metric</th>\n",
              "      <th>config/gamma</th>\n",
              "      <th>config/grow_policy</th>\n",
              "      <th>config/max_depth</th>\n",
              "      <th>config/num_class</th>\n",
              "      <th>config/objective</th>\n",
              "      <th>config/verbosity</th>\n",
              "      <th>logdir</th>\n",
              "    </tr>\n",
              "  </thead>\n",
              "  <tbody>\n",
              "    <tr>\n",
              "      <th>0</th>\n",
              "      <td>0.2</td>\n",
              "      <td>True</td>\n",
              "      <td>NaN</td>\n",
              "      <td>NaN</td>\n",
              "      <td>10</td>\n",
              "      <td>7f6e26f2963b43d4b6f7c8b25c7e722a</td>\n",
              "      <td>2020-01-13_15-29-31</td>\n",
              "      <td>1578929371</td>\n",
              "      <td>335.861557</td>\n",
              "      <td>1684.940611</td>\n",
              "      <td>387</td>\n",
              "      <td>9991d65102f3</td>\n",
              "      <td>172.28.0.2</td>\n",
              "      <td>335.861557</td>\n",
              "      <td>0</td>\n",
              "      <td>1</td>\n",
              "      <td>027d3ac0</td>\n",
              "      <td>0_eta=0.044127,gamma=0.010735,grow_policy=loss...</td>\n",
              "      <td>gbtree</td>\n",
              "      <td>0.044127</td>\n",
              "      <td>merror</td>\n",
              "      <td>1.073470e-02</td>\n",
              "      <td>lossguide</td>\n",
              "      <td>7</td>\n",
              "      <td>5</td>\n",
              "      <td>multi:softprob</td>\n",
              "      <td>0</td>\n",
              "      <td>/root/ray_results/XGBoost_trainable/XGBoost_tr...</td>\n",
              "    </tr>\n",
              "    <tr>\n",
              "      <th>1</th>\n",
              "      <td>0.2</td>\n",
              "      <td>True</td>\n",
              "      <td>NaN</td>\n",
              "      <td>NaN</td>\n",
              "      <td>10</td>\n",
              "      <td>7f6e26f2963b43d4b6f7c8b25c7e722a</td>\n",
              "      <td>2020-01-13_15-28-26</td>\n",
              "      <td>1578929306</td>\n",
              "      <td>180.057062</td>\n",
              "      <td>1529.136116</td>\n",
              "      <td>519</td>\n",
              "      <td>9991d65102f3</td>\n",
              "      <td>172.28.0.2</td>\n",
              "      <td>180.057062</td>\n",
              "      <td>0</td>\n",
              "      <td>1</td>\n",
              "      <td>02f9e0c0</td>\n",
              "      <td>1_eta=0.00056603,gamma=2.9078e-08,grow_policy=...</td>\n",
              "      <td>gbtree</td>\n",
              "      <td>0.000566</td>\n",
              "      <td>merror</td>\n",
              "      <td>2.907770e-08</td>\n",
              "      <td>lossguide</td>\n",
              "      <td>2</td>\n",
              "      <td>5</td>\n",
              "      <td>multi:softprob</td>\n",
              "      <td>0</td>\n",
              "      <td>/root/ray_results/XGBoost_trainable/XGBoost_tr...</td>\n",
              "    </tr>\n",
              "    <tr>\n",
              "      <th>2</th>\n",
              "      <td>0.2</td>\n",
              "      <td>True</td>\n",
              "      <td>NaN</td>\n",
              "      <td>NaN</td>\n",
              "      <td>10</td>\n",
              "      <td>7f6e26f2963b43d4b6f7c8b25c7e722a</td>\n",
              "      <td>2020-01-13_15-31-25</td>\n",
              "      <td>1578929485</td>\n",
              "      <td>179.493554</td>\n",
              "      <td>1528.572608</td>\n",
              "      <td>519</td>\n",
              "      <td>9991d65102f3</td>\n",
              "      <td>172.28.0.2</td>\n",
              "      <td>179.493554</td>\n",
              "      <td>0</td>\n",
              "      <td>1</td>\n",
              "      <td>0373cc96</td>\n",
              "      <td>2_eta=0.0058732,gamma=2.6895e-07,grow_policy=l...</td>\n",
              "      <td>gbtree</td>\n",
              "      <td>0.005873</td>\n",
              "      <td>merror</td>\n",
              "      <td>2.689480e-07</td>\n",
              "      <td>lossguide</td>\n",
              "      <td>1</td>\n",
              "      <td>5</td>\n",
              "      <td>multi:softprob</td>\n",
              "      <td>0</td>\n",
              "      <td>/root/ray_results/XGBoost_trainable/XGBoost_tr...</td>\n",
              "    </tr>\n",
              "    <tr>\n",
              "      <th>3</th>\n",
              "      <td>0.2</td>\n",
              "      <td>True</td>\n",
              "      <td>NaN</td>\n",
              "      <td>NaN</td>\n",
              "      <td>10</td>\n",
              "      <td>cc8379e9a262436f84ca9a1bf757c9b8</td>\n",
              "      <td>2020-01-13_15-40-19</td>\n",
              "      <td>1578930019</td>\n",
              "      <td>202.240203</td>\n",
              "      <td>2224.152473</td>\n",
              "      <td>387</td>\n",
              "      <td>9991d65102f3</td>\n",
              "      <td>172.28.0.2</td>\n",
              "      <td>647.956834</td>\n",
              "      <td>0</td>\n",
              "      <td>3</td>\n",
              "      <td>03b51f0c</td>\n",
              "      <td>3_eta=0.0010636,gamma=0.011669,grow_policy=dep...</td>\n",
              "      <td>gbtree</td>\n",
              "      <td>0.001064</td>\n",
              "      <td>merror</td>\n",
              "      <td>1.166906e-02</td>\n",
              "      <td>depthwise</td>\n",
              "      <td>4</td>\n",
              "      <td>5</td>\n",
              "      <td>multi:softprob</td>\n",
              "      <td>0</td>\n",
              "      <td>/root/ray_results/XGBoost_trainable/XGBoost_tr...</td>\n",
              "    </tr>\n",
              "  </tbody>\n",
              "</table>\n",
              "</div>"
            ],
            "text/plain": [
              "   mean_accuracy  ...                                             logdir\n",
              "0            0.2  ...  /root/ray_results/XGBoost_trainable/XGBoost_tr...\n",
              "1            0.2  ...  /root/ray_results/XGBoost_trainable/XGBoost_tr...\n",
              "2            0.2  ...  /root/ray_results/XGBoost_trainable/XGBoost_tr...\n",
              "3            0.2  ...  /root/ray_results/XGBoost_trainable/XGBoost_tr...\n",
              "\n",
              "[4 rows x 28 columns]"
            ]
          },
          "metadata": {
            "tags": []
          },
          "execution_count": 11
        }
      ]
    },
    {
      "cell_type": "markdown",
      "metadata": {
        "id": "I2etZbEXf21D",
        "colab_type": "text"
      },
      "source": [
        "## 7.2. BOHB\n",
        "\n",
        "First we need to import BOHB schedulers:"
      ]
    },
    {
      "cell_type": "code",
      "metadata": {
        "id": "kn1axUb5yajs",
        "colab_type": "code",
        "colab": {}
      },
      "source": [
        "from ray.tune.schedulers.hb_bohb import HyperBandForBOHB\n",
        "from ray.tune.suggest.bohb import TuneBOHB"
      ],
      "execution_count": 0,
      "outputs": []
    },
    {
      "cell_type": "markdown",
      "metadata": {
        "id": "MrgZ7foTcQii",
        "colab_type": "text"
      },
      "source": [
        "For BOHB, it is required to use the ConfigSpace and hpbandster library. Please run the following cell if you do not have it on your system."
      ]
    },
    {
      "cell_type": "code",
      "metadata": {
        "id": "OreMsve1cc4i",
        "colab_type": "code",
        "colab": {}
      },
      "source": [
        "pip install ConfigSpace\n",
        "pip install hpbandster"
      ],
      "execution_count": 0,
      "outputs": []
    },
    {
      "cell_type": "markdown",
      "metadata": {
        "id": "kxkd5W6scevR",
        "colab_type": "text"
      },
      "source": [
        "We can now import ConfigSpace and define the search space for BOHB"
      ]
    },
    {
      "cell_type": "code",
      "metadata": {
        "id": "-xjNMbu8sODQ",
        "colab_type": "code",
        "colab": {}
      },
      "source": [
        "# Import ConfigSpace\n",
        "import ConfigSpace as CS\n",
        "\n",
        "# Initiate a configuration space class\n",
        "config_space = CS.ConfigurationSpace()\n",
        "\n",
        "# Define the search space\n",
        "config_space.add_hyperparameter(CS.UniformIntegerHyperparameter(\"max_depth\", lower=1, upper=9))\n",
        "config_space.add_hyperparameter(CS.UniformFloatHyperparameter(\"eta\", lower=1e-4, upper=1e-1))\n",
        "config_space.add_hyperparameter(CS.UniformFloatHyperparameter(\"gamma\", lower=1e-8, upper=1.0))\n",
        "config_space.add_hyperparameter(CS.CategoricalHyperparameter(\"grow_policy\", choices=[\"depthwise\", \"lossguide\"]));"
      ],
      "execution_count": 0,
      "outputs": []
    },
    {
      "cell_type": "markdown",
      "metadata": {
        "id": "NHbfj-JjcuCl",
        "colab_type": "text"
      },
      "source": [
        "As with PBT, we need to configure BOHB scheduler:"
      ]
    },
    {
      "cell_type": "code",
      "metadata": {
        "id": "BOkRk3FAsWC0",
        "colab_type": "code",
        "colab": {}
      },
      "source": [
        "# Define experiment metrics\n",
        "experiment_metrics = dict(metric=\"mean_accuracy\", mode=\"max\")\n",
        "\n",
        "# Define scheduler\n",
        "bohb_hyperband = HyperBandForBOHB(**experiment_metrics)\n",
        "\n",
        "# Define search algorithm\n",
        "bohb_search = TuneBOHB(\n",
        "    config_space, max_concurrent=4, **experiment_metrics)"
      ],
      "execution_count": 0,
      "outputs": []
    },
    {
      "cell_type": "markdown",
      "metadata": {
        "id": "XpR6EqDBdrbh",
        "colab_type": "text"
      },
      "source": [
        "Finally, we run a BOHB search:"
      ]
    },
    {
      "cell_type": "code",
      "metadata": {
        "id": "uF8ygHi4tVvL",
        "colab_type": "code",
        "outputId": "9d04088c-d4f4-4c87-dad8-a14236addcc2",
        "colab": {
          "base_uri": "https://localhost:8080/",
          "height": 1000
        }
      },
      "source": [
        "# Run BOHB search\n",
        "tune.run(XGBoost_trainable,\n",
        "    resources_per_trial={\"cpu\": 1},\n",
        "    scheduler=bohb_hyperband,\n",
        "    search_alg=bohb_search,\n",
        "    reuse_actors=True,\n",
        "    num_samples=4\n",
        "    )"
      ],
      "execution_count": 0,
      "outputs": [
        {
          "output_type": "stream",
          "text": [
            "2020-01-13 18:21:27,428\tINFO ray_trial_executor.py:121 -- Trial XGBoost_trainable_82b61090: Setting up new remote runner.\n",
            "2020-01-13 18:21:27,476\tWARNING worker.py:1054 -- Warning: The actor XGBoost_trainable has size 24243515 when pickled. It will be stored in Redis, which could cause memory issues. This may mean that its definition uses a large array or other object.\n"
          ],
          "name": "stderr"
        },
        {
          "output_type": "display_data",
          "data": {
            "text/html": [
              "== Status ==<br>Memory usage on this node: 1.3/12.7 GiB<br>Using HyperBand: num_stopped=0 total_brackets=1\n",
              "Round #0:\n",
              "  Bracket(Max Size (n)=81, Milestone (r)=1, completed=0.0%): {PENDING: 3, RUNNING: 1} <br>Resources requested: 1/2 CPUs, 0/0 GPUs, 0.0/6.1 GiB heap, 0.0/2.1 GiB objects<br>Result logdir: /root/ray_results/XGBoost_trainable<br>Number of trials: 4 (1 RUNNING, 3 PENDING)<br><table>\n",
              "<thead>\n",
              "<tr><th>Trial name                </th><th>status  </th><th>loc  </th><th>grow_policy  </th><th>eta  </th><th>gamma  </th><th>max_depth  </th></tr>\n",
              "</thead>\n",
              "<tbody>\n",
              "<tr><td>XGBoost_trainable_82b61090</td><td>RUNNING </td><td>     </td><td>             </td><td>     </td><td>       </td><td>           </td></tr>\n",
              "<tr><td>XGBoost_trainable_82dfcba6</td><td>PENDING </td><td>     </td><td>             </td><td>     </td><td>       </td><td>           </td></tr>\n",
              "<tr><td>XGBoost_trainable_83046f9c</td><td>PENDING </td><td>     </td><td>             </td><td>     </td><td>       </td><td>           </td></tr>\n",
              "<tr><td>XGBoost_trainable_832a3402</td><td>PENDING </td><td>     </td><td>             </td><td>     </td><td>       </td><td>           </td></tr>\n",
              "</tbody>\n",
              "</table><br><br>"
            ],
            "text/plain": [
              "<IPython.core.display.HTML object>"
            ]
          },
          "metadata": {
            "tags": []
          }
        },
        {
          "output_type": "stream",
          "text": [
            "2020-01-13 18:21:27,793\tINFO ray_trial_executor.py:121 -- Trial XGBoost_trainable_82dfcba6: Setting up new remote runner.\n",
            "2020-01-13 18:21:27,873\tWARNING worker.py:1054 -- Warning: The actor XGBoost_trainable has size 24243515 when pickled. It will be stored in Redis, which could cause memory issues. This may mean that its definition uses a large array or other object.\n"
          ],
          "name": "stderr"
        },
        {
          "output_type": "stream",
          "text": [
            "Result for XGBoost_trainable_82b61090:\n",
            "  date: 2020-01-13_18-28-11\n",
            "  done: false\n",
            "  experiment_id: 3691cddf60f94eacb008a6ea2a7fe57c\n",
            "  experiment_tag: 1_eta=0.010571,gamma=0.40645,grow_policy=lossguide,max_depth=8\n",
            "  hostname: 9991d65102f3\n",
            "  iterations_since_restore: 1\n",
            "  mean_accuracy: 0.2\n",
            "  node_ip: 172.28.0.2\n",
            "  pid: 4122\n",
            "  time_since_restore: 400.8107225894928\n",
            "  time_this_iter_s: 400.8107225894928\n",
            "  time_total_s: 400.8107225894928\n",
            "  timestamp: 1578940091\n",
            "  timesteps_since_restore: 0\n",
            "  training_iteration: 1\n",
            "  trial_id: 82b61090\n",
            "  \n"
          ],
          "name": "stdout"
        },
        {
          "output_type": "display_data",
          "data": {
            "text/html": [
              "== Status ==<br>Memory usage on this node: 1.6/12.7 GiB<br>Using HyperBand: num_stopped=0 total_brackets=1\n",
              "Round #0:\n",
              "  Bracket(Max Size (n)=81, Milestone (r)=1, completed=0.2%): {PAUSED: 1, PENDING: 2, RUNNING: 1} <br>Resources requested: 1/2 CPUs, 0/0 GPUs, 0.0/6.1 GiB heap, 0.0/2.1 GiB objects<br>Result logdir: /root/ray_results/XGBoost_trainable<br>Number of trials: 4 (1 PAUSED, 1 RUNNING, 2 PENDING)<br><table>\n",
              "<thead>\n",
              "<tr><th>Trial name                </th><th>status  </th><th>loc  </th><th>grow_policy  </th><th style=\"text-align: right;\">      eta</th><th style=\"text-align: right;\">   gamma</th><th style=\"text-align: right;\">  max_depth</th><th style=\"text-align: right;\">  iter</th><th style=\"text-align: right;\">  total time (s)</th><th style=\"text-align: right;\">  acc</th></tr>\n",
              "</thead>\n",
              "<tbody>\n",
              "<tr><td>XGBoost_trainable_82b61090</td><td>PAUSED  </td><td>     </td><td>lossguide    </td><td style=\"text-align: right;\">0.0105708</td><td style=\"text-align: right;\">0.406448</td><td style=\"text-align: right;\">          8</td><td style=\"text-align: right;\">     1</td><td style=\"text-align: right;\">         400.811</td><td style=\"text-align: right;\">  0.2</td></tr>\n",
              "<tr><td>XGBoost_trainable_82dfcba6</td><td>RUNNING </td><td>     </td><td>             </td><td style=\"text-align: right;\">         </td><td style=\"text-align: right;\">        </td><td style=\"text-align: right;\">           </td><td style=\"text-align: right;\">      </td><td style=\"text-align: right;\">                </td><td style=\"text-align: right;\">     </td></tr>\n",
              "<tr><td>XGBoost_trainable_83046f9c</td><td>PENDING </td><td>     </td><td>             </td><td style=\"text-align: right;\">         </td><td style=\"text-align: right;\">        </td><td style=\"text-align: right;\">           </td><td style=\"text-align: right;\">      </td><td style=\"text-align: right;\">                </td><td style=\"text-align: right;\">     </td></tr>\n",
              "<tr><td>XGBoost_trainable_832a3402</td><td>PENDING </td><td>     </td><td>             </td><td style=\"text-align: right;\">         </td><td style=\"text-align: right;\">        </td><td style=\"text-align: right;\">           </td><td style=\"text-align: right;\">      </td><td style=\"text-align: right;\">                </td><td style=\"text-align: right;\">     </td></tr>\n",
              "</tbody>\n",
              "</table><br><br>"
            ],
            "text/plain": [
              "<IPython.core.display.HTML object>"
            ]
          },
          "metadata": {
            "tags": []
          }
        },
        {
          "output_type": "stream",
          "text": [
            "2020-01-13 18:28:12,033\tINFO ray_trial_executor.py:121 -- Trial XGBoost_trainable_83046f9c: Setting up new remote runner.\n",
            "2020-01-13 18:28:12,124\tWARNING worker.py:1054 -- Warning: The actor XGBoost_trainable has size 24243515 when pickled. It will be stored in Redis, which could cause memory issues. This may mean that its definition uses a large array or other object.\n"
          ],
          "name": "stderr"
        },
        {
          "output_type": "stream",
          "text": [
            "Result for XGBoost_trainable_82dfcba6:\n",
            "  date: 2020-01-13_18-28-13\n",
            "  done: false\n",
            "  experiment_id: 16f69ef7f0924c0282aea2d931fb3408\n",
            "  experiment_tag: 2_eta=0.055688,gamma=0.52978,grow_policy=lossguide,max_depth=8\n",
            "  hostname: 9991d65102f3\n",
            "  iterations_since_restore: 1\n",
            "  mean_accuracy: 0.2\n",
            "  node_ip: 172.28.0.2\n",
            "  pid: 4125\n",
            "  time_since_restore: 402.2123875617981\n",
            "  time_this_iter_s: 402.2123875617981\n",
            "  time_total_s: 402.2123875617981\n",
            "  timestamp: 1578940093\n",
            "  timesteps_since_restore: 0\n",
            "  training_iteration: 1\n",
            "  trial_id: 82dfcba6\n",
            "  \n"
          ],
          "name": "stdout"
        },
        {
          "output_type": "stream",
          "text": [
            "2020-01-13 18:28:13,436\tINFO ray_trial_executor.py:121 -- Trial XGBoost_trainable_832a3402: Setting up new remote runner.\n",
            "2020-01-13 18:28:13,582\tWARNING worker.py:1054 -- Warning: The actor XGBoost_trainable has size 24243515 when pickled. It will be stored in Redis, which could cause memory issues. This may mean that its definition uses a large array or other object.\n"
          ],
          "name": "stderr"
        },
        {
          "output_type": "stream",
          "text": [
            "Result for XGBoost_trainable_832a3402:\n",
            "  date: 2020-01-13_18-29-03\n",
            "  done: false\n",
            "  experiment_id: dba50441a96149289476f25c4382c3e2\n",
            "  experiment_tag: 4_eta=0.03145,gamma=0.89291,grow_policy=depthwise,max_depth=1\n",
            "  hostname: 9991d65102f3\n",
            "  iterations_since_restore: 1\n",
            "  mean_accuracy: 0.2\n",
            "  node_ip: 172.28.0.2\n",
            "  pid: 4300\n",
            "  time_since_restore: 46.931201696395874\n",
            "  time_this_iter_s: 46.931201696395874\n",
            "  time_total_s: 46.931201696395874\n",
            "  timestamp: 1578940143\n",
            "  timesteps_since_restore: 0\n",
            "  training_iteration: 1\n",
            "  trial_id: 832a3402\n",
            "  \n"
          ],
          "name": "stdout"
        },
        {
          "output_type": "display_data",
          "data": {
            "text/html": [
              "== Status ==<br>Memory usage on this node: 1.6/12.7 GiB<br>Using HyperBand: num_stopped=0 total_brackets=1\n",
              "Round #0:\n",
              "  Bracket(Max Size (n)=81, Milestone (r)=1, completed=0.7%): {PAUSED: 3, RUNNING: 1} <br>Resources requested: 1/2 CPUs, 0/0 GPUs, 0.0/6.1 GiB heap, 0.0/2.1 GiB objects<br>Result logdir: /root/ray_results/XGBoost_trainable<br>Number of trials: 4 (3 PAUSED, 1 RUNNING)<br><table>\n",
              "<thead>\n",
              "<tr><th>Trial name                </th><th>status  </th><th>loc  </th><th>grow_policy  </th><th style=\"text-align: right;\">      eta</th><th style=\"text-align: right;\">   gamma</th><th style=\"text-align: right;\">  max_depth</th><th style=\"text-align: right;\">  iter</th><th style=\"text-align: right;\">  total time (s)</th><th style=\"text-align: right;\">  acc</th></tr>\n",
              "</thead>\n",
              "<tbody>\n",
              "<tr><td>XGBoost_trainable_82b61090</td><td>PAUSED  </td><td>     </td><td>lossguide    </td><td style=\"text-align: right;\">0.0105708</td><td style=\"text-align: right;\">0.406448</td><td style=\"text-align: right;\">          8</td><td style=\"text-align: right;\">     1</td><td style=\"text-align: right;\">        400.811 </td><td style=\"text-align: right;\">  0.2</td></tr>\n",
              "<tr><td>XGBoost_trainable_82dfcba6</td><td>PAUSED  </td><td>     </td><td>lossguide    </td><td style=\"text-align: right;\">0.0556884</td><td style=\"text-align: right;\">0.529778</td><td style=\"text-align: right;\">          8</td><td style=\"text-align: right;\">     1</td><td style=\"text-align: right;\">        402.212 </td><td style=\"text-align: right;\">  0.2</td></tr>\n",
              "<tr><td>XGBoost_trainable_83046f9c</td><td>RUNNING </td><td>     </td><td>             </td><td style=\"text-align: right;\">         </td><td style=\"text-align: right;\">        </td><td style=\"text-align: right;\">           </td><td style=\"text-align: right;\">      </td><td style=\"text-align: right;\">                </td><td style=\"text-align: right;\">     </td></tr>\n",
              "<tr><td>XGBoost_trainable_832a3402</td><td>PAUSED  </td><td>     </td><td>depthwise    </td><td style=\"text-align: right;\">0.0314498</td><td style=\"text-align: right;\">0.892913</td><td style=\"text-align: right;\">          1</td><td style=\"text-align: right;\">     1</td><td style=\"text-align: right;\">         46.9312</td><td style=\"text-align: right;\">  0.2</td></tr>\n",
              "</tbody>\n",
              "</table><br><br>"
            ],
            "text/plain": [
              "<IPython.core.display.HTML object>"
            ]
          },
          "metadata": {
            "tags": []
          }
        },
        {
          "output_type": "stream",
          "text": [
            "Result for XGBoost_trainable_83046f9c:\n",
            "  date: 2020-01-13_18-30-21\n",
            "  done: false\n",
            "  experiment_id: 7dfe5681a9894a5d89e85b61aeafc259\n",
            "  experiment_tag: 3_eta=0.063225,gamma=0.87817,grow_policy=depthwise,max_depth=4\n",
            "  hostname: 9991d65102f3\n",
            "  iterations_since_restore: 1\n",
            "  mean_accuracy: 0.2\n",
            "  node_ip: 172.28.0.2\n",
            "  pid: 4137\n",
            "  time_since_restore: 128.11476230621338\n",
            "  time_this_iter_s: 128.11476230621338\n",
            "  time_total_s: 128.11476230621338\n",
            "  timestamp: 1578940221\n",
            "  timesteps_since_restore: 0\n",
            "  training_iteration: 1\n",
            "  trial_id: 83046f9c\n",
            "  \n"
          ],
          "name": "stdout"
        },
        {
          "output_type": "display_data",
          "data": {
            "text/html": [
              "== Status ==<br>Memory usage on this node: 1.5/12.7 GiB<br>Using HyperBand: num_stopped=0 total_brackets=1\n",
              "Round #0:\n",
              "  Bracket(Max Size (n)=81, Milestone (r)=1, completed=1.0%): {PAUSED: 4} <br>Resources requested: 0/2 CPUs, 0/0 GPUs, 0.0/6.1 GiB heap, 0.0/2.1 GiB objects<br>Result logdir: /root/ray_results/XGBoost_trainable<br>Number of trials: 4 (4 PAUSED)<br><table>\n",
              "<thead>\n",
              "<tr><th>Trial name                </th><th>status  </th><th>loc  </th><th>grow_policy  </th><th style=\"text-align: right;\">      eta</th><th style=\"text-align: right;\">   gamma</th><th style=\"text-align: right;\">  max_depth</th><th style=\"text-align: right;\">  iter</th><th style=\"text-align: right;\">  total time (s)</th><th style=\"text-align: right;\">  acc</th></tr>\n",
              "</thead>\n",
              "<tbody>\n",
              "<tr><td>XGBoost_trainable_82b61090</td><td>PAUSED  </td><td>     </td><td>lossguide    </td><td style=\"text-align: right;\">0.0105708</td><td style=\"text-align: right;\">0.406448</td><td style=\"text-align: right;\">          8</td><td style=\"text-align: right;\">     1</td><td style=\"text-align: right;\">        400.811 </td><td style=\"text-align: right;\">  0.2</td></tr>\n",
              "<tr><td>XGBoost_trainable_82dfcba6</td><td>PAUSED  </td><td>     </td><td>lossguide    </td><td style=\"text-align: right;\">0.0556884</td><td style=\"text-align: right;\">0.529778</td><td style=\"text-align: right;\">          8</td><td style=\"text-align: right;\">     1</td><td style=\"text-align: right;\">        402.212 </td><td style=\"text-align: right;\">  0.2</td></tr>\n",
              "<tr><td>XGBoost_trainable_83046f9c</td><td>PAUSED  </td><td>     </td><td>depthwise    </td><td style=\"text-align: right;\">0.0632253</td><td style=\"text-align: right;\">0.878173</td><td style=\"text-align: right;\">          4</td><td style=\"text-align: right;\">     1</td><td style=\"text-align: right;\">        128.115 </td><td style=\"text-align: right;\">  0.2</td></tr>\n",
              "<tr><td>XGBoost_trainable_832a3402</td><td>PAUSED  </td><td>     </td><td>depthwise    </td><td style=\"text-align: right;\">0.0314498</td><td style=\"text-align: right;\">0.892913</td><td style=\"text-align: right;\">          1</td><td style=\"text-align: right;\">     1</td><td style=\"text-align: right;\">         46.9312</td><td style=\"text-align: right;\">  0.2</td></tr>\n",
              "</tbody>\n",
              "</table><br><br>"
            ],
            "text/plain": [
              "<IPython.core.display.HTML object>"
            ]
          },
          "metadata": {
            "tags": []
          }
        },
        {
          "output_type": "stream",
          "text": [
            "\u001b[2m\u001b[36m(pid=4300)\u001b[0m 2020-01-13 18:30:21,901\tINFO trainable.py:346 -- Restored from checkpoint: /root/ray_results/XGBoost_trainable/XGBoost_trainable_832a3402_2020-01-13_18-28-13k7cutwmt/tmpalws9aburestore_from_object/checkpoint_1/model.pth\n",
            "\u001b[2m\u001b[36m(pid=4300)\u001b[0m 2020-01-13 18:30:21,902\tINFO trainable.py:353 -- Current state after restoring: {'_iteration': 1, '_timesteps_total': None, '_time_total': 400.8107225894928, '_episodes_total': None}\n"
          ],
          "name": "stdout"
        },
        {
          "output_type": "stream",
          "text": [
            "2020-01-13 18:30:22,253\tINFO ray_trial_executor.py:121 -- Trial XGBoost_trainable_82dfcba6: Setting up new remote runner.\n",
            "2020-01-13 18:30:22,352\tWARNING worker.py:1054 -- Warning: The actor XGBoost_trainable has size 24243515 when pickled. It will be stored in Redis, which could cause memory issues. This may mean that its definition uses a large array or other object.\n",
            "2020-01-13 18:30:22,387\tWARNING util.py:140 -- The `start_trial` operation took 0.5014660358428955 seconds to complete, which may be a performance bottleneck.\n"
          ],
          "name": "stderr"
        },
        {
          "output_type": "stream",
          "text": [
            "\u001b[2m\u001b[36m(pid=4355)\u001b[0m 2020-01-13 18:30:24,684\tINFO trainable.py:346 -- Restored from checkpoint: /root/ray_results/XGBoost_trainable/XGBoost_trainable_82dfcba6_2020-01-13_18-21-272u5yyp8x/tmp0k6wxo7irestore_from_object/checkpoint_1/model.pth\n",
            "\u001b[2m\u001b[36m(pid=4355)\u001b[0m 2020-01-13 18:30:24,685\tINFO trainable.py:353 -- Current state after restoring: {'_iteration': 1, '_timesteps_total': None, '_time_total': 402.2123875617981, '_episodes_total': None}\n",
            "Result for XGBoost_trainable_82b61090:\n",
            "  date: 2020-01-13_18-31-08\n",
            "  done: false\n",
            "  experiment_id: 3691cddf60f94eacb008a6ea2a7fe57c\n",
            "  experiment_tag: 1_eta=0.010571,gamma=0.40645,grow_policy=lossguide,max_depth=8\n",
            "  hostname: 9991d65102f3\n",
            "  iterations_since_restore: 1\n",
            "  mean_accuracy: 0.2\n",
            "  node_ip: 172.28.0.2\n",
            "  pid: 4300\n",
            "  time_since_restore: 46.41538882255554\n",
            "  time_this_iter_s: 46.41538882255554\n",
            "  time_total_s: 447.22611141204834\n",
            "  timestamp: 1578940268\n",
            "  timesteps_since_restore: 0\n",
            "  training_iteration: 2\n",
            "  trial_id: 82b61090\n",
            "  \n"
          ],
          "name": "stdout"
        },
        {
          "output_type": "display_data",
          "data": {
            "text/html": [
              "== Status ==<br>Memory usage on this node: 1.6/12.7 GiB<br>Using HyperBand: num_stopped=0 total_brackets=1\n",
              "Round #0:\n",
              "  Bracket(Max Size (n)=27, Milestone (r)=3, completed=1.2%): {PENDING: 2, RUNNING: 2} <br>Resources requested: 2/2 CPUs, 0/0 GPUs, 0.0/6.1 GiB heap, 0.0/2.1 GiB objects<br>Result logdir: /root/ray_results/XGBoost_trainable<br>Number of trials: 4 (2 RUNNING, 2 PENDING)<br><table>\n",
              "<thead>\n",
              "<tr><th>Trial name                </th><th>status  </th><th>loc            </th><th>grow_policy  </th><th style=\"text-align: right;\">      eta</th><th style=\"text-align: right;\">   gamma</th><th style=\"text-align: right;\">  max_depth</th><th style=\"text-align: right;\">  iter</th><th style=\"text-align: right;\">  total time (s)</th><th style=\"text-align: right;\">  acc</th></tr>\n",
              "</thead>\n",
              "<tbody>\n",
              "<tr><td>XGBoost_trainable_82b61090</td><td>RUNNING </td><td>172.28.0.2:4300</td><td>lossguide    </td><td style=\"text-align: right;\">0.0105708</td><td style=\"text-align: right;\">0.406448</td><td style=\"text-align: right;\">          8</td><td style=\"text-align: right;\">     2</td><td style=\"text-align: right;\">        447.226 </td><td style=\"text-align: right;\">  0.2</td></tr>\n",
              "<tr><td>XGBoost_trainable_82dfcba6</td><td>RUNNING </td><td>               </td><td>lossguide    </td><td style=\"text-align: right;\">0.0556884</td><td style=\"text-align: right;\">0.529778</td><td style=\"text-align: right;\">          8</td><td style=\"text-align: right;\">     1</td><td style=\"text-align: right;\">        402.212 </td><td style=\"text-align: right;\">  0.2</td></tr>\n",
              "<tr><td>XGBoost_trainable_83046f9c</td><td>PENDING </td><td>               </td><td>depthwise    </td><td style=\"text-align: right;\">0.0632253</td><td style=\"text-align: right;\">0.878173</td><td style=\"text-align: right;\">          4</td><td style=\"text-align: right;\">     1</td><td style=\"text-align: right;\">        128.115 </td><td style=\"text-align: right;\">  0.2</td></tr>\n",
              "<tr><td>XGBoost_trainable_832a3402</td><td>PENDING </td><td>               </td><td>depthwise    </td><td style=\"text-align: right;\">0.0314498</td><td style=\"text-align: right;\">0.892913</td><td style=\"text-align: right;\">          1</td><td style=\"text-align: right;\">     1</td><td style=\"text-align: right;\">         46.9312</td><td style=\"text-align: right;\">  0.2</td></tr>\n",
              "</tbody>\n",
              "</table><br><br>"
            ],
            "text/plain": [
              "<IPython.core.display.HTML object>"
            ]
          },
          "metadata": {
            "tags": []
          }
        },
        {
          "output_type": "stream",
          "text": [
            "Result for XGBoost_trainable_82b61090:\n",
            "  date: 2020-01-13_18-31-54\n",
            "  done: false\n",
            "  experiment_id: 3691cddf60f94eacb008a6ea2a7fe57c\n",
            "  experiment_tag: 1_eta=0.010571,gamma=0.40645,grow_policy=lossguide,max_depth=8\n",
            "  hostname: 9991d65102f3\n",
            "  iterations_since_restore: 2\n",
            "  mean_accuracy: 0.2\n",
            "  node_ip: 172.28.0.2\n",
            "  pid: 4300\n",
            "  time_since_restore: 92.71601676940918\n",
            "  time_this_iter_s: 46.30062794685364\n",
            "  time_total_s: 493.526739358902\n",
            "  timestamp: 1578940314\n",
            "  timesteps_since_restore: 0\n",
            "  training_iteration: 3\n",
            "  trial_id: 82b61090\n",
            "  \n"
          ],
          "name": "stdout"
        },
        {
          "output_type": "display_data",
          "data": {
            "text/html": [
              "== Status ==<br>Memory usage on this node: 1.5/12.7 GiB<br>Using HyperBand: num_stopped=0 total_brackets=1\n",
              "Round #0:\n",
              "  Bracket(Max Size (n)=27, Milestone (r)=3, completed=1.5%): {PAUSED: 1, PENDING: 2, RUNNING: 1} <br>Resources requested: 1/2 CPUs, 0/0 GPUs, 0.0/6.1 GiB heap, 0.0/2.1 GiB objects<br>Result logdir: /root/ray_results/XGBoost_trainable<br>Number of trials: 4 (1 PAUSED, 1 RUNNING, 2 PENDING)<br><table>\n",
              "<thead>\n",
              "<tr><th>Trial name                </th><th>status  </th><th>loc  </th><th>grow_policy  </th><th style=\"text-align: right;\">      eta</th><th style=\"text-align: right;\">   gamma</th><th style=\"text-align: right;\">  max_depth</th><th style=\"text-align: right;\">  iter</th><th style=\"text-align: right;\">  total time (s)</th><th style=\"text-align: right;\">  acc</th></tr>\n",
              "</thead>\n",
              "<tbody>\n",
              "<tr><td>XGBoost_trainable_82b61090</td><td>PAUSED  </td><td>     </td><td>lossguide    </td><td style=\"text-align: right;\">0.0105708</td><td style=\"text-align: right;\">0.406448</td><td style=\"text-align: right;\">          8</td><td style=\"text-align: right;\">     3</td><td style=\"text-align: right;\">        493.527 </td><td style=\"text-align: right;\">  0.2</td></tr>\n",
              "<tr><td>XGBoost_trainable_82dfcba6</td><td>RUNNING </td><td>     </td><td>lossguide    </td><td style=\"text-align: right;\">0.0556884</td><td style=\"text-align: right;\">0.529778</td><td style=\"text-align: right;\">          8</td><td style=\"text-align: right;\">     1</td><td style=\"text-align: right;\">        402.212 </td><td style=\"text-align: right;\">  0.2</td></tr>\n",
              "<tr><td>XGBoost_trainable_83046f9c</td><td>PENDING </td><td>     </td><td>depthwise    </td><td style=\"text-align: right;\">0.0632253</td><td style=\"text-align: right;\">0.878173</td><td style=\"text-align: right;\">          4</td><td style=\"text-align: right;\">     1</td><td style=\"text-align: right;\">        128.115 </td><td style=\"text-align: right;\">  0.2</td></tr>\n",
              "<tr><td>XGBoost_trainable_832a3402</td><td>PENDING </td><td>     </td><td>depthwise    </td><td style=\"text-align: right;\">0.0314498</td><td style=\"text-align: right;\">0.892913</td><td style=\"text-align: right;\">          1</td><td style=\"text-align: right;\">     1</td><td style=\"text-align: right;\">         46.9312</td><td style=\"text-align: right;\">  0.2</td></tr>\n",
              "</tbody>\n",
              "</table><br><br>"
            ],
            "text/plain": [
              "<IPython.core.display.HTML object>"
            ]
          },
          "metadata": {
            "tags": []
          }
        },
        {
          "output_type": "stream",
          "text": [
            "\u001b[2m\u001b[36m(pid=4300)\u001b[0m 2020-01-13 18:31:54,658\tINFO trainable.py:346 -- Restored from checkpoint: /root/ray_results/XGBoost_trainable/XGBoost_trainable_832a3402_2020-01-13_18-28-13k7cutwmt/tmps86mctegrestore_from_object/checkpoint_1/model.pth\n",
            "\u001b[2m\u001b[36m(pid=4300)\u001b[0m 2020-01-13 18:31:54,658\tINFO trainable.py:353 -- Current state after restoring: {'_iteration': 1, '_timesteps_total': None, '_time_total': 128.11476230621338, '_episodes_total': None}\n",
            "Result for XGBoost_trainable_83046f9c:\n",
            "  date: 2020-01-13_18-32-41\n",
            "  done: false\n",
            "  experiment_id: 7dfe5681a9894a5d89e85b61aeafc259\n",
            "  experiment_tag: 3_eta=0.063225,gamma=0.87817,grow_policy=depthwise,max_depth=4\n",
            "  hostname: 9991d65102f3\n",
            "  iterations_since_restore: 1\n",
            "  mean_accuracy: 0.2\n",
            "  node_ip: 172.28.0.2\n",
            "  pid: 4300\n",
            "  time_since_restore: 46.47866129875183\n",
            "  time_this_iter_s: 46.47866129875183\n",
            "  time_total_s: 174.5934236049652\n",
            "  timestamp: 1578940361\n",
            "  timesteps_since_restore: 0\n",
            "  training_iteration: 2\n",
            "  trial_id: 83046f9c\n",
            "  \n"
          ],
          "name": "stdout"
        },
        {
          "output_type": "display_data",
          "data": {
            "text/html": [
              "== Status ==<br>Memory usage on this node: 1.5/12.7 GiB<br>Using HyperBand: num_stopped=0 total_brackets=1\n",
              "Round #0:\n",
              "  Bracket(Max Size (n)=27, Milestone (r)=3, completed=1.7%): {PAUSED: 1, PENDING: 1, RUNNING: 2} <br>Resources requested: 2/2 CPUs, 0/0 GPUs, 0.0/6.1 GiB heap, 0.0/2.1 GiB objects<br>Result logdir: /root/ray_results/XGBoost_trainable<br>Number of trials: 4 (1 PAUSED, 2 RUNNING, 1 PENDING)<br><table>\n",
              "<thead>\n",
              "<tr><th>Trial name                </th><th>status  </th><th>loc            </th><th>grow_policy  </th><th style=\"text-align: right;\">      eta</th><th style=\"text-align: right;\">   gamma</th><th style=\"text-align: right;\">  max_depth</th><th style=\"text-align: right;\">  iter</th><th style=\"text-align: right;\">  total time (s)</th><th style=\"text-align: right;\">  acc</th></tr>\n",
              "</thead>\n",
              "<tbody>\n",
              "<tr><td>XGBoost_trainable_82b61090</td><td>PAUSED  </td><td>               </td><td>lossguide    </td><td style=\"text-align: right;\">0.0105708</td><td style=\"text-align: right;\">0.406448</td><td style=\"text-align: right;\">          8</td><td style=\"text-align: right;\">     3</td><td style=\"text-align: right;\">        493.527 </td><td style=\"text-align: right;\">  0.2</td></tr>\n",
              "<tr><td>XGBoost_trainable_82dfcba6</td><td>RUNNING </td><td>               </td><td>lossguide    </td><td style=\"text-align: right;\">0.0556884</td><td style=\"text-align: right;\">0.529778</td><td style=\"text-align: right;\">          8</td><td style=\"text-align: right;\">     1</td><td style=\"text-align: right;\">        402.212 </td><td style=\"text-align: right;\">  0.2</td></tr>\n",
              "<tr><td>XGBoost_trainable_83046f9c</td><td>RUNNING </td><td>172.28.0.2:4300</td><td>depthwise    </td><td style=\"text-align: right;\">0.0632253</td><td style=\"text-align: right;\">0.878173</td><td style=\"text-align: right;\">          4</td><td style=\"text-align: right;\">     2</td><td style=\"text-align: right;\">        174.593 </td><td style=\"text-align: right;\">  0.2</td></tr>\n",
              "<tr><td>XGBoost_trainable_832a3402</td><td>PENDING </td><td>               </td><td>depthwise    </td><td style=\"text-align: right;\">0.0314498</td><td style=\"text-align: right;\">0.892913</td><td style=\"text-align: right;\">          1</td><td style=\"text-align: right;\">     1</td><td style=\"text-align: right;\">         46.9312</td><td style=\"text-align: right;\">  0.2</td></tr>\n",
              "</tbody>\n",
              "</table><br><br>"
            ],
            "text/plain": [
              "<IPython.core.display.HTML object>"
            ]
          },
          "metadata": {
            "tags": []
          }
        },
        {
          "output_type": "stream",
          "text": [
            "Result for XGBoost_trainable_83046f9c:\n",
            "  date: 2020-01-13_18-33-27\n",
            "  done: false\n",
            "  experiment_id: 7dfe5681a9894a5d89e85b61aeafc259\n",
            "  experiment_tag: 3_eta=0.063225,gamma=0.87817,grow_policy=depthwise,max_depth=4\n",
            "  hostname: 9991d65102f3\n",
            "  iterations_since_restore: 2\n",
            "  mean_accuracy: 0.2\n",
            "  node_ip: 172.28.0.2\n",
            "  pid: 4300\n",
            "  time_since_restore: 92.7630364894867\n",
            "  time_this_iter_s: 46.28437519073486\n",
            "  time_total_s: 220.87779879570007\n",
            "  timestamp: 1578940407\n",
            "  timesteps_since_restore: 0\n",
            "  training_iteration: 3\n",
            "  trial_id: 83046f9c\n",
            "  \n"
          ],
          "name": "stdout"
        },
        {
          "output_type": "display_data",
          "data": {
            "text/html": [
              "== Status ==<br>Memory usage on this node: 1.5/12.7 GiB<br>Using HyperBand: num_stopped=0 total_brackets=1\n",
              "Round #0:\n",
              "  Bracket(Max Size (n)=27, Milestone (r)=3, completed=2.0%): {PAUSED: 2, PENDING: 1, RUNNING: 1} <br>Resources requested: 1/2 CPUs, 0/0 GPUs, 0.0/6.1 GiB heap, 0.0/2.1 GiB objects<br>Result logdir: /root/ray_results/XGBoost_trainable<br>Number of trials: 4 (2 PAUSED, 1 RUNNING, 1 PENDING)<br><table>\n",
              "<thead>\n",
              "<tr><th>Trial name                </th><th>status  </th><th>loc  </th><th>grow_policy  </th><th style=\"text-align: right;\">      eta</th><th style=\"text-align: right;\">   gamma</th><th style=\"text-align: right;\">  max_depth</th><th style=\"text-align: right;\">  iter</th><th style=\"text-align: right;\">  total time (s)</th><th style=\"text-align: right;\">  acc</th></tr>\n",
              "</thead>\n",
              "<tbody>\n",
              "<tr><td>XGBoost_trainable_82b61090</td><td>PAUSED  </td><td>     </td><td>lossguide    </td><td style=\"text-align: right;\">0.0105708</td><td style=\"text-align: right;\">0.406448</td><td style=\"text-align: right;\">          8</td><td style=\"text-align: right;\">     3</td><td style=\"text-align: right;\">        493.527 </td><td style=\"text-align: right;\">  0.2</td></tr>\n",
              "<tr><td>XGBoost_trainable_82dfcba6</td><td>RUNNING </td><td>     </td><td>lossguide    </td><td style=\"text-align: right;\">0.0556884</td><td style=\"text-align: right;\">0.529778</td><td style=\"text-align: right;\">          8</td><td style=\"text-align: right;\">     1</td><td style=\"text-align: right;\">        402.212 </td><td style=\"text-align: right;\">  0.2</td></tr>\n",
              "<tr><td>XGBoost_trainable_83046f9c</td><td>PAUSED  </td><td>     </td><td>depthwise    </td><td style=\"text-align: right;\">0.0632253</td><td style=\"text-align: right;\">0.878173</td><td style=\"text-align: right;\">          4</td><td style=\"text-align: right;\">     3</td><td style=\"text-align: right;\">        220.878 </td><td style=\"text-align: right;\">  0.2</td></tr>\n",
              "<tr><td>XGBoost_trainable_832a3402</td><td>PENDING </td><td>     </td><td>depthwise    </td><td style=\"text-align: right;\">0.0314498</td><td style=\"text-align: right;\">0.892913</td><td style=\"text-align: right;\">          1</td><td style=\"text-align: right;\">     1</td><td style=\"text-align: right;\">         46.9312</td><td style=\"text-align: right;\">  0.2</td></tr>\n",
              "</tbody>\n",
              "</table><br><br>"
            ],
            "text/plain": [
              "<IPython.core.display.HTML object>"
            ]
          },
          "metadata": {
            "tags": []
          }
        },
        {
          "output_type": "stream",
          "text": [
            "\u001b[2m\u001b[36m(pid=4300)\u001b[0m 2020-01-13 18:33:27,468\tINFO trainable.py:346 -- Restored from checkpoint: /root/ray_results/XGBoost_trainable/XGBoost_trainable_832a3402_2020-01-13_18-28-13k7cutwmt/tmpbhy7y9ztrestore_from_object/checkpoint_1/model.pth\n",
            "\u001b[2m\u001b[36m(pid=4300)\u001b[0m 2020-01-13 18:33:27,469\tINFO trainable.py:353 -- Current state after restoring: {'_iteration': 1, '_timesteps_total': None, '_time_total': 46.931201696395874, '_episodes_total': None}\n",
            "Result for XGBoost_trainable_832a3402:\n",
            "  date: 2020-01-13_18-34-14\n",
            "  done: false\n",
            "  experiment_id: dba50441a96149289476f25c4382c3e2\n",
            "  experiment_tag: 4_eta=0.03145,gamma=0.89291,grow_policy=depthwise,max_depth=1\n",
            "  hostname: 9991d65102f3\n",
            "  iterations_since_restore: 1\n",
            "  mean_accuracy: 0.2\n",
            "  node_ip: 172.28.0.2\n",
            "  pid: 4300\n",
            "  time_since_restore: 46.78222680091858\n",
            "  time_this_iter_s: 46.78222680091858\n",
            "  time_total_s: 93.71342849731445\n",
            "  timestamp: 1578940454\n",
            "  timesteps_since_restore: 0\n",
            "  training_iteration: 2\n",
            "  trial_id: 832a3402\n",
            "  \n"
          ],
          "name": "stdout"
        },
        {
          "output_type": "display_data",
          "data": {
            "text/html": [
              "== Status ==<br>Memory usage on this node: 1.5/12.7 GiB<br>Using HyperBand: num_stopped=0 total_brackets=1\n",
              "Round #0:\n",
              "  Bracket(Max Size (n)=27, Milestone (r)=3, completed=2.2%): {PAUSED: 2, RUNNING: 2} <br>Resources requested: 2/2 CPUs, 0/0 GPUs, 0.0/6.1 GiB heap, 0.0/2.1 GiB objects<br>Result logdir: /root/ray_results/XGBoost_trainable<br>Number of trials: 4 (2 PAUSED, 2 RUNNING)<br><table>\n",
              "<thead>\n",
              "<tr><th>Trial name                </th><th>status  </th><th>loc            </th><th>grow_policy  </th><th style=\"text-align: right;\">      eta</th><th style=\"text-align: right;\">   gamma</th><th style=\"text-align: right;\">  max_depth</th><th style=\"text-align: right;\">  iter</th><th style=\"text-align: right;\">  total time (s)</th><th style=\"text-align: right;\">  acc</th></tr>\n",
              "</thead>\n",
              "<tbody>\n",
              "<tr><td>XGBoost_trainable_82b61090</td><td>PAUSED  </td><td>               </td><td>lossguide    </td><td style=\"text-align: right;\">0.0105708</td><td style=\"text-align: right;\">0.406448</td><td style=\"text-align: right;\">          8</td><td style=\"text-align: right;\">     3</td><td style=\"text-align: right;\">        493.527 </td><td style=\"text-align: right;\">  0.2</td></tr>\n",
              "<tr><td>XGBoost_trainable_82dfcba6</td><td>RUNNING </td><td>               </td><td>lossguide    </td><td style=\"text-align: right;\">0.0556884</td><td style=\"text-align: right;\">0.529778</td><td style=\"text-align: right;\">          8</td><td style=\"text-align: right;\">     1</td><td style=\"text-align: right;\">        402.212 </td><td style=\"text-align: right;\">  0.2</td></tr>\n",
              "<tr><td>XGBoost_trainable_83046f9c</td><td>PAUSED  </td><td>               </td><td>depthwise    </td><td style=\"text-align: right;\">0.0632253</td><td style=\"text-align: right;\">0.878173</td><td style=\"text-align: right;\">          4</td><td style=\"text-align: right;\">     3</td><td style=\"text-align: right;\">        220.878 </td><td style=\"text-align: right;\">  0.2</td></tr>\n",
              "<tr><td>XGBoost_trainable_832a3402</td><td>RUNNING </td><td>172.28.0.2:4300</td><td>depthwise    </td><td style=\"text-align: right;\">0.0314498</td><td style=\"text-align: right;\">0.892913</td><td style=\"text-align: right;\">          1</td><td style=\"text-align: right;\">     2</td><td style=\"text-align: right;\">         93.7134</td><td style=\"text-align: right;\">  0.2</td></tr>\n",
              "</tbody>\n",
              "</table><br><br>"
            ],
            "text/plain": [
              "<IPython.core.display.HTML object>"
            ]
          },
          "metadata": {
            "tags": []
          }
        },
        {
          "output_type": "stream",
          "text": [
            "Result for XGBoost_trainable_832a3402:\n",
            "  date: 2020-01-13_18-35-00\n",
            "  done: false\n",
            "  experiment_id: dba50441a96149289476f25c4382c3e2\n",
            "  experiment_tag: 4_eta=0.03145,gamma=0.89291,grow_policy=depthwise,max_depth=1\n",
            "  hostname: 9991d65102f3\n",
            "  iterations_since_restore: 2\n",
            "  mean_accuracy: 0.2\n",
            "  node_ip: 172.28.0.2\n",
            "  pid: 4300\n",
            "  time_since_restore: 92.6515965461731\n",
            "  time_this_iter_s: 45.86936974525452\n",
            "  time_total_s: 139.58279824256897\n",
            "  timestamp: 1578940500\n",
            "  timesteps_since_restore: 0\n",
            "  training_iteration: 3\n",
            "  trial_id: 832a3402\n",
            "  \n"
          ],
          "name": "stdout"
        },
        {
          "output_type": "display_data",
          "data": {
            "text/html": [
              "== Status ==<br>Memory usage on this node: 1.5/12.7 GiB<br>Using HyperBand: num_stopped=0 total_brackets=1\n",
              "Round #0:\n",
              "  Bracket(Max Size (n)=27, Milestone (r)=3, completed=2.5%): {PAUSED: 3, RUNNING: 1} <br>Resources requested: 1/2 CPUs, 0/0 GPUs, 0.0/6.1 GiB heap, 0.0/2.1 GiB objects<br>Result logdir: /root/ray_results/XGBoost_trainable<br>Number of trials: 4 (3 PAUSED, 1 RUNNING)<br><table>\n",
              "<thead>\n",
              "<tr><th>Trial name                </th><th>status  </th><th>loc  </th><th>grow_policy  </th><th style=\"text-align: right;\">      eta</th><th style=\"text-align: right;\">   gamma</th><th style=\"text-align: right;\">  max_depth</th><th style=\"text-align: right;\">  iter</th><th style=\"text-align: right;\">  total time (s)</th><th style=\"text-align: right;\">  acc</th></tr>\n",
              "</thead>\n",
              "<tbody>\n",
              "<tr><td>XGBoost_trainable_82b61090</td><td>PAUSED  </td><td>     </td><td>lossguide    </td><td style=\"text-align: right;\">0.0105708</td><td style=\"text-align: right;\">0.406448</td><td style=\"text-align: right;\">          8</td><td style=\"text-align: right;\">     3</td><td style=\"text-align: right;\">         493.527</td><td style=\"text-align: right;\">  0.2</td></tr>\n",
              "<tr><td>XGBoost_trainable_82dfcba6</td><td>RUNNING </td><td>     </td><td>lossguide    </td><td style=\"text-align: right;\">0.0556884</td><td style=\"text-align: right;\">0.529778</td><td style=\"text-align: right;\">          8</td><td style=\"text-align: right;\">     1</td><td style=\"text-align: right;\">         402.212</td><td style=\"text-align: right;\">  0.2</td></tr>\n",
              "<tr><td>XGBoost_trainable_83046f9c</td><td>PAUSED  </td><td>     </td><td>depthwise    </td><td style=\"text-align: right;\">0.0632253</td><td style=\"text-align: right;\">0.878173</td><td style=\"text-align: right;\">          4</td><td style=\"text-align: right;\">     3</td><td style=\"text-align: right;\">         220.878</td><td style=\"text-align: right;\">  0.2</td></tr>\n",
              "<tr><td>XGBoost_trainable_832a3402</td><td>PAUSED  </td><td>     </td><td>depthwise    </td><td style=\"text-align: right;\">0.0314498</td><td style=\"text-align: right;\">0.892913</td><td style=\"text-align: right;\">          1</td><td style=\"text-align: right;\">     3</td><td style=\"text-align: right;\">         139.583</td><td style=\"text-align: right;\">  0.2</td></tr>\n",
              "</tbody>\n",
              "</table><br><br>"
            ],
            "text/plain": [
              "<IPython.core.display.HTML object>"
            ]
          },
          "metadata": {
            "tags": []
          }
        },
        {
          "output_type": "stream",
          "text": [
            "Result for XGBoost_trainable_82dfcba6:\n",
            "  date: 2020-01-13_18-36-15\n",
            "  done: false\n",
            "  experiment_id: 16f69ef7f0924c0282aea2d931fb3408\n",
            "  experiment_tag: 2_eta=0.055688,gamma=0.52978,grow_policy=lossguide,max_depth=8\n",
            "  hostname: 9991d65102f3\n",
            "  iterations_since_restore: 1\n",
            "  mean_accuracy: 0.2\n",
            "  node_ip: 172.28.0.2\n",
            "  pid: 4355\n",
            "  time_since_restore: 350.77201867103577\n",
            "  time_this_iter_s: 350.77201867103577\n",
            "  time_total_s: 752.9844062328339\n",
            "  timestamp: 1578940575\n",
            "  timesteps_since_restore: 0\n",
            "  training_iteration: 2\n",
            "  trial_id: 82dfcba6\n",
            "  \n"
          ],
          "name": "stdout"
        },
        {
          "output_type": "display_data",
          "data": {
            "text/html": [
              "== Status ==<br>Memory usage on this node: 1.5/12.7 GiB<br>Using HyperBand: num_stopped=0 total_brackets=1\n",
              "Round #0:\n",
              "  Bracket(Max Size (n)=27, Milestone (r)=3, completed=2.7%): {PAUSED: 3, RUNNING: 1} <br>Resources requested: 1/2 CPUs, 0/0 GPUs, 0.0/6.1 GiB heap, 0.0/2.1 GiB objects<br>Result logdir: /root/ray_results/XGBoost_trainable<br>Number of trials: 4 (3 PAUSED, 1 RUNNING)<br><table>\n",
              "<thead>\n",
              "<tr><th>Trial name                </th><th>status  </th><th>loc            </th><th>grow_policy  </th><th style=\"text-align: right;\">      eta</th><th style=\"text-align: right;\">   gamma</th><th style=\"text-align: right;\">  max_depth</th><th style=\"text-align: right;\">  iter</th><th style=\"text-align: right;\">  total time (s)</th><th style=\"text-align: right;\">  acc</th></tr>\n",
              "</thead>\n",
              "<tbody>\n",
              "<tr><td>XGBoost_trainable_82b61090</td><td>PAUSED  </td><td>               </td><td>lossguide    </td><td style=\"text-align: right;\">0.0105708</td><td style=\"text-align: right;\">0.406448</td><td style=\"text-align: right;\">          8</td><td style=\"text-align: right;\">     3</td><td style=\"text-align: right;\">         493.527</td><td style=\"text-align: right;\">  0.2</td></tr>\n",
              "<tr><td>XGBoost_trainable_82dfcba6</td><td>RUNNING </td><td>172.28.0.2:4355</td><td>lossguide    </td><td style=\"text-align: right;\">0.0556884</td><td style=\"text-align: right;\">0.529778</td><td style=\"text-align: right;\">          8</td><td style=\"text-align: right;\">     2</td><td style=\"text-align: right;\">         752.984</td><td style=\"text-align: right;\">  0.2</td></tr>\n",
              "<tr><td>XGBoost_trainable_83046f9c</td><td>PAUSED  </td><td>               </td><td>depthwise    </td><td style=\"text-align: right;\">0.0632253</td><td style=\"text-align: right;\">0.878173</td><td style=\"text-align: right;\">          4</td><td style=\"text-align: right;\">     3</td><td style=\"text-align: right;\">         220.878</td><td style=\"text-align: right;\">  0.2</td></tr>\n",
              "<tr><td>XGBoost_trainable_832a3402</td><td>PAUSED  </td><td>               </td><td>depthwise    </td><td style=\"text-align: right;\">0.0314498</td><td style=\"text-align: right;\">0.892913</td><td style=\"text-align: right;\">          1</td><td style=\"text-align: right;\">     3</td><td style=\"text-align: right;\">         139.583</td><td style=\"text-align: right;\">  0.2</td></tr>\n",
              "</tbody>\n",
              "</table><br><br>"
            ],
            "text/plain": [
              "<IPython.core.display.HTML object>"
            ]
          },
          "metadata": {
            "tags": []
          }
        },
        {
          "output_type": "stream",
          "text": [
            "Result for XGBoost_trainable_82dfcba6:\n",
            "  date: 2020-01-13_18-40-10\n",
            "  done: false\n",
            "  experiment_id: 16f69ef7f0924c0282aea2d931fb3408\n",
            "  experiment_tag: 2_eta=0.055688,gamma=0.52978,grow_policy=lossguide,max_depth=8\n",
            "  hostname: 9991d65102f3\n",
            "  iterations_since_restore: 2\n",
            "  mean_accuracy: 0.2\n",
            "  node_ip: 172.28.0.2\n",
            "  pid: 4355\n",
            "  time_since_restore: 586.2105627059937\n",
            "  time_this_iter_s: 235.43854403495789\n",
            "  time_total_s: 988.4229502677917\n",
            "  timestamp: 1578940810\n",
            "  timesteps_since_restore: 0\n",
            "  training_iteration: 3\n",
            "  trial_id: 82dfcba6\n",
            "  \n"
          ],
          "name": "stdout"
        },
        {
          "output_type": "display_data",
          "data": {
            "text/html": [
              "== Status ==<br>Memory usage on this node: 1.5/12.7 GiB<br>Using HyperBand: num_stopped=0 total_brackets=1\n",
              "Round #0:\n",
              "  Bracket(Max Size (n)=27, Milestone (r)=3, completed=3.0%): {PAUSED: 4} <br>Resources requested: 0/2 CPUs, 0/0 GPUs, 0.0/6.1 GiB heap, 0.0/2.1 GiB objects<br>Result logdir: /root/ray_results/XGBoost_trainable<br>Number of trials: 4 (4 PAUSED)<br><table>\n",
              "<thead>\n",
              "<tr><th>Trial name                </th><th>status  </th><th>loc  </th><th>grow_policy  </th><th style=\"text-align: right;\">      eta</th><th style=\"text-align: right;\">   gamma</th><th style=\"text-align: right;\">  max_depth</th><th style=\"text-align: right;\">  iter</th><th style=\"text-align: right;\">  total time (s)</th><th style=\"text-align: right;\">  acc</th></tr>\n",
              "</thead>\n",
              "<tbody>\n",
              "<tr><td>XGBoost_trainable_82b61090</td><td>PAUSED  </td><td>     </td><td>lossguide    </td><td style=\"text-align: right;\">0.0105708</td><td style=\"text-align: right;\">0.406448</td><td style=\"text-align: right;\">          8</td><td style=\"text-align: right;\">     3</td><td style=\"text-align: right;\">         493.527</td><td style=\"text-align: right;\">  0.2</td></tr>\n",
              "<tr><td>XGBoost_trainable_82dfcba6</td><td>PAUSED  </td><td>     </td><td>lossguide    </td><td style=\"text-align: right;\">0.0556884</td><td style=\"text-align: right;\">0.529778</td><td style=\"text-align: right;\">          8</td><td style=\"text-align: right;\">     3</td><td style=\"text-align: right;\">         988.423</td><td style=\"text-align: right;\">  0.2</td></tr>\n",
              "<tr><td>XGBoost_trainable_83046f9c</td><td>PAUSED  </td><td>     </td><td>depthwise    </td><td style=\"text-align: right;\">0.0632253</td><td style=\"text-align: right;\">0.878173</td><td style=\"text-align: right;\">          4</td><td style=\"text-align: right;\">     3</td><td style=\"text-align: right;\">         220.878</td><td style=\"text-align: right;\">  0.2</td></tr>\n",
              "<tr><td>XGBoost_trainable_832a3402</td><td>PAUSED  </td><td>     </td><td>depthwise    </td><td style=\"text-align: right;\">0.0314498</td><td style=\"text-align: right;\">0.892913</td><td style=\"text-align: right;\">          1</td><td style=\"text-align: right;\">     3</td><td style=\"text-align: right;\">         139.583</td><td style=\"text-align: right;\">  0.2</td></tr>\n",
              "</tbody>\n",
              "</table><br><br>"
            ],
            "text/plain": [
              "<IPython.core.display.HTML object>"
            ]
          },
          "metadata": {
            "tags": []
          }
        },
        {
          "output_type": "stream",
          "text": [
            "\u001b[2m\u001b[36m(pid=4300)\u001b[0m 2020-01-13 18:40:10,938\tINFO trainable.py:346 -- Restored from checkpoint: /root/ray_results/XGBoost_trainable/XGBoost_trainable_832a3402_2020-01-13_18-28-13k7cutwmt/tmp5i1zrtskrestore_from_object/checkpoint_3/model.pth\n",
            "\u001b[2m\u001b[36m(pid=4300)\u001b[0m 2020-01-13 18:40:10,938\tINFO trainable.py:353 -- Current state after restoring: {'_iteration': 3, '_timesteps_total': None, '_time_total': 493.526739358902, '_episodes_total': None}\n"
          ],
          "name": "stdout"
        },
        {
          "output_type": "stream",
          "text": [
            "2020-01-13 18:40:11,152\tINFO ray_trial_executor.py:121 -- Trial XGBoost_trainable_82dfcba6: Setting up new remote runner.\n",
            "2020-01-13 18:40:11,216\tWARNING worker.py:1054 -- Warning: The actor XGBoost_trainable has size 24243515 when pickled. It will be stored in Redis, which could cause memory issues. This may mean that its definition uses a large array or other object.\n"
          ],
          "name": "stderr"
        },
        {
          "output_type": "stream",
          "text": [
            "\u001b[2m\u001b[36m(pid=4522)\u001b[0m 2020-01-13 18:40:13,661\tINFO trainable.py:346 -- Restored from checkpoint: /root/ray_results/XGBoost_trainable/XGBoost_trainable_82dfcba6_2020-01-13_18-21-272u5yyp8x/tmpuwx21p93restore_from_object/checkpoint_3/model.pth\n",
            "\u001b[2m\u001b[36m(pid=4522)\u001b[0m 2020-01-13 18:40:13,662\tINFO trainable.py:353 -- Current state after restoring: {'_iteration': 3, '_timesteps_total': None, '_time_total': 988.4229502677917, '_episodes_total': None}\n",
            "Result for XGBoost_trainable_82b61090:\n",
            "  date: 2020-01-13_18-40-57\n",
            "  done: false\n",
            "  experiment_id: 3691cddf60f94eacb008a6ea2a7fe57c\n",
            "  experiment_tag: 1_eta=0.010571,gamma=0.40645,grow_policy=lossguide,max_depth=8\n",
            "  hostname: 9991d65102f3\n",
            "  iterations_since_restore: 1\n",
            "  mean_accuracy: 0.2\n",
            "  node_ip: 172.28.0.2\n",
            "  pid: 4300\n",
            "  time_since_restore: 46.09567403793335\n",
            "  time_this_iter_s: 46.09567403793335\n",
            "  time_total_s: 539.6224133968353\n",
            "  timestamp: 1578940857\n",
            "  timesteps_since_restore: 0\n",
            "  training_iteration: 4\n",
            "  trial_id: 82b61090\n",
            "  \n"
          ],
          "name": "stdout"
        },
        {
          "output_type": "display_data",
          "data": {
            "text/html": [
              "== Status ==<br>Memory usage on this node: 1.5/12.7 GiB<br>Using HyperBand: num_stopped=0 total_brackets=1\n",
              "Round #0:\n",
              "  Bracket(Max Size (n)=9, Milestone (r)=9, completed=3.2%): {PENDING: 2, RUNNING: 2} <br>Resources requested: 2/2 CPUs, 0/0 GPUs, 0.0/6.1 GiB heap, 0.0/2.1 GiB objects<br>Result logdir: /root/ray_results/XGBoost_trainable<br>Number of trials: 4 (2 RUNNING, 2 PENDING)<br><table>\n",
              "<thead>\n",
              "<tr><th>Trial name                </th><th>status  </th><th>loc            </th><th>grow_policy  </th><th style=\"text-align: right;\">      eta</th><th style=\"text-align: right;\">   gamma</th><th style=\"text-align: right;\">  max_depth</th><th style=\"text-align: right;\">  iter</th><th style=\"text-align: right;\">  total time (s)</th><th style=\"text-align: right;\">  acc</th></tr>\n",
              "</thead>\n",
              "<tbody>\n",
              "<tr><td>XGBoost_trainable_82b61090</td><td>RUNNING </td><td>172.28.0.2:4300</td><td>lossguide    </td><td style=\"text-align: right;\">0.0105708</td><td style=\"text-align: right;\">0.406448</td><td style=\"text-align: right;\">          8</td><td style=\"text-align: right;\">     4</td><td style=\"text-align: right;\">         539.622</td><td style=\"text-align: right;\">  0.2</td></tr>\n",
              "<tr><td>XGBoost_trainable_82dfcba6</td><td>RUNNING </td><td>               </td><td>lossguide    </td><td style=\"text-align: right;\">0.0556884</td><td style=\"text-align: right;\">0.529778</td><td style=\"text-align: right;\">          8</td><td style=\"text-align: right;\">     3</td><td style=\"text-align: right;\">         988.423</td><td style=\"text-align: right;\">  0.2</td></tr>\n",
              "<tr><td>XGBoost_trainable_83046f9c</td><td>PENDING </td><td>               </td><td>depthwise    </td><td style=\"text-align: right;\">0.0632253</td><td style=\"text-align: right;\">0.878173</td><td style=\"text-align: right;\">          4</td><td style=\"text-align: right;\">     3</td><td style=\"text-align: right;\">         220.878</td><td style=\"text-align: right;\">  0.2</td></tr>\n",
              "<tr><td>XGBoost_trainable_832a3402</td><td>PENDING </td><td>               </td><td>depthwise    </td><td style=\"text-align: right;\">0.0314498</td><td style=\"text-align: right;\">0.892913</td><td style=\"text-align: right;\">          1</td><td style=\"text-align: right;\">     3</td><td style=\"text-align: right;\">         139.583</td><td style=\"text-align: right;\">  0.2</td></tr>\n",
              "</tbody>\n",
              "</table><br><br>"
            ],
            "text/plain": [
              "<IPython.core.display.HTML object>"
            ]
          },
          "metadata": {
            "tags": []
          }
        },
        {
          "output_type": "stream",
          "text": [
            "Result for XGBoost_trainable_82b61090:\n",
            "  date: 2020-01-13_18-41-43\n",
            "  done: false\n",
            "  experiment_id: 3691cddf60f94eacb008a6ea2a7fe57c\n",
            "  experiment_tag: 1_eta=0.010571,gamma=0.40645,grow_policy=lossguide,max_depth=8\n",
            "  hostname: 9991d65102f3\n",
            "  iterations_since_restore: 2\n",
            "  mean_accuracy: 0.2\n",
            "  node_ip: 172.28.0.2\n",
            "  pid: 4300\n",
            "  time_since_restore: 92.39128708839417\n",
            "  time_this_iter_s: 46.295613050460815\n",
            "  time_total_s: 585.9180264472961\n",
            "  timestamp: 1578940903\n",
            "  timesteps_since_restore: 0\n",
            "  training_iteration: 5\n",
            "  trial_id: 82b61090\n",
            "  \n"
          ],
          "name": "stdout"
        },
        {
          "output_type": "display_data",
          "data": {
            "text/html": [
              "== Status ==<br>Memory usage on this node: 1.5/12.7 GiB<br>Using HyperBand: num_stopped=0 total_brackets=1\n",
              "Round #0:\n",
              "  Bracket(Max Size (n)=9, Milestone (r)=9, completed=3.5%): {PENDING: 2, RUNNING: 2} <br>Resources requested: 2/2 CPUs, 0/0 GPUs, 0.0/6.1 GiB heap, 0.0/2.1 GiB objects<br>Result logdir: /root/ray_results/XGBoost_trainable<br>Number of trials: 4 (2 RUNNING, 2 PENDING)<br><table>\n",
              "<thead>\n",
              "<tr><th>Trial name                </th><th>status  </th><th>loc            </th><th>grow_policy  </th><th style=\"text-align: right;\">      eta</th><th style=\"text-align: right;\">   gamma</th><th style=\"text-align: right;\">  max_depth</th><th style=\"text-align: right;\">  iter</th><th style=\"text-align: right;\">  total time (s)</th><th style=\"text-align: right;\">  acc</th></tr>\n",
              "</thead>\n",
              "<tbody>\n",
              "<tr><td>XGBoost_trainable_82b61090</td><td>RUNNING </td><td>172.28.0.2:4300</td><td>lossguide    </td><td style=\"text-align: right;\">0.0105708</td><td style=\"text-align: right;\">0.406448</td><td style=\"text-align: right;\">          8</td><td style=\"text-align: right;\">     5</td><td style=\"text-align: right;\">         585.918</td><td style=\"text-align: right;\">  0.2</td></tr>\n",
              "<tr><td>XGBoost_trainable_82dfcba6</td><td>RUNNING </td><td>               </td><td>lossguide    </td><td style=\"text-align: right;\">0.0556884</td><td style=\"text-align: right;\">0.529778</td><td style=\"text-align: right;\">          8</td><td style=\"text-align: right;\">     3</td><td style=\"text-align: right;\">         988.423</td><td style=\"text-align: right;\">  0.2</td></tr>\n",
              "<tr><td>XGBoost_trainable_83046f9c</td><td>PENDING </td><td>               </td><td>depthwise    </td><td style=\"text-align: right;\">0.0632253</td><td style=\"text-align: right;\">0.878173</td><td style=\"text-align: right;\">          4</td><td style=\"text-align: right;\">     3</td><td style=\"text-align: right;\">         220.878</td><td style=\"text-align: right;\">  0.2</td></tr>\n",
              "<tr><td>XGBoost_trainable_832a3402</td><td>PENDING </td><td>               </td><td>depthwise    </td><td style=\"text-align: right;\">0.0314498</td><td style=\"text-align: right;\">0.892913</td><td style=\"text-align: right;\">          1</td><td style=\"text-align: right;\">     3</td><td style=\"text-align: right;\">         139.583</td><td style=\"text-align: right;\">  0.2</td></tr>\n",
              "</tbody>\n",
              "</table><br><br>"
            ],
            "text/plain": [
              "<IPython.core.display.HTML object>"
            ]
          },
          "metadata": {
            "tags": []
          }
        },
        {
          "output_type": "stream",
          "text": [
            "Result for XGBoost_trainable_82b61090:\n",
            "  date: 2020-01-13_18-42-29\n",
            "  done: false\n",
            "  experiment_id: 3691cddf60f94eacb008a6ea2a7fe57c\n",
            "  experiment_tag: 1_eta=0.010571,gamma=0.40645,grow_policy=lossguide,max_depth=8\n",
            "  hostname: 9991d65102f3\n",
            "  iterations_since_restore: 3\n",
            "  mean_accuracy: 0.2\n",
            "  node_ip: 172.28.0.2\n",
            "  pid: 4300\n",
            "  time_since_restore: 138.79478549957275\n",
            "  time_this_iter_s: 46.40349841117859\n",
            "  time_total_s: 632.3215248584747\n",
            "  timestamp: 1578940949\n",
            "  timesteps_since_restore: 0\n",
            "  training_iteration: 6\n",
            "  trial_id: 82b61090\n",
            "  \n"
          ],
          "name": "stdout"
        },
        {
          "output_type": "display_data",
          "data": {
            "text/html": [
              "== Status ==<br>Memory usage on this node: 1.5/12.7 GiB<br>Using HyperBand: num_stopped=0 total_brackets=1\n",
              "Round #0:\n",
              "  Bracket(Max Size (n)=9, Milestone (r)=9, completed=3.7%): {PENDING: 2, RUNNING: 2} <br>Resources requested: 2/2 CPUs, 0/0 GPUs, 0.0/6.1 GiB heap, 0.0/2.1 GiB objects<br>Result logdir: /root/ray_results/XGBoost_trainable<br>Number of trials: 4 (2 RUNNING, 2 PENDING)<br><table>\n",
              "<thead>\n",
              "<tr><th>Trial name                </th><th>status  </th><th>loc            </th><th>grow_policy  </th><th style=\"text-align: right;\">      eta</th><th style=\"text-align: right;\">   gamma</th><th style=\"text-align: right;\">  max_depth</th><th style=\"text-align: right;\">  iter</th><th style=\"text-align: right;\">  total time (s)</th><th style=\"text-align: right;\">  acc</th></tr>\n",
              "</thead>\n",
              "<tbody>\n",
              "<tr><td>XGBoost_trainable_82b61090</td><td>RUNNING </td><td>172.28.0.2:4300</td><td>lossguide    </td><td style=\"text-align: right;\">0.0105708</td><td style=\"text-align: right;\">0.406448</td><td style=\"text-align: right;\">          8</td><td style=\"text-align: right;\">     6</td><td style=\"text-align: right;\">         632.322</td><td style=\"text-align: right;\">  0.2</td></tr>\n",
              "<tr><td>XGBoost_trainable_82dfcba6</td><td>RUNNING </td><td>               </td><td>lossguide    </td><td style=\"text-align: right;\">0.0556884</td><td style=\"text-align: right;\">0.529778</td><td style=\"text-align: right;\">          8</td><td style=\"text-align: right;\">     3</td><td style=\"text-align: right;\">         988.423</td><td style=\"text-align: right;\">  0.2</td></tr>\n",
              "<tr><td>XGBoost_trainable_83046f9c</td><td>PENDING </td><td>               </td><td>depthwise    </td><td style=\"text-align: right;\">0.0632253</td><td style=\"text-align: right;\">0.878173</td><td style=\"text-align: right;\">          4</td><td style=\"text-align: right;\">     3</td><td style=\"text-align: right;\">         220.878</td><td style=\"text-align: right;\">  0.2</td></tr>\n",
              "<tr><td>XGBoost_trainable_832a3402</td><td>PENDING </td><td>               </td><td>depthwise    </td><td style=\"text-align: right;\">0.0314498</td><td style=\"text-align: right;\">0.892913</td><td style=\"text-align: right;\">          1</td><td style=\"text-align: right;\">     3</td><td style=\"text-align: right;\">         139.583</td><td style=\"text-align: right;\">  0.2</td></tr>\n",
              "</tbody>\n",
              "</table><br><br>"
            ],
            "text/plain": [
              "<IPython.core.display.HTML object>"
            ]
          },
          "metadata": {
            "tags": []
          }
        },
        {
          "output_type": "stream",
          "text": [
            "Result for XGBoost_trainable_82b61090:\n",
            "  date: 2020-01-13_18-43-16\n",
            "  done: false\n",
            "  experiment_id: 3691cddf60f94eacb008a6ea2a7fe57c\n",
            "  experiment_tag: 1_eta=0.010571,gamma=0.40645,grow_policy=lossguide,max_depth=8\n",
            "  hostname: 9991d65102f3\n",
            "  iterations_since_restore: 4\n",
            "  mean_accuracy: 0.2\n",
            "  node_ip: 172.28.0.2\n",
            "  pid: 4300\n",
            "  time_since_restore: 185.36669993400574\n",
            "  time_this_iter_s: 46.57191443443298\n",
            "  time_total_s: 678.8934392929077\n",
            "  timestamp: 1578940996\n",
            "  timesteps_since_restore: 0\n",
            "  training_iteration: 7\n",
            "  trial_id: 82b61090\n",
            "  \n"
          ],
          "name": "stdout"
        },
        {
          "output_type": "display_data",
          "data": {
            "text/html": [
              "== Status ==<br>Memory usage on this node: 1.5/12.7 GiB<br>Using HyperBand: num_stopped=0 total_brackets=1\n",
              "Round #0:\n",
              "  Bracket(Max Size (n)=9, Milestone (r)=9, completed=4.0%): {PENDING: 2, RUNNING: 2} <br>Resources requested: 2/2 CPUs, 0/0 GPUs, 0.0/6.1 GiB heap, 0.0/2.1 GiB objects<br>Result logdir: /root/ray_results/XGBoost_trainable<br>Number of trials: 4 (2 RUNNING, 2 PENDING)<br><table>\n",
              "<thead>\n",
              "<tr><th>Trial name                </th><th>status  </th><th>loc            </th><th>grow_policy  </th><th style=\"text-align: right;\">      eta</th><th style=\"text-align: right;\">   gamma</th><th style=\"text-align: right;\">  max_depth</th><th style=\"text-align: right;\">  iter</th><th style=\"text-align: right;\">  total time (s)</th><th style=\"text-align: right;\">  acc</th></tr>\n",
              "</thead>\n",
              "<tbody>\n",
              "<tr><td>XGBoost_trainable_82b61090</td><td>RUNNING </td><td>172.28.0.2:4300</td><td>lossguide    </td><td style=\"text-align: right;\">0.0105708</td><td style=\"text-align: right;\">0.406448</td><td style=\"text-align: right;\">          8</td><td style=\"text-align: right;\">     7</td><td style=\"text-align: right;\">         678.893</td><td style=\"text-align: right;\">  0.2</td></tr>\n",
              "<tr><td>XGBoost_trainable_82dfcba6</td><td>RUNNING </td><td>               </td><td>lossguide    </td><td style=\"text-align: right;\">0.0556884</td><td style=\"text-align: right;\">0.529778</td><td style=\"text-align: right;\">          8</td><td style=\"text-align: right;\">     3</td><td style=\"text-align: right;\">         988.423</td><td style=\"text-align: right;\">  0.2</td></tr>\n",
              "<tr><td>XGBoost_trainable_83046f9c</td><td>PENDING </td><td>               </td><td>depthwise    </td><td style=\"text-align: right;\">0.0632253</td><td style=\"text-align: right;\">0.878173</td><td style=\"text-align: right;\">          4</td><td style=\"text-align: right;\">     3</td><td style=\"text-align: right;\">         220.878</td><td style=\"text-align: right;\">  0.2</td></tr>\n",
              "<tr><td>XGBoost_trainable_832a3402</td><td>PENDING </td><td>               </td><td>depthwise    </td><td style=\"text-align: right;\">0.0314498</td><td style=\"text-align: right;\">0.892913</td><td style=\"text-align: right;\">          1</td><td style=\"text-align: right;\">     3</td><td style=\"text-align: right;\">         139.583</td><td style=\"text-align: right;\">  0.2</td></tr>\n",
              "</tbody>\n",
              "</table><br><br>"
            ],
            "text/plain": [
              "<IPython.core.display.HTML object>"
            ]
          },
          "metadata": {
            "tags": []
          }
        },
        {
          "output_type": "stream",
          "text": [
            "Result for XGBoost_trainable_82b61090:\n",
            "  date: 2020-01-13_18-44-02\n",
            "  done: false\n",
            "  experiment_id: 3691cddf60f94eacb008a6ea2a7fe57c\n",
            "  experiment_tag: 1_eta=0.010571,gamma=0.40645,grow_policy=lossguide,max_depth=8\n",
            "  hostname: 9991d65102f3\n",
            "  iterations_since_restore: 5\n",
            "  mean_accuracy: 0.2\n",
            "  node_ip: 172.28.0.2\n",
            "  pid: 4300\n",
            "  time_since_restore: 231.8049921989441\n",
            "  time_this_iter_s: 46.438292264938354\n",
            "  time_total_s: 725.3317315578461\n",
            "  timestamp: 1578941042\n",
            "  timesteps_since_restore: 0\n",
            "  training_iteration: 8\n",
            "  trial_id: 82b61090\n",
            "  \n"
          ],
          "name": "stdout"
        },
        {
          "output_type": "display_data",
          "data": {
            "text/html": [
              "== Status ==<br>Memory usage on this node: 1.5/12.7 GiB<br>Using HyperBand: num_stopped=0 total_brackets=1\n",
              "Round #0:\n",
              "  Bracket(Max Size (n)=9, Milestone (r)=9, completed=4.2%): {PENDING: 2, RUNNING: 2} <br>Resources requested: 2/2 CPUs, 0/0 GPUs, 0.0/6.1 GiB heap, 0.0/2.1 GiB objects<br>Result logdir: /root/ray_results/XGBoost_trainable<br>Number of trials: 4 (2 RUNNING, 2 PENDING)<br><table>\n",
              "<thead>\n",
              "<tr><th>Trial name                </th><th>status  </th><th>loc            </th><th>grow_policy  </th><th style=\"text-align: right;\">      eta</th><th style=\"text-align: right;\">   gamma</th><th style=\"text-align: right;\">  max_depth</th><th style=\"text-align: right;\">  iter</th><th style=\"text-align: right;\">  total time (s)</th><th style=\"text-align: right;\">  acc</th></tr>\n",
              "</thead>\n",
              "<tbody>\n",
              "<tr><td>XGBoost_trainable_82b61090</td><td>RUNNING </td><td>172.28.0.2:4300</td><td>lossguide    </td><td style=\"text-align: right;\">0.0105708</td><td style=\"text-align: right;\">0.406448</td><td style=\"text-align: right;\">          8</td><td style=\"text-align: right;\">     8</td><td style=\"text-align: right;\">         725.332</td><td style=\"text-align: right;\">  0.2</td></tr>\n",
              "<tr><td>XGBoost_trainable_82dfcba6</td><td>RUNNING </td><td>               </td><td>lossguide    </td><td style=\"text-align: right;\">0.0556884</td><td style=\"text-align: right;\">0.529778</td><td style=\"text-align: right;\">          8</td><td style=\"text-align: right;\">     3</td><td style=\"text-align: right;\">         988.423</td><td style=\"text-align: right;\">  0.2</td></tr>\n",
              "<tr><td>XGBoost_trainable_83046f9c</td><td>PENDING </td><td>               </td><td>depthwise    </td><td style=\"text-align: right;\">0.0632253</td><td style=\"text-align: right;\">0.878173</td><td style=\"text-align: right;\">          4</td><td style=\"text-align: right;\">     3</td><td style=\"text-align: right;\">         220.878</td><td style=\"text-align: right;\">  0.2</td></tr>\n",
              "<tr><td>XGBoost_trainable_832a3402</td><td>PENDING </td><td>               </td><td>depthwise    </td><td style=\"text-align: right;\">0.0314498</td><td style=\"text-align: right;\">0.892913</td><td style=\"text-align: right;\">          1</td><td style=\"text-align: right;\">     3</td><td style=\"text-align: right;\">         139.583</td><td style=\"text-align: right;\">  0.2</td></tr>\n",
              "</tbody>\n",
              "</table><br><br>"
            ],
            "text/plain": [
              "<IPython.core.display.HTML object>"
            ]
          },
          "metadata": {
            "tags": []
          }
        },
        {
          "output_type": "stream",
          "text": [
            "Result for XGBoost_trainable_82b61090:\n",
            "  date: 2020-01-13_18-44-48\n",
            "  done: false\n",
            "  experiment_id: 3691cddf60f94eacb008a6ea2a7fe57c\n",
            "  experiment_tag: 1_eta=0.010571,gamma=0.40645,grow_policy=lossguide,max_depth=8\n",
            "  hostname: 9991d65102f3\n",
            "  iterations_since_restore: 6\n",
            "  mean_accuracy: 0.2\n",
            "  node_ip: 172.28.0.2\n",
            "  pid: 4300\n",
            "  time_since_restore: 277.4515941143036\n",
            "  time_this_iter_s: 45.6466019153595\n",
            "  time_total_s: 770.9783334732056\n",
            "  timestamp: 1578941088\n",
            "  timesteps_since_restore: 0\n",
            "  training_iteration: 9\n",
            "  trial_id: 82b61090\n",
            "  \n"
          ],
          "name": "stdout"
        },
        {
          "output_type": "display_data",
          "data": {
            "text/html": [
              "== Status ==<br>Memory usage on this node: 1.5/12.7 GiB<br>Using HyperBand: num_stopped=0 total_brackets=1\n",
              "Round #0:\n",
              "  Bracket(Max Size (n)=9, Milestone (r)=9, completed=4.5%): {PAUSED: 1, PENDING: 2, RUNNING: 1} <br>Resources requested: 1/2 CPUs, 0/0 GPUs, 0.0/6.1 GiB heap, 0.0/2.1 GiB objects<br>Result logdir: /root/ray_results/XGBoost_trainable<br>Number of trials: 4 (1 PAUSED, 1 RUNNING, 2 PENDING)<br><table>\n",
              "<thead>\n",
              "<tr><th>Trial name                </th><th>status  </th><th>loc  </th><th>grow_policy  </th><th style=\"text-align: right;\">      eta</th><th style=\"text-align: right;\">   gamma</th><th style=\"text-align: right;\">  max_depth</th><th style=\"text-align: right;\">  iter</th><th style=\"text-align: right;\">  total time (s)</th><th style=\"text-align: right;\">  acc</th></tr>\n",
              "</thead>\n",
              "<tbody>\n",
              "<tr><td>XGBoost_trainable_82b61090</td><td>PAUSED  </td><td>     </td><td>lossguide    </td><td style=\"text-align: right;\">0.0105708</td><td style=\"text-align: right;\">0.406448</td><td style=\"text-align: right;\">          8</td><td style=\"text-align: right;\">     9</td><td style=\"text-align: right;\">         770.978</td><td style=\"text-align: right;\">  0.2</td></tr>\n",
              "<tr><td>XGBoost_trainable_82dfcba6</td><td>RUNNING </td><td>     </td><td>lossguide    </td><td style=\"text-align: right;\">0.0556884</td><td style=\"text-align: right;\">0.529778</td><td style=\"text-align: right;\">          8</td><td style=\"text-align: right;\">     3</td><td style=\"text-align: right;\">         988.423</td><td style=\"text-align: right;\">  0.2</td></tr>\n",
              "<tr><td>XGBoost_trainable_83046f9c</td><td>PENDING </td><td>     </td><td>depthwise    </td><td style=\"text-align: right;\">0.0632253</td><td style=\"text-align: right;\">0.878173</td><td style=\"text-align: right;\">          4</td><td style=\"text-align: right;\">     3</td><td style=\"text-align: right;\">         220.878</td><td style=\"text-align: right;\">  0.2</td></tr>\n",
              "<tr><td>XGBoost_trainable_832a3402</td><td>PENDING </td><td>     </td><td>depthwise    </td><td style=\"text-align: right;\">0.0314498</td><td style=\"text-align: right;\">0.892913</td><td style=\"text-align: right;\">          1</td><td style=\"text-align: right;\">     3</td><td style=\"text-align: right;\">         139.583</td><td style=\"text-align: right;\">  0.2</td></tr>\n",
              "</tbody>\n",
              "</table><br><br>"
            ],
            "text/plain": [
              "<IPython.core.display.HTML object>"
            ]
          },
          "metadata": {
            "tags": []
          }
        },
        {
          "output_type": "stream",
          "text": [
            "\u001b[2m\u001b[36m(pid=4300)\u001b[0m 2020-01-13 18:44:48,473\tINFO trainable.py:346 -- Restored from checkpoint: /root/ray_results/XGBoost_trainable/XGBoost_trainable_832a3402_2020-01-13_18-28-13k7cutwmt/tmpqri4i49_restore_from_object/checkpoint_3/model.pth\n",
            "\u001b[2m\u001b[36m(pid=4300)\u001b[0m 2020-01-13 18:44:48,473\tINFO trainable.py:353 -- Current state after restoring: {'_iteration': 3, '_timesteps_total': None, '_time_total': 220.87779879570007, '_episodes_total': None}\n",
            "Result for XGBoost_trainable_83046f9c:\n",
            "  date: 2020-01-13_18-45-33\n",
            "  done: false\n",
            "  experiment_id: 7dfe5681a9894a5d89e85b61aeafc259\n",
            "  experiment_tag: 3_eta=0.063225,gamma=0.87817,grow_policy=depthwise,max_depth=4\n",
            "  hostname: 9991d65102f3\n",
            "  iterations_since_restore: 1\n",
            "  mean_accuracy: 0.2\n",
            "  node_ip: 172.28.0.2\n",
            "  pid: 4300\n",
            "  time_since_restore: 45.36750936508179\n",
            "  time_this_iter_s: 45.36750936508179\n",
            "  time_total_s: 266.24530816078186\n",
            "  timestamp: 1578941133\n",
            "  timesteps_since_restore: 0\n",
            "  training_iteration: 4\n",
            "  trial_id: 83046f9c\n",
            "  \n"
          ],
          "name": "stdout"
        },
        {
          "output_type": "display_data",
          "data": {
            "text/html": [
              "== Status ==<br>Memory usage on this node: 1.5/12.7 GiB<br>Using HyperBand: num_stopped=0 total_brackets=1\n",
              "Round #0:\n",
              "  Bracket(Max Size (n)=9, Milestone (r)=9, completed=4.7%): {PAUSED: 1, PENDING: 1, RUNNING: 2} <br>Resources requested: 2/2 CPUs, 0/0 GPUs, 0.0/6.1 GiB heap, 0.0/2.1 GiB objects<br>Result logdir: /root/ray_results/XGBoost_trainable<br>Number of trials: 4 (1 PAUSED, 2 RUNNING, 1 PENDING)<br><table>\n",
              "<thead>\n",
              "<tr><th>Trial name                </th><th>status  </th><th>loc            </th><th>grow_policy  </th><th style=\"text-align: right;\">      eta</th><th style=\"text-align: right;\">   gamma</th><th style=\"text-align: right;\">  max_depth</th><th style=\"text-align: right;\">  iter</th><th style=\"text-align: right;\">  total time (s)</th><th style=\"text-align: right;\">  acc</th></tr>\n",
              "</thead>\n",
              "<tbody>\n",
              "<tr><td>XGBoost_trainable_82b61090</td><td>PAUSED  </td><td>               </td><td>lossguide    </td><td style=\"text-align: right;\">0.0105708</td><td style=\"text-align: right;\">0.406448</td><td style=\"text-align: right;\">          8</td><td style=\"text-align: right;\">     9</td><td style=\"text-align: right;\">         770.978</td><td style=\"text-align: right;\">  0.2</td></tr>\n",
              "<tr><td>XGBoost_trainable_82dfcba6</td><td>RUNNING </td><td>               </td><td>lossguide    </td><td style=\"text-align: right;\">0.0556884</td><td style=\"text-align: right;\">0.529778</td><td style=\"text-align: right;\">          8</td><td style=\"text-align: right;\">     3</td><td style=\"text-align: right;\">         988.423</td><td style=\"text-align: right;\">  0.2</td></tr>\n",
              "<tr><td>XGBoost_trainable_83046f9c</td><td>RUNNING </td><td>172.28.0.2:4300</td><td>depthwise    </td><td style=\"text-align: right;\">0.0632253</td><td style=\"text-align: right;\">0.878173</td><td style=\"text-align: right;\">          4</td><td style=\"text-align: right;\">     4</td><td style=\"text-align: right;\">         266.245</td><td style=\"text-align: right;\">  0.2</td></tr>\n",
              "<tr><td>XGBoost_trainable_832a3402</td><td>PENDING </td><td>               </td><td>depthwise    </td><td style=\"text-align: right;\">0.0314498</td><td style=\"text-align: right;\">0.892913</td><td style=\"text-align: right;\">          1</td><td style=\"text-align: right;\">     3</td><td style=\"text-align: right;\">         139.583</td><td style=\"text-align: right;\">  0.2</td></tr>\n",
              "</tbody>\n",
              "</table><br><br>"
            ],
            "text/plain": [
              "<IPython.core.display.HTML object>"
            ]
          },
          "metadata": {
            "tags": []
          }
        },
        {
          "output_type": "stream",
          "text": [
            "Result for XGBoost_trainable_83046f9c:\n",
            "  date: 2020-01-13_18-46-18\n",
            "  done: false\n",
            "  experiment_id: 7dfe5681a9894a5d89e85b61aeafc259\n",
            "  experiment_tag: 3_eta=0.063225,gamma=0.87817,grow_policy=depthwise,max_depth=4\n",
            "  hostname: 9991d65102f3\n",
            "  iterations_since_restore: 2\n",
            "  mean_accuracy: 0.2\n",
            "  node_ip: 172.28.0.2\n",
            "  pid: 4300\n",
            "  time_since_restore: 90.27075242996216\n",
            "  time_this_iter_s: 44.90324306488037\n",
            "  time_total_s: 311.14855122566223\n",
            "  timestamp: 1578941178\n",
            "  timesteps_since_restore: 0\n",
            "  training_iteration: 5\n",
            "  trial_id: 83046f9c\n",
            "  \n"
          ],
          "name": "stdout"
        },
        {
          "output_type": "display_data",
          "data": {
            "text/html": [
              "== Status ==<br>Memory usage on this node: 1.5/12.7 GiB<br>Using HyperBand: num_stopped=0 total_brackets=1\n",
              "Round #0:\n",
              "  Bracket(Max Size (n)=9, Milestone (r)=9, completed=5.0%): {PAUSED: 1, PENDING: 1, RUNNING: 2} <br>Resources requested: 2/2 CPUs, 0/0 GPUs, 0.0/6.1 GiB heap, 0.0/2.1 GiB objects<br>Result logdir: /root/ray_results/XGBoost_trainable<br>Number of trials: 4 (1 PAUSED, 2 RUNNING, 1 PENDING)<br><table>\n",
              "<thead>\n",
              "<tr><th>Trial name                </th><th>status  </th><th>loc            </th><th>grow_policy  </th><th style=\"text-align: right;\">      eta</th><th style=\"text-align: right;\">   gamma</th><th style=\"text-align: right;\">  max_depth</th><th style=\"text-align: right;\">  iter</th><th style=\"text-align: right;\">  total time (s)</th><th style=\"text-align: right;\">  acc</th></tr>\n",
              "</thead>\n",
              "<tbody>\n",
              "<tr><td>XGBoost_trainable_82b61090</td><td>PAUSED  </td><td>               </td><td>lossguide    </td><td style=\"text-align: right;\">0.0105708</td><td style=\"text-align: right;\">0.406448</td><td style=\"text-align: right;\">          8</td><td style=\"text-align: right;\">     9</td><td style=\"text-align: right;\">         770.978</td><td style=\"text-align: right;\">  0.2</td></tr>\n",
              "<tr><td>XGBoost_trainable_82dfcba6</td><td>RUNNING </td><td>               </td><td>lossguide    </td><td style=\"text-align: right;\">0.0556884</td><td style=\"text-align: right;\">0.529778</td><td style=\"text-align: right;\">          8</td><td style=\"text-align: right;\">     3</td><td style=\"text-align: right;\">         988.423</td><td style=\"text-align: right;\">  0.2</td></tr>\n",
              "<tr><td>XGBoost_trainable_83046f9c</td><td>RUNNING </td><td>172.28.0.2:4300</td><td>depthwise    </td><td style=\"text-align: right;\">0.0632253</td><td style=\"text-align: right;\">0.878173</td><td style=\"text-align: right;\">          4</td><td style=\"text-align: right;\">     5</td><td style=\"text-align: right;\">         311.149</td><td style=\"text-align: right;\">  0.2</td></tr>\n",
              "<tr><td>XGBoost_trainable_832a3402</td><td>PENDING </td><td>               </td><td>depthwise    </td><td style=\"text-align: right;\">0.0314498</td><td style=\"text-align: right;\">0.892913</td><td style=\"text-align: right;\">          1</td><td style=\"text-align: right;\">     3</td><td style=\"text-align: right;\">         139.583</td><td style=\"text-align: right;\">  0.2</td></tr>\n",
              "</tbody>\n",
              "</table><br><br>"
            ],
            "text/plain": [
              "<IPython.core.display.HTML object>"
            ]
          },
          "metadata": {
            "tags": []
          }
        },
        {
          "output_type": "stream",
          "text": [
            "Result for XGBoost_trainable_82dfcba6:\n",
            "  date: 2020-01-13_18-46-58\n",
            "  done: false\n",
            "  experiment_id: 16f69ef7f0924c0282aea2d931fb3408\n",
            "  experiment_tag: 2_eta=0.055688,gamma=0.52978,grow_policy=lossguide,max_depth=8\n",
            "  hostname: 9991d65102f3\n",
            "  iterations_since_restore: 1\n",
            "  mean_accuracy: 0.2\n",
            "  node_ip: 172.28.0.2\n",
            "  pid: 4522\n",
            "  time_since_restore: 404.9283504486084\n",
            "  time_this_iter_s: 404.9283504486084\n",
            "  time_total_s: 1393.3513007164001\n",
            "  timestamp: 1578941218\n",
            "  timesteps_since_restore: 0\n",
            "  training_iteration: 4\n",
            "  trial_id: 82dfcba6\n",
            "  \n"
          ],
          "name": "stdout"
        },
        {
          "output_type": "display_data",
          "data": {
            "text/html": [
              "== Status ==<br>Memory usage on this node: 1.5/12.7 GiB<br>Using HyperBand: num_stopped=0 total_brackets=1\n",
              "Round #0:\n",
              "  Bracket(Max Size (n)=9, Milestone (r)=9, completed=5.2%): {PAUSED: 1, PENDING: 1, RUNNING: 2} <br>Resources requested: 2/2 CPUs, 0/0 GPUs, 0.0/6.1 GiB heap, 0.0/2.1 GiB objects<br>Result logdir: /root/ray_results/XGBoost_trainable<br>Number of trials: 4 (1 PAUSED, 2 RUNNING, 1 PENDING)<br><table>\n",
              "<thead>\n",
              "<tr><th>Trial name                </th><th>status  </th><th>loc            </th><th>grow_policy  </th><th style=\"text-align: right;\">      eta</th><th style=\"text-align: right;\">   gamma</th><th style=\"text-align: right;\">  max_depth</th><th style=\"text-align: right;\">  iter</th><th style=\"text-align: right;\">  total time (s)</th><th style=\"text-align: right;\">  acc</th></tr>\n",
              "</thead>\n",
              "<tbody>\n",
              "<tr><td>XGBoost_trainable_82b61090</td><td>PAUSED  </td><td>               </td><td>lossguide    </td><td style=\"text-align: right;\">0.0105708</td><td style=\"text-align: right;\">0.406448</td><td style=\"text-align: right;\">          8</td><td style=\"text-align: right;\">     9</td><td style=\"text-align: right;\">         770.978</td><td style=\"text-align: right;\">  0.2</td></tr>\n",
              "<tr><td>XGBoost_trainable_82dfcba6</td><td>RUNNING </td><td>172.28.0.2:4522</td><td>lossguide    </td><td style=\"text-align: right;\">0.0556884</td><td style=\"text-align: right;\">0.529778</td><td style=\"text-align: right;\">          8</td><td style=\"text-align: right;\">     4</td><td style=\"text-align: right;\">        1393.35 </td><td style=\"text-align: right;\">  0.2</td></tr>\n",
              "<tr><td>XGBoost_trainable_83046f9c</td><td>RUNNING </td><td>172.28.0.2:4300</td><td>depthwise    </td><td style=\"text-align: right;\">0.0632253</td><td style=\"text-align: right;\">0.878173</td><td style=\"text-align: right;\">          4</td><td style=\"text-align: right;\">     5</td><td style=\"text-align: right;\">         311.149</td><td style=\"text-align: right;\">  0.2</td></tr>\n",
              "<tr><td>XGBoost_trainable_832a3402</td><td>PENDING </td><td>               </td><td>depthwise    </td><td style=\"text-align: right;\">0.0314498</td><td style=\"text-align: right;\">0.892913</td><td style=\"text-align: right;\">          1</td><td style=\"text-align: right;\">     3</td><td style=\"text-align: right;\">         139.583</td><td style=\"text-align: right;\">  0.2</td></tr>\n",
              "</tbody>\n",
              "</table><br><br>"
            ],
            "text/plain": [
              "<IPython.core.display.HTML object>"
            ]
          },
          "metadata": {
            "tags": []
          }
        },
        {
          "output_type": "stream",
          "text": [
            "Result for XGBoost_trainable_83046f9c:\n",
            "  date: 2020-01-13_18-47-04\n",
            "  done: false\n",
            "  experiment_id: 7dfe5681a9894a5d89e85b61aeafc259\n",
            "  experiment_tag: 3_eta=0.063225,gamma=0.87817,grow_policy=depthwise,max_depth=4\n",
            "  hostname: 9991d65102f3\n",
            "  iterations_since_restore: 3\n",
            "  mean_accuracy: 0.2\n",
            "  node_ip: 172.28.0.2\n",
            "  pid: 4300\n",
            "  time_since_restore: 135.860347032547\n",
            "  time_this_iter_s: 45.58959460258484\n",
            "  time_total_s: 356.73814582824707\n",
            "  timestamp: 1578941224\n",
            "  timesteps_since_restore: 0\n",
            "  training_iteration: 6\n",
            "  trial_id: 83046f9c\n",
            "  \n"
          ],
          "name": "stdout"
        },
        {
          "output_type": "display_data",
          "data": {
            "text/html": [
              "== Status ==<br>Memory usage on this node: 1.5/12.7 GiB<br>Using HyperBand: num_stopped=0 total_brackets=1\n",
              "Round #0:\n",
              "  Bracket(Max Size (n)=9, Milestone (r)=9, completed=5.4%): {PAUSED: 1, PENDING: 1, RUNNING: 2} <br>Resources requested: 2/2 CPUs, 0/0 GPUs, 0.0/6.1 GiB heap, 0.0/2.1 GiB objects<br>Result logdir: /root/ray_results/XGBoost_trainable<br>Number of trials: 4 (1 PAUSED, 2 RUNNING, 1 PENDING)<br><table>\n",
              "<thead>\n",
              "<tr><th>Trial name                </th><th>status  </th><th>loc            </th><th>grow_policy  </th><th style=\"text-align: right;\">      eta</th><th style=\"text-align: right;\">   gamma</th><th style=\"text-align: right;\">  max_depth</th><th style=\"text-align: right;\">  iter</th><th style=\"text-align: right;\">  total time (s)</th><th style=\"text-align: right;\">  acc</th></tr>\n",
              "</thead>\n",
              "<tbody>\n",
              "<tr><td>XGBoost_trainable_82b61090</td><td>PAUSED  </td><td>               </td><td>lossguide    </td><td style=\"text-align: right;\">0.0105708</td><td style=\"text-align: right;\">0.406448</td><td style=\"text-align: right;\">          8</td><td style=\"text-align: right;\">     9</td><td style=\"text-align: right;\">         770.978</td><td style=\"text-align: right;\">  0.2</td></tr>\n",
              "<tr><td>XGBoost_trainable_82dfcba6</td><td>RUNNING </td><td>172.28.0.2:4522</td><td>lossguide    </td><td style=\"text-align: right;\">0.0556884</td><td style=\"text-align: right;\">0.529778</td><td style=\"text-align: right;\">          8</td><td style=\"text-align: right;\">     4</td><td style=\"text-align: right;\">        1393.35 </td><td style=\"text-align: right;\">  0.2</td></tr>\n",
              "<tr><td>XGBoost_trainable_83046f9c</td><td>RUNNING </td><td>172.28.0.2:4300</td><td>depthwise    </td><td style=\"text-align: right;\">0.0632253</td><td style=\"text-align: right;\">0.878173</td><td style=\"text-align: right;\">          4</td><td style=\"text-align: right;\">     6</td><td style=\"text-align: right;\">         356.738</td><td style=\"text-align: right;\">  0.2</td></tr>\n",
              "<tr><td>XGBoost_trainable_832a3402</td><td>PENDING </td><td>               </td><td>depthwise    </td><td style=\"text-align: right;\">0.0314498</td><td style=\"text-align: right;\">0.892913</td><td style=\"text-align: right;\">          1</td><td style=\"text-align: right;\">     3</td><td style=\"text-align: right;\">         139.583</td><td style=\"text-align: right;\">  0.2</td></tr>\n",
              "</tbody>\n",
              "</table><br><br>"
            ],
            "text/plain": [
              "<IPython.core.display.HTML object>"
            ]
          },
          "metadata": {
            "tags": []
          }
        },
        {
          "output_type": "stream",
          "text": [
            "Result for XGBoost_trainable_83046f9c:\n",
            "  date: 2020-01-13_18-47-51\n",
            "  done: false\n",
            "  experiment_id: 7dfe5681a9894a5d89e85b61aeafc259\n",
            "  experiment_tag: 3_eta=0.063225,gamma=0.87817,grow_policy=depthwise,max_depth=4\n",
            "  hostname: 9991d65102f3\n",
            "  iterations_since_restore: 4\n",
            "  mean_accuracy: 0.2\n",
            "  node_ip: 172.28.0.2\n",
            "  pid: 4300\n",
            "  time_since_restore: 182.57562470436096\n",
            "  time_this_iter_s: 46.715277671813965\n",
            "  time_total_s: 403.45342350006104\n",
            "  timestamp: 1578941271\n",
            "  timesteps_since_restore: 0\n",
            "  training_iteration: 7\n",
            "  trial_id: 83046f9c\n",
            "  \n"
          ],
          "name": "stdout"
        },
        {
          "output_type": "display_data",
          "data": {
            "text/html": [
              "== Status ==<br>Memory usage on this node: 1.6/12.7 GiB<br>Using HyperBand: num_stopped=0 total_brackets=1\n",
              "Round #0:\n",
              "  Bracket(Max Size (n)=9, Milestone (r)=9, completed=5.7%): {PAUSED: 1, PENDING: 1, RUNNING: 2} <br>Resources requested: 2/2 CPUs, 0/0 GPUs, 0.0/6.1 GiB heap, 0.0/2.1 GiB objects<br>Result logdir: /root/ray_results/XGBoost_trainable<br>Number of trials: 4 (1 PAUSED, 2 RUNNING, 1 PENDING)<br><table>\n",
              "<thead>\n",
              "<tr><th>Trial name                </th><th>status  </th><th>loc            </th><th>grow_policy  </th><th style=\"text-align: right;\">      eta</th><th style=\"text-align: right;\">   gamma</th><th style=\"text-align: right;\">  max_depth</th><th style=\"text-align: right;\">  iter</th><th style=\"text-align: right;\">  total time (s)</th><th style=\"text-align: right;\">  acc</th></tr>\n",
              "</thead>\n",
              "<tbody>\n",
              "<tr><td>XGBoost_trainable_82b61090</td><td>PAUSED  </td><td>               </td><td>lossguide    </td><td style=\"text-align: right;\">0.0105708</td><td style=\"text-align: right;\">0.406448</td><td style=\"text-align: right;\">          8</td><td style=\"text-align: right;\">     9</td><td style=\"text-align: right;\">         770.978</td><td style=\"text-align: right;\">  0.2</td></tr>\n",
              "<tr><td>XGBoost_trainable_82dfcba6</td><td>RUNNING </td><td>172.28.0.2:4522</td><td>lossguide    </td><td style=\"text-align: right;\">0.0556884</td><td style=\"text-align: right;\">0.529778</td><td style=\"text-align: right;\">          8</td><td style=\"text-align: right;\">     4</td><td style=\"text-align: right;\">        1393.35 </td><td style=\"text-align: right;\">  0.2</td></tr>\n",
              "<tr><td>XGBoost_trainable_83046f9c</td><td>RUNNING </td><td>172.28.0.2:4300</td><td>depthwise    </td><td style=\"text-align: right;\">0.0632253</td><td style=\"text-align: right;\">0.878173</td><td style=\"text-align: right;\">          4</td><td style=\"text-align: right;\">     7</td><td style=\"text-align: right;\">         403.453</td><td style=\"text-align: right;\">  0.2</td></tr>\n",
              "<tr><td>XGBoost_trainable_832a3402</td><td>PENDING </td><td>               </td><td>depthwise    </td><td style=\"text-align: right;\">0.0314498</td><td style=\"text-align: right;\">0.892913</td><td style=\"text-align: right;\">          1</td><td style=\"text-align: right;\">     3</td><td style=\"text-align: right;\">         139.583</td><td style=\"text-align: right;\">  0.2</td></tr>\n",
              "</tbody>\n",
              "</table><br><br>"
            ],
            "text/plain": [
              "<IPython.core.display.HTML object>"
            ]
          },
          "metadata": {
            "tags": []
          }
        },
        {
          "output_type": "stream",
          "text": [
            "Result for XGBoost_trainable_83046f9c:\n",
            "  date: 2020-01-13_18-48-36\n",
            "  done: false\n",
            "  experiment_id: 7dfe5681a9894a5d89e85b61aeafc259\n",
            "  experiment_tag: 3_eta=0.063225,gamma=0.87817,grow_policy=depthwise,max_depth=4\n",
            "  hostname: 9991d65102f3\n",
            "  iterations_since_restore: 5\n",
            "  mean_accuracy: 0.2\n",
            "  node_ip: 172.28.0.2\n",
            "  pid: 4300\n",
            "  time_since_restore: 228.253173828125\n",
            "  time_this_iter_s: 45.67754912376404\n",
            "  time_total_s: 449.1309726238251\n",
            "  timestamp: 1578941316\n",
            "  timesteps_since_restore: 0\n",
            "  training_iteration: 8\n",
            "  trial_id: 83046f9c\n",
            "  \n"
          ],
          "name": "stdout"
        },
        {
          "output_type": "display_data",
          "data": {
            "text/html": [
              "== Status ==<br>Memory usage on this node: 1.6/12.7 GiB<br>Using HyperBand: num_stopped=0 total_brackets=1\n",
              "Round #0:\n",
              "  Bracket(Max Size (n)=9, Milestone (r)=9, completed=5.9%): {PAUSED: 1, PENDING: 1, RUNNING: 2} <br>Resources requested: 2/2 CPUs, 0/0 GPUs, 0.0/6.1 GiB heap, 0.0/2.1 GiB objects<br>Result logdir: /root/ray_results/XGBoost_trainable<br>Number of trials: 4 (1 PAUSED, 2 RUNNING, 1 PENDING)<br><table>\n",
              "<thead>\n",
              "<tr><th>Trial name                </th><th>status  </th><th>loc            </th><th>grow_policy  </th><th style=\"text-align: right;\">      eta</th><th style=\"text-align: right;\">   gamma</th><th style=\"text-align: right;\">  max_depth</th><th style=\"text-align: right;\">  iter</th><th style=\"text-align: right;\">  total time (s)</th><th style=\"text-align: right;\">  acc</th></tr>\n",
              "</thead>\n",
              "<tbody>\n",
              "<tr><td>XGBoost_trainable_82b61090</td><td>PAUSED  </td><td>               </td><td>lossguide    </td><td style=\"text-align: right;\">0.0105708</td><td style=\"text-align: right;\">0.406448</td><td style=\"text-align: right;\">          8</td><td style=\"text-align: right;\">     9</td><td style=\"text-align: right;\">         770.978</td><td style=\"text-align: right;\">  0.2</td></tr>\n",
              "<tr><td>XGBoost_trainable_82dfcba6</td><td>RUNNING </td><td>172.28.0.2:4522</td><td>lossguide    </td><td style=\"text-align: right;\">0.0556884</td><td style=\"text-align: right;\">0.529778</td><td style=\"text-align: right;\">          8</td><td style=\"text-align: right;\">     4</td><td style=\"text-align: right;\">        1393.35 </td><td style=\"text-align: right;\">  0.2</td></tr>\n",
              "<tr><td>XGBoost_trainable_83046f9c</td><td>RUNNING </td><td>172.28.0.2:4300</td><td>depthwise    </td><td style=\"text-align: right;\">0.0632253</td><td style=\"text-align: right;\">0.878173</td><td style=\"text-align: right;\">          4</td><td style=\"text-align: right;\">     8</td><td style=\"text-align: right;\">         449.131</td><td style=\"text-align: right;\">  0.2</td></tr>\n",
              "<tr><td>XGBoost_trainable_832a3402</td><td>PENDING </td><td>               </td><td>depthwise    </td><td style=\"text-align: right;\">0.0314498</td><td style=\"text-align: right;\">0.892913</td><td style=\"text-align: right;\">          1</td><td style=\"text-align: right;\">     3</td><td style=\"text-align: right;\">         139.583</td><td style=\"text-align: right;\">  0.2</td></tr>\n",
              "</tbody>\n",
              "</table><br><br>"
            ],
            "text/plain": [
              "<IPython.core.display.HTML object>"
            ]
          },
          "metadata": {
            "tags": []
          }
        },
        {
          "output_type": "stream",
          "text": [
            "Result for XGBoost_trainable_83046f9c:\n",
            "  date: 2020-01-13_18-49-21\n",
            "  done: false\n",
            "  experiment_id: 7dfe5681a9894a5d89e85b61aeafc259\n",
            "  experiment_tag: 3_eta=0.063225,gamma=0.87817,grow_policy=depthwise,max_depth=4\n",
            "  hostname: 9991d65102f3\n",
            "  iterations_since_restore: 6\n",
            "  mean_accuracy: 0.2\n",
            "  node_ip: 172.28.0.2\n",
            "  pid: 4300\n",
            "  time_since_restore: 273.2492232322693\n",
            "  time_this_iter_s: 44.99604940414429\n",
            "  time_total_s: 494.12702202796936\n",
            "  timestamp: 1578941361\n",
            "  timesteps_since_restore: 0\n",
            "  training_iteration: 9\n",
            "  trial_id: 83046f9c\n",
            "  \n"
          ],
          "name": "stdout"
        },
        {
          "output_type": "display_data",
          "data": {
            "text/html": [
              "== Status ==<br>Memory usage on this node: 1.5/12.7 GiB<br>Using HyperBand: num_stopped=0 total_brackets=1\n",
              "Round #0:\n",
              "  Bracket(Max Size (n)=9, Milestone (r)=9, completed=6.2%): {PAUSED: 2, PENDING: 1, RUNNING: 1} <br>Resources requested: 1/2 CPUs, 0/0 GPUs, 0.0/6.1 GiB heap, 0.0/2.1 GiB objects<br>Result logdir: /root/ray_results/XGBoost_trainable<br>Number of trials: 4 (2 PAUSED, 1 RUNNING, 1 PENDING)<br><table>\n",
              "<thead>\n",
              "<tr><th>Trial name                </th><th>status  </th><th>loc            </th><th>grow_policy  </th><th style=\"text-align: right;\">      eta</th><th style=\"text-align: right;\">   gamma</th><th style=\"text-align: right;\">  max_depth</th><th style=\"text-align: right;\">  iter</th><th style=\"text-align: right;\">  total time (s)</th><th style=\"text-align: right;\">  acc</th></tr>\n",
              "</thead>\n",
              "<tbody>\n",
              "<tr><td>XGBoost_trainable_82b61090</td><td>PAUSED  </td><td>               </td><td>lossguide    </td><td style=\"text-align: right;\">0.0105708</td><td style=\"text-align: right;\">0.406448</td><td style=\"text-align: right;\">          8</td><td style=\"text-align: right;\">     9</td><td style=\"text-align: right;\">         770.978</td><td style=\"text-align: right;\">  0.2</td></tr>\n",
              "<tr><td>XGBoost_trainable_82dfcba6</td><td>RUNNING </td><td>172.28.0.2:4522</td><td>lossguide    </td><td style=\"text-align: right;\">0.0556884</td><td style=\"text-align: right;\">0.529778</td><td style=\"text-align: right;\">          8</td><td style=\"text-align: right;\">     4</td><td style=\"text-align: right;\">        1393.35 </td><td style=\"text-align: right;\">  0.2</td></tr>\n",
              "<tr><td>XGBoost_trainable_83046f9c</td><td>PAUSED  </td><td>               </td><td>depthwise    </td><td style=\"text-align: right;\">0.0632253</td><td style=\"text-align: right;\">0.878173</td><td style=\"text-align: right;\">          4</td><td style=\"text-align: right;\">     9</td><td style=\"text-align: right;\">         494.127</td><td style=\"text-align: right;\">  0.2</td></tr>\n",
              "<tr><td>XGBoost_trainable_832a3402</td><td>PENDING </td><td>               </td><td>depthwise    </td><td style=\"text-align: right;\">0.0314498</td><td style=\"text-align: right;\">0.892913</td><td style=\"text-align: right;\">          1</td><td style=\"text-align: right;\">     3</td><td style=\"text-align: right;\">         139.583</td><td style=\"text-align: right;\">  0.2</td></tr>\n",
              "</tbody>\n",
              "</table><br><br>"
            ],
            "text/plain": [
              "<IPython.core.display.HTML object>"
            ]
          },
          "metadata": {
            "tags": []
          }
        },
        {
          "output_type": "stream",
          "text": [
            "\u001b[2m\u001b[36m(pid=4300)\u001b[0m 2020-01-13 18:49:21,807\tINFO trainable.py:346 -- Restored from checkpoint: /root/ray_results/XGBoost_trainable/XGBoost_trainable_832a3402_2020-01-13_18-28-13k7cutwmt/tmpd0zzsmufrestore_from_object/checkpoint_3/model.pth\n",
            "\u001b[2m\u001b[36m(pid=4300)\u001b[0m 2020-01-13 18:49:21,807\tINFO trainable.py:353 -- Current state after restoring: {'_iteration': 3, '_timesteps_total': None, '_time_total': 139.58279824256897, '_episodes_total': None}\n",
            "Result for XGBoost_trainable_832a3402:\n",
            "  date: 2020-01-13_18-50-08\n",
            "  done: false\n",
            "  experiment_id: dba50441a96149289476f25c4382c3e2\n",
            "  experiment_tag: 4_eta=0.03145,gamma=0.89291,grow_policy=depthwise,max_depth=1\n",
            "  hostname: 9991d65102f3\n",
            "  iterations_since_restore: 1\n",
            "  mean_accuracy: 0.2\n",
            "  node_ip: 172.28.0.2\n",
            "  pid: 4300\n",
            "  time_since_restore: 46.42557978630066\n",
            "  time_this_iter_s: 46.42557978630066\n",
            "  time_total_s: 186.00837802886963\n",
            "  timestamp: 1578941408\n",
            "  timesteps_since_restore: 0\n",
            "  training_iteration: 4\n",
            "  trial_id: 832a3402\n",
            "  \n"
          ],
          "name": "stdout"
        },
        {
          "output_type": "display_data",
          "data": {
            "text/html": [
              "== Status ==<br>Memory usage on this node: 1.6/12.7 GiB<br>Using HyperBand: num_stopped=0 total_brackets=1\n",
              "Round #0:\n",
              "  Bracket(Max Size (n)=9, Milestone (r)=9, completed=6.4%): {PAUSED: 2, RUNNING: 2} <br>Resources requested: 2/2 CPUs, 0/0 GPUs, 0.0/6.1 GiB heap, 0.0/2.1 GiB objects<br>Result logdir: /root/ray_results/XGBoost_trainable<br>Number of trials: 4 (2 PAUSED, 2 RUNNING)<br><table>\n",
              "<thead>\n",
              "<tr><th>Trial name                </th><th>status  </th><th>loc            </th><th>grow_policy  </th><th style=\"text-align: right;\">      eta</th><th style=\"text-align: right;\">   gamma</th><th style=\"text-align: right;\">  max_depth</th><th style=\"text-align: right;\">  iter</th><th style=\"text-align: right;\">  total time (s)</th><th style=\"text-align: right;\">  acc</th></tr>\n",
              "</thead>\n",
              "<tbody>\n",
              "<tr><td>XGBoost_trainable_82b61090</td><td>PAUSED  </td><td>               </td><td>lossguide    </td><td style=\"text-align: right;\">0.0105708</td><td style=\"text-align: right;\">0.406448</td><td style=\"text-align: right;\">          8</td><td style=\"text-align: right;\">     9</td><td style=\"text-align: right;\">         770.978</td><td style=\"text-align: right;\">  0.2</td></tr>\n",
              "<tr><td>XGBoost_trainable_82dfcba6</td><td>RUNNING </td><td>172.28.0.2:4522</td><td>lossguide    </td><td style=\"text-align: right;\">0.0556884</td><td style=\"text-align: right;\">0.529778</td><td style=\"text-align: right;\">          8</td><td style=\"text-align: right;\">     4</td><td style=\"text-align: right;\">        1393.35 </td><td style=\"text-align: right;\">  0.2</td></tr>\n",
              "<tr><td>XGBoost_trainable_83046f9c</td><td>PAUSED  </td><td>               </td><td>depthwise    </td><td style=\"text-align: right;\">0.0632253</td><td style=\"text-align: right;\">0.878173</td><td style=\"text-align: right;\">          4</td><td style=\"text-align: right;\">     9</td><td style=\"text-align: right;\">         494.127</td><td style=\"text-align: right;\">  0.2</td></tr>\n",
              "<tr><td>XGBoost_trainable_832a3402</td><td>RUNNING </td><td>172.28.0.2:4300</td><td>depthwise    </td><td style=\"text-align: right;\">0.0314498</td><td style=\"text-align: right;\">0.892913</td><td style=\"text-align: right;\">          1</td><td style=\"text-align: right;\">     4</td><td style=\"text-align: right;\">         186.008</td><td style=\"text-align: right;\">  0.2</td></tr>\n",
              "</tbody>\n",
              "</table><br><br>"
            ],
            "text/plain": [
              "<IPython.core.display.HTML object>"
            ]
          },
          "metadata": {
            "tags": []
          }
        },
        {
          "output_type": "stream",
          "text": [
            "Result for XGBoost_trainable_832a3402:\n",
            "  date: 2020-01-13_18-50-54\n",
            "  done: false\n",
            "  experiment_id: dba50441a96149289476f25c4382c3e2\n",
            "  experiment_tag: 4_eta=0.03145,gamma=0.89291,grow_policy=depthwise,max_depth=1\n",
            "  hostname: 9991d65102f3\n",
            "  iterations_since_restore: 2\n",
            "  mean_accuracy: 0.2\n",
            "  node_ip: 172.28.0.2\n",
            "  pid: 4300\n",
            "  time_since_restore: 92.6219437122345\n",
            "  time_this_iter_s: 46.19636392593384\n",
            "  time_total_s: 232.20474195480347\n",
            "  timestamp: 1578941454\n",
            "  timesteps_since_restore: 0\n",
            "  training_iteration: 5\n",
            "  trial_id: 832a3402\n",
            "  \n"
          ],
          "name": "stdout"
        },
        {
          "output_type": "display_data",
          "data": {
            "text/html": [
              "== Status ==<br>Memory usage on this node: 1.6/12.7 GiB<br>Using HyperBand: num_stopped=0 total_brackets=1\n",
              "Round #0:\n",
              "  Bracket(Max Size (n)=9, Milestone (r)=9, completed=6.7%): {PAUSED: 2, RUNNING: 2} <br>Resources requested: 2/2 CPUs, 0/0 GPUs, 0.0/6.1 GiB heap, 0.0/2.1 GiB objects<br>Result logdir: /root/ray_results/XGBoost_trainable<br>Number of trials: 4 (2 PAUSED, 2 RUNNING)<br><table>\n",
              "<thead>\n",
              "<tr><th>Trial name                </th><th>status  </th><th>loc            </th><th>grow_policy  </th><th style=\"text-align: right;\">      eta</th><th style=\"text-align: right;\">   gamma</th><th style=\"text-align: right;\">  max_depth</th><th style=\"text-align: right;\">  iter</th><th style=\"text-align: right;\">  total time (s)</th><th style=\"text-align: right;\">  acc</th></tr>\n",
              "</thead>\n",
              "<tbody>\n",
              "<tr><td>XGBoost_trainable_82b61090</td><td>PAUSED  </td><td>               </td><td>lossguide    </td><td style=\"text-align: right;\">0.0105708</td><td style=\"text-align: right;\">0.406448</td><td style=\"text-align: right;\">          8</td><td style=\"text-align: right;\">     9</td><td style=\"text-align: right;\">         770.978</td><td style=\"text-align: right;\">  0.2</td></tr>\n",
              "<tr><td>XGBoost_trainable_82dfcba6</td><td>RUNNING </td><td>172.28.0.2:4522</td><td>lossguide    </td><td style=\"text-align: right;\">0.0556884</td><td style=\"text-align: right;\">0.529778</td><td style=\"text-align: right;\">          8</td><td style=\"text-align: right;\">     4</td><td style=\"text-align: right;\">        1393.35 </td><td style=\"text-align: right;\">  0.2</td></tr>\n",
              "<tr><td>XGBoost_trainable_83046f9c</td><td>PAUSED  </td><td>               </td><td>depthwise    </td><td style=\"text-align: right;\">0.0632253</td><td style=\"text-align: right;\">0.878173</td><td style=\"text-align: right;\">          4</td><td style=\"text-align: right;\">     9</td><td style=\"text-align: right;\">         494.127</td><td style=\"text-align: right;\">  0.2</td></tr>\n",
              "<tr><td>XGBoost_trainable_832a3402</td><td>RUNNING </td><td>172.28.0.2:4300</td><td>depthwise    </td><td style=\"text-align: right;\">0.0314498</td><td style=\"text-align: right;\">0.892913</td><td style=\"text-align: right;\">          1</td><td style=\"text-align: right;\">     5</td><td style=\"text-align: right;\">         232.205</td><td style=\"text-align: right;\">  0.2</td></tr>\n",
              "</tbody>\n",
              "</table><br><br>"
            ],
            "text/plain": [
              "<IPython.core.display.HTML object>"
            ]
          },
          "metadata": {
            "tags": []
          }
        },
        {
          "output_type": "stream",
          "text": [
            "Result for XGBoost_trainable_832a3402:\n",
            "  date: 2020-01-13_18-51-40\n",
            "  done: false\n",
            "  experiment_id: dba50441a96149289476f25c4382c3e2\n",
            "  experiment_tag: 4_eta=0.03145,gamma=0.89291,grow_policy=depthwise,max_depth=1\n",
            "  hostname: 9991d65102f3\n",
            "  iterations_since_restore: 3\n",
            "  mean_accuracy: 0.2\n",
            "  node_ip: 172.28.0.2\n",
            "  pid: 4300\n",
            "  time_since_restore: 138.79539823532104\n",
            "  time_this_iter_s: 46.17345452308655\n",
            "  time_total_s: 278.37819647789\n",
            "  timestamp: 1578941500\n",
            "  timesteps_since_restore: 0\n",
            "  training_iteration: 6\n",
            "  trial_id: 832a3402\n",
            "  \n"
          ],
          "name": "stdout"
        },
        {
          "output_type": "display_data",
          "data": {
            "text/html": [
              "== Status ==<br>Memory usage on this node: 1.6/12.7 GiB<br>Using HyperBand: num_stopped=0 total_brackets=1\n",
              "Round #0:\n",
              "  Bracket(Max Size (n)=9, Milestone (r)=9, completed=6.9%): {PAUSED: 2, RUNNING: 2} <br>Resources requested: 2/2 CPUs, 0/0 GPUs, 0.0/6.1 GiB heap, 0.0/2.1 GiB objects<br>Result logdir: /root/ray_results/XGBoost_trainable<br>Number of trials: 4 (2 PAUSED, 2 RUNNING)<br><table>\n",
              "<thead>\n",
              "<tr><th>Trial name                </th><th>status  </th><th>loc            </th><th>grow_policy  </th><th style=\"text-align: right;\">      eta</th><th style=\"text-align: right;\">   gamma</th><th style=\"text-align: right;\">  max_depth</th><th style=\"text-align: right;\">  iter</th><th style=\"text-align: right;\">  total time (s)</th><th style=\"text-align: right;\">  acc</th></tr>\n",
              "</thead>\n",
              "<tbody>\n",
              "<tr><td>XGBoost_trainable_82b61090</td><td>PAUSED  </td><td>               </td><td>lossguide    </td><td style=\"text-align: right;\">0.0105708</td><td style=\"text-align: right;\">0.406448</td><td style=\"text-align: right;\">          8</td><td style=\"text-align: right;\">     9</td><td style=\"text-align: right;\">         770.978</td><td style=\"text-align: right;\">  0.2</td></tr>\n",
              "<tr><td>XGBoost_trainable_82dfcba6</td><td>RUNNING </td><td>172.28.0.2:4522</td><td>lossguide    </td><td style=\"text-align: right;\">0.0556884</td><td style=\"text-align: right;\">0.529778</td><td style=\"text-align: right;\">          8</td><td style=\"text-align: right;\">     4</td><td style=\"text-align: right;\">        1393.35 </td><td style=\"text-align: right;\">  0.2</td></tr>\n",
              "<tr><td>XGBoost_trainable_83046f9c</td><td>PAUSED  </td><td>               </td><td>depthwise    </td><td style=\"text-align: right;\">0.0632253</td><td style=\"text-align: right;\">0.878173</td><td style=\"text-align: right;\">          4</td><td style=\"text-align: right;\">     9</td><td style=\"text-align: right;\">         494.127</td><td style=\"text-align: right;\">  0.2</td></tr>\n",
              "<tr><td>XGBoost_trainable_832a3402</td><td>RUNNING </td><td>172.28.0.2:4300</td><td>depthwise    </td><td style=\"text-align: right;\">0.0314498</td><td style=\"text-align: right;\">0.892913</td><td style=\"text-align: right;\">          1</td><td style=\"text-align: right;\">     6</td><td style=\"text-align: right;\">         278.378</td><td style=\"text-align: right;\">  0.2</td></tr>\n",
              "</tbody>\n",
              "</table><br><br>"
            ],
            "text/plain": [
              "<IPython.core.display.HTML object>"
            ]
          },
          "metadata": {
            "tags": []
          }
        },
        {
          "output_type": "stream",
          "text": [
            "Result for XGBoost_trainable_832a3402:\n",
            "  date: 2020-01-13_18-52-27\n",
            "  done: false\n",
            "  experiment_id: dba50441a96149289476f25c4382c3e2\n",
            "  experiment_tag: 4_eta=0.03145,gamma=0.89291,grow_policy=depthwise,max_depth=1\n",
            "  hostname: 9991d65102f3\n",
            "  iterations_since_restore: 4\n",
            "  mean_accuracy: 0.2\n",
            "  node_ip: 172.28.0.2\n",
            "  pid: 4300\n",
            "  time_since_restore: 185.47394704818726\n",
            "  time_this_iter_s: 46.67854881286621\n",
            "  time_total_s: 325.0567452907562\n",
            "  timestamp: 1578941547\n",
            "  timesteps_since_restore: 0\n",
            "  training_iteration: 7\n",
            "  trial_id: 832a3402\n",
            "  \n"
          ],
          "name": "stdout"
        },
        {
          "output_type": "display_data",
          "data": {
            "text/html": [
              "== Status ==<br>Memory usage on this node: 1.6/12.7 GiB<br>Using HyperBand: num_stopped=0 total_brackets=1\n",
              "Round #0:\n",
              "  Bracket(Max Size (n)=9, Milestone (r)=9, completed=7.2%): {PAUSED: 2, RUNNING: 2} <br>Resources requested: 2/2 CPUs, 0/0 GPUs, 0.0/6.1 GiB heap, 0.0/2.1 GiB objects<br>Result logdir: /root/ray_results/XGBoost_trainable<br>Number of trials: 4 (2 PAUSED, 2 RUNNING)<br><table>\n",
              "<thead>\n",
              "<tr><th>Trial name                </th><th>status  </th><th>loc            </th><th>grow_policy  </th><th style=\"text-align: right;\">      eta</th><th style=\"text-align: right;\">   gamma</th><th style=\"text-align: right;\">  max_depth</th><th style=\"text-align: right;\">  iter</th><th style=\"text-align: right;\">  total time (s)</th><th style=\"text-align: right;\">  acc</th></tr>\n",
              "</thead>\n",
              "<tbody>\n",
              "<tr><td>XGBoost_trainable_82b61090</td><td>PAUSED  </td><td>               </td><td>lossguide    </td><td style=\"text-align: right;\">0.0105708</td><td style=\"text-align: right;\">0.406448</td><td style=\"text-align: right;\">          8</td><td style=\"text-align: right;\">     9</td><td style=\"text-align: right;\">         770.978</td><td style=\"text-align: right;\">  0.2</td></tr>\n",
              "<tr><td>XGBoost_trainable_82dfcba6</td><td>RUNNING </td><td>172.28.0.2:4522</td><td>lossguide    </td><td style=\"text-align: right;\">0.0556884</td><td style=\"text-align: right;\">0.529778</td><td style=\"text-align: right;\">          8</td><td style=\"text-align: right;\">     4</td><td style=\"text-align: right;\">        1393.35 </td><td style=\"text-align: right;\">  0.2</td></tr>\n",
              "<tr><td>XGBoost_trainable_83046f9c</td><td>PAUSED  </td><td>               </td><td>depthwise    </td><td style=\"text-align: right;\">0.0632253</td><td style=\"text-align: right;\">0.878173</td><td style=\"text-align: right;\">          4</td><td style=\"text-align: right;\">     9</td><td style=\"text-align: right;\">         494.127</td><td style=\"text-align: right;\">  0.2</td></tr>\n",
              "<tr><td>XGBoost_trainable_832a3402</td><td>RUNNING </td><td>172.28.0.2:4300</td><td>depthwise    </td><td style=\"text-align: right;\">0.0314498</td><td style=\"text-align: right;\">0.892913</td><td style=\"text-align: right;\">          1</td><td style=\"text-align: right;\">     7</td><td style=\"text-align: right;\">         325.057</td><td style=\"text-align: right;\">  0.2</td></tr>\n",
              "</tbody>\n",
              "</table><br><br>"
            ],
            "text/plain": [
              "<IPython.core.display.HTML object>"
            ]
          },
          "metadata": {
            "tags": []
          }
        },
        {
          "output_type": "stream",
          "text": [
            "Result for XGBoost_trainable_832a3402:\n",
            "  date: 2020-01-13_18-53-14\n",
            "  done: false\n",
            "  experiment_id: dba50441a96149289476f25c4382c3e2\n",
            "  experiment_tag: 4_eta=0.03145,gamma=0.89291,grow_policy=depthwise,max_depth=1\n",
            "  hostname: 9991d65102f3\n",
            "  iterations_since_restore: 5\n",
            "  mean_accuracy: 0.2\n",
            "  node_ip: 172.28.0.2\n",
            "  pid: 4300\n",
            "  time_since_restore: 232.42526698112488\n",
            "  time_this_iter_s: 46.95131993293762\n",
            "  time_total_s: 372.00806522369385\n",
            "  timestamp: 1578941594\n",
            "  timesteps_since_restore: 0\n",
            "  training_iteration: 8\n",
            "  trial_id: 832a3402\n",
            "  \n"
          ],
          "name": "stdout"
        },
        {
          "output_type": "display_data",
          "data": {
            "text/html": [
              "== Status ==<br>Memory usage on this node: 1.6/12.7 GiB<br>Using HyperBand: num_stopped=0 total_brackets=1\n",
              "Round #0:\n",
              "  Bracket(Max Size (n)=9, Milestone (r)=9, completed=7.4%): {PAUSED: 2, RUNNING: 2} <br>Resources requested: 2/2 CPUs, 0/0 GPUs, 0.0/6.1 GiB heap, 0.0/2.1 GiB objects<br>Result logdir: /root/ray_results/XGBoost_trainable<br>Number of trials: 4 (2 PAUSED, 2 RUNNING)<br><table>\n",
              "<thead>\n",
              "<tr><th>Trial name                </th><th>status  </th><th>loc            </th><th>grow_policy  </th><th style=\"text-align: right;\">      eta</th><th style=\"text-align: right;\">   gamma</th><th style=\"text-align: right;\">  max_depth</th><th style=\"text-align: right;\">  iter</th><th style=\"text-align: right;\">  total time (s)</th><th style=\"text-align: right;\">  acc</th></tr>\n",
              "</thead>\n",
              "<tbody>\n",
              "<tr><td>XGBoost_trainable_82b61090</td><td>PAUSED  </td><td>               </td><td>lossguide    </td><td style=\"text-align: right;\">0.0105708</td><td style=\"text-align: right;\">0.406448</td><td style=\"text-align: right;\">          8</td><td style=\"text-align: right;\">     9</td><td style=\"text-align: right;\">         770.978</td><td style=\"text-align: right;\">  0.2</td></tr>\n",
              "<tr><td>XGBoost_trainable_82dfcba6</td><td>RUNNING </td><td>172.28.0.2:4522</td><td>lossguide    </td><td style=\"text-align: right;\">0.0556884</td><td style=\"text-align: right;\">0.529778</td><td style=\"text-align: right;\">          8</td><td style=\"text-align: right;\">     4</td><td style=\"text-align: right;\">        1393.35 </td><td style=\"text-align: right;\">  0.2</td></tr>\n",
              "<tr><td>XGBoost_trainable_83046f9c</td><td>PAUSED  </td><td>               </td><td>depthwise    </td><td style=\"text-align: right;\">0.0632253</td><td style=\"text-align: right;\">0.878173</td><td style=\"text-align: right;\">          4</td><td style=\"text-align: right;\">     9</td><td style=\"text-align: right;\">         494.127</td><td style=\"text-align: right;\">  0.2</td></tr>\n",
              "<tr><td>XGBoost_trainable_832a3402</td><td>RUNNING </td><td>172.28.0.2:4300</td><td>depthwise    </td><td style=\"text-align: right;\">0.0314498</td><td style=\"text-align: right;\">0.892913</td><td style=\"text-align: right;\">          1</td><td style=\"text-align: right;\">     8</td><td style=\"text-align: right;\">         372.008</td><td style=\"text-align: right;\">  0.2</td></tr>\n",
              "</tbody>\n",
              "</table><br><br>"
            ],
            "text/plain": [
              "<IPython.core.display.HTML object>"
            ]
          },
          "metadata": {
            "tags": []
          }
        },
        {
          "output_type": "stream",
          "text": [
            "Result for XGBoost_trainable_82dfcba6:\n",
            "  date: 2020-01-13_18-53-36\n",
            "  done: false\n",
            "  experiment_id: 16f69ef7f0924c0282aea2d931fb3408\n",
            "  experiment_tag: 2_eta=0.055688,gamma=0.52978,grow_policy=lossguide,max_depth=8\n",
            "  hostname: 9991d65102f3\n",
            "  iterations_since_restore: 2\n",
            "  mean_accuracy: 0.2\n",
            "  node_ip: 172.28.0.2\n",
            "  pid: 4522\n",
            "  time_since_restore: 802.5984597206116\n",
            "  time_this_iter_s: 397.6701092720032\n",
            "  time_total_s: 1791.0214099884033\n",
            "  timestamp: 1578941616\n",
            "  timesteps_since_restore: 0\n",
            "  training_iteration: 5\n",
            "  trial_id: 82dfcba6\n",
            "  \n"
          ],
          "name": "stdout"
        },
        {
          "output_type": "display_data",
          "data": {
            "text/html": [
              "== Status ==<br>Memory usage on this node: 1.5/12.7 GiB<br>Using HyperBand: num_stopped=0 total_brackets=1\n",
              "Round #0:\n",
              "  Bracket(Max Size (n)=9, Milestone (r)=9, completed=7.7%): {PAUSED: 2, RUNNING: 2} <br>Resources requested: 2/2 CPUs, 0/0 GPUs, 0.0/6.1 GiB heap, 0.0/2.1 GiB objects<br>Result logdir: /root/ray_results/XGBoost_trainable<br>Number of trials: 4 (2 PAUSED, 2 RUNNING)<br><table>\n",
              "<thead>\n",
              "<tr><th>Trial name                </th><th>status  </th><th>loc            </th><th>grow_policy  </th><th style=\"text-align: right;\">      eta</th><th style=\"text-align: right;\">   gamma</th><th style=\"text-align: right;\">  max_depth</th><th style=\"text-align: right;\">  iter</th><th style=\"text-align: right;\">  total time (s)</th><th style=\"text-align: right;\">  acc</th></tr>\n",
              "</thead>\n",
              "<tbody>\n",
              "<tr><td>XGBoost_trainable_82b61090</td><td>PAUSED  </td><td>               </td><td>lossguide    </td><td style=\"text-align: right;\">0.0105708</td><td style=\"text-align: right;\">0.406448</td><td style=\"text-align: right;\">          8</td><td style=\"text-align: right;\">     9</td><td style=\"text-align: right;\">         770.978</td><td style=\"text-align: right;\">  0.2</td></tr>\n",
              "<tr><td>XGBoost_trainable_82dfcba6</td><td>RUNNING </td><td>172.28.0.2:4522</td><td>lossguide    </td><td style=\"text-align: right;\">0.0556884</td><td style=\"text-align: right;\">0.529778</td><td style=\"text-align: right;\">          8</td><td style=\"text-align: right;\">     5</td><td style=\"text-align: right;\">        1791.02 </td><td style=\"text-align: right;\">  0.2</td></tr>\n",
              "<tr><td>XGBoost_trainable_83046f9c</td><td>PAUSED  </td><td>               </td><td>depthwise    </td><td style=\"text-align: right;\">0.0632253</td><td style=\"text-align: right;\">0.878173</td><td style=\"text-align: right;\">          4</td><td style=\"text-align: right;\">     9</td><td style=\"text-align: right;\">         494.127</td><td style=\"text-align: right;\">  0.2</td></tr>\n",
              "<tr><td>XGBoost_trainable_832a3402</td><td>RUNNING </td><td>172.28.0.2:4300</td><td>depthwise    </td><td style=\"text-align: right;\">0.0314498</td><td style=\"text-align: right;\">0.892913</td><td style=\"text-align: right;\">          1</td><td style=\"text-align: right;\">     8</td><td style=\"text-align: right;\">         372.008</td><td style=\"text-align: right;\">  0.2</td></tr>\n",
              "</tbody>\n",
              "</table><br><br>"
            ],
            "text/plain": [
              "<IPython.core.display.HTML object>"
            ]
          },
          "metadata": {
            "tags": []
          }
        },
        {
          "output_type": "stream",
          "text": [
            "Result for XGBoost_trainable_832a3402:\n",
            "  date: 2020-01-13_18-54-01\n",
            "  done: false\n",
            "  experiment_id: dba50441a96149289476f25c4382c3e2\n",
            "  experiment_tag: 4_eta=0.03145,gamma=0.89291,grow_policy=depthwise,max_depth=1\n",
            "  hostname: 9991d65102f3\n",
            "  iterations_since_restore: 6\n",
            "  mean_accuracy: 0.2\n",
            "  node_ip: 172.28.0.2\n",
            "  pid: 4300\n",
            "  time_since_restore: 279.4833586215973\n",
            "  time_this_iter_s: 47.05809164047241\n",
            "  time_total_s: 419.06615686416626\n",
            "  timestamp: 1578941641\n",
            "  timesteps_since_restore: 0\n",
            "  training_iteration: 9\n",
            "  trial_id: 832a3402\n",
            "  \n"
          ],
          "name": "stdout"
        },
        {
          "output_type": "display_data",
          "data": {
            "text/html": [
              "== Status ==<br>Memory usage on this node: 1.5/12.7 GiB<br>Using HyperBand: num_stopped=0 total_brackets=1\n",
              "Round #0:\n",
              "  Bracket(Max Size (n)=9, Milestone (r)=9, completed=7.9%): {PAUSED: 3, RUNNING: 1} <br>Resources requested: 1/2 CPUs, 0/0 GPUs, 0.0/6.1 GiB heap, 0.0/2.1 GiB objects<br>Result logdir: /root/ray_results/XGBoost_trainable<br>Number of trials: 4 (3 PAUSED, 1 RUNNING)<br><table>\n",
              "<thead>\n",
              "<tr><th>Trial name                </th><th>status  </th><th>loc            </th><th>grow_policy  </th><th style=\"text-align: right;\">      eta</th><th style=\"text-align: right;\">   gamma</th><th style=\"text-align: right;\">  max_depth</th><th style=\"text-align: right;\">  iter</th><th style=\"text-align: right;\">  total time (s)</th><th style=\"text-align: right;\">  acc</th></tr>\n",
              "</thead>\n",
              "<tbody>\n",
              "<tr><td>XGBoost_trainable_82b61090</td><td>PAUSED  </td><td>               </td><td>lossguide    </td><td style=\"text-align: right;\">0.0105708</td><td style=\"text-align: right;\">0.406448</td><td style=\"text-align: right;\">          8</td><td style=\"text-align: right;\">     9</td><td style=\"text-align: right;\">         770.978</td><td style=\"text-align: right;\">  0.2</td></tr>\n",
              "<tr><td>XGBoost_trainable_82dfcba6</td><td>RUNNING </td><td>172.28.0.2:4522</td><td>lossguide    </td><td style=\"text-align: right;\">0.0556884</td><td style=\"text-align: right;\">0.529778</td><td style=\"text-align: right;\">          8</td><td style=\"text-align: right;\">     5</td><td style=\"text-align: right;\">        1791.02 </td><td style=\"text-align: right;\">  0.2</td></tr>\n",
              "<tr><td>XGBoost_trainable_83046f9c</td><td>PAUSED  </td><td>               </td><td>depthwise    </td><td style=\"text-align: right;\">0.0632253</td><td style=\"text-align: right;\">0.878173</td><td style=\"text-align: right;\">          4</td><td style=\"text-align: right;\">     9</td><td style=\"text-align: right;\">         494.127</td><td style=\"text-align: right;\">  0.2</td></tr>\n",
              "<tr><td>XGBoost_trainable_832a3402</td><td>PAUSED  </td><td>               </td><td>depthwise    </td><td style=\"text-align: right;\">0.0314498</td><td style=\"text-align: right;\">0.892913</td><td style=\"text-align: right;\">          1</td><td style=\"text-align: right;\">     9</td><td style=\"text-align: right;\">         419.066</td><td style=\"text-align: right;\">  0.2</td></tr>\n",
              "</tbody>\n",
              "</table><br><br>"
            ],
            "text/plain": [
              "<IPython.core.display.HTML object>"
            ]
          },
          "metadata": {
            "tags": []
          }
        },
        {
          "output_type": "stream",
          "text": [
            "Result for XGBoost_trainable_82dfcba6:\n",
            "  date: 2020-01-13_18-57-43\n",
            "  done: false\n",
            "  experiment_id: 16f69ef7f0924c0282aea2d931fb3408\n",
            "  experiment_tag: 2_eta=0.055688,gamma=0.52978,grow_policy=lossguide,max_depth=8\n",
            "  hostname: 9991d65102f3\n",
            "  iterations_since_restore: 3\n",
            "  mean_accuracy: 0.2\n",
            "  node_ip: 172.28.0.2\n",
            "  pid: 4522\n",
            "  time_since_restore: 1049.4296815395355\n",
            "  time_this_iter_s: 246.83122181892395\n",
            "  time_total_s: 2037.8526318073273\n",
            "  timestamp: 1578941863\n",
            "  timesteps_since_restore: 0\n",
            "  training_iteration: 6\n",
            "  trial_id: 82dfcba6\n",
            "  \n"
          ],
          "name": "stdout"
        },
        {
          "output_type": "display_data",
          "data": {
            "text/html": [
              "== Status ==<br>Memory usage on this node: 1.5/12.7 GiB<br>Using HyperBand: num_stopped=0 total_brackets=1\n",
              "Round #0:\n",
              "  Bracket(Max Size (n)=9, Milestone (r)=9, completed=8.2%): {PAUSED: 3, RUNNING: 1} <br>Resources requested: 1/2 CPUs, 0/0 GPUs, 0.0/6.1 GiB heap, 0.0/2.1 GiB objects<br>Result logdir: /root/ray_results/XGBoost_trainable<br>Number of trials: 4 (3 PAUSED, 1 RUNNING)<br><table>\n",
              "<thead>\n",
              "<tr><th>Trial name                </th><th>status  </th><th>loc            </th><th>grow_policy  </th><th style=\"text-align: right;\">      eta</th><th style=\"text-align: right;\">   gamma</th><th style=\"text-align: right;\">  max_depth</th><th style=\"text-align: right;\">  iter</th><th style=\"text-align: right;\">  total time (s)</th><th style=\"text-align: right;\">  acc</th></tr>\n",
              "</thead>\n",
              "<tbody>\n",
              "<tr><td>XGBoost_trainable_82b61090</td><td>PAUSED  </td><td>               </td><td>lossguide    </td><td style=\"text-align: right;\">0.0105708</td><td style=\"text-align: right;\">0.406448</td><td style=\"text-align: right;\">          8</td><td style=\"text-align: right;\">     9</td><td style=\"text-align: right;\">         770.978</td><td style=\"text-align: right;\">  0.2</td></tr>\n",
              "<tr><td>XGBoost_trainable_82dfcba6</td><td>RUNNING </td><td>172.28.0.2:4522</td><td>lossguide    </td><td style=\"text-align: right;\">0.0556884</td><td style=\"text-align: right;\">0.529778</td><td style=\"text-align: right;\">          8</td><td style=\"text-align: right;\">     6</td><td style=\"text-align: right;\">        2037.85 </td><td style=\"text-align: right;\">  0.2</td></tr>\n",
              "<tr><td>XGBoost_trainable_83046f9c</td><td>PAUSED  </td><td>               </td><td>depthwise    </td><td style=\"text-align: right;\">0.0632253</td><td style=\"text-align: right;\">0.878173</td><td style=\"text-align: right;\">          4</td><td style=\"text-align: right;\">     9</td><td style=\"text-align: right;\">         494.127</td><td style=\"text-align: right;\">  0.2</td></tr>\n",
              "<tr><td>XGBoost_trainable_832a3402</td><td>PAUSED  </td><td>               </td><td>depthwise    </td><td style=\"text-align: right;\">0.0314498</td><td style=\"text-align: right;\">0.892913</td><td style=\"text-align: right;\">          1</td><td style=\"text-align: right;\">     9</td><td style=\"text-align: right;\">         419.066</td><td style=\"text-align: right;\">  0.2</td></tr>\n",
              "</tbody>\n",
              "</table><br><br>"
            ],
            "text/plain": [
              "<IPython.core.display.HTML object>"
            ]
          },
          "metadata": {
            "tags": []
          }
        },
        {
          "output_type": "stream",
          "text": [
            "Result for XGBoost_trainable_82dfcba6:\n",
            "  date: 2020-01-13_19-01-38\n",
            "  done: false\n",
            "  experiment_id: 16f69ef7f0924c0282aea2d931fb3408\n",
            "  experiment_tag: 2_eta=0.055688,gamma=0.52978,grow_policy=lossguide,max_depth=8\n",
            "  hostname: 9991d65102f3\n",
            "  iterations_since_restore: 4\n",
            "  mean_accuracy: 0.2\n",
            "  node_ip: 172.28.0.2\n",
            "  pid: 4522\n",
            "  time_since_restore: 1284.6279022693634\n",
            "  time_this_iter_s: 235.19822072982788\n",
            "  time_total_s: 2273.050852537155\n",
            "  timestamp: 1578942098\n",
            "  timesteps_since_restore: 0\n",
            "  training_iteration: 7\n",
            "  trial_id: 82dfcba6\n",
            "  \n"
          ],
          "name": "stdout"
        },
        {
          "output_type": "display_data",
          "data": {
            "text/html": [
              "== Status ==<br>Memory usage on this node: 1.5/12.7 GiB<br>Using HyperBand: num_stopped=0 total_brackets=1\n",
              "Round #0:\n",
              "  Bracket(Max Size (n)=9, Milestone (r)=9, completed=8.4%): {PAUSED: 3, RUNNING: 1} <br>Resources requested: 1/2 CPUs, 0/0 GPUs, 0.0/6.1 GiB heap, 0.0/2.1 GiB objects<br>Result logdir: /root/ray_results/XGBoost_trainable<br>Number of trials: 4 (3 PAUSED, 1 RUNNING)<br><table>\n",
              "<thead>\n",
              "<tr><th>Trial name                </th><th>status  </th><th>loc            </th><th>grow_policy  </th><th style=\"text-align: right;\">      eta</th><th style=\"text-align: right;\">   gamma</th><th style=\"text-align: right;\">  max_depth</th><th style=\"text-align: right;\">  iter</th><th style=\"text-align: right;\">  total time (s)</th><th style=\"text-align: right;\">  acc</th></tr>\n",
              "</thead>\n",
              "<tbody>\n",
              "<tr><td>XGBoost_trainable_82b61090</td><td>PAUSED  </td><td>               </td><td>lossguide    </td><td style=\"text-align: right;\">0.0105708</td><td style=\"text-align: right;\">0.406448</td><td style=\"text-align: right;\">          8</td><td style=\"text-align: right;\">     9</td><td style=\"text-align: right;\">         770.978</td><td style=\"text-align: right;\">  0.2</td></tr>\n",
              "<tr><td>XGBoost_trainable_82dfcba6</td><td>RUNNING </td><td>172.28.0.2:4522</td><td>lossguide    </td><td style=\"text-align: right;\">0.0556884</td><td style=\"text-align: right;\">0.529778</td><td style=\"text-align: right;\">          8</td><td style=\"text-align: right;\">     7</td><td style=\"text-align: right;\">        2273.05 </td><td style=\"text-align: right;\">  0.2</td></tr>\n",
              "<tr><td>XGBoost_trainable_83046f9c</td><td>PAUSED  </td><td>               </td><td>depthwise    </td><td style=\"text-align: right;\">0.0632253</td><td style=\"text-align: right;\">0.878173</td><td style=\"text-align: right;\">          4</td><td style=\"text-align: right;\">     9</td><td style=\"text-align: right;\">         494.127</td><td style=\"text-align: right;\">  0.2</td></tr>\n",
              "<tr><td>XGBoost_trainable_832a3402</td><td>PAUSED  </td><td>               </td><td>depthwise    </td><td style=\"text-align: right;\">0.0314498</td><td style=\"text-align: right;\">0.892913</td><td style=\"text-align: right;\">          1</td><td style=\"text-align: right;\">     9</td><td style=\"text-align: right;\">         419.066</td><td style=\"text-align: right;\">  0.2</td></tr>\n",
              "</tbody>\n",
              "</table><br><br>"
            ],
            "text/plain": [
              "<IPython.core.display.HTML object>"
            ]
          },
          "metadata": {
            "tags": []
          }
        },
        {
          "output_type": "stream",
          "text": [
            "Result for XGBoost_trainable_82dfcba6:\n",
            "  date: 2020-01-13_19-05-33\n",
            "  done: false\n",
            "  experiment_id: 16f69ef7f0924c0282aea2d931fb3408\n",
            "  experiment_tag: 2_eta=0.055688,gamma=0.52978,grow_policy=lossguide,max_depth=8\n",
            "  hostname: 9991d65102f3\n",
            "  iterations_since_restore: 5\n",
            "  mean_accuracy: 0.2\n",
            "  node_ip: 172.28.0.2\n",
            "  pid: 4522\n",
            "  time_since_restore: 1519.495546579361\n",
            "  time_this_iter_s: 234.86764430999756\n",
            "  time_total_s: 2507.9184968471527\n",
            "  timestamp: 1578942333\n",
            "  timesteps_since_restore: 0\n",
            "  training_iteration: 8\n",
            "  trial_id: 82dfcba6\n",
            "  \n"
          ],
          "name": "stdout"
        },
        {
          "output_type": "display_data",
          "data": {
            "text/html": [
              "== Status ==<br>Memory usage on this node: 1.5/12.7 GiB<br>Using HyperBand: num_stopped=0 total_brackets=1\n",
              "Round #0:\n",
              "  Bracket(Max Size (n)=9, Milestone (r)=9, completed=8.7%): {PAUSED: 3, RUNNING: 1} <br>Resources requested: 1/2 CPUs, 0/0 GPUs, 0.0/6.1 GiB heap, 0.0/2.1 GiB objects<br>Result logdir: /root/ray_results/XGBoost_trainable<br>Number of trials: 4 (3 PAUSED, 1 RUNNING)<br><table>\n",
              "<thead>\n",
              "<tr><th>Trial name                </th><th>status  </th><th>loc            </th><th>grow_policy  </th><th style=\"text-align: right;\">      eta</th><th style=\"text-align: right;\">   gamma</th><th style=\"text-align: right;\">  max_depth</th><th style=\"text-align: right;\">  iter</th><th style=\"text-align: right;\">  total time (s)</th><th style=\"text-align: right;\">  acc</th></tr>\n",
              "</thead>\n",
              "<tbody>\n",
              "<tr><td>XGBoost_trainable_82b61090</td><td>PAUSED  </td><td>               </td><td>lossguide    </td><td style=\"text-align: right;\">0.0105708</td><td style=\"text-align: right;\">0.406448</td><td style=\"text-align: right;\">          8</td><td style=\"text-align: right;\">     9</td><td style=\"text-align: right;\">         770.978</td><td style=\"text-align: right;\">  0.2</td></tr>\n",
              "<tr><td>XGBoost_trainable_82dfcba6</td><td>RUNNING </td><td>172.28.0.2:4522</td><td>lossguide    </td><td style=\"text-align: right;\">0.0556884</td><td style=\"text-align: right;\">0.529778</td><td style=\"text-align: right;\">          8</td><td style=\"text-align: right;\">     8</td><td style=\"text-align: right;\">        2507.92 </td><td style=\"text-align: right;\">  0.2</td></tr>\n",
              "<tr><td>XGBoost_trainable_83046f9c</td><td>PAUSED  </td><td>               </td><td>depthwise    </td><td style=\"text-align: right;\">0.0632253</td><td style=\"text-align: right;\">0.878173</td><td style=\"text-align: right;\">          4</td><td style=\"text-align: right;\">     9</td><td style=\"text-align: right;\">         494.127</td><td style=\"text-align: right;\">  0.2</td></tr>\n",
              "<tr><td>XGBoost_trainable_832a3402</td><td>PAUSED  </td><td>               </td><td>depthwise    </td><td style=\"text-align: right;\">0.0314498</td><td style=\"text-align: right;\">0.892913</td><td style=\"text-align: right;\">          1</td><td style=\"text-align: right;\">     9</td><td style=\"text-align: right;\">         419.066</td><td style=\"text-align: right;\">  0.2</td></tr>\n",
              "</tbody>\n",
              "</table><br><br>"
            ],
            "text/plain": [
              "<IPython.core.display.HTML object>"
            ]
          },
          "metadata": {
            "tags": []
          }
        },
        {
          "output_type": "stream",
          "text": [
            "Result for XGBoost_trainable_82dfcba6:\n",
            "  date: 2020-01-13_19-09-28\n",
            "  done: false\n",
            "  experiment_id: 16f69ef7f0924c0282aea2d931fb3408\n",
            "  experiment_tag: 2_eta=0.055688,gamma=0.52978,grow_policy=lossguide,max_depth=8\n",
            "  hostname: 9991d65102f3\n",
            "  iterations_since_restore: 6\n",
            "  mean_accuracy: 0.2\n",
            "  node_ip: 172.28.0.2\n",
            "  pid: 4522\n",
            "  time_since_restore: 1754.7351331710815\n",
            "  time_this_iter_s: 235.23958659172058\n",
            "  time_total_s: 2743.1580834388733\n",
            "  timestamp: 1578942568\n",
            "  timesteps_since_restore: 0\n",
            "  training_iteration: 9\n",
            "  trial_id: 82dfcba6\n",
            "  \n"
          ],
          "name": "stdout"
        },
        {
          "output_type": "display_data",
          "data": {
            "text/html": [
              "== Status ==<br>Memory usage on this node: 1.5/12.7 GiB<br>Using HyperBand: num_stopped=0 total_brackets=1\n",
              "Round #0:\n",
              "  Bracket(Max Size (n)=9, Milestone (r)=9, completed=8.9%): {PAUSED: 4} <br>Resources requested: 0/2 CPUs, 0/0 GPUs, 0.0/6.1 GiB heap, 0.0/2.1 GiB objects<br>Result logdir: /root/ray_results/XGBoost_trainable<br>Number of trials: 4 (4 PAUSED)<br><table>\n",
              "<thead>\n",
              "<tr><th>Trial name                </th><th>status  </th><th>loc  </th><th>grow_policy  </th><th style=\"text-align: right;\">      eta</th><th style=\"text-align: right;\">   gamma</th><th style=\"text-align: right;\">  max_depth</th><th style=\"text-align: right;\">  iter</th><th style=\"text-align: right;\">  total time (s)</th><th style=\"text-align: right;\">  acc</th></tr>\n",
              "</thead>\n",
              "<tbody>\n",
              "<tr><td>XGBoost_trainable_82b61090</td><td>PAUSED  </td><td>     </td><td>lossguide    </td><td style=\"text-align: right;\">0.0105708</td><td style=\"text-align: right;\">0.406448</td><td style=\"text-align: right;\">          8</td><td style=\"text-align: right;\">     9</td><td style=\"text-align: right;\">         770.978</td><td style=\"text-align: right;\">  0.2</td></tr>\n",
              "<tr><td>XGBoost_trainable_82dfcba6</td><td>PAUSED  </td><td>     </td><td>lossguide    </td><td style=\"text-align: right;\">0.0556884</td><td style=\"text-align: right;\">0.529778</td><td style=\"text-align: right;\">          8</td><td style=\"text-align: right;\">     9</td><td style=\"text-align: right;\">        2743.16 </td><td style=\"text-align: right;\">  0.2</td></tr>\n",
              "<tr><td>XGBoost_trainable_83046f9c</td><td>PAUSED  </td><td>     </td><td>depthwise    </td><td style=\"text-align: right;\">0.0632253</td><td style=\"text-align: right;\">0.878173</td><td style=\"text-align: right;\">          4</td><td style=\"text-align: right;\">     9</td><td style=\"text-align: right;\">         494.127</td><td style=\"text-align: right;\">  0.2</td></tr>\n",
              "<tr><td>XGBoost_trainable_832a3402</td><td>PAUSED  </td><td>     </td><td>depthwise    </td><td style=\"text-align: right;\">0.0314498</td><td style=\"text-align: right;\">0.892913</td><td style=\"text-align: right;\">          1</td><td style=\"text-align: right;\">     9</td><td style=\"text-align: right;\">         419.066</td><td style=\"text-align: right;\">  0.2</td></tr>\n",
              "</tbody>\n",
              "</table><br><br>"
            ],
            "text/plain": [
              "<IPython.core.display.HTML object>"
            ]
          },
          "metadata": {
            "tags": []
          }
        },
        {
          "output_type": "stream",
          "text": [
            "\u001b[2m\u001b[36m(pid=4300)\u001b[0m 2020-01-13 19:09:28,524\tINFO trainable.py:346 -- Restored from checkpoint: /root/ray_results/XGBoost_trainable/XGBoost_trainable_832a3402_2020-01-13_18-28-13k7cutwmt/tmpv1wjpuxnrestore_from_object/checkpoint_9/model.pth\n",
            "\u001b[2m\u001b[36m(pid=4300)\u001b[0m 2020-01-13 19:09:28,524\tINFO trainable.py:353 -- Current state after restoring: {'_iteration': 9, '_timesteps_total': None, '_time_total': 2743.1580834388733, '_episodes_total': None}\n"
          ],
          "name": "stdout"
        },
        {
          "output_type": "stream",
          "text": [
            "2020-01-13 19:09:28,815\tINFO ray_trial_executor.py:121 -- Trial XGBoost_trainable_83046f9c: Setting up new remote runner.\n",
            "2020-01-13 19:09:28,934\tWARNING worker.py:1054 -- Warning: The actor XGBoost_trainable has size 24243515 when pickled. It will be stored in Redis, which could cause memory issues. This may mean that its definition uses a large array or other object.\n",
            "2020-01-13 19:09:29,043\tWARNING util.py:140 -- The `start_trial` operation took 0.544398307800293 seconds to complete, which may be a performance bottleneck.\n"
          ],
          "name": "stderr"
        },
        {
          "output_type": "stream",
          "text": [
            "\u001b[2m\u001b[36m(pid=5107)\u001b[0m 2020-01-13 19:09:31,336\tINFO trainable.py:346 -- Restored from checkpoint: /root/ray_results/XGBoost_trainable/XGBoost_trainable_83046f9c_2020-01-13_18-28-1100lwspk7/tmpg859gba0restore_from_object/checkpoint_9/model.pth\n",
            "\u001b[2m\u001b[36m(pid=5107)\u001b[0m 2020-01-13 19:09:31,337\tINFO trainable.py:353 -- Current state after restoring: {'_iteration': 9, '_timesteps_total': None, '_time_total': 494.12702202796936, '_episodes_total': None}\n",
            "Result for XGBoost_trainable_82dfcba6:\n",
            "  date: 2020-01-13_19-10-14\n",
            "  done: false\n",
            "  experiment_id: 16f69ef7f0924c0282aea2d931fb3408\n",
            "  experiment_tag: 2_eta=0.055688,gamma=0.52978,grow_policy=lossguide,max_depth=8\n",
            "  hostname: 9991d65102f3\n",
            "  iterations_since_restore: 1\n",
            "  mean_accuracy: 0.2\n",
            "  node_ip: 172.28.0.2\n",
            "  pid: 4300\n",
            "  time_since_restore: 45.70053744316101\n",
            "  time_this_iter_s: 45.70053744316101\n",
            "  time_total_s: 2788.8586208820343\n",
            "  timestamp: 1578942614\n",
            "  timesteps_since_restore: 0\n",
            "  training_iteration: 10\n",
            "  trial_id: 82dfcba6\n",
            "  \n"
          ],
          "name": "stdout"
        },
        {
          "output_type": "display_data",
          "data": {
            "text/html": [
              "== Status ==<br>Memory usage on this node: 1.6/12.7 GiB<br>Using HyperBand: num_stopped=1 total_brackets=1\n",
              "Round #0:\n",
              "  Bracket(Max Size (n)=3, Milestone (r)=27, completed=9.2%): {PENDING: 1, RUNNING: 2, TERMINATED: 1} <br>Resources requested: 2/2 CPUs, 0/0 GPUs, 0.0/6.1 GiB heap, 0.0/2.1 GiB objects<br>Result logdir: /root/ray_results/XGBoost_trainable<br>Number of trials: 4 (1 TERMINATED, 2 RUNNING, 1 PENDING)<br><table>\n",
              "<thead>\n",
              "<tr><th>Trial name                </th><th>status    </th><th>loc            </th><th>grow_policy  </th><th style=\"text-align: right;\">      eta</th><th style=\"text-align: right;\">   gamma</th><th style=\"text-align: right;\">  max_depth</th><th style=\"text-align: right;\">  iter</th><th style=\"text-align: right;\">  total time (s)</th><th style=\"text-align: right;\">  acc</th></tr>\n",
              "</thead>\n",
              "<tbody>\n",
              "<tr><td>XGBoost_trainable_82b61090</td><td>TERMINATED</td><td>               </td><td>lossguide    </td><td style=\"text-align: right;\">0.0105708</td><td style=\"text-align: right;\">0.406448</td><td style=\"text-align: right;\">          8</td><td style=\"text-align: right;\">     9</td><td style=\"text-align: right;\">         770.978</td><td style=\"text-align: right;\">  0.2</td></tr>\n",
              "<tr><td>XGBoost_trainable_82dfcba6</td><td>RUNNING   </td><td>172.28.0.2:4300</td><td>lossguide    </td><td style=\"text-align: right;\">0.0556884</td><td style=\"text-align: right;\">0.529778</td><td style=\"text-align: right;\">          8</td><td style=\"text-align: right;\">    10</td><td style=\"text-align: right;\">        2788.86 </td><td style=\"text-align: right;\">  0.2</td></tr>\n",
              "<tr><td>XGBoost_trainable_83046f9c</td><td>RUNNING   </td><td>               </td><td>depthwise    </td><td style=\"text-align: right;\">0.0632253</td><td style=\"text-align: right;\">0.878173</td><td style=\"text-align: right;\">          4</td><td style=\"text-align: right;\">     9</td><td style=\"text-align: right;\">         494.127</td><td style=\"text-align: right;\">  0.2</td></tr>\n",
              "<tr><td>XGBoost_trainable_832a3402</td><td>PENDING   </td><td>               </td><td>depthwise    </td><td style=\"text-align: right;\">0.0314498</td><td style=\"text-align: right;\">0.892913</td><td style=\"text-align: right;\">          1</td><td style=\"text-align: right;\">     9</td><td style=\"text-align: right;\">         419.066</td><td style=\"text-align: right;\">  0.2</td></tr>\n",
              "</tbody>\n",
              "</table><br><br>"
            ],
            "text/plain": [
              "<IPython.core.display.HTML object>"
            ]
          },
          "metadata": {
            "tags": []
          }
        },
        {
          "output_type": "stream",
          "text": [
            "Result for XGBoost_trainable_82dfcba6:\n",
            "  date: 2020-01-13_19-11-00\n",
            "  done: false\n",
            "  experiment_id: 16f69ef7f0924c0282aea2d931fb3408\n",
            "  experiment_tag: 2_eta=0.055688,gamma=0.52978,grow_policy=lossguide,max_depth=8\n",
            "  hostname: 9991d65102f3\n",
            "  iterations_since_restore: 2\n",
            "  mean_accuracy: 0.2\n",
            "  node_ip: 172.28.0.2\n",
            "  pid: 4300\n",
            "  time_since_restore: 92.19286584854126\n",
            "  time_this_iter_s: 46.49232840538025\n",
            "  time_total_s: 2835.3509492874146\n",
            "  timestamp: 1578942660\n",
            "  timesteps_since_restore: 0\n",
            "  training_iteration: 11\n",
            "  trial_id: 82dfcba6\n",
            "  \n"
          ],
          "name": "stdout"
        },
        {
          "output_type": "display_data",
          "data": {
            "text/html": [
              "== Status ==<br>Memory usage on this node: 1.5/12.7 GiB<br>Using HyperBand: num_stopped=1 total_brackets=1\n",
              "Round #0:\n",
              "  Bracket(Max Size (n)=3, Milestone (r)=27, completed=9.4%): {PENDING: 1, RUNNING: 2, TERMINATED: 1} <br>Resources requested: 2/2 CPUs, 0/0 GPUs, 0.0/6.1 GiB heap, 0.0/2.1 GiB objects<br>Result logdir: /root/ray_results/XGBoost_trainable<br>Number of trials: 4 (1 TERMINATED, 2 RUNNING, 1 PENDING)<br><table>\n",
              "<thead>\n",
              "<tr><th>Trial name                </th><th>status    </th><th>loc            </th><th>grow_policy  </th><th style=\"text-align: right;\">      eta</th><th style=\"text-align: right;\">   gamma</th><th style=\"text-align: right;\">  max_depth</th><th style=\"text-align: right;\">  iter</th><th style=\"text-align: right;\">  total time (s)</th><th style=\"text-align: right;\">  acc</th></tr>\n",
              "</thead>\n",
              "<tbody>\n",
              "<tr><td>XGBoost_trainable_82b61090</td><td>TERMINATED</td><td>               </td><td>lossguide    </td><td style=\"text-align: right;\">0.0105708</td><td style=\"text-align: right;\">0.406448</td><td style=\"text-align: right;\">          8</td><td style=\"text-align: right;\">     9</td><td style=\"text-align: right;\">         770.978</td><td style=\"text-align: right;\">  0.2</td></tr>\n",
              "<tr><td>XGBoost_trainable_82dfcba6</td><td>RUNNING   </td><td>172.28.0.2:4300</td><td>lossguide    </td><td style=\"text-align: right;\">0.0556884</td><td style=\"text-align: right;\">0.529778</td><td style=\"text-align: right;\">          8</td><td style=\"text-align: right;\">    11</td><td style=\"text-align: right;\">        2835.35 </td><td style=\"text-align: right;\">  0.2</td></tr>\n",
              "<tr><td>XGBoost_trainable_83046f9c</td><td>RUNNING   </td><td>               </td><td>depthwise    </td><td style=\"text-align: right;\">0.0632253</td><td style=\"text-align: right;\">0.878173</td><td style=\"text-align: right;\">          4</td><td style=\"text-align: right;\">     9</td><td style=\"text-align: right;\">         494.127</td><td style=\"text-align: right;\">  0.2</td></tr>\n",
              "<tr><td>XGBoost_trainable_832a3402</td><td>PENDING   </td><td>               </td><td>depthwise    </td><td style=\"text-align: right;\">0.0314498</td><td style=\"text-align: right;\">0.892913</td><td style=\"text-align: right;\">          1</td><td style=\"text-align: right;\">     9</td><td style=\"text-align: right;\">         419.066</td><td style=\"text-align: right;\">  0.2</td></tr>\n",
              "</tbody>\n",
              "</table><br><br>"
            ],
            "text/plain": [
              "<IPython.core.display.HTML object>"
            ]
          },
          "metadata": {
            "tags": []
          }
        },
        {
          "output_type": "stream",
          "text": [
            "Result for XGBoost_trainable_82dfcba6:\n",
            "  date: 2020-01-13_19-11-46\n",
            "  done: false\n",
            "  experiment_id: 16f69ef7f0924c0282aea2d931fb3408\n",
            "  experiment_tag: 2_eta=0.055688,gamma=0.52978,grow_policy=lossguide,max_depth=8\n",
            "  hostname: 9991d65102f3\n",
            "  iterations_since_restore: 3\n",
            "  mean_accuracy: 0.2\n",
            "  node_ip: 172.28.0.2\n",
            "  pid: 4300\n",
            "  time_since_restore: 138.1418752670288\n",
            "  time_this_iter_s: 45.94900941848755\n",
            "  time_total_s: 2881.299958705902\n",
            "  timestamp: 1578942706\n",
            "  timesteps_since_restore: 0\n",
            "  training_iteration: 12\n",
            "  trial_id: 82dfcba6\n",
            "  \n"
          ],
          "name": "stdout"
        },
        {
          "output_type": "display_data",
          "data": {
            "text/html": [
              "== Status ==<br>Memory usage on this node: 1.5/12.7 GiB<br>Using HyperBand: num_stopped=1 total_brackets=1\n",
              "Round #0:\n",
              "  Bracket(Max Size (n)=3, Milestone (r)=27, completed=9.7%): {PENDING: 1, RUNNING: 2, TERMINATED: 1} <br>Resources requested: 2/2 CPUs, 0/0 GPUs, 0.0/6.1 GiB heap, 0.0/2.1 GiB objects<br>Result logdir: /root/ray_results/XGBoost_trainable<br>Number of trials: 4 (1 TERMINATED, 2 RUNNING, 1 PENDING)<br><table>\n",
              "<thead>\n",
              "<tr><th>Trial name                </th><th>status    </th><th>loc            </th><th>grow_policy  </th><th style=\"text-align: right;\">      eta</th><th style=\"text-align: right;\">   gamma</th><th style=\"text-align: right;\">  max_depth</th><th style=\"text-align: right;\">  iter</th><th style=\"text-align: right;\">  total time (s)</th><th style=\"text-align: right;\">  acc</th></tr>\n",
              "</thead>\n",
              "<tbody>\n",
              "<tr><td>XGBoost_trainable_82b61090</td><td>TERMINATED</td><td>               </td><td>lossguide    </td><td style=\"text-align: right;\">0.0105708</td><td style=\"text-align: right;\">0.406448</td><td style=\"text-align: right;\">          8</td><td style=\"text-align: right;\">     9</td><td style=\"text-align: right;\">         770.978</td><td style=\"text-align: right;\">  0.2</td></tr>\n",
              "<tr><td>XGBoost_trainable_82dfcba6</td><td>RUNNING   </td><td>172.28.0.2:4300</td><td>lossguide    </td><td style=\"text-align: right;\">0.0556884</td><td style=\"text-align: right;\">0.529778</td><td style=\"text-align: right;\">          8</td><td style=\"text-align: right;\">    12</td><td style=\"text-align: right;\">        2881.3  </td><td style=\"text-align: right;\">  0.2</td></tr>\n",
              "<tr><td>XGBoost_trainable_83046f9c</td><td>RUNNING   </td><td>               </td><td>depthwise    </td><td style=\"text-align: right;\">0.0632253</td><td style=\"text-align: right;\">0.878173</td><td style=\"text-align: right;\">          4</td><td style=\"text-align: right;\">     9</td><td style=\"text-align: right;\">         494.127</td><td style=\"text-align: right;\">  0.2</td></tr>\n",
              "<tr><td>XGBoost_trainable_832a3402</td><td>PENDING   </td><td>               </td><td>depthwise    </td><td style=\"text-align: right;\">0.0314498</td><td style=\"text-align: right;\">0.892913</td><td style=\"text-align: right;\">          1</td><td style=\"text-align: right;\">     9</td><td style=\"text-align: right;\">         419.066</td><td style=\"text-align: right;\">  0.2</td></tr>\n",
              "</tbody>\n",
              "</table><br><br>"
            ],
            "text/plain": [
              "<IPython.core.display.HTML object>"
            ]
          },
          "metadata": {
            "tags": []
          }
        },
        {
          "output_type": "stream",
          "text": [
            "Result for XGBoost_trainable_82dfcba6:\n",
            "  date: 2020-01-13_19-12-32\n",
            "  done: false\n",
            "  experiment_id: 16f69ef7f0924c0282aea2d931fb3408\n",
            "  experiment_tag: 2_eta=0.055688,gamma=0.52978,grow_policy=lossguide,max_depth=8\n",
            "  hostname: 9991d65102f3\n",
            "  iterations_since_restore: 4\n",
            "  mean_accuracy: 0.2\n",
            "  node_ip: 172.28.0.2\n",
            "  pid: 4300\n",
            "  time_since_restore: 183.88953280448914\n",
            "  time_this_iter_s: 45.74765753746033\n",
            "  time_total_s: 2927.0476162433624\n",
            "  timestamp: 1578942752\n",
            "  timesteps_since_restore: 0\n",
            "  training_iteration: 13\n",
            "  trial_id: 82dfcba6\n",
            "  \n"
          ],
          "name": "stdout"
        },
        {
          "output_type": "display_data",
          "data": {
            "text/html": [
              "== Status ==<br>Memory usage on this node: 1.5/12.7 GiB<br>Using HyperBand: num_stopped=1 total_brackets=1\n",
              "Round #0:\n",
              "  Bracket(Max Size (n)=3, Milestone (r)=27, completed=9.9%): {PENDING: 1, RUNNING: 2, TERMINATED: 1} <br>Resources requested: 2/2 CPUs, 0/0 GPUs, 0.0/6.1 GiB heap, 0.0/2.1 GiB objects<br>Result logdir: /root/ray_results/XGBoost_trainable<br>Number of trials: 4 (1 TERMINATED, 2 RUNNING, 1 PENDING)<br><table>\n",
              "<thead>\n",
              "<tr><th>Trial name                </th><th>status    </th><th>loc            </th><th>grow_policy  </th><th style=\"text-align: right;\">      eta</th><th style=\"text-align: right;\">   gamma</th><th style=\"text-align: right;\">  max_depth</th><th style=\"text-align: right;\">  iter</th><th style=\"text-align: right;\">  total time (s)</th><th style=\"text-align: right;\">  acc</th></tr>\n",
              "</thead>\n",
              "<tbody>\n",
              "<tr><td>XGBoost_trainable_82b61090</td><td>TERMINATED</td><td>               </td><td>lossguide    </td><td style=\"text-align: right;\">0.0105708</td><td style=\"text-align: right;\">0.406448</td><td style=\"text-align: right;\">          8</td><td style=\"text-align: right;\">     9</td><td style=\"text-align: right;\">         770.978</td><td style=\"text-align: right;\">  0.2</td></tr>\n",
              "<tr><td>XGBoost_trainable_82dfcba6</td><td>RUNNING   </td><td>172.28.0.2:4300</td><td>lossguide    </td><td style=\"text-align: right;\">0.0556884</td><td style=\"text-align: right;\">0.529778</td><td style=\"text-align: right;\">          8</td><td style=\"text-align: right;\">    13</td><td style=\"text-align: right;\">        2927.05 </td><td style=\"text-align: right;\">  0.2</td></tr>\n",
              "<tr><td>XGBoost_trainable_83046f9c</td><td>RUNNING   </td><td>               </td><td>depthwise    </td><td style=\"text-align: right;\">0.0632253</td><td style=\"text-align: right;\">0.878173</td><td style=\"text-align: right;\">          4</td><td style=\"text-align: right;\">     9</td><td style=\"text-align: right;\">         494.127</td><td style=\"text-align: right;\">  0.2</td></tr>\n",
              "<tr><td>XGBoost_trainable_832a3402</td><td>PENDING   </td><td>               </td><td>depthwise    </td><td style=\"text-align: right;\">0.0314498</td><td style=\"text-align: right;\">0.892913</td><td style=\"text-align: right;\">          1</td><td style=\"text-align: right;\">     9</td><td style=\"text-align: right;\">         419.066</td><td style=\"text-align: right;\">  0.2</td></tr>\n",
              "</tbody>\n",
              "</table><br><br>"
            ],
            "text/plain": [
              "<IPython.core.display.HTML object>"
            ]
          },
          "metadata": {
            "tags": []
          }
        },
        {
          "output_type": "stream",
          "text": [
            "Result for XGBoost_trainable_83046f9c:\n",
            "  date: 2020-01-13_19-12-33\n",
            "  done: false\n",
            "  experiment_id: 7dfe5681a9894a5d89e85b61aeafc259\n",
            "  experiment_tag: 3_eta=0.063225,gamma=0.87817,grow_policy=depthwise,max_depth=4\n",
            "  hostname: 9991d65102f3\n",
            "  iterations_since_restore: 1\n",
            "  mean_accuracy: 0.2\n",
            "  node_ip: 172.28.0.2\n",
            "  pid: 5107\n",
            "  time_since_restore: 182.06612586975098\n",
            "  time_this_iter_s: 182.06612586975098\n",
            "  time_total_s: 676.1931478977203\n",
            "  timestamp: 1578942753\n",
            "  timesteps_since_restore: 0\n",
            "  training_iteration: 10\n",
            "  trial_id: 83046f9c\n",
            "  \n",
            "Result for XGBoost_trainable_82dfcba6:\n",
            "  date: 2020-01-13_19-13-18\n",
            "  done: false\n",
            "  experiment_id: 16f69ef7f0924c0282aea2d931fb3408\n",
            "  experiment_tag: 2_eta=0.055688,gamma=0.52978,grow_policy=lossguide,max_depth=8\n",
            "  hostname: 9991d65102f3\n",
            "  iterations_since_restore: 5\n",
            "  mean_accuracy: 0.2\n",
            "  node_ip: 172.28.0.2\n",
            "  pid: 4300\n",
            "  time_since_restore: 230.34672594070435\n",
            "  time_this_iter_s: 46.45719313621521\n",
            "  time_total_s: 2973.5048093795776\n",
            "  timestamp: 1578942798\n",
            "  timesteps_since_restore: 0\n",
            "  training_iteration: 14\n",
            "  trial_id: 82dfcba6\n",
            "  \n"
          ],
          "name": "stdout"
        },
        {
          "output_type": "display_data",
          "data": {
            "text/html": [
              "== Status ==<br>Memory usage on this node: 1.6/12.7 GiB<br>Using HyperBand: num_stopped=1 total_brackets=1\n",
              "Round #0:\n",
              "  Bracket(Max Size (n)=3, Milestone (r)=27, completed=10.4%): {PENDING: 1, RUNNING: 2, TERMINATED: 1} <br>Resources requested: 2/2 CPUs, 0/0 GPUs, 0.0/6.1 GiB heap, 0.0/2.1 GiB objects<br>Result logdir: /root/ray_results/XGBoost_trainable<br>Number of trials: 4 (1 TERMINATED, 2 RUNNING, 1 PENDING)<br><table>\n",
              "<thead>\n",
              "<tr><th>Trial name                </th><th>status    </th><th>loc            </th><th>grow_policy  </th><th style=\"text-align: right;\">      eta</th><th style=\"text-align: right;\">   gamma</th><th style=\"text-align: right;\">  max_depth</th><th style=\"text-align: right;\">  iter</th><th style=\"text-align: right;\">  total time (s)</th><th style=\"text-align: right;\">  acc</th></tr>\n",
              "</thead>\n",
              "<tbody>\n",
              "<tr><td>XGBoost_trainable_82b61090</td><td>TERMINATED</td><td>               </td><td>lossguide    </td><td style=\"text-align: right;\">0.0105708</td><td style=\"text-align: right;\">0.406448</td><td style=\"text-align: right;\">          8</td><td style=\"text-align: right;\">     9</td><td style=\"text-align: right;\">         770.978</td><td style=\"text-align: right;\">  0.2</td></tr>\n",
              "<tr><td>XGBoost_trainable_82dfcba6</td><td>RUNNING   </td><td>172.28.0.2:4300</td><td>lossguide    </td><td style=\"text-align: right;\">0.0556884</td><td style=\"text-align: right;\">0.529778</td><td style=\"text-align: right;\">          8</td><td style=\"text-align: right;\">    14</td><td style=\"text-align: right;\">        2973.5  </td><td style=\"text-align: right;\">  0.2</td></tr>\n",
              "<tr><td>XGBoost_trainable_83046f9c</td><td>RUNNING   </td><td>172.28.0.2:5107</td><td>depthwise    </td><td style=\"text-align: right;\">0.0632253</td><td style=\"text-align: right;\">0.878173</td><td style=\"text-align: right;\">          4</td><td style=\"text-align: right;\">    10</td><td style=\"text-align: right;\">         676.193</td><td style=\"text-align: right;\">  0.2</td></tr>\n",
              "<tr><td>XGBoost_trainable_832a3402</td><td>PENDING   </td><td>               </td><td>depthwise    </td><td style=\"text-align: right;\">0.0314498</td><td style=\"text-align: right;\">0.892913</td><td style=\"text-align: right;\">          1</td><td style=\"text-align: right;\">     9</td><td style=\"text-align: right;\">         419.066</td><td style=\"text-align: right;\">  0.2</td></tr>\n",
              "</tbody>\n",
              "</table><br><br>"
            ],
            "text/plain": [
              "<IPython.core.display.HTML object>"
            ]
          },
          "metadata": {
            "tags": []
          }
        },
        {
          "output_type": "stream",
          "text": [
            "Result for XGBoost_trainable_82dfcba6:\n",
            "  date: 2020-01-13_19-14-04\n",
            "  done: false\n",
            "  experiment_id: 16f69ef7f0924c0282aea2d931fb3408\n",
            "  experiment_tag: 2_eta=0.055688,gamma=0.52978,grow_policy=lossguide,max_depth=8\n",
            "  hostname: 9991d65102f3\n",
            "  iterations_since_restore: 6\n",
            "  mean_accuracy: 0.2\n",
            "  node_ip: 172.28.0.2\n",
            "  pid: 4300\n",
            "  time_since_restore: 276.4008455276489\n",
            "  time_this_iter_s: 46.05411958694458\n",
            "  time_total_s: 3019.558928966522\n",
            "  timestamp: 1578942844\n",
            "  timesteps_since_restore: 0\n",
            "  training_iteration: 15\n",
            "  trial_id: 82dfcba6\n",
            "  \n"
          ],
          "name": "stdout"
        },
        {
          "output_type": "display_data",
          "data": {
            "text/html": [
              "== Status ==<br>Memory usage on this node: 1.6/12.7 GiB<br>Using HyperBand: num_stopped=1 total_brackets=1\n",
              "Round #0:\n",
              "  Bracket(Max Size (n)=3, Milestone (r)=27, completed=10.6%): {PENDING: 1, RUNNING: 2, TERMINATED: 1} <br>Resources requested: 2/2 CPUs, 0/0 GPUs, 0.0/6.1 GiB heap, 0.0/2.1 GiB objects<br>Result logdir: /root/ray_results/XGBoost_trainable<br>Number of trials: 4 (1 TERMINATED, 2 RUNNING, 1 PENDING)<br><table>\n",
              "<thead>\n",
              "<tr><th>Trial name                </th><th>status    </th><th>loc            </th><th>grow_policy  </th><th style=\"text-align: right;\">      eta</th><th style=\"text-align: right;\">   gamma</th><th style=\"text-align: right;\">  max_depth</th><th style=\"text-align: right;\">  iter</th><th style=\"text-align: right;\">  total time (s)</th><th style=\"text-align: right;\">  acc</th></tr>\n",
              "</thead>\n",
              "<tbody>\n",
              "<tr><td>XGBoost_trainable_82b61090</td><td>TERMINATED</td><td>               </td><td>lossguide    </td><td style=\"text-align: right;\">0.0105708</td><td style=\"text-align: right;\">0.406448</td><td style=\"text-align: right;\">          8</td><td style=\"text-align: right;\">     9</td><td style=\"text-align: right;\">         770.978</td><td style=\"text-align: right;\">  0.2</td></tr>\n",
              "<tr><td>XGBoost_trainable_82dfcba6</td><td>RUNNING   </td><td>172.28.0.2:4300</td><td>lossguide    </td><td style=\"text-align: right;\">0.0556884</td><td style=\"text-align: right;\">0.529778</td><td style=\"text-align: right;\">          8</td><td style=\"text-align: right;\">    15</td><td style=\"text-align: right;\">        3019.56 </td><td style=\"text-align: right;\">  0.2</td></tr>\n",
              "<tr><td>XGBoost_trainable_83046f9c</td><td>RUNNING   </td><td>172.28.0.2:5107</td><td>depthwise    </td><td style=\"text-align: right;\">0.0632253</td><td style=\"text-align: right;\">0.878173</td><td style=\"text-align: right;\">          4</td><td style=\"text-align: right;\">    10</td><td style=\"text-align: right;\">         676.193</td><td style=\"text-align: right;\">  0.2</td></tr>\n",
              "<tr><td>XGBoost_trainable_832a3402</td><td>PENDING   </td><td>               </td><td>depthwise    </td><td style=\"text-align: right;\">0.0314498</td><td style=\"text-align: right;\">0.892913</td><td style=\"text-align: right;\">          1</td><td style=\"text-align: right;\">     9</td><td style=\"text-align: right;\">         419.066</td><td style=\"text-align: right;\">  0.2</td></tr>\n",
              "</tbody>\n",
              "</table><br><br>"
            ],
            "text/plain": [
              "<IPython.core.display.HTML object>"
            ]
          },
          "metadata": {
            "tags": []
          }
        },
        {
          "output_type": "stream",
          "text": [
            "Result for XGBoost_trainable_82dfcba6:\n",
            "  date: 2020-01-13_19-14-50\n",
            "  done: false\n",
            "  experiment_id: 16f69ef7f0924c0282aea2d931fb3408\n",
            "  experiment_tag: 2_eta=0.055688,gamma=0.52978,grow_policy=lossguide,max_depth=8\n",
            "  hostname: 9991d65102f3\n",
            "  iterations_since_restore: 7\n",
            "  mean_accuracy: 0.2\n",
            "  node_ip: 172.28.0.2\n",
            "  pid: 4300\n",
            "  time_since_restore: 321.8380823135376\n",
            "  time_this_iter_s: 45.43723678588867\n",
            "  time_total_s: 3064.996165752411\n",
            "  timestamp: 1578942890\n",
            "  timesteps_since_restore: 0\n",
            "  training_iteration: 16\n",
            "  trial_id: 82dfcba6\n",
            "  \n"
          ],
          "name": "stdout"
        },
        {
          "output_type": "display_data",
          "data": {
            "text/html": [
              "== Status ==<br>Memory usage on this node: 1.6/12.7 GiB<br>Using HyperBand: num_stopped=1 total_brackets=1\n",
              "Round #0:\n",
              "  Bracket(Max Size (n)=3, Milestone (r)=27, completed=10.9%): {PENDING: 1, RUNNING: 2, TERMINATED: 1} <br>Resources requested: 2/2 CPUs, 0/0 GPUs, 0.0/6.1 GiB heap, 0.0/2.1 GiB objects<br>Result logdir: /root/ray_results/XGBoost_trainable<br>Number of trials: 4 (1 TERMINATED, 2 RUNNING, 1 PENDING)<br><table>\n",
              "<thead>\n",
              "<tr><th>Trial name                </th><th>status    </th><th>loc            </th><th>grow_policy  </th><th style=\"text-align: right;\">      eta</th><th style=\"text-align: right;\">   gamma</th><th style=\"text-align: right;\">  max_depth</th><th style=\"text-align: right;\">  iter</th><th style=\"text-align: right;\">  total time (s)</th><th style=\"text-align: right;\">  acc</th></tr>\n",
              "</thead>\n",
              "<tbody>\n",
              "<tr><td>XGBoost_trainable_82b61090</td><td>TERMINATED</td><td>               </td><td>lossguide    </td><td style=\"text-align: right;\">0.0105708</td><td style=\"text-align: right;\">0.406448</td><td style=\"text-align: right;\">          8</td><td style=\"text-align: right;\">     9</td><td style=\"text-align: right;\">         770.978</td><td style=\"text-align: right;\">  0.2</td></tr>\n",
              "<tr><td>XGBoost_trainable_82dfcba6</td><td>RUNNING   </td><td>172.28.0.2:4300</td><td>lossguide    </td><td style=\"text-align: right;\">0.0556884</td><td style=\"text-align: right;\">0.529778</td><td style=\"text-align: right;\">          8</td><td style=\"text-align: right;\">    16</td><td style=\"text-align: right;\">        3065    </td><td style=\"text-align: right;\">  0.2</td></tr>\n",
              "<tr><td>XGBoost_trainable_83046f9c</td><td>RUNNING   </td><td>172.28.0.2:5107</td><td>depthwise    </td><td style=\"text-align: right;\">0.0632253</td><td style=\"text-align: right;\">0.878173</td><td style=\"text-align: right;\">          4</td><td style=\"text-align: right;\">    10</td><td style=\"text-align: right;\">         676.193</td><td style=\"text-align: right;\">  0.2</td></tr>\n",
              "<tr><td>XGBoost_trainable_832a3402</td><td>PENDING   </td><td>               </td><td>depthwise    </td><td style=\"text-align: right;\">0.0314498</td><td style=\"text-align: right;\">0.892913</td><td style=\"text-align: right;\">          1</td><td style=\"text-align: right;\">     9</td><td style=\"text-align: right;\">         419.066</td><td style=\"text-align: right;\">  0.2</td></tr>\n",
              "</tbody>\n",
              "</table><br><br>"
            ],
            "text/plain": [
              "<IPython.core.display.HTML object>"
            ]
          },
          "metadata": {
            "tags": []
          }
        },
        {
          "output_type": "stream",
          "text": [
            "Result for XGBoost_trainable_82dfcba6:\n",
            "  date: 2020-01-13_19-15-35\n",
            "  done: false\n",
            "  experiment_id: 16f69ef7f0924c0282aea2d931fb3408\n",
            "  experiment_tag: 2_eta=0.055688,gamma=0.52978,grow_policy=lossguide,max_depth=8\n",
            "  hostname: 9991d65102f3\n",
            "  iterations_since_restore: 8\n",
            "  mean_accuracy: 0.2\n",
            "  node_ip: 172.28.0.2\n",
            "  pid: 4300\n",
            "  time_since_restore: 367.2323763370514\n",
            "  time_this_iter_s: 45.394294023513794\n",
            "  time_total_s: 3110.3904597759247\n",
            "  timestamp: 1578942935\n",
            "  timesteps_since_restore: 0\n",
            "  training_iteration: 17\n",
            "  trial_id: 82dfcba6\n",
            "  \n"
          ],
          "name": "stdout"
        },
        {
          "output_type": "display_data",
          "data": {
            "text/html": [
              "== Status ==<br>Memory usage on this node: 1.6/12.7 GiB<br>Using HyperBand: num_stopped=1 total_brackets=1\n",
              "Round #0:\n",
              "  Bracket(Max Size (n)=3, Milestone (r)=27, completed=11.1%): {PENDING: 1, RUNNING: 2, TERMINATED: 1} <br>Resources requested: 2/2 CPUs, 0/0 GPUs, 0.0/6.1 GiB heap, 0.0/2.1 GiB objects<br>Result logdir: /root/ray_results/XGBoost_trainable<br>Number of trials: 4 (1 TERMINATED, 2 RUNNING, 1 PENDING)<br><table>\n",
              "<thead>\n",
              "<tr><th>Trial name                </th><th>status    </th><th>loc            </th><th>grow_policy  </th><th style=\"text-align: right;\">      eta</th><th style=\"text-align: right;\">   gamma</th><th style=\"text-align: right;\">  max_depth</th><th style=\"text-align: right;\">  iter</th><th style=\"text-align: right;\">  total time (s)</th><th style=\"text-align: right;\">  acc</th></tr>\n",
              "</thead>\n",
              "<tbody>\n",
              "<tr><td>XGBoost_trainable_82b61090</td><td>TERMINATED</td><td>               </td><td>lossguide    </td><td style=\"text-align: right;\">0.0105708</td><td style=\"text-align: right;\">0.406448</td><td style=\"text-align: right;\">          8</td><td style=\"text-align: right;\">     9</td><td style=\"text-align: right;\">         770.978</td><td style=\"text-align: right;\">  0.2</td></tr>\n",
              "<tr><td>XGBoost_trainable_82dfcba6</td><td>RUNNING   </td><td>172.28.0.2:4300</td><td>lossguide    </td><td style=\"text-align: right;\">0.0556884</td><td style=\"text-align: right;\">0.529778</td><td style=\"text-align: right;\">          8</td><td style=\"text-align: right;\">    17</td><td style=\"text-align: right;\">        3110.39 </td><td style=\"text-align: right;\">  0.2</td></tr>\n",
              "<tr><td>XGBoost_trainable_83046f9c</td><td>RUNNING   </td><td>172.28.0.2:5107</td><td>depthwise    </td><td style=\"text-align: right;\">0.0632253</td><td style=\"text-align: right;\">0.878173</td><td style=\"text-align: right;\">          4</td><td style=\"text-align: right;\">    10</td><td style=\"text-align: right;\">         676.193</td><td style=\"text-align: right;\">  0.2</td></tr>\n",
              "<tr><td>XGBoost_trainable_832a3402</td><td>PENDING   </td><td>               </td><td>depthwise    </td><td style=\"text-align: right;\">0.0314498</td><td style=\"text-align: right;\">0.892913</td><td style=\"text-align: right;\">          1</td><td style=\"text-align: right;\">     9</td><td style=\"text-align: right;\">         419.066</td><td style=\"text-align: right;\">  0.2</td></tr>\n",
              "</tbody>\n",
              "</table><br><br>"
            ],
            "text/plain": [
              "<IPython.core.display.HTML object>"
            ]
          },
          "metadata": {
            "tags": []
          }
        },
        {
          "output_type": "stream",
          "text": [
            "Result for XGBoost_trainable_83046f9c:\n",
            "  date: 2020-01-13_19-15-39\n",
            "  done: false\n",
            "  experiment_id: 7dfe5681a9894a5d89e85b61aeafc259\n",
            "  experiment_tag: 3_eta=0.063225,gamma=0.87817,grow_policy=depthwise,max_depth=4\n",
            "  hostname: 9991d65102f3\n",
            "  iterations_since_restore: 2\n",
            "  mean_accuracy: 0.2\n",
            "  node_ip: 172.28.0.2\n",
            "  pid: 5107\n",
            "  time_since_restore: 367.92780685424805\n",
            "  time_this_iter_s: 185.86168098449707\n",
            "  time_total_s: 862.0548288822174\n",
            "  timestamp: 1578942939\n",
            "  timesteps_since_restore: 0\n",
            "  training_iteration: 11\n",
            "  trial_id: 83046f9c\n",
            "  \n",
            "Result for XGBoost_trainable_82dfcba6:\n",
            "  date: 2020-01-13_19-16-21\n",
            "  done: false\n",
            "  experiment_id: 16f69ef7f0924c0282aea2d931fb3408\n",
            "  experiment_tag: 2_eta=0.055688,gamma=0.52978,grow_policy=lossguide,max_depth=8\n",
            "  hostname: 9991d65102f3\n",
            "  iterations_since_restore: 9\n",
            "  mean_accuracy: 0.2\n",
            "  node_ip: 172.28.0.2\n",
            "  pid: 4300\n",
            "  time_since_restore: 413.0595271587372\n",
            "  time_this_iter_s: 45.82715082168579\n",
            "  time_total_s: 3156.2176105976105\n",
            "  timestamp: 1578942981\n",
            "  timesteps_since_restore: 0\n",
            "  training_iteration: 18\n",
            "  trial_id: 82dfcba6\n",
            "  \n"
          ],
          "name": "stdout"
        },
        {
          "output_type": "display_data",
          "data": {
            "text/html": [
              "== Status ==<br>Memory usage on this node: 1.5/12.7 GiB<br>Using HyperBand: num_stopped=1 total_brackets=1\n",
              "Round #0:\n",
              "  Bracket(Max Size (n)=3, Milestone (r)=27, completed=11.6%): {PENDING: 1, RUNNING: 2, TERMINATED: 1} <br>Resources requested: 2/2 CPUs, 0/0 GPUs, 0.0/6.1 GiB heap, 0.0/2.1 GiB objects<br>Result logdir: /root/ray_results/XGBoost_trainable<br>Number of trials: 4 (1 TERMINATED, 2 RUNNING, 1 PENDING)<br><table>\n",
              "<thead>\n",
              "<tr><th>Trial name                </th><th>status    </th><th>loc            </th><th>grow_policy  </th><th style=\"text-align: right;\">      eta</th><th style=\"text-align: right;\">   gamma</th><th style=\"text-align: right;\">  max_depth</th><th style=\"text-align: right;\">  iter</th><th style=\"text-align: right;\">  total time (s)</th><th style=\"text-align: right;\">  acc</th></tr>\n",
              "</thead>\n",
              "<tbody>\n",
              "<tr><td>XGBoost_trainable_82b61090</td><td>TERMINATED</td><td>               </td><td>lossguide    </td><td style=\"text-align: right;\">0.0105708</td><td style=\"text-align: right;\">0.406448</td><td style=\"text-align: right;\">          8</td><td style=\"text-align: right;\">     9</td><td style=\"text-align: right;\">         770.978</td><td style=\"text-align: right;\">  0.2</td></tr>\n",
              "<tr><td>XGBoost_trainable_82dfcba6</td><td>RUNNING   </td><td>172.28.0.2:4300</td><td>lossguide    </td><td style=\"text-align: right;\">0.0556884</td><td style=\"text-align: right;\">0.529778</td><td style=\"text-align: right;\">          8</td><td style=\"text-align: right;\">    18</td><td style=\"text-align: right;\">        3156.22 </td><td style=\"text-align: right;\">  0.2</td></tr>\n",
              "<tr><td>XGBoost_trainable_83046f9c</td><td>RUNNING   </td><td>172.28.0.2:5107</td><td>depthwise    </td><td style=\"text-align: right;\">0.0632253</td><td style=\"text-align: right;\">0.878173</td><td style=\"text-align: right;\">          4</td><td style=\"text-align: right;\">    11</td><td style=\"text-align: right;\">         862.055</td><td style=\"text-align: right;\">  0.2</td></tr>\n",
              "<tr><td>XGBoost_trainable_832a3402</td><td>PENDING   </td><td>               </td><td>depthwise    </td><td style=\"text-align: right;\">0.0314498</td><td style=\"text-align: right;\">0.892913</td><td style=\"text-align: right;\">          1</td><td style=\"text-align: right;\">     9</td><td style=\"text-align: right;\">         419.066</td><td style=\"text-align: right;\">  0.2</td></tr>\n",
              "</tbody>\n",
              "</table><br><br>"
            ],
            "text/plain": [
              "<IPython.core.display.HTML object>"
            ]
          },
          "metadata": {
            "tags": []
          }
        },
        {
          "output_type": "stream",
          "text": [
            "Result for XGBoost_trainable_82dfcba6:\n",
            "  date: 2020-01-13_19-17-07\n",
            "  done: false\n",
            "  experiment_id: 16f69ef7f0924c0282aea2d931fb3408\n",
            "  experiment_tag: 2_eta=0.055688,gamma=0.52978,grow_policy=lossguide,max_depth=8\n",
            "  hostname: 9991d65102f3\n",
            "  iterations_since_restore: 10\n",
            "  mean_accuracy: 0.2\n",
            "  node_ip: 172.28.0.2\n",
            "  pid: 4300\n",
            "  time_since_restore: 458.44840836524963\n",
            "  time_this_iter_s: 45.38888120651245\n",
            "  time_total_s: 3201.606491804123\n",
            "  timestamp: 1578943027\n",
            "  timesteps_since_restore: 0\n",
            "  training_iteration: 19\n",
            "  trial_id: 82dfcba6\n",
            "  \n"
          ],
          "name": "stdout"
        },
        {
          "output_type": "display_data",
          "data": {
            "text/html": [
              "== Status ==<br>Memory usage on this node: 1.5/12.7 GiB<br>Using HyperBand: num_stopped=1 total_brackets=1\n",
              "Round #0:\n",
              "  Bracket(Max Size (n)=3, Milestone (r)=27, completed=11.9%): {PENDING: 1, RUNNING: 2, TERMINATED: 1} <br>Resources requested: 2/2 CPUs, 0/0 GPUs, 0.0/6.1 GiB heap, 0.0/2.1 GiB objects<br>Result logdir: /root/ray_results/XGBoost_trainable<br>Number of trials: 4 (1 TERMINATED, 2 RUNNING, 1 PENDING)<br><table>\n",
              "<thead>\n",
              "<tr><th>Trial name                </th><th>status    </th><th>loc            </th><th>grow_policy  </th><th style=\"text-align: right;\">      eta</th><th style=\"text-align: right;\">   gamma</th><th style=\"text-align: right;\">  max_depth</th><th style=\"text-align: right;\">  iter</th><th style=\"text-align: right;\">  total time (s)</th><th style=\"text-align: right;\">  acc</th></tr>\n",
              "</thead>\n",
              "<tbody>\n",
              "<tr><td>XGBoost_trainable_82b61090</td><td>TERMINATED</td><td>               </td><td>lossguide    </td><td style=\"text-align: right;\">0.0105708</td><td style=\"text-align: right;\">0.406448</td><td style=\"text-align: right;\">          8</td><td style=\"text-align: right;\">     9</td><td style=\"text-align: right;\">         770.978</td><td style=\"text-align: right;\">  0.2</td></tr>\n",
              "<tr><td>XGBoost_trainable_82dfcba6</td><td>RUNNING   </td><td>172.28.0.2:4300</td><td>lossguide    </td><td style=\"text-align: right;\">0.0556884</td><td style=\"text-align: right;\">0.529778</td><td style=\"text-align: right;\">          8</td><td style=\"text-align: right;\">    19</td><td style=\"text-align: right;\">        3201.61 </td><td style=\"text-align: right;\">  0.2</td></tr>\n",
              "<tr><td>XGBoost_trainable_83046f9c</td><td>RUNNING   </td><td>172.28.0.2:5107</td><td>depthwise    </td><td style=\"text-align: right;\">0.0632253</td><td style=\"text-align: right;\">0.878173</td><td style=\"text-align: right;\">          4</td><td style=\"text-align: right;\">    11</td><td style=\"text-align: right;\">         862.055</td><td style=\"text-align: right;\">  0.2</td></tr>\n",
              "<tr><td>XGBoost_trainable_832a3402</td><td>PENDING   </td><td>               </td><td>depthwise    </td><td style=\"text-align: right;\">0.0314498</td><td style=\"text-align: right;\">0.892913</td><td style=\"text-align: right;\">          1</td><td style=\"text-align: right;\">     9</td><td style=\"text-align: right;\">         419.066</td><td style=\"text-align: right;\">  0.2</td></tr>\n",
              "</tbody>\n",
              "</table><br><br>"
            ],
            "text/plain": [
              "<IPython.core.display.HTML object>"
            ]
          },
          "metadata": {
            "tags": []
          }
        },
        {
          "output_type": "stream",
          "text": [
            "Result for XGBoost_trainable_82dfcba6:\n",
            "  date: 2020-01-13_19-17-52\n",
            "  done: false\n",
            "  experiment_id: 16f69ef7f0924c0282aea2d931fb3408\n",
            "  experiment_tag: 2_eta=0.055688,gamma=0.52978,grow_policy=lossguide,max_depth=8\n",
            "  hostname: 9991d65102f3\n",
            "  iterations_since_restore: 11\n",
            "  mean_accuracy: 0.2\n",
            "  node_ip: 172.28.0.2\n",
            "  pid: 4300\n",
            "  time_since_restore: 504.20030641555786\n",
            "  time_this_iter_s: 45.75189805030823\n",
            "  time_total_s: 3247.358389854431\n",
            "  timestamp: 1578943072\n",
            "  timesteps_since_restore: 0\n",
            "  training_iteration: 20\n",
            "  trial_id: 82dfcba6\n",
            "  \n"
          ],
          "name": "stdout"
        },
        {
          "output_type": "display_data",
          "data": {
            "text/html": [
              "== Status ==<br>Memory usage on this node: 1.5/12.7 GiB<br>Using HyperBand: num_stopped=1 total_brackets=1\n",
              "Round #0:\n",
              "  Bracket(Max Size (n)=3, Milestone (r)=27, completed=12.1%): {PENDING: 1, RUNNING: 2, TERMINATED: 1} <br>Resources requested: 2/2 CPUs, 0/0 GPUs, 0.0/6.1 GiB heap, 0.0/2.1 GiB objects<br>Result logdir: /root/ray_results/XGBoost_trainable<br>Number of trials: 4 (1 TERMINATED, 2 RUNNING, 1 PENDING)<br><table>\n",
              "<thead>\n",
              "<tr><th>Trial name                </th><th>status    </th><th>loc            </th><th>grow_policy  </th><th style=\"text-align: right;\">      eta</th><th style=\"text-align: right;\">   gamma</th><th style=\"text-align: right;\">  max_depth</th><th style=\"text-align: right;\">  iter</th><th style=\"text-align: right;\">  total time (s)</th><th style=\"text-align: right;\">  acc</th></tr>\n",
              "</thead>\n",
              "<tbody>\n",
              "<tr><td>XGBoost_trainable_82b61090</td><td>TERMINATED</td><td>               </td><td>lossguide    </td><td style=\"text-align: right;\">0.0105708</td><td style=\"text-align: right;\">0.406448</td><td style=\"text-align: right;\">          8</td><td style=\"text-align: right;\">     9</td><td style=\"text-align: right;\">         770.978</td><td style=\"text-align: right;\">  0.2</td></tr>\n",
              "<tr><td>XGBoost_trainable_82dfcba6</td><td>RUNNING   </td><td>172.28.0.2:4300</td><td>lossguide    </td><td style=\"text-align: right;\">0.0556884</td><td style=\"text-align: right;\">0.529778</td><td style=\"text-align: right;\">          8</td><td style=\"text-align: right;\">    20</td><td style=\"text-align: right;\">        3247.36 </td><td style=\"text-align: right;\">  0.2</td></tr>\n",
              "<tr><td>XGBoost_trainable_83046f9c</td><td>RUNNING   </td><td>172.28.0.2:5107</td><td>depthwise    </td><td style=\"text-align: right;\">0.0632253</td><td style=\"text-align: right;\">0.878173</td><td style=\"text-align: right;\">          4</td><td style=\"text-align: right;\">    11</td><td style=\"text-align: right;\">         862.055</td><td style=\"text-align: right;\">  0.2</td></tr>\n",
              "<tr><td>XGBoost_trainable_832a3402</td><td>PENDING   </td><td>               </td><td>depthwise    </td><td style=\"text-align: right;\">0.0314498</td><td style=\"text-align: right;\">0.892913</td><td style=\"text-align: right;\">          1</td><td style=\"text-align: right;\">     9</td><td style=\"text-align: right;\">         419.066</td><td style=\"text-align: right;\">  0.2</td></tr>\n",
              "</tbody>\n",
              "</table><br><br>"
            ],
            "text/plain": [
              "<IPython.core.display.HTML object>"
            ]
          },
          "metadata": {
            "tags": []
          }
        },
        {
          "output_type": "stream",
          "text": [
            "Result for XGBoost_trainable_82dfcba6:\n",
            "  date: 2020-01-13_19-18-37\n",
            "  done: false\n",
            "  experiment_id: 16f69ef7f0924c0282aea2d931fb3408\n",
            "  experiment_tag: 2_eta=0.055688,gamma=0.52978,grow_policy=lossguide,max_depth=8\n",
            "  hostname: 9991d65102f3\n",
            "  iterations_since_restore: 12\n",
            "  mean_accuracy: 0.2\n",
            "  node_ip: 172.28.0.2\n",
            "  pid: 4300\n",
            "  time_since_restore: 549.3485913276672\n",
            "  time_this_iter_s: 45.148284912109375\n",
            "  time_total_s: 3292.5066747665405\n",
            "  timestamp: 1578943117\n",
            "  timesteps_since_restore: 0\n",
            "  training_iteration: 21\n",
            "  trial_id: 82dfcba6\n",
            "  \n"
          ],
          "name": "stdout"
        },
        {
          "output_type": "display_data",
          "data": {
            "text/html": [
              "== Status ==<br>Memory usage on this node: 1.5/12.7 GiB<br>Using HyperBand: num_stopped=1 total_brackets=1\n",
              "Round #0:\n",
              "  Bracket(Max Size (n)=3, Milestone (r)=27, completed=12.4%): {PENDING: 1, RUNNING: 2, TERMINATED: 1} <br>Resources requested: 2/2 CPUs, 0/0 GPUs, 0.0/6.1 GiB heap, 0.0/2.1 GiB objects<br>Result logdir: /root/ray_results/XGBoost_trainable<br>Number of trials: 4 (1 TERMINATED, 2 RUNNING, 1 PENDING)<br><table>\n",
              "<thead>\n",
              "<tr><th>Trial name                </th><th>status    </th><th>loc            </th><th>grow_policy  </th><th style=\"text-align: right;\">      eta</th><th style=\"text-align: right;\">   gamma</th><th style=\"text-align: right;\">  max_depth</th><th style=\"text-align: right;\">  iter</th><th style=\"text-align: right;\">  total time (s)</th><th style=\"text-align: right;\">  acc</th></tr>\n",
              "</thead>\n",
              "<tbody>\n",
              "<tr><td>XGBoost_trainable_82b61090</td><td>TERMINATED</td><td>               </td><td>lossguide    </td><td style=\"text-align: right;\">0.0105708</td><td style=\"text-align: right;\">0.406448</td><td style=\"text-align: right;\">          8</td><td style=\"text-align: right;\">     9</td><td style=\"text-align: right;\">         770.978</td><td style=\"text-align: right;\">  0.2</td></tr>\n",
              "<tr><td>XGBoost_trainable_82dfcba6</td><td>RUNNING   </td><td>172.28.0.2:4300</td><td>lossguide    </td><td style=\"text-align: right;\">0.0556884</td><td style=\"text-align: right;\">0.529778</td><td style=\"text-align: right;\">          8</td><td style=\"text-align: right;\">    21</td><td style=\"text-align: right;\">        3292.51 </td><td style=\"text-align: right;\">  0.2</td></tr>\n",
              "<tr><td>XGBoost_trainable_83046f9c</td><td>RUNNING   </td><td>172.28.0.2:5107</td><td>depthwise    </td><td style=\"text-align: right;\">0.0632253</td><td style=\"text-align: right;\">0.878173</td><td style=\"text-align: right;\">          4</td><td style=\"text-align: right;\">    11</td><td style=\"text-align: right;\">         862.055</td><td style=\"text-align: right;\">  0.2</td></tr>\n",
              "<tr><td>XGBoost_trainable_832a3402</td><td>PENDING   </td><td>               </td><td>depthwise    </td><td style=\"text-align: right;\">0.0314498</td><td style=\"text-align: right;\">0.892913</td><td style=\"text-align: right;\">          1</td><td style=\"text-align: right;\">     9</td><td style=\"text-align: right;\">         419.066</td><td style=\"text-align: right;\">  0.2</td></tr>\n",
              "</tbody>\n",
              "</table><br><br>"
            ],
            "text/plain": [
              "<IPython.core.display.HTML object>"
            ]
          },
          "metadata": {
            "tags": []
          }
        },
        {
          "output_type": "stream",
          "text": [
            "Result for XGBoost_trainable_83046f9c:\n",
            "  date: 2020-01-13_19-18-43\n",
            "  done: false\n",
            "  experiment_id: 7dfe5681a9894a5d89e85b61aeafc259\n",
            "  experiment_tag: 3_eta=0.063225,gamma=0.87817,grow_policy=depthwise,max_depth=4\n",
            "  hostname: 9991d65102f3\n",
            "  iterations_since_restore: 3\n",
            "  mean_accuracy: 0.2\n",
            "  node_ip: 172.28.0.2\n",
            "  pid: 5107\n",
            "  time_since_restore: 552.1002433300018\n",
            "  time_this_iter_s: 184.17243647575378\n",
            "  time_total_s: 1046.2272653579712\n",
            "  timestamp: 1578943123\n",
            "  timesteps_since_restore: 0\n",
            "  training_iteration: 12\n",
            "  trial_id: 83046f9c\n",
            "  \n"
          ],
          "name": "stdout"
        },
        {
          "output_type": "display_data",
          "data": {
            "text/html": [
              "== Status ==<br>Memory usage on this node: 1.5/12.7 GiB<br>Using HyperBand: num_stopped=1 total_brackets=1\n",
              "Round #0:\n",
              "  Bracket(Max Size (n)=3, Milestone (r)=27, completed=12.6%): {PENDING: 1, RUNNING: 2, TERMINATED: 1} <br>Resources requested: 2/2 CPUs, 0/0 GPUs, 0.0/6.1 GiB heap, 0.0/2.1 GiB objects<br>Result logdir: /root/ray_results/XGBoost_trainable<br>Number of trials: 4 (1 TERMINATED, 2 RUNNING, 1 PENDING)<br><table>\n",
              "<thead>\n",
              "<tr><th>Trial name                </th><th>status    </th><th>loc            </th><th>grow_policy  </th><th style=\"text-align: right;\">      eta</th><th style=\"text-align: right;\">   gamma</th><th style=\"text-align: right;\">  max_depth</th><th style=\"text-align: right;\">  iter</th><th style=\"text-align: right;\">  total time (s)</th><th style=\"text-align: right;\">  acc</th></tr>\n",
              "</thead>\n",
              "<tbody>\n",
              "<tr><td>XGBoost_trainable_82b61090</td><td>TERMINATED</td><td>               </td><td>lossguide    </td><td style=\"text-align: right;\">0.0105708</td><td style=\"text-align: right;\">0.406448</td><td style=\"text-align: right;\">          8</td><td style=\"text-align: right;\">     9</td><td style=\"text-align: right;\">         770.978</td><td style=\"text-align: right;\">  0.2</td></tr>\n",
              "<tr><td>XGBoost_trainable_82dfcba6</td><td>RUNNING   </td><td>172.28.0.2:4300</td><td>lossguide    </td><td style=\"text-align: right;\">0.0556884</td><td style=\"text-align: right;\">0.529778</td><td style=\"text-align: right;\">          8</td><td style=\"text-align: right;\">    21</td><td style=\"text-align: right;\">        3292.51 </td><td style=\"text-align: right;\">  0.2</td></tr>\n",
              "<tr><td>XGBoost_trainable_83046f9c</td><td>RUNNING   </td><td>172.28.0.2:5107</td><td>depthwise    </td><td style=\"text-align: right;\">0.0632253</td><td style=\"text-align: right;\">0.878173</td><td style=\"text-align: right;\">          4</td><td style=\"text-align: right;\">    12</td><td style=\"text-align: right;\">        1046.23 </td><td style=\"text-align: right;\">  0.2</td></tr>\n",
              "<tr><td>XGBoost_trainable_832a3402</td><td>PENDING   </td><td>               </td><td>depthwise    </td><td style=\"text-align: right;\">0.0314498</td><td style=\"text-align: right;\">0.892913</td><td style=\"text-align: right;\">          1</td><td style=\"text-align: right;\">     9</td><td style=\"text-align: right;\">         419.066</td><td style=\"text-align: right;\">  0.2</td></tr>\n",
              "</tbody>\n",
              "</table><br><br>"
            ],
            "text/plain": [
              "<IPython.core.display.HTML object>"
            ]
          },
          "metadata": {
            "tags": []
          }
        },
        {
          "output_type": "stream",
          "text": [
            "Result for XGBoost_trainable_82dfcba6:\n",
            "  date: 2020-01-13_19-19-23\n",
            "  done: false\n",
            "  experiment_id: 16f69ef7f0924c0282aea2d931fb3408\n",
            "  experiment_tag: 2_eta=0.055688,gamma=0.52978,grow_policy=lossguide,max_depth=8\n",
            "  hostname: 9991d65102f3\n",
            "  iterations_since_restore: 13\n",
            "  mean_accuracy: 0.2\n",
            "  node_ip: 172.28.0.2\n",
            "  pid: 4300\n",
            "  time_since_restore: 595.0489158630371\n",
            "  time_this_iter_s: 45.70032453536987\n",
            "  time_total_s: 3338.2069993019104\n",
            "  timestamp: 1578943163\n",
            "  timesteps_since_restore: 0\n",
            "  training_iteration: 22\n",
            "  trial_id: 82dfcba6\n",
            "  \n"
          ],
          "name": "stdout"
        },
        {
          "output_type": "display_data",
          "data": {
            "text/html": [
              "== Status ==<br>Memory usage on this node: 1.5/12.7 GiB<br>Using HyperBand: num_stopped=1 total_brackets=1\n",
              "Round #0:\n",
              "  Bracket(Max Size (n)=3, Milestone (r)=27, completed=12.9%): {PENDING: 1, RUNNING: 2, TERMINATED: 1} <br>Resources requested: 2/2 CPUs, 0/0 GPUs, 0.0/6.1 GiB heap, 0.0/2.1 GiB objects<br>Result logdir: /root/ray_results/XGBoost_trainable<br>Number of trials: 4 (1 TERMINATED, 2 RUNNING, 1 PENDING)<br><table>\n",
              "<thead>\n",
              "<tr><th>Trial name                </th><th>status    </th><th>loc            </th><th>grow_policy  </th><th style=\"text-align: right;\">      eta</th><th style=\"text-align: right;\">   gamma</th><th style=\"text-align: right;\">  max_depth</th><th style=\"text-align: right;\">  iter</th><th style=\"text-align: right;\">  total time (s)</th><th style=\"text-align: right;\">  acc</th></tr>\n",
              "</thead>\n",
              "<tbody>\n",
              "<tr><td>XGBoost_trainable_82b61090</td><td>TERMINATED</td><td>               </td><td>lossguide    </td><td style=\"text-align: right;\">0.0105708</td><td style=\"text-align: right;\">0.406448</td><td style=\"text-align: right;\">          8</td><td style=\"text-align: right;\">     9</td><td style=\"text-align: right;\">         770.978</td><td style=\"text-align: right;\">  0.2</td></tr>\n",
              "<tr><td>XGBoost_trainable_82dfcba6</td><td>RUNNING   </td><td>172.28.0.2:4300</td><td>lossguide    </td><td style=\"text-align: right;\">0.0556884</td><td style=\"text-align: right;\">0.529778</td><td style=\"text-align: right;\">          8</td><td style=\"text-align: right;\">    22</td><td style=\"text-align: right;\">        3338.21 </td><td style=\"text-align: right;\">  0.2</td></tr>\n",
              "<tr><td>XGBoost_trainable_83046f9c</td><td>RUNNING   </td><td>172.28.0.2:5107</td><td>depthwise    </td><td style=\"text-align: right;\">0.0632253</td><td style=\"text-align: right;\">0.878173</td><td style=\"text-align: right;\">          4</td><td style=\"text-align: right;\">    12</td><td style=\"text-align: right;\">        1046.23 </td><td style=\"text-align: right;\">  0.2</td></tr>\n",
              "<tr><td>XGBoost_trainable_832a3402</td><td>PENDING   </td><td>               </td><td>depthwise    </td><td style=\"text-align: right;\">0.0314498</td><td style=\"text-align: right;\">0.892913</td><td style=\"text-align: right;\">          1</td><td style=\"text-align: right;\">     9</td><td style=\"text-align: right;\">         419.066</td><td style=\"text-align: right;\">  0.2</td></tr>\n",
              "</tbody>\n",
              "</table><br><br>"
            ],
            "text/plain": [
              "<IPython.core.display.HTML object>"
            ]
          },
          "metadata": {
            "tags": []
          }
        },
        {
          "output_type": "stream",
          "text": [
            "Result for XGBoost_trainable_82dfcba6:\n",
            "  date: 2020-01-13_19-20-10\n",
            "  done: false\n",
            "  experiment_id: 16f69ef7f0924c0282aea2d931fb3408\n",
            "  experiment_tag: 2_eta=0.055688,gamma=0.52978,grow_policy=lossguide,max_depth=8\n",
            "  hostname: 9991d65102f3\n",
            "  iterations_since_restore: 14\n",
            "  mean_accuracy: 0.2\n",
            "  node_ip: 172.28.0.2\n",
            "  pid: 4300\n",
            "  time_since_restore: 641.3490681648254\n",
            "  time_this_iter_s: 46.30015230178833\n",
            "  time_total_s: 3384.5071516036987\n",
            "  timestamp: 1578943210\n",
            "  timesteps_since_restore: 0\n",
            "  training_iteration: 23\n",
            "  trial_id: 82dfcba6\n",
            "  \n"
          ],
          "name": "stdout"
        },
        {
          "output_type": "display_data",
          "data": {
            "text/html": [
              "== Status ==<br>Memory usage on this node: 1.5/12.7 GiB<br>Using HyperBand: num_stopped=1 total_brackets=1\n",
              "Round #0:\n",
              "  Bracket(Max Size (n)=3, Milestone (r)=27, completed=13.1%): {PENDING: 1, RUNNING: 2, TERMINATED: 1} <br>Resources requested: 2/2 CPUs, 0/0 GPUs, 0.0/6.1 GiB heap, 0.0/2.1 GiB objects<br>Result logdir: /root/ray_results/XGBoost_trainable<br>Number of trials: 4 (1 TERMINATED, 2 RUNNING, 1 PENDING)<br><table>\n",
              "<thead>\n",
              "<tr><th>Trial name                </th><th>status    </th><th>loc            </th><th>grow_policy  </th><th style=\"text-align: right;\">      eta</th><th style=\"text-align: right;\">   gamma</th><th style=\"text-align: right;\">  max_depth</th><th style=\"text-align: right;\">  iter</th><th style=\"text-align: right;\">  total time (s)</th><th style=\"text-align: right;\">  acc</th></tr>\n",
              "</thead>\n",
              "<tbody>\n",
              "<tr><td>XGBoost_trainable_82b61090</td><td>TERMINATED</td><td>               </td><td>lossguide    </td><td style=\"text-align: right;\">0.0105708</td><td style=\"text-align: right;\">0.406448</td><td style=\"text-align: right;\">          8</td><td style=\"text-align: right;\">     9</td><td style=\"text-align: right;\">         770.978</td><td style=\"text-align: right;\">  0.2</td></tr>\n",
              "<tr><td>XGBoost_trainable_82dfcba6</td><td>RUNNING   </td><td>172.28.0.2:4300</td><td>lossguide    </td><td style=\"text-align: right;\">0.0556884</td><td style=\"text-align: right;\">0.529778</td><td style=\"text-align: right;\">          8</td><td style=\"text-align: right;\">    23</td><td style=\"text-align: right;\">        3384.51 </td><td style=\"text-align: right;\">  0.2</td></tr>\n",
              "<tr><td>XGBoost_trainable_83046f9c</td><td>RUNNING   </td><td>172.28.0.2:5107</td><td>depthwise    </td><td style=\"text-align: right;\">0.0632253</td><td style=\"text-align: right;\">0.878173</td><td style=\"text-align: right;\">          4</td><td style=\"text-align: right;\">    12</td><td style=\"text-align: right;\">        1046.23 </td><td style=\"text-align: right;\">  0.2</td></tr>\n",
              "<tr><td>XGBoost_trainable_832a3402</td><td>PENDING   </td><td>               </td><td>depthwise    </td><td style=\"text-align: right;\">0.0314498</td><td style=\"text-align: right;\">0.892913</td><td style=\"text-align: right;\">          1</td><td style=\"text-align: right;\">     9</td><td style=\"text-align: right;\">         419.066</td><td style=\"text-align: right;\">  0.2</td></tr>\n",
              "</tbody>\n",
              "</table><br><br>"
            ],
            "text/plain": [
              "<IPython.core.display.HTML object>"
            ]
          },
          "metadata": {
            "tags": []
          }
        },
        {
          "output_type": "stream",
          "text": [
            "Result for XGBoost_trainable_82dfcba6:\n",
            "  date: 2020-01-13_19-20-57\n",
            "  done: false\n",
            "  experiment_id: 16f69ef7f0924c0282aea2d931fb3408\n",
            "  experiment_tag: 2_eta=0.055688,gamma=0.52978,grow_policy=lossguide,max_depth=8\n",
            "  hostname: 9991d65102f3\n",
            "  iterations_since_restore: 15\n",
            "  mean_accuracy: 0.2\n",
            "  node_ip: 172.28.0.2\n",
            "  pid: 4300\n",
            "  time_since_restore: 688.5431270599365\n",
            "  time_this_iter_s: 47.194058895111084\n",
            "  time_total_s: 3431.70121049881\n",
            "  timestamp: 1578943257\n",
            "  timesteps_since_restore: 0\n",
            "  training_iteration: 24\n",
            "  trial_id: 82dfcba6\n",
            "  \n"
          ],
          "name": "stdout"
        },
        {
          "output_type": "display_data",
          "data": {
            "text/html": [
              "== Status ==<br>Memory usage on this node: 1.5/12.7 GiB<br>Using HyperBand: num_stopped=1 total_brackets=1\n",
              "Round #0:\n",
              "  Bracket(Max Size (n)=3, Milestone (r)=27, completed=13.4%): {PENDING: 1, RUNNING: 2, TERMINATED: 1} <br>Resources requested: 2/2 CPUs, 0/0 GPUs, 0.0/6.1 GiB heap, 0.0/2.1 GiB objects<br>Result logdir: /root/ray_results/XGBoost_trainable<br>Number of trials: 4 (1 TERMINATED, 2 RUNNING, 1 PENDING)<br><table>\n",
              "<thead>\n",
              "<tr><th>Trial name                </th><th>status    </th><th>loc            </th><th>grow_policy  </th><th style=\"text-align: right;\">      eta</th><th style=\"text-align: right;\">   gamma</th><th style=\"text-align: right;\">  max_depth</th><th style=\"text-align: right;\">  iter</th><th style=\"text-align: right;\">  total time (s)</th><th style=\"text-align: right;\">  acc</th></tr>\n",
              "</thead>\n",
              "<tbody>\n",
              "<tr><td>XGBoost_trainable_82b61090</td><td>TERMINATED</td><td>               </td><td>lossguide    </td><td style=\"text-align: right;\">0.0105708</td><td style=\"text-align: right;\">0.406448</td><td style=\"text-align: right;\">          8</td><td style=\"text-align: right;\">     9</td><td style=\"text-align: right;\">         770.978</td><td style=\"text-align: right;\">  0.2</td></tr>\n",
              "<tr><td>XGBoost_trainable_82dfcba6</td><td>RUNNING   </td><td>172.28.0.2:4300</td><td>lossguide    </td><td style=\"text-align: right;\">0.0556884</td><td style=\"text-align: right;\">0.529778</td><td style=\"text-align: right;\">          8</td><td style=\"text-align: right;\">    24</td><td style=\"text-align: right;\">        3431.7  </td><td style=\"text-align: right;\">  0.2</td></tr>\n",
              "<tr><td>XGBoost_trainable_83046f9c</td><td>RUNNING   </td><td>172.28.0.2:5107</td><td>depthwise    </td><td style=\"text-align: right;\">0.0632253</td><td style=\"text-align: right;\">0.878173</td><td style=\"text-align: right;\">          4</td><td style=\"text-align: right;\">    12</td><td style=\"text-align: right;\">        1046.23 </td><td style=\"text-align: right;\">  0.2</td></tr>\n",
              "<tr><td>XGBoost_trainable_832a3402</td><td>PENDING   </td><td>               </td><td>depthwise    </td><td style=\"text-align: right;\">0.0314498</td><td style=\"text-align: right;\">0.892913</td><td style=\"text-align: right;\">          1</td><td style=\"text-align: right;\">     9</td><td style=\"text-align: right;\">         419.066</td><td style=\"text-align: right;\">  0.2</td></tr>\n",
              "</tbody>\n",
              "</table><br><br>"
            ],
            "text/plain": [
              "<IPython.core.display.HTML object>"
            ]
          },
          "metadata": {
            "tags": []
          }
        },
        {
          "output_type": "stream",
          "text": [
            "Result for XGBoost_trainable_82dfcba6:\n",
            "  date: 2020-01-13_19-21-43\n",
            "  done: false\n",
            "  experiment_id: 16f69ef7f0924c0282aea2d931fb3408\n",
            "  experiment_tag: 2_eta=0.055688,gamma=0.52978,grow_policy=lossguide,max_depth=8\n",
            "  hostname: 9991d65102f3\n",
            "  iterations_since_restore: 16\n",
            "  mean_accuracy: 0.2\n",
            "  node_ip: 172.28.0.2\n",
            "  pid: 4300\n",
            "  time_since_restore: 734.5461473464966\n",
            "  time_this_iter_s: 46.00302028656006\n",
            "  time_total_s: 3477.70423078537\n",
            "  timestamp: 1578943303\n",
            "  timesteps_since_restore: 0\n",
            "  training_iteration: 25\n",
            "  trial_id: 82dfcba6\n",
            "  \n"
          ],
          "name": "stdout"
        },
        {
          "output_type": "display_data",
          "data": {
            "text/html": [
              "== Status ==<br>Memory usage on this node: 1.5/12.7 GiB<br>Using HyperBand: num_stopped=1 total_brackets=1\n",
              "Round #0:\n",
              "  Bracket(Max Size (n)=3, Milestone (r)=27, completed=13.6%): {PENDING: 1, RUNNING: 2, TERMINATED: 1} <br>Resources requested: 2/2 CPUs, 0/0 GPUs, 0.0/6.1 GiB heap, 0.0/2.1 GiB objects<br>Result logdir: /root/ray_results/XGBoost_trainable<br>Number of trials: 4 (1 TERMINATED, 2 RUNNING, 1 PENDING)<br><table>\n",
              "<thead>\n",
              "<tr><th>Trial name                </th><th>status    </th><th>loc            </th><th>grow_policy  </th><th style=\"text-align: right;\">      eta</th><th style=\"text-align: right;\">   gamma</th><th style=\"text-align: right;\">  max_depth</th><th style=\"text-align: right;\">  iter</th><th style=\"text-align: right;\">  total time (s)</th><th style=\"text-align: right;\">  acc</th></tr>\n",
              "</thead>\n",
              "<tbody>\n",
              "<tr><td>XGBoost_trainable_82b61090</td><td>TERMINATED</td><td>               </td><td>lossguide    </td><td style=\"text-align: right;\">0.0105708</td><td style=\"text-align: right;\">0.406448</td><td style=\"text-align: right;\">          8</td><td style=\"text-align: right;\">     9</td><td style=\"text-align: right;\">         770.978</td><td style=\"text-align: right;\">  0.2</td></tr>\n",
              "<tr><td>XGBoost_trainable_82dfcba6</td><td>RUNNING   </td><td>172.28.0.2:4300</td><td>lossguide    </td><td style=\"text-align: right;\">0.0556884</td><td style=\"text-align: right;\">0.529778</td><td style=\"text-align: right;\">          8</td><td style=\"text-align: right;\">    25</td><td style=\"text-align: right;\">        3477.7  </td><td style=\"text-align: right;\">  0.2</td></tr>\n",
              "<tr><td>XGBoost_trainable_83046f9c</td><td>RUNNING   </td><td>172.28.0.2:5107</td><td>depthwise    </td><td style=\"text-align: right;\">0.0632253</td><td style=\"text-align: right;\">0.878173</td><td style=\"text-align: right;\">          4</td><td style=\"text-align: right;\">    12</td><td style=\"text-align: right;\">        1046.23 </td><td style=\"text-align: right;\">  0.2</td></tr>\n",
              "<tr><td>XGBoost_trainable_832a3402</td><td>PENDING   </td><td>               </td><td>depthwise    </td><td style=\"text-align: right;\">0.0314498</td><td style=\"text-align: right;\">0.892913</td><td style=\"text-align: right;\">          1</td><td style=\"text-align: right;\">     9</td><td style=\"text-align: right;\">         419.066</td><td style=\"text-align: right;\">  0.2</td></tr>\n",
              "</tbody>\n",
              "</table><br><br>"
            ],
            "text/plain": [
              "<IPython.core.display.HTML object>"
            ]
          },
          "metadata": {
            "tags": []
          }
        },
        {
          "output_type": "stream",
          "text": [
            "Result for XGBoost_trainable_83046f9c:\n",
            "  date: 2020-01-13_19-21-45\n",
            "  done: false\n",
            "  experiment_id: 7dfe5681a9894a5d89e85b61aeafc259\n",
            "  experiment_tag: 3_eta=0.063225,gamma=0.87817,grow_policy=depthwise,max_depth=4\n",
            "  hostname: 9991d65102f3\n",
            "  iterations_since_restore: 4\n",
            "  mean_accuracy: 0.2\n",
            "  node_ip: 172.28.0.2\n",
            "  pid: 5107\n",
            "  time_since_restore: 734.1337943077087\n",
            "  time_this_iter_s: 182.0335509777069\n",
            "  time_total_s: 1228.260816335678\n",
            "  timestamp: 1578943305\n",
            "  timesteps_since_restore: 0\n",
            "  training_iteration: 13\n",
            "  trial_id: 83046f9c\n",
            "  \n",
            "Result for XGBoost_trainable_82dfcba6:\n",
            "  date: 2020-01-13_19-22-30\n",
            "  done: false\n",
            "  experiment_id: 16f69ef7f0924c0282aea2d931fb3408\n",
            "  experiment_tag: 2_eta=0.055688,gamma=0.52978,grow_policy=lossguide,max_depth=8\n",
            "  hostname: 9991d65102f3\n",
            "  iterations_since_restore: 17\n",
            "  mean_accuracy: 0.2\n",
            "  node_ip: 172.28.0.2\n",
            "  pid: 4300\n",
            "  time_since_restore: 781.3241784572601\n",
            "  time_this_iter_s: 46.77803111076355\n",
            "  time_total_s: 3524.4822618961334\n",
            "  timestamp: 1578943350\n",
            "  timesteps_since_restore: 0\n",
            "  training_iteration: 26\n",
            "  trial_id: 82dfcba6\n",
            "  \n"
          ],
          "name": "stdout"
        },
        {
          "output_type": "display_data",
          "data": {
            "text/html": [
              "== Status ==<br>Memory usage on this node: 1.5/12.7 GiB<br>Using HyperBand: num_stopped=1 total_brackets=1\n",
              "Round #0:\n",
              "  Bracket(Max Size (n)=3, Milestone (r)=27, completed=14.1%): {PENDING: 1, RUNNING: 2, TERMINATED: 1} <br>Resources requested: 2/2 CPUs, 0/0 GPUs, 0.0/6.1 GiB heap, 0.0/2.1 GiB objects<br>Result logdir: /root/ray_results/XGBoost_trainable<br>Number of trials: 4 (1 TERMINATED, 2 RUNNING, 1 PENDING)<br><table>\n",
              "<thead>\n",
              "<tr><th>Trial name                </th><th>status    </th><th>loc            </th><th>grow_policy  </th><th style=\"text-align: right;\">      eta</th><th style=\"text-align: right;\">   gamma</th><th style=\"text-align: right;\">  max_depth</th><th style=\"text-align: right;\">  iter</th><th style=\"text-align: right;\">  total time (s)</th><th style=\"text-align: right;\">  acc</th></tr>\n",
              "</thead>\n",
              "<tbody>\n",
              "<tr><td>XGBoost_trainable_82b61090</td><td>TERMINATED</td><td>               </td><td>lossguide    </td><td style=\"text-align: right;\">0.0105708</td><td style=\"text-align: right;\">0.406448</td><td style=\"text-align: right;\">          8</td><td style=\"text-align: right;\">     9</td><td style=\"text-align: right;\">         770.978</td><td style=\"text-align: right;\">  0.2</td></tr>\n",
              "<tr><td>XGBoost_trainable_82dfcba6</td><td>RUNNING   </td><td>172.28.0.2:4300</td><td>lossguide    </td><td style=\"text-align: right;\">0.0556884</td><td style=\"text-align: right;\">0.529778</td><td style=\"text-align: right;\">          8</td><td style=\"text-align: right;\">    26</td><td style=\"text-align: right;\">        3524.48 </td><td style=\"text-align: right;\">  0.2</td></tr>\n",
              "<tr><td>XGBoost_trainable_83046f9c</td><td>RUNNING   </td><td>172.28.0.2:5107</td><td>depthwise    </td><td style=\"text-align: right;\">0.0632253</td><td style=\"text-align: right;\">0.878173</td><td style=\"text-align: right;\">          4</td><td style=\"text-align: right;\">    13</td><td style=\"text-align: right;\">        1228.26 </td><td style=\"text-align: right;\">  0.2</td></tr>\n",
              "<tr><td>XGBoost_trainable_832a3402</td><td>PENDING   </td><td>               </td><td>depthwise    </td><td style=\"text-align: right;\">0.0314498</td><td style=\"text-align: right;\">0.892913</td><td style=\"text-align: right;\">          1</td><td style=\"text-align: right;\">     9</td><td style=\"text-align: right;\">         419.066</td><td style=\"text-align: right;\">  0.2</td></tr>\n",
              "</tbody>\n",
              "</table><br><br>"
            ],
            "text/plain": [
              "<IPython.core.display.HTML object>"
            ]
          },
          "metadata": {
            "tags": []
          }
        },
        {
          "output_type": "stream",
          "text": [
            "Result for XGBoost_trainable_82dfcba6:\n",
            "  date: 2020-01-13_19-23-17\n",
            "  done: false\n",
            "  experiment_id: 16f69ef7f0924c0282aea2d931fb3408\n",
            "  experiment_tag: 2_eta=0.055688,gamma=0.52978,grow_policy=lossguide,max_depth=8\n",
            "  hostname: 9991d65102f3\n",
            "  iterations_since_restore: 18\n",
            "  mean_accuracy: 0.2\n",
            "  node_ip: 172.28.0.2\n",
            "  pid: 4300\n",
            "  time_since_restore: 828.3931772708893\n",
            "  time_this_iter_s: 47.06899881362915\n",
            "  time_total_s: 3571.5512607097626\n",
            "  timestamp: 1578943397\n",
            "  timesteps_since_restore: 0\n",
            "  training_iteration: 27\n",
            "  trial_id: 82dfcba6\n",
            "  \n"
          ],
          "name": "stdout"
        },
        {
          "output_type": "display_data",
          "data": {
            "text/html": [
              "== Status ==<br>Memory usage on this node: 1.5/12.7 GiB<br>Using HyperBand: num_stopped=1 total_brackets=1\n",
              "Round #0:\n",
              "  Bracket(Max Size (n)=3, Milestone (r)=27, completed=14.4%): {PAUSED: 1, PENDING: 1, RUNNING: 1, TERMINATED: 1} <br>Resources requested: 1/2 CPUs, 0/0 GPUs, 0.0/6.1 GiB heap, 0.0/2.1 GiB objects<br>Result logdir: /root/ray_results/XGBoost_trainable<br>Number of trials: 4 (1 TERMINATED, 1 PAUSED, 1 RUNNING, 1 PENDING)<br><table>\n",
              "<thead>\n",
              "<tr><th>Trial name                </th><th>status    </th><th>loc            </th><th>grow_policy  </th><th style=\"text-align: right;\">      eta</th><th style=\"text-align: right;\">   gamma</th><th style=\"text-align: right;\">  max_depth</th><th style=\"text-align: right;\">  iter</th><th style=\"text-align: right;\">  total time (s)</th><th style=\"text-align: right;\">  acc</th></tr>\n",
              "</thead>\n",
              "<tbody>\n",
              "<tr><td>XGBoost_trainable_82b61090</td><td>TERMINATED</td><td>               </td><td>lossguide    </td><td style=\"text-align: right;\">0.0105708</td><td style=\"text-align: right;\">0.406448</td><td style=\"text-align: right;\">          8</td><td style=\"text-align: right;\">     9</td><td style=\"text-align: right;\">         770.978</td><td style=\"text-align: right;\">  0.2</td></tr>\n",
              "<tr><td>XGBoost_trainable_82dfcba6</td><td>PAUSED    </td><td>               </td><td>lossguide    </td><td style=\"text-align: right;\">0.0556884</td><td style=\"text-align: right;\">0.529778</td><td style=\"text-align: right;\">          8</td><td style=\"text-align: right;\">    27</td><td style=\"text-align: right;\">        3571.55 </td><td style=\"text-align: right;\">  0.2</td></tr>\n",
              "<tr><td>XGBoost_trainable_83046f9c</td><td>RUNNING   </td><td>172.28.0.2:5107</td><td>depthwise    </td><td style=\"text-align: right;\">0.0632253</td><td style=\"text-align: right;\">0.878173</td><td style=\"text-align: right;\">          4</td><td style=\"text-align: right;\">    13</td><td style=\"text-align: right;\">        1228.26 </td><td style=\"text-align: right;\">  0.2</td></tr>\n",
              "<tr><td>XGBoost_trainable_832a3402</td><td>PENDING   </td><td>               </td><td>depthwise    </td><td style=\"text-align: right;\">0.0314498</td><td style=\"text-align: right;\">0.892913</td><td style=\"text-align: right;\">          1</td><td style=\"text-align: right;\">     9</td><td style=\"text-align: right;\">         419.066</td><td style=\"text-align: right;\">  0.2</td></tr>\n",
              "</tbody>\n",
              "</table><br><br>"
            ],
            "text/plain": [
              "<IPython.core.display.HTML object>"
            ]
          },
          "metadata": {
            "tags": []
          }
        },
        {
          "output_type": "stream",
          "text": [
            "\u001b[2m\u001b[36m(pid=4300)\u001b[0m 2020-01-13 19:23:17,137\tINFO trainable.py:346 -- Restored from checkpoint: /root/ray_results/XGBoost_trainable/XGBoost_trainable_832a3402_2020-01-13_18-28-13k7cutwmt/tmp6897ly7vrestore_from_object/checkpoint_9/model.pth\n",
            "\u001b[2m\u001b[36m(pid=4300)\u001b[0m 2020-01-13 19:23:17,137\tINFO trainable.py:353 -- Current state after restoring: {'_iteration': 9, '_timesteps_total': None, '_time_total': 419.06615686416626, '_episodes_total': None}\n",
            "Result for XGBoost_trainable_832a3402:\n",
            "  date: 2020-01-13_19-24-03\n",
            "  done: false\n",
            "  experiment_id: dba50441a96149289476f25c4382c3e2\n",
            "  experiment_tag: 4_eta=0.03145,gamma=0.89291,grow_policy=depthwise,max_depth=1\n",
            "  hostname: 9991d65102f3\n",
            "  iterations_since_restore: 1\n",
            "  mean_accuracy: 0.2\n",
            "  node_ip: 172.28.0.2\n",
            "  pid: 4300\n",
            "  time_since_restore: 46.23690056800842\n",
            "  time_this_iter_s: 46.23690056800842\n",
            "  time_total_s: 465.3030574321747\n",
            "  timestamp: 1578943443\n",
            "  timesteps_since_restore: 0\n",
            "  training_iteration: 10\n",
            "  trial_id: 832a3402\n",
            "  \n"
          ],
          "name": "stdout"
        },
        {
          "output_type": "display_data",
          "data": {
            "text/html": [
              "== Status ==<br>Memory usage on this node: 1.5/12.7 GiB<br>Using HyperBand: num_stopped=1 total_brackets=1\n",
              "Round #0:\n",
              "  Bracket(Max Size (n)=3, Milestone (r)=27, completed=14.6%): {PAUSED: 1, RUNNING: 2, TERMINATED: 1} <br>Resources requested: 2/2 CPUs, 0/0 GPUs, 0.0/6.1 GiB heap, 0.0/2.1 GiB objects<br>Result logdir: /root/ray_results/XGBoost_trainable<br>Number of trials: 4 (1 TERMINATED, 1 PAUSED, 2 RUNNING)<br><table>\n",
              "<thead>\n",
              "<tr><th>Trial name                </th><th>status    </th><th>loc            </th><th>grow_policy  </th><th style=\"text-align: right;\">      eta</th><th style=\"text-align: right;\">   gamma</th><th style=\"text-align: right;\">  max_depth</th><th style=\"text-align: right;\">  iter</th><th style=\"text-align: right;\">  total time (s)</th><th style=\"text-align: right;\">  acc</th></tr>\n",
              "</thead>\n",
              "<tbody>\n",
              "<tr><td>XGBoost_trainable_82b61090</td><td>TERMINATED</td><td>               </td><td>lossguide    </td><td style=\"text-align: right;\">0.0105708</td><td style=\"text-align: right;\">0.406448</td><td style=\"text-align: right;\">          8</td><td style=\"text-align: right;\">     9</td><td style=\"text-align: right;\">         770.978</td><td style=\"text-align: right;\">  0.2</td></tr>\n",
              "<tr><td>XGBoost_trainable_82dfcba6</td><td>PAUSED    </td><td>               </td><td>lossguide    </td><td style=\"text-align: right;\">0.0556884</td><td style=\"text-align: right;\">0.529778</td><td style=\"text-align: right;\">          8</td><td style=\"text-align: right;\">    27</td><td style=\"text-align: right;\">        3571.55 </td><td style=\"text-align: right;\">  0.2</td></tr>\n",
              "<tr><td>XGBoost_trainable_83046f9c</td><td>RUNNING   </td><td>172.28.0.2:5107</td><td>depthwise    </td><td style=\"text-align: right;\">0.0632253</td><td style=\"text-align: right;\">0.878173</td><td style=\"text-align: right;\">          4</td><td style=\"text-align: right;\">    13</td><td style=\"text-align: right;\">        1228.26 </td><td style=\"text-align: right;\">  0.2</td></tr>\n",
              "<tr><td>XGBoost_trainable_832a3402</td><td>RUNNING   </td><td>172.28.0.2:4300</td><td>depthwise    </td><td style=\"text-align: right;\">0.0314498</td><td style=\"text-align: right;\">0.892913</td><td style=\"text-align: right;\">          1</td><td style=\"text-align: right;\">    10</td><td style=\"text-align: right;\">         465.303</td><td style=\"text-align: right;\">  0.2</td></tr>\n",
              "</tbody>\n",
              "</table><br><br>"
            ],
            "text/plain": [
              "<IPython.core.display.HTML object>"
            ]
          },
          "metadata": {
            "tags": []
          }
        },
        {
          "output_type": "stream",
          "text": [
            "Result for XGBoost_trainable_83046f9c:\n",
            "  date: 2020-01-13_19-24-47\n",
            "  done: false\n",
            "  experiment_id: 7dfe5681a9894a5d89e85b61aeafc259\n",
            "  experiment_tag: 3_eta=0.063225,gamma=0.87817,grow_policy=depthwise,max_depth=4\n",
            "  hostname: 9991d65102f3\n",
            "  iterations_since_restore: 5\n",
            "  mean_accuracy: 0.2\n",
            "  node_ip: 172.28.0.2\n",
            "  pid: 5107\n",
            "  time_since_restore: 916.1851434707642\n",
            "  time_this_iter_s: 182.05134916305542\n",
            "  time_total_s: 1410.3121654987335\n",
            "  timestamp: 1578943487\n",
            "  timesteps_since_restore: 0\n",
            "  training_iteration: 14\n",
            "  trial_id: 83046f9c\n",
            "  \n"
          ],
          "name": "stdout"
        },
        {
          "output_type": "display_data",
          "data": {
            "text/html": [
              "== Status ==<br>Memory usage on this node: 1.5/12.7 GiB<br>Using HyperBand: num_stopped=1 total_brackets=1\n",
              "Round #0:\n",
              "  Bracket(Max Size (n)=3, Milestone (r)=27, completed=14.9%): {PAUSED: 1, RUNNING: 2, TERMINATED: 1} <br>Resources requested: 2/2 CPUs, 0/0 GPUs, 0.0/6.1 GiB heap, 0.0/2.1 GiB objects<br>Result logdir: /root/ray_results/XGBoost_trainable<br>Number of trials: 4 (1 TERMINATED, 1 PAUSED, 2 RUNNING)<br><table>\n",
              "<thead>\n",
              "<tr><th>Trial name                </th><th>status    </th><th>loc            </th><th>grow_policy  </th><th style=\"text-align: right;\">      eta</th><th style=\"text-align: right;\">   gamma</th><th style=\"text-align: right;\">  max_depth</th><th style=\"text-align: right;\">  iter</th><th style=\"text-align: right;\">  total time (s)</th><th style=\"text-align: right;\">  acc</th></tr>\n",
              "</thead>\n",
              "<tbody>\n",
              "<tr><td>XGBoost_trainable_82b61090</td><td>TERMINATED</td><td>               </td><td>lossguide    </td><td style=\"text-align: right;\">0.0105708</td><td style=\"text-align: right;\">0.406448</td><td style=\"text-align: right;\">          8</td><td style=\"text-align: right;\">     9</td><td style=\"text-align: right;\">         770.978</td><td style=\"text-align: right;\">  0.2</td></tr>\n",
              "<tr><td>XGBoost_trainable_82dfcba6</td><td>PAUSED    </td><td>               </td><td>lossguide    </td><td style=\"text-align: right;\">0.0556884</td><td style=\"text-align: right;\">0.529778</td><td style=\"text-align: right;\">          8</td><td style=\"text-align: right;\">    27</td><td style=\"text-align: right;\">        3571.55 </td><td style=\"text-align: right;\">  0.2</td></tr>\n",
              "<tr><td>XGBoost_trainable_83046f9c</td><td>RUNNING   </td><td>172.28.0.2:5107</td><td>depthwise    </td><td style=\"text-align: right;\">0.0632253</td><td style=\"text-align: right;\">0.878173</td><td style=\"text-align: right;\">          4</td><td style=\"text-align: right;\">    14</td><td style=\"text-align: right;\">        1410.31 </td><td style=\"text-align: right;\">  0.2</td></tr>\n",
              "<tr><td>XGBoost_trainable_832a3402</td><td>RUNNING   </td><td>172.28.0.2:4300</td><td>depthwise    </td><td style=\"text-align: right;\">0.0314498</td><td style=\"text-align: right;\">0.892913</td><td style=\"text-align: right;\">          1</td><td style=\"text-align: right;\">    10</td><td style=\"text-align: right;\">         465.303</td><td style=\"text-align: right;\">  0.2</td></tr>\n",
              "</tbody>\n",
              "</table><br><br>"
            ],
            "text/plain": [
              "<IPython.core.display.HTML object>"
            ]
          },
          "metadata": {
            "tags": []
          }
        },
        {
          "output_type": "stream",
          "text": [
            "Result for XGBoost_trainable_832a3402:\n",
            "  date: 2020-01-13_19-24-49\n",
            "  done: false\n",
            "  experiment_id: dba50441a96149289476f25c4382c3e2\n",
            "  experiment_tag: 4_eta=0.03145,gamma=0.89291,grow_policy=depthwise,max_depth=1\n",
            "  hostname: 9991d65102f3\n",
            "  iterations_since_restore: 2\n",
            "  mean_accuracy: 0.2\n",
            "  node_ip: 172.28.0.2\n",
            "  pid: 4300\n",
            "  time_since_restore: 92.18442845344543\n",
            "  time_this_iter_s: 45.94752788543701\n",
            "  time_total_s: 511.2505853176117\n",
            "  timestamp: 1578943489\n",
            "  timesteps_since_restore: 0\n",
            "  training_iteration: 11\n",
            "  trial_id: 832a3402\n",
            "  \n",
            "Result for XGBoost_trainable_832a3402:\n",
            "  date: 2020-01-13_19-25-35\n",
            "  done: false\n",
            "  experiment_id: dba50441a96149289476f25c4382c3e2\n",
            "  experiment_tag: 4_eta=0.03145,gamma=0.89291,grow_policy=depthwise,max_depth=1\n",
            "  hostname: 9991d65102f3\n",
            "  iterations_since_restore: 3\n",
            "  mean_accuracy: 0.2\n",
            "  node_ip: 172.28.0.2\n",
            "  pid: 4300\n",
            "  time_since_restore: 137.98945951461792\n",
            "  time_this_iter_s: 45.805031061172485\n",
            "  time_total_s: 557.0556163787842\n",
            "  timestamp: 1578943535\n",
            "  timesteps_since_restore: 0\n",
            "  training_iteration: 12\n",
            "  trial_id: 832a3402\n",
            "  \n"
          ],
          "name": "stdout"
        },
        {
          "output_type": "display_data",
          "data": {
            "text/html": [
              "== Status ==<br>Memory usage on this node: 1.5/12.7 GiB<br>Using HyperBand: num_stopped=1 total_brackets=1\n",
              "Round #0:\n",
              "  Bracket(Max Size (n)=3, Milestone (r)=27, completed=15.3%): {PAUSED: 1, RUNNING: 2, TERMINATED: 1} <br>Resources requested: 2/2 CPUs, 0/0 GPUs, 0.0/6.1 GiB heap, 0.0/2.1 GiB objects<br>Result logdir: /root/ray_results/XGBoost_trainable<br>Number of trials: 4 (1 TERMINATED, 1 PAUSED, 2 RUNNING)<br><table>\n",
              "<thead>\n",
              "<tr><th>Trial name                </th><th>status    </th><th>loc            </th><th>grow_policy  </th><th style=\"text-align: right;\">      eta</th><th style=\"text-align: right;\">   gamma</th><th style=\"text-align: right;\">  max_depth</th><th style=\"text-align: right;\">  iter</th><th style=\"text-align: right;\">  total time (s)</th><th style=\"text-align: right;\">  acc</th></tr>\n",
              "</thead>\n",
              "<tbody>\n",
              "<tr><td>XGBoost_trainable_82b61090</td><td>TERMINATED</td><td>               </td><td>lossguide    </td><td style=\"text-align: right;\">0.0105708</td><td style=\"text-align: right;\">0.406448</td><td style=\"text-align: right;\">          8</td><td style=\"text-align: right;\">     9</td><td style=\"text-align: right;\">         770.978</td><td style=\"text-align: right;\">  0.2</td></tr>\n",
              "<tr><td>XGBoost_trainable_82dfcba6</td><td>PAUSED    </td><td>               </td><td>lossguide    </td><td style=\"text-align: right;\">0.0556884</td><td style=\"text-align: right;\">0.529778</td><td style=\"text-align: right;\">          8</td><td style=\"text-align: right;\">    27</td><td style=\"text-align: right;\">        3571.55 </td><td style=\"text-align: right;\">  0.2</td></tr>\n",
              "<tr><td>XGBoost_trainable_83046f9c</td><td>RUNNING   </td><td>172.28.0.2:5107</td><td>depthwise    </td><td style=\"text-align: right;\">0.0632253</td><td style=\"text-align: right;\">0.878173</td><td style=\"text-align: right;\">          4</td><td style=\"text-align: right;\">    14</td><td style=\"text-align: right;\">        1410.31 </td><td style=\"text-align: right;\">  0.2</td></tr>\n",
              "<tr><td>XGBoost_trainable_832a3402</td><td>RUNNING   </td><td>172.28.0.2:4300</td><td>depthwise    </td><td style=\"text-align: right;\">0.0314498</td><td style=\"text-align: right;\">0.892913</td><td style=\"text-align: right;\">          1</td><td style=\"text-align: right;\">    12</td><td style=\"text-align: right;\">         557.056</td><td style=\"text-align: right;\">  0.2</td></tr>\n",
              "</tbody>\n",
              "</table><br><br>"
            ],
            "text/plain": [
              "<IPython.core.display.HTML object>"
            ]
          },
          "metadata": {
            "tags": []
          }
        },
        {
          "output_type": "stream",
          "text": [
            "Result for XGBoost_trainable_832a3402:\n",
            "  date: 2020-01-13_19-26-20\n",
            "  done: false\n",
            "  experiment_id: dba50441a96149289476f25c4382c3e2\n",
            "  experiment_tag: 4_eta=0.03145,gamma=0.89291,grow_policy=depthwise,max_depth=1\n",
            "  hostname: 9991d65102f3\n",
            "  iterations_since_restore: 4\n",
            "  mean_accuracy: 0.2\n",
            "  node_ip: 172.28.0.2\n",
            "  pid: 4300\n",
            "  time_since_restore: 183.70721459388733\n",
            "  time_this_iter_s: 45.71775507926941\n",
            "  time_total_s: 602.7733714580536\n",
            "  timestamp: 1578943580\n",
            "  timesteps_since_restore: 0\n",
            "  training_iteration: 13\n",
            "  trial_id: 832a3402\n",
            "  \n"
          ],
          "name": "stdout"
        },
        {
          "output_type": "display_data",
          "data": {
            "text/html": [
              "== Status ==<br>Memory usage on this node: 1.5/12.7 GiB<br>Using HyperBand: num_stopped=1 total_brackets=1\n",
              "Round #0:\n",
              "  Bracket(Max Size (n)=3, Milestone (r)=27, completed=15.6%): {PAUSED: 1, RUNNING: 2, TERMINATED: 1} <br>Resources requested: 2/2 CPUs, 0/0 GPUs, 0.0/6.1 GiB heap, 0.0/2.1 GiB objects<br>Result logdir: /root/ray_results/XGBoost_trainable<br>Number of trials: 4 (1 TERMINATED, 1 PAUSED, 2 RUNNING)<br><table>\n",
              "<thead>\n",
              "<tr><th>Trial name                </th><th>status    </th><th>loc            </th><th>grow_policy  </th><th style=\"text-align: right;\">      eta</th><th style=\"text-align: right;\">   gamma</th><th style=\"text-align: right;\">  max_depth</th><th style=\"text-align: right;\">  iter</th><th style=\"text-align: right;\">  total time (s)</th><th style=\"text-align: right;\">  acc</th></tr>\n",
              "</thead>\n",
              "<tbody>\n",
              "<tr><td>XGBoost_trainable_82b61090</td><td>TERMINATED</td><td>               </td><td>lossguide    </td><td style=\"text-align: right;\">0.0105708</td><td style=\"text-align: right;\">0.406448</td><td style=\"text-align: right;\">          8</td><td style=\"text-align: right;\">     9</td><td style=\"text-align: right;\">         770.978</td><td style=\"text-align: right;\">  0.2</td></tr>\n",
              "<tr><td>XGBoost_trainable_82dfcba6</td><td>PAUSED    </td><td>               </td><td>lossguide    </td><td style=\"text-align: right;\">0.0556884</td><td style=\"text-align: right;\">0.529778</td><td style=\"text-align: right;\">          8</td><td style=\"text-align: right;\">    27</td><td style=\"text-align: right;\">        3571.55 </td><td style=\"text-align: right;\">  0.2</td></tr>\n",
              "<tr><td>XGBoost_trainable_83046f9c</td><td>RUNNING   </td><td>172.28.0.2:5107</td><td>depthwise    </td><td style=\"text-align: right;\">0.0632253</td><td style=\"text-align: right;\">0.878173</td><td style=\"text-align: right;\">          4</td><td style=\"text-align: right;\">    14</td><td style=\"text-align: right;\">        1410.31 </td><td style=\"text-align: right;\">  0.2</td></tr>\n",
              "<tr><td>XGBoost_trainable_832a3402</td><td>RUNNING   </td><td>172.28.0.2:4300</td><td>depthwise    </td><td style=\"text-align: right;\">0.0314498</td><td style=\"text-align: right;\">0.892913</td><td style=\"text-align: right;\">          1</td><td style=\"text-align: right;\">    13</td><td style=\"text-align: right;\">         602.773</td><td style=\"text-align: right;\">  0.2</td></tr>\n",
              "</tbody>\n",
              "</table><br><br>"
            ],
            "text/plain": [
              "<IPython.core.display.HTML object>"
            ]
          },
          "metadata": {
            "tags": []
          }
        },
        {
          "output_type": "stream",
          "text": [
            "Result for XGBoost_trainable_832a3402:\n",
            "  date: 2020-01-13_19-27-06\n",
            "  done: false\n",
            "  experiment_id: dba50441a96149289476f25c4382c3e2\n",
            "  experiment_tag: 4_eta=0.03145,gamma=0.89291,grow_policy=depthwise,max_depth=1\n",
            "  hostname: 9991d65102f3\n",
            "  iterations_since_restore: 5\n",
            "  mean_accuracy: 0.2\n",
            "  node_ip: 172.28.0.2\n",
            "  pid: 4300\n",
            "  time_since_restore: 229.59312176704407\n",
            "  time_this_iter_s: 45.88590717315674\n",
            "  time_total_s: 648.6592786312103\n",
            "  timestamp: 1578943626\n",
            "  timesteps_since_restore: 0\n",
            "  training_iteration: 14\n",
            "  trial_id: 832a3402\n",
            "  \n"
          ],
          "name": "stdout"
        },
        {
          "output_type": "display_data",
          "data": {
            "text/html": [
              "== Status ==<br>Memory usage on this node: 1.5/12.7 GiB<br>Using HyperBand: num_stopped=1 total_brackets=1\n",
              "Round #0:\n",
              "  Bracket(Max Size (n)=3, Milestone (r)=27, completed=15.8%): {PAUSED: 1, RUNNING: 2, TERMINATED: 1} <br>Resources requested: 2/2 CPUs, 0/0 GPUs, 0.0/6.1 GiB heap, 0.0/2.1 GiB objects<br>Result logdir: /root/ray_results/XGBoost_trainable<br>Number of trials: 4 (1 TERMINATED, 1 PAUSED, 2 RUNNING)<br><table>\n",
              "<thead>\n",
              "<tr><th>Trial name                </th><th>status    </th><th>loc            </th><th>grow_policy  </th><th style=\"text-align: right;\">      eta</th><th style=\"text-align: right;\">   gamma</th><th style=\"text-align: right;\">  max_depth</th><th style=\"text-align: right;\">  iter</th><th style=\"text-align: right;\">  total time (s)</th><th style=\"text-align: right;\">  acc</th></tr>\n",
              "</thead>\n",
              "<tbody>\n",
              "<tr><td>XGBoost_trainable_82b61090</td><td>TERMINATED</td><td>               </td><td>lossguide    </td><td style=\"text-align: right;\">0.0105708</td><td style=\"text-align: right;\">0.406448</td><td style=\"text-align: right;\">          8</td><td style=\"text-align: right;\">     9</td><td style=\"text-align: right;\">         770.978</td><td style=\"text-align: right;\">  0.2</td></tr>\n",
              "<tr><td>XGBoost_trainable_82dfcba6</td><td>PAUSED    </td><td>               </td><td>lossguide    </td><td style=\"text-align: right;\">0.0556884</td><td style=\"text-align: right;\">0.529778</td><td style=\"text-align: right;\">          8</td><td style=\"text-align: right;\">    27</td><td style=\"text-align: right;\">        3571.55 </td><td style=\"text-align: right;\">  0.2</td></tr>\n",
              "<tr><td>XGBoost_trainable_83046f9c</td><td>RUNNING   </td><td>172.28.0.2:5107</td><td>depthwise    </td><td style=\"text-align: right;\">0.0632253</td><td style=\"text-align: right;\">0.878173</td><td style=\"text-align: right;\">          4</td><td style=\"text-align: right;\">    14</td><td style=\"text-align: right;\">        1410.31 </td><td style=\"text-align: right;\">  0.2</td></tr>\n",
              "<tr><td>XGBoost_trainable_832a3402</td><td>RUNNING   </td><td>172.28.0.2:4300</td><td>depthwise    </td><td style=\"text-align: right;\">0.0314498</td><td style=\"text-align: right;\">0.892913</td><td style=\"text-align: right;\">          1</td><td style=\"text-align: right;\">    14</td><td style=\"text-align: right;\">         648.659</td><td style=\"text-align: right;\">  0.2</td></tr>\n",
              "</tbody>\n",
              "</table><br><br>"
            ],
            "text/plain": [
              "<IPython.core.display.HTML object>"
            ]
          },
          "metadata": {
            "tags": []
          }
        },
        {
          "output_type": "stream",
          "text": [
            "Result for XGBoost_trainable_83046f9c:\n",
            "  date: 2020-01-13_19-27-51\n",
            "  done: false\n",
            "  experiment_id: 7dfe5681a9894a5d89e85b61aeafc259\n",
            "  experiment_tag: 3_eta=0.063225,gamma=0.87817,grow_policy=depthwise,max_depth=4\n",
            "  hostname: 9991d65102f3\n",
            "  iterations_since_restore: 6\n",
            "  mean_accuracy: 0.2\n",
            "  node_ip: 172.28.0.2\n",
            "  pid: 5107\n",
            "  time_since_restore: 1100.0539247989655\n",
            "  time_this_iter_s: 183.8687813282013\n",
            "  time_total_s: 1594.1809468269348\n",
            "  timestamp: 1578943671\n",
            "  timesteps_since_restore: 0\n",
            "  training_iteration: 15\n",
            "  trial_id: 83046f9c\n",
            "  \n"
          ],
          "name": "stdout"
        },
        {
          "output_type": "display_data",
          "data": {
            "text/html": [
              "== Status ==<br>Memory usage on this node: 1.5/12.7 GiB<br>Using HyperBand: num_stopped=1 total_brackets=1\n",
              "Round #0:\n",
              "  Bracket(Max Size (n)=3, Milestone (r)=27, completed=16.1%): {PAUSED: 1, RUNNING: 2, TERMINATED: 1} <br>Resources requested: 2/2 CPUs, 0/0 GPUs, 0.0/6.1 GiB heap, 0.0/2.1 GiB objects<br>Result logdir: /root/ray_results/XGBoost_trainable<br>Number of trials: 4 (1 TERMINATED, 1 PAUSED, 2 RUNNING)<br><table>\n",
              "<thead>\n",
              "<tr><th>Trial name                </th><th>status    </th><th>loc            </th><th>grow_policy  </th><th style=\"text-align: right;\">      eta</th><th style=\"text-align: right;\">   gamma</th><th style=\"text-align: right;\">  max_depth</th><th style=\"text-align: right;\">  iter</th><th style=\"text-align: right;\">  total time (s)</th><th style=\"text-align: right;\">  acc</th></tr>\n",
              "</thead>\n",
              "<tbody>\n",
              "<tr><td>XGBoost_trainable_82b61090</td><td>TERMINATED</td><td>               </td><td>lossguide    </td><td style=\"text-align: right;\">0.0105708</td><td style=\"text-align: right;\">0.406448</td><td style=\"text-align: right;\">          8</td><td style=\"text-align: right;\">     9</td><td style=\"text-align: right;\">         770.978</td><td style=\"text-align: right;\">  0.2</td></tr>\n",
              "<tr><td>XGBoost_trainable_82dfcba6</td><td>PAUSED    </td><td>               </td><td>lossguide    </td><td style=\"text-align: right;\">0.0556884</td><td style=\"text-align: right;\">0.529778</td><td style=\"text-align: right;\">          8</td><td style=\"text-align: right;\">    27</td><td style=\"text-align: right;\">        3571.55 </td><td style=\"text-align: right;\">  0.2</td></tr>\n",
              "<tr><td>XGBoost_trainable_83046f9c</td><td>RUNNING   </td><td>172.28.0.2:5107</td><td>depthwise    </td><td style=\"text-align: right;\">0.0632253</td><td style=\"text-align: right;\">0.878173</td><td style=\"text-align: right;\">          4</td><td style=\"text-align: right;\">    15</td><td style=\"text-align: right;\">        1594.18 </td><td style=\"text-align: right;\">  0.2</td></tr>\n",
              "<tr><td>XGBoost_trainable_832a3402</td><td>RUNNING   </td><td>172.28.0.2:4300</td><td>depthwise    </td><td style=\"text-align: right;\">0.0314498</td><td style=\"text-align: right;\">0.892913</td><td style=\"text-align: right;\">          1</td><td style=\"text-align: right;\">    14</td><td style=\"text-align: right;\">         648.659</td><td style=\"text-align: right;\">  0.2</td></tr>\n",
              "</tbody>\n",
              "</table><br><br>"
            ],
            "text/plain": [
              "<IPython.core.display.HTML object>"
            ]
          },
          "metadata": {
            "tags": []
          }
        },
        {
          "output_type": "stream",
          "text": [
            "Result for XGBoost_trainable_832a3402:\n",
            "  date: 2020-01-13_19-27-52\n",
            "  done: false\n",
            "  experiment_id: dba50441a96149289476f25c4382c3e2\n",
            "  experiment_tag: 4_eta=0.03145,gamma=0.89291,grow_policy=depthwise,max_depth=1\n",
            "  hostname: 9991d65102f3\n",
            "  iterations_since_restore: 6\n",
            "  mean_accuracy: 0.2\n",
            "  node_ip: 172.28.0.2\n",
            "  pid: 4300\n",
            "  time_since_restore: 275.4830584526062\n",
            "  time_this_iter_s: 45.889936685562134\n",
            "  time_total_s: 694.5492153167725\n",
            "  timestamp: 1578943672\n",
            "  timesteps_since_restore: 0\n",
            "  training_iteration: 15\n",
            "  trial_id: 832a3402\n",
            "  \n",
            "Result for XGBoost_trainable_832a3402:\n",
            "  date: 2020-01-13_19-28-38\n",
            "  done: false\n",
            "  experiment_id: dba50441a96149289476f25c4382c3e2\n",
            "  experiment_tag: 4_eta=0.03145,gamma=0.89291,grow_policy=depthwise,max_depth=1\n",
            "  hostname: 9991d65102f3\n",
            "  iterations_since_restore: 7\n",
            "  mean_accuracy: 0.2\n",
            "  node_ip: 172.28.0.2\n",
            "  pid: 4300\n",
            "  time_since_restore: 321.33077335357666\n",
            "  time_this_iter_s: 45.84771490097046\n",
            "  time_total_s: 740.3969302177429\n",
            "  timestamp: 1578943718\n",
            "  timesteps_since_restore: 0\n",
            "  training_iteration: 16\n",
            "  trial_id: 832a3402\n",
            "  \n"
          ],
          "name": "stdout"
        },
        {
          "output_type": "display_data",
          "data": {
            "text/html": [
              "== Status ==<br>Memory usage on this node: 1.5/12.7 GiB<br>Using HyperBand: num_stopped=1 total_brackets=1\n",
              "Round #0:\n",
              "  Bracket(Max Size (n)=3, Milestone (r)=27, completed=16.6%): {PAUSED: 1, RUNNING: 2, TERMINATED: 1} <br>Resources requested: 2/2 CPUs, 0/0 GPUs, 0.0/6.1 GiB heap, 0.0/2.1 GiB objects<br>Result logdir: /root/ray_results/XGBoost_trainable<br>Number of trials: 4 (1 TERMINATED, 1 PAUSED, 2 RUNNING)<br><table>\n",
              "<thead>\n",
              "<tr><th>Trial name                </th><th>status    </th><th>loc            </th><th>grow_policy  </th><th style=\"text-align: right;\">      eta</th><th style=\"text-align: right;\">   gamma</th><th style=\"text-align: right;\">  max_depth</th><th style=\"text-align: right;\">  iter</th><th style=\"text-align: right;\">  total time (s)</th><th style=\"text-align: right;\">  acc</th></tr>\n",
              "</thead>\n",
              "<tbody>\n",
              "<tr><td>XGBoost_trainable_82b61090</td><td>TERMINATED</td><td>               </td><td>lossguide    </td><td style=\"text-align: right;\">0.0105708</td><td style=\"text-align: right;\">0.406448</td><td style=\"text-align: right;\">          8</td><td style=\"text-align: right;\">     9</td><td style=\"text-align: right;\">         770.978</td><td style=\"text-align: right;\">  0.2</td></tr>\n",
              "<tr><td>XGBoost_trainable_82dfcba6</td><td>PAUSED    </td><td>               </td><td>lossguide    </td><td style=\"text-align: right;\">0.0556884</td><td style=\"text-align: right;\">0.529778</td><td style=\"text-align: right;\">          8</td><td style=\"text-align: right;\">    27</td><td style=\"text-align: right;\">        3571.55 </td><td style=\"text-align: right;\">  0.2</td></tr>\n",
              "<tr><td>XGBoost_trainable_83046f9c</td><td>RUNNING   </td><td>172.28.0.2:5107</td><td>depthwise    </td><td style=\"text-align: right;\">0.0632253</td><td style=\"text-align: right;\">0.878173</td><td style=\"text-align: right;\">          4</td><td style=\"text-align: right;\">    15</td><td style=\"text-align: right;\">        1594.18 </td><td style=\"text-align: right;\">  0.2</td></tr>\n",
              "<tr><td>XGBoost_trainable_832a3402</td><td>RUNNING   </td><td>172.28.0.2:4300</td><td>depthwise    </td><td style=\"text-align: right;\">0.0314498</td><td style=\"text-align: right;\">0.892913</td><td style=\"text-align: right;\">          1</td><td style=\"text-align: right;\">    16</td><td style=\"text-align: right;\">         740.397</td><td style=\"text-align: right;\">  0.2</td></tr>\n",
              "</tbody>\n",
              "</table><br><br>"
            ],
            "text/plain": [
              "<IPython.core.display.HTML object>"
            ]
          },
          "metadata": {
            "tags": []
          }
        },
        {
          "output_type": "stream",
          "text": [
            "Result for XGBoost_trainable_832a3402:\n",
            "  date: 2020-01-13_19-29-23\n",
            "  done: false\n",
            "  experiment_id: dba50441a96149289476f25c4382c3e2\n",
            "  experiment_tag: 4_eta=0.03145,gamma=0.89291,grow_policy=depthwise,max_depth=1\n",
            "  hostname: 9991d65102f3\n",
            "  iterations_since_restore: 8\n",
            "  mean_accuracy: 0.2\n",
            "  node_ip: 172.28.0.2\n",
            "  pid: 4300\n",
            "  time_since_restore: 366.55149364471436\n",
            "  time_this_iter_s: 45.220720291137695\n",
            "  time_total_s: 785.6176505088806\n",
            "  timestamp: 1578943763\n",
            "  timesteps_since_restore: 0\n",
            "  training_iteration: 17\n",
            "  trial_id: 832a3402\n",
            "  \n"
          ],
          "name": "stdout"
        },
        {
          "output_type": "display_data",
          "data": {
            "text/html": [
              "== Status ==<br>Memory usage on this node: 1.5/12.7 GiB<br>Using HyperBand: num_stopped=1 total_brackets=1\n",
              "Round #0:\n",
              "  Bracket(Max Size (n)=3, Milestone (r)=27, completed=16.8%): {PAUSED: 1, RUNNING: 2, TERMINATED: 1} <br>Resources requested: 2/2 CPUs, 0/0 GPUs, 0.0/6.1 GiB heap, 0.0/2.1 GiB objects<br>Result logdir: /root/ray_results/XGBoost_trainable<br>Number of trials: 4 (1 TERMINATED, 1 PAUSED, 2 RUNNING)<br><table>\n",
              "<thead>\n",
              "<tr><th>Trial name                </th><th>status    </th><th>loc            </th><th>grow_policy  </th><th style=\"text-align: right;\">      eta</th><th style=\"text-align: right;\">   gamma</th><th style=\"text-align: right;\">  max_depth</th><th style=\"text-align: right;\">  iter</th><th style=\"text-align: right;\">  total time (s)</th><th style=\"text-align: right;\">  acc</th></tr>\n",
              "</thead>\n",
              "<tbody>\n",
              "<tr><td>XGBoost_trainable_82b61090</td><td>TERMINATED</td><td>               </td><td>lossguide    </td><td style=\"text-align: right;\">0.0105708</td><td style=\"text-align: right;\">0.406448</td><td style=\"text-align: right;\">          8</td><td style=\"text-align: right;\">     9</td><td style=\"text-align: right;\">         770.978</td><td style=\"text-align: right;\">  0.2</td></tr>\n",
              "<tr><td>XGBoost_trainable_82dfcba6</td><td>PAUSED    </td><td>               </td><td>lossguide    </td><td style=\"text-align: right;\">0.0556884</td><td style=\"text-align: right;\">0.529778</td><td style=\"text-align: right;\">          8</td><td style=\"text-align: right;\">    27</td><td style=\"text-align: right;\">        3571.55 </td><td style=\"text-align: right;\">  0.2</td></tr>\n",
              "<tr><td>XGBoost_trainable_83046f9c</td><td>RUNNING   </td><td>172.28.0.2:5107</td><td>depthwise    </td><td style=\"text-align: right;\">0.0632253</td><td style=\"text-align: right;\">0.878173</td><td style=\"text-align: right;\">          4</td><td style=\"text-align: right;\">    15</td><td style=\"text-align: right;\">        1594.18 </td><td style=\"text-align: right;\">  0.2</td></tr>\n",
              "<tr><td>XGBoost_trainable_832a3402</td><td>RUNNING   </td><td>172.28.0.2:4300</td><td>depthwise    </td><td style=\"text-align: right;\">0.0314498</td><td style=\"text-align: right;\">0.892913</td><td style=\"text-align: right;\">          1</td><td style=\"text-align: right;\">    17</td><td style=\"text-align: right;\">         785.618</td><td style=\"text-align: right;\">  0.2</td></tr>\n",
              "</tbody>\n",
              "</table><br><br>"
            ],
            "text/plain": [
              "<IPython.core.display.HTML object>"
            ]
          },
          "metadata": {
            "tags": []
          }
        },
        {
          "output_type": "stream",
          "text": [
            "Result for XGBoost_trainable_832a3402:\n",
            "  date: 2020-01-13_19-30-09\n",
            "  done: false\n",
            "  experiment_id: dba50441a96149289476f25c4382c3e2\n",
            "  experiment_tag: 4_eta=0.03145,gamma=0.89291,grow_policy=depthwise,max_depth=1\n",
            "  hostname: 9991d65102f3\n",
            "  iterations_since_restore: 9\n",
            "  mean_accuracy: 0.2\n",
            "  node_ip: 172.28.0.2\n",
            "  pid: 4300\n",
            "  time_since_restore: 412.74571084976196\n",
            "  time_this_iter_s: 46.19421720504761\n",
            "  time_total_s: 831.8118677139282\n",
            "  timestamp: 1578943809\n",
            "  timesteps_since_restore: 0\n",
            "  training_iteration: 18\n",
            "  trial_id: 832a3402\n",
            "  \n"
          ],
          "name": "stdout"
        },
        {
          "output_type": "display_data",
          "data": {
            "text/html": [
              "== Status ==<br>Memory usage on this node: 1.5/12.7 GiB<br>Using HyperBand: num_stopped=1 total_brackets=1\n",
              "Round #0:\n",
              "  Bracket(Max Size (n)=3, Milestone (r)=27, completed=17.1%): {PAUSED: 1, RUNNING: 2, TERMINATED: 1} <br>Resources requested: 2/2 CPUs, 0/0 GPUs, 0.0/6.1 GiB heap, 0.0/2.1 GiB objects<br>Result logdir: /root/ray_results/XGBoost_trainable<br>Number of trials: 4 (1 TERMINATED, 1 PAUSED, 2 RUNNING)<br><table>\n",
              "<thead>\n",
              "<tr><th>Trial name                </th><th>status    </th><th>loc            </th><th>grow_policy  </th><th style=\"text-align: right;\">      eta</th><th style=\"text-align: right;\">   gamma</th><th style=\"text-align: right;\">  max_depth</th><th style=\"text-align: right;\">  iter</th><th style=\"text-align: right;\">  total time (s)</th><th style=\"text-align: right;\">  acc</th></tr>\n",
              "</thead>\n",
              "<tbody>\n",
              "<tr><td>XGBoost_trainable_82b61090</td><td>TERMINATED</td><td>               </td><td>lossguide    </td><td style=\"text-align: right;\">0.0105708</td><td style=\"text-align: right;\">0.406448</td><td style=\"text-align: right;\">          8</td><td style=\"text-align: right;\">     9</td><td style=\"text-align: right;\">         770.978</td><td style=\"text-align: right;\">  0.2</td></tr>\n",
              "<tr><td>XGBoost_trainable_82dfcba6</td><td>PAUSED    </td><td>               </td><td>lossguide    </td><td style=\"text-align: right;\">0.0556884</td><td style=\"text-align: right;\">0.529778</td><td style=\"text-align: right;\">          8</td><td style=\"text-align: right;\">    27</td><td style=\"text-align: right;\">        3571.55 </td><td style=\"text-align: right;\">  0.2</td></tr>\n",
              "<tr><td>XGBoost_trainable_83046f9c</td><td>RUNNING   </td><td>172.28.0.2:5107</td><td>depthwise    </td><td style=\"text-align: right;\">0.0632253</td><td style=\"text-align: right;\">0.878173</td><td style=\"text-align: right;\">          4</td><td style=\"text-align: right;\">    15</td><td style=\"text-align: right;\">        1594.18 </td><td style=\"text-align: right;\">  0.2</td></tr>\n",
              "<tr><td>XGBoost_trainable_832a3402</td><td>RUNNING   </td><td>172.28.0.2:4300</td><td>depthwise    </td><td style=\"text-align: right;\">0.0314498</td><td style=\"text-align: right;\">0.892913</td><td style=\"text-align: right;\">          1</td><td style=\"text-align: right;\">    18</td><td style=\"text-align: right;\">         831.812</td><td style=\"text-align: right;\">  0.2</td></tr>\n",
              "</tbody>\n",
              "</table><br><br>"
            ],
            "text/plain": [
              "<IPython.core.display.HTML object>"
            ]
          },
          "metadata": {
            "tags": []
          }
        },
        {
          "output_type": "stream",
          "text": [
            "Result for XGBoost_trainable_83046f9c:\n",
            "  date: 2020-01-13_19-30-55\n",
            "  done: false\n",
            "  experiment_id: 7dfe5681a9894a5d89e85b61aeafc259\n",
            "  experiment_tag: 3_eta=0.063225,gamma=0.87817,grow_policy=depthwise,max_depth=4\n",
            "  hostname: 9991d65102f3\n",
            "  iterations_since_restore: 7\n",
            "  mean_accuracy: 0.2\n",
            "  node_ip: 172.28.0.2\n",
            "  pid: 5107\n",
            "  time_since_restore: 1284.0669453144073\n",
            "  time_this_iter_s: 184.0130205154419\n",
            "  time_total_s: 1778.1939673423767\n",
            "  timestamp: 1578943855\n",
            "  timesteps_since_restore: 0\n",
            "  training_iteration: 16\n",
            "  trial_id: 83046f9c\n",
            "  \n"
          ],
          "name": "stdout"
        },
        {
          "output_type": "display_data",
          "data": {
            "text/html": [
              "== Status ==<br>Memory usage on this node: 1.5/12.7 GiB<br>Using HyperBand: num_stopped=1 total_brackets=1\n",
              "Round #0:\n",
              "  Bracket(Max Size (n)=3, Milestone (r)=27, completed=17.3%): {PAUSED: 1, RUNNING: 2, TERMINATED: 1} <br>Resources requested: 2/2 CPUs, 0/0 GPUs, 0.0/6.1 GiB heap, 0.0/2.1 GiB objects<br>Result logdir: /root/ray_results/XGBoost_trainable<br>Number of trials: 4 (1 TERMINATED, 1 PAUSED, 2 RUNNING)<br><table>\n",
              "<thead>\n",
              "<tr><th>Trial name                </th><th>status    </th><th>loc            </th><th>grow_policy  </th><th style=\"text-align: right;\">      eta</th><th style=\"text-align: right;\">   gamma</th><th style=\"text-align: right;\">  max_depth</th><th style=\"text-align: right;\">  iter</th><th style=\"text-align: right;\">  total time (s)</th><th style=\"text-align: right;\">  acc</th></tr>\n",
              "</thead>\n",
              "<tbody>\n",
              "<tr><td>XGBoost_trainable_82b61090</td><td>TERMINATED</td><td>               </td><td>lossguide    </td><td style=\"text-align: right;\">0.0105708</td><td style=\"text-align: right;\">0.406448</td><td style=\"text-align: right;\">          8</td><td style=\"text-align: right;\">     9</td><td style=\"text-align: right;\">         770.978</td><td style=\"text-align: right;\">  0.2</td></tr>\n",
              "<tr><td>XGBoost_trainable_82dfcba6</td><td>PAUSED    </td><td>               </td><td>lossguide    </td><td style=\"text-align: right;\">0.0556884</td><td style=\"text-align: right;\">0.529778</td><td style=\"text-align: right;\">          8</td><td style=\"text-align: right;\">    27</td><td style=\"text-align: right;\">        3571.55 </td><td style=\"text-align: right;\">  0.2</td></tr>\n",
              "<tr><td>XGBoost_trainable_83046f9c</td><td>RUNNING   </td><td>172.28.0.2:5107</td><td>depthwise    </td><td style=\"text-align: right;\">0.0632253</td><td style=\"text-align: right;\">0.878173</td><td style=\"text-align: right;\">          4</td><td style=\"text-align: right;\">    16</td><td style=\"text-align: right;\">        1778.19 </td><td style=\"text-align: right;\">  0.2</td></tr>\n",
              "<tr><td>XGBoost_trainable_832a3402</td><td>RUNNING   </td><td>172.28.0.2:4300</td><td>depthwise    </td><td style=\"text-align: right;\">0.0314498</td><td style=\"text-align: right;\">0.892913</td><td style=\"text-align: right;\">          1</td><td style=\"text-align: right;\">    18</td><td style=\"text-align: right;\">         831.812</td><td style=\"text-align: right;\">  0.2</td></tr>\n",
              "</tbody>\n",
              "</table><br><br>"
            ],
            "text/plain": [
              "<IPython.core.display.HTML object>"
            ]
          },
          "metadata": {
            "tags": []
          }
        },
        {
          "output_type": "stream",
          "text": [
            "Result for XGBoost_trainable_832a3402:\n",
            "  date: 2020-01-13_19-30-56\n",
            "  done: false\n",
            "  experiment_id: dba50441a96149289476f25c4382c3e2\n",
            "  experiment_tag: 4_eta=0.03145,gamma=0.89291,grow_policy=depthwise,max_depth=1\n",
            "  hostname: 9991d65102f3\n",
            "  iterations_since_restore: 10\n",
            "  mean_accuracy: 0.2\n",
            "  node_ip: 172.28.0.2\n",
            "  pid: 4300\n",
            "  time_since_restore: 458.9208815097809\n",
            "  time_this_iter_s: 46.17517066001892\n",
            "  time_total_s: 877.9870383739471\n",
            "  timestamp: 1578943856\n",
            "  timesteps_since_restore: 0\n",
            "  training_iteration: 19\n",
            "  trial_id: 832a3402\n",
            "  \n",
            "Result for XGBoost_trainable_832a3402:\n",
            "  date: 2020-01-13_19-31-42\n",
            "  done: false\n",
            "  experiment_id: dba50441a96149289476f25c4382c3e2\n",
            "  experiment_tag: 4_eta=0.03145,gamma=0.89291,grow_policy=depthwise,max_depth=1\n",
            "  hostname: 9991d65102f3\n",
            "  iterations_since_restore: 11\n",
            "  mean_accuracy: 0.2\n",
            "  node_ip: 172.28.0.2\n",
            "  pid: 4300\n",
            "  time_since_restore: 505.38922452926636\n",
            "  time_this_iter_s: 46.468343019485474\n",
            "  time_total_s: 924.4553813934326\n",
            "  timestamp: 1578943902\n",
            "  timesteps_since_restore: 0\n",
            "  training_iteration: 20\n",
            "  trial_id: 832a3402\n",
            "  \n"
          ],
          "name": "stdout"
        },
        {
          "output_type": "display_data",
          "data": {
            "text/html": [
              "== Status ==<br>Memory usage on this node: 1.5/12.7 GiB<br>Using HyperBand: num_stopped=1 total_brackets=1\n",
              "Round #0:\n",
              "  Bracket(Max Size (n)=3, Milestone (r)=27, completed=17.8%): {PAUSED: 1, RUNNING: 2, TERMINATED: 1} <br>Resources requested: 2/2 CPUs, 0/0 GPUs, 0.0/6.1 GiB heap, 0.0/2.1 GiB objects<br>Result logdir: /root/ray_results/XGBoost_trainable<br>Number of trials: 4 (1 TERMINATED, 1 PAUSED, 2 RUNNING)<br><table>\n",
              "<thead>\n",
              "<tr><th>Trial name                </th><th>status    </th><th>loc            </th><th>grow_policy  </th><th style=\"text-align: right;\">      eta</th><th style=\"text-align: right;\">   gamma</th><th style=\"text-align: right;\">  max_depth</th><th style=\"text-align: right;\">  iter</th><th style=\"text-align: right;\">  total time (s)</th><th style=\"text-align: right;\">  acc</th></tr>\n",
              "</thead>\n",
              "<tbody>\n",
              "<tr><td>XGBoost_trainable_82b61090</td><td>TERMINATED</td><td>               </td><td>lossguide    </td><td style=\"text-align: right;\">0.0105708</td><td style=\"text-align: right;\">0.406448</td><td style=\"text-align: right;\">          8</td><td style=\"text-align: right;\">     9</td><td style=\"text-align: right;\">         770.978</td><td style=\"text-align: right;\">  0.2</td></tr>\n",
              "<tr><td>XGBoost_trainable_82dfcba6</td><td>PAUSED    </td><td>               </td><td>lossguide    </td><td style=\"text-align: right;\">0.0556884</td><td style=\"text-align: right;\">0.529778</td><td style=\"text-align: right;\">          8</td><td style=\"text-align: right;\">    27</td><td style=\"text-align: right;\">        3571.55 </td><td style=\"text-align: right;\">  0.2</td></tr>\n",
              "<tr><td>XGBoost_trainable_83046f9c</td><td>RUNNING   </td><td>172.28.0.2:5107</td><td>depthwise    </td><td style=\"text-align: right;\">0.0632253</td><td style=\"text-align: right;\">0.878173</td><td style=\"text-align: right;\">          4</td><td style=\"text-align: right;\">    16</td><td style=\"text-align: right;\">        1778.19 </td><td style=\"text-align: right;\">  0.2</td></tr>\n",
              "<tr><td>XGBoost_trainable_832a3402</td><td>RUNNING   </td><td>172.28.0.2:4300</td><td>depthwise    </td><td style=\"text-align: right;\">0.0314498</td><td style=\"text-align: right;\">0.892913</td><td style=\"text-align: right;\">          1</td><td style=\"text-align: right;\">    20</td><td style=\"text-align: right;\">         924.455</td><td style=\"text-align: right;\">  0.2</td></tr>\n",
              "</tbody>\n",
              "</table><br><br>"
            ],
            "text/plain": [
              "<IPython.core.display.HTML object>"
            ]
          },
          "metadata": {
            "tags": []
          }
        },
        {
          "output_type": "stream",
          "text": [
            "Result for XGBoost_trainable_832a3402:\n",
            "  date: 2020-01-13_19-32-29\n",
            "  done: false\n",
            "  experiment_id: dba50441a96149289476f25c4382c3e2\n",
            "  experiment_tag: 4_eta=0.03145,gamma=0.89291,grow_policy=depthwise,max_depth=1\n",
            "  hostname: 9991d65102f3\n",
            "  iterations_since_restore: 12\n",
            "  mean_accuracy: 0.2\n",
            "  node_ip: 172.28.0.2\n",
            "  pid: 4300\n",
            "  time_since_restore: 552.1662654876709\n",
            "  time_this_iter_s: 46.77704095840454\n",
            "  time_total_s: 971.2324223518372\n",
            "  timestamp: 1578943949\n",
            "  timesteps_since_restore: 0\n",
            "  training_iteration: 21\n",
            "  trial_id: 832a3402\n",
            "  \n"
          ],
          "name": "stdout"
        },
        {
          "output_type": "display_data",
          "data": {
            "text/html": [
              "== Status ==<br>Memory usage on this node: 1.5/12.7 GiB<br>Using HyperBand: num_stopped=1 total_brackets=1\n",
              "Round #0:\n",
              "  Bracket(Max Size (n)=3, Milestone (r)=27, completed=18.1%): {PAUSED: 1, RUNNING: 2, TERMINATED: 1} <br>Resources requested: 2/2 CPUs, 0/0 GPUs, 0.0/6.1 GiB heap, 0.0/2.1 GiB objects<br>Result logdir: /root/ray_results/XGBoost_trainable<br>Number of trials: 4 (1 TERMINATED, 1 PAUSED, 2 RUNNING)<br><table>\n",
              "<thead>\n",
              "<tr><th>Trial name                </th><th>status    </th><th>loc            </th><th>grow_policy  </th><th style=\"text-align: right;\">      eta</th><th style=\"text-align: right;\">   gamma</th><th style=\"text-align: right;\">  max_depth</th><th style=\"text-align: right;\">  iter</th><th style=\"text-align: right;\">  total time (s)</th><th style=\"text-align: right;\">  acc</th></tr>\n",
              "</thead>\n",
              "<tbody>\n",
              "<tr><td>XGBoost_trainable_82b61090</td><td>TERMINATED</td><td>               </td><td>lossguide    </td><td style=\"text-align: right;\">0.0105708</td><td style=\"text-align: right;\">0.406448</td><td style=\"text-align: right;\">          8</td><td style=\"text-align: right;\">     9</td><td style=\"text-align: right;\">         770.978</td><td style=\"text-align: right;\">  0.2</td></tr>\n",
              "<tr><td>XGBoost_trainable_82dfcba6</td><td>PAUSED    </td><td>               </td><td>lossguide    </td><td style=\"text-align: right;\">0.0556884</td><td style=\"text-align: right;\">0.529778</td><td style=\"text-align: right;\">          8</td><td style=\"text-align: right;\">    27</td><td style=\"text-align: right;\">        3571.55 </td><td style=\"text-align: right;\">  0.2</td></tr>\n",
              "<tr><td>XGBoost_trainable_83046f9c</td><td>RUNNING   </td><td>172.28.0.2:5107</td><td>depthwise    </td><td style=\"text-align: right;\">0.0632253</td><td style=\"text-align: right;\">0.878173</td><td style=\"text-align: right;\">          4</td><td style=\"text-align: right;\">    16</td><td style=\"text-align: right;\">        1778.19 </td><td style=\"text-align: right;\">  0.2</td></tr>\n",
              "<tr><td>XGBoost_trainable_832a3402</td><td>RUNNING   </td><td>172.28.0.2:4300</td><td>depthwise    </td><td style=\"text-align: right;\">0.0314498</td><td style=\"text-align: right;\">0.892913</td><td style=\"text-align: right;\">          1</td><td style=\"text-align: right;\">    21</td><td style=\"text-align: right;\">         971.232</td><td style=\"text-align: right;\">  0.2</td></tr>\n",
              "</tbody>\n",
              "</table><br><br>"
            ],
            "text/plain": [
              "<IPython.core.display.HTML object>"
            ]
          },
          "metadata": {
            "tags": []
          }
        },
        {
          "output_type": "stream",
          "text": [
            "Result for XGBoost_trainable_832a3402:\n",
            "  date: 2020-01-13_19-33-16\n",
            "  done: false\n",
            "  experiment_id: dba50441a96149289476f25c4382c3e2\n",
            "  experiment_tag: 4_eta=0.03145,gamma=0.89291,grow_policy=depthwise,max_depth=1\n",
            "  hostname: 9991d65102f3\n",
            "  iterations_since_restore: 13\n",
            "  mean_accuracy: 0.2\n",
            "  node_ip: 172.28.0.2\n",
            "  pid: 4300\n",
            "  time_since_restore: 599.5448482036591\n",
            "  time_this_iter_s: 47.37858271598816\n",
            "  time_total_s: 1018.6110050678253\n",
            "  timestamp: 1578943996\n",
            "  timesteps_since_restore: 0\n",
            "  training_iteration: 22\n",
            "  trial_id: 832a3402\n",
            "  \n"
          ],
          "name": "stdout"
        },
        {
          "output_type": "display_data",
          "data": {
            "text/html": [
              "== Status ==<br>Memory usage on this node: 1.5/12.7 GiB<br>Using HyperBand: num_stopped=1 total_brackets=1\n",
              "Round #0:\n",
              "  Bracket(Max Size (n)=3, Milestone (r)=27, completed=18.3%): {PAUSED: 1, RUNNING: 2, TERMINATED: 1} <br>Resources requested: 2/2 CPUs, 0/0 GPUs, 0.0/6.1 GiB heap, 0.0/2.1 GiB objects<br>Result logdir: /root/ray_results/XGBoost_trainable<br>Number of trials: 4 (1 TERMINATED, 1 PAUSED, 2 RUNNING)<br><table>\n",
              "<thead>\n",
              "<tr><th>Trial name                </th><th>status    </th><th>loc            </th><th>grow_policy  </th><th style=\"text-align: right;\">      eta</th><th style=\"text-align: right;\">   gamma</th><th style=\"text-align: right;\">  max_depth</th><th style=\"text-align: right;\">  iter</th><th style=\"text-align: right;\">  total time (s)</th><th style=\"text-align: right;\">  acc</th></tr>\n",
              "</thead>\n",
              "<tbody>\n",
              "<tr><td>XGBoost_trainable_82b61090</td><td>TERMINATED</td><td>               </td><td>lossguide    </td><td style=\"text-align: right;\">0.0105708</td><td style=\"text-align: right;\">0.406448</td><td style=\"text-align: right;\">          8</td><td style=\"text-align: right;\">     9</td><td style=\"text-align: right;\">         770.978</td><td style=\"text-align: right;\">  0.2</td></tr>\n",
              "<tr><td>XGBoost_trainable_82dfcba6</td><td>PAUSED    </td><td>               </td><td>lossguide    </td><td style=\"text-align: right;\">0.0556884</td><td style=\"text-align: right;\">0.529778</td><td style=\"text-align: right;\">          8</td><td style=\"text-align: right;\">    27</td><td style=\"text-align: right;\">        3571.55 </td><td style=\"text-align: right;\">  0.2</td></tr>\n",
              "<tr><td>XGBoost_trainable_83046f9c</td><td>RUNNING   </td><td>172.28.0.2:5107</td><td>depthwise    </td><td style=\"text-align: right;\">0.0632253</td><td style=\"text-align: right;\">0.878173</td><td style=\"text-align: right;\">          4</td><td style=\"text-align: right;\">    16</td><td style=\"text-align: right;\">        1778.19 </td><td style=\"text-align: right;\">  0.2</td></tr>\n",
              "<tr><td>XGBoost_trainable_832a3402</td><td>RUNNING   </td><td>172.28.0.2:4300</td><td>depthwise    </td><td style=\"text-align: right;\">0.0314498</td><td style=\"text-align: right;\">0.892913</td><td style=\"text-align: right;\">          1</td><td style=\"text-align: right;\">    22</td><td style=\"text-align: right;\">        1018.61 </td><td style=\"text-align: right;\">  0.2</td></tr>\n",
              "</tbody>\n",
              "</table><br><br>"
            ],
            "text/plain": [
              "<IPython.core.display.HTML object>"
            ]
          },
          "metadata": {
            "tags": []
          }
        },
        {
          "output_type": "stream",
          "text": [
            "Result for XGBoost_trainable_83046f9c:\n",
            "  date: 2020-01-13_19-33-55\n",
            "  done: false\n",
            "  experiment_id: 7dfe5681a9894a5d89e85b61aeafc259\n",
            "  experiment_tag: 3_eta=0.063225,gamma=0.87817,grow_policy=depthwise,max_depth=4\n",
            "  hostname: 9991d65102f3\n",
            "  iterations_since_restore: 8\n",
            "  mean_accuracy: 0.2\n",
            "  node_ip: 172.28.0.2\n",
            "  pid: 5107\n",
            "  time_since_restore: 1464.5474498271942\n",
            "  time_this_iter_s: 180.48050451278687\n",
            "  time_total_s: 1958.6744718551636\n",
            "  timestamp: 1578944035\n",
            "  timesteps_since_restore: 0\n",
            "  training_iteration: 17\n",
            "  trial_id: 83046f9c\n",
            "  \n"
          ],
          "name": "stdout"
        },
        {
          "output_type": "display_data",
          "data": {
            "text/html": [
              "== Status ==<br>Memory usage on this node: 1.5/12.7 GiB<br>Using HyperBand: num_stopped=1 total_brackets=1\n",
              "Round #0:\n",
              "  Bracket(Max Size (n)=3, Milestone (r)=27, completed=18.6%): {PAUSED: 1, RUNNING: 2, TERMINATED: 1} <br>Resources requested: 2/2 CPUs, 0/0 GPUs, 0.0/6.1 GiB heap, 0.0/2.1 GiB objects<br>Result logdir: /root/ray_results/XGBoost_trainable<br>Number of trials: 4 (1 TERMINATED, 1 PAUSED, 2 RUNNING)<br><table>\n",
              "<thead>\n",
              "<tr><th>Trial name                </th><th>status    </th><th>loc            </th><th>grow_policy  </th><th style=\"text-align: right;\">      eta</th><th style=\"text-align: right;\">   gamma</th><th style=\"text-align: right;\">  max_depth</th><th style=\"text-align: right;\">  iter</th><th style=\"text-align: right;\">  total time (s)</th><th style=\"text-align: right;\">  acc</th></tr>\n",
              "</thead>\n",
              "<tbody>\n",
              "<tr><td>XGBoost_trainable_82b61090</td><td>TERMINATED</td><td>               </td><td>lossguide    </td><td style=\"text-align: right;\">0.0105708</td><td style=\"text-align: right;\">0.406448</td><td style=\"text-align: right;\">          8</td><td style=\"text-align: right;\">     9</td><td style=\"text-align: right;\">         770.978</td><td style=\"text-align: right;\">  0.2</td></tr>\n",
              "<tr><td>XGBoost_trainable_82dfcba6</td><td>PAUSED    </td><td>               </td><td>lossguide    </td><td style=\"text-align: right;\">0.0556884</td><td style=\"text-align: right;\">0.529778</td><td style=\"text-align: right;\">          8</td><td style=\"text-align: right;\">    27</td><td style=\"text-align: right;\">        3571.55 </td><td style=\"text-align: right;\">  0.2</td></tr>\n",
              "<tr><td>XGBoost_trainable_83046f9c</td><td>RUNNING   </td><td>172.28.0.2:5107</td><td>depthwise    </td><td style=\"text-align: right;\">0.0632253</td><td style=\"text-align: right;\">0.878173</td><td style=\"text-align: right;\">          4</td><td style=\"text-align: right;\">    17</td><td style=\"text-align: right;\">        1958.67 </td><td style=\"text-align: right;\">  0.2</td></tr>\n",
              "<tr><td>XGBoost_trainable_832a3402</td><td>RUNNING   </td><td>172.28.0.2:4300</td><td>depthwise    </td><td style=\"text-align: right;\">0.0314498</td><td style=\"text-align: right;\">0.892913</td><td style=\"text-align: right;\">          1</td><td style=\"text-align: right;\">    22</td><td style=\"text-align: right;\">        1018.61 </td><td style=\"text-align: right;\">  0.2</td></tr>\n",
              "</tbody>\n",
              "</table><br><br>"
            ],
            "text/plain": [
              "<IPython.core.display.HTML object>"
            ]
          },
          "metadata": {
            "tags": []
          }
        },
        {
          "output_type": "stream",
          "text": [
            "Result for XGBoost_trainable_832a3402:\n",
            "  date: 2020-01-13_19-34-03\n",
            "  done: false\n",
            "  experiment_id: dba50441a96149289476f25c4382c3e2\n",
            "  experiment_tag: 4_eta=0.03145,gamma=0.89291,grow_policy=depthwise,max_depth=1\n",
            "  hostname: 9991d65102f3\n",
            "  iterations_since_restore: 14\n",
            "  mean_accuracy: 0.2\n",
            "  node_ip: 172.28.0.2\n",
            "  pid: 4300\n",
            "  time_since_restore: 646.3369812965393\n",
            "  time_this_iter_s: 46.79213309288025\n",
            "  time_total_s: 1065.4031381607056\n",
            "  timestamp: 1578944043\n",
            "  timesteps_since_restore: 0\n",
            "  training_iteration: 23\n",
            "  trial_id: 832a3402\n",
            "  \n"
          ],
          "name": "stdout"
        },
        {
          "output_type": "display_data",
          "data": {
            "text/html": [
              "== Status ==<br>Memory usage on this node: 1.5/12.7 GiB<br>Using HyperBand: num_stopped=1 total_brackets=1\n",
              "Round #0:\n",
              "  Bracket(Max Size (n)=3, Milestone (r)=27, completed=18.8%): {PAUSED: 1, RUNNING: 2, TERMINATED: 1} <br>Resources requested: 2/2 CPUs, 0/0 GPUs, 0.0/6.1 GiB heap, 0.0/2.1 GiB objects<br>Result logdir: /root/ray_results/XGBoost_trainable<br>Number of trials: 4 (1 TERMINATED, 1 PAUSED, 2 RUNNING)<br><table>\n",
              "<thead>\n",
              "<tr><th>Trial name                </th><th>status    </th><th>loc            </th><th>grow_policy  </th><th style=\"text-align: right;\">      eta</th><th style=\"text-align: right;\">   gamma</th><th style=\"text-align: right;\">  max_depth</th><th style=\"text-align: right;\">  iter</th><th style=\"text-align: right;\">  total time (s)</th><th style=\"text-align: right;\">  acc</th></tr>\n",
              "</thead>\n",
              "<tbody>\n",
              "<tr><td>XGBoost_trainable_82b61090</td><td>TERMINATED</td><td>               </td><td>lossguide    </td><td style=\"text-align: right;\">0.0105708</td><td style=\"text-align: right;\">0.406448</td><td style=\"text-align: right;\">          8</td><td style=\"text-align: right;\">     9</td><td style=\"text-align: right;\">         770.978</td><td style=\"text-align: right;\">  0.2</td></tr>\n",
              "<tr><td>XGBoost_trainable_82dfcba6</td><td>PAUSED    </td><td>               </td><td>lossguide    </td><td style=\"text-align: right;\">0.0556884</td><td style=\"text-align: right;\">0.529778</td><td style=\"text-align: right;\">          8</td><td style=\"text-align: right;\">    27</td><td style=\"text-align: right;\">        3571.55 </td><td style=\"text-align: right;\">  0.2</td></tr>\n",
              "<tr><td>XGBoost_trainable_83046f9c</td><td>RUNNING   </td><td>172.28.0.2:5107</td><td>depthwise    </td><td style=\"text-align: right;\">0.0632253</td><td style=\"text-align: right;\">0.878173</td><td style=\"text-align: right;\">          4</td><td style=\"text-align: right;\">    17</td><td style=\"text-align: right;\">        1958.67 </td><td style=\"text-align: right;\">  0.2</td></tr>\n",
              "<tr><td>XGBoost_trainable_832a3402</td><td>RUNNING   </td><td>172.28.0.2:4300</td><td>depthwise    </td><td style=\"text-align: right;\">0.0314498</td><td style=\"text-align: right;\">0.892913</td><td style=\"text-align: right;\">          1</td><td style=\"text-align: right;\">    23</td><td style=\"text-align: right;\">        1065.4  </td><td style=\"text-align: right;\">  0.2</td></tr>\n",
              "</tbody>\n",
              "</table><br><br>"
            ],
            "text/plain": [
              "<IPython.core.display.HTML object>"
            ]
          },
          "metadata": {
            "tags": []
          }
        },
        {
          "output_type": "stream",
          "text": [
            "Result for XGBoost_trainable_832a3402:\n",
            "  date: 2020-01-13_19-34-50\n",
            "  done: false\n",
            "  experiment_id: dba50441a96149289476f25c4382c3e2\n",
            "  experiment_tag: 4_eta=0.03145,gamma=0.89291,grow_policy=depthwise,max_depth=1\n",
            "  hostname: 9991d65102f3\n",
            "  iterations_since_restore: 15\n",
            "  mean_accuracy: 0.2\n",
            "  node_ip: 172.28.0.2\n",
            "  pid: 4300\n",
            "  time_since_restore: 692.9842190742493\n",
            "  time_this_iter_s: 46.64723777770996\n",
            "  time_total_s: 1112.0503759384155\n",
            "  timestamp: 1578944090\n",
            "  timesteps_since_restore: 0\n",
            "  training_iteration: 24\n",
            "  trial_id: 832a3402\n",
            "  \n"
          ],
          "name": "stdout"
        },
        {
          "output_type": "display_data",
          "data": {
            "text/html": [
              "== Status ==<br>Memory usage on this node: 1.5/12.7 GiB<br>Using HyperBand: num_stopped=1 total_brackets=1\n",
              "Round #0:\n",
              "  Bracket(Max Size (n)=3, Milestone (r)=27, completed=19.1%): {PAUSED: 1, RUNNING: 2, TERMINATED: 1} <br>Resources requested: 2/2 CPUs, 0/0 GPUs, 0.0/6.1 GiB heap, 0.0/2.1 GiB objects<br>Result logdir: /root/ray_results/XGBoost_trainable<br>Number of trials: 4 (1 TERMINATED, 1 PAUSED, 2 RUNNING)<br><table>\n",
              "<thead>\n",
              "<tr><th>Trial name                </th><th>status    </th><th>loc            </th><th>grow_policy  </th><th style=\"text-align: right;\">      eta</th><th style=\"text-align: right;\">   gamma</th><th style=\"text-align: right;\">  max_depth</th><th style=\"text-align: right;\">  iter</th><th style=\"text-align: right;\">  total time (s)</th><th style=\"text-align: right;\">  acc</th></tr>\n",
              "</thead>\n",
              "<tbody>\n",
              "<tr><td>XGBoost_trainable_82b61090</td><td>TERMINATED</td><td>               </td><td>lossguide    </td><td style=\"text-align: right;\">0.0105708</td><td style=\"text-align: right;\">0.406448</td><td style=\"text-align: right;\">          8</td><td style=\"text-align: right;\">     9</td><td style=\"text-align: right;\">         770.978</td><td style=\"text-align: right;\">  0.2</td></tr>\n",
              "<tr><td>XGBoost_trainable_82dfcba6</td><td>PAUSED    </td><td>               </td><td>lossguide    </td><td style=\"text-align: right;\">0.0556884</td><td style=\"text-align: right;\">0.529778</td><td style=\"text-align: right;\">          8</td><td style=\"text-align: right;\">    27</td><td style=\"text-align: right;\">        3571.55 </td><td style=\"text-align: right;\">  0.2</td></tr>\n",
              "<tr><td>XGBoost_trainable_83046f9c</td><td>RUNNING   </td><td>172.28.0.2:5107</td><td>depthwise    </td><td style=\"text-align: right;\">0.0632253</td><td style=\"text-align: right;\">0.878173</td><td style=\"text-align: right;\">          4</td><td style=\"text-align: right;\">    17</td><td style=\"text-align: right;\">        1958.67 </td><td style=\"text-align: right;\">  0.2</td></tr>\n",
              "<tr><td>XGBoost_trainable_832a3402</td><td>RUNNING   </td><td>172.28.0.2:4300</td><td>depthwise    </td><td style=\"text-align: right;\">0.0314498</td><td style=\"text-align: right;\">0.892913</td><td style=\"text-align: right;\">          1</td><td style=\"text-align: right;\">    24</td><td style=\"text-align: right;\">        1112.05 </td><td style=\"text-align: right;\">  0.2</td></tr>\n",
              "</tbody>\n",
              "</table><br><br>"
            ],
            "text/plain": [
              "<IPython.core.display.HTML object>"
            ]
          },
          "metadata": {
            "tags": []
          }
        },
        {
          "output_type": "stream",
          "text": [
            "Result for XGBoost_trainable_832a3402:\n",
            "  date: 2020-01-13_19-35-36\n",
            "  done: false\n",
            "  experiment_id: dba50441a96149289476f25c4382c3e2\n",
            "  experiment_tag: 4_eta=0.03145,gamma=0.89291,grow_policy=depthwise,max_depth=1\n",
            "  hostname: 9991d65102f3\n",
            "  iterations_since_restore: 16\n",
            "  mean_accuracy: 0.2\n",
            "  node_ip: 172.28.0.2\n",
            "  pid: 4300\n",
            "  time_since_restore: 739.023885011673\n",
            "  time_this_iter_s: 46.039665937423706\n",
            "  time_total_s: 1158.0900418758392\n",
            "  timestamp: 1578944136\n",
            "  timesteps_since_restore: 0\n",
            "  training_iteration: 25\n",
            "  trial_id: 832a3402\n",
            "  \n"
          ],
          "name": "stdout"
        },
        {
          "output_type": "display_data",
          "data": {
            "text/html": [
              "== Status ==<br>Memory usage on this node: 1.5/12.7 GiB<br>Using HyperBand: num_stopped=1 total_brackets=1\n",
              "Round #0:\n",
              "  Bracket(Max Size (n)=3, Milestone (r)=27, completed=19.3%): {PAUSED: 1, RUNNING: 2, TERMINATED: 1} <br>Resources requested: 2/2 CPUs, 0/0 GPUs, 0.0/6.1 GiB heap, 0.0/2.1 GiB objects<br>Result logdir: /root/ray_results/XGBoost_trainable<br>Number of trials: 4 (1 TERMINATED, 1 PAUSED, 2 RUNNING)<br><table>\n",
              "<thead>\n",
              "<tr><th>Trial name                </th><th>status    </th><th>loc            </th><th>grow_policy  </th><th style=\"text-align: right;\">      eta</th><th style=\"text-align: right;\">   gamma</th><th style=\"text-align: right;\">  max_depth</th><th style=\"text-align: right;\">  iter</th><th style=\"text-align: right;\">  total time (s)</th><th style=\"text-align: right;\">  acc</th></tr>\n",
              "</thead>\n",
              "<tbody>\n",
              "<tr><td>XGBoost_trainable_82b61090</td><td>TERMINATED</td><td>               </td><td>lossguide    </td><td style=\"text-align: right;\">0.0105708</td><td style=\"text-align: right;\">0.406448</td><td style=\"text-align: right;\">          8</td><td style=\"text-align: right;\">     9</td><td style=\"text-align: right;\">         770.978</td><td style=\"text-align: right;\">  0.2</td></tr>\n",
              "<tr><td>XGBoost_trainable_82dfcba6</td><td>PAUSED    </td><td>               </td><td>lossguide    </td><td style=\"text-align: right;\">0.0556884</td><td style=\"text-align: right;\">0.529778</td><td style=\"text-align: right;\">          8</td><td style=\"text-align: right;\">    27</td><td style=\"text-align: right;\">        3571.55 </td><td style=\"text-align: right;\">  0.2</td></tr>\n",
              "<tr><td>XGBoost_trainable_83046f9c</td><td>RUNNING   </td><td>172.28.0.2:5107</td><td>depthwise    </td><td style=\"text-align: right;\">0.0632253</td><td style=\"text-align: right;\">0.878173</td><td style=\"text-align: right;\">          4</td><td style=\"text-align: right;\">    17</td><td style=\"text-align: right;\">        1958.67 </td><td style=\"text-align: right;\">  0.2</td></tr>\n",
              "<tr><td>XGBoost_trainable_832a3402</td><td>RUNNING   </td><td>172.28.0.2:4300</td><td>depthwise    </td><td style=\"text-align: right;\">0.0314498</td><td style=\"text-align: right;\">0.892913</td><td style=\"text-align: right;\">          1</td><td style=\"text-align: right;\">    25</td><td style=\"text-align: right;\">        1158.09 </td><td style=\"text-align: right;\">  0.2</td></tr>\n",
              "</tbody>\n",
              "</table><br><br>"
            ],
            "text/plain": [
              "<IPython.core.display.HTML object>"
            ]
          },
          "metadata": {
            "tags": []
          }
        },
        {
          "output_type": "stream",
          "text": [
            "Result for XGBoost_trainable_832a3402:\n",
            "  date: 2020-01-13_19-36-23\n",
            "  done: false\n",
            "  experiment_id: dba50441a96149289476f25c4382c3e2\n",
            "  experiment_tag: 4_eta=0.03145,gamma=0.89291,grow_policy=depthwise,max_depth=1\n",
            "  hostname: 9991d65102f3\n",
            "  iterations_since_restore: 17\n",
            "  mean_accuracy: 0.2\n",
            "  node_ip: 172.28.0.2\n",
            "  pid: 4300\n",
            "  time_since_restore: 785.7118928432465\n",
            "  time_this_iter_s: 46.688007831573486\n",
            "  time_total_s: 1204.7780497074127\n",
            "  timestamp: 1578944183\n",
            "  timesteps_since_restore: 0\n",
            "  training_iteration: 26\n",
            "  trial_id: 832a3402\n",
            "  \n"
          ],
          "name": "stdout"
        },
        {
          "output_type": "display_data",
          "data": {
            "text/html": [
              "== Status ==<br>Memory usage on this node: 1.5/12.7 GiB<br>Using HyperBand: num_stopped=1 total_brackets=1\n",
              "Round #0:\n",
              "  Bracket(Max Size (n)=3, Milestone (r)=27, completed=19.6%): {PAUSED: 1, RUNNING: 2, TERMINATED: 1} <br>Resources requested: 2/2 CPUs, 0/0 GPUs, 0.0/6.1 GiB heap, 0.0/2.1 GiB objects<br>Result logdir: /root/ray_results/XGBoost_trainable<br>Number of trials: 4 (1 TERMINATED, 1 PAUSED, 2 RUNNING)<br><table>\n",
              "<thead>\n",
              "<tr><th>Trial name                </th><th>status    </th><th>loc            </th><th>grow_policy  </th><th style=\"text-align: right;\">      eta</th><th style=\"text-align: right;\">   gamma</th><th style=\"text-align: right;\">  max_depth</th><th style=\"text-align: right;\">  iter</th><th style=\"text-align: right;\">  total time (s)</th><th style=\"text-align: right;\">  acc</th></tr>\n",
              "</thead>\n",
              "<tbody>\n",
              "<tr><td>XGBoost_trainable_82b61090</td><td>TERMINATED</td><td>               </td><td>lossguide    </td><td style=\"text-align: right;\">0.0105708</td><td style=\"text-align: right;\">0.406448</td><td style=\"text-align: right;\">          8</td><td style=\"text-align: right;\">     9</td><td style=\"text-align: right;\">         770.978</td><td style=\"text-align: right;\">  0.2</td></tr>\n",
              "<tr><td>XGBoost_trainable_82dfcba6</td><td>PAUSED    </td><td>               </td><td>lossguide    </td><td style=\"text-align: right;\">0.0556884</td><td style=\"text-align: right;\">0.529778</td><td style=\"text-align: right;\">          8</td><td style=\"text-align: right;\">    27</td><td style=\"text-align: right;\">        3571.55 </td><td style=\"text-align: right;\">  0.2</td></tr>\n",
              "<tr><td>XGBoost_trainable_83046f9c</td><td>RUNNING   </td><td>172.28.0.2:5107</td><td>depthwise    </td><td style=\"text-align: right;\">0.0632253</td><td style=\"text-align: right;\">0.878173</td><td style=\"text-align: right;\">          4</td><td style=\"text-align: right;\">    17</td><td style=\"text-align: right;\">        1958.67 </td><td style=\"text-align: right;\">  0.2</td></tr>\n",
              "<tr><td>XGBoost_trainable_832a3402</td><td>RUNNING   </td><td>172.28.0.2:4300</td><td>depthwise    </td><td style=\"text-align: right;\">0.0314498</td><td style=\"text-align: right;\">0.892913</td><td style=\"text-align: right;\">          1</td><td style=\"text-align: right;\">    26</td><td style=\"text-align: right;\">        1204.78 </td><td style=\"text-align: right;\">  0.2</td></tr>\n",
              "</tbody>\n",
              "</table><br><br>"
            ],
            "text/plain": [
              "<IPython.core.display.HTML object>"
            ]
          },
          "metadata": {
            "tags": []
          }
        },
        {
          "output_type": "stream",
          "text": [
            "Result for XGBoost_trainable_83046f9c:\n",
            "  date: 2020-01-13_19-37-00\n",
            "  done: false\n",
            "  experiment_id: 7dfe5681a9894a5d89e85b61aeafc259\n",
            "  experiment_tag: 3_eta=0.063225,gamma=0.87817,grow_policy=depthwise,max_depth=4\n",
            "  hostname: 9991d65102f3\n",
            "  iterations_since_restore: 9\n",
            "  mean_accuracy: 0.2\n",
            "  node_ip: 172.28.0.2\n",
            "  pid: 5107\n",
            "  time_since_restore: 1649.0495085716248\n",
            "  time_this_iter_s: 184.50205874443054\n",
            "  time_total_s: 2143.176530599594\n",
            "  timestamp: 1578944220\n",
            "  timesteps_since_restore: 0\n",
            "  training_iteration: 18\n",
            "  trial_id: 83046f9c\n",
            "  \n"
          ],
          "name": "stdout"
        },
        {
          "output_type": "display_data",
          "data": {
            "text/html": [
              "== Status ==<br>Memory usage on this node: 1.5/12.7 GiB<br>Using HyperBand: num_stopped=1 total_brackets=1\n",
              "Round #0:\n",
              "  Bracket(Max Size (n)=3, Milestone (r)=27, completed=19.8%): {PAUSED: 1, RUNNING: 2, TERMINATED: 1} <br>Resources requested: 2/2 CPUs, 0/0 GPUs, 0.0/6.1 GiB heap, 0.0/2.1 GiB objects<br>Result logdir: /root/ray_results/XGBoost_trainable<br>Number of trials: 4 (1 TERMINATED, 1 PAUSED, 2 RUNNING)<br><table>\n",
              "<thead>\n",
              "<tr><th>Trial name                </th><th>status    </th><th>loc            </th><th>grow_policy  </th><th style=\"text-align: right;\">      eta</th><th style=\"text-align: right;\">   gamma</th><th style=\"text-align: right;\">  max_depth</th><th style=\"text-align: right;\">  iter</th><th style=\"text-align: right;\">  total time (s)</th><th style=\"text-align: right;\">  acc</th></tr>\n",
              "</thead>\n",
              "<tbody>\n",
              "<tr><td>XGBoost_trainable_82b61090</td><td>TERMINATED</td><td>               </td><td>lossguide    </td><td style=\"text-align: right;\">0.0105708</td><td style=\"text-align: right;\">0.406448</td><td style=\"text-align: right;\">          8</td><td style=\"text-align: right;\">     9</td><td style=\"text-align: right;\">         770.978</td><td style=\"text-align: right;\">  0.2</td></tr>\n",
              "<tr><td>XGBoost_trainable_82dfcba6</td><td>PAUSED    </td><td>               </td><td>lossguide    </td><td style=\"text-align: right;\">0.0556884</td><td style=\"text-align: right;\">0.529778</td><td style=\"text-align: right;\">          8</td><td style=\"text-align: right;\">    27</td><td style=\"text-align: right;\">        3571.55 </td><td style=\"text-align: right;\">  0.2</td></tr>\n",
              "<tr><td>XGBoost_trainable_83046f9c</td><td>RUNNING   </td><td>172.28.0.2:5107</td><td>depthwise    </td><td style=\"text-align: right;\">0.0632253</td><td style=\"text-align: right;\">0.878173</td><td style=\"text-align: right;\">          4</td><td style=\"text-align: right;\">    18</td><td style=\"text-align: right;\">        2143.18 </td><td style=\"text-align: right;\">  0.2</td></tr>\n",
              "<tr><td>XGBoost_trainable_832a3402</td><td>RUNNING   </td><td>172.28.0.2:4300</td><td>depthwise    </td><td style=\"text-align: right;\">0.0314498</td><td style=\"text-align: right;\">0.892913</td><td style=\"text-align: right;\">          1</td><td style=\"text-align: right;\">    26</td><td style=\"text-align: right;\">        1204.78 </td><td style=\"text-align: right;\">  0.2</td></tr>\n",
              "</tbody>\n",
              "</table><br><br>"
            ],
            "text/plain": [
              "<IPython.core.display.HTML object>"
            ]
          },
          "metadata": {
            "tags": []
          }
        },
        {
          "output_type": "stream",
          "text": [
            "Result for XGBoost_trainable_832a3402:\n",
            "  date: 2020-01-13_19-37-09\n",
            "  done: false\n",
            "  experiment_id: dba50441a96149289476f25c4382c3e2\n",
            "  experiment_tag: 4_eta=0.03145,gamma=0.89291,grow_policy=depthwise,max_depth=1\n",
            "  hostname: 9991d65102f3\n",
            "  iterations_since_restore: 18\n",
            "  mean_accuracy: 0.2\n",
            "  node_ip: 172.28.0.2\n",
            "  pid: 4300\n",
            "  time_since_restore: 832.5995395183563\n",
            "  time_this_iter_s: 46.88764667510986\n",
            "  time_total_s: 1251.6656963825226\n",
            "  timestamp: 1578944229\n",
            "  timesteps_since_restore: 0\n",
            "  training_iteration: 27\n",
            "  trial_id: 832a3402\n",
            "  \n"
          ],
          "name": "stdout"
        },
        {
          "output_type": "display_data",
          "data": {
            "text/html": [
              "== Status ==<br>Memory usage on this node: 1.5/12.7 GiB<br>Using HyperBand: num_stopped=1 total_brackets=1\n",
              "Round #0:\n",
              "  Bracket(Max Size (n)=3, Milestone (r)=27, completed=20.0%): {PAUSED: 2, RUNNING: 1, TERMINATED: 1} <br>Resources requested: 1/2 CPUs, 0/0 GPUs, 0.0/6.1 GiB heap, 0.0/2.1 GiB objects<br>Result logdir: /root/ray_results/XGBoost_trainable<br>Number of trials: 4 (1 TERMINATED, 2 PAUSED, 1 RUNNING)<br><table>\n",
              "<thead>\n",
              "<tr><th>Trial name                </th><th>status    </th><th>loc            </th><th>grow_policy  </th><th style=\"text-align: right;\">      eta</th><th style=\"text-align: right;\">   gamma</th><th style=\"text-align: right;\">  max_depth</th><th style=\"text-align: right;\">  iter</th><th style=\"text-align: right;\">  total time (s)</th><th style=\"text-align: right;\">  acc</th></tr>\n",
              "</thead>\n",
              "<tbody>\n",
              "<tr><td>XGBoost_trainable_82b61090</td><td>TERMINATED</td><td>               </td><td>lossguide    </td><td style=\"text-align: right;\">0.0105708</td><td style=\"text-align: right;\">0.406448</td><td style=\"text-align: right;\">          8</td><td style=\"text-align: right;\">     9</td><td style=\"text-align: right;\">         770.978</td><td style=\"text-align: right;\">  0.2</td></tr>\n",
              "<tr><td>XGBoost_trainable_82dfcba6</td><td>PAUSED    </td><td>               </td><td>lossguide    </td><td style=\"text-align: right;\">0.0556884</td><td style=\"text-align: right;\">0.529778</td><td style=\"text-align: right;\">          8</td><td style=\"text-align: right;\">    27</td><td style=\"text-align: right;\">        3571.55 </td><td style=\"text-align: right;\">  0.2</td></tr>\n",
              "<tr><td>XGBoost_trainable_83046f9c</td><td>RUNNING   </td><td>172.28.0.2:5107</td><td>depthwise    </td><td style=\"text-align: right;\">0.0632253</td><td style=\"text-align: right;\">0.878173</td><td style=\"text-align: right;\">          4</td><td style=\"text-align: right;\">    18</td><td style=\"text-align: right;\">        2143.18 </td><td style=\"text-align: right;\">  0.2</td></tr>\n",
              "<tr><td>XGBoost_trainable_832a3402</td><td>PAUSED    </td><td>               </td><td>depthwise    </td><td style=\"text-align: right;\">0.0314498</td><td style=\"text-align: right;\">0.892913</td><td style=\"text-align: right;\">          1</td><td style=\"text-align: right;\">    27</td><td style=\"text-align: right;\">        1251.67 </td><td style=\"text-align: right;\">  0.2</td></tr>\n",
              "</tbody>\n",
              "</table><br><br>"
            ],
            "text/plain": [
              "<IPython.core.display.HTML object>"
            ]
          },
          "metadata": {
            "tags": []
          }
        },
        {
          "output_type": "stream",
          "text": [
            "Result for XGBoost_trainable_83046f9c:\n",
            "  date: 2020-01-13_19-38-51\n",
            "  done: false\n",
            "  experiment_id: 7dfe5681a9894a5d89e85b61aeafc259\n",
            "  experiment_tag: 3_eta=0.063225,gamma=0.87817,grow_policy=depthwise,max_depth=4\n",
            "  hostname: 9991d65102f3\n",
            "  iterations_since_restore: 10\n",
            "  mean_accuracy: 0.2\n",
            "  node_ip: 172.28.0.2\n",
            "  pid: 5107\n",
            "  time_since_restore: 1760.1855430603027\n",
            "  time_this_iter_s: 111.13603448867798\n",
            "  time_total_s: 2254.312565088272\n",
            "  timestamp: 1578944331\n",
            "  timesteps_since_restore: 0\n",
            "  training_iteration: 19\n",
            "  trial_id: 83046f9c\n",
            "  \n"
          ],
          "name": "stdout"
        },
        {
          "output_type": "display_data",
          "data": {
            "text/html": [
              "== Status ==<br>Memory usage on this node: 1.5/12.7 GiB<br>Using HyperBand: num_stopped=1 total_brackets=1\n",
              "Round #0:\n",
              "  Bracket(Max Size (n)=3, Milestone (r)=27, completed=20.3%): {PAUSED: 2, RUNNING: 1, TERMINATED: 1} <br>Resources requested: 1/2 CPUs, 0/0 GPUs, 0.0/6.1 GiB heap, 0.0/2.1 GiB objects<br>Result logdir: /root/ray_results/XGBoost_trainable<br>Number of trials: 4 (1 TERMINATED, 2 PAUSED, 1 RUNNING)<br><table>\n",
              "<thead>\n",
              "<tr><th>Trial name                </th><th>status    </th><th>loc            </th><th>grow_policy  </th><th style=\"text-align: right;\">      eta</th><th style=\"text-align: right;\">   gamma</th><th style=\"text-align: right;\">  max_depth</th><th style=\"text-align: right;\">  iter</th><th style=\"text-align: right;\">  total time (s)</th><th style=\"text-align: right;\">  acc</th></tr>\n",
              "</thead>\n",
              "<tbody>\n",
              "<tr><td>XGBoost_trainable_82b61090</td><td>TERMINATED</td><td>               </td><td>lossguide    </td><td style=\"text-align: right;\">0.0105708</td><td style=\"text-align: right;\">0.406448</td><td style=\"text-align: right;\">          8</td><td style=\"text-align: right;\">     9</td><td style=\"text-align: right;\">         770.978</td><td style=\"text-align: right;\">  0.2</td></tr>\n",
              "<tr><td>XGBoost_trainable_82dfcba6</td><td>PAUSED    </td><td>               </td><td>lossguide    </td><td style=\"text-align: right;\">0.0556884</td><td style=\"text-align: right;\">0.529778</td><td style=\"text-align: right;\">          8</td><td style=\"text-align: right;\">    27</td><td style=\"text-align: right;\">        3571.55 </td><td style=\"text-align: right;\">  0.2</td></tr>\n",
              "<tr><td>XGBoost_trainable_83046f9c</td><td>RUNNING   </td><td>172.28.0.2:5107</td><td>depthwise    </td><td style=\"text-align: right;\">0.0632253</td><td style=\"text-align: right;\">0.878173</td><td style=\"text-align: right;\">          4</td><td style=\"text-align: right;\">    19</td><td style=\"text-align: right;\">        2254.31 </td><td style=\"text-align: right;\">  0.2</td></tr>\n",
              "<tr><td>XGBoost_trainable_832a3402</td><td>PAUSED    </td><td>               </td><td>depthwise    </td><td style=\"text-align: right;\">0.0314498</td><td style=\"text-align: right;\">0.892913</td><td style=\"text-align: right;\">          1</td><td style=\"text-align: right;\">    27</td><td style=\"text-align: right;\">        1251.67 </td><td style=\"text-align: right;\">  0.2</td></tr>\n",
              "</tbody>\n",
              "</table><br><br>"
            ],
            "text/plain": [
              "<IPython.core.display.HTML object>"
            ]
          },
          "metadata": {
            "tags": []
          }
        },
        {
          "output_type": "stream",
          "text": [
            "Result for XGBoost_trainable_83046f9c:\n",
            "  date: 2020-01-13_19-40-38\n",
            "  done: false\n",
            "  experiment_id: 7dfe5681a9894a5d89e85b61aeafc259\n",
            "  experiment_tag: 3_eta=0.063225,gamma=0.87817,grow_policy=depthwise,max_depth=4\n",
            "  hostname: 9991d65102f3\n",
            "  iterations_since_restore: 11\n",
            "  mean_accuracy: 0.2\n",
            "  node_ip: 172.28.0.2\n",
            "  pid: 5107\n",
            "  time_since_restore: 1867.0544834136963\n",
            "  time_this_iter_s: 106.86894035339355\n",
            "  time_total_s: 2361.1815054416656\n",
            "  timestamp: 1578944438\n",
            "  timesteps_since_restore: 0\n",
            "  training_iteration: 20\n",
            "  trial_id: 83046f9c\n",
            "  \n"
          ],
          "name": "stdout"
        },
        {
          "output_type": "display_data",
          "data": {
            "text/html": [
              "== Status ==<br>Memory usage on this node: 1.5/12.7 GiB<br>Using HyperBand: num_stopped=1 total_brackets=1\n",
              "Round #0:\n",
              "  Bracket(Max Size (n)=3, Milestone (r)=27, completed=20.5%): {PAUSED: 2, RUNNING: 1, TERMINATED: 1} <br>Resources requested: 1/2 CPUs, 0/0 GPUs, 0.0/6.1 GiB heap, 0.0/2.1 GiB objects<br>Result logdir: /root/ray_results/XGBoost_trainable<br>Number of trials: 4 (1 TERMINATED, 2 PAUSED, 1 RUNNING)<br><table>\n",
              "<thead>\n",
              "<tr><th>Trial name                </th><th>status    </th><th>loc            </th><th>grow_policy  </th><th style=\"text-align: right;\">      eta</th><th style=\"text-align: right;\">   gamma</th><th style=\"text-align: right;\">  max_depth</th><th style=\"text-align: right;\">  iter</th><th style=\"text-align: right;\">  total time (s)</th><th style=\"text-align: right;\">  acc</th></tr>\n",
              "</thead>\n",
              "<tbody>\n",
              "<tr><td>XGBoost_trainable_82b61090</td><td>TERMINATED</td><td>               </td><td>lossguide    </td><td style=\"text-align: right;\">0.0105708</td><td style=\"text-align: right;\">0.406448</td><td style=\"text-align: right;\">          8</td><td style=\"text-align: right;\">     9</td><td style=\"text-align: right;\">         770.978</td><td style=\"text-align: right;\">  0.2</td></tr>\n",
              "<tr><td>XGBoost_trainable_82dfcba6</td><td>PAUSED    </td><td>               </td><td>lossguide    </td><td style=\"text-align: right;\">0.0556884</td><td style=\"text-align: right;\">0.529778</td><td style=\"text-align: right;\">          8</td><td style=\"text-align: right;\">    27</td><td style=\"text-align: right;\">        3571.55 </td><td style=\"text-align: right;\">  0.2</td></tr>\n",
              "<tr><td>XGBoost_trainable_83046f9c</td><td>RUNNING   </td><td>172.28.0.2:5107</td><td>depthwise    </td><td style=\"text-align: right;\">0.0632253</td><td style=\"text-align: right;\">0.878173</td><td style=\"text-align: right;\">          4</td><td style=\"text-align: right;\">    20</td><td style=\"text-align: right;\">        2361.18 </td><td style=\"text-align: right;\">  0.2</td></tr>\n",
              "<tr><td>XGBoost_trainable_832a3402</td><td>PAUSED    </td><td>               </td><td>depthwise    </td><td style=\"text-align: right;\">0.0314498</td><td style=\"text-align: right;\">0.892913</td><td style=\"text-align: right;\">          1</td><td style=\"text-align: right;\">    27</td><td style=\"text-align: right;\">        1251.67 </td><td style=\"text-align: right;\">  0.2</td></tr>\n",
              "</tbody>\n",
              "</table><br><br>"
            ],
            "text/plain": [
              "<IPython.core.display.HTML object>"
            ]
          },
          "metadata": {
            "tags": []
          }
        },
        {
          "output_type": "stream",
          "text": [
            "Result for XGBoost_trainable_83046f9c:\n",
            "  date: 2020-01-13_19-42-25\n",
            "  done: false\n",
            "  experiment_id: 7dfe5681a9894a5d89e85b61aeafc259\n",
            "  experiment_tag: 3_eta=0.063225,gamma=0.87817,grow_policy=depthwise,max_depth=4\n",
            "  hostname: 9991d65102f3\n",
            "  iterations_since_restore: 12\n",
            "  mean_accuracy: 0.2\n",
            "  node_ip: 172.28.0.2\n",
            "  pid: 5107\n",
            "  time_since_restore: 1974.2390775680542\n",
            "  time_this_iter_s: 107.18459415435791\n",
            "  time_total_s: 2468.3660995960236\n",
            "  timestamp: 1578944545\n",
            "  timesteps_since_restore: 0\n",
            "  training_iteration: 21\n",
            "  trial_id: 83046f9c\n",
            "  \n"
          ],
          "name": "stdout"
        },
        {
          "output_type": "display_data",
          "data": {
            "text/html": [
              "== Status ==<br>Memory usage on this node: 1.5/12.7 GiB<br>Using HyperBand: num_stopped=1 total_brackets=1\n",
              "Round #0:\n",
              "  Bracket(Max Size (n)=3, Milestone (r)=27, completed=20.8%): {PAUSED: 2, RUNNING: 1, TERMINATED: 1} <br>Resources requested: 1/2 CPUs, 0/0 GPUs, 0.0/6.1 GiB heap, 0.0/2.1 GiB objects<br>Result logdir: /root/ray_results/XGBoost_trainable<br>Number of trials: 4 (1 TERMINATED, 2 PAUSED, 1 RUNNING)<br><table>\n",
              "<thead>\n",
              "<tr><th>Trial name                </th><th>status    </th><th>loc            </th><th>grow_policy  </th><th style=\"text-align: right;\">      eta</th><th style=\"text-align: right;\">   gamma</th><th style=\"text-align: right;\">  max_depth</th><th style=\"text-align: right;\">  iter</th><th style=\"text-align: right;\">  total time (s)</th><th style=\"text-align: right;\">  acc</th></tr>\n",
              "</thead>\n",
              "<tbody>\n",
              "<tr><td>XGBoost_trainable_82b61090</td><td>TERMINATED</td><td>               </td><td>lossguide    </td><td style=\"text-align: right;\">0.0105708</td><td style=\"text-align: right;\">0.406448</td><td style=\"text-align: right;\">          8</td><td style=\"text-align: right;\">     9</td><td style=\"text-align: right;\">         770.978</td><td style=\"text-align: right;\">  0.2</td></tr>\n",
              "<tr><td>XGBoost_trainable_82dfcba6</td><td>PAUSED    </td><td>               </td><td>lossguide    </td><td style=\"text-align: right;\">0.0556884</td><td style=\"text-align: right;\">0.529778</td><td style=\"text-align: right;\">          8</td><td style=\"text-align: right;\">    27</td><td style=\"text-align: right;\">        3571.55 </td><td style=\"text-align: right;\">  0.2</td></tr>\n",
              "<tr><td>XGBoost_trainable_83046f9c</td><td>RUNNING   </td><td>172.28.0.2:5107</td><td>depthwise    </td><td style=\"text-align: right;\">0.0632253</td><td style=\"text-align: right;\">0.878173</td><td style=\"text-align: right;\">          4</td><td style=\"text-align: right;\">    21</td><td style=\"text-align: right;\">        2468.37 </td><td style=\"text-align: right;\">  0.2</td></tr>\n",
              "<tr><td>XGBoost_trainable_832a3402</td><td>PAUSED    </td><td>               </td><td>depthwise    </td><td style=\"text-align: right;\">0.0314498</td><td style=\"text-align: right;\">0.892913</td><td style=\"text-align: right;\">          1</td><td style=\"text-align: right;\">    27</td><td style=\"text-align: right;\">        1251.67 </td><td style=\"text-align: right;\">  0.2</td></tr>\n",
              "</tbody>\n",
              "</table><br><br>"
            ],
            "text/plain": [
              "<IPython.core.display.HTML object>"
            ]
          },
          "metadata": {
            "tags": []
          }
        },
        {
          "output_type": "stream",
          "text": [
            "Result for XGBoost_trainable_83046f9c:\n",
            "  date: 2020-01-13_19-44-13\n",
            "  done: false\n",
            "  experiment_id: 7dfe5681a9894a5d89e85b61aeafc259\n",
            "  experiment_tag: 3_eta=0.063225,gamma=0.87817,grow_policy=depthwise,max_depth=4\n",
            "  hostname: 9991d65102f3\n",
            "  iterations_since_restore: 13\n",
            "  mean_accuracy: 0.2\n",
            "  node_ip: 172.28.0.2\n",
            "  pid: 5107\n",
            "  time_since_restore: 2081.830894947052\n",
            "  time_this_iter_s: 107.5918173789978\n",
            "  time_total_s: 2575.9579169750214\n",
            "  timestamp: 1578944653\n",
            "  timesteps_since_restore: 0\n",
            "  training_iteration: 22\n",
            "  trial_id: 83046f9c\n",
            "  \n"
          ],
          "name": "stdout"
        },
        {
          "output_type": "display_data",
          "data": {
            "text/html": [
              "== Status ==<br>Memory usage on this node: 1.5/12.7 GiB<br>Using HyperBand: num_stopped=1 total_brackets=1\n",
              "Round #0:\n",
              "  Bracket(Max Size (n)=3, Milestone (r)=27, completed=21.0%): {PAUSED: 2, RUNNING: 1, TERMINATED: 1} <br>Resources requested: 1/2 CPUs, 0/0 GPUs, 0.0/6.1 GiB heap, 0.0/2.1 GiB objects<br>Result logdir: /root/ray_results/XGBoost_trainable<br>Number of trials: 4 (1 TERMINATED, 2 PAUSED, 1 RUNNING)<br><table>\n",
              "<thead>\n",
              "<tr><th>Trial name                </th><th>status    </th><th>loc            </th><th>grow_policy  </th><th style=\"text-align: right;\">      eta</th><th style=\"text-align: right;\">   gamma</th><th style=\"text-align: right;\">  max_depth</th><th style=\"text-align: right;\">  iter</th><th style=\"text-align: right;\">  total time (s)</th><th style=\"text-align: right;\">  acc</th></tr>\n",
              "</thead>\n",
              "<tbody>\n",
              "<tr><td>XGBoost_trainable_82b61090</td><td>TERMINATED</td><td>               </td><td>lossguide    </td><td style=\"text-align: right;\">0.0105708</td><td style=\"text-align: right;\">0.406448</td><td style=\"text-align: right;\">          8</td><td style=\"text-align: right;\">     9</td><td style=\"text-align: right;\">         770.978</td><td style=\"text-align: right;\">  0.2</td></tr>\n",
              "<tr><td>XGBoost_trainable_82dfcba6</td><td>PAUSED    </td><td>               </td><td>lossguide    </td><td style=\"text-align: right;\">0.0556884</td><td style=\"text-align: right;\">0.529778</td><td style=\"text-align: right;\">          8</td><td style=\"text-align: right;\">    27</td><td style=\"text-align: right;\">        3571.55 </td><td style=\"text-align: right;\">  0.2</td></tr>\n",
              "<tr><td>XGBoost_trainable_83046f9c</td><td>RUNNING   </td><td>172.28.0.2:5107</td><td>depthwise    </td><td style=\"text-align: right;\">0.0632253</td><td style=\"text-align: right;\">0.878173</td><td style=\"text-align: right;\">          4</td><td style=\"text-align: right;\">    22</td><td style=\"text-align: right;\">        2575.96 </td><td style=\"text-align: right;\">  0.2</td></tr>\n",
              "<tr><td>XGBoost_trainable_832a3402</td><td>PAUSED    </td><td>               </td><td>depthwise    </td><td style=\"text-align: right;\">0.0314498</td><td style=\"text-align: right;\">0.892913</td><td style=\"text-align: right;\">          1</td><td style=\"text-align: right;\">    27</td><td style=\"text-align: right;\">        1251.67 </td><td style=\"text-align: right;\">  0.2</td></tr>\n",
              "</tbody>\n",
              "</table><br><br>"
            ],
            "text/plain": [
              "<IPython.core.display.HTML object>"
            ]
          },
          "metadata": {
            "tags": []
          }
        },
        {
          "output_type": "stream",
          "text": [
            "Result for XGBoost_trainable_83046f9c:\n",
            "  date: 2020-01-13_19-45-59\n",
            "  done: false\n",
            "  experiment_id: 7dfe5681a9894a5d89e85b61aeafc259\n",
            "  experiment_tag: 3_eta=0.063225,gamma=0.87817,grow_policy=depthwise,max_depth=4\n",
            "  hostname: 9991d65102f3\n",
            "  iterations_since_restore: 14\n",
            "  mean_accuracy: 0.2\n",
            "  node_ip: 172.28.0.2\n",
            "  pid: 5107\n",
            "  time_since_restore: 2188.166588306427\n",
            "  time_this_iter_s: 106.335693359375\n",
            "  time_total_s: 2682.2936103343964\n",
            "  timestamp: 1578944759\n",
            "  timesteps_since_restore: 0\n",
            "  training_iteration: 23\n",
            "  trial_id: 83046f9c\n",
            "  \n"
          ],
          "name": "stdout"
        },
        {
          "output_type": "display_data",
          "data": {
            "text/html": [
              "== Status ==<br>Memory usage on this node: 1.5/12.7 GiB<br>Using HyperBand: num_stopped=1 total_brackets=1\n",
              "Round #0:\n",
              "  Bracket(Max Size (n)=3, Milestone (r)=27, completed=21.3%): {PAUSED: 2, RUNNING: 1, TERMINATED: 1} <br>Resources requested: 1/2 CPUs, 0/0 GPUs, 0.0/6.1 GiB heap, 0.0/2.1 GiB objects<br>Result logdir: /root/ray_results/XGBoost_trainable<br>Number of trials: 4 (1 TERMINATED, 2 PAUSED, 1 RUNNING)<br><table>\n",
              "<thead>\n",
              "<tr><th>Trial name                </th><th>status    </th><th>loc            </th><th>grow_policy  </th><th style=\"text-align: right;\">      eta</th><th style=\"text-align: right;\">   gamma</th><th style=\"text-align: right;\">  max_depth</th><th style=\"text-align: right;\">  iter</th><th style=\"text-align: right;\">  total time (s)</th><th style=\"text-align: right;\">  acc</th></tr>\n",
              "</thead>\n",
              "<tbody>\n",
              "<tr><td>XGBoost_trainable_82b61090</td><td>TERMINATED</td><td>               </td><td>lossguide    </td><td style=\"text-align: right;\">0.0105708</td><td style=\"text-align: right;\">0.406448</td><td style=\"text-align: right;\">          8</td><td style=\"text-align: right;\">     9</td><td style=\"text-align: right;\">         770.978</td><td style=\"text-align: right;\">  0.2</td></tr>\n",
              "<tr><td>XGBoost_trainable_82dfcba6</td><td>PAUSED    </td><td>               </td><td>lossguide    </td><td style=\"text-align: right;\">0.0556884</td><td style=\"text-align: right;\">0.529778</td><td style=\"text-align: right;\">          8</td><td style=\"text-align: right;\">    27</td><td style=\"text-align: right;\">        3571.55 </td><td style=\"text-align: right;\">  0.2</td></tr>\n",
              "<tr><td>XGBoost_trainable_83046f9c</td><td>RUNNING   </td><td>172.28.0.2:5107</td><td>depthwise    </td><td style=\"text-align: right;\">0.0632253</td><td style=\"text-align: right;\">0.878173</td><td style=\"text-align: right;\">          4</td><td style=\"text-align: right;\">    23</td><td style=\"text-align: right;\">        2682.29 </td><td style=\"text-align: right;\">  0.2</td></tr>\n",
              "<tr><td>XGBoost_trainable_832a3402</td><td>PAUSED    </td><td>               </td><td>depthwise    </td><td style=\"text-align: right;\">0.0314498</td><td style=\"text-align: right;\">0.892913</td><td style=\"text-align: right;\">          1</td><td style=\"text-align: right;\">    27</td><td style=\"text-align: right;\">        1251.67 </td><td style=\"text-align: right;\">  0.2</td></tr>\n",
              "</tbody>\n",
              "</table><br><br>"
            ],
            "text/plain": [
              "<IPython.core.display.HTML object>"
            ]
          },
          "metadata": {
            "tags": []
          }
        },
        {
          "output_type": "stream",
          "text": [
            "Result for XGBoost_trainable_83046f9c:\n",
            "  date: 2020-01-13_19-47-46\n",
            "  done: false\n",
            "  experiment_id: 7dfe5681a9894a5d89e85b61aeafc259\n",
            "  experiment_tag: 3_eta=0.063225,gamma=0.87817,grow_policy=depthwise,max_depth=4\n",
            "  hostname: 9991d65102f3\n",
            "  iterations_since_restore: 15\n",
            "  mean_accuracy: 0.2\n",
            "  node_ip: 172.28.0.2\n",
            "  pid: 5107\n",
            "  time_since_restore: 2295.232912540436\n",
            "  time_this_iter_s: 107.06632423400879\n",
            "  time_total_s: 2789.359934568405\n",
            "  timestamp: 1578944866\n",
            "  timesteps_since_restore: 0\n",
            "  training_iteration: 24\n",
            "  trial_id: 83046f9c\n",
            "  \n"
          ],
          "name": "stdout"
        },
        {
          "output_type": "display_data",
          "data": {
            "text/html": [
              "== Status ==<br>Memory usage on this node: 1.5/12.7 GiB<br>Using HyperBand: num_stopped=1 total_brackets=1\n",
              "Round #0:\n",
              "  Bracket(Max Size (n)=3, Milestone (r)=27, completed=21.5%): {PAUSED: 2, RUNNING: 1, TERMINATED: 1} <br>Resources requested: 1/2 CPUs, 0/0 GPUs, 0.0/6.1 GiB heap, 0.0/2.1 GiB objects<br>Result logdir: /root/ray_results/XGBoost_trainable<br>Number of trials: 4 (1 TERMINATED, 2 PAUSED, 1 RUNNING)<br><table>\n",
              "<thead>\n",
              "<tr><th>Trial name                </th><th>status    </th><th>loc            </th><th>grow_policy  </th><th style=\"text-align: right;\">      eta</th><th style=\"text-align: right;\">   gamma</th><th style=\"text-align: right;\">  max_depth</th><th style=\"text-align: right;\">  iter</th><th style=\"text-align: right;\">  total time (s)</th><th style=\"text-align: right;\">  acc</th></tr>\n",
              "</thead>\n",
              "<tbody>\n",
              "<tr><td>XGBoost_trainable_82b61090</td><td>TERMINATED</td><td>               </td><td>lossguide    </td><td style=\"text-align: right;\">0.0105708</td><td style=\"text-align: right;\">0.406448</td><td style=\"text-align: right;\">          8</td><td style=\"text-align: right;\">     9</td><td style=\"text-align: right;\">         770.978</td><td style=\"text-align: right;\">  0.2</td></tr>\n",
              "<tr><td>XGBoost_trainable_82dfcba6</td><td>PAUSED    </td><td>               </td><td>lossguide    </td><td style=\"text-align: right;\">0.0556884</td><td style=\"text-align: right;\">0.529778</td><td style=\"text-align: right;\">          8</td><td style=\"text-align: right;\">    27</td><td style=\"text-align: right;\">        3571.55 </td><td style=\"text-align: right;\">  0.2</td></tr>\n",
              "<tr><td>XGBoost_trainable_83046f9c</td><td>RUNNING   </td><td>172.28.0.2:5107</td><td>depthwise    </td><td style=\"text-align: right;\">0.0632253</td><td style=\"text-align: right;\">0.878173</td><td style=\"text-align: right;\">          4</td><td style=\"text-align: right;\">    24</td><td style=\"text-align: right;\">        2789.36 </td><td style=\"text-align: right;\">  0.2</td></tr>\n",
              "<tr><td>XGBoost_trainable_832a3402</td><td>PAUSED    </td><td>               </td><td>depthwise    </td><td style=\"text-align: right;\">0.0314498</td><td style=\"text-align: right;\">0.892913</td><td style=\"text-align: right;\">          1</td><td style=\"text-align: right;\">    27</td><td style=\"text-align: right;\">        1251.67 </td><td style=\"text-align: right;\">  0.2</td></tr>\n",
              "</tbody>\n",
              "</table><br><br>"
            ],
            "text/plain": [
              "<IPython.core.display.HTML object>"
            ]
          },
          "metadata": {
            "tags": []
          }
        },
        {
          "output_type": "stream",
          "text": [
            "Result for XGBoost_trainable_83046f9c:\n",
            "  date: 2020-01-13_19-49-32\n",
            "  done: false\n",
            "  experiment_id: 7dfe5681a9894a5d89e85b61aeafc259\n",
            "  experiment_tag: 3_eta=0.063225,gamma=0.87817,grow_policy=depthwise,max_depth=4\n",
            "  hostname: 9991d65102f3\n",
            "  iterations_since_restore: 16\n",
            "  mean_accuracy: 0.2\n",
            "  node_ip: 172.28.0.2\n",
            "  pid: 5107\n",
            "  time_since_restore: 2401.095400571823\n",
            "  time_this_iter_s: 105.86248803138733\n",
            "  time_total_s: 2895.2224225997925\n",
            "  timestamp: 1578944972\n",
            "  timesteps_since_restore: 0\n",
            "  training_iteration: 25\n",
            "  trial_id: 83046f9c\n",
            "  \n"
          ],
          "name": "stdout"
        },
        {
          "output_type": "display_data",
          "data": {
            "text/html": [
              "== Status ==<br>Memory usage on this node: 1.5/12.7 GiB<br>Using HyperBand: num_stopped=1 total_brackets=1\n",
              "Round #0:\n",
              "  Bracket(Max Size (n)=3, Milestone (r)=27, completed=21.8%): {PAUSED: 2, RUNNING: 1, TERMINATED: 1} <br>Resources requested: 1/2 CPUs, 0/0 GPUs, 0.0/6.1 GiB heap, 0.0/2.1 GiB objects<br>Result logdir: /root/ray_results/XGBoost_trainable<br>Number of trials: 4 (1 TERMINATED, 2 PAUSED, 1 RUNNING)<br><table>\n",
              "<thead>\n",
              "<tr><th>Trial name                </th><th>status    </th><th>loc            </th><th>grow_policy  </th><th style=\"text-align: right;\">      eta</th><th style=\"text-align: right;\">   gamma</th><th style=\"text-align: right;\">  max_depth</th><th style=\"text-align: right;\">  iter</th><th style=\"text-align: right;\">  total time (s)</th><th style=\"text-align: right;\">  acc</th></tr>\n",
              "</thead>\n",
              "<tbody>\n",
              "<tr><td>XGBoost_trainable_82b61090</td><td>TERMINATED</td><td>               </td><td>lossguide    </td><td style=\"text-align: right;\">0.0105708</td><td style=\"text-align: right;\">0.406448</td><td style=\"text-align: right;\">          8</td><td style=\"text-align: right;\">     9</td><td style=\"text-align: right;\">         770.978</td><td style=\"text-align: right;\">  0.2</td></tr>\n",
              "<tr><td>XGBoost_trainable_82dfcba6</td><td>PAUSED    </td><td>               </td><td>lossguide    </td><td style=\"text-align: right;\">0.0556884</td><td style=\"text-align: right;\">0.529778</td><td style=\"text-align: right;\">          8</td><td style=\"text-align: right;\">    27</td><td style=\"text-align: right;\">        3571.55 </td><td style=\"text-align: right;\">  0.2</td></tr>\n",
              "<tr><td>XGBoost_trainable_83046f9c</td><td>RUNNING   </td><td>172.28.0.2:5107</td><td>depthwise    </td><td style=\"text-align: right;\">0.0632253</td><td style=\"text-align: right;\">0.878173</td><td style=\"text-align: right;\">          4</td><td style=\"text-align: right;\">    25</td><td style=\"text-align: right;\">        2895.22 </td><td style=\"text-align: right;\">  0.2</td></tr>\n",
              "<tr><td>XGBoost_trainable_832a3402</td><td>PAUSED    </td><td>               </td><td>depthwise    </td><td style=\"text-align: right;\">0.0314498</td><td style=\"text-align: right;\">0.892913</td><td style=\"text-align: right;\">          1</td><td style=\"text-align: right;\">    27</td><td style=\"text-align: right;\">        1251.67 </td><td style=\"text-align: right;\">  0.2</td></tr>\n",
              "</tbody>\n",
              "</table><br><br>"
            ],
            "text/plain": [
              "<IPython.core.display.HTML object>"
            ]
          },
          "metadata": {
            "tags": []
          }
        },
        {
          "output_type": "stream",
          "text": [
            "Result for XGBoost_trainable_83046f9c:\n",
            "  date: 2020-01-13_19-51-20\n",
            "  done: false\n",
            "  experiment_id: 7dfe5681a9894a5d89e85b61aeafc259\n",
            "  experiment_tag: 3_eta=0.063225,gamma=0.87817,grow_policy=depthwise,max_depth=4\n",
            "  hostname: 9991d65102f3\n",
            "  iterations_since_restore: 17\n",
            "  mean_accuracy: 0.2\n",
            "  node_ip: 172.28.0.2\n",
            "  pid: 5107\n",
            "  time_since_restore: 2509.3899953365326\n",
            "  time_this_iter_s: 108.29459476470947\n",
            "  time_total_s: 3003.517017364502\n",
            "  timestamp: 1578945080\n",
            "  timesteps_since_restore: 0\n",
            "  training_iteration: 26\n",
            "  trial_id: 83046f9c\n",
            "  \n"
          ],
          "name": "stdout"
        },
        {
          "output_type": "display_data",
          "data": {
            "text/html": [
              "== Status ==<br>Memory usage on this node: 1.5/12.7 GiB<br>Using HyperBand: num_stopped=1 total_brackets=1\n",
              "Round #0:\n",
              "  Bracket(Max Size (n)=3, Milestone (r)=27, completed=22.0%): {PAUSED: 2, RUNNING: 1, TERMINATED: 1} <br>Resources requested: 1/2 CPUs, 0/0 GPUs, 0.0/6.1 GiB heap, 0.0/2.1 GiB objects<br>Result logdir: /root/ray_results/XGBoost_trainable<br>Number of trials: 4 (1 TERMINATED, 2 PAUSED, 1 RUNNING)<br><table>\n",
              "<thead>\n",
              "<tr><th>Trial name                </th><th>status    </th><th>loc            </th><th>grow_policy  </th><th style=\"text-align: right;\">      eta</th><th style=\"text-align: right;\">   gamma</th><th style=\"text-align: right;\">  max_depth</th><th style=\"text-align: right;\">  iter</th><th style=\"text-align: right;\">  total time (s)</th><th style=\"text-align: right;\">  acc</th></tr>\n",
              "</thead>\n",
              "<tbody>\n",
              "<tr><td>XGBoost_trainable_82b61090</td><td>TERMINATED</td><td>               </td><td>lossguide    </td><td style=\"text-align: right;\">0.0105708</td><td style=\"text-align: right;\">0.406448</td><td style=\"text-align: right;\">          8</td><td style=\"text-align: right;\">     9</td><td style=\"text-align: right;\">         770.978</td><td style=\"text-align: right;\">  0.2</td></tr>\n",
              "<tr><td>XGBoost_trainable_82dfcba6</td><td>PAUSED    </td><td>               </td><td>lossguide    </td><td style=\"text-align: right;\">0.0556884</td><td style=\"text-align: right;\">0.529778</td><td style=\"text-align: right;\">          8</td><td style=\"text-align: right;\">    27</td><td style=\"text-align: right;\">        3571.55 </td><td style=\"text-align: right;\">  0.2</td></tr>\n",
              "<tr><td>XGBoost_trainable_83046f9c</td><td>RUNNING   </td><td>172.28.0.2:5107</td><td>depthwise    </td><td style=\"text-align: right;\">0.0632253</td><td style=\"text-align: right;\">0.878173</td><td style=\"text-align: right;\">          4</td><td style=\"text-align: right;\">    26</td><td style=\"text-align: right;\">        3003.52 </td><td style=\"text-align: right;\">  0.2</td></tr>\n",
              "<tr><td>XGBoost_trainable_832a3402</td><td>PAUSED    </td><td>               </td><td>depthwise    </td><td style=\"text-align: right;\">0.0314498</td><td style=\"text-align: right;\">0.892913</td><td style=\"text-align: right;\">          1</td><td style=\"text-align: right;\">    27</td><td style=\"text-align: right;\">        1251.67 </td><td style=\"text-align: right;\">  0.2</td></tr>\n",
              "</tbody>\n",
              "</table><br><br>"
            ],
            "text/plain": [
              "<IPython.core.display.HTML object>"
            ]
          },
          "metadata": {
            "tags": []
          }
        },
        {
          "output_type": "stream",
          "text": [
            "Result for XGBoost_trainable_83046f9c:\n",
            "  date: 2020-01-13_19-53-12\n",
            "  done: true\n",
            "  experiment_id: 7dfe5681a9894a5d89e85b61aeafc259\n",
            "  experiment_tag: 3_eta=0.063225,gamma=0.87817,grow_policy=depthwise,max_depth=4\n",
            "  hostname: 9991d65102f3\n",
            "  iterations_since_restore: 18\n",
            "  mean_accuracy: 0.2\n",
            "  node_ip: 172.28.0.2\n",
            "  pid: 5107\n",
            "  time_since_restore: 2620.624093770981\n",
            "  time_this_iter_s: 111.23409843444824\n",
            "  time_total_s: 3114.75111579895\n",
            "  timestamp: 1578945192\n",
            "  timesteps_since_restore: 0\n",
            "  training_iteration: 27\n",
            "  trial_id: 83046f9c\n",
            "  \n"
          ],
          "name": "stdout"
        },
        {
          "output_type": "display_data",
          "data": {
            "text/html": [
              "== Status ==<br>Memory usage on this node: 1.5/12.7 GiB<br>Using HyperBand: num_stopped=3 total_brackets=1\n",
              "Round #0:\n",
              "  Bracket(Max Size (n)=1, Milestone (r)=54, completed=22.3%): {PENDING: 1, TERMINATED: 3} <br>Resources requested: 0/2 CPUs, 0/0 GPUs, 0.0/6.1 GiB heap, 0.0/2.1 GiB objects<br>Result logdir: /root/ray_results/XGBoost_trainable<br>Number of trials: 4 (3 TERMINATED, 1 PENDING)<br><table>\n",
              "<thead>\n",
              "<tr><th>Trial name                </th><th>status    </th><th>loc  </th><th>grow_policy  </th><th style=\"text-align: right;\">      eta</th><th style=\"text-align: right;\">   gamma</th><th style=\"text-align: right;\">  max_depth</th><th style=\"text-align: right;\">  iter</th><th style=\"text-align: right;\">  total time (s)</th><th style=\"text-align: right;\">  acc</th></tr>\n",
              "</thead>\n",
              "<tbody>\n",
              "<tr><td>XGBoost_trainable_82b61090</td><td>TERMINATED</td><td>     </td><td>lossguide    </td><td style=\"text-align: right;\">0.0105708</td><td style=\"text-align: right;\">0.406448</td><td style=\"text-align: right;\">          8</td><td style=\"text-align: right;\">     9</td><td style=\"text-align: right;\">         770.978</td><td style=\"text-align: right;\">  0.2</td></tr>\n",
              "<tr><td>XGBoost_trainable_82dfcba6</td><td>TERMINATED</td><td>     </td><td>lossguide    </td><td style=\"text-align: right;\">0.0556884</td><td style=\"text-align: right;\">0.529778</td><td style=\"text-align: right;\">          8</td><td style=\"text-align: right;\">    27</td><td style=\"text-align: right;\">        3571.55 </td><td style=\"text-align: right;\">  0.2</td></tr>\n",
              "<tr><td>XGBoost_trainable_83046f9c</td><td>TERMINATED</td><td>     </td><td>depthwise    </td><td style=\"text-align: right;\">0.0632253</td><td style=\"text-align: right;\">0.878173</td><td style=\"text-align: right;\">          4</td><td style=\"text-align: right;\">    27</td><td style=\"text-align: right;\">        3114.75 </td><td style=\"text-align: right;\">  0.2</td></tr>\n",
              "<tr><td>XGBoost_trainable_832a3402</td><td>PENDING   </td><td>     </td><td>depthwise    </td><td style=\"text-align: right;\">0.0314498</td><td style=\"text-align: right;\">0.892913</td><td style=\"text-align: right;\">          1</td><td style=\"text-align: right;\">    27</td><td style=\"text-align: right;\">        1251.67 </td><td style=\"text-align: right;\">  0.2</td></tr>\n",
              "</tbody>\n",
              "</table><br><br>"
            ],
            "text/plain": [
              "<IPython.core.display.HTML object>"
            ]
          },
          "metadata": {
            "tags": []
          }
        },
        {
          "output_type": "stream",
          "text": [
            "\u001b[2m\u001b[36m(pid=4300)\u001b[0m 2020-01-13 19:53:12,125\tINFO trainable.py:346 -- Restored from checkpoint: /root/ray_results/XGBoost_trainable/XGBoost_trainable_832a3402_2020-01-13_18-28-13k7cutwmt/tmpgxqpp4f4restore_from_object/checkpoint_27/model.pth\n",
            "\u001b[2m\u001b[36m(pid=4300)\u001b[0m 2020-01-13 19:53:12,126\tINFO trainable.py:353 -- Current state after restoring: {'_iteration': 27, '_timesteps_total': None, '_time_total': 1251.6656963825226, '_episodes_total': None}\n",
            "Result for XGBoost_trainable_832a3402:\n",
            "  date: 2020-01-13_19-53-39\n",
            "  done: false\n",
            "  experiment_id: dba50441a96149289476f25c4382c3e2\n",
            "  experiment_tag: 4_eta=0.03145,gamma=0.89291,grow_policy=depthwise,max_depth=1\n",
            "  hostname: 9991d65102f3\n",
            "  iterations_since_restore: 1\n",
            "  mean_accuracy: 0.2\n",
            "  node_ip: 172.28.0.2\n",
            "  pid: 4300\n",
            "  time_since_restore: 26.877187490463257\n",
            "  time_this_iter_s: 26.877187490463257\n",
            "  time_total_s: 1278.5428838729858\n",
            "  timestamp: 1578945219\n",
            "  timesteps_since_restore: 0\n",
            "  training_iteration: 28\n",
            "  trial_id: 832a3402\n",
            "  \n"
          ],
          "name": "stdout"
        },
        {
          "output_type": "display_data",
          "data": {
            "text/html": [
              "== Status ==<br>Memory usage on this node: 1.4/12.7 GiB<br>Using HyperBand: num_stopped=3 total_brackets=1\n",
              "Round #0:\n",
              "  Bracket(Max Size (n)=1, Milestone (r)=54, completed=22.5%): {RUNNING: 1, TERMINATED: 3} <br>Resources requested: 1/2 CPUs, 0/0 GPUs, 0.0/6.1 GiB heap, 0.0/2.1 GiB objects<br>Result logdir: /root/ray_results/XGBoost_trainable<br>Number of trials: 4 (3 TERMINATED, 1 RUNNING)<br><table>\n",
              "<thead>\n",
              "<tr><th>Trial name                </th><th>status    </th><th>loc            </th><th>grow_policy  </th><th style=\"text-align: right;\">      eta</th><th style=\"text-align: right;\">   gamma</th><th style=\"text-align: right;\">  max_depth</th><th style=\"text-align: right;\">  iter</th><th style=\"text-align: right;\">  total time (s)</th><th style=\"text-align: right;\">  acc</th></tr>\n",
              "</thead>\n",
              "<tbody>\n",
              "<tr><td>XGBoost_trainable_82b61090</td><td>TERMINATED</td><td>               </td><td>lossguide    </td><td style=\"text-align: right;\">0.0105708</td><td style=\"text-align: right;\">0.406448</td><td style=\"text-align: right;\">          8</td><td style=\"text-align: right;\">     9</td><td style=\"text-align: right;\">         770.978</td><td style=\"text-align: right;\">  0.2</td></tr>\n",
              "<tr><td>XGBoost_trainable_82dfcba6</td><td>TERMINATED</td><td>               </td><td>lossguide    </td><td style=\"text-align: right;\">0.0556884</td><td style=\"text-align: right;\">0.529778</td><td style=\"text-align: right;\">          8</td><td style=\"text-align: right;\">    27</td><td style=\"text-align: right;\">        3571.55 </td><td style=\"text-align: right;\">  0.2</td></tr>\n",
              "<tr><td>XGBoost_trainable_83046f9c</td><td>TERMINATED</td><td>               </td><td>depthwise    </td><td style=\"text-align: right;\">0.0632253</td><td style=\"text-align: right;\">0.878173</td><td style=\"text-align: right;\">          4</td><td style=\"text-align: right;\">    27</td><td style=\"text-align: right;\">        3114.75 </td><td style=\"text-align: right;\">  0.2</td></tr>\n",
              "<tr><td>XGBoost_trainable_832a3402</td><td>RUNNING   </td><td>172.28.0.2:4300</td><td>depthwise    </td><td style=\"text-align: right;\">0.0314498</td><td style=\"text-align: right;\">0.892913</td><td style=\"text-align: right;\">          1</td><td style=\"text-align: right;\">    28</td><td style=\"text-align: right;\">        1278.54 </td><td style=\"text-align: right;\">  0.2</td></tr>\n",
              "</tbody>\n",
              "</table><br><br>"
            ],
            "text/plain": [
              "<IPython.core.display.HTML object>"
            ]
          },
          "metadata": {
            "tags": []
          }
        },
        {
          "output_type": "stream",
          "text": [
            "Result for XGBoost_trainable_832a3402:\n",
            "  date: 2020-01-13_19-54-05\n",
            "  done: false\n",
            "  experiment_id: dba50441a96149289476f25c4382c3e2\n",
            "  experiment_tag: 4_eta=0.03145,gamma=0.89291,grow_policy=depthwise,max_depth=1\n",
            "  hostname: 9991d65102f3\n",
            "  iterations_since_restore: 2\n",
            "  mean_accuracy: 0.2\n",
            "  node_ip: 172.28.0.2\n",
            "  pid: 4300\n",
            "  time_since_restore: 53.49536871910095\n",
            "  time_this_iter_s: 26.618181228637695\n",
            "  time_total_s: 1305.1610651016235\n",
            "  timestamp: 1578945245\n",
            "  timesteps_since_restore: 0\n",
            "  training_iteration: 29\n",
            "  trial_id: 832a3402\n",
            "  \n"
          ],
          "name": "stdout"
        },
        {
          "output_type": "display_data",
          "data": {
            "text/html": [
              "== Status ==<br>Memory usage on this node: 1.4/12.7 GiB<br>Using HyperBand: num_stopped=3 total_brackets=1\n",
              "Round #0:\n",
              "  Bracket(Max Size (n)=1, Milestone (r)=54, completed=22.8%): {RUNNING: 1, TERMINATED: 3} <br>Resources requested: 1/2 CPUs, 0/0 GPUs, 0.0/6.1 GiB heap, 0.0/2.1 GiB objects<br>Result logdir: /root/ray_results/XGBoost_trainable<br>Number of trials: 4 (3 TERMINATED, 1 RUNNING)<br><table>\n",
              "<thead>\n",
              "<tr><th>Trial name                </th><th>status    </th><th>loc            </th><th>grow_policy  </th><th style=\"text-align: right;\">      eta</th><th style=\"text-align: right;\">   gamma</th><th style=\"text-align: right;\">  max_depth</th><th style=\"text-align: right;\">  iter</th><th style=\"text-align: right;\">  total time (s)</th><th style=\"text-align: right;\">  acc</th></tr>\n",
              "</thead>\n",
              "<tbody>\n",
              "<tr><td>XGBoost_trainable_82b61090</td><td>TERMINATED</td><td>               </td><td>lossguide    </td><td style=\"text-align: right;\">0.0105708</td><td style=\"text-align: right;\">0.406448</td><td style=\"text-align: right;\">          8</td><td style=\"text-align: right;\">     9</td><td style=\"text-align: right;\">         770.978</td><td style=\"text-align: right;\">  0.2</td></tr>\n",
              "<tr><td>XGBoost_trainable_82dfcba6</td><td>TERMINATED</td><td>               </td><td>lossguide    </td><td style=\"text-align: right;\">0.0556884</td><td style=\"text-align: right;\">0.529778</td><td style=\"text-align: right;\">          8</td><td style=\"text-align: right;\">    27</td><td style=\"text-align: right;\">        3571.55 </td><td style=\"text-align: right;\">  0.2</td></tr>\n",
              "<tr><td>XGBoost_trainable_83046f9c</td><td>TERMINATED</td><td>               </td><td>depthwise    </td><td style=\"text-align: right;\">0.0632253</td><td style=\"text-align: right;\">0.878173</td><td style=\"text-align: right;\">          4</td><td style=\"text-align: right;\">    27</td><td style=\"text-align: right;\">        3114.75 </td><td style=\"text-align: right;\">  0.2</td></tr>\n",
              "<tr><td>XGBoost_trainable_832a3402</td><td>RUNNING   </td><td>172.28.0.2:4300</td><td>depthwise    </td><td style=\"text-align: right;\">0.0314498</td><td style=\"text-align: right;\">0.892913</td><td style=\"text-align: right;\">          1</td><td style=\"text-align: right;\">    29</td><td style=\"text-align: right;\">        1305.16 </td><td style=\"text-align: right;\">  0.2</td></tr>\n",
              "</tbody>\n",
              "</table><br><br>"
            ],
            "text/plain": [
              "<IPython.core.display.HTML object>"
            ]
          },
          "metadata": {
            "tags": []
          }
        },
        {
          "output_type": "stream",
          "text": [
            "Result for XGBoost_trainable_832a3402:\n",
            "  date: 2020-01-13_19-54-31\n",
            "  done: false\n",
            "  experiment_id: dba50441a96149289476f25c4382c3e2\n",
            "  experiment_tag: 4_eta=0.03145,gamma=0.89291,grow_policy=depthwise,max_depth=1\n",
            "  hostname: 9991d65102f3\n",
            "  iterations_since_restore: 3\n",
            "  mean_accuracy: 0.2\n",
            "  node_ip: 172.28.0.2\n",
            "  pid: 4300\n",
            "  time_since_restore: 79.48656797409058\n",
            "  time_this_iter_s: 25.991199254989624\n",
            "  time_total_s: 1331.1522643566132\n",
            "  timestamp: 1578945271\n",
            "  timesteps_since_restore: 0\n",
            "  training_iteration: 30\n",
            "  trial_id: 832a3402\n",
            "  \n"
          ],
          "name": "stdout"
        },
        {
          "output_type": "display_data",
          "data": {
            "text/html": [
              "== Status ==<br>Memory usage on this node: 1.4/12.7 GiB<br>Using HyperBand: num_stopped=3 total_brackets=1\n",
              "Round #0:\n",
              "  Bracket(Max Size (n)=1, Milestone (r)=54, completed=23.0%): {RUNNING: 1, TERMINATED: 3} <br>Resources requested: 1/2 CPUs, 0/0 GPUs, 0.0/6.1 GiB heap, 0.0/2.1 GiB objects<br>Result logdir: /root/ray_results/XGBoost_trainable<br>Number of trials: 4 (3 TERMINATED, 1 RUNNING)<br><table>\n",
              "<thead>\n",
              "<tr><th>Trial name                </th><th>status    </th><th>loc            </th><th>grow_policy  </th><th style=\"text-align: right;\">      eta</th><th style=\"text-align: right;\">   gamma</th><th style=\"text-align: right;\">  max_depth</th><th style=\"text-align: right;\">  iter</th><th style=\"text-align: right;\">  total time (s)</th><th style=\"text-align: right;\">  acc</th></tr>\n",
              "</thead>\n",
              "<tbody>\n",
              "<tr><td>XGBoost_trainable_82b61090</td><td>TERMINATED</td><td>               </td><td>lossguide    </td><td style=\"text-align: right;\">0.0105708</td><td style=\"text-align: right;\">0.406448</td><td style=\"text-align: right;\">          8</td><td style=\"text-align: right;\">     9</td><td style=\"text-align: right;\">         770.978</td><td style=\"text-align: right;\">  0.2</td></tr>\n",
              "<tr><td>XGBoost_trainable_82dfcba6</td><td>TERMINATED</td><td>               </td><td>lossguide    </td><td style=\"text-align: right;\">0.0556884</td><td style=\"text-align: right;\">0.529778</td><td style=\"text-align: right;\">          8</td><td style=\"text-align: right;\">    27</td><td style=\"text-align: right;\">        3571.55 </td><td style=\"text-align: right;\">  0.2</td></tr>\n",
              "<tr><td>XGBoost_trainable_83046f9c</td><td>TERMINATED</td><td>               </td><td>depthwise    </td><td style=\"text-align: right;\">0.0632253</td><td style=\"text-align: right;\">0.878173</td><td style=\"text-align: right;\">          4</td><td style=\"text-align: right;\">    27</td><td style=\"text-align: right;\">        3114.75 </td><td style=\"text-align: right;\">  0.2</td></tr>\n",
              "<tr><td>XGBoost_trainable_832a3402</td><td>RUNNING   </td><td>172.28.0.2:4300</td><td>depthwise    </td><td style=\"text-align: right;\">0.0314498</td><td style=\"text-align: right;\">0.892913</td><td style=\"text-align: right;\">          1</td><td style=\"text-align: right;\">    30</td><td style=\"text-align: right;\">        1331.15 </td><td style=\"text-align: right;\">  0.2</td></tr>\n",
              "</tbody>\n",
              "</table><br><br>"
            ],
            "text/plain": [
              "<IPython.core.display.HTML object>"
            ]
          },
          "metadata": {
            "tags": []
          }
        },
        {
          "output_type": "stream",
          "text": [
            "Result for XGBoost_trainable_832a3402:\n",
            "  date: 2020-01-13_19-54-57\n",
            "  done: false\n",
            "  experiment_id: dba50441a96149289476f25c4382c3e2\n",
            "  experiment_tag: 4_eta=0.03145,gamma=0.89291,grow_policy=depthwise,max_depth=1\n",
            "  hostname: 9991d65102f3\n",
            "  iterations_since_restore: 4\n",
            "  mean_accuracy: 0.2\n",
            "  node_ip: 172.28.0.2\n",
            "  pid: 4300\n",
            "  time_since_restore: 105.51199221611023\n",
            "  time_this_iter_s: 26.025424242019653\n",
            "  time_total_s: 1357.1776885986328\n",
            "  timestamp: 1578945297\n",
            "  timesteps_since_restore: 0\n",
            "  training_iteration: 31\n",
            "  trial_id: 832a3402\n",
            "  \n"
          ],
          "name": "stdout"
        },
        {
          "output_type": "display_data",
          "data": {
            "text/html": [
              "== Status ==<br>Memory usage on this node: 1.4/12.7 GiB<br>Using HyperBand: num_stopped=3 total_brackets=1\n",
              "Round #0:\n",
              "  Bracket(Max Size (n)=1, Milestone (r)=54, completed=23.3%): {RUNNING: 1, TERMINATED: 3} <br>Resources requested: 1/2 CPUs, 0/0 GPUs, 0.0/6.1 GiB heap, 0.0/2.1 GiB objects<br>Result logdir: /root/ray_results/XGBoost_trainable<br>Number of trials: 4 (3 TERMINATED, 1 RUNNING)<br><table>\n",
              "<thead>\n",
              "<tr><th>Trial name                </th><th>status    </th><th>loc            </th><th>grow_policy  </th><th style=\"text-align: right;\">      eta</th><th style=\"text-align: right;\">   gamma</th><th style=\"text-align: right;\">  max_depth</th><th style=\"text-align: right;\">  iter</th><th style=\"text-align: right;\">  total time (s)</th><th style=\"text-align: right;\">  acc</th></tr>\n",
              "</thead>\n",
              "<tbody>\n",
              "<tr><td>XGBoost_trainable_82b61090</td><td>TERMINATED</td><td>               </td><td>lossguide    </td><td style=\"text-align: right;\">0.0105708</td><td style=\"text-align: right;\">0.406448</td><td style=\"text-align: right;\">          8</td><td style=\"text-align: right;\">     9</td><td style=\"text-align: right;\">         770.978</td><td style=\"text-align: right;\">  0.2</td></tr>\n",
              "<tr><td>XGBoost_trainable_82dfcba6</td><td>TERMINATED</td><td>               </td><td>lossguide    </td><td style=\"text-align: right;\">0.0556884</td><td style=\"text-align: right;\">0.529778</td><td style=\"text-align: right;\">          8</td><td style=\"text-align: right;\">    27</td><td style=\"text-align: right;\">        3571.55 </td><td style=\"text-align: right;\">  0.2</td></tr>\n",
              "<tr><td>XGBoost_trainable_83046f9c</td><td>TERMINATED</td><td>               </td><td>depthwise    </td><td style=\"text-align: right;\">0.0632253</td><td style=\"text-align: right;\">0.878173</td><td style=\"text-align: right;\">          4</td><td style=\"text-align: right;\">    27</td><td style=\"text-align: right;\">        3114.75 </td><td style=\"text-align: right;\">  0.2</td></tr>\n",
              "<tr><td>XGBoost_trainable_832a3402</td><td>RUNNING   </td><td>172.28.0.2:4300</td><td>depthwise    </td><td style=\"text-align: right;\">0.0314498</td><td style=\"text-align: right;\">0.892913</td><td style=\"text-align: right;\">          1</td><td style=\"text-align: right;\">    31</td><td style=\"text-align: right;\">        1357.18 </td><td style=\"text-align: right;\">  0.2</td></tr>\n",
              "</tbody>\n",
              "</table><br><br>"
            ],
            "text/plain": [
              "<IPython.core.display.HTML object>"
            ]
          },
          "metadata": {
            "tags": []
          }
        },
        {
          "output_type": "stream",
          "text": [
            "Result for XGBoost_trainable_832a3402:\n",
            "  date: 2020-01-13_19-55-23\n",
            "  done: false\n",
            "  experiment_id: dba50441a96149289476f25c4382c3e2\n",
            "  experiment_tag: 4_eta=0.03145,gamma=0.89291,grow_policy=depthwise,max_depth=1\n",
            "  hostname: 9991d65102f3\n",
            "  iterations_since_restore: 5\n",
            "  mean_accuracy: 0.2\n",
            "  node_ip: 172.28.0.2\n",
            "  pid: 4300\n",
            "  time_since_restore: 131.64271664619446\n",
            "  time_this_iter_s: 26.13072443008423\n",
            "  time_total_s: 1383.308413028717\n",
            "  timestamp: 1578945323\n",
            "  timesteps_since_restore: 0\n",
            "  training_iteration: 32\n",
            "  trial_id: 832a3402\n",
            "  \n"
          ],
          "name": "stdout"
        },
        {
          "output_type": "display_data",
          "data": {
            "text/html": [
              "== Status ==<br>Memory usage on this node: 1.4/12.7 GiB<br>Using HyperBand: num_stopped=3 total_brackets=1\n",
              "Round #0:\n",
              "  Bracket(Max Size (n)=1, Milestone (r)=54, completed=23.5%): {RUNNING: 1, TERMINATED: 3} <br>Resources requested: 1/2 CPUs, 0/0 GPUs, 0.0/6.1 GiB heap, 0.0/2.1 GiB objects<br>Result logdir: /root/ray_results/XGBoost_trainable<br>Number of trials: 4 (3 TERMINATED, 1 RUNNING)<br><table>\n",
              "<thead>\n",
              "<tr><th>Trial name                </th><th>status    </th><th>loc            </th><th>grow_policy  </th><th style=\"text-align: right;\">      eta</th><th style=\"text-align: right;\">   gamma</th><th style=\"text-align: right;\">  max_depth</th><th style=\"text-align: right;\">  iter</th><th style=\"text-align: right;\">  total time (s)</th><th style=\"text-align: right;\">  acc</th></tr>\n",
              "</thead>\n",
              "<tbody>\n",
              "<tr><td>XGBoost_trainable_82b61090</td><td>TERMINATED</td><td>               </td><td>lossguide    </td><td style=\"text-align: right;\">0.0105708</td><td style=\"text-align: right;\">0.406448</td><td style=\"text-align: right;\">          8</td><td style=\"text-align: right;\">     9</td><td style=\"text-align: right;\">         770.978</td><td style=\"text-align: right;\">  0.2</td></tr>\n",
              "<tr><td>XGBoost_trainable_82dfcba6</td><td>TERMINATED</td><td>               </td><td>lossguide    </td><td style=\"text-align: right;\">0.0556884</td><td style=\"text-align: right;\">0.529778</td><td style=\"text-align: right;\">          8</td><td style=\"text-align: right;\">    27</td><td style=\"text-align: right;\">        3571.55 </td><td style=\"text-align: right;\">  0.2</td></tr>\n",
              "<tr><td>XGBoost_trainable_83046f9c</td><td>TERMINATED</td><td>               </td><td>depthwise    </td><td style=\"text-align: right;\">0.0632253</td><td style=\"text-align: right;\">0.878173</td><td style=\"text-align: right;\">          4</td><td style=\"text-align: right;\">    27</td><td style=\"text-align: right;\">        3114.75 </td><td style=\"text-align: right;\">  0.2</td></tr>\n",
              "<tr><td>XGBoost_trainable_832a3402</td><td>RUNNING   </td><td>172.28.0.2:4300</td><td>depthwise    </td><td style=\"text-align: right;\">0.0314498</td><td style=\"text-align: right;\">0.892913</td><td style=\"text-align: right;\">          1</td><td style=\"text-align: right;\">    32</td><td style=\"text-align: right;\">        1383.31 </td><td style=\"text-align: right;\">  0.2</td></tr>\n",
              "</tbody>\n",
              "</table><br><br>"
            ],
            "text/plain": [
              "<IPython.core.display.HTML object>"
            ]
          },
          "metadata": {
            "tags": []
          }
        },
        {
          "output_type": "stream",
          "text": [
            "Result for XGBoost_trainable_832a3402:\n",
            "  date: 2020-01-13_19-55-50\n",
            "  done: false\n",
            "  experiment_id: dba50441a96149289476f25c4382c3e2\n",
            "  experiment_tag: 4_eta=0.03145,gamma=0.89291,grow_policy=depthwise,max_depth=1\n",
            "  hostname: 9991d65102f3\n",
            "  iterations_since_restore: 6\n",
            "  mean_accuracy: 0.2\n",
            "  node_ip: 172.28.0.2\n",
            "  pid: 4300\n",
            "  time_since_restore: 158.2708044052124\n",
            "  time_this_iter_s: 26.628087759017944\n",
            "  time_total_s: 1409.936500787735\n",
            "  timestamp: 1578945350\n",
            "  timesteps_since_restore: 0\n",
            "  training_iteration: 33\n",
            "  trial_id: 832a3402\n",
            "  \n"
          ],
          "name": "stdout"
        },
        {
          "output_type": "display_data",
          "data": {
            "text/html": [
              "== Status ==<br>Memory usage on this node: 1.4/12.7 GiB<br>Using HyperBand: num_stopped=3 total_brackets=1\n",
              "Round #0:\n",
              "  Bracket(Max Size (n)=1, Milestone (r)=54, completed=23.8%): {RUNNING: 1, TERMINATED: 3} <br>Resources requested: 1/2 CPUs, 0/0 GPUs, 0.0/6.1 GiB heap, 0.0/2.1 GiB objects<br>Result logdir: /root/ray_results/XGBoost_trainable<br>Number of trials: 4 (3 TERMINATED, 1 RUNNING)<br><table>\n",
              "<thead>\n",
              "<tr><th>Trial name                </th><th>status    </th><th>loc            </th><th>grow_policy  </th><th style=\"text-align: right;\">      eta</th><th style=\"text-align: right;\">   gamma</th><th style=\"text-align: right;\">  max_depth</th><th style=\"text-align: right;\">  iter</th><th style=\"text-align: right;\">  total time (s)</th><th style=\"text-align: right;\">  acc</th></tr>\n",
              "</thead>\n",
              "<tbody>\n",
              "<tr><td>XGBoost_trainable_82b61090</td><td>TERMINATED</td><td>               </td><td>lossguide    </td><td style=\"text-align: right;\">0.0105708</td><td style=\"text-align: right;\">0.406448</td><td style=\"text-align: right;\">          8</td><td style=\"text-align: right;\">     9</td><td style=\"text-align: right;\">         770.978</td><td style=\"text-align: right;\">  0.2</td></tr>\n",
              "<tr><td>XGBoost_trainable_82dfcba6</td><td>TERMINATED</td><td>               </td><td>lossguide    </td><td style=\"text-align: right;\">0.0556884</td><td style=\"text-align: right;\">0.529778</td><td style=\"text-align: right;\">          8</td><td style=\"text-align: right;\">    27</td><td style=\"text-align: right;\">        3571.55 </td><td style=\"text-align: right;\">  0.2</td></tr>\n",
              "<tr><td>XGBoost_trainable_83046f9c</td><td>TERMINATED</td><td>               </td><td>depthwise    </td><td style=\"text-align: right;\">0.0632253</td><td style=\"text-align: right;\">0.878173</td><td style=\"text-align: right;\">          4</td><td style=\"text-align: right;\">    27</td><td style=\"text-align: right;\">        3114.75 </td><td style=\"text-align: right;\">  0.2</td></tr>\n",
              "<tr><td>XGBoost_trainable_832a3402</td><td>RUNNING   </td><td>172.28.0.2:4300</td><td>depthwise    </td><td style=\"text-align: right;\">0.0314498</td><td style=\"text-align: right;\">0.892913</td><td style=\"text-align: right;\">          1</td><td style=\"text-align: right;\">    33</td><td style=\"text-align: right;\">        1409.94 </td><td style=\"text-align: right;\">  0.2</td></tr>\n",
              "</tbody>\n",
              "</table><br><br>"
            ],
            "text/plain": [
              "<IPython.core.display.HTML object>"
            ]
          },
          "metadata": {
            "tags": []
          }
        },
        {
          "output_type": "stream",
          "text": [
            "Result for XGBoost_trainable_832a3402:\n",
            "  date: 2020-01-13_19-56-16\n",
            "  done: false\n",
            "  experiment_id: dba50441a96149289476f25c4382c3e2\n",
            "  experiment_tag: 4_eta=0.03145,gamma=0.89291,grow_policy=depthwise,max_depth=1\n",
            "  hostname: 9991d65102f3\n",
            "  iterations_since_restore: 7\n",
            "  mean_accuracy: 0.2\n",
            "  node_ip: 172.28.0.2\n",
            "  pid: 4300\n",
            "  time_since_restore: 184.29976654052734\n",
            "  time_this_iter_s: 26.02896213531494\n",
            "  time_total_s: 1435.96546292305\n",
            "  timestamp: 1578945376\n",
            "  timesteps_since_restore: 0\n",
            "  training_iteration: 34\n",
            "  trial_id: 832a3402\n",
            "  \n"
          ],
          "name": "stdout"
        },
        {
          "output_type": "display_data",
          "data": {
            "text/html": [
              "== Status ==<br>Memory usage on this node: 1.4/12.7 GiB<br>Using HyperBand: num_stopped=3 total_brackets=1\n",
              "Round #0:\n",
              "  Bracket(Max Size (n)=1, Milestone (r)=54, completed=24.0%): {RUNNING: 1, TERMINATED: 3} <br>Resources requested: 1/2 CPUs, 0/0 GPUs, 0.0/6.1 GiB heap, 0.0/2.1 GiB objects<br>Result logdir: /root/ray_results/XGBoost_trainable<br>Number of trials: 4 (3 TERMINATED, 1 RUNNING)<br><table>\n",
              "<thead>\n",
              "<tr><th>Trial name                </th><th>status    </th><th>loc            </th><th>grow_policy  </th><th style=\"text-align: right;\">      eta</th><th style=\"text-align: right;\">   gamma</th><th style=\"text-align: right;\">  max_depth</th><th style=\"text-align: right;\">  iter</th><th style=\"text-align: right;\">  total time (s)</th><th style=\"text-align: right;\">  acc</th></tr>\n",
              "</thead>\n",
              "<tbody>\n",
              "<tr><td>XGBoost_trainable_82b61090</td><td>TERMINATED</td><td>               </td><td>lossguide    </td><td style=\"text-align: right;\">0.0105708</td><td style=\"text-align: right;\">0.406448</td><td style=\"text-align: right;\">          8</td><td style=\"text-align: right;\">     9</td><td style=\"text-align: right;\">         770.978</td><td style=\"text-align: right;\">  0.2</td></tr>\n",
              "<tr><td>XGBoost_trainable_82dfcba6</td><td>TERMINATED</td><td>               </td><td>lossguide    </td><td style=\"text-align: right;\">0.0556884</td><td style=\"text-align: right;\">0.529778</td><td style=\"text-align: right;\">          8</td><td style=\"text-align: right;\">    27</td><td style=\"text-align: right;\">        3571.55 </td><td style=\"text-align: right;\">  0.2</td></tr>\n",
              "<tr><td>XGBoost_trainable_83046f9c</td><td>TERMINATED</td><td>               </td><td>depthwise    </td><td style=\"text-align: right;\">0.0632253</td><td style=\"text-align: right;\">0.878173</td><td style=\"text-align: right;\">          4</td><td style=\"text-align: right;\">    27</td><td style=\"text-align: right;\">        3114.75 </td><td style=\"text-align: right;\">  0.2</td></tr>\n",
              "<tr><td>XGBoost_trainable_832a3402</td><td>RUNNING   </td><td>172.28.0.2:4300</td><td>depthwise    </td><td style=\"text-align: right;\">0.0314498</td><td style=\"text-align: right;\">0.892913</td><td style=\"text-align: right;\">          1</td><td style=\"text-align: right;\">    34</td><td style=\"text-align: right;\">        1435.97 </td><td style=\"text-align: right;\">  0.2</td></tr>\n",
              "</tbody>\n",
              "</table><br><br>"
            ],
            "text/plain": [
              "<IPython.core.display.HTML object>"
            ]
          },
          "metadata": {
            "tags": []
          }
        },
        {
          "output_type": "stream",
          "text": [
            "Result for XGBoost_trainable_832a3402:\n",
            "  date: 2020-01-13_19-56-42\n",
            "  done: false\n",
            "  experiment_id: dba50441a96149289476f25c4382c3e2\n",
            "  experiment_tag: 4_eta=0.03145,gamma=0.89291,grow_policy=depthwise,max_depth=1\n",
            "  hostname: 9991d65102f3\n",
            "  iterations_since_restore: 8\n",
            "  mean_accuracy: 0.2\n",
            "  node_ip: 172.28.0.2\n",
            "  pid: 4300\n",
            "  time_since_restore: 210.72175431251526\n",
            "  time_this_iter_s: 26.421987771987915\n",
            "  time_total_s: 1462.3874506950378\n",
            "  timestamp: 1578945402\n",
            "  timesteps_since_restore: 0\n",
            "  training_iteration: 35\n",
            "  trial_id: 832a3402\n",
            "  \n"
          ],
          "name": "stdout"
        },
        {
          "output_type": "display_data",
          "data": {
            "text/html": [
              "== Status ==<br>Memory usage on this node: 1.4/12.7 GiB<br>Using HyperBand: num_stopped=3 total_brackets=1\n",
              "Round #0:\n",
              "  Bracket(Max Size (n)=1, Milestone (r)=54, completed=24.3%): {RUNNING: 1, TERMINATED: 3} <br>Resources requested: 1/2 CPUs, 0/0 GPUs, 0.0/6.1 GiB heap, 0.0/2.1 GiB objects<br>Result logdir: /root/ray_results/XGBoost_trainable<br>Number of trials: 4 (3 TERMINATED, 1 RUNNING)<br><table>\n",
              "<thead>\n",
              "<tr><th>Trial name                </th><th>status    </th><th>loc            </th><th>grow_policy  </th><th style=\"text-align: right;\">      eta</th><th style=\"text-align: right;\">   gamma</th><th style=\"text-align: right;\">  max_depth</th><th style=\"text-align: right;\">  iter</th><th style=\"text-align: right;\">  total time (s)</th><th style=\"text-align: right;\">  acc</th></tr>\n",
              "</thead>\n",
              "<tbody>\n",
              "<tr><td>XGBoost_trainable_82b61090</td><td>TERMINATED</td><td>               </td><td>lossguide    </td><td style=\"text-align: right;\">0.0105708</td><td style=\"text-align: right;\">0.406448</td><td style=\"text-align: right;\">          8</td><td style=\"text-align: right;\">     9</td><td style=\"text-align: right;\">         770.978</td><td style=\"text-align: right;\">  0.2</td></tr>\n",
              "<tr><td>XGBoost_trainable_82dfcba6</td><td>TERMINATED</td><td>               </td><td>lossguide    </td><td style=\"text-align: right;\">0.0556884</td><td style=\"text-align: right;\">0.529778</td><td style=\"text-align: right;\">          8</td><td style=\"text-align: right;\">    27</td><td style=\"text-align: right;\">        3571.55 </td><td style=\"text-align: right;\">  0.2</td></tr>\n",
              "<tr><td>XGBoost_trainable_83046f9c</td><td>TERMINATED</td><td>               </td><td>depthwise    </td><td style=\"text-align: right;\">0.0632253</td><td style=\"text-align: right;\">0.878173</td><td style=\"text-align: right;\">          4</td><td style=\"text-align: right;\">    27</td><td style=\"text-align: right;\">        3114.75 </td><td style=\"text-align: right;\">  0.2</td></tr>\n",
              "<tr><td>XGBoost_trainable_832a3402</td><td>RUNNING   </td><td>172.28.0.2:4300</td><td>depthwise    </td><td style=\"text-align: right;\">0.0314498</td><td style=\"text-align: right;\">0.892913</td><td style=\"text-align: right;\">          1</td><td style=\"text-align: right;\">    35</td><td style=\"text-align: right;\">        1462.39 </td><td style=\"text-align: right;\">  0.2</td></tr>\n",
              "</tbody>\n",
              "</table><br><br>"
            ],
            "text/plain": [
              "<IPython.core.display.HTML object>"
            ]
          },
          "metadata": {
            "tags": []
          }
        },
        {
          "output_type": "stream",
          "text": [
            "Result for XGBoost_trainable_832a3402:\n",
            "  date: 2020-01-13_19-57-09\n",
            "  done: false\n",
            "  experiment_id: dba50441a96149289476f25c4382c3e2\n",
            "  experiment_tag: 4_eta=0.03145,gamma=0.89291,grow_policy=depthwise,max_depth=1\n",
            "  hostname: 9991d65102f3\n",
            "  iterations_since_restore: 9\n",
            "  mean_accuracy: 0.2\n",
            "  node_ip: 172.28.0.2\n",
            "  pid: 4300\n",
            "  time_since_restore: 237.10862636566162\n",
            "  time_this_iter_s: 26.386872053146362\n",
            "  time_total_s: 1488.7743227481842\n",
            "  timestamp: 1578945429\n",
            "  timesteps_since_restore: 0\n",
            "  training_iteration: 36\n",
            "  trial_id: 832a3402\n",
            "  \n"
          ],
          "name": "stdout"
        },
        {
          "output_type": "display_data",
          "data": {
            "text/html": [
              "== Status ==<br>Memory usage on this node: 1.4/12.7 GiB<br>Using HyperBand: num_stopped=3 total_brackets=1\n",
              "Round #0:\n",
              "  Bracket(Max Size (n)=1, Milestone (r)=54, completed=24.5%): {RUNNING: 1, TERMINATED: 3} <br>Resources requested: 1/2 CPUs, 0/0 GPUs, 0.0/6.1 GiB heap, 0.0/2.1 GiB objects<br>Result logdir: /root/ray_results/XGBoost_trainable<br>Number of trials: 4 (3 TERMINATED, 1 RUNNING)<br><table>\n",
              "<thead>\n",
              "<tr><th>Trial name                </th><th>status    </th><th>loc            </th><th>grow_policy  </th><th style=\"text-align: right;\">      eta</th><th style=\"text-align: right;\">   gamma</th><th style=\"text-align: right;\">  max_depth</th><th style=\"text-align: right;\">  iter</th><th style=\"text-align: right;\">  total time (s)</th><th style=\"text-align: right;\">  acc</th></tr>\n",
              "</thead>\n",
              "<tbody>\n",
              "<tr><td>XGBoost_trainable_82b61090</td><td>TERMINATED</td><td>               </td><td>lossguide    </td><td style=\"text-align: right;\">0.0105708</td><td style=\"text-align: right;\">0.406448</td><td style=\"text-align: right;\">          8</td><td style=\"text-align: right;\">     9</td><td style=\"text-align: right;\">         770.978</td><td style=\"text-align: right;\">  0.2</td></tr>\n",
              "<tr><td>XGBoost_trainable_82dfcba6</td><td>TERMINATED</td><td>               </td><td>lossguide    </td><td style=\"text-align: right;\">0.0556884</td><td style=\"text-align: right;\">0.529778</td><td style=\"text-align: right;\">          8</td><td style=\"text-align: right;\">    27</td><td style=\"text-align: right;\">        3571.55 </td><td style=\"text-align: right;\">  0.2</td></tr>\n",
              "<tr><td>XGBoost_trainable_83046f9c</td><td>TERMINATED</td><td>               </td><td>depthwise    </td><td style=\"text-align: right;\">0.0632253</td><td style=\"text-align: right;\">0.878173</td><td style=\"text-align: right;\">          4</td><td style=\"text-align: right;\">    27</td><td style=\"text-align: right;\">        3114.75 </td><td style=\"text-align: right;\">  0.2</td></tr>\n",
              "<tr><td>XGBoost_trainable_832a3402</td><td>RUNNING   </td><td>172.28.0.2:4300</td><td>depthwise    </td><td style=\"text-align: right;\">0.0314498</td><td style=\"text-align: right;\">0.892913</td><td style=\"text-align: right;\">          1</td><td style=\"text-align: right;\">    36</td><td style=\"text-align: right;\">        1488.77 </td><td style=\"text-align: right;\">  0.2</td></tr>\n",
              "</tbody>\n",
              "</table><br><br>"
            ],
            "text/plain": [
              "<IPython.core.display.HTML object>"
            ]
          },
          "metadata": {
            "tags": []
          }
        },
        {
          "output_type": "stream",
          "text": [
            "Result for XGBoost_trainable_832a3402:\n",
            "  date: 2020-01-13_19-57-35\n",
            "  done: false\n",
            "  experiment_id: dba50441a96149289476f25c4382c3e2\n",
            "  experiment_tag: 4_eta=0.03145,gamma=0.89291,grow_policy=depthwise,max_depth=1\n",
            "  hostname: 9991d65102f3\n",
            "  iterations_since_restore: 10\n",
            "  mean_accuracy: 0.2\n",
            "  node_ip: 172.28.0.2\n",
            "  pid: 4300\n",
            "  time_since_restore: 263.31735944747925\n",
            "  time_this_iter_s: 26.208733081817627\n",
            "  time_total_s: 1514.9830558300018\n",
            "  timestamp: 1578945455\n",
            "  timesteps_since_restore: 0\n",
            "  training_iteration: 37\n",
            "  trial_id: 832a3402\n",
            "  \n"
          ],
          "name": "stdout"
        },
        {
          "output_type": "display_data",
          "data": {
            "text/html": [
              "== Status ==<br>Memory usage on this node: 1.4/12.7 GiB<br>Using HyperBand: num_stopped=3 total_brackets=1\n",
              "Round #0:\n",
              "  Bracket(Max Size (n)=1, Milestone (r)=54, completed=24.8%): {RUNNING: 1, TERMINATED: 3} <br>Resources requested: 1/2 CPUs, 0/0 GPUs, 0.0/6.1 GiB heap, 0.0/2.1 GiB objects<br>Result logdir: /root/ray_results/XGBoost_trainable<br>Number of trials: 4 (3 TERMINATED, 1 RUNNING)<br><table>\n",
              "<thead>\n",
              "<tr><th>Trial name                </th><th>status    </th><th>loc            </th><th>grow_policy  </th><th style=\"text-align: right;\">      eta</th><th style=\"text-align: right;\">   gamma</th><th style=\"text-align: right;\">  max_depth</th><th style=\"text-align: right;\">  iter</th><th style=\"text-align: right;\">  total time (s)</th><th style=\"text-align: right;\">  acc</th></tr>\n",
              "</thead>\n",
              "<tbody>\n",
              "<tr><td>XGBoost_trainable_82b61090</td><td>TERMINATED</td><td>               </td><td>lossguide    </td><td style=\"text-align: right;\">0.0105708</td><td style=\"text-align: right;\">0.406448</td><td style=\"text-align: right;\">          8</td><td style=\"text-align: right;\">     9</td><td style=\"text-align: right;\">         770.978</td><td style=\"text-align: right;\">  0.2</td></tr>\n",
              "<tr><td>XGBoost_trainable_82dfcba6</td><td>TERMINATED</td><td>               </td><td>lossguide    </td><td style=\"text-align: right;\">0.0556884</td><td style=\"text-align: right;\">0.529778</td><td style=\"text-align: right;\">          8</td><td style=\"text-align: right;\">    27</td><td style=\"text-align: right;\">        3571.55 </td><td style=\"text-align: right;\">  0.2</td></tr>\n",
              "<tr><td>XGBoost_trainable_83046f9c</td><td>TERMINATED</td><td>               </td><td>depthwise    </td><td style=\"text-align: right;\">0.0632253</td><td style=\"text-align: right;\">0.878173</td><td style=\"text-align: right;\">          4</td><td style=\"text-align: right;\">    27</td><td style=\"text-align: right;\">        3114.75 </td><td style=\"text-align: right;\">  0.2</td></tr>\n",
              "<tr><td>XGBoost_trainable_832a3402</td><td>RUNNING   </td><td>172.28.0.2:4300</td><td>depthwise    </td><td style=\"text-align: right;\">0.0314498</td><td style=\"text-align: right;\">0.892913</td><td style=\"text-align: right;\">          1</td><td style=\"text-align: right;\">    37</td><td style=\"text-align: right;\">        1514.98 </td><td style=\"text-align: right;\">  0.2</td></tr>\n",
              "</tbody>\n",
              "</table><br><br>"
            ],
            "text/plain": [
              "<IPython.core.display.HTML object>"
            ]
          },
          "metadata": {
            "tags": []
          }
        },
        {
          "output_type": "stream",
          "text": [
            "Result for XGBoost_trainable_832a3402:\n",
            "  date: 2020-01-13_19-58-01\n",
            "  done: false\n",
            "  experiment_id: dba50441a96149289476f25c4382c3e2\n",
            "  experiment_tag: 4_eta=0.03145,gamma=0.89291,grow_policy=depthwise,max_depth=1\n",
            "  hostname: 9991d65102f3\n",
            "  iterations_since_restore: 11\n",
            "  mean_accuracy: 0.2\n",
            "  node_ip: 172.28.0.2\n",
            "  pid: 4300\n",
            "  time_since_restore: 289.57299184799194\n",
            "  time_this_iter_s: 26.255632400512695\n",
            "  time_total_s: 1541.2386882305145\n",
            "  timestamp: 1578945481\n",
            "  timesteps_since_restore: 0\n",
            "  training_iteration: 38\n",
            "  trial_id: 832a3402\n",
            "  \n"
          ],
          "name": "stdout"
        },
        {
          "output_type": "display_data",
          "data": {
            "text/html": [
              "== Status ==<br>Memory usage on this node: 1.4/12.7 GiB<br>Using HyperBand: num_stopped=3 total_brackets=1\n",
              "Round #0:\n",
              "  Bracket(Max Size (n)=1, Milestone (r)=54, completed=25.0%): {RUNNING: 1, TERMINATED: 3} <br>Resources requested: 1/2 CPUs, 0/0 GPUs, 0.0/6.1 GiB heap, 0.0/2.1 GiB objects<br>Result logdir: /root/ray_results/XGBoost_trainable<br>Number of trials: 4 (3 TERMINATED, 1 RUNNING)<br><table>\n",
              "<thead>\n",
              "<tr><th>Trial name                </th><th>status    </th><th>loc            </th><th>grow_policy  </th><th style=\"text-align: right;\">      eta</th><th style=\"text-align: right;\">   gamma</th><th style=\"text-align: right;\">  max_depth</th><th style=\"text-align: right;\">  iter</th><th style=\"text-align: right;\">  total time (s)</th><th style=\"text-align: right;\">  acc</th></tr>\n",
              "</thead>\n",
              "<tbody>\n",
              "<tr><td>XGBoost_trainable_82b61090</td><td>TERMINATED</td><td>               </td><td>lossguide    </td><td style=\"text-align: right;\">0.0105708</td><td style=\"text-align: right;\">0.406448</td><td style=\"text-align: right;\">          8</td><td style=\"text-align: right;\">     9</td><td style=\"text-align: right;\">         770.978</td><td style=\"text-align: right;\">  0.2</td></tr>\n",
              "<tr><td>XGBoost_trainable_82dfcba6</td><td>TERMINATED</td><td>               </td><td>lossguide    </td><td style=\"text-align: right;\">0.0556884</td><td style=\"text-align: right;\">0.529778</td><td style=\"text-align: right;\">          8</td><td style=\"text-align: right;\">    27</td><td style=\"text-align: right;\">        3571.55 </td><td style=\"text-align: right;\">  0.2</td></tr>\n",
              "<tr><td>XGBoost_trainable_83046f9c</td><td>TERMINATED</td><td>               </td><td>depthwise    </td><td style=\"text-align: right;\">0.0632253</td><td style=\"text-align: right;\">0.878173</td><td style=\"text-align: right;\">          4</td><td style=\"text-align: right;\">    27</td><td style=\"text-align: right;\">        3114.75 </td><td style=\"text-align: right;\">  0.2</td></tr>\n",
              "<tr><td>XGBoost_trainable_832a3402</td><td>RUNNING   </td><td>172.28.0.2:4300</td><td>depthwise    </td><td style=\"text-align: right;\">0.0314498</td><td style=\"text-align: right;\">0.892913</td><td style=\"text-align: right;\">          1</td><td style=\"text-align: right;\">    38</td><td style=\"text-align: right;\">        1541.24 </td><td style=\"text-align: right;\">  0.2</td></tr>\n",
              "</tbody>\n",
              "</table><br><br>"
            ],
            "text/plain": [
              "<IPython.core.display.HTML object>"
            ]
          },
          "metadata": {
            "tags": []
          }
        },
        {
          "output_type": "stream",
          "text": [
            "Result for XGBoost_trainable_832a3402:\n",
            "  date: 2020-01-13_19-58-28\n",
            "  done: false\n",
            "  experiment_id: dba50441a96149289476f25c4382c3e2\n",
            "  experiment_tag: 4_eta=0.03145,gamma=0.89291,grow_policy=depthwise,max_depth=1\n",
            "  hostname: 9991d65102f3\n",
            "  iterations_since_restore: 12\n",
            "  mean_accuracy: 0.2\n",
            "  node_ip: 172.28.0.2\n",
            "  pid: 4300\n",
            "  time_since_restore: 315.9213900566101\n",
            "  time_this_iter_s: 26.348398208618164\n",
            "  time_total_s: 1567.5870864391327\n",
            "  timestamp: 1578945508\n",
            "  timesteps_since_restore: 0\n",
            "  training_iteration: 39\n",
            "  trial_id: 832a3402\n",
            "  \n"
          ],
          "name": "stdout"
        },
        {
          "output_type": "display_data",
          "data": {
            "text/html": [
              "== Status ==<br>Memory usage on this node: 1.4/12.7 GiB<br>Using HyperBand: num_stopped=3 total_brackets=1\n",
              "Round #0:\n",
              "  Bracket(Max Size (n)=1, Milestone (r)=54, completed=25.2%): {RUNNING: 1, TERMINATED: 3} <br>Resources requested: 1/2 CPUs, 0/0 GPUs, 0.0/6.1 GiB heap, 0.0/2.1 GiB objects<br>Result logdir: /root/ray_results/XGBoost_trainable<br>Number of trials: 4 (3 TERMINATED, 1 RUNNING)<br><table>\n",
              "<thead>\n",
              "<tr><th>Trial name                </th><th>status    </th><th>loc            </th><th>grow_policy  </th><th style=\"text-align: right;\">      eta</th><th style=\"text-align: right;\">   gamma</th><th style=\"text-align: right;\">  max_depth</th><th style=\"text-align: right;\">  iter</th><th style=\"text-align: right;\">  total time (s)</th><th style=\"text-align: right;\">  acc</th></tr>\n",
              "</thead>\n",
              "<tbody>\n",
              "<tr><td>XGBoost_trainable_82b61090</td><td>TERMINATED</td><td>               </td><td>lossguide    </td><td style=\"text-align: right;\">0.0105708</td><td style=\"text-align: right;\">0.406448</td><td style=\"text-align: right;\">          8</td><td style=\"text-align: right;\">     9</td><td style=\"text-align: right;\">         770.978</td><td style=\"text-align: right;\">  0.2</td></tr>\n",
              "<tr><td>XGBoost_trainable_82dfcba6</td><td>TERMINATED</td><td>               </td><td>lossguide    </td><td style=\"text-align: right;\">0.0556884</td><td style=\"text-align: right;\">0.529778</td><td style=\"text-align: right;\">          8</td><td style=\"text-align: right;\">    27</td><td style=\"text-align: right;\">        3571.55 </td><td style=\"text-align: right;\">  0.2</td></tr>\n",
              "<tr><td>XGBoost_trainable_83046f9c</td><td>TERMINATED</td><td>               </td><td>depthwise    </td><td style=\"text-align: right;\">0.0632253</td><td style=\"text-align: right;\">0.878173</td><td style=\"text-align: right;\">          4</td><td style=\"text-align: right;\">    27</td><td style=\"text-align: right;\">        3114.75 </td><td style=\"text-align: right;\">  0.2</td></tr>\n",
              "<tr><td>XGBoost_trainable_832a3402</td><td>RUNNING   </td><td>172.28.0.2:4300</td><td>depthwise    </td><td style=\"text-align: right;\">0.0314498</td><td style=\"text-align: right;\">0.892913</td><td style=\"text-align: right;\">          1</td><td style=\"text-align: right;\">    39</td><td style=\"text-align: right;\">        1567.59 </td><td style=\"text-align: right;\">  0.2</td></tr>\n",
              "</tbody>\n",
              "</table><br><br>"
            ],
            "text/plain": [
              "<IPython.core.display.HTML object>"
            ]
          },
          "metadata": {
            "tags": []
          }
        },
        {
          "output_type": "stream",
          "text": [
            "Result for XGBoost_trainable_832a3402:\n",
            "  date: 2020-01-13_19-58-54\n",
            "  done: false\n",
            "  experiment_id: dba50441a96149289476f25c4382c3e2\n",
            "  experiment_tag: 4_eta=0.03145,gamma=0.89291,grow_policy=depthwise,max_depth=1\n",
            "  hostname: 9991d65102f3\n",
            "  iterations_since_restore: 13\n",
            "  mean_accuracy: 0.2\n",
            "  node_ip: 172.28.0.2\n",
            "  pid: 4300\n",
            "  time_since_restore: 342.0704460144043\n",
            "  time_this_iter_s: 26.14905595779419\n",
            "  time_total_s: 1593.7361423969269\n",
            "  timestamp: 1578945534\n",
            "  timesteps_since_restore: 0\n",
            "  training_iteration: 40\n",
            "  trial_id: 832a3402\n",
            "  \n"
          ],
          "name": "stdout"
        },
        {
          "output_type": "display_data",
          "data": {
            "text/html": [
              "== Status ==<br>Memory usage on this node: 1.4/12.7 GiB<br>Using HyperBand: num_stopped=3 total_brackets=1\n",
              "Round #0:\n",
              "  Bracket(Max Size (n)=1, Milestone (r)=54, completed=25.5%): {RUNNING: 1, TERMINATED: 3} <br>Resources requested: 1/2 CPUs, 0/0 GPUs, 0.0/6.1 GiB heap, 0.0/2.1 GiB objects<br>Result logdir: /root/ray_results/XGBoost_trainable<br>Number of trials: 4 (3 TERMINATED, 1 RUNNING)<br><table>\n",
              "<thead>\n",
              "<tr><th>Trial name                </th><th>status    </th><th>loc            </th><th>grow_policy  </th><th style=\"text-align: right;\">      eta</th><th style=\"text-align: right;\">   gamma</th><th style=\"text-align: right;\">  max_depth</th><th style=\"text-align: right;\">  iter</th><th style=\"text-align: right;\">  total time (s)</th><th style=\"text-align: right;\">  acc</th></tr>\n",
              "</thead>\n",
              "<tbody>\n",
              "<tr><td>XGBoost_trainable_82b61090</td><td>TERMINATED</td><td>               </td><td>lossguide    </td><td style=\"text-align: right;\">0.0105708</td><td style=\"text-align: right;\">0.406448</td><td style=\"text-align: right;\">          8</td><td style=\"text-align: right;\">     9</td><td style=\"text-align: right;\">         770.978</td><td style=\"text-align: right;\">  0.2</td></tr>\n",
              "<tr><td>XGBoost_trainable_82dfcba6</td><td>TERMINATED</td><td>               </td><td>lossguide    </td><td style=\"text-align: right;\">0.0556884</td><td style=\"text-align: right;\">0.529778</td><td style=\"text-align: right;\">          8</td><td style=\"text-align: right;\">    27</td><td style=\"text-align: right;\">        3571.55 </td><td style=\"text-align: right;\">  0.2</td></tr>\n",
              "<tr><td>XGBoost_trainable_83046f9c</td><td>TERMINATED</td><td>               </td><td>depthwise    </td><td style=\"text-align: right;\">0.0632253</td><td style=\"text-align: right;\">0.878173</td><td style=\"text-align: right;\">          4</td><td style=\"text-align: right;\">    27</td><td style=\"text-align: right;\">        3114.75 </td><td style=\"text-align: right;\">  0.2</td></tr>\n",
              "<tr><td>XGBoost_trainable_832a3402</td><td>RUNNING   </td><td>172.28.0.2:4300</td><td>depthwise    </td><td style=\"text-align: right;\">0.0314498</td><td style=\"text-align: right;\">0.892913</td><td style=\"text-align: right;\">          1</td><td style=\"text-align: right;\">    40</td><td style=\"text-align: right;\">        1593.74 </td><td style=\"text-align: right;\">  0.2</td></tr>\n",
              "</tbody>\n",
              "</table><br><br>"
            ],
            "text/plain": [
              "<IPython.core.display.HTML object>"
            ]
          },
          "metadata": {
            "tags": []
          }
        },
        {
          "output_type": "stream",
          "text": [
            "Result for XGBoost_trainable_832a3402:\n",
            "  date: 2020-01-13_19-59-20\n",
            "  done: false\n",
            "  experiment_id: dba50441a96149289476f25c4382c3e2\n",
            "  experiment_tag: 4_eta=0.03145,gamma=0.89291,grow_policy=depthwise,max_depth=1\n",
            "  hostname: 9991d65102f3\n",
            "  iterations_since_restore: 14\n",
            "  mean_accuracy: 0.2\n",
            "  node_ip: 172.28.0.2\n",
            "  pid: 4300\n",
            "  time_since_restore: 367.8319661617279\n",
            "  time_this_iter_s: 25.76152014732361\n",
            "  time_total_s: 1619.4976625442505\n",
            "  timestamp: 1578945560\n",
            "  timesteps_since_restore: 0\n",
            "  training_iteration: 41\n",
            "  trial_id: 832a3402\n",
            "  \n"
          ],
          "name": "stdout"
        },
        {
          "output_type": "display_data",
          "data": {
            "text/html": [
              "== Status ==<br>Memory usage on this node: 1.4/12.7 GiB<br>Using HyperBand: num_stopped=3 total_brackets=1\n",
              "Round #0:\n",
              "  Bracket(Max Size (n)=1, Milestone (r)=54, completed=25.7%): {RUNNING: 1, TERMINATED: 3} <br>Resources requested: 1/2 CPUs, 0/0 GPUs, 0.0/6.1 GiB heap, 0.0/2.1 GiB objects<br>Result logdir: /root/ray_results/XGBoost_trainable<br>Number of trials: 4 (3 TERMINATED, 1 RUNNING)<br><table>\n",
              "<thead>\n",
              "<tr><th>Trial name                </th><th>status    </th><th>loc            </th><th>grow_policy  </th><th style=\"text-align: right;\">      eta</th><th style=\"text-align: right;\">   gamma</th><th style=\"text-align: right;\">  max_depth</th><th style=\"text-align: right;\">  iter</th><th style=\"text-align: right;\">  total time (s)</th><th style=\"text-align: right;\">  acc</th></tr>\n",
              "</thead>\n",
              "<tbody>\n",
              "<tr><td>XGBoost_trainable_82b61090</td><td>TERMINATED</td><td>               </td><td>lossguide    </td><td style=\"text-align: right;\">0.0105708</td><td style=\"text-align: right;\">0.406448</td><td style=\"text-align: right;\">          8</td><td style=\"text-align: right;\">     9</td><td style=\"text-align: right;\">         770.978</td><td style=\"text-align: right;\">  0.2</td></tr>\n",
              "<tr><td>XGBoost_trainable_82dfcba6</td><td>TERMINATED</td><td>               </td><td>lossguide    </td><td style=\"text-align: right;\">0.0556884</td><td style=\"text-align: right;\">0.529778</td><td style=\"text-align: right;\">          8</td><td style=\"text-align: right;\">    27</td><td style=\"text-align: right;\">        3571.55 </td><td style=\"text-align: right;\">  0.2</td></tr>\n",
              "<tr><td>XGBoost_trainable_83046f9c</td><td>TERMINATED</td><td>               </td><td>depthwise    </td><td style=\"text-align: right;\">0.0632253</td><td style=\"text-align: right;\">0.878173</td><td style=\"text-align: right;\">          4</td><td style=\"text-align: right;\">    27</td><td style=\"text-align: right;\">        3114.75 </td><td style=\"text-align: right;\">  0.2</td></tr>\n",
              "<tr><td>XGBoost_trainable_832a3402</td><td>RUNNING   </td><td>172.28.0.2:4300</td><td>depthwise    </td><td style=\"text-align: right;\">0.0314498</td><td style=\"text-align: right;\">0.892913</td><td style=\"text-align: right;\">          1</td><td style=\"text-align: right;\">    41</td><td style=\"text-align: right;\">        1619.5  </td><td style=\"text-align: right;\">  0.2</td></tr>\n",
              "</tbody>\n",
              "</table><br><br>"
            ],
            "text/plain": [
              "<IPython.core.display.HTML object>"
            ]
          },
          "metadata": {
            "tags": []
          }
        },
        {
          "output_type": "stream",
          "text": [
            "Result for XGBoost_trainable_832a3402:\n",
            "  date: 2020-01-13_19-59-45\n",
            "  done: false\n",
            "  experiment_id: dba50441a96149289476f25c4382c3e2\n",
            "  experiment_tag: 4_eta=0.03145,gamma=0.89291,grow_policy=depthwise,max_depth=1\n",
            "  hostname: 9991d65102f3\n",
            "  iterations_since_restore: 15\n",
            "  mean_accuracy: 0.2\n",
            "  node_ip: 172.28.0.2\n",
            "  pid: 4300\n",
            "  time_since_restore: 393.6519069671631\n",
            "  time_this_iter_s: 25.81994080543518\n",
            "  time_total_s: 1645.3176033496857\n",
            "  timestamp: 1578945585\n",
            "  timesteps_since_restore: 0\n",
            "  training_iteration: 42\n",
            "  trial_id: 832a3402\n",
            "  \n"
          ],
          "name": "stdout"
        },
        {
          "output_type": "display_data",
          "data": {
            "text/html": [
              "== Status ==<br>Memory usage on this node: 1.4/12.7 GiB<br>Using HyperBand: num_stopped=3 total_brackets=1\n",
              "Round #0:\n",
              "  Bracket(Max Size (n)=1, Milestone (r)=54, completed=26.0%): {RUNNING: 1, TERMINATED: 3} <br>Resources requested: 1/2 CPUs, 0/0 GPUs, 0.0/6.1 GiB heap, 0.0/2.1 GiB objects<br>Result logdir: /root/ray_results/XGBoost_trainable<br>Number of trials: 4 (3 TERMINATED, 1 RUNNING)<br><table>\n",
              "<thead>\n",
              "<tr><th>Trial name                </th><th>status    </th><th>loc            </th><th>grow_policy  </th><th style=\"text-align: right;\">      eta</th><th style=\"text-align: right;\">   gamma</th><th style=\"text-align: right;\">  max_depth</th><th style=\"text-align: right;\">  iter</th><th style=\"text-align: right;\">  total time (s)</th><th style=\"text-align: right;\">  acc</th></tr>\n",
              "</thead>\n",
              "<tbody>\n",
              "<tr><td>XGBoost_trainable_82b61090</td><td>TERMINATED</td><td>               </td><td>lossguide    </td><td style=\"text-align: right;\">0.0105708</td><td style=\"text-align: right;\">0.406448</td><td style=\"text-align: right;\">          8</td><td style=\"text-align: right;\">     9</td><td style=\"text-align: right;\">         770.978</td><td style=\"text-align: right;\">  0.2</td></tr>\n",
              "<tr><td>XGBoost_trainable_82dfcba6</td><td>TERMINATED</td><td>               </td><td>lossguide    </td><td style=\"text-align: right;\">0.0556884</td><td style=\"text-align: right;\">0.529778</td><td style=\"text-align: right;\">          8</td><td style=\"text-align: right;\">    27</td><td style=\"text-align: right;\">        3571.55 </td><td style=\"text-align: right;\">  0.2</td></tr>\n",
              "<tr><td>XGBoost_trainable_83046f9c</td><td>TERMINATED</td><td>               </td><td>depthwise    </td><td style=\"text-align: right;\">0.0632253</td><td style=\"text-align: right;\">0.878173</td><td style=\"text-align: right;\">          4</td><td style=\"text-align: right;\">    27</td><td style=\"text-align: right;\">        3114.75 </td><td style=\"text-align: right;\">  0.2</td></tr>\n",
              "<tr><td>XGBoost_trainable_832a3402</td><td>RUNNING   </td><td>172.28.0.2:4300</td><td>depthwise    </td><td style=\"text-align: right;\">0.0314498</td><td style=\"text-align: right;\">0.892913</td><td style=\"text-align: right;\">          1</td><td style=\"text-align: right;\">    42</td><td style=\"text-align: right;\">        1645.32 </td><td style=\"text-align: right;\">  0.2</td></tr>\n",
              "</tbody>\n",
              "</table><br><br>"
            ],
            "text/plain": [
              "<IPython.core.display.HTML object>"
            ]
          },
          "metadata": {
            "tags": []
          }
        },
        {
          "output_type": "stream",
          "text": [
            "Result for XGBoost_trainable_832a3402:\n",
            "  date: 2020-01-13_20-00-11\n",
            "  done: false\n",
            "  experiment_id: dba50441a96149289476f25c4382c3e2\n",
            "  experiment_tag: 4_eta=0.03145,gamma=0.89291,grow_policy=depthwise,max_depth=1\n",
            "  hostname: 9991d65102f3\n",
            "  iterations_since_restore: 16\n",
            "  mean_accuracy: 0.2\n",
            "  node_ip: 172.28.0.2\n",
            "  pid: 4300\n",
            "  time_since_restore: 419.49870467185974\n",
            "  time_this_iter_s: 25.846797704696655\n",
            "  time_total_s: 1671.1644010543823\n",
            "  timestamp: 1578945611\n",
            "  timesteps_since_restore: 0\n",
            "  training_iteration: 43\n",
            "  trial_id: 832a3402\n",
            "  \n"
          ],
          "name": "stdout"
        },
        {
          "output_type": "display_data",
          "data": {
            "text/html": [
              "== Status ==<br>Memory usage on this node: 1.4/12.7 GiB<br>Using HyperBand: num_stopped=3 total_brackets=1\n",
              "Round #0:\n",
              "  Bracket(Max Size (n)=1, Milestone (r)=54, completed=26.2%): {RUNNING: 1, TERMINATED: 3} <br>Resources requested: 1/2 CPUs, 0/0 GPUs, 0.0/6.1 GiB heap, 0.0/2.1 GiB objects<br>Result logdir: /root/ray_results/XGBoost_trainable<br>Number of trials: 4 (3 TERMINATED, 1 RUNNING)<br><table>\n",
              "<thead>\n",
              "<tr><th>Trial name                </th><th>status    </th><th>loc            </th><th>grow_policy  </th><th style=\"text-align: right;\">      eta</th><th style=\"text-align: right;\">   gamma</th><th style=\"text-align: right;\">  max_depth</th><th style=\"text-align: right;\">  iter</th><th style=\"text-align: right;\">  total time (s)</th><th style=\"text-align: right;\">  acc</th></tr>\n",
              "</thead>\n",
              "<tbody>\n",
              "<tr><td>XGBoost_trainable_82b61090</td><td>TERMINATED</td><td>               </td><td>lossguide    </td><td style=\"text-align: right;\">0.0105708</td><td style=\"text-align: right;\">0.406448</td><td style=\"text-align: right;\">          8</td><td style=\"text-align: right;\">     9</td><td style=\"text-align: right;\">         770.978</td><td style=\"text-align: right;\">  0.2</td></tr>\n",
              "<tr><td>XGBoost_trainable_82dfcba6</td><td>TERMINATED</td><td>               </td><td>lossguide    </td><td style=\"text-align: right;\">0.0556884</td><td style=\"text-align: right;\">0.529778</td><td style=\"text-align: right;\">          8</td><td style=\"text-align: right;\">    27</td><td style=\"text-align: right;\">        3571.55 </td><td style=\"text-align: right;\">  0.2</td></tr>\n",
              "<tr><td>XGBoost_trainable_83046f9c</td><td>TERMINATED</td><td>               </td><td>depthwise    </td><td style=\"text-align: right;\">0.0632253</td><td style=\"text-align: right;\">0.878173</td><td style=\"text-align: right;\">          4</td><td style=\"text-align: right;\">    27</td><td style=\"text-align: right;\">        3114.75 </td><td style=\"text-align: right;\">  0.2</td></tr>\n",
              "<tr><td>XGBoost_trainable_832a3402</td><td>RUNNING   </td><td>172.28.0.2:4300</td><td>depthwise    </td><td style=\"text-align: right;\">0.0314498</td><td style=\"text-align: right;\">0.892913</td><td style=\"text-align: right;\">          1</td><td style=\"text-align: right;\">    43</td><td style=\"text-align: right;\">        1671.16 </td><td style=\"text-align: right;\">  0.2</td></tr>\n",
              "</tbody>\n",
              "</table><br><br>"
            ],
            "text/plain": [
              "<IPython.core.display.HTML object>"
            ]
          },
          "metadata": {
            "tags": []
          }
        },
        {
          "output_type": "stream",
          "text": [
            "Result for XGBoost_trainable_832a3402:\n",
            "  date: 2020-01-13_20-00-37\n",
            "  done: false\n",
            "  experiment_id: dba50441a96149289476f25c4382c3e2\n",
            "  experiment_tag: 4_eta=0.03145,gamma=0.89291,grow_policy=depthwise,max_depth=1\n",
            "  hostname: 9991d65102f3\n",
            "  iterations_since_restore: 17\n",
            "  mean_accuracy: 0.2\n",
            "  node_ip: 172.28.0.2\n",
            "  pid: 4300\n",
            "  time_since_restore: 445.67617678642273\n",
            "  time_this_iter_s: 26.17747211456299\n",
            "  time_total_s: 1697.3418731689453\n",
            "  timestamp: 1578945637\n",
            "  timesteps_since_restore: 0\n",
            "  training_iteration: 44\n",
            "  trial_id: 832a3402\n",
            "  \n"
          ],
          "name": "stdout"
        },
        {
          "output_type": "display_data",
          "data": {
            "text/html": [
              "== Status ==<br>Memory usage on this node: 1.4/12.7 GiB<br>Using HyperBand: num_stopped=3 total_brackets=1\n",
              "Round #0:\n",
              "  Bracket(Max Size (n)=1, Milestone (r)=54, completed=26.5%): {RUNNING: 1, TERMINATED: 3} <br>Resources requested: 1/2 CPUs, 0/0 GPUs, 0.0/6.1 GiB heap, 0.0/2.1 GiB objects<br>Result logdir: /root/ray_results/XGBoost_trainable<br>Number of trials: 4 (3 TERMINATED, 1 RUNNING)<br><table>\n",
              "<thead>\n",
              "<tr><th>Trial name                </th><th>status    </th><th>loc            </th><th>grow_policy  </th><th style=\"text-align: right;\">      eta</th><th style=\"text-align: right;\">   gamma</th><th style=\"text-align: right;\">  max_depth</th><th style=\"text-align: right;\">  iter</th><th style=\"text-align: right;\">  total time (s)</th><th style=\"text-align: right;\">  acc</th></tr>\n",
              "</thead>\n",
              "<tbody>\n",
              "<tr><td>XGBoost_trainable_82b61090</td><td>TERMINATED</td><td>               </td><td>lossguide    </td><td style=\"text-align: right;\">0.0105708</td><td style=\"text-align: right;\">0.406448</td><td style=\"text-align: right;\">          8</td><td style=\"text-align: right;\">     9</td><td style=\"text-align: right;\">         770.978</td><td style=\"text-align: right;\">  0.2</td></tr>\n",
              "<tr><td>XGBoost_trainable_82dfcba6</td><td>TERMINATED</td><td>               </td><td>lossguide    </td><td style=\"text-align: right;\">0.0556884</td><td style=\"text-align: right;\">0.529778</td><td style=\"text-align: right;\">          8</td><td style=\"text-align: right;\">    27</td><td style=\"text-align: right;\">        3571.55 </td><td style=\"text-align: right;\">  0.2</td></tr>\n",
              "<tr><td>XGBoost_trainable_83046f9c</td><td>TERMINATED</td><td>               </td><td>depthwise    </td><td style=\"text-align: right;\">0.0632253</td><td style=\"text-align: right;\">0.878173</td><td style=\"text-align: right;\">          4</td><td style=\"text-align: right;\">    27</td><td style=\"text-align: right;\">        3114.75 </td><td style=\"text-align: right;\">  0.2</td></tr>\n",
              "<tr><td>XGBoost_trainable_832a3402</td><td>RUNNING   </td><td>172.28.0.2:4300</td><td>depthwise    </td><td style=\"text-align: right;\">0.0314498</td><td style=\"text-align: right;\">0.892913</td><td style=\"text-align: right;\">          1</td><td style=\"text-align: right;\">    44</td><td style=\"text-align: right;\">        1697.34 </td><td style=\"text-align: right;\">  0.2</td></tr>\n",
              "</tbody>\n",
              "</table><br><br>"
            ],
            "text/plain": [
              "<IPython.core.display.HTML object>"
            ]
          },
          "metadata": {
            "tags": []
          }
        },
        {
          "output_type": "stream",
          "text": [
            "Result for XGBoost_trainable_832a3402:\n",
            "  date: 2020-01-13_20-01-03\n",
            "  done: false\n",
            "  experiment_id: dba50441a96149289476f25c4382c3e2\n",
            "  experiment_tag: 4_eta=0.03145,gamma=0.89291,grow_policy=depthwise,max_depth=1\n",
            "  hostname: 9991d65102f3\n",
            "  iterations_since_restore: 18\n",
            "  mean_accuracy: 0.2\n",
            "  node_ip: 172.28.0.2\n",
            "  pid: 4300\n",
            "  time_since_restore: 471.53244161605835\n",
            "  time_this_iter_s: 25.85626482963562\n",
            "  time_total_s: 1723.198137998581\n",
            "  timestamp: 1578945663\n",
            "  timesteps_since_restore: 0\n",
            "  training_iteration: 45\n",
            "  trial_id: 832a3402\n",
            "  \n"
          ],
          "name": "stdout"
        },
        {
          "output_type": "display_data",
          "data": {
            "text/html": [
              "== Status ==<br>Memory usage on this node: 1.4/12.7 GiB<br>Using HyperBand: num_stopped=3 total_brackets=1\n",
              "Round #0:\n",
              "  Bracket(Max Size (n)=1, Milestone (r)=54, completed=26.7%): {RUNNING: 1, TERMINATED: 3} <br>Resources requested: 1/2 CPUs, 0/0 GPUs, 0.0/6.1 GiB heap, 0.0/2.1 GiB objects<br>Result logdir: /root/ray_results/XGBoost_trainable<br>Number of trials: 4 (3 TERMINATED, 1 RUNNING)<br><table>\n",
              "<thead>\n",
              "<tr><th>Trial name                </th><th>status    </th><th>loc            </th><th>grow_policy  </th><th style=\"text-align: right;\">      eta</th><th style=\"text-align: right;\">   gamma</th><th style=\"text-align: right;\">  max_depth</th><th style=\"text-align: right;\">  iter</th><th style=\"text-align: right;\">  total time (s)</th><th style=\"text-align: right;\">  acc</th></tr>\n",
              "</thead>\n",
              "<tbody>\n",
              "<tr><td>XGBoost_trainable_82b61090</td><td>TERMINATED</td><td>               </td><td>lossguide    </td><td style=\"text-align: right;\">0.0105708</td><td style=\"text-align: right;\">0.406448</td><td style=\"text-align: right;\">          8</td><td style=\"text-align: right;\">     9</td><td style=\"text-align: right;\">         770.978</td><td style=\"text-align: right;\">  0.2</td></tr>\n",
              "<tr><td>XGBoost_trainable_82dfcba6</td><td>TERMINATED</td><td>               </td><td>lossguide    </td><td style=\"text-align: right;\">0.0556884</td><td style=\"text-align: right;\">0.529778</td><td style=\"text-align: right;\">          8</td><td style=\"text-align: right;\">    27</td><td style=\"text-align: right;\">        3571.55 </td><td style=\"text-align: right;\">  0.2</td></tr>\n",
              "<tr><td>XGBoost_trainable_83046f9c</td><td>TERMINATED</td><td>               </td><td>depthwise    </td><td style=\"text-align: right;\">0.0632253</td><td style=\"text-align: right;\">0.878173</td><td style=\"text-align: right;\">          4</td><td style=\"text-align: right;\">    27</td><td style=\"text-align: right;\">        3114.75 </td><td style=\"text-align: right;\">  0.2</td></tr>\n",
              "<tr><td>XGBoost_trainable_832a3402</td><td>RUNNING   </td><td>172.28.0.2:4300</td><td>depthwise    </td><td style=\"text-align: right;\">0.0314498</td><td style=\"text-align: right;\">0.892913</td><td style=\"text-align: right;\">          1</td><td style=\"text-align: right;\">    45</td><td style=\"text-align: right;\">        1723.2  </td><td style=\"text-align: right;\">  0.2</td></tr>\n",
              "</tbody>\n",
              "</table><br><br>"
            ],
            "text/plain": [
              "<IPython.core.display.HTML object>"
            ]
          },
          "metadata": {
            "tags": []
          }
        },
        {
          "output_type": "stream",
          "text": [
            "Result for XGBoost_trainable_832a3402:\n",
            "  date: 2020-01-13_20-01-29\n",
            "  done: false\n",
            "  experiment_id: dba50441a96149289476f25c4382c3e2\n",
            "  experiment_tag: 4_eta=0.03145,gamma=0.89291,grow_policy=depthwise,max_depth=1\n",
            "  hostname: 9991d65102f3\n",
            "  iterations_since_restore: 19\n",
            "  mean_accuracy: 0.2\n",
            "  node_ip: 172.28.0.2\n",
            "  pid: 4300\n",
            "  time_since_restore: 497.2497625350952\n",
            "  time_this_iter_s: 25.717320919036865\n",
            "  time_total_s: 1748.9154589176178\n",
            "  timestamp: 1578945689\n",
            "  timesteps_since_restore: 0\n",
            "  training_iteration: 46\n",
            "  trial_id: 832a3402\n",
            "  \n"
          ],
          "name": "stdout"
        },
        {
          "output_type": "display_data",
          "data": {
            "text/html": [
              "== Status ==<br>Memory usage on this node: 1.4/12.7 GiB<br>Using HyperBand: num_stopped=3 total_brackets=1\n",
              "Round #0:\n",
              "  Bracket(Max Size (n)=1, Milestone (r)=54, completed=27.0%): {RUNNING: 1, TERMINATED: 3} <br>Resources requested: 1/2 CPUs, 0/0 GPUs, 0.0/6.1 GiB heap, 0.0/2.1 GiB objects<br>Result logdir: /root/ray_results/XGBoost_trainable<br>Number of trials: 4 (3 TERMINATED, 1 RUNNING)<br><table>\n",
              "<thead>\n",
              "<tr><th>Trial name                </th><th>status    </th><th>loc            </th><th>grow_policy  </th><th style=\"text-align: right;\">      eta</th><th style=\"text-align: right;\">   gamma</th><th style=\"text-align: right;\">  max_depth</th><th style=\"text-align: right;\">  iter</th><th style=\"text-align: right;\">  total time (s)</th><th style=\"text-align: right;\">  acc</th></tr>\n",
              "</thead>\n",
              "<tbody>\n",
              "<tr><td>XGBoost_trainable_82b61090</td><td>TERMINATED</td><td>               </td><td>lossguide    </td><td style=\"text-align: right;\">0.0105708</td><td style=\"text-align: right;\">0.406448</td><td style=\"text-align: right;\">          8</td><td style=\"text-align: right;\">     9</td><td style=\"text-align: right;\">         770.978</td><td style=\"text-align: right;\">  0.2</td></tr>\n",
              "<tr><td>XGBoost_trainable_82dfcba6</td><td>TERMINATED</td><td>               </td><td>lossguide    </td><td style=\"text-align: right;\">0.0556884</td><td style=\"text-align: right;\">0.529778</td><td style=\"text-align: right;\">          8</td><td style=\"text-align: right;\">    27</td><td style=\"text-align: right;\">        3571.55 </td><td style=\"text-align: right;\">  0.2</td></tr>\n",
              "<tr><td>XGBoost_trainable_83046f9c</td><td>TERMINATED</td><td>               </td><td>depthwise    </td><td style=\"text-align: right;\">0.0632253</td><td style=\"text-align: right;\">0.878173</td><td style=\"text-align: right;\">          4</td><td style=\"text-align: right;\">    27</td><td style=\"text-align: right;\">        3114.75 </td><td style=\"text-align: right;\">  0.2</td></tr>\n",
              "<tr><td>XGBoost_trainable_832a3402</td><td>RUNNING   </td><td>172.28.0.2:4300</td><td>depthwise    </td><td style=\"text-align: right;\">0.0314498</td><td style=\"text-align: right;\">0.892913</td><td style=\"text-align: right;\">          1</td><td style=\"text-align: right;\">    46</td><td style=\"text-align: right;\">        1748.92 </td><td style=\"text-align: right;\">  0.2</td></tr>\n",
              "</tbody>\n",
              "</table><br><br>"
            ],
            "text/plain": [
              "<IPython.core.display.HTML object>"
            ]
          },
          "metadata": {
            "tags": []
          }
        },
        {
          "output_type": "stream",
          "text": [
            "Result for XGBoost_trainable_832a3402:\n",
            "  date: 2020-01-13_20-01-55\n",
            "  done: false\n",
            "  experiment_id: dba50441a96149289476f25c4382c3e2\n",
            "  experiment_tag: 4_eta=0.03145,gamma=0.89291,grow_policy=depthwise,max_depth=1\n",
            "  hostname: 9991d65102f3\n",
            "  iterations_since_restore: 20\n",
            "  mean_accuracy: 0.2\n",
            "  node_ip: 172.28.0.2\n",
            "  pid: 4300\n",
            "  time_since_restore: 523.0532999038696\n",
            "  time_this_iter_s: 25.803537368774414\n",
            "  time_total_s: 1774.7189962863922\n",
            "  timestamp: 1578945715\n",
            "  timesteps_since_restore: 0\n",
            "  training_iteration: 47\n",
            "  trial_id: 832a3402\n",
            "  \n"
          ],
          "name": "stdout"
        },
        {
          "output_type": "display_data",
          "data": {
            "text/html": [
              "== Status ==<br>Memory usage on this node: 1.4/12.7 GiB<br>Using HyperBand: num_stopped=3 total_brackets=1\n",
              "Round #0:\n",
              "  Bracket(Max Size (n)=1, Milestone (r)=54, completed=27.2%): {RUNNING: 1, TERMINATED: 3} <br>Resources requested: 1/2 CPUs, 0/0 GPUs, 0.0/6.1 GiB heap, 0.0/2.1 GiB objects<br>Result logdir: /root/ray_results/XGBoost_trainable<br>Number of trials: 4 (3 TERMINATED, 1 RUNNING)<br><table>\n",
              "<thead>\n",
              "<tr><th>Trial name                </th><th>status    </th><th>loc            </th><th>grow_policy  </th><th style=\"text-align: right;\">      eta</th><th style=\"text-align: right;\">   gamma</th><th style=\"text-align: right;\">  max_depth</th><th style=\"text-align: right;\">  iter</th><th style=\"text-align: right;\">  total time (s)</th><th style=\"text-align: right;\">  acc</th></tr>\n",
              "</thead>\n",
              "<tbody>\n",
              "<tr><td>XGBoost_trainable_82b61090</td><td>TERMINATED</td><td>               </td><td>lossguide    </td><td style=\"text-align: right;\">0.0105708</td><td style=\"text-align: right;\">0.406448</td><td style=\"text-align: right;\">          8</td><td style=\"text-align: right;\">     9</td><td style=\"text-align: right;\">         770.978</td><td style=\"text-align: right;\">  0.2</td></tr>\n",
              "<tr><td>XGBoost_trainable_82dfcba6</td><td>TERMINATED</td><td>               </td><td>lossguide    </td><td style=\"text-align: right;\">0.0556884</td><td style=\"text-align: right;\">0.529778</td><td style=\"text-align: right;\">          8</td><td style=\"text-align: right;\">    27</td><td style=\"text-align: right;\">        3571.55 </td><td style=\"text-align: right;\">  0.2</td></tr>\n",
              "<tr><td>XGBoost_trainable_83046f9c</td><td>TERMINATED</td><td>               </td><td>depthwise    </td><td style=\"text-align: right;\">0.0632253</td><td style=\"text-align: right;\">0.878173</td><td style=\"text-align: right;\">          4</td><td style=\"text-align: right;\">    27</td><td style=\"text-align: right;\">        3114.75 </td><td style=\"text-align: right;\">  0.2</td></tr>\n",
              "<tr><td>XGBoost_trainable_832a3402</td><td>RUNNING   </td><td>172.28.0.2:4300</td><td>depthwise    </td><td style=\"text-align: right;\">0.0314498</td><td style=\"text-align: right;\">0.892913</td><td style=\"text-align: right;\">          1</td><td style=\"text-align: right;\">    47</td><td style=\"text-align: right;\">        1774.72 </td><td style=\"text-align: right;\">  0.2</td></tr>\n",
              "</tbody>\n",
              "</table><br><br>"
            ],
            "text/plain": [
              "<IPython.core.display.HTML object>"
            ]
          },
          "metadata": {
            "tags": []
          }
        },
        {
          "output_type": "stream",
          "text": [
            "Result for XGBoost_trainable_832a3402:\n",
            "  date: 2020-01-13_20-02-21\n",
            "  done: false\n",
            "  experiment_id: dba50441a96149289476f25c4382c3e2\n",
            "  experiment_tag: 4_eta=0.03145,gamma=0.89291,grow_policy=depthwise,max_depth=1\n",
            "  hostname: 9991d65102f3\n",
            "  iterations_since_restore: 21\n",
            "  mean_accuracy: 0.2\n",
            "  node_ip: 172.28.0.2\n",
            "  pid: 4300\n",
            "  time_since_restore: 548.7642195224762\n",
            "  time_this_iter_s: 25.710919618606567\n",
            "  time_total_s: 1800.4299159049988\n",
            "  timestamp: 1578945741\n",
            "  timesteps_since_restore: 0\n",
            "  training_iteration: 48\n",
            "  trial_id: 832a3402\n",
            "  \n"
          ],
          "name": "stdout"
        },
        {
          "output_type": "display_data",
          "data": {
            "text/html": [
              "== Status ==<br>Memory usage on this node: 1.4/12.7 GiB<br>Using HyperBand: num_stopped=3 total_brackets=1\n",
              "Round #0:\n",
              "  Bracket(Max Size (n)=1, Milestone (r)=54, completed=27.5%): {RUNNING: 1, TERMINATED: 3} <br>Resources requested: 1/2 CPUs, 0/0 GPUs, 0.0/6.1 GiB heap, 0.0/2.1 GiB objects<br>Result logdir: /root/ray_results/XGBoost_trainable<br>Number of trials: 4 (3 TERMINATED, 1 RUNNING)<br><table>\n",
              "<thead>\n",
              "<tr><th>Trial name                </th><th>status    </th><th>loc            </th><th>grow_policy  </th><th style=\"text-align: right;\">      eta</th><th style=\"text-align: right;\">   gamma</th><th style=\"text-align: right;\">  max_depth</th><th style=\"text-align: right;\">  iter</th><th style=\"text-align: right;\">  total time (s)</th><th style=\"text-align: right;\">  acc</th></tr>\n",
              "</thead>\n",
              "<tbody>\n",
              "<tr><td>XGBoost_trainable_82b61090</td><td>TERMINATED</td><td>               </td><td>lossguide    </td><td style=\"text-align: right;\">0.0105708</td><td style=\"text-align: right;\">0.406448</td><td style=\"text-align: right;\">          8</td><td style=\"text-align: right;\">     9</td><td style=\"text-align: right;\">         770.978</td><td style=\"text-align: right;\">  0.2</td></tr>\n",
              "<tr><td>XGBoost_trainable_82dfcba6</td><td>TERMINATED</td><td>               </td><td>lossguide    </td><td style=\"text-align: right;\">0.0556884</td><td style=\"text-align: right;\">0.529778</td><td style=\"text-align: right;\">          8</td><td style=\"text-align: right;\">    27</td><td style=\"text-align: right;\">        3571.55 </td><td style=\"text-align: right;\">  0.2</td></tr>\n",
              "<tr><td>XGBoost_trainable_83046f9c</td><td>TERMINATED</td><td>               </td><td>depthwise    </td><td style=\"text-align: right;\">0.0632253</td><td style=\"text-align: right;\">0.878173</td><td style=\"text-align: right;\">          4</td><td style=\"text-align: right;\">    27</td><td style=\"text-align: right;\">        3114.75 </td><td style=\"text-align: right;\">  0.2</td></tr>\n",
              "<tr><td>XGBoost_trainable_832a3402</td><td>RUNNING   </td><td>172.28.0.2:4300</td><td>depthwise    </td><td style=\"text-align: right;\">0.0314498</td><td style=\"text-align: right;\">0.892913</td><td style=\"text-align: right;\">          1</td><td style=\"text-align: right;\">    48</td><td style=\"text-align: right;\">        1800.43 </td><td style=\"text-align: right;\">  0.2</td></tr>\n",
              "</tbody>\n",
              "</table><br><br>"
            ],
            "text/plain": [
              "<IPython.core.display.HTML object>"
            ]
          },
          "metadata": {
            "tags": []
          }
        },
        {
          "output_type": "stream",
          "text": [
            "Result for XGBoost_trainable_832a3402:\n",
            "  date: 2020-01-13_20-02-47\n",
            "  done: false\n",
            "  experiment_id: dba50441a96149289476f25c4382c3e2\n",
            "  experiment_tag: 4_eta=0.03145,gamma=0.89291,grow_policy=depthwise,max_depth=1\n",
            "  hostname: 9991d65102f3\n",
            "  iterations_since_restore: 22\n",
            "  mean_accuracy: 0.2\n",
            "  node_ip: 172.28.0.2\n",
            "  pid: 4300\n",
            "  time_since_restore: 575.2932796478271\n",
            "  time_this_iter_s: 26.529060125350952\n",
            "  time_total_s: 1826.9589760303497\n",
            "  timestamp: 1578945767\n",
            "  timesteps_since_restore: 0\n",
            "  training_iteration: 49\n",
            "  trial_id: 832a3402\n",
            "  \n"
          ],
          "name": "stdout"
        },
        {
          "output_type": "display_data",
          "data": {
            "text/html": [
              "== Status ==<br>Memory usage on this node: 1.4/12.7 GiB<br>Using HyperBand: num_stopped=3 total_brackets=1\n",
              "Round #0:\n",
              "  Bracket(Max Size (n)=1, Milestone (r)=54, completed=27.7%): {RUNNING: 1, TERMINATED: 3} <br>Resources requested: 1/2 CPUs, 0/0 GPUs, 0.0/6.1 GiB heap, 0.0/2.1 GiB objects<br>Result logdir: /root/ray_results/XGBoost_trainable<br>Number of trials: 4 (3 TERMINATED, 1 RUNNING)<br><table>\n",
              "<thead>\n",
              "<tr><th>Trial name                </th><th>status    </th><th>loc            </th><th>grow_policy  </th><th style=\"text-align: right;\">      eta</th><th style=\"text-align: right;\">   gamma</th><th style=\"text-align: right;\">  max_depth</th><th style=\"text-align: right;\">  iter</th><th style=\"text-align: right;\">  total time (s)</th><th style=\"text-align: right;\">  acc</th></tr>\n",
              "</thead>\n",
              "<tbody>\n",
              "<tr><td>XGBoost_trainable_82b61090</td><td>TERMINATED</td><td>               </td><td>lossguide    </td><td style=\"text-align: right;\">0.0105708</td><td style=\"text-align: right;\">0.406448</td><td style=\"text-align: right;\">          8</td><td style=\"text-align: right;\">     9</td><td style=\"text-align: right;\">         770.978</td><td style=\"text-align: right;\">  0.2</td></tr>\n",
              "<tr><td>XGBoost_trainable_82dfcba6</td><td>TERMINATED</td><td>               </td><td>lossguide    </td><td style=\"text-align: right;\">0.0556884</td><td style=\"text-align: right;\">0.529778</td><td style=\"text-align: right;\">          8</td><td style=\"text-align: right;\">    27</td><td style=\"text-align: right;\">        3571.55 </td><td style=\"text-align: right;\">  0.2</td></tr>\n",
              "<tr><td>XGBoost_trainable_83046f9c</td><td>TERMINATED</td><td>               </td><td>depthwise    </td><td style=\"text-align: right;\">0.0632253</td><td style=\"text-align: right;\">0.878173</td><td style=\"text-align: right;\">          4</td><td style=\"text-align: right;\">    27</td><td style=\"text-align: right;\">        3114.75 </td><td style=\"text-align: right;\">  0.2</td></tr>\n",
              "<tr><td>XGBoost_trainable_832a3402</td><td>RUNNING   </td><td>172.28.0.2:4300</td><td>depthwise    </td><td style=\"text-align: right;\">0.0314498</td><td style=\"text-align: right;\">0.892913</td><td style=\"text-align: right;\">          1</td><td style=\"text-align: right;\">    49</td><td style=\"text-align: right;\">        1826.96 </td><td style=\"text-align: right;\">  0.2</td></tr>\n",
              "</tbody>\n",
              "</table><br><br>"
            ],
            "text/plain": [
              "<IPython.core.display.HTML object>"
            ]
          },
          "metadata": {
            "tags": []
          }
        },
        {
          "output_type": "stream",
          "text": [
            "Result for XGBoost_trainable_832a3402:\n",
            "  date: 2020-01-13_20-03-13\n",
            "  done: false\n",
            "  experiment_id: dba50441a96149289476f25c4382c3e2\n",
            "  experiment_tag: 4_eta=0.03145,gamma=0.89291,grow_policy=depthwise,max_depth=1\n",
            "  hostname: 9991d65102f3\n",
            "  iterations_since_restore: 23\n",
            "  mean_accuracy: 0.2\n",
            "  node_ip: 172.28.0.2\n",
            "  pid: 4300\n",
            "  time_since_restore: 601.4398803710938\n",
            "  time_this_iter_s: 26.1466007232666\n",
            "  time_total_s: 1853.1055767536163\n",
            "  timestamp: 1578945793\n",
            "  timesteps_since_restore: 0\n",
            "  training_iteration: 50\n",
            "  trial_id: 832a3402\n",
            "  \n"
          ],
          "name": "stdout"
        },
        {
          "output_type": "display_data",
          "data": {
            "text/html": [
              "== Status ==<br>Memory usage on this node: 1.4/12.7 GiB<br>Using HyperBand: num_stopped=3 total_brackets=1\n",
              "Round #0:\n",
              "  Bracket(Max Size (n)=1, Milestone (r)=54, completed=28.0%): {RUNNING: 1, TERMINATED: 3} <br>Resources requested: 1/2 CPUs, 0/0 GPUs, 0.0/6.1 GiB heap, 0.0/2.1 GiB objects<br>Result logdir: /root/ray_results/XGBoost_trainable<br>Number of trials: 4 (3 TERMINATED, 1 RUNNING)<br><table>\n",
              "<thead>\n",
              "<tr><th>Trial name                </th><th>status    </th><th>loc            </th><th>grow_policy  </th><th style=\"text-align: right;\">      eta</th><th style=\"text-align: right;\">   gamma</th><th style=\"text-align: right;\">  max_depth</th><th style=\"text-align: right;\">  iter</th><th style=\"text-align: right;\">  total time (s)</th><th style=\"text-align: right;\">  acc</th></tr>\n",
              "</thead>\n",
              "<tbody>\n",
              "<tr><td>XGBoost_trainable_82b61090</td><td>TERMINATED</td><td>               </td><td>lossguide    </td><td style=\"text-align: right;\">0.0105708</td><td style=\"text-align: right;\">0.406448</td><td style=\"text-align: right;\">          8</td><td style=\"text-align: right;\">     9</td><td style=\"text-align: right;\">         770.978</td><td style=\"text-align: right;\">  0.2</td></tr>\n",
              "<tr><td>XGBoost_trainable_82dfcba6</td><td>TERMINATED</td><td>               </td><td>lossguide    </td><td style=\"text-align: right;\">0.0556884</td><td style=\"text-align: right;\">0.529778</td><td style=\"text-align: right;\">          8</td><td style=\"text-align: right;\">    27</td><td style=\"text-align: right;\">        3571.55 </td><td style=\"text-align: right;\">  0.2</td></tr>\n",
              "<tr><td>XGBoost_trainable_83046f9c</td><td>TERMINATED</td><td>               </td><td>depthwise    </td><td style=\"text-align: right;\">0.0632253</td><td style=\"text-align: right;\">0.878173</td><td style=\"text-align: right;\">          4</td><td style=\"text-align: right;\">    27</td><td style=\"text-align: right;\">        3114.75 </td><td style=\"text-align: right;\">  0.2</td></tr>\n",
              "<tr><td>XGBoost_trainable_832a3402</td><td>RUNNING   </td><td>172.28.0.2:4300</td><td>depthwise    </td><td style=\"text-align: right;\">0.0314498</td><td style=\"text-align: right;\">0.892913</td><td style=\"text-align: right;\">          1</td><td style=\"text-align: right;\">    50</td><td style=\"text-align: right;\">        1853.11 </td><td style=\"text-align: right;\">  0.2</td></tr>\n",
              "</tbody>\n",
              "</table><br><br>"
            ],
            "text/plain": [
              "<IPython.core.display.HTML object>"
            ]
          },
          "metadata": {
            "tags": []
          }
        },
        {
          "output_type": "stream",
          "text": [
            "Result for XGBoost_trainable_832a3402:\n",
            "  date: 2020-01-13_20-03-39\n",
            "  done: false\n",
            "  experiment_id: dba50441a96149289476f25c4382c3e2\n",
            "  experiment_tag: 4_eta=0.03145,gamma=0.89291,grow_policy=depthwise,max_depth=1\n",
            "  hostname: 9991d65102f3\n",
            "  iterations_since_restore: 24\n",
            "  mean_accuracy: 0.2\n",
            "  node_ip: 172.28.0.2\n",
            "  pid: 4300\n",
            "  time_since_restore: 627.3964593410492\n",
            "  time_this_iter_s: 25.956578969955444\n",
            "  time_total_s: 1879.0621557235718\n",
            "  timestamp: 1578945819\n",
            "  timesteps_since_restore: 0\n",
            "  training_iteration: 51\n",
            "  trial_id: 832a3402\n",
            "  \n"
          ],
          "name": "stdout"
        },
        {
          "output_type": "display_data",
          "data": {
            "text/html": [
              "== Status ==<br>Memory usage on this node: 1.4/12.7 GiB<br>Using HyperBand: num_stopped=3 total_brackets=1\n",
              "Round #0:\n",
              "  Bracket(Max Size (n)=1, Milestone (r)=54, completed=28.2%): {RUNNING: 1, TERMINATED: 3} <br>Resources requested: 1/2 CPUs, 0/0 GPUs, 0.0/6.1 GiB heap, 0.0/2.1 GiB objects<br>Result logdir: /root/ray_results/XGBoost_trainable<br>Number of trials: 4 (3 TERMINATED, 1 RUNNING)<br><table>\n",
              "<thead>\n",
              "<tr><th>Trial name                </th><th>status    </th><th>loc            </th><th>grow_policy  </th><th style=\"text-align: right;\">      eta</th><th style=\"text-align: right;\">   gamma</th><th style=\"text-align: right;\">  max_depth</th><th style=\"text-align: right;\">  iter</th><th style=\"text-align: right;\">  total time (s)</th><th style=\"text-align: right;\">  acc</th></tr>\n",
              "</thead>\n",
              "<tbody>\n",
              "<tr><td>XGBoost_trainable_82b61090</td><td>TERMINATED</td><td>               </td><td>lossguide    </td><td style=\"text-align: right;\">0.0105708</td><td style=\"text-align: right;\">0.406448</td><td style=\"text-align: right;\">          8</td><td style=\"text-align: right;\">     9</td><td style=\"text-align: right;\">         770.978</td><td style=\"text-align: right;\">  0.2</td></tr>\n",
              "<tr><td>XGBoost_trainable_82dfcba6</td><td>TERMINATED</td><td>               </td><td>lossguide    </td><td style=\"text-align: right;\">0.0556884</td><td style=\"text-align: right;\">0.529778</td><td style=\"text-align: right;\">          8</td><td style=\"text-align: right;\">    27</td><td style=\"text-align: right;\">        3571.55 </td><td style=\"text-align: right;\">  0.2</td></tr>\n",
              "<tr><td>XGBoost_trainable_83046f9c</td><td>TERMINATED</td><td>               </td><td>depthwise    </td><td style=\"text-align: right;\">0.0632253</td><td style=\"text-align: right;\">0.878173</td><td style=\"text-align: right;\">          4</td><td style=\"text-align: right;\">    27</td><td style=\"text-align: right;\">        3114.75 </td><td style=\"text-align: right;\">  0.2</td></tr>\n",
              "<tr><td>XGBoost_trainable_832a3402</td><td>RUNNING   </td><td>172.28.0.2:4300</td><td>depthwise    </td><td style=\"text-align: right;\">0.0314498</td><td style=\"text-align: right;\">0.892913</td><td style=\"text-align: right;\">          1</td><td style=\"text-align: right;\">    51</td><td style=\"text-align: right;\">        1879.06 </td><td style=\"text-align: right;\">  0.2</td></tr>\n",
              "</tbody>\n",
              "</table><br><br>"
            ],
            "text/plain": [
              "<IPython.core.display.HTML object>"
            ]
          },
          "metadata": {
            "tags": []
          }
        },
        {
          "output_type": "stream",
          "text": [
            "Result for XGBoost_trainable_832a3402:\n",
            "  date: 2020-01-13_20-04-06\n",
            "  done: false\n",
            "  experiment_id: dba50441a96149289476f25c4382c3e2\n",
            "  experiment_tag: 4_eta=0.03145,gamma=0.89291,grow_policy=depthwise,max_depth=1\n",
            "  hostname: 9991d65102f3\n",
            "  iterations_since_restore: 25\n",
            "  mean_accuracy: 0.2\n",
            "  node_ip: 172.28.0.2\n",
            "  pid: 4300\n",
            "  time_since_restore: 653.8188309669495\n",
            "  time_this_iter_s: 26.42237162590027\n",
            "  time_total_s: 1905.484527349472\n",
            "  timestamp: 1578945846\n",
            "  timesteps_since_restore: 0\n",
            "  training_iteration: 52\n",
            "  trial_id: 832a3402\n",
            "  \n"
          ],
          "name": "stdout"
        },
        {
          "output_type": "display_data",
          "data": {
            "text/html": [
              "== Status ==<br>Memory usage on this node: 1.4/12.7 GiB<br>Using HyperBand: num_stopped=3 total_brackets=1\n",
              "Round #0:\n",
              "  Bracket(Max Size (n)=1, Milestone (r)=54, completed=28.5%): {RUNNING: 1, TERMINATED: 3} <br>Resources requested: 1/2 CPUs, 0/0 GPUs, 0.0/6.1 GiB heap, 0.0/2.1 GiB objects<br>Result logdir: /root/ray_results/XGBoost_trainable<br>Number of trials: 4 (3 TERMINATED, 1 RUNNING)<br><table>\n",
              "<thead>\n",
              "<tr><th>Trial name                </th><th>status    </th><th>loc            </th><th>grow_policy  </th><th style=\"text-align: right;\">      eta</th><th style=\"text-align: right;\">   gamma</th><th style=\"text-align: right;\">  max_depth</th><th style=\"text-align: right;\">  iter</th><th style=\"text-align: right;\">  total time (s)</th><th style=\"text-align: right;\">  acc</th></tr>\n",
              "</thead>\n",
              "<tbody>\n",
              "<tr><td>XGBoost_trainable_82b61090</td><td>TERMINATED</td><td>               </td><td>lossguide    </td><td style=\"text-align: right;\">0.0105708</td><td style=\"text-align: right;\">0.406448</td><td style=\"text-align: right;\">          8</td><td style=\"text-align: right;\">     9</td><td style=\"text-align: right;\">         770.978</td><td style=\"text-align: right;\">  0.2</td></tr>\n",
              "<tr><td>XGBoost_trainable_82dfcba6</td><td>TERMINATED</td><td>               </td><td>lossguide    </td><td style=\"text-align: right;\">0.0556884</td><td style=\"text-align: right;\">0.529778</td><td style=\"text-align: right;\">          8</td><td style=\"text-align: right;\">    27</td><td style=\"text-align: right;\">        3571.55 </td><td style=\"text-align: right;\">  0.2</td></tr>\n",
              "<tr><td>XGBoost_trainable_83046f9c</td><td>TERMINATED</td><td>               </td><td>depthwise    </td><td style=\"text-align: right;\">0.0632253</td><td style=\"text-align: right;\">0.878173</td><td style=\"text-align: right;\">          4</td><td style=\"text-align: right;\">    27</td><td style=\"text-align: right;\">        3114.75 </td><td style=\"text-align: right;\">  0.2</td></tr>\n",
              "<tr><td>XGBoost_trainable_832a3402</td><td>RUNNING   </td><td>172.28.0.2:4300</td><td>depthwise    </td><td style=\"text-align: right;\">0.0314498</td><td style=\"text-align: right;\">0.892913</td><td style=\"text-align: right;\">          1</td><td style=\"text-align: right;\">    52</td><td style=\"text-align: right;\">        1905.48 </td><td style=\"text-align: right;\">  0.2</td></tr>\n",
              "</tbody>\n",
              "</table><br><br>"
            ],
            "text/plain": [
              "<IPython.core.display.HTML object>"
            ]
          },
          "metadata": {
            "tags": []
          }
        },
        {
          "output_type": "stream",
          "text": [
            "Result for XGBoost_trainable_832a3402:\n",
            "  date: 2020-01-13_20-04-32\n",
            "  done: false\n",
            "  experiment_id: dba50441a96149289476f25c4382c3e2\n",
            "  experiment_tag: 4_eta=0.03145,gamma=0.89291,grow_policy=depthwise,max_depth=1\n",
            "  hostname: 9991d65102f3\n",
            "  iterations_since_restore: 26\n",
            "  mean_accuracy: 0.2\n",
            "  node_ip: 172.28.0.2\n",
            "  pid: 4300\n",
            "  time_since_restore: 679.86567902565\n",
            "  time_this_iter_s: 26.04684805870056\n",
            "  time_total_s: 1931.5313754081726\n",
            "  timestamp: 1578945872\n",
            "  timesteps_since_restore: 0\n",
            "  training_iteration: 53\n",
            "  trial_id: 832a3402\n",
            "  \n"
          ],
          "name": "stdout"
        },
        {
          "output_type": "display_data",
          "data": {
            "text/html": [
              "== Status ==<br>Memory usage on this node: 1.4/12.7 GiB<br>Using HyperBand: num_stopped=3 total_brackets=1\n",
              "Round #0:\n",
              "  Bracket(Max Size (n)=1, Milestone (r)=54, completed=28.7%): {RUNNING: 1, TERMINATED: 3} <br>Resources requested: 1/2 CPUs, 0/0 GPUs, 0.0/6.1 GiB heap, 0.0/2.1 GiB objects<br>Result logdir: /root/ray_results/XGBoost_trainable<br>Number of trials: 4 (3 TERMINATED, 1 RUNNING)<br><table>\n",
              "<thead>\n",
              "<tr><th>Trial name                </th><th>status    </th><th>loc            </th><th>grow_policy  </th><th style=\"text-align: right;\">      eta</th><th style=\"text-align: right;\">   gamma</th><th style=\"text-align: right;\">  max_depth</th><th style=\"text-align: right;\">  iter</th><th style=\"text-align: right;\">  total time (s)</th><th style=\"text-align: right;\">  acc</th></tr>\n",
              "</thead>\n",
              "<tbody>\n",
              "<tr><td>XGBoost_trainable_82b61090</td><td>TERMINATED</td><td>               </td><td>lossguide    </td><td style=\"text-align: right;\">0.0105708</td><td style=\"text-align: right;\">0.406448</td><td style=\"text-align: right;\">          8</td><td style=\"text-align: right;\">     9</td><td style=\"text-align: right;\">         770.978</td><td style=\"text-align: right;\">  0.2</td></tr>\n",
              "<tr><td>XGBoost_trainable_82dfcba6</td><td>TERMINATED</td><td>               </td><td>lossguide    </td><td style=\"text-align: right;\">0.0556884</td><td style=\"text-align: right;\">0.529778</td><td style=\"text-align: right;\">          8</td><td style=\"text-align: right;\">    27</td><td style=\"text-align: right;\">        3571.55 </td><td style=\"text-align: right;\">  0.2</td></tr>\n",
              "<tr><td>XGBoost_trainable_83046f9c</td><td>TERMINATED</td><td>               </td><td>depthwise    </td><td style=\"text-align: right;\">0.0632253</td><td style=\"text-align: right;\">0.878173</td><td style=\"text-align: right;\">          4</td><td style=\"text-align: right;\">    27</td><td style=\"text-align: right;\">        3114.75 </td><td style=\"text-align: right;\">  0.2</td></tr>\n",
              "<tr><td>XGBoost_trainable_832a3402</td><td>RUNNING   </td><td>172.28.0.2:4300</td><td>depthwise    </td><td style=\"text-align: right;\">0.0314498</td><td style=\"text-align: right;\">0.892913</td><td style=\"text-align: right;\">          1</td><td style=\"text-align: right;\">    53</td><td style=\"text-align: right;\">        1931.53 </td><td style=\"text-align: right;\">  0.2</td></tr>\n",
              "</tbody>\n",
              "</table><br><br>"
            ],
            "text/plain": [
              "<IPython.core.display.HTML object>"
            ]
          },
          "metadata": {
            "tags": []
          }
        },
        {
          "output_type": "stream",
          "text": [
            "Result for XGBoost_trainable_832a3402:\n",
            "  date: 2020-01-13_20-04-58\n",
            "  done: true\n",
            "  experiment_id: dba50441a96149289476f25c4382c3e2\n",
            "  experiment_tag: 4_eta=0.03145,gamma=0.89291,grow_policy=depthwise,max_depth=1\n",
            "  hostname: 9991d65102f3\n",
            "  iterations_since_restore: 27\n",
            "  mean_accuracy: 0.2\n",
            "  node_ip: 172.28.0.2\n",
            "  pid: 4300\n",
            "  time_since_restore: 705.9188516139984\n",
            "  time_this_iter_s: 26.05317258834839\n",
            "  time_total_s: 1957.584547996521\n",
            "  timestamp: 1578945898\n",
            "  timesteps_since_restore: 0\n",
            "  training_iteration: 54\n",
            "  trial_id: 832a3402\n",
            "  \n"
          ],
          "name": "stdout"
        },
        {
          "output_type": "display_data",
          "data": {
            "text/html": [
              "== Status ==<br>Memory usage on this node: 1.4/12.7 GiB<br>Using HyperBand: num_stopped=3 total_brackets=1\n",
              "Round #0:\n",
              "  Bracket(Max Size (n)=1, Milestone (r)=54, completed=100.0%): {TERMINATED: 4} <br>Resources requested: 0/2 CPUs, 0/0 GPUs, 0.0/6.1 GiB heap, 0.0/2.1 GiB objects<br>Result logdir: /root/ray_results/XGBoost_trainable<br>Number of trials: 4 (4 TERMINATED)<br><table>\n",
              "<thead>\n",
              "<tr><th>Trial name                </th><th>status    </th><th>loc  </th><th>grow_policy  </th><th style=\"text-align: right;\">      eta</th><th style=\"text-align: right;\">   gamma</th><th style=\"text-align: right;\">  max_depth</th><th style=\"text-align: right;\">  iter</th><th style=\"text-align: right;\">  total time (s)</th><th style=\"text-align: right;\">  acc</th></tr>\n",
              "</thead>\n",
              "<tbody>\n",
              "<tr><td>XGBoost_trainable_82b61090</td><td>TERMINATED</td><td>     </td><td>lossguide    </td><td style=\"text-align: right;\">0.0105708</td><td style=\"text-align: right;\">0.406448</td><td style=\"text-align: right;\">          8</td><td style=\"text-align: right;\">     9</td><td style=\"text-align: right;\">         770.978</td><td style=\"text-align: right;\">  0.2</td></tr>\n",
              "<tr><td>XGBoost_trainable_82dfcba6</td><td>TERMINATED</td><td>     </td><td>lossguide    </td><td style=\"text-align: right;\">0.0556884</td><td style=\"text-align: right;\">0.529778</td><td style=\"text-align: right;\">          8</td><td style=\"text-align: right;\">    27</td><td style=\"text-align: right;\">        3571.55 </td><td style=\"text-align: right;\">  0.2</td></tr>\n",
              "<tr><td>XGBoost_trainable_83046f9c</td><td>TERMINATED</td><td>     </td><td>depthwise    </td><td style=\"text-align: right;\">0.0632253</td><td style=\"text-align: right;\">0.878173</td><td style=\"text-align: right;\">          4</td><td style=\"text-align: right;\">    27</td><td style=\"text-align: right;\">        3114.75 </td><td style=\"text-align: right;\">  0.2</td></tr>\n",
              "<tr><td>XGBoost_trainable_832a3402</td><td>TERMINATED</td><td>     </td><td>depthwise    </td><td style=\"text-align: right;\">0.0314498</td><td style=\"text-align: right;\">0.892913</td><td style=\"text-align: right;\">          1</td><td style=\"text-align: right;\">    54</td><td style=\"text-align: right;\">        1957.58 </td><td style=\"text-align: right;\">  0.2</td></tr>\n",
              "</tbody>\n",
              "</table><br><br>"
            ],
            "text/plain": [
              "<IPython.core.display.HTML object>"
            ]
          },
          "metadata": {
            "tags": []
          }
        },
        {
          "output_type": "display_data",
          "data": {
            "text/html": [
              "== Status ==<br>Memory usage on this node: 1.4/12.7 GiB<br>Using HyperBand: num_stopped=3 total_brackets=1\n",
              "Round #0:\n",
              "  Bracket(Max Size (n)=1, Milestone (r)=54, completed=100.0%): {TERMINATED: 4} <br>Resources requested: 0/2 CPUs, 0/0 GPUs, 0.0/6.1 GiB heap, 0.0/2.1 GiB objects<br>Result logdir: /root/ray_results/XGBoost_trainable<br>Number of trials: 4 (4 TERMINATED)<br><table>\n",
              "<thead>\n",
              "<tr><th>Trial name                </th><th>status    </th><th>loc  </th><th>grow_policy  </th><th style=\"text-align: right;\">      eta</th><th style=\"text-align: right;\">   gamma</th><th style=\"text-align: right;\">  max_depth</th><th style=\"text-align: right;\">  iter</th><th style=\"text-align: right;\">  total time (s)</th><th style=\"text-align: right;\">  acc</th></tr>\n",
              "</thead>\n",
              "<tbody>\n",
              "<tr><td>XGBoost_trainable_82b61090</td><td>TERMINATED</td><td>     </td><td>lossguide    </td><td style=\"text-align: right;\">0.0105708</td><td style=\"text-align: right;\">0.406448</td><td style=\"text-align: right;\">          8</td><td style=\"text-align: right;\">     9</td><td style=\"text-align: right;\">         770.978</td><td style=\"text-align: right;\">  0.2</td></tr>\n",
              "<tr><td>XGBoost_trainable_82dfcba6</td><td>TERMINATED</td><td>     </td><td>lossguide    </td><td style=\"text-align: right;\">0.0556884</td><td style=\"text-align: right;\">0.529778</td><td style=\"text-align: right;\">          8</td><td style=\"text-align: right;\">    27</td><td style=\"text-align: right;\">        3571.55 </td><td style=\"text-align: right;\">  0.2</td></tr>\n",
              "<tr><td>XGBoost_trainable_83046f9c</td><td>TERMINATED</td><td>     </td><td>depthwise    </td><td style=\"text-align: right;\">0.0632253</td><td style=\"text-align: right;\">0.878173</td><td style=\"text-align: right;\">          4</td><td style=\"text-align: right;\">    27</td><td style=\"text-align: right;\">        3114.75 </td><td style=\"text-align: right;\">  0.2</td></tr>\n",
              "<tr><td>XGBoost_trainable_832a3402</td><td>TERMINATED</td><td>     </td><td>depthwise    </td><td style=\"text-align: right;\">0.0314498</td><td style=\"text-align: right;\">0.892913</td><td style=\"text-align: right;\">          1</td><td style=\"text-align: right;\">    54</td><td style=\"text-align: right;\">        1957.58 </td><td style=\"text-align: right;\">  0.2</td></tr>\n",
              "</tbody>\n",
              "</table><br><br>"
            ],
            "text/plain": [
              "<IPython.core.display.HTML object>"
            ]
          },
          "metadata": {
            "tags": []
          }
        },
        {
          "output_type": "stream",
          "text": [
            "2020-01-13 20:04:58,245\tINFO tune.py:334 -- Returning an analysis object by default. You can call `analysis.trials` to retrieve a list of trials. This message will be removed in future versions of Tune.\n"
          ],
          "name": "stderr"
        },
        {
          "output_type": "execute_result",
          "data": {
            "text/plain": [
              "<ray.tune.analysis.experiment_analysis.ExperimentAnalysis at 0x7f58687b9dd8>"
            ]
          },
          "metadata": {
            "tags": []
          },
          "execution_count": 18
        }
      ]
    }
  ]
}